{
 "cells": [
  {
   "cell_type": "raw",
   "id": "33dd6c4c",
   "metadata": {},
   "source": [
    "---\n",
    "title: \"Project Code\"\n",
    "subtitle: Team Saturn\n",
    "author: Kaitlyn Hung, Amy Wang, Anastasia Wei, and Lila Wells \n",
    "date: 03/13/2023\n",
    "number-sections: true\n",
    "abstract: _This file contains the code for the project on Exploring the Relationship Between Hospital Stays and the Readmission of Diabetic Patients, as part of the STAT 303-2 course in Winter 2023_.\n",
    "format: \n",
    "  html:\n",
    "    toc: true\n",
    "    toc-title: Contents\n",
    "    self-contained: true\n",
    "    font-size: 100%\n",
    "    toc-depth: 4\n",
    "    mainfont: serif\n",
    "jupyter: python3\n",
    "---"
   ]
  },
  {
   "cell_type": "markdown",
   "id": "fe7ea9bb",
   "metadata": {},
   "source": [
    "## Data quality check / cleaning / preparation "
   ]
  },
  {
   "cell_type": "markdown",
   "id": "db149d8b",
   "metadata": {},
   "source": [
    "### Data quality check\n",
    "*By Lila Wells*"
   ]
  },
  {
   "cell_type": "markdown",
   "id": "fbc82e7f",
   "metadata": {},
   "source": [
    "The code below visualizes the distribution of all the variables in the dataset, and their association with the response."
   ]
  },
  {
   "cell_type": "code",
   "execution_count": 6,
   "id": "1524ece7",
   "metadata": {},
   "outputs": [],
   "source": [
    "# Loading relevant libraries \n",
    "import pandas as pd\n",
    "import numpy as np\n",
    "import seaborn as sns\n",
    "import matplotlib.pyplot as plt\n",
    "from tqdm import tqdm\n",
    "import random\n",
    "import statsmodels.formula.api as sm\n",
    "\n",
    "\n",
    "# Loading the data\n",
    "data = pd.read_csv(\"dataset_diabetes/diabetic_data.csv\")\n",
    "ID = pd.read_csv('dataset_diabetes/IDs_mapping.csv')"
   ]
  },
  {
   "cell_type": "code",
   "execution_count": 7,
   "id": "5955618d",
   "metadata": {},
   "outputs": [
    {
     "data": {
      "text/plain": [
       "count    101766.000000\n",
       "mean          4.395987\n",
       "std           2.985108\n",
       "min           1.000000\n",
       "25%           2.000000\n",
       "50%           4.000000\n",
       "75%           6.000000\n",
       "max          14.000000\n",
       "Name: time_in_hospital, dtype: float64"
      ]
     },
     "execution_count": 7,
     "metadata": {},
     "output_type": "execute_result"
    }
   ],
   "source": [
    "#...Distribution of continuous variables...#\n",
    "\n",
    "# num_lab_procedures (continuous variable)\n",
    "data.num_lab_procedures.isnull().sum() # No missing values\n",
    "data.num_lab_procedures.describe() # count = 101766.000000, mean = 43.095641, std = 19.674362, min = 1.000000, 25% = 31.000000, 50% = 44.000000, 75% = 57.000000, max = 132.000000\n",
    "\n",
    "# num_procedures (continuous variable)\n",
    "data.num_procedures.isnull().sum() # No missing values\n",
    "data.num_procedures.describe() # count = 101766.000000, mean = 1.339730, std = 1.705807, min = 0.000000, 25% = 0.000000, 50% = 1.000000, 75% = 2.000000, max = 6.000000\n",
    "\n",
    "# num_medications (continuous variable)\n",
    "data.num_medications.isnull().sum() # No missing values\n",
    "data.num_procedures.describe() # count = 101766.000000, mean = 1.339730, std = 1.705807, min = 0.000000, 25% = 0.000000, 50% = 1.000000, 75% = 2.000000, max = 6.000000\n",
    "\n",
    "# number_outpatient (continuous variable)\n",
    "data.number_outpatient.isnull().sum() # No missing values\n",
    "data.number_outpatient.describe() # count = 101766.000000, mean = 0.369357, std = 1.267265, min = 0.000000, 25% = 0.000000, 50% = 0.000000, 75% = 0.000000, max = 42.000000\n",
    "\n",
    "# number_emergency (continuous variable)\n",
    "data.number_emergency.isnull().sum() # No missing values\n",
    "data.number_emergency.describe() # count = 101766.000000, mean = 0.197836, std = 0.930472, min = 0.000000, 25% = 0.000000, 50% = 0.000000, 75% = 0.000000, max = 76.000000\n",
    "\n",
    "# number_inpatient (continous variable)\n",
    "data.number_inpatient.isnull().sum() # No missing values\n",
    "data.number_inpatient.describe() # count = 101766.000000, mean = 0.635566, std = 1.262863, min = 0.000000, 25% = 0.000000, 50% = 0.000000, 75% = 1.000000, max = 21.000000\n",
    "\n",
    "# number_diagnoses (continuous variable)\n",
    "data.number_diagnoses.isnull().sum() # No missing values\n",
    "data.number_diagnoses.describe() # count = 101766.000000, mean = 7.422607, std = 1.933600, min = 1.000000, 25% = 6.000000, 50% = 8.000000, 75% = 9.000000, max = 16.000000\n",
    "\n",
    "# age (continuous variable)\n",
    "data.age.isnull().sum() # No missing values\n",
    "data.age.describe() # count = 101766, unique = 10, top = [70-80), freq = 26068\n",
    "\n",
    "# time_in_hospital (continuous variable)\n",
    "data.time_in_hospital.isnull().sum() # No missing values\n",
    "data.time_in_hospital.describe() # count = 101766, mean = 4.395987, std = 2.985108, min = 1.000000, 25% = 2.000000, 50% = 4.000000, 75% = 6.000000, max = 14.000000"
   ]
  },
  {
   "cell_type": "code",
   "execution_count": 8,
   "id": "8faafdbf",
   "metadata": {
    "scrolled": true
   },
   "outputs": [
    {
     "data": {
      "text/plain": [
       "0"
      ]
     },
     "execution_count": 8,
     "metadata": {},
     "output_type": "execute_result"
    }
   ],
   "source": [
    "#...Distribution of categorical variables...#\n",
    "\n",
    "# Change (categorical variable)\n",
    "data.change.value_counts() # No : 54755, Ch : 47011\n",
    "data.change.isnull().sum() # No missing values \n",
    "\n",
    "# diabetesMed (categorical variable)\n",
    "data.diabetesMed.value_counts() # Yes : 78363, No : 23403\n",
    "data.diabetesMed.isnull().sum() # No missing values \n",
    "\n",
    "# diag_1 (categorical_variable)\n",
    "data.diag_1.value_counts() # 717 levels here \n",
    "data.diag_1.isnull().sum() # No missing values \n",
    "\n",
    "# diag_2 (categorical variable)\n",
    "data.diag_2.value_counts() # 749 levels here\n",
    "data.diag_2.isnull().sum() # No missing values \n",
    "\n",
    "# admission_source_id (categorical variable)\n",
    "data.admission_source_id.value_counts() # 17 levels here\n",
    "data.admission_source_id.isnull().sum() # No missing values \n",
    "\n",
    "# discharge_disposition_id (categorical variable)\n",
    "data.discharge_disposition_id.value_counts() # 26 levels here\n",
    "data.discharge_disposition_id.isnull().sum() # No missing values \n",
    "\n",
    "# admission_type_id (categorical variable)\n",
    "data.admission_type_id.value_counts() # {1 : 53990, 3 : 18869, 2 : 18480, 6 : 5291, 5 : 4785, 8 : 320, 7 : 21, 4 : 10}\n",
    "data.admission_type_id.isnull().sum() # No missing values "
   ]
  },
  {
   "cell_type": "code",
   "execution_count": 9,
   "id": "e389f4ef",
   "metadata": {},
   "outputs": [
    {
     "name": "stderr",
     "output_type": "stream",
     "text": [
      "/var/folders/25/jjvj1r3d1lj4q97f1twwhgkm0000gn/T/ipykernel_4118/3545912699.py:4: FutureWarning: The default value of numeric_only in DataFrame.corr is deprecated. In a future version, it will default to False. Select only valid columns or specify the value of numeric_only to silence this warning.\n",
      "  sns.heatmap(data=data.corr())\n"
     ]
    },
    {
     "data": {
      "image/png": "[encoded data removed]",
      "text/plain": [
       "<Figure size 640x480 with 2 Axes>"
      ]
     },
     "metadata": {},
     "output_type": "display_data"
    }
   ],
   "source": [
    "#...Association of the response with the predictors...#\n",
    "\n",
    "# Creating a heatmap to visualize the association between the response and predictors\n",
    "sns.heatmap(data=data.corr())\n",
    "plt.title('Heatmap of Correlations Between Continuous Variables')\n",
    "plt.savefig(\"heatmap_continuous.png\", dpi=300)\n"
   ]
  },
  {
   "cell_type": "markdown",
   "id": "d1561829",
   "metadata": {},
   "source": [
    "### Data Cleaning\n",
    "*By Anastasia Wei*\n",
    "\n",
    "From the data quality check we realized that:\n",
    "\n",
    "1. Two predictors, `weight`, and `medical specialty` have more than 50% missing values. We don't think it's reasonable to input the values as we do not know the underlying distributions of these two variables. Therefore, we decided to remove these two variables.\n",
    "\n",
    "2. The predictor `race` is missing 2% of its values, so we imputed it by randomly sampling the distribution of race in the remaining observations. \n",
    "\n",
    "The code below implements the above cleaning."
   ]
  },
  {
   "cell_type": "code",
   "execution_count": 10,
   "id": "46f73626",
   "metadata": {},
   "outputs": [
    {
     "name": "stdout",
     "output_type": "stream",
     "text": [
      "Length before removing Duplicates: 101766\n",
      "Length after removing Duplicates: 71518\n"
     ]
    }
   ],
   "source": [
    "######-----------Changing the IDs into a three column format------------#########\n",
    "IDs = pd.DataFrame(index = range(63), columns = ['ID_types', 'ID_num', 'Description'])\n",
    "\n",
    "IDs.loc[:8, 'ID_types'] = ['admission_type_id'] * 9\n",
    "IDs.loc[:8, 'ID_num'] = ID.loc[:8,'admission_type_id'].values\n",
    "IDs.loc[:8, 'Description'] = ID.loc[:8,'description'].values\n",
    "\n",
    "IDs.loc[8:38, 'ID_types'] = ['discharge_disposition_id'] * 31\n",
    "IDs.loc[8:38, 'ID_num'] = ID.loc[10:40,'admission_type_id'].values\n",
    "IDs.loc[8:38, 'Description'] = ID.loc[10:40,'description'].values\n",
    "\n",
    "IDs.loc[38:, 'ID_types'] = ['admission_source_id'] * 25\n",
    "IDs.loc[38:, 'ID_num'] = ID.loc[42:,'admission_type_id'].values\n",
    "IDs.loc[38:, 'Description'] = ID.loc[42:,'description'].values\n",
    "\n",
    "# Saving the cleaned IDs to a new csv file\n",
    "IDs.to_csv('IDs_clean.csv')\n",
    "\n",
    "######-----------Dropping the columns w/ more than 50% values missing------------#########\n",
    "data.drop(['weight','medical_specialty'], axis = 1, inplace = True)\n",
    "\n",
    "######-----------Removing duplicate records for the same patient------------#########\n",
    "print('Length before removing Duplicates:', len(data))\n",
    "data.drop_duplicates(['patient_nbr'], keep = 'first', inplace = True)\n",
    "print('Length after removing Duplicates:', len(data))\n",
    "\n",
    "######-----------Changing readmission to two levels instead of three------------#########\n",
    "\n",
    "# Checking the values of the readmitted column and changing it to two levels\n",
    "# Readmitted is defined here as '1' if the patient returns to hospital within 30 days\n",
    "data.readmitted.value_counts()\n",
    "data['readmitted'] = data['readmitted'].apply(lambda x: 0 if x == 'NO' or x == '>30'\n",
    "                                              else 1)\n",
    "\n",
    "######-----------Imputing Missing Values in Race by drawing randomly from the race in the observations------------#########\n",
    "\n",
    "# Checking the value counts of race and where values are missing \n",
    "races = data['race'].loc[data['race'] != '?'].values\n",
    "data['race'].value_counts()\n",
    "\n",
    "# Applying a lambda function to the race column to impute missing values \n",
    "data['race'] = data['race'].apply(lambda x: random.choice(races) if x == '?' else x)\n",
    "data['race'].value_counts()\n",
    "\n",
    "# Re-indexing\n",
    "data.index = np.arange(0,len(data))\n"
   ]
  },
  {
   "cell_type": "markdown",
   "id": "9b91a14e",
   "metadata": {},
   "source": [
    "### Data preparation\n",
    "*By Anastasia Wei*\n",
    "\n",
    "The following data preparation steps helped us to prepare our data for implementing various modeling / validation techniques:\n",
    "\n",
    "1. Changed each age interval to the middle of the interval\n",
    "2. Used domain knowledge about the diagnosis mapping to futher bin the `diag1`, `diag2`, and `diag3` predictors. \n",
    "3. Performed mapping on variables `admission_type_id`, `admission_source_id`, and `discharge_disposition_id.` Changing each from 8, 30, 25 distinct levels to 4, 6, and 8 distinct levels.\n",
    "4. Created a new variable `num_of_changes` to aggregate the number of changes in medications per patient.\n",
    "5. Changed `readmission`, the response variable, from 3 levels (No, >30, <30) to 2 levels (0,1) for readmitted and admitted\n",
    "6. Split the data into train set and test sets. We randomly sampled 80% of the data to be the train set and used the rest as the test data set."
   ]
  },
  {
   "cell_type": "code",
   "execution_count": 11,
   "id": "77b2b85a",
   "metadata": {},
   "outputs": [
    {
     "name": "stdout",
     "output_type": "stream",
     "text": [
      "0     5\n",
      "1    15\n",
      "2    25\n",
      "3    35\n",
      "4    45\n",
      "Name: age, dtype: int64\n"
     ]
    }
   ],
   "source": [
    "######-----------Replacing the age range with the middle of the interval------------#########\n",
    "replaceDict = {'[0-10)' : 5,'[10-20)' : 15, '[20-30)' : 25, \n",
    "               '[30-40)' : 35,'[40-50)' : 45,'[50-60)' : 55,\n",
    "               '[60-70)' : 65,'[70-80)' : 75,'[80-90)' : 85,\n",
    "               '[90-100)' : 95}\n",
    "\n",
    "data['age'] = data['age'].apply(lambda x : replaceDict[x])\n",
    "print(data['age'].head())\n",
    "\n",
    "######-----------Using domain knowledge on diag_1, diag_2, and diag_3 to bin the diagnoses------------#########\n",
    "\n",
    "# Defining a helper function to determine if a number is a float\n",
    "def isfloat(num):\n",
    "    try:\n",
    "        float(num)\n",
    "        return True\n",
    "    except ValueError:\n",
    "        return False\n",
    "\n",
    "# Defining a function to bin the diagnoses columns\n",
    "def diag_transform(x):\n",
    "    if str(x)[0] == 'V' or str(x)[0] == 'E':\n",
    "        return 'other'\n",
    "    elif isfloat(x):\n",
    "        if int(float(x)) in range(390, 460) or int(float(x)) == 785:\n",
    "            return 'circulatory'\n",
    "        elif int(float(x)) in range(460, 520) or int(float(x)) == 786:\n",
    "            return 'respiratory'\n",
    "        elif int(float(x)) in range(520, 580) or int(float(x)) == 787:\n",
    "            return 'digestive'\n",
    "        elif int(float(x)) == 250:\n",
    "            return'diabetes'\n",
    "        elif int(float(x)) in range(800, 1000):\n",
    "            return 'injury'\n",
    "        elif int(float(x)) in range(710, 740):\n",
    "            return 'musculoskeletal'\n",
    "        elif int(float(x)) in range(580, 630) or int(float(x)) == 788:\n",
    "            return 'genitourinary'\n",
    "        elif int(float(x)) in range(140, 240):\n",
    "            return 'neoplasms'\n",
    "        elif int(float(x)) in range(630, 680):\n",
    "            return 'pregnecy'\n",
    "        else:\n",
    "            return 'other'\n",
    "    else:\n",
    "        return 'other'\n",
    "\n",
    "# Applying the functions to the appropriate columns in the dataframe \n",
    "data['diag_1'] = data['diag_1'].apply(diag_transform)\n",
    "data['diag_2'] = data['diag_2'].apply(diag_transform)\n",
    "data['diag_3'] = data['diag_3'].apply(diag_transform)"
   ]
  },
  {
   "cell_type": "code",
   "execution_count": 12,
   "id": "e4e04063",
   "metadata": {},
   "outputs": [],
   "source": [
    "######-----------Using domain knowledge to bin admission_type_id, discharge_disposition_id, admission_source_id------------#########\n",
    "\n",
    "# Changing the datatypes of the appropriate columns \n",
    "data['admission_type_id'] = data['admission_type_id'].astype('int')\n",
    "data['admission_source_id'] = data['admission_source_id'].astype('int')\n",
    "data['discharge_disposition_id'] = data['discharge_disposition_id'].astype('int')\n",
    "\n",
    "# Defining helper functions to transform the data \n",
    "def ad_type_transform(x):\n",
    "    if x in [2,7]:\n",
    "        return 1\n",
    "    elif x in [6,8]:\n",
    "        return 5\n",
    "    else:\n",
    "        return x\n",
    "    \n",
    "def ad_source_transform(x):\n",
    "    if x in [2,3]:\n",
    "        return 1\n",
    "    elif x in [5,6,10,22,25]:\n",
    "        return 4\n",
    "    elif x in [15,17,20,21]:\n",
    "        return 9\n",
    "    elif x in [13,14]:\n",
    "        return 11\n",
    "    else:\n",
    "        return x\n",
    "    \n",
    "def discharge_transform(x):\n",
    "    if x in [6, 8, 9, 13]:\n",
    "        return 1\n",
    "    elif x in [3, 4, 5, 14, 22, 23, 24]:\n",
    "        return 2\n",
    "    elif x in [12, 15, 16, 17]:\n",
    "        return 10\n",
    "    elif x in [19, 20, 21]:\n",
    "        return 11\n",
    "    elif x in [25, 26]:\n",
    "        return 18\n",
    "    elif x in [13,14,19,20,21]:\n",
    "        return 11\n",
    "    else:\n",
    "        return x\n",
    "\n",
    "    \n",
    "# Applying the helper functions to the appropriate columns\n",
    "data['admission_type_id'] = data['admission_type_id'].apply(ad_type_transform)\n",
    "data['admission_source_id'] = data['admission_source_id'].apply(ad_source_transform)\n",
    "data['discharge_disposition_id'] = data['discharge_disposition_id'].apply(discharge_transform)"
   ]
  },
  {
   "cell_type": "code",
   "execution_count": 13,
   "id": "2cecc4d7",
   "metadata": {},
   "outputs": [
    {
     "name": "stderr",
     "output_type": "stream",
     "text": [
      "100%|████████████████████████████████████| 71518/71518 [02:34<00:00, 461.48it/s]\n"
     ]
    }
   ],
   "source": [
    "######-----Creating number of changes variable (number of 'ups' and 'downs' in medication)-------#########\n",
    "\n",
    "# Creating a list of the drugs in the dataset\n",
    "druglist = ['metformin','repaglinide', 'nateglinide', 'chlorpropamide',\n",
    "            'glimepiride','acetohexamide', 'glipizide', 'glyburide', \n",
    "            'tolbutamide','pioglitazone', 'rosiglitazone', 'acarbose', \n",
    "            'miglitol', 'troglitazone','tolazamide', 'examide', 'citoglipton', \n",
    "            'insulin', 'glyburide-metformin', 'glipizide-metformin',\n",
    "            'glimepiride-pioglitazone', 'metformin-rosiglitazone',\n",
    "            'metformin-pioglitazone']\n",
    "\n",
    "# Defining a helper function to help create this variable \n",
    "num_of_changes = []\n",
    "for i in tqdm(range(len(data))) :\n",
    "    changeCount = 0\n",
    "    for col in druglist : \n",
    "        if data.iloc[i][col] in ['Down', 'Up'] :\n",
    "            changeCount += 1\n",
    "    num_of_changes.append(changeCount)\n",
    "    \n",
    "# Creating the variable in the dataset\n",
    "data['num_of_changes'] = num_of_changes"
   ]
  },
  {
   "cell_type": "code",
   "execution_count": 14,
   "id": "04dd0195",
   "metadata": {},
   "outputs": [
    {
     "name": "stdout",
     "output_type": "stream",
     "text": [
      "71518\n",
      "14303.6\n"
     ]
    }
   ],
   "source": [
    "######-----Saving the cleaned data as a CSV-------#########\n",
    "data.to_csv('diabetes_cleaned.csv')\n",
    "\n",
    "######-----Creating test and train datasets-------#########\n",
    "\n",
    "# Using 80% for train, 20% for test\n",
    "print(len(data))\n",
    "print(len(data)*0.2)\n",
    "\n",
    "# Creating the test data\n",
    "pop = list(np.arange(0,71518))\n",
    "test_loc = random.sample(pop, k = 14304)\n",
    "test = data.iloc[test_loc]\n",
    "test.index = np.arange(0, 14304)\n",
    "\n",
    "# Creating the train data \n",
    "train_loc = list(set(pop) - set(test_loc))\n",
    "train = data.iloc[train_loc]\n",
    "train.index = np.arange(0, 57214)\n",
    "\n",
    "# Saving both dfs as CSVs\n",
    "test.to_csv('test.csv')\n",
    "train.to_csv('train.csv')"
   ]
  },
  {
   "cell_type": "markdown",
   "id": "4097e30d",
   "metadata": {},
   "source": [
    "#### Addressing Response Imbalance (For Base Model Development) With Undersampling\n",
    "*By Lila Wells and Kaitlyn Hung*\n",
    "\n",
    "To address the response imbalance (`readmitted`: 90% `0`, 10% `1`), we first attempted undersampling by reducing the number of negative (`0`) datapoints in our training data (so that our resulting training data would have a 50-50 split of both positive and negative datapoints). "
   ]
  },
  {
   "cell_type": "code",
   "execution_count": 15,
   "id": "b247cdb1",
   "metadata": {},
   "outputs": [
    {
     "data": {
      "text/plain": [
       "0    5044\n",
       "1    5005\n",
       "Name: readmitted, dtype: int64"
      ]
     },
     "execution_count": 15,
     "metadata": {},
     "output_type": "execute_result"
    }
   ],
   "source": [
    "# Loading datasets\n",
    "train = pd.read_csv('train.csv')\n",
    "test = pd.read_csv('test.csv')\n",
    "\n",
    "# Drop random column\n",
    "train = train.drop(columns = 'Unnamed: 0')\n",
    "test = test.drop(columns = 'Unnamed: 0')\n",
    "\n",
    "######-----Creating a train dataset using undersampling-------#########\n",
    "\n",
    "# Filtering the dataset so that it only has not-readmitted vals\n",
    "no_readmit = train[train['readmitted'] == 0]\n",
    "readmit = train[train['readmitted'] == 1]\n",
    "\n",
    "# Taking a random sample from the no_reamit df \n",
    "import random\n",
    "\n",
    "n = 5044 # To get a 50-50 split, we need a sample of 5041\n",
    "no_readmit1 = no_readmit.sample(n)\n",
    "\n",
    "no_readmit.shape # (52173, 48)\n",
    "readmit.shape # (5041, 48)\n",
    "no_readmit1.shape # (5041, 48)\n",
    "\n",
    "# Merging the no_readmit1 and readmit dfs to get a train1 df\n",
    "merged_df = pd.concat([no_readmit1, readmit])\n",
    "merged_df.shape\n",
    "\n",
    "# Randomly shuffling the resulting df\n",
    "train1 = merged_df.sample(frac=1)\n",
    "\n",
    "# Creating a copy of the dataframe for undersampling \n",
    "train_undersampling = train1.copy()\n",
    "train_undersampling.readmitted.value_counts()"
   ]
  },
  {
   "cell_type": "markdown",
   "id": "bff41e67",
   "metadata": {},
   "source": [
    "#### Addressing Response Imbalance (For Model Optimization) With SMOTENC\n",
    "\n",
    "*By Amy Wang*\n",
    "\n",
    "We solve the problem of an unevenly distributed response variable (`readmitted`: 90% `0`, 10% `1`) by synthetically generating data representing positive (`1`) datapoints within our train data with SMOTENC, to have equal proportions of positive and negative datapoints. We use this training dataset in efforts to optimize the preliminary models."
   ]
  },
  {
   "cell_type": "code",
   "execution_count": 16,
   "id": "355895ec",
   "metadata": {},
   "outputs": [],
   "source": [
    "### Install the SMOTENC package\n",
    "\n",
    "# steps to install imblean in conda environment\n",
    "# pip install imblearn\n",
    "# conda install -c conda-forge imbalanced-learn\n",
    "\n",
    "from imblearn.over_sampling import SMOTENC"
   ]
  },
  {
   "cell_type": "code",
   "execution_count": 17,
   "id": "f411471b",
   "metadata": {},
   "outputs": [],
   "source": [
    "# Read in the cleaned training and test data\n",
    "train = pd.read_csv('train.csv').iloc[:, 1:]\n",
    "test = pd.read_csv('test.csv').iloc[:, 1:]\n",
    "\n",
    "\n",
    "# Split the training data into predictors (X_train) and response (y_train)\n",
    "X_train = train.drop(columns=\"readmitted\")\n",
    "y_train = train.loc[:, \"readmitted\"]\n",
    "\n",
    "# Identify the datatype of the predictors, and get the name of all object datatype column names\n",
    "X_train_types = X_train.dtypes.to_frame().rename(columns={0: \"type\"})\n",
    "object_vars = list(X_train_types.loc[X_train_types.type == \"object\", :].index)\n",
    "# Add numerical predictors that we treat as categorical variables\n",
    "object_vars = object_vars + [\"age\", \"admission_type_id\", \"discharge_disposition_id\", \"admission_source_id\", \"time_in_hospital\", \"num_of_changes\"]\n",
    "\n",
    "# Get the indices of all categorical variables\n",
    "object_var_indices = []\n",
    "for i in range(0, len(X_train.columns)):\n",
    "    if X_train.columns[i] in object_vars:\n",
    "        object_var_indices.append(i)\n",
    "\n",
    "\n",
    "# Initialize SMOTENC object\n",
    "smote_nc = SMOTENC(categorical_features=object_var_indices, random_state=0)\n",
    "X_resampled, y_resampled = smote_nc.fit_resample(X_train, y_train)\n",
    "# Combine the response variable back in with the predictors\n",
    "X_resampled.loc[:, \"readmitted\"] = y_resampled\n",
    "train1 = X_resampled.copy()"
   ]
  },
  {
   "cell_type": "code",
   "execution_count": 18,
   "id": "fd230b59",
   "metadata": {},
   "outputs": [
    {
     "data": {
      "text/plain": [
       "0    52209\n",
       "1    52209\n",
       "Name: readmitted, dtype: int64"
      ]
     },
     "execution_count": 18,
     "metadata": {},
     "output_type": "execute_result"
    }
   ],
   "source": [
    "# Finding the value counts of hte train data after SMOTENC\n",
    "train1.readmitted.value_counts()"
   ]
  },
  {
   "cell_type": "markdown",
   "id": "bf567ea4",
   "metadata": {},
   "source": [
    "#### Helper function to create dummy variables of binned variables for model optimization\n",
    "*By Amy Wang*\n",
    "\n",
    "We separate certain categorical variables when optimizing the model, so that each binned value is its own predictor. This helper function creates the `train1_dummy` and `test_dummy` datasets with the dummy variables.\n",
    "\n",
    "The `vars` variable stores lists of the values of each variable, for simplified formulation of logistic models containing these variables."
   ]
  },
  {
   "cell_type": "code",
   "execution_count": null,
   "id": "51f2a641",
   "metadata": {},
   "outputs": [],
   "source": [
    "dummy_preds = [\"age\", \"time_in_hospital\", \"admission_type_id\", \"discharge_disposition_id\", \"admission_source_id\", \"diag_1\", \"diag_2\"]\n",
    "train1_dummy = train1.copy()\n",
    "test_dummy = test.copy()\n",
    "vars = []\n",
    "\n",
    "for pred in dummy_preds:\n",
    "    dummy_train = pd.get_dummies(train1.loc[:, pred])\n",
    "    dummy_train.columns = [pred + str(x) for x in dummy_train.columns]\n",
    "    train1_dummy = pd.concat([train1_dummy, dummy_train], axis=1)\n",
    "    vars.append(list(dummy_train.columns))\n",
    "    \n",
    "    dummy_test = pd.get_dummies(test.loc[:, pred])\n",
    "    dummy_test.columns = [pred + str(x) for x in dummy_test.columns]\n",
    "    test_dummy = pd.concat([test_dummy, dummy_test], axis=1)"
   ]
  },
  {
   "cell_type": "markdown",
   "id": "fbb11c9b",
   "metadata": {},
   "source": [
    "## Exploratory Data Analysis\n",
    "*By Anastasia Wei, Lila Wells, Kaitlyn Hung, and Amy Wang*"
   ]
  },
  {
   "cell_type": "code",
   "execution_count": null,
   "id": "8bd43a0c",
   "metadata": {},
   "outputs": [],
   "source": [
    "# --- Heatmap of the correlation values between continuous variables in the train1 df -- #\n",
    "\n",
    "# Extracting the continuous variables from the train1 df\n",
    "continuous_vars = train1.loc[:, ['age', 'admission_type_id', 'discharge_disposition_id', 'admission_source_id',\n",
    "       'time_in_hospital', 'num_lab_procedures',\n",
    "       'num_procedures', 'num_medications', 'number_outpatient',\n",
    "       'number_emergency', 'number_inpatient', \n",
    "       'number_diagnoses', 'readmitted',\n",
    "       'num_of_changes']]\n",
    "\n",
    "continuous_vars = continuous_vars.reset_index(drop=True)\n",
    "\n",
    "# Creating the heatmap\n",
    "sns.heatmap(data=continuous_vars.corr())\n",
    "plt.title('Heatmap of Correlations Between Continuous Variables')"
   ]
  },
  {
   "cell_type": "code",
   "execution_count": null,
   "id": "9acd34af",
   "metadata": {},
   "outputs": [],
   "source": [
    "# --- Figuring out the distribution of response variable (readmitted) with age -- #\n",
    "\n",
    "b = train1.age.unique()\n",
    "b.sort()\n",
    "b_sort = np.array(b).tolist()\n",
    "\n",
    "# Creating the plot \n",
    "ageplt = sns.countplot(x = 'age', hue = 'readmitted', data = train1, order = b_sort) \n",
    "\n",
    "# Formatting the plot\n",
    "sns.despine()\n",
    "ageplt.figure.set_size_inches(7, 6.5)\n",
    "ageplt.legend(title = 'Readmitted within 30 days', labels = ('No', 'Yes'))\n",
    "ageplt.axes.set_title('Readmissions Balance by Age')\n",
    "plt.ylabel('Count')\n",
    "plt.xlabel('Age')"
   ]
  },
  {
   "cell_type": "code",
   "execution_count": null,
   "id": "599b478c",
   "metadata": {},
   "outputs": [],
   "source": [
    "# --- Figuring out the distribution of response variable (readmitted) with time spent in hospital -- #\n",
    "\n",
    "c = train1.time_in_hospital.unique()\n",
    "c.sort()\n",
    "c_sort = np.array(c).tolist()\n",
    "\n",
    "# Creating the plot \n",
    "timeplt = sns.countplot(x = 'time_in_hospital', hue = \"readmitted\", data = train1, order = c_sort) \n",
    "\n",
    "# Formatting the plot \n",
    "plt.title('Time Spent in Hospital versus Readmission', size = 13)\n",
    "timeplt.legend(title = 'Readmitted within 30 days', labels = ('No', 'Yes'))\n",
    "plt.ylabel('Count')\n",
    "plt.xlabel('Time Spent in Hospital During Initial Stay')"
   ]
  },
  {
   "cell_type": "code",
   "execution_count": null,
   "id": "e44382a2",
   "metadata": {},
   "outputs": [],
   "source": [
    "# --- Figuring out the distribution of response variable (readmitted) with number_diagnoses -- #\n",
    "\n",
    "d = train1.number_diagnoses.unique()\n",
    "d.sort()\n",
    "d_sort = np.array(d).tolist()\n",
    "\n",
    "# Creating the plot \n",
    "diagplt = sns.countplot(x = 'number_diagnoses', hue = \"readmitted\", data = train1, order = d_sort) \n",
    "\n",
    "# Formatting the plot\n",
    "plt.title('Number of Diagnoses Visits Versus Readmission', size = 13)\n",
    "diagplt.legend(title = 'Readmitted within 30 days', labels = ('No', 'Yes'))\n",
    "plt.ylabel('Count')\n",
    "plt.xlabel('Number of Diagnoses')\n"
   ]
  },
  {
   "cell_type": "code",
   "execution_count": null,
   "id": "bee07bff",
   "metadata": {},
   "outputs": [],
   "source": [
    "# --- Figuring out the distribution of response variable (readmitted) with number_emergency -- #\n",
    "\n",
    "d = train1.number_emergency.unique()\n",
    "d.sort()\n",
    "d_sort = np.array(d).tolist()\n",
    "\n",
    "# Creating the plot \n",
    "emergencyplt = sns.countplot(x = 'number_emergency', hue = \"readmitted\", data = train1, order = d_sort) \n",
    "\n",
    "# Formatting the plot \n",
    "plt.title('Number of Emergency Visits Versus Readmission', size = 13)\n",
    "emergencyplt.legend(title = 'Readmitted within 30 days', labels = ('No', 'Yes'))\n",
    "plt.ylabel('Count')\n",
    "plt.xlabel('Number of Emergency Visits')\n"
   ]
  },
  {
   "cell_type": "code",
   "execution_count": null,
   "id": "324c5d2b",
   "metadata": {},
   "outputs": [],
   "source": [
    "# --- Figuring out the distribution of response variable (readmitted) with number of medication changes -- #\n",
    "\n",
    "d = train1.num_of_changes.unique()\n",
    "d.sort()\n",
    "d_sort = np.array(d).tolist()\n",
    "\n",
    "# Creating the plot \n",
    "changesplt = sns.countplot(x = 'num_of_changes', hue = \"readmitted\", data = train1, order = d_sort) \n",
    "\n",
    "# Formatting the plot\n",
    "plt.title('Number of Medication Changes Versus Readmission', size = 13)\n",
    "changesplt.legend(title = 'Readmitted within 30 days', labels = ('No', 'Yes'))\n",
    "plt.ylabel('Count')\n",
    "plt.xlabel('Number of Medication Changes')\n"
   ]
  },
  {
   "cell_type": "code",
   "execution_count": null,
   "id": "4a60510f",
   "metadata": {},
   "outputs": [],
   "source": [
    "# --- Figuring out the distribution of response variable (readmitted) with number of inpatient visits -- #\n",
    "\n",
    "# Creating the plot \n",
    "ax1 = sns.displot(train1.loc[train1['number_inpatient']>=5], x=\"number_inpatient\", hue= 'readmitted', kind='kde')\n",
    "\n",
    "# Formatting the plot \n",
    "plt.title('Number of Inpatient Visits vs. Readmission', size = 13)\n",
    "ax1.figure.set_size_inches(7, 6.5)\n",
    "plt.xlabel('Number of Inpatient Visits')\n",
    "plt.legend(title = 'Readmitted within 30 days', labels = ('No', 'Yes'))"
   ]
  },
  {
   "cell_type": "code",
   "execution_count": null,
   "id": "d321fb91",
   "metadata": {},
   "outputs": [],
   "source": [
    "# --- Patient age vs. time spent in hospital -- #\n",
    "\n",
    "# Creating the plot \n",
    "sns.barplot(x = \"age\", y = \"time_in_hospital\", data = train1, palette = \"Set2\")\n",
    "\n",
    "# Formatting the plot \n",
    "plt.title('Time Spent in Hospital vs. Patient Age', size = 13)\n",
    "plt.xlabel(\"Patient Age\")\n",
    "plt.ylabel('Time Spent in Hospital')\n"
   ]
  },
  {
   "cell_type": "code",
   "execution_count": null,
   "id": "83e8168c",
   "metadata": {},
   "outputs": [],
   "source": [
    "# --- Patient age vs. number of inpatient visits -- #\n",
    "\n",
    "# Creating the plot \n",
    "sns.scatterplot(x = \"age\", y = \"number_inpatient\", data = train1)\n",
    "\n",
    "# Formatting the plot \n",
    "plt.title('Patient Age vs. Number of Inpatient Visits', size = 13)\n",
    "plt.xlabel(\"Patient Age\")\n",
    "plt.ylabel('Number of Inpatient Visits')"
   ]
  },
  {
   "cell_type": "code",
   "execution_count": null,
   "id": "262fafbc",
   "metadata": {},
   "outputs": [],
   "source": [
    "# --- Number of medication changes vs. number of inpatient visits -- #\n",
    "\n",
    "# Creating the plot\n",
    "sns.scatterplot(x = \"num_of_changes\", y = \"number_inpatient\", data = train1)\n",
    "\n",
    "# Formatting the plot\n",
    "plt.title('Number of Medication Changes vs. Number of Inpatient Visits', size = 13)\n",
    "plt.xlabel(\"Number of Medication Changes\")\n",
    "plt.ylabel('Number of Inpatient Visits')"
   ]
  },
  {
   "cell_type": "code",
   "execution_count": null,
   "id": "7eac08b5",
   "metadata": {},
   "outputs": [],
   "source": [
    "# --- Number of medication changes vs. age -- #\n",
    "\n",
    "# Creating the plot \n",
    "sns.scatterplot(x = \"num_of_changes\", y = \"age\", data = train1)\n",
    "\n",
    "# Formatting the plot \n",
    "plt.title('Number of Medication Changes vs. Patient Age', size = 13)\n",
    "plt.xlabel(\"Number of Medication Changes\")\n",
    "plt.ylabel('Patient Age')\n"
   ]
  },
  {
   "cell_type": "code",
   "execution_count": null,
   "id": "b53942c2",
   "metadata": {},
   "outputs": [],
   "source": [
    "# --- Number of inpatient visits vs. time spent in hospital -- #\n",
    "\n",
    "# Creating the plot \n",
    "sns.scatterplot(x = \"number_inpatient\", y = \"time_in_hospital\", data = train1)\n",
    "\n",
    "# Formatting the plot \n",
    "plt.title('Number of Inpatient Visits vs. Time Spent in Hospital', size = 13)\n",
    "plt.xlabel(\"Number of Inpatient Visits\")\n",
    "plt.ylabel('Time Spent in Hospital')"
   ]
  },
  {
   "cell_type": "code",
   "execution_count": null,
   "id": "eeda172a",
   "metadata": {},
   "outputs": [],
   "source": [
    "# --- Time spent in hospital vs. number of medication changes -- #\n",
    "\n",
    "# Creating the plot \n",
    "sns.barplot(x = \"time_in_hospital\", y = \"num_of_changes\", data = train1, palette = \"Set2\")\n",
    "\n",
    "# Formatting the plot \n",
    "plt.title('Time Spent in Hospital vs. Number of Medication Changes', size = 13)\n",
    "plt.xlabel(\"Number of Medication Changes\")\n",
    "plt.ylabel('Time Spent in Hospital')"
   ]
  },
  {
   "cell_type": "markdown",
   "id": "acab331a",
   "metadata": {},
   "source": [
    "## Developing the Model\n",
    "*By Anastasia Wei, Lila Wells, Kaitlyn Hung, and Amy Wang*"
   ]
  },
  {
   "cell_type": "markdown",
   "id": "ae5ec4c9",
   "metadata": {},
   "source": [
    "Put code with comments. The comments should explain the code such that it can be easily understood. You may put text *(in a markdown cell)* before a large chunk of code to explain the overall purpose of the code, if it is not intuitive. **Put the name of the person / persons who contributed to each code chunk / set of code chunks.**"
   ]
  },
  {
   "cell_type": "markdown",
   "id": "409e7018",
   "metadata": {},
   "source": [
    "### Confusion Matrix to Evaluate Models (*Taken from class notes*)"
   ]
  },
  {
   "cell_type": "code",
   "execution_count": 19,
   "id": "5c67dc18",
   "metadata": {},
   "outputs": [],
   "source": [
    "from sklearn.metrics import roc_curve, auc\n",
    "\n",
    "#Function to compute confusion matrix and prediction accuracy on test/train data\n",
    "def confusion_matrix_data(data,actual_values,model,cutoff=0.5):\n",
    "#Predict the values using the Logit model\n",
    "    pred_values = model.predict(data)\n",
    "# Specify the bins\n",
    "    bins=np.array([0,cutoff,1])\n",
    "#Confusion matrix\n",
    "    cm = np.histogram2d(actual_values, pred_values, bins=bins)[0]\n",
    "    cm_df = pd.DataFrame(cm)\n",
    "    cm_df.columns = ['Predicted 0','Predicted 1']\n",
    "    cm_df = cm_df.rename(index={0: 'Actual 0',1:'Actual 1'})\n",
    "# Calculate the accuracy\n",
    "    accuracy = (cm[0,0]+cm[1,1])/cm.sum()\n",
    "    fnr = (cm[1,0])/(cm[1,0]+cm[1,1])\n",
    "    precision = (cm[1,1])/(cm[0,1]+cm[1,1])\n",
    "    fpr = (cm[0,1])/(cm[0,0]+cm[0,1])\n",
    "    tpr = (cm[1,1])/(cm[1,0]+cm[1,1])\n",
    "    fpr_roc, tpr_roc, auc_thresholds = roc_curve(actual_values, pred_values)\n",
    "    auc_value = (auc(fpr_roc, tpr_roc))# AUC of ROC\n",
    "    sns.heatmap(cm_df, annot=True, cmap='Blues', fmt='g')\n",
    "    plt.ylabel(\"Actual Values\")\n",
    "    plt.xlabel(\"Predicted Values\")\n",
    "    print(\"Classification accuracy = {:.1%}\".format(accuracy))\n",
    "    print(\"Precision = {:.1%}\".format(precision))\n",
    "    print(\"TPR or Recall = {:.1%}\".format(tpr))\n",
    "    print(\"FNR = {:.1%}\".format(fnr))\n",
    "    print(\"FPR = {:.1%}\".format(fpr))\n",
    "    print(\"ROC-AUC = {:.1%}\".format(auc_value))"
   ]
  },
  {
   "cell_type": "markdown",
   "id": "d98576b1",
   "metadata": {},
   "source": [
    "### Preliminary model development\n",
    "*Lila Wells and Kaitlyn Hung*\n",
    "\n",
    "The code below executes our base model, which we created based on our exploratory data analysis."
   ]
  },
  {
   "cell_type": "code",
   "execution_count": 20,
   "id": "c2016145",
   "metadata": {},
   "outputs": [
    {
     "name": "stdout",
     "output_type": "stream",
     "text": [
      "Optimization terminated successfully.\n",
      "         Current function value: 0.676093\n",
      "         Iterations 5\n"
     ]
    },
    {
     "data": {
      "text/html": [
       "<table class=\"simpletable\">\n",
       "<caption>Logit Regression Results</caption>\n",
       "<tr>\n",
       "  <th>Dep. Variable:</th>      <td>readmitted</td>    <th>  No. Observations:  </th>  <td> 10049</td>  \n",
       "</tr>\n",
       "<tr>\n",
       "  <th>Model:</th>                 <td>Logit</td>      <th>  Df Residuals:      </th>  <td> 10043</td>  \n",
       "</tr>\n",
       "<tr>\n",
       "  <th>Method:</th>                 <td>MLE</td>       <th>  Df Model:          </th>  <td>     5</td>  \n",
       "</tr>\n",
       "<tr>\n",
       "  <th>Date:</th>            <td>Tue, 14 Mar 2023</td> <th>  Pseudo R-squ.:     </th>  <td>0.02459</td> \n",
       "</tr>\n",
       "<tr>\n",
       "  <th>Time:</th>                <td>23:10:15</td>     <th>  Log-Likelihood:    </th> <td> -6794.1</td> \n",
       "</tr>\n",
       "<tr>\n",
       "  <th>converged:</th>             <td>True</td>       <th>  LL-Null:           </th> <td> -6965.4</td> \n",
       "</tr>\n",
       "<tr>\n",
       "  <th>Covariance Type:</th>     <td>nonrobust</td>    <th>  LLR p-value:       </th> <td>6.827e-72</td>\n",
       "</tr>\n",
       "</table>\n",
       "<table class=\"simpletable\">\n",
       "<tr>\n",
       "            <td></td>              <th>coef</th>     <th>std err</th>      <th>z</th>      <th>P>|z|</th>  <th>[0.025</th>    <th>0.975]</th>  \n",
       "</tr>\n",
       "<tr>\n",
       "  <th>Intercept</th>            <td>   -1.3406</td> <td>    0.162</td> <td>   -8.260</td> <td> 0.000</td> <td>   -1.659</td> <td>   -1.022</td>\n",
       "</tr>\n",
       "<tr>\n",
       "  <th>time_in_hospital</th>     <td>    0.0989</td> <td>    0.032</td> <td>    3.069</td> <td> 0.002</td> <td>    0.036</td> <td>    0.162</td>\n",
       "</tr>\n",
       "<tr>\n",
       "  <th>age</th>                  <td>    0.0149</td> <td>    0.002</td> <td>    6.236</td> <td> 0.000</td> <td>    0.010</td> <td>    0.020</td>\n",
       "</tr>\n",
       "<tr>\n",
       "  <th>time_in_hospital:age</th> <td>   -0.0008</td> <td>    0.000</td> <td>   -1.628</td> <td> 0.103</td> <td>   -0.002</td> <td>    0.000</td>\n",
       "</tr>\n",
       "<tr>\n",
       "  <th>num_of_changes</th>       <td>    0.1049</td> <td>    0.043</td> <td>    2.455</td> <td> 0.014</td> <td>    0.021</td> <td>    0.189</td>\n",
       "</tr>\n",
       "<tr>\n",
       "  <th>number_inpatient</th>     <td>    0.3848</td> <td>    0.032</td> <td>   11.964</td> <td> 0.000</td> <td>    0.322</td> <td>    0.448</td>\n",
       "</tr>\n",
       "</table>"
      ],
      "text/plain": [
       "<class 'statsmodels.iolib.summary.Summary'>\n",
       "\"\"\"\n",
       "                           Logit Regression Results                           \n",
       "==============================================================================\n",
       "Dep. Variable:             readmitted   No. Observations:                10049\n",
       "Model:                          Logit   Df Residuals:                    10043\n",
       "Method:                           MLE   Df Model:                            5\n",
       "Date:                Tue, 14 Mar 2023   Pseudo R-squ.:                 0.02459\n",
       "Time:                        23:10:15   Log-Likelihood:                -6794.1\n",
       "converged:                       True   LL-Null:                       -6965.4\n",
       "Covariance Type:            nonrobust   LLR p-value:                 6.827e-72\n",
       "========================================================================================\n",
       "                           coef    std err          z      P>|z|      [0.025      0.975]\n",
       "----------------------------------------------------------------------------------------\n",
       "Intercept               -1.3406      0.162     -8.260      0.000      -1.659      -1.022\n",
       "time_in_hospital         0.0989      0.032      3.069      0.002       0.036       0.162\n",
       "age                      0.0149      0.002      6.236      0.000       0.010       0.020\n",
       "time_in_hospital:age    -0.0008      0.000     -1.628      0.103      -0.002       0.000\n",
       "num_of_changes           0.1049      0.043      2.455      0.014       0.021       0.189\n",
       "number_inpatient         0.3848      0.032     11.964      0.000       0.322       0.448\n",
       "========================================================================================\n",
       "\"\"\""
      ]
     },
     "execution_count": 20,
     "metadata": {},
     "output_type": "execute_result"
    }
   ],
   "source": [
    "# Fitting a preliminary model based on EDA\n",
    "logit_model = sm.logit(formula = 'readmitted ~ time_in_hospital*age + num_of_changes + number_inpatient', data = train_undersampling).fit() #Developing logistic regression model\n",
    "logit_model.summary()"
   ]
  },
  {
   "cell_type": "markdown",
   "id": "46eb6471",
   "metadata": {},
   "source": [
    "#### Base Model Performance on Training Data\n",
    "\n",
    "Testing the model's performance on training data"
   ]
  },
  {
   "cell_type": "code",
   "execution_count": 21,
   "id": "2e94dcd6",
   "metadata": {},
   "outputs": [
    {
     "name": "stdout",
     "output_type": "stream",
     "text": [
      "Classification accuracy = 57.3%\n",
      "Precision = 58.1%\n",
      "TPR or Recall = 51.0%\n",
      "FNR = 49.0%\n",
      "FPR = 36.5%\n",
      "ROC-AUC = 60.3%\n"
     ]
    },
    {
     "data": {
      "image/png": "[encoded data removed]",
      "text/plain": [
       "<Figure size 640x480 with 2 Axes>"
      ]
     },
     "metadata": {},
     "output_type": "display_data"
    }
   ],
   "source": [
    "# Finding model performance metrics with train data (undersampling)\n",
    "confusion_matrix_data(train_undersampling, train_undersampling.readmitted, logit_model, cutoff=0.5)"
   ]
  },
  {
   "cell_type": "markdown",
   "id": "df5c9256",
   "metadata": {},
   "source": [
    "#### Base Model Performance on Test Data \n",
    "\n",
    "Testing the base model's performance on test data"
   ]
  },
  {
   "cell_type": "code",
   "execution_count": 22,
   "id": "90336707",
   "metadata": {},
   "outputs": [
    {
     "name": "stdout",
     "output_type": "stream",
     "text": [
      "Classification accuracy = 61.9%\n",
      "Precision = 11.9%\n",
      "TPR or Recall = 50.3%\n",
      "FNR = 49.7%\n",
      "FPR = 36.9%\n",
      "ROC-AUC = 58.9%\n"
     ]
    },
    {
     "data": {
      "image/png": "[encoded data removed]",
      "text/plain": [
       "<Figure size 640x480 with 2 Axes>"
      ]
     },
     "metadata": {},
     "output_type": "display_data"
    }
   ],
   "source": [
    "# Finding model performance metrics with test data (undersampling)\n",
    "confusion_matrix_data(test, test.readmitted, logit_model, cutoff=0.5)"
   ]
  },
  {
   "cell_type": "markdown",
   "id": "d4cceeaa",
   "metadata": {},
   "source": [
    "#### Refitting the Base Model with SMOTENC Data \n",
    "\n",
    "To see if the base model performed better with SMOTENC data, we refit the model accordingly"
   ]
  },
  {
   "cell_type": "code",
   "execution_count": 23,
   "id": "b78e53d7",
   "metadata": {},
   "outputs": [
    {
     "name": "stdout",
     "output_type": "stream",
     "text": [
      "Optimization terminated successfully.\n",
      "         Current function value: 0.671192\n",
      "         Iterations 5\n"
     ]
    },
    {
     "data": {
      "text/html": [
       "<table class=\"simpletable\">\n",
       "<caption>Logit Regression Results</caption>\n",
       "<tr>\n",
       "  <th>Dep. Variable:</th>      <td>readmitted</td>    <th>  No. Observations:  </th>  <td>104418</td> \n",
       "</tr>\n",
       "<tr>\n",
       "  <th>Model:</th>                 <td>Logit</td>      <th>  Df Residuals:      </th>  <td>104412</td> \n",
       "</tr>\n",
       "<tr>\n",
       "  <th>Method:</th>                 <td>MLE</td>       <th>  Df Model:          </th>  <td>     5</td> \n",
       "</tr>\n",
       "<tr>\n",
       "  <th>Date:</th>            <td>Tue, 14 Mar 2023</td> <th>  Pseudo R-squ.:     </th>  <td>0.03168</td>\n",
       "</tr>\n",
       "<tr>\n",
       "  <th>Time:</th>                <td>23:10:16</td>     <th>  Log-Likelihood:    </th> <td> -70084.</td>\n",
       "</tr>\n",
       "<tr>\n",
       "  <th>converged:</th>             <td>True</td>       <th>  LL-Null:           </th> <td> -72377.</td>\n",
       "</tr>\n",
       "<tr>\n",
       "  <th>Covariance Type:</th>     <td>nonrobust</td>    <th>  LLR p-value:       </th>  <td> 0.000</td> \n",
       "</tr>\n",
       "</table>\n",
       "<table class=\"simpletable\">\n",
       "<tr>\n",
       "            <td></td>              <th>coef</th>     <th>std err</th>      <th>z</th>      <th>P>|z|</th>  <th>[0.025</th>    <th>0.975]</th>  \n",
       "</tr>\n",
       "<tr>\n",
       "  <th>Intercept</th>            <td>   -2.2629</td> <td>    0.057</td> <td>  -39.771</td> <td> 0.000</td> <td>   -2.374</td> <td>   -2.151</td>\n",
       "</tr>\n",
       "<tr>\n",
       "  <th>time_in_hospital</th>     <td>    0.2012</td> <td>    0.011</td> <td>   17.591</td> <td> 0.000</td> <td>    0.179</td> <td>    0.224</td>\n",
       "</tr>\n",
       "<tr>\n",
       "  <th>age</th>                  <td>    0.0339</td> <td>    0.001</td> <td>   40.978</td> <td> 0.000</td> <td>    0.032</td> <td>    0.035</td>\n",
       "</tr>\n",
       "<tr>\n",
       "  <th>time_in_hospital:age</th> <td>   -0.0028</td> <td>    0.000</td> <td>  -16.988</td> <td> 0.000</td> <td>   -0.003</td> <td>   -0.002</td>\n",
       "</tr>\n",
       "<tr>\n",
       "  <th>num_of_changes</th>       <td>   -0.5269</td> <td>    0.015</td> <td>  -34.415</td> <td> 0.000</td> <td>   -0.557</td> <td>   -0.497</td>\n",
       "</tr>\n",
       "<tr>\n",
       "  <th>number_inpatient</th>     <td>    0.1540</td> <td>    0.010</td> <td>   14.807</td> <td> 0.000</td> <td>    0.134</td> <td>    0.174</td>\n",
       "</tr>\n",
       "</table>"
      ],
      "text/plain": [
       "<class 'statsmodels.iolib.summary.Summary'>\n",
       "\"\"\"\n",
       "                           Logit Regression Results                           \n",
       "==============================================================================\n",
       "Dep. Variable:             readmitted   No. Observations:               104418\n",
       "Model:                          Logit   Df Residuals:                   104412\n",
       "Method:                           MLE   Df Model:                            5\n",
       "Date:                Tue, 14 Mar 2023   Pseudo R-squ.:                 0.03168\n",
       "Time:                        23:10:16   Log-Likelihood:                -70084.\n",
       "converged:                       True   LL-Null:                       -72377.\n",
       "Covariance Type:            nonrobust   LLR p-value:                     0.000\n",
       "========================================================================================\n",
       "                           coef    std err          z      P>|z|      [0.025      0.975]\n",
       "----------------------------------------------------------------------------------------\n",
       "Intercept               -2.2629      0.057    -39.771      0.000      -2.374      -2.151\n",
       "time_in_hospital         0.2012      0.011     17.591      0.000       0.179       0.224\n",
       "age                      0.0339      0.001     40.978      0.000       0.032       0.035\n",
       "time_in_hospital:age    -0.0028      0.000    -16.988      0.000      -0.003      -0.002\n",
       "num_of_changes          -0.5269      0.015    -34.415      0.000      -0.557      -0.497\n",
       "number_inpatient         0.1540      0.010     14.807      0.000       0.134       0.174\n",
       "========================================================================================\n",
       "\"\"\""
      ]
     },
     "execution_count": 23,
     "metadata": {},
     "output_type": "execute_result"
    }
   ],
   "source": [
    "# Refitting the model with SMOTENC data \n",
    "logit_model2 = sm.logit(formula = 'readmitted ~ time_in_hospital*age + num_of_changes + number_inpatient', data = train1).fit() #Developing logistic regression model\n",
    "logit_model2.summary()"
   ]
  },
  {
   "cell_type": "markdown",
   "id": "c9e2fb60",
   "metadata": {},
   "source": [
    "##### Base Model Performance on Training Data with SMOTENC\n",
    "\n",
    "Testing the model's performance with SMOTENC training data"
   ]
  },
  {
   "cell_type": "code",
   "execution_count": 24,
   "id": "5730e4a1",
   "metadata": {
    "scrolled": true
   },
   "outputs": [
    {
     "name": "stdout",
     "output_type": "stream",
     "text": [
      "Classification accuracy = 58.6%\n",
      "Precision = 58.0%\n",
      "TPR or Recall = 62.7%\n",
      "FNR = 37.3%\n",
      "FPR = 45.5%\n",
      "ROC-AUC = 60.8%\n"
     ]
    },
    {
     "data": {
      "image/png": "[encoded data removed]",
      "text/plain": [
       "<Figure size 640x480 with 2 Axes>"
      ]
     },
     "metadata": {},
     "output_type": "display_data"
    }
   ],
   "source": [
    "# Finding the model's performance metrics with train data (SMOTENC)\n",
    "confusion_matrix_data(train1, train1.readmitted, logit_model2, cutoff=0.5)\n"
   ]
  },
  {
   "cell_type": "markdown",
   "id": "3b271ff0",
   "metadata": {},
   "source": [
    "##### Base Model Performance on Test Data with SMOTENC\n",
    "\n",
    "Testing the model's performance with test data"
   ]
  },
  {
   "cell_type": "code",
   "execution_count": 25,
   "id": "53da9fb9",
   "metadata": {},
   "outputs": [
    {
     "name": "stdout",
     "output_type": "stream",
     "text": [
      "Classification accuracy = 53.9%\n",
      "Precision = 9.7%\n",
      "TPR or Recall = 49.5%\n",
      "FNR = 50.5%\n",
      "FPR = 45.7%\n",
      "ROC-AUC = 52.5%\n"
     ]
    },
    {
     "data": {
      "image/png": "[encoded data removed]",
      "text/plain": [
       "<Figure size 640x480 with 2 Axes>"
      ]
     },
     "metadata": {},
     "output_type": "display_data"
    }
   ],
   "source": [
    "# Finding the model's performance metrics with test data (SMOTENC)\n",
    "confusion_matrix_data(test, test.readmitted, logit_model2, cutoff=0.5)"
   ]
  },
  {
   "cell_type": "markdown",
   "id": "2df9fb95",
   "metadata": {},
   "source": [
    "#### Optimizing for the Decision Threshold\n",
    "\n",
    "Seeing if we can further improve our model's recall (and decrease its False Negative Rate) by optimizing the decision threshold)"
   ]
  },
  {
   "cell_type": "code",
   "execution_count": 26,
   "id": "e533b2ca",
   "metadata": {
    "scrolled": true
   },
   "outputs": [
    {
     "data": {
      "image/png": "[encoded data removed]",
      "text/plain": [
       "<Figure size 800x800 with 1 Axes>"
      ]
     },
     "metadata": {},
     "output_type": "display_data"
    }
   ],
   "source": [
    "# Finding the percentage of positive values\n",
    "perc = train1.readmitted.mean()\n",
    "\n",
    "# Plotting precision and recall scores as a function of the decision threshold\n",
    "from sklearn.metrics import precision_recall_curve\n",
    "\n",
    "y = train1.readmitted\n",
    "ypred = logit_model2.predict(train1)\n",
    "p, r, thresholds = precision_recall_curve(y, ypred)\n",
    "def plot_precision_recall_vs_threshold(precisions, recalls, thresholds):\n",
    "    plt.figure(figsize=(8, 8))\n",
    "    plt.title(\"Precision and Recall Scores as a function of the decision threshold\")\n",
    "    plt.plot(thresholds, precisions[:-1], \"b--\", label=\"Precision\")\n",
    "    plt.plot(thresholds, recalls[:-1], \"g-\", label=\"Recall\")\n",
    "    plt.ylabel(\"Score\")\n",
    "    plt.xlabel(\"Decision Threshold\")\n",
    "    plt.legend(loc='best')\n",
    "    plt.legend()\n",
    "plot_precision_recall_vs_threshold(p, r, thresholds)\n"
   ]
  },
  {
   "cell_type": "code",
   "execution_count": 27,
   "id": "4906a011",
   "metadata": {},
   "outputs": [
    {
     "name": "stdout",
     "output_type": "stream",
     "text": [
      "Optimal threshold: 0.4945978082992961\n"
     ]
    }
   ],
   "source": [
    "lista = []\n",
    "\n",
    "# Iterate thru thresholds, get true_pos / true_neg, find corresponding threshold\n",
    "for i in thresholds: \n",
    "    # Confusion matrix\n",
    "    cm_df = pd.DataFrame(logit_model2.pred_table(threshold = i))\n",
    "    lista.append(cm_df[1].sum() / len(train1))\n",
    "\n",
    "# Finding the optimal threshold\n",
    "b = (perc * r[:-1]) - ((1 - p[:-1]) * lista)\n",
    "c = thresholds[np.argmax(b)] \n",
    "opt_threshold = c\n",
    "\n",
    "# Printing the optimal threshold I found using precision and recall\n",
    "print('Optimal threshold:', opt_threshold)\n"
   ]
  },
  {
   "cell_type": "markdown",
   "id": "981aff06",
   "metadata": {},
   "source": [
    "#### Testing Base Model Performance With Optimized Threshold\n",
    "\n",
    "Testing our model's train and test performance with the optimized threshold on SMOTENC data"
   ]
  },
  {
   "cell_type": "code",
   "execution_count": 28,
   "id": "76a9fc62",
   "metadata": {},
   "outputs": [
    {
     "name": "stdout",
     "output_type": "stream",
     "text": [
      "Classification accuracy = 59.1%\n",
      "Precision = 57.4%\n",
      "TPR or Recall = 70.2%\n",
      "FNR = 29.8%\n",
      "FPR = 52.1%\n",
      "ROC-AUC = 60.8%\n"
     ]
    },
    {
     "data": {
      "image/png": "[encoded data removed]",
      "text/plain": [
       "<Figure size 640x480 with 2 Axes>"
      ]
     },
     "metadata": {},
     "output_type": "display_data"
    }
   ],
   "source": [
    "# Finding the model performance metrics on train data (SMOTENC) (with optimized threshold)\n",
    "confusion_matrix_data(train1, train1.readmitted, logit_model2, cutoff=opt_threshold)\n"
   ]
  },
  {
   "cell_type": "code",
   "execution_count": 29,
   "id": "21a8e4d3",
   "metadata": {},
   "outputs": [
    {
     "name": "stdout",
     "output_type": "stream",
     "text": [
      "Classification accuracy = 48.3%\n",
      "Precision = 9.4%\n",
      "TPR or Recall = 55.1%\n",
      "FNR = 44.9%\n",
      "FPR = 52.4%\n",
      "ROC-AUC = 52.5%\n"
     ]
    },
    {
     "data": {
      "image/png": "[encoded data removed]",
      "text/plain": [
       "<Figure size 640x480 with 2 Axes>"
      ]
     },
     "metadata": {},
     "output_type": "display_data"
    }
   ],
   "source": [
    "# Finding the model performance metrics on test data (with optimized threshold)\n",
    "confusion_matrix_data(test, test.readmitted, logit_model2, cutoff=opt_threshold)"
   ]
  },
  {
   "cell_type": "markdown",
   "id": "7e68ce0c",
   "metadata": {},
   "source": [
    "### Model Optimization\n",
    "*Amy Wang*\n",
    "\n",
    "In the following models, I built upon the preliminary models with variable selection. I noticed that individual values of the categorical predictors such as `age` and `time_in_hospital` have different distributions, and created a few exploratory models investigating the sole effect of these predictors, the combined effect, and experimenting with interactions.\n",
    "\n",
    "I created a final model combining the promising results of this investigation.\n",
    "\n",
    "To summarize the following code:\n",
    "1. Model 1.1: Making each value of `age` its own predictor\n",
    "2. Model 1.2: Adding in the other variables in the original `logit_model`\n",
    "3. Model 1.3: Interaction between `time_in_hospital` and each `age` value\n",
    "4. Model 2.1: Making each value of `time_in_hospital` its own predictor\n",
    "5. Model 2.2: Adding the interaction between each value of `time_in_hospital` with `num_of_changes`\n",
    "6. Model 2.3: Making each value of both `time_in_hospital` and `age` their own predictors\n",
    "7. Model 3.1: Investigate the predictive capability of `diag_1`\n",
    "8. Model 3.2: Investigate the predictive capability of both `diag_1` and `diag_2`\n",
    "9. Model 3.2: Investigate the predictive capability of `diag_1`, `diag_2`, and `diag_3`\n",
    "10. Model 4.1: Make non-collinear values of `discharge_disposition_id` its own predictor\n",
    "11. Model 4.2: Make non-collinear values of `admission_source_id` its own predictor\n",
    "12. Model 4.3: Make non-collinear values of `admission_type` its own predictor\n",
    "13. Model 5: A combined model incorporating all insights from the previous 12 models"
   ]
  },
  {
   "cell_type": "code",
   "execution_count": null,
   "id": "a1906db1",
   "metadata": {},
   "outputs": [],
   "source": [
    "# Understand the baseline model: investigate how well the logit_model predicts hospital readmission based on age -- training data\n",
    "age_data = train1.groupby('age')['readmitted'].agg([('readmitted_percent','mean'),('nobs','count')]).reset_index(drop=False)\n",
    "train1_dummy[\"age_ind\"] =  train1_dummy[\"age\"].map({5: 0, 15: 1, 25: 2, 35: 3, 45: 4, 55: 5, 65: 6, 75: 7, 85: 8, 95: 9, 105: 10})\n",
    "sns.lineplot(x = age_data.index, y= age_data['readmitted_percent'])\n",
    "sns.lineplot(x = 'age_ind', y= logit_model.predict(train1_dummy), data = train1_dummy, color = 'blue') \n",
    "plt.xlabel('age')"
   ]
  },
  {
   "cell_type": "code",
   "execution_count": null,
   "id": "a4d7cccb",
   "metadata": {},
   "outputs": [],
   "source": [
    "# Examine whether there are multicollinear variables for variable selection\n",
    "from statsmodels.stats.outliers_influence import variance_inflation_factor\n",
    "from statsmodels.tools.tools import add_constant\n",
    "\n",
    "X = train1_dummy[['age5', 'age15', 'age25', 'age35', 'age45', 'age55',\n",
    "       'age65', 'age75', 'age85', 'time_in_hospital1',\n",
    "       'time_in_hospital2', 'time_in_hospital3', 'time_in_hospital4',\n",
    "       'time_in_hospital5', 'time_in_hospital6', 'time_in_hospital7',\n",
    "       'time_in_hospital8', 'time_in_hospital9', 'time_in_hospital10',\n",
    "       'time_in_hospital11', 'time_in_hospital12', 'time_in_hospital13', 'admission_type_id1', 'admission_type_id3',\n",
    "       'admission_type_id4', 'discharge_disposition_id7',\n",
    "       'discharge_disposition_id10', 'discharge_disposition_id11',\n",
    "       'discharge_disposition_id18', 'discharge_disposition_id27', 'admission_source_id8',\n",
    "       'admission_source_id9', 'number_inpatient', 'num_of_changes',  'diag_1circulatory',\n",
    "       'diag_1diabetes', 'diag_1digestive', 'diag_1musculoskeletal', 'diag_1neoplasms', 'diag_1other', 'diag_1pregnecy', 'diag_1respiratory', 'diag_2circulatory', 'diag_2diabetes', 'diag_2digestive', 'diag_2musculoskeletal', 'diag_2neoplasms','diag_2other', 'diag_2pregnecy', 'diag_2respiratory']]\n",
    "X = add_constant(X)\n",
    "vif_data = pd.DataFrame()\n",
    "vif_data[\"feature\"] = X.columns\n",
    "\n",
    "for i in range(len(X.columns)):\n",
    "    vif_data.loc[i,'VIF'] = variance_inflation_factor(X.values, i)"
   ]
  },
  {
   "cell_type": "markdown",
   "id": "6cda3545",
   "metadata": {},
   "source": [
    "Model 1.1: Making each value of `age` its own predictor"
   ]
  },
  {
   "cell_type": "code",
   "execution_count": null,
   "id": "dad1f94c",
   "metadata": {},
   "outputs": [
    {
     "name": "stdout",
     "output_type": "stream",
     "text": [
      "Optimization terminated successfully.\n",
      "         Current function value: 0.672258\n",
      "         Iterations 8\n"
     ]
    },
    {
     "data": {
      "text/html": [
       "<table class=\"simpletable\">\n",
       "<caption>Logit Regression Results</caption>\n",
       "<tr>\n",
       "  <th>Dep. Variable:</th>      <td>readmitted</td>    <th>  No. Observations:  </th>  <td>104464</td> \n",
       "</tr>\n",
       "<tr>\n",
       "  <th>Model:</th>                 <td>Logit</td>      <th>  Df Residuals:      </th>  <td>104454</td> \n",
       "</tr>\n",
       "<tr>\n",
       "  <th>Method:</th>                 <td>MLE</td>       <th>  Df Model:          </th>  <td>     9</td> \n",
       "</tr>\n",
       "<tr>\n",
       "  <th>Date:</th>            <td>Sat, 25 Feb 2023</td> <th>  Pseudo R-squ.:     </th>  <td>0.03014</td>\n",
       "</tr>\n",
       "<tr>\n",
       "  <th>Time:</th>                <td>10:47:44</td>     <th>  Log-Likelihood:    </th> <td> -70227.</td>\n",
       "</tr>\n",
       "<tr>\n",
       "  <th>converged:</th>             <td>True</td>       <th>  LL-Null:           </th> <td> -72409.</td>\n",
       "</tr>\n",
       "<tr>\n",
       "  <th>Covariance Type:</th>     <td>nonrobust</td>    <th>  LLR p-value:       </th>  <td> 0.000</td> \n",
       "</tr>\n",
       "</table>\n",
       "<table class=\"simpletable\">\n",
       "<tr>\n",
       "      <td></td>         <th>coef</th>     <th>std err</th>      <th>z</th>      <th>P>|z|</th>  <th>[0.025</th>    <th>0.975]</th>  \n",
       "</tr>\n",
       "<tr>\n",
       "  <th>Intercept</th> <td>   -0.8186</td> <td>    0.049</td> <td>  -16.841</td> <td> 0.000</td> <td>   -0.914</td> <td>   -0.723</td>\n",
       "</tr>\n",
       "<tr>\n",
       "  <th>age5</th>      <td>   -2.8535</td> <td>    0.587</td> <td>   -4.864</td> <td> 0.000</td> <td>   -4.003</td> <td>   -1.704</td>\n",
       "</tr>\n",
       "<tr>\n",
       "  <th>age15</th>     <td>   -0.8262</td> <td>    0.133</td> <td>   -6.217</td> <td> 0.000</td> <td>   -1.087</td> <td>   -0.566</td>\n",
       "</tr>\n",
       "<tr>\n",
       "  <th>age25</th>     <td>   -0.5609</td> <td>    0.090</td> <td>   -6.240</td> <td> 0.000</td> <td>   -0.737</td> <td>   -0.385</td>\n",
       "</tr>\n",
       "<tr>\n",
       "  <th>age35</th>     <td>   -0.2119</td> <td>    0.065</td> <td>   -3.261</td> <td> 0.001</td> <td>   -0.339</td> <td>   -0.085</td>\n",
       "</tr>\n",
       "<tr>\n",
       "  <th>age45</th>     <td>    0.1978</td> <td>    0.054</td> <td>    3.655</td> <td> 0.000</td> <td>    0.092</td> <td>    0.304</td>\n",
       "</tr>\n",
       "<tr>\n",
       "  <th>age55</th>     <td>    0.4189</td> <td>    0.051</td> <td>    8.165</td> <td> 0.000</td> <td>    0.318</td> <td>    0.519</td>\n",
       "</tr>\n",
       "<tr>\n",
       "  <th>age65</th>     <td>    0.8796</td> <td>    0.050</td> <td>   17.494</td> <td> 0.000</td> <td>    0.781</td> <td>    0.978</td>\n",
       "</tr>\n",
       "<tr>\n",
       "  <th>age75</th>     <td>    1.1826</td> <td>    0.050</td> <td>   23.692</td> <td> 0.000</td> <td>    1.085</td> <td>    1.280</td>\n",
       "</tr>\n",
       "<tr>\n",
       "  <th>age85</th>     <td>    1.0395</td> <td>    0.051</td> <td>   20.468</td> <td> 0.000</td> <td>    0.940</td> <td>    1.139</td>\n",
       "</tr>\n",
       "</table>"
      ],
      "text/plain": [
       "<class 'statsmodels.iolib.summary.Summary'>\n",
       "\"\"\"\n",
       "                           Logit Regression Results                           \n",
       "==============================================================================\n",
       "Dep. Variable:             readmitted   No. Observations:               104464\n",
       "Model:                          Logit   Df Residuals:                   104454\n",
       "Method:                           MLE   Df Model:                            9\n",
       "Date:                Sat, 25 Feb 2023   Pseudo R-squ.:                 0.03014\n",
       "Time:                        10:47:44   Log-Likelihood:                -70227.\n",
       "converged:                       True   LL-Null:                       -72409.\n",
       "Covariance Type:            nonrobust   LLR p-value:                     0.000\n",
       "==============================================================================\n",
       "                 coef    std err          z      P>|z|      [0.025      0.975]\n",
       "------------------------------------------------------------------------------\n",
       "Intercept     -0.8186      0.049    -16.841      0.000      -0.914      -0.723\n",
       "age5          -2.8535      0.587     -4.864      0.000      -4.003      -1.704\n",
       "age15         -0.8262      0.133     -6.217      0.000      -1.087      -0.566\n",
       "age25         -0.5609      0.090     -6.240      0.000      -0.737      -0.385\n",
       "age35         -0.2119      0.065     -3.261      0.001      -0.339      -0.085\n",
       "age45          0.1978      0.054      3.655      0.000       0.092       0.304\n",
       "age55          0.4189      0.051      8.165      0.000       0.318       0.519\n",
       "age65          0.8796      0.050     17.494      0.000       0.781       0.978\n",
       "age75          1.1826      0.050     23.692      0.000       1.085       1.280\n",
       "age85          1.0395      0.051     20.468      0.000       0.940       1.139\n",
       "==============================================================================\n",
       "\"\"\""
      ]
     },
     "metadata": {},
     "output_type": "display_data"
    }
   ],
   "source": [
    "model1_1 = sm.logit(formula = \"readmitted ~ age5 + age15 + age25 + age35 + age45 + age55 + age65 + age75 + age85\", data = train1_dummy).fit() \n",
    "model1_1.summary()"
   ]
  },
  {
   "cell_type": "code",
   "execution_count": null,
   "id": "f8502dad",
   "metadata": {},
   "outputs": [
    {
     "name": "stdout",
     "output_type": "stream",
     "text": [
      "Classification accuracy = 58.2%\n",
      "Precision = 55.7%\n",
      "TPR or Recall = 79.8%\n",
      "FNR = 20.2%\n",
      "FPR = 63.4%\n",
      "ROC-AUC = 60.5%\n"
     ]
    },
    {
     "data": {
      "image/png": "[encoded data removed]",
      "text/plain": [
       "<Figure size 432x288 with 2 Axes>"
      ]
     },
     "metadata": {},
     "output_type": "display_data"
    }
   ],
   "source": [
    "confusion_matrix_data(train1_dummy, train1_dummy.readmitted, model1_1, cutoff=0.5)"
   ]
  },
  {
   "cell_type": "code",
   "execution_count": null,
   "id": "9519295b",
   "metadata": {},
   "outputs": [
    {
     "name": "stdout",
     "output_type": "stream",
     "text": [
      "Classification accuracy = 40.0%\n",
      "Precision = 10.1%\n",
      "TPR or Recall = 70.0%\n",
      "FNR = 30.0%\n",
      "FPR = 63.0%\n",
      "ROC-AUC = 53.9%\n"
     ]
    },
    {
     "data": {
      "image/png": "[encoded data removed]",
      "text/plain": [
       "<Figure size 432x288 with 2 Axes>"
      ]
     },
     "metadata": {},
     "output_type": "display_data"
    }
   ],
   "source": [
    "confusion_matrix_data(test_dummy, test_dummy.readmitted, model1_1, cutoff=0.5)"
   ]
  },
  {
   "cell_type": "markdown",
   "id": "e2deb923",
   "metadata": {},
   "source": [
    "*Note: each subsequent model will be evaluated using the confusion matrices in the same way, with the same 0.5 cutoff. The summary statistics will be copied directly for brevity of this report.*"
   ]
  },
  {
   "cell_type": "code",
   "execution_count": null,
   "id": "9840a2ce",
   "metadata": {},
   "outputs": [
    {
     "data": {
      "text/plain": [
       "Text(0.5, 0, 'age')"
      ]
     },
     "metadata": {},
     "output_type": "display_data"
    },
    {
     "data": {
      "image/png": "[encoded data removed]",
      "text/plain": [
       "<Figure size 432x288 with 1 Axes>"
      ]
     },
     "metadata": {},
     "output_type": "display_data"
    }
   ],
   "source": [
    "# Visual inspection of how well the logit_model predicts hospital readmission based on age, on test data. The plot suggests overfitting.\n",
    "age_data = test.groupby('age')['readmitted'].agg([('readmitted_percent','mean'),('nobs','count')]).reset_index(drop=False)\n",
    "test_dummy[\"age_ind\"] =  test_dummy[\"age\"].map({5: 0, 15: 1, 25: 2, 35: 3, 45: 4, 55: 5, 65: 6, 75: 7, 85: 8, 95: 9, 105: 10})\n",
    "sns.lineplot(x = age_data.index, y= age_data['readmitted_percent'])\n",
    "sns.lineplot(x = 'age_ind', y= model1_1.predict(test_dummy), data = test_dummy, color = 'orange') \n",
    "plt.xlabel('age')"
   ]
  },
  {
   "cell_type": "markdown",
   "id": "52b28858",
   "metadata": {},
   "source": [
    "Model 1.2: Adding in the other variables in the original `logit_model`"
   ]
  },
  {
   "cell_type": "code",
   "execution_count": null,
   "id": "ccf474dd",
   "metadata": {},
   "outputs": [
    {
     "name": "stdout",
     "output_type": "stream",
     "text": [
      "Optimization terminated successfully.\n",
      "         Current function value: 0.665507\n",
      "         Iterations 8\n"
     ]
    },
    {
     "data": {
      "text/html": [
       "<table class=\"simpletable\">\n",
       "<caption>Logit Regression Results</caption>\n",
       "<tr>\n",
       "  <th>Dep. Variable:</th>      <td>readmitted</td>    <th>  No. Observations:  </th>  <td>104464</td> \n",
       "</tr>\n",
       "<tr>\n",
       "  <th>Model:</th>                 <td>Logit</td>      <th>  Df Residuals:      </th>  <td>104451</td> \n",
       "</tr>\n",
       "<tr>\n",
       "  <th>Method:</th>                 <td>MLE</td>       <th>  Df Model:          </th>  <td>    12</td> \n",
       "</tr>\n",
       "<tr>\n",
       "  <th>Date:</th>            <td>Sat, 25 Feb 2023</td> <th>  Pseudo R-squ.:     </th>  <td>0.03988</td>\n",
       "</tr>\n",
       "<tr>\n",
       "  <th>Time:</th>                <td>10:47:54</td>     <th>  Log-Likelihood:    </th> <td> -69521.</td>\n",
       "</tr>\n",
       "<tr>\n",
       "  <th>converged:</th>             <td>True</td>       <th>  LL-Null:           </th> <td> -72409.</td>\n",
       "</tr>\n",
       "<tr>\n",
       "  <th>Covariance Type:</th>     <td>nonrobust</td>    <th>  LLR p-value:       </th>  <td> 0.000</td> \n",
       "</tr>\n",
       "</table>\n",
       "<table class=\"simpletable\">\n",
       "<tr>\n",
       "          <td></td>            <th>coef</th>     <th>std err</th>      <th>z</th>      <th>P>|z|</th>  <th>[0.025</th>    <th>0.975]</th>  \n",
       "</tr>\n",
       "<tr>\n",
       "  <th>Intercept</th>        <td>   -0.7932</td> <td>    0.050</td> <td>  -15.886</td> <td> 0.000</td> <td>   -0.891</td> <td>   -0.695</td>\n",
       "</tr>\n",
       "<tr>\n",
       "  <th>time_in_hospital</th> <td>    0.0077</td> <td>    0.002</td> <td>    3.396</td> <td> 0.001</td> <td>    0.003</td> <td>    0.012</td>\n",
       "</tr>\n",
       "<tr>\n",
       "  <th>age5</th>             <td>   -2.8084</td> <td>    0.587</td> <td>   -4.785</td> <td> 0.000</td> <td>   -3.959</td> <td>   -1.658</td>\n",
       "</tr>\n",
       "<tr>\n",
       "  <th>age15</th>            <td>   -0.7544</td> <td>    0.134</td> <td>   -5.644</td> <td> 0.000</td> <td>   -1.016</td> <td>   -0.492</td>\n",
       "</tr>\n",
       "<tr>\n",
       "  <th>age25</th>            <td>   -0.4803</td> <td>    0.091</td> <td>   -5.306</td> <td> 0.000</td> <td>   -0.658</td> <td>   -0.303</td>\n",
       "</tr>\n",
       "<tr>\n",
       "  <th>age35</th>            <td>   -0.1463</td> <td>    0.065</td> <td>   -2.237</td> <td> 0.025</td> <td>   -0.275</td> <td>   -0.018</td>\n",
       "</tr>\n",
       "<tr>\n",
       "  <th>age45</th>            <td>    0.2577</td> <td>    0.054</td> <td>    4.735</td> <td> 0.000</td> <td>    0.151</td> <td>    0.364</td>\n",
       "</tr>\n",
       "<tr>\n",
       "  <th>age55</th>            <td>    0.4423</td> <td>    0.052</td> <td>    8.576</td> <td> 0.000</td> <td>    0.341</td> <td>    0.543</td>\n",
       "</tr>\n",
       "<tr>\n",
       "  <th>age65</th>            <td>    0.9100</td> <td>    0.051</td> <td>   18.004</td> <td> 0.000</td> <td>    0.811</td> <td>    1.009</td>\n",
       "</tr>\n",
       "<tr>\n",
       "  <th>age75</th>            <td>    1.1918</td> <td>    0.050</td> <td>   23.761</td> <td> 0.000</td> <td>    1.093</td> <td>    1.290</td>\n",
       "</tr>\n",
       "<tr>\n",
       "  <th>age85</th>            <td>    1.0440</td> <td>    0.051</td> <td>   20.458</td> <td> 0.000</td> <td>    0.944</td> <td>    1.144</td>\n",
       "</tr>\n",
       "<tr>\n",
       "  <th>num_of_changes</th>   <td>   -0.5263</td> <td>    0.015</td> <td>  -34.030</td> <td> 0.000</td> <td>   -0.557</td> <td>   -0.496</td>\n",
       "</tr>\n",
       "<tr>\n",
       "  <th>number_inpatient</th> <td>    0.1466</td> <td>    0.010</td> <td>   14.338</td> <td> 0.000</td> <td>    0.127</td> <td>    0.167</td>\n",
       "</tr>\n",
       "</table>"
      ],
      "text/plain": [
       "<class 'statsmodels.iolib.summary.Summary'>\n",
       "\"\"\"\n",
       "                           Logit Regression Results                           \n",
       "==============================================================================\n",
       "Dep. Variable:             readmitted   No. Observations:               104464\n",
       "Model:                          Logit   Df Residuals:                   104451\n",
       "Method:                           MLE   Df Model:                           12\n",
       "Date:                Sat, 25 Feb 2023   Pseudo R-squ.:                 0.03988\n",
       "Time:                        10:47:54   Log-Likelihood:                -69521.\n",
       "converged:                       True   LL-Null:                       -72409.\n",
       "Covariance Type:            nonrobust   LLR p-value:                     0.000\n",
       "====================================================================================\n",
       "                       coef    std err          z      P>|z|      [0.025      0.975]\n",
       "------------------------------------------------------------------------------------\n",
       "Intercept           -0.7932      0.050    -15.886      0.000      -0.891      -0.695\n",
       "time_in_hospital     0.0077      0.002      3.396      0.001       0.003       0.012\n",
       "age5                -2.8084      0.587     -4.785      0.000      -3.959      -1.658\n",
       "age15               -0.7544      0.134     -5.644      0.000      -1.016      -0.492\n",
       "age25               -0.4803      0.091     -5.306      0.000      -0.658      -0.303\n",
       "age35               -0.1463      0.065     -2.237      0.025      -0.275      -0.018\n",
       "age45                0.2577      0.054      4.735      0.000       0.151       0.364\n",
       "age55                0.4423      0.052      8.576      0.000       0.341       0.543\n",
       "age65                0.9100      0.051     18.004      0.000       0.811       1.009\n",
       "age75                1.1918      0.050     23.761      0.000       1.093       1.290\n",
       "age85                1.0440      0.051     20.458      0.000       0.944       1.144\n",
       "num_of_changes      -0.5263      0.015    -34.030      0.000      -0.557      -0.496\n",
       "number_inpatient     0.1466      0.010     14.338      0.000       0.127       0.167\n",
       "====================================================================================\n",
       "\"\"\""
      ]
     },
     "metadata": {},
     "output_type": "display_data"
    }
   ],
   "source": [
    "model1_2 = sm.logit(formula = \"readmitted ~ time_in_hospital + age5 + age15 + age25 + age35 + age45 + age55 + age65 + age75 + age85 + num_of_changes + number_inpatient\", data = train1_dummy).fit() \n",
    "model1_2.summary()"
   ]
  },
  {
   "cell_type": "markdown",
   "id": "e4bde500",
   "metadata": {},
   "source": [
    "Metrics on training data <br>\n",
    "- Classification accuracy = 59.5%\n",
    "- Precision = 58.0%\n",
    "- TPR or Recall = 69.0%\n",
    "- FNR = 31.0%\n",
    "- FPR = 50.0%\n",
    "- ROC-AUC = 62.8%\n",
    "\n",
    "Metrics on test data <br>\n",
    "- Classification accuracy = 51.0%\n",
    "- Precision = 10.1%\n",
    "- TPR or Recall = 55.3%\n",
    "- FNR = 44.7%\n",
    "- FPR = 49.4%\n",
    "- ROC-AUC = 54.9%"
   ]
  },
  {
   "cell_type": "markdown",
   "id": "7ca632f5",
   "metadata": {},
   "source": [
    "Model 1.3: Interaction between `time_in_hospital` and each `age` value"
   ]
  },
  {
   "cell_type": "code",
   "execution_count": null,
   "id": "1e2b0e58",
   "metadata": {},
   "outputs": [
    {
     "name": "stdout",
     "output_type": "stream",
     "text": [
      "Optimization terminated successfully.\n",
      "         Current function value: 0.664681\n",
      "         Iterations 8\n"
     ]
    },
    {
     "data": {
      "text/html": [
       "<table class=\"simpletable\">\n",
       "<caption>Logit Regression Results</caption>\n",
       "<tr>\n",
       "  <th>Dep. Variable:</th>      <td>readmitted</td>    <th>  No. Observations:  </th>  <td>104464</td> \n",
       "</tr>\n",
       "<tr>\n",
       "  <th>Model:</th>                 <td>Logit</td>      <th>  Df Residuals:      </th>  <td>104442</td> \n",
       "</tr>\n",
       "<tr>\n",
       "  <th>Method:</th>                 <td>MLE</td>       <th>  Df Model:          </th>  <td>    21</td> \n",
       "</tr>\n",
       "<tr>\n",
       "  <th>Date:</th>            <td>Sat, 25 Feb 2023</td> <th>  Pseudo R-squ.:     </th>  <td>0.04107</td>\n",
       "</tr>\n",
       "<tr>\n",
       "  <th>Time:</th>                <td>10:48:03</td>     <th>  Log-Likelihood:    </th> <td> -69435.</td>\n",
       "</tr>\n",
       "<tr>\n",
       "  <th>converged:</th>             <td>True</td>       <th>  LL-Null:           </th> <td> -72409.</td>\n",
       "</tr>\n",
       "<tr>\n",
       "  <th>Covariance Type:</th>     <td>nonrobust</td>    <th>  LLR p-value:       </th>  <td> 0.000</td> \n",
       "</tr>\n",
       "</table>\n",
       "<table class=\"simpletable\">\n",
       "<tr>\n",
       "             <td></td>               <th>coef</th>     <th>std err</th>      <th>z</th>      <th>P>|z|</th>  <th>[0.025</th>    <th>0.975]</th>  \n",
       "</tr>\n",
       "<tr>\n",
       "  <th>Intercept</th>              <td>   -0.4670</td> <td>    0.097</td> <td>   -4.829</td> <td> 0.000</td> <td>   -0.656</td> <td>   -0.277</td>\n",
       "</tr>\n",
       "<tr>\n",
       "  <th>time_in_hospital</th>       <td>   -0.0652</td> <td>    0.019</td> <td>   -3.410</td> <td> 0.001</td> <td>   -0.103</td> <td>   -0.028</td>\n",
       "</tr>\n",
       "<tr>\n",
       "  <th>age5</th>                   <td>   -3.5511</td> <td>    1.510</td> <td>   -2.352</td> <td> 0.019</td> <td>   -6.511</td> <td>   -0.591</td>\n",
       "</tr>\n",
       "<tr>\n",
       "  <th>time_in_hospital:age5</th>  <td>    0.2352</td> <td>    0.522</td> <td>    0.450</td> <td> 0.652</td> <td>   -0.788</td> <td>    1.259</td>\n",
       "</tr>\n",
       "<tr>\n",
       "  <th>age15</th>                  <td>   -1.7211</td> <td>    0.239</td> <td>   -7.191</td> <td> 0.000</td> <td>   -2.190</td> <td>   -1.252</td>\n",
       "</tr>\n",
       "<tr>\n",
       "  <th>time_in_hospital:age15</th> <td>    0.2653</td> <td>    0.053</td> <td>    4.981</td> <td> 0.000</td> <td>    0.161</td> <td>    0.370</td>\n",
       "</tr>\n",
       "<tr>\n",
       "  <th>age25</th>                  <td>   -0.8523</td> <td>    0.165</td> <td>   -5.161</td> <td> 0.000</td> <td>   -1.176</td> <td>   -0.529</td>\n",
       "</tr>\n",
       "<tr>\n",
       "  <th>time_in_hospital:age25</th> <td>    0.0863</td> <td>    0.037</td> <td>    2.346</td> <td> 0.019</td> <td>    0.014</td> <td>    0.158</td>\n",
       "</tr>\n",
       "<tr>\n",
       "  <th>age35</th>                  <td>   -0.6767</td> <td>    0.123</td> <td>   -5.513</td> <td> 0.000</td> <td>   -0.917</td> <td>   -0.436</td>\n",
       "</tr>\n",
       "<tr>\n",
       "  <th>time_in_hospital:age35</th> <td>    0.1271</td> <td>    0.025</td> <td>    5.098</td> <td> 0.000</td> <td>    0.078</td> <td>    0.176</td>\n",
       "</tr>\n",
       "<tr>\n",
       "  <th>age45</th>                  <td>   -0.2660</td> <td>    0.105</td> <td>   -2.524</td> <td> 0.012</td> <td>   -0.473</td> <td>   -0.059</td>\n",
       "</tr>\n",
       "<tr>\n",
       "  <th>time_in_hospital:age45</th> <td>    0.1230</td> <td>    0.021</td> <td>    5.870</td> <td> 0.000</td> <td>    0.082</td> <td>    0.164</td>\n",
       "</tr>\n",
       "<tr>\n",
       "  <th>age55</th>                  <td>   -0.0545</td> <td>    0.101</td> <td>   -0.539</td> <td> 0.590</td> <td>   -0.253</td> <td>    0.144</td>\n",
       "</tr>\n",
       "<tr>\n",
       "  <th>time_in_hospital:age55</th> <td>    0.1148</td> <td>    0.020</td> <td>    5.728</td> <td> 0.000</td> <td>    0.075</td> <td>    0.154</td>\n",
       "</tr>\n",
       "<tr>\n",
       "  <th>age65</th>                  <td>    0.5796</td> <td>    0.099</td> <td>    5.827</td> <td> 0.000</td> <td>    0.385</td> <td>    0.775</td>\n",
       "</tr>\n",
       "<tr>\n",
       "  <th>time_in_hospital:age65</th> <td>    0.0740</td> <td>    0.020</td> <td>    3.766</td> <td> 0.000</td> <td>    0.036</td> <td>    0.113</td>\n",
       "</tr>\n",
       "<tr>\n",
       "  <th>age75</th>                  <td>    0.9146</td> <td>    0.099</td> <td>    9.243</td> <td> 0.000</td> <td>    0.721</td> <td>    1.109</td>\n",
       "</tr>\n",
       "<tr>\n",
       "  <th>time_in_hospital:age75</th> <td>    0.0619</td> <td>    0.020</td> <td>    3.173</td> <td> 0.002</td> <td>    0.024</td> <td>    0.100</td>\n",
       "</tr>\n",
       "<tr>\n",
       "  <th>age85</th>                  <td>    0.8729</td> <td>    0.101</td> <td>    8.666</td> <td> 0.000</td> <td>    0.675</td> <td>    1.070</td>\n",
       "</tr>\n",
       "<tr>\n",
       "  <th>time_in_hospital:age85</th> <td>    0.0394</td> <td>    0.020</td> <td>    1.991</td> <td> 0.047</td> <td>    0.001</td> <td>    0.078</td>\n",
       "</tr>\n",
       "<tr>\n",
       "  <th>num_of_changes</th>         <td>   -0.5282</td> <td>    0.015</td> <td>  -34.156</td> <td> 0.000</td> <td>   -0.559</td> <td>   -0.498</td>\n",
       "</tr>\n",
       "<tr>\n",
       "  <th>number_inpatient</th>       <td>    0.1456</td> <td>    0.010</td> <td>   14.237</td> <td> 0.000</td> <td>    0.126</td> <td>    0.166</td>\n",
       "</tr>\n",
       "</table>"
      ],
      "text/plain": [
       "<class 'statsmodels.iolib.summary.Summary'>\n",
       "\"\"\"\n",
       "                           Logit Regression Results                           \n",
       "==============================================================================\n",
       "Dep. Variable:             readmitted   No. Observations:               104464\n",
       "Model:                          Logit   Df Residuals:                   104442\n",
       "Method:                           MLE   Df Model:                           21\n",
       "Date:                Sat, 25 Feb 2023   Pseudo R-squ.:                 0.04107\n",
       "Time:                        10:48:03   Log-Likelihood:                -69435.\n",
       "converged:                       True   LL-Null:                       -72409.\n",
       "Covariance Type:            nonrobust   LLR p-value:                     0.000\n",
       "==========================================================================================\n",
       "                             coef    std err          z      P>|z|      [0.025      0.975]\n",
       "------------------------------------------------------------------------------------------\n",
       "Intercept                 -0.4670      0.097     -4.829      0.000      -0.656      -0.277\n",
       "time_in_hospital          -0.0652      0.019     -3.410      0.001      -0.103      -0.028\n",
       "age5                      -3.5511      1.510     -2.352      0.019      -6.511      -0.591\n",
       "time_in_hospital:age5      0.2352      0.522      0.450      0.652      -0.788       1.259\n",
       "age15                     -1.7211      0.239     -7.191      0.000      -2.190      -1.252\n",
       "time_in_hospital:age15     0.2653      0.053      4.981      0.000       0.161       0.370\n",
       "age25                     -0.8523      0.165     -5.161      0.000      -1.176      -0.529\n",
       "time_in_hospital:age25     0.0863      0.037      2.346      0.019       0.014       0.158\n",
       "age35                     -0.6767      0.123     -5.513      0.000      -0.917      -0.436\n",
       "time_in_hospital:age35     0.1271      0.025      5.098      0.000       0.078       0.176\n",
       "age45                     -0.2660      0.105     -2.524      0.012      -0.473      -0.059\n",
       "time_in_hospital:age45     0.1230      0.021      5.870      0.000       0.082       0.164\n",
       "age55                     -0.0545      0.101     -0.539      0.590      -0.253       0.144\n",
       "time_in_hospital:age55     0.1148      0.020      5.728      0.000       0.075       0.154\n",
       "age65                      0.5796      0.099      5.827      0.000       0.385       0.775\n",
       "time_in_hospital:age65     0.0740      0.020      3.766      0.000       0.036       0.113\n",
       "age75                      0.9146      0.099      9.243      0.000       0.721       1.109\n",
       "time_in_hospital:age75     0.0619      0.020      3.173      0.002       0.024       0.100\n",
       "age85                      0.8729      0.101      8.666      0.000       0.675       1.070\n",
       "time_in_hospital:age85     0.0394      0.020      1.991      0.047       0.001       0.078\n",
       "num_of_changes            -0.5282      0.015    -34.156      0.000      -0.559      -0.498\n",
       "number_inpatient           0.1456      0.010     14.237      0.000       0.126       0.166\n",
       "==========================================================================================\n",
       "\"\"\""
      ]
     },
     "metadata": {},
     "output_type": "display_data"
    }
   ],
   "source": [
    "model1_3 = sm.logit(formula = 'readmitted ~ time_in_hospital*age5 + time_in_hospital*age15 + time_in_hospital*age25 + time_in_hospital*age35 + time_in_hospital*age45 + time_in_hospital*age55 + time_in_hospital*age65 + time_in_hospital*age75 + time_in_hospital*age85 +  + num_of_changes + number_inpatient', data = train1_dummy).fit(maxiter = 100) \n",
    "model1_3.summary()"
   ]
  },
  {
   "cell_type": "markdown",
   "id": "6b4b9389",
   "metadata": {},
   "source": [
    "Metrics on training data\n",
    "- Classification accuracy = 59.4%\n",
    "- Precision = 57.9%\n",
    "- TPR or Recall = 69.5%\n",
    "- FNR = 30.5%\n",
    "- FPR = 50.6%\n",
    "- ROC-AUC = 62.7%\n",
    "\n",
    "Metrics on test data\n",
    "- Classification accuracy = 50.5%\n",
    "- Precision = 10.1%\n",
    "- TPR or Recall = 55.8%\n",
    "- FNR = 44.2%\n",
    "- FPR = 50.0%\n",
    "- ROC-AUC = 54.4%"
   ]
  },
  {
   "cell_type": "markdown",
   "id": "ba7baaa5",
   "metadata": {},
   "source": [
    "Model 2.1: Making each value of `time_in_hospital` its own predictor"
   ]
  },
  {
   "cell_type": "code",
   "execution_count": null,
   "id": "caa102a4",
   "metadata": {},
   "outputs": [
    {
     "name": "stdout",
     "output_type": "stream",
     "text": [
      "Optimization terminated successfully.\n",
      "         Current function value: 0.681039\n",
      "         Iterations 4\n"
     ]
    },
    {
     "data": {
      "text/html": [
       "<table class=\"simpletable\">\n",
       "<caption>Logit Regression Results</caption>\n",
       "<tr>\n",
       "  <th>Dep. Variable:</th>      <td>readmitted</td>    <th>  No. Observations:  </th>  <td>104464</td> \n",
       "</tr>\n",
       "<tr>\n",
       "  <th>Model:</th>                 <td>Logit</td>      <th>  Df Residuals:      </th>  <td>104448</td> \n",
       "</tr>\n",
       "<tr>\n",
       "  <th>Method:</th>                 <td>MLE</td>       <th>  Df Model:          </th>  <td>    15</td> \n",
       "</tr>\n",
       "<tr>\n",
       "  <th>Date:</th>            <td>Sat, 25 Feb 2023</td> <th>  Pseudo R-squ.:     </th>  <td>0.01747</td>\n",
       "</tr>\n",
       "<tr>\n",
       "  <th>Time:</th>                <td>10:48:12</td>     <th>  Log-Likelihood:    </th> <td> -71144.</td>\n",
       "</tr>\n",
       "<tr>\n",
       "  <th>converged:</th>             <td>True</td>       <th>  LL-Null:           </th> <td> -72409.</td>\n",
       "</tr>\n",
       "<tr>\n",
       "  <th>Covariance Type:</th>     <td>nonrobust</td>    <th>  LLR p-value:       </th>  <td> 0.000</td> \n",
       "</tr>\n",
       "</table>\n",
       "<table class=\"simpletable\">\n",
       "<tr>\n",
       "           <td></td>             <th>coef</th>     <th>std err</th>      <th>z</th>      <th>P>|z|</th>  <th>[0.025</th>    <th>0.975]</th>  \n",
       "</tr>\n",
       "<tr>\n",
       "  <th>Intercept</th>          <td>   -0.4137</td> <td>    0.075</td> <td>   -5.484</td> <td> 0.000</td> <td>   -0.562</td> <td>   -0.266</td>\n",
       "</tr>\n",
       "<tr>\n",
       "  <th>time_in_hospital1</th>  <td>    0.1612</td> <td>    0.077</td> <td>    2.087</td> <td> 0.037</td> <td>    0.010</td> <td>    0.313</td>\n",
       "</tr>\n",
       "<tr>\n",
       "  <th>time_in_hospital2</th>  <td>    0.4402</td> <td>    0.077</td> <td>    5.733</td> <td> 0.000</td> <td>    0.290</td> <td>    0.591</td>\n",
       "</tr>\n",
       "<tr>\n",
       "  <th>time_in_hospital3</th>  <td>    0.5517</td> <td>    0.077</td> <td>    7.196</td> <td> 0.000</td> <td>    0.401</td> <td>    0.702</td>\n",
       "</tr>\n",
       "<tr>\n",
       "  <th>time_in_hospital4</th>  <td>    0.6356</td> <td>    0.077</td> <td>    8.245</td> <td> 0.000</td> <td>    0.485</td> <td>    0.787</td>\n",
       "</tr>\n",
       "<tr>\n",
       "  <th>time_in_hospital5</th>  <td>    0.5765</td> <td>    0.078</td> <td>    7.405</td> <td> 0.000</td> <td>    0.424</td> <td>    0.729</td>\n",
       "</tr>\n",
       "<tr>\n",
       "  <th>time_in_hospital6</th>  <td>    0.7384</td> <td>    0.078</td> <td>    9.410</td> <td> 0.000</td> <td>    0.585</td> <td>    0.892</td>\n",
       "</tr>\n",
       "<tr>\n",
       "  <th>time_in_hospital7</th>  <td>    0.6414</td> <td>    0.080</td> <td>    8.055</td> <td> 0.000</td> <td>    0.485</td> <td>    0.797</td>\n",
       "</tr>\n",
       "<tr>\n",
       "  <th>time_in_hospital8</th>  <td>    0.7241</td> <td>    0.081</td> <td>    8.921</td> <td> 0.000</td> <td>    0.565</td> <td>    0.883</td>\n",
       "</tr>\n",
       "<tr>\n",
       "  <th>time_in_hospital9</th>  <td>    0.4297</td> <td>    0.085</td> <td>    5.063</td> <td> 0.000</td> <td>    0.263</td> <td>    0.596</td>\n",
       "</tr>\n",
       "<tr>\n",
       "  <th>time_in_hospital10</th> <td>    0.6012</td> <td>    0.087</td> <td>    6.926</td> <td> 0.000</td> <td>    0.431</td> <td>    0.771</td>\n",
       "</tr>\n",
       "<tr>\n",
       "  <th>time_in_hospital11</th> <td>    0.2204</td> <td>    0.092</td> <td>    2.404</td> <td> 0.016</td> <td>    0.041</td> <td>    0.400</td>\n",
       "</tr>\n",
       "<tr>\n",
       "  <th>time_in_hospital12</th> <td>    0.4057</td> <td>    0.094</td> <td>    4.293</td> <td> 0.000</td> <td>    0.220</td> <td>    0.591</td>\n",
       "</tr>\n",
       "<tr>\n",
       "  <th>time_in_hospital13</th> <td>    0.1331</td> <td>    0.101</td> <td>    1.313</td> <td> 0.189</td> <td>   -0.066</td> <td>    0.332</td>\n",
       "</tr>\n",
       "<tr>\n",
       "  <th>num_of_changes</th>     <td>   -0.5876</td> <td>    0.015</td> <td>  -38.639</td> <td> 0.000</td> <td>   -0.617</td> <td>   -0.558</td>\n",
       "</tr>\n",
       "<tr>\n",
       "  <th>number_inpatient</th>   <td>    0.1483</td> <td>    0.010</td> <td>   14.630</td> <td> 0.000</td> <td>    0.128</td> <td>    0.168</td>\n",
       "</tr>\n",
       "</table>"
      ],
      "text/plain": [
       "<class 'statsmodels.iolib.summary.Summary'>\n",
       "\"\"\"\n",
       "                           Logit Regression Results                           \n",
       "==============================================================================\n",
       "Dep. Variable:             readmitted   No. Observations:               104464\n",
       "Model:                          Logit   Df Residuals:                   104448\n",
       "Method:                           MLE   Df Model:                           15\n",
       "Date:                Sat, 25 Feb 2023   Pseudo R-squ.:                 0.01747\n",
       "Time:                        10:48:12   Log-Likelihood:                -71144.\n",
       "converged:                       True   LL-Null:                       -72409.\n",
       "Covariance Type:            nonrobust   LLR p-value:                     0.000\n",
       "======================================================================================\n",
       "                         coef    std err          z      P>|z|      [0.025      0.975]\n",
       "--------------------------------------------------------------------------------------\n",
       "Intercept             -0.4137      0.075     -5.484      0.000      -0.562      -0.266\n",
       "time_in_hospital1      0.1612      0.077      2.087      0.037       0.010       0.313\n",
       "time_in_hospital2      0.4402      0.077      5.733      0.000       0.290       0.591\n",
       "time_in_hospital3      0.5517      0.077      7.196      0.000       0.401       0.702\n",
       "time_in_hospital4      0.6356      0.077      8.245      0.000       0.485       0.787\n",
       "time_in_hospital5      0.5765      0.078      7.405      0.000       0.424       0.729\n",
       "time_in_hospital6      0.7384      0.078      9.410      0.000       0.585       0.892\n",
       "time_in_hospital7      0.6414      0.080      8.055      0.000       0.485       0.797\n",
       "time_in_hospital8      0.7241      0.081      8.921      0.000       0.565       0.883\n",
       "time_in_hospital9      0.4297      0.085      5.063      0.000       0.263       0.596\n",
       "time_in_hospital10     0.6012      0.087      6.926      0.000       0.431       0.771\n",
       "time_in_hospital11     0.2204      0.092      2.404      0.016       0.041       0.400\n",
       "time_in_hospital12     0.4057      0.094      4.293      0.000       0.220       0.591\n",
       "time_in_hospital13     0.1331      0.101      1.313      0.189      -0.066       0.332\n",
       "num_of_changes        -0.5876      0.015    -38.639      0.000      -0.617      -0.558\n",
       "number_inpatient       0.1483      0.010     14.630      0.000       0.128       0.168\n",
       "======================================================================================\n",
       "\"\"\""
      ]
     },
     "metadata": {},
     "output_type": "display_data"
    }
   ],
   "source": [
    "model2_1 = sm.logit(formula = 'readmitted ~ time_in_hospital1 + time_in_hospital2 + time_in_hospital3 + time_in_hospital4 + time_in_hospital5 + time_in_hospital6 + time_in_hospital7 + time_in_hospital8 + time_in_hospital9 + time_in_hospital10 + time_in_hospital11 + time_in_hospital12 + time_in_hospital13 + num_of_changes + number_inpatient', data = train1_dummy).fit() \n",
    "model2_1.summary()"
   ]
  },
  {
   "cell_type": "markdown",
   "id": "36aaadbf",
   "metadata": {},
   "source": [
    "Metrics on training data\n",
    "- Classification accuracy = 56.2%\n",
    "- Precision = 54.7%\n",
    "- TPR or Recall = 72.7%\n",
    "- FNR = 27.3%\n",
    "- FPR = 60.2%\n",
    "- ROC-AUC = 58.5%\n",
    "\n",
    "Metrics on test data\n",
    "- Classification accuracy = 42.2%\n",
    "- Precision = 9.5%\n",
    "- TPR or Recall = 61.9%\n",
    "- FNR = 38.1%\n",
    "- FPR = 59.8%\n",
    "- ROC-AUC = 53.0%"
   ]
  },
  {
   "cell_type": "markdown",
   "id": "fcb4989e",
   "metadata": {},
   "source": [
    "Model 2.2: Adding the interaction between each value of `time_in_hospital` with `num_of_changes`"
   ]
  },
  {
   "cell_type": "code",
   "execution_count": null,
   "id": "8ed59e2e",
   "metadata": {},
   "outputs": [
    {
     "name": "stdout",
     "output_type": "stream",
     "text": [
      "Optimization terminated successfully.\n",
      "         Current function value: 0.681168\n",
      "         Iterations 5\n"
     ]
    },
    {
     "data": {
      "text/html": [
       "<table class=\"simpletable\">\n",
       "<caption>Logit Regression Results</caption>\n",
       "<tr>\n",
       "  <th>Dep. Variable:</th>      <td>readmitted</td>    <th>  No. Observations:  </th>  <td>104464</td> \n",
       "</tr>\n",
       "<tr>\n",
       "  <th>Model:</th>                 <td>Logit</td>      <th>  Df Residuals:      </th>  <td>104436</td> \n",
       "</tr>\n",
       "<tr>\n",
       "  <th>Method:</th>                 <td>MLE</td>       <th>  Df Model:          </th>  <td>    27</td> \n",
       "</tr>\n",
       "<tr>\n",
       "  <th>Date:</th>            <td>Sat, 25 Feb 2023</td> <th>  Pseudo R-squ.:     </th>  <td>0.01728</td>\n",
       "</tr>\n",
       "<tr>\n",
       "  <th>Time:</th>                <td>10:48:20</td>     <th>  Log-Likelihood:    </th> <td> -71158.</td>\n",
       "</tr>\n",
       "<tr>\n",
       "  <th>converged:</th>             <td>True</td>       <th>  LL-Null:           </th> <td> -72409.</td>\n",
       "</tr>\n",
       "<tr>\n",
       "  <th>Covariance Type:</th>     <td>nonrobust</td>    <th>  LLR p-value:       </th>  <td> 0.000</td> \n",
       "</tr>\n",
       "</table>\n",
       "<table class=\"simpletable\">\n",
       "<tr>\n",
       "                  <td></td>                     <th>coef</th>     <th>std err</th>      <th>z</th>      <th>P>|z|</th>  <th>[0.025</th>    <th>0.975]</th>  \n",
       "</tr>\n",
       "<tr>\n",
       "  <th>Intercept</th>                         <td>   -0.2914</td> <td>    0.089</td> <td>   -3.278</td> <td> 0.001</td> <td>   -0.466</td> <td>   -0.117</td>\n",
       "</tr>\n",
       "<tr>\n",
       "  <th>num_of_changes</th>                    <td>   -0.8680</td> <td>    0.157</td> <td>   -5.535</td> <td> 0.000</td> <td>   -1.175</td> <td>   -0.561</td>\n",
       "</tr>\n",
       "<tr>\n",
       "  <th>time_in_hospital1</th>                 <td>    0.0189</td> <td>    0.091</td> <td>    0.208</td> <td> 0.835</td> <td>   -0.159</td> <td>    0.197</td>\n",
       "</tr>\n",
       "<tr>\n",
       "  <th>num_of_changes:time_in_hospital1</th>  <td>    0.6119</td> <td>    0.165</td> <td>    3.718</td> <td> 0.000</td> <td>    0.289</td> <td>    0.934</td>\n",
       "</tr>\n",
       "<tr>\n",
       "  <th>time_in_hospital2</th>                 <td>    0.2906</td> <td>    0.090</td> <td>    3.215</td> <td> 0.001</td> <td>    0.113</td> <td>    0.468</td>\n",
       "</tr>\n",
       "<tr>\n",
       "  <th>num_of_changes:time_in_hospital2</th>  <td>    0.6016</td> <td>    0.162</td> <td>    3.723</td> <td> 0.000</td> <td>    0.285</td> <td>    0.918</td>\n",
       "</tr>\n",
       "<tr>\n",
       "  <th>time_in_hospital3</th>                 <td>    0.4590</td> <td>    0.090</td> <td>    5.083</td> <td> 0.000</td> <td>    0.282</td> <td>    0.636</td>\n",
       "</tr>\n",
       "<tr>\n",
       "  <th>num_of_changes:time_in_hospital3</th>  <td>    0.2651</td> <td>    0.161</td> <td>    1.645</td> <td> 0.100</td> <td>   -0.051</td> <td>    0.581</td>\n",
       "</tr>\n",
       "<tr>\n",
       "  <th>time_in_hospital4</th>                 <td>    0.5287</td> <td>    0.091</td> <td>    5.823</td> <td> 0.000</td> <td>    0.351</td> <td>    0.707</td>\n",
       "</tr>\n",
       "<tr>\n",
       "  <th>num_of_changes:time_in_hospital4</th>  <td>    0.3353</td> <td>    0.162</td> <td>    2.074</td> <td> 0.038</td> <td>    0.018</td> <td>    0.652</td>\n",
       "</tr>\n",
       "<tr>\n",
       "  <th>time_in_hospital5</th>                 <td>    0.5242</td> <td>    0.092</td> <td>    5.719</td> <td> 0.000</td> <td>    0.345</td> <td>    0.704</td>\n",
       "</tr>\n",
       "<tr>\n",
       "  <th>num_of_changes:time_in_hospital5</th>  <td>    0.0937</td> <td>    0.164</td> <td>    0.572</td> <td> 0.567</td> <td>   -0.227</td> <td>    0.415</td>\n",
       "</tr>\n",
       "<tr>\n",
       "  <th>time_in_hospital6</th>                 <td>    0.6642</td> <td>    0.092</td> <td>    7.192</td> <td> 0.000</td> <td>    0.483</td> <td>    0.845</td>\n",
       "</tr>\n",
       "<tr>\n",
       "  <th>num_of_changes:time_in_hospital6</th>  <td>    0.2191</td> <td>    0.165</td> <td>    1.331</td> <td> 0.183</td> <td>   -0.103</td> <td>    0.542</td>\n",
       "</tr>\n",
       "<tr>\n",
       "  <th>time_in_hospital7</th>                 <td>    0.6224</td> <td>    0.094</td> <td>    6.640</td> <td> 0.000</td> <td>    0.439</td> <td>    0.806</td>\n",
       "</tr>\n",
       "<tr>\n",
       "  <th>num_of_changes:time_in_hospital7</th>  <td>   -0.0119</td> <td>    0.167</td> <td>   -0.071</td> <td> 0.943</td> <td>   -0.340</td> <td>    0.316</td>\n",
       "</tr>\n",
       "<tr>\n",
       "  <th>time_in_hospital8</th>                 <td>    0.7130</td> <td>    0.095</td> <td>    7.468</td> <td> 0.000</td> <td>    0.526</td> <td>    0.900</td>\n",
       "</tr>\n",
       "<tr>\n",
       "  <th>num_of_changes:time_in_hospital8</th>  <td>   -0.0520</td> <td>    0.171</td> <td>   -0.304</td> <td> 0.761</td> <td>   -0.387</td> <td>    0.283</td>\n",
       "</tr>\n",
       "<tr>\n",
       "  <th>time_in_hospital9</th>                 <td>    0.4055</td> <td>    0.100</td> <td>    4.069</td> <td> 0.000</td> <td>    0.210</td> <td>    0.601</td>\n",
       "</tr>\n",
       "<tr>\n",
       "  <th>num_of_changes:time_in_hospital9</th>  <td>    0.0271</td> <td>    0.179</td> <td>    0.151</td> <td> 0.880</td> <td>   -0.323</td> <td>    0.378</td>\n",
       "</tr>\n",
       "<tr>\n",
       "  <th>time_in_hospital10</th>                <td>    0.5136</td> <td>    0.103</td> <td>    4.998</td> <td> 0.000</td> <td>    0.312</td> <td>    0.715</td>\n",
       "</tr>\n",
       "<tr>\n",
       "  <th>num_of_changes:time_in_hospital10</th> <td>    0.2683</td> <td>    0.179</td> <td>    1.501</td> <td> 0.133</td> <td>   -0.082</td> <td>    0.619</td>\n",
       "</tr>\n",
       "<tr>\n",
       "  <th>time_in_hospital11</th>                <td>    0.1693</td> <td>    0.108</td> <td>    1.568</td> <td> 0.117</td> <td>   -0.042</td> <td>    0.381</td>\n",
       "</tr>\n",
       "<tr>\n",
       "  <th>num_of_changes:time_in_hospital11</th> <td>    0.1618</td> <td>    0.190</td> <td>    0.851</td> <td> 0.395</td> <td>   -0.211</td> <td>    0.535</td>\n",
       "</tr>\n",
       "<tr>\n",
       "  <th>time_in_hospital12</th>                <td>    0.3778</td> <td>    0.111</td> <td>    3.389</td> <td> 0.001</td> <td>    0.159</td> <td>    0.596</td>\n",
       "</tr>\n",
       "<tr>\n",
       "  <th>num_of_changes:time_in_hospital12</th> <td>    0.0781</td> <td>    0.196</td> <td>    0.398</td> <td> 0.691</td> <td>   -0.307</td> <td>    0.463</td>\n",
       "</tr>\n",
       "<tr>\n",
       "  <th>time_in_hospital13</th>                <td>    0.0912</td> <td>    0.120</td> <td>    0.758</td> <td> 0.449</td> <td>   -0.145</td> <td>    0.327</td>\n",
       "</tr>\n",
       "<tr>\n",
       "  <th>num_of_changes:time_in_hospital13</th> <td>    0.1562</td> <td>    0.206</td> <td>    0.757</td> <td> 0.449</td> <td>   -0.248</td> <td>    0.561</td>\n",
       "</tr>\n",
       "</table>"
      ],
      "text/plain": [
       "<class 'statsmodels.iolib.summary.Summary'>\n",
       "\"\"\"\n",
       "                           Logit Regression Results                           \n",
       "==============================================================================\n",
       "Dep. Variable:             readmitted   No. Observations:               104464\n",
       "Model:                          Logit   Df Residuals:                   104436\n",
       "Method:                           MLE   Df Model:                           27\n",
       "Date:                Sat, 25 Feb 2023   Pseudo R-squ.:                 0.01728\n",
       "Time:                        10:48:20   Log-Likelihood:                -71158.\n",
       "converged:                       True   LL-Null:                       -72409.\n",
       "Covariance Type:            nonrobust   LLR p-value:                     0.000\n",
       "=====================================================================================================\n",
       "                                        coef    std err          z      P>|z|      [0.025      0.975]\n",
       "-----------------------------------------------------------------------------------------------------\n",
       "Intercept                            -0.2914      0.089     -3.278      0.001      -0.466      -0.117\n",
       "num_of_changes                       -0.8680      0.157     -5.535      0.000      -1.175      -0.561\n",
       "time_in_hospital1                     0.0189      0.091      0.208      0.835      -0.159       0.197\n",
       "num_of_changes:time_in_hospital1      0.6119      0.165      3.718      0.000       0.289       0.934\n",
       "time_in_hospital2                     0.2906      0.090      3.215      0.001       0.113       0.468\n",
       "num_of_changes:time_in_hospital2      0.6016      0.162      3.723      0.000       0.285       0.918\n",
       "time_in_hospital3                     0.4590      0.090      5.083      0.000       0.282       0.636\n",
       "num_of_changes:time_in_hospital3      0.2651      0.161      1.645      0.100      -0.051       0.581\n",
       "time_in_hospital4                     0.5287      0.091      5.823      0.000       0.351       0.707\n",
       "num_of_changes:time_in_hospital4      0.3353      0.162      2.074      0.038       0.018       0.652\n",
       "time_in_hospital5                     0.5242      0.092      5.719      0.000       0.345       0.704\n",
       "num_of_changes:time_in_hospital5      0.0937      0.164      0.572      0.567      -0.227       0.415\n",
       "time_in_hospital6                     0.6642      0.092      7.192      0.000       0.483       0.845\n",
       "num_of_changes:time_in_hospital6      0.2191      0.165      1.331      0.183      -0.103       0.542\n",
       "time_in_hospital7                     0.6224      0.094      6.640      0.000       0.439       0.806\n",
       "num_of_changes:time_in_hospital7     -0.0119      0.167     -0.071      0.943      -0.340       0.316\n",
       "time_in_hospital8                     0.7130      0.095      7.468      0.000       0.526       0.900\n",
       "num_of_changes:time_in_hospital8     -0.0520      0.171     -0.304      0.761      -0.387       0.283\n",
       "time_in_hospital9                     0.4055      0.100      4.069      0.000       0.210       0.601\n",
       "num_of_changes:time_in_hospital9      0.0271      0.179      0.151      0.880      -0.323       0.378\n",
       "time_in_hospital10                    0.5136      0.103      4.998      0.000       0.312       0.715\n",
       "num_of_changes:time_in_hospital10     0.2683      0.179      1.501      0.133      -0.082       0.619\n",
       "time_in_hospital11                    0.1693      0.108      1.568      0.117      -0.042       0.381\n",
       "num_of_changes:time_in_hospital11     0.1618      0.190      0.851      0.395      -0.211       0.535\n",
       "time_in_hospital12                    0.3778      0.111      3.389      0.001       0.159       0.596\n",
       "num_of_changes:time_in_hospital12     0.0781      0.196      0.398      0.691      -0.307       0.463\n",
       "time_in_hospital13                    0.0912      0.120      0.758      0.449      -0.145       0.327\n",
       "num_of_changes:time_in_hospital13     0.1562      0.206      0.757      0.449      -0.248       0.561\n",
       "=====================================================================================================\n",
       "\"\"\""
      ]
     },
     "metadata": {},
     "output_type": "display_data"
    }
   ],
   "source": [
    "model2_2 = sm.logit(formula = 'readmitted ~ num_of_changes*time_in_hospital1 + num_of_changes*time_in_hospital2 + num_of_changes*time_in_hospital3 + num_of_changes*time_in_hospital4 + num_of_changes*time_in_hospital5 + num_of_changes*time_in_hospital6 + num_of_changes*time_in_hospital7 + num_of_changes*time_in_hospital8 + num_of_changes*time_in_hospital9 + num_of_changes*time_in_hospital10 + num_of_changes*time_in_hospital11 + num_of_changes*time_in_hospital12 + num_of_changes*time_in_hospital13', data = train1_dummy).fit() \n",
    "model2_2.summary()"
   ]
  },
  {
   "cell_type": "markdown",
   "id": "53cfbd14",
   "metadata": {},
   "source": [
    "Metrics on training data\n",
    "- Classification accuracy = 56.2%\n",
    "- Precision = 55.9%\n",
    "- TPR or Recall = 58.4%\n",
    "- FNR = 41.6%\n",
    "- FPR = 46.0%\n",
    "- ROC-AUC = 58.2%\n",
    "\n",
    "Metrics on test data\n",
    "- Classification accuracy = 53.8%\n",
    "- Precision = 9.8%\n",
    "- TPR or Recall = 49.2%\n",
    "- FNR = 50.8%\n",
    "- FPR = 45.8%\n",
    "- ROC-AUC = 50.7%"
   ]
  },
  {
   "cell_type": "markdown",
   "id": "c443bacc",
   "metadata": {},
   "source": [
    "Model 2.3: Making each value of both `time_in_hospital` and `age` their own predictors"
   ]
  },
  {
   "cell_type": "code",
   "execution_count": null,
   "id": "2fc5a797",
   "metadata": {},
   "outputs": [
    {
     "name": "stdout",
     "output_type": "stream",
     "text": [
      "Optimization terminated successfully.\n",
      "         Current function value: 0.681168\n",
      "         Iterations 5\n"
     ]
    },
    {
     "data": {
      "text/html": [
       "<table class=\"simpletable\">\n",
       "<caption>Logit Regression Results</caption>\n",
       "<tr>\n",
       "  <th>Dep. Variable:</th>      <td>readmitted</td>    <th>  No. Observations:  </th>  <td>104464</td> \n",
       "</tr>\n",
       "<tr>\n",
       "  <th>Model:</th>                 <td>Logit</td>      <th>  Df Residuals:      </th>  <td>104436</td> \n",
       "</tr>\n",
       "<tr>\n",
       "  <th>Method:</th>                 <td>MLE</td>       <th>  Df Model:          </th>  <td>    27</td> \n",
       "</tr>\n",
       "<tr>\n",
       "  <th>Date:</th>            <td>Sat, 25 Feb 2023</td> <th>  Pseudo R-squ.:     </th>  <td>0.01728</td>\n",
       "</tr>\n",
       "<tr>\n",
       "  <th>Time:</th>                <td>10:48:20</td>     <th>  Log-Likelihood:    </th> <td> -71158.</td>\n",
       "</tr>\n",
       "<tr>\n",
       "  <th>converged:</th>             <td>True</td>       <th>  LL-Null:           </th> <td> -72409.</td>\n",
       "</tr>\n",
       "<tr>\n",
       "  <th>Covariance Type:</th>     <td>nonrobust</td>    <th>  LLR p-value:       </th>  <td> 0.000</td> \n",
       "</tr>\n",
       "</table>\n",
       "<table class=\"simpletable\">\n",
       "<tr>\n",
       "                  <td></td>                     <th>coef</th>     <th>std err</th>      <th>z</th>      <th>P>|z|</th>  <th>[0.025</th>    <th>0.975]</th>  \n",
       "</tr>\n",
       "<tr>\n",
       "  <th>Intercept</th>                         <td>   -0.2914</td> <td>    0.089</td> <td>   -3.278</td> <td> 0.001</td> <td>   -0.466</td> <td>   -0.117</td>\n",
       "</tr>\n",
       "<tr>\n",
       "  <th>num_of_changes</th>                    <td>   -0.8680</td> <td>    0.157</td> <td>   -5.535</td> <td> 0.000</td> <td>   -1.175</td> <td>   -0.561</td>\n",
       "</tr>\n",
       "<tr>\n",
       "  <th>time_in_hospital1</th>                 <td>    0.0189</td> <td>    0.091</td> <td>    0.208</td> <td> 0.835</td> <td>   -0.159</td> <td>    0.197</td>\n",
       "</tr>\n",
       "<tr>\n",
       "  <th>num_of_changes:time_in_hospital1</th>  <td>    0.6119</td> <td>    0.165</td> <td>    3.718</td> <td> 0.000</td> <td>    0.289</td> <td>    0.934</td>\n",
       "</tr>\n",
       "<tr>\n",
       "  <th>time_in_hospital2</th>                 <td>    0.2906</td> <td>    0.090</td> <td>    3.215</td> <td> 0.001</td> <td>    0.113</td> <td>    0.468</td>\n",
       "</tr>\n",
       "<tr>\n",
       "  <th>num_of_changes:time_in_hospital2</th>  <td>    0.6016</td> <td>    0.162</td> <td>    3.723</td> <td> 0.000</td> <td>    0.285</td> <td>    0.918</td>\n",
       "</tr>\n",
       "<tr>\n",
       "  <th>time_in_hospital3</th>                 <td>    0.4590</td> <td>    0.090</td> <td>    5.083</td> <td> 0.000</td> <td>    0.282</td> <td>    0.636</td>\n",
       "</tr>\n",
       "<tr>\n",
       "  <th>num_of_changes:time_in_hospital3</th>  <td>    0.2651</td> <td>    0.161</td> <td>    1.645</td> <td> 0.100</td> <td>   -0.051</td> <td>    0.581</td>\n",
       "</tr>\n",
       "<tr>\n",
       "  <th>time_in_hospital4</th>                 <td>    0.5287</td> <td>    0.091</td> <td>    5.823</td> <td> 0.000</td> <td>    0.351</td> <td>    0.707</td>\n",
       "</tr>\n",
       "<tr>\n",
       "  <th>num_of_changes:time_in_hospital4</th>  <td>    0.3353</td> <td>    0.162</td> <td>    2.074</td> <td> 0.038</td> <td>    0.018</td> <td>    0.652</td>\n",
       "</tr>\n",
       "<tr>\n",
       "  <th>time_in_hospital5</th>                 <td>    0.5242</td> <td>    0.092</td> <td>    5.719</td> <td> 0.000</td> <td>    0.345</td> <td>    0.704</td>\n",
       "</tr>\n",
       "<tr>\n",
       "  <th>num_of_changes:time_in_hospital5</th>  <td>    0.0937</td> <td>    0.164</td> <td>    0.572</td> <td> 0.567</td> <td>   -0.227</td> <td>    0.415</td>\n",
       "</tr>\n",
       "<tr>\n",
       "  <th>time_in_hospital6</th>                 <td>    0.6642</td> <td>    0.092</td> <td>    7.192</td> <td> 0.000</td> <td>    0.483</td> <td>    0.845</td>\n",
       "</tr>\n",
       "<tr>\n",
       "  <th>num_of_changes:time_in_hospital6</th>  <td>    0.2191</td> <td>    0.165</td> <td>    1.331</td> <td> 0.183</td> <td>   -0.103</td> <td>    0.542</td>\n",
       "</tr>\n",
       "<tr>\n",
       "  <th>time_in_hospital7</th>                 <td>    0.6224</td> <td>    0.094</td> <td>    6.640</td> <td> 0.000</td> <td>    0.439</td> <td>    0.806</td>\n",
       "</tr>\n",
       "<tr>\n",
       "  <th>num_of_changes:time_in_hospital7</th>  <td>   -0.0119</td> <td>    0.167</td> <td>   -0.071</td> <td> 0.943</td> <td>   -0.340</td> <td>    0.316</td>\n",
       "</tr>\n",
       "<tr>\n",
       "  <th>time_in_hospital8</th>                 <td>    0.7130</td> <td>    0.095</td> <td>    7.468</td> <td> 0.000</td> <td>    0.526</td> <td>    0.900</td>\n",
       "</tr>\n",
       "<tr>\n",
       "  <th>num_of_changes:time_in_hospital8</th>  <td>   -0.0520</td> <td>    0.171</td> <td>   -0.304</td> <td> 0.761</td> <td>   -0.387</td> <td>    0.283</td>\n",
       "</tr>\n",
       "<tr>\n",
       "  <th>time_in_hospital9</th>                 <td>    0.4055</td> <td>    0.100</td> <td>    4.069</td> <td> 0.000</td> <td>    0.210</td> <td>    0.601</td>\n",
       "</tr>\n",
       "<tr>\n",
       "  <th>num_of_changes:time_in_hospital9</th>  <td>    0.0271</td> <td>    0.179</td> <td>    0.151</td> <td> 0.880</td> <td>   -0.323</td> <td>    0.378</td>\n",
       "</tr>\n",
       "<tr>\n",
       "  <th>time_in_hospital10</th>                <td>    0.5136</td> <td>    0.103</td> <td>    4.998</td> <td> 0.000</td> <td>    0.312</td> <td>    0.715</td>\n",
       "</tr>\n",
       "<tr>\n",
       "  <th>num_of_changes:time_in_hospital10</th> <td>    0.2683</td> <td>    0.179</td> <td>    1.501</td> <td> 0.133</td> <td>   -0.082</td> <td>    0.619</td>\n",
       "</tr>\n",
       "<tr>\n",
       "  <th>time_in_hospital11</th>                <td>    0.1693</td> <td>    0.108</td> <td>    1.568</td> <td> 0.117</td> <td>   -0.042</td> <td>    0.381</td>\n",
       "</tr>\n",
       "<tr>\n",
       "  <th>num_of_changes:time_in_hospital11</th> <td>    0.1618</td> <td>    0.190</td> <td>    0.851</td> <td> 0.395</td> <td>   -0.211</td> <td>    0.535</td>\n",
       "</tr>\n",
       "<tr>\n",
       "  <th>time_in_hospital12</th>                <td>    0.3778</td> <td>    0.111</td> <td>    3.389</td> <td> 0.001</td> <td>    0.159</td> <td>    0.596</td>\n",
       "</tr>\n",
       "<tr>\n",
       "  <th>num_of_changes:time_in_hospital12</th> <td>    0.0781</td> <td>    0.196</td> <td>    0.398</td> <td> 0.691</td> <td>   -0.307</td> <td>    0.463</td>\n",
       "</tr>\n",
       "<tr>\n",
       "  <th>time_in_hospital13</th>                <td>    0.0912</td> <td>    0.120</td> <td>    0.758</td> <td> 0.449</td> <td>   -0.145</td> <td>    0.327</td>\n",
       "</tr>\n",
       "<tr>\n",
       "  <th>num_of_changes:time_in_hospital13</th> <td>    0.1562</td> <td>    0.206</td> <td>    0.757</td> <td> 0.449</td> <td>   -0.248</td> <td>    0.561</td>\n",
       "</tr>\n",
       "</table>"
      ],
      "text/plain": [
       "<class 'statsmodels.iolib.summary.Summary'>\n",
       "\"\"\"\n",
       "                           Logit Regression Results                           \n",
       "==============================================================================\n",
       "Dep. Variable:             readmitted   No. Observations:               104464\n",
       "Model:                          Logit   Df Residuals:                   104436\n",
       "Method:                           MLE   Df Model:                           27\n",
       "Date:                Sat, 25 Feb 2023   Pseudo R-squ.:                 0.01728\n",
       "Time:                        10:48:20   Log-Likelihood:                -71158.\n",
       "converged:                       True   LL-Null:                       -72409.\n",
       "Covariance Type:            nonrobust   LLR p-value:                     0.000\n",
       "=====================================================================================================\n",
       "                                        coef    std err          z      P>|z|      [0.025      0.975]\n",
       "-----------------------------------------------------------------------------------------------------\n",
       "Intercept                            -0.2914      0.089     -3.278      0.001      -0.466      -0.117\n",
       "num_of_changes                       -0.8680      0.157     -5.535      0.000      -1.175      -0.561\n",
       "time_in_hospital1                     0.0189      0.091      0.208      0.835      -0.159       0.197\n",
       "num_of_changes:time_in_hospital1      0.6119      0.165      3.718      0.000       0.289       0.934\n",
       "time_in_hospital2                     0.2906      0.090      3.215      0.001       0.113       0.468\n",
       "num_of_changes:time_in_hospital2      0.6016      0.162      3.723      0.000       0.285       0.918\n",
       "time_in_hospital3                     0.4590      0.090      5.083      0.000       0.282       0.636\n",
       "num_of_changes:time_in_hospital3      0.2651      0.161      1.645      0.100      -0.051       0.581\n",
       "time_in_hospital4                     0.5287      0.091      5.823      0.000       0.351       0.707\n",
       "num_of_changes:time_in_hospital4      0.3353      0.162      2.074      0.038       0.018       0.652\n",
       "time_in_hospital5                     0.5242      0.092      5.719      0.000       0.345       0.704\n",
       "num_of_changes:time_in_hospital5      0.0937      0.164      0.572      0.567      -0.227       0.415\n",
       "time_in_hospital6                     0.6642      0.092      7.192      0.000       0.483       0.845\n",
       "num_of_changes:time_in_hospital6      0.2191      0.165      1.331      0.183      -0.103       0.542\n",
       "time_in_hospital7                     0.6224      0.094      6.640      0.000       0.439       0.806\n",
       "num_of_changes:time_in_hospital7     -0.0119      0.167     -0.071      0.943      -0.340       0.316\n",
       "time_in_hospital8                     0.7130      0.095      7.468      0.000       0.526       0.900\n",
       "num_of_changes:time_in_hospital8     -0.0520      0.171     -0.304      0.761      -0.387       0.283\n",
       "time_in_hospital9                     0.4055      0.100      4.069      0.000       0.210       0.601\n",
       "num_of_changes:time_in_hospital9      0.0271      0.179      0.151      0.880      -0.323       0.378\n",
       "time_in_hospital10                    0.5136      0.103      4.998      0.000       0.312       0.715\n",
       "num_of_changes:time_in_hospital10     0.2683      0.179      1.501      0.133      -0.082       0.619\n",
       "time_in_hospital11                    0.1693      0.108      1.568      0.117      -0.042       0.381\n",
       "num_of_changes:time_in_hospital11     0.1618      0.190      0.851      0.395      -0.211       0.535\n",
       "time_in_hospital12                    0.3778      0.111      3.389      0.001       0.159       0.596\n",
       "num_of_changes:time_in_hospital12     0.0781      0.196      0.398      0.691      -0.307       0.463\n",
       "time_in_hospital13                    0.0912      0.120      0.758      0.449      -0.145       0.327\n",
       "num_of_changes:time_in_hospital13     0.1562      0.206      0.757      0.449      -0.248       0.561\n",
       "=====================================================================================================\n",
       "\"\"\""
      ]
     },
     "metadata": {},
     "output_type": "display_data"
    }
   ],
   "source": [
    "model2_3 = sm.logit(formula = 'readmitted ~ time_in_hospital1 + time_in_hospital2 + time_in_hospital3 + time_in_hospital4 + time_in_hospital5 + time_in_hospital6 + time_in_hospital7 + time_in_hospital8 + time_in_hospital9 + time_in_hospital10 + time_in_hospital11 + time_in_hospital12 + time_in_hospital13 + num_of_changes + number_inpatient + age5 + age15 + age25 + age35 + age45 + age55 + age65 + age75 + age85', data = train1_dummy).fit() \n",
    "model2_3.summary()"
   ]
  },
  {
   "cell_type": "markdown",
   "id": "0e71c144",
   "metadata": {},
   "source": [
    "Metrics on training data\n",
    "- Classification accuracy = 59.7%\n",
    "- Precision = 58.8%\n",
    "- TPR or Recall = 65.3%\n",
    "- FNR = 34.7%\n",
    "- FPR = 45.8%\n",
    "- ROC-AUC = 63.4%\n",
    "\n",
    "Metrics on test data\n",
    "- Classification accuracy = 54.0%\n",
    "- Precision = 10.1%\n",
    "- TPR or Recall = 51.0%\n",
    "- FNR = 49.0%\n",
    "- FPR = 45.6%\n",
    "- ROC-AUC = 54.6%"
   ]
  },
  {
   "cell_type": "markdown",
   "id": "b9215a98",
   "metadata": {},
   "source": [
    "Model 3.1: Investigate the predictive capability of `diag_1`"
   ]
  },
  {
   "cell_type": "code",
   "execution_count": null,
   "id": "94604221",
   "metadata": {},
   "outputs": [
    {
     "name": "stdout",
     "output_type": "stream",
     "text": [
      "Optimization terminated successfully.\n",
      "         Current function value: 0.673863\n",
      "         Iterations 6\n"
     ]
    },
    {
     "data": {
      "text/html": [
       "<table class=\"simpletable\">\n",
       "<caption>Logit Regression Results</caption>\n",
       "<tr>\n",
       "  <th>Dep. Variable:</th>      <td>readmitted</td>    <th>  No. Observations:  </th>  <td>104464</td> \n",
       "</tr>\n",
       "<tr>\n",
       "  <th>Model:</th>                 <td>Logit</td>      <th>  Df Residuals:      </th>  <td>104454</td> \n",
       "</tr>\n",
       "<tr>\n",
       "  <th>Method:</th>                 <td>MLE</td>       <th>  Df Model:          </th>  <td>     9</td> \n",
       "</tr>\n",
       "<tr>\n",
       "  <th>Date:</th>            <td>Sat, 25 Feb 2023</td> <th>  Pseudo R-squ.:     </th>  <td>0.02782</td>\n",
       "</tr>\n",
       "<tr>\n",
       "  <th>Time:</th>                <td>10:48:41</td>     <th>  Log-Likelihood:    </th> <td> -70394.</td>\n",
       "</tr>\n",
       "<tr>\n",
       "  <th>converged:</th>             <td>True</td>       <th>  LL-Null:           </th> <td> -72409.</td>\n",
       "</tr>\n",
       "<tr>\n",
       "  <th>Covariance Type:</th>     <td>nonrobust</td>    <th>  LLR p-value:       </th>  <td> 0.000</td> \n",
       "</tr>\n",
       "</table>\n",
       "<table class=\"simpletable\">\n",
       "<tr>\n",
       "              <td></td>                 <th>coef</th>     <th>std err</th>      <th>z</th>      <th>P>|z|</th>  <th>[0.025</th>    <th>0.975]</th>  \n",
       "</tr>\n",
       "<tr>\n",
       "  <th>Intercept</th>                 <td>    0.4319</td> <td>    0.010</td> <td>   42.365</td> <td> 0.000</td> <td>    0.412</td> <td>    0.452</td>\n",
       "</tr>\n",
       "<tr>\n",
       "  <th>diag_1[T.diabetes]</th>        <td>   -0.7514</td> <td>    0.026</td> <td>  -29.156</td> <td> 0.000</td> <td>   -0.802</td> <td>   -0.701</td>\n",
       "</tr>\n",
       "<tr>\n",
       "  <th>diag_1[T.digestive]</th>       <td>   -0.8362</td> <td>    0.025</td> <td>  -33.550</td> <td> 0.000</td> <td>   -0.885</td> <td>   -0.787</td>\n",
       "</tr>\n",
       "<tr>\n",
       "  <th>diag_1[T.genitourinary]</th>   <td>   -0.9242</td> <td>    0.033</td> <td>  -27.609</td> <td> 0.000</td> <td>   -0.990</td> <td>   -0.859</td>\n",
       "</tr>\n",
       "<tr>\n",
       "  <th>diag_1[T.injury]</th>          <td>   -0.4529</td> <td>    0.026</td> <td>  -17.200</td> <td> 0.000</td> <td>   -0.504</td> <td>   -0.401</td>\n",
       "</tr>\n",
       "<tr>\n",
       "  <th>diag_1[T.musculoskeletal]</th> <td>   -0.8864</td> <td>    0.031</td> <td>  -28.402</td> <td> 0.000</td> <td>   -0.948</td> <td>   -0.825</td>\n",
       "</tr>\n",
       "<tr>\n",
       "  <th>diag_1[T.neoplasms]</th>       <td>   -1.0191</td> <td>    0.038</td> <td>  -26.473</td> <td> 0.000</td> <td>   -1.095</td> <td>   -0.944</td>\n",
       "</tr>\n",
       "<tr>\n",
       "  <th>diag_1[T.other]</th>           <td>   -0.3966</td> <td>    0.018</td> <td>  -21.701</td> <td> 0.000</td> <td>   -0.432</td> <td>   -0.361</td>\n",
       "</tr>\n",
       "<tr>\n",
       "  <th>diag_1[T.pregnecy]</th>        <td>   -2.3800</td> <td>    0.133</td> <td>  -17.899</td> <td> 0.000</td> <td>   -2.641</td> <td>   -2.119</td>\n",
       "</tr>\n",
       "<tr>\n",
       "  <th>diag_1[T.respiratory]</th>     <td>   -0.8861</td> <td>    0.021</td> <td>  -41.431</td> <td> 0.000</td> <td>   -0.928</td> <td>   -0.844</td>\n",
       "</tr>\n",
       "</table>"
      ],
      "text/plain": [
       "<class 'statsmodels.iolib.summary.Summary'>\n",
       "\"\"\"\n",
       "                           Logit Regression Results                           \n",
       "==============================================================================\n",
       "Dep. Variable:             readmitted   No. Observations:               104464\n",
       "Model:                          Logit   Df Residuals:                   104454\n",
       "Method:                           MLE   Df Model:                            9\n",
       "Date:                Sat, 25 Feb 2023   Pseudo R-squ.:                 0.02782\n",
       "Time:                        10:48:41   Log-Likelihood:                -70394.\n",
       "converged:                       True   LL-Null:                       -72409.\n",
       "Covariance Type:            nonrobust   LLR p-value:                     0.000\n",
       "=============================================================================================\n",
       "                                coef    std err          z      P>|z|      [0.025      0.975]\n",
       "---------------------------------------------------------------------------------------------\n",
       "Intercept                     0.4319      0.010     42.365      0.000       0.412       0.452\n",
       "diag_1[T.diabetes]           -0.7514      0.026    -29.156      0.000      -0.802      -0.701\n",
       "diag_1[T.digestive]          -0.8362      0.025    -33.550      0.000      -0.885      -0.787\n",
       "diag_1[T.genitourinary]      -0.9242      0.033    -27.609      0.000      -0.990      -0.859\n",
       "diag_1[T.injury]             -0.4529      0.026    -17.200      0.000      -0.504      -0.401\n",
       "diag_1[T.musculoskeletal]    -0.8864      0.031    -28.402      0.000      -0.948      -0.825\n",
       "diag_1[T.neoplasms]          -1.0191      0.038    -26.473      0.000      -1.095      -0.944\n",
       "diag_1[T.other]              -0.3966      0.018    -21.701      0.000      -0.432      -0.361\n",
       "diag_1[T.pregnecy]           -2.3800      0.133    -17.899      0.000      -2.641      -2.119\n",
       "diag_1[T.respiratory]        -0.8861      0.021    -41.431      0.000      -0.928      -0.844\n",
       "=============================================================================================\n",
       "\"\"\""
      ]
     },
     "metadata": {},
     "output_type": "display_data"
    }
   ],
   "source": [
    "model3_1 = sm.logit(formula = 'readmitted ~ diag_1', data = train1).fit() \n",
    "model3_1.summary()"
   ]
  },
  {
   "cell_type": "markdown",
   "id": "d1586ee5",
   "metadata": {},
   "source": [
    "Metrics on training data\n",
    "- Classification accuracy = 58.5%\n",
    "- Precision = 57.7%\n",
    "- TPR or Recall = 63.7%\n",
    "- FNR = 36.3%\n",
    "- FPR = 46.7%\n",
    "- ROC-AUC = 60.6%\n",
    "\n",
    "Metrics on test data\n",
    "- Classification accuracy = 52.8%\n",
    "- Precision = 9.9%\n",
    "- TPR or Recall = 51.3%\n",
    "- FNR = 48.7%\n",
    "- FPR = 47.1%\n",
    "- ROC-AUC = 52.9%"
   ]
  },
  {
   "cell_type": "markdown",
   "id": "afc0e4eb",
   "metadata": {},
   "source": [
    "Model 3.2: Investigate the predictive capability of both `diag_1` and `diag_2`"
   ]
  },
  {
   "cell_type": "code",
   "execution_count": null,
   "id": "f91819cf",
   "metadata": {},
   "outputs": [
    {
     "name": "stdout",
     "output_type": "stream",
     "text": [
      "Optimization terminated successfully.\n",
      "         Current function value: 0.662591\n",
      "         Iterations 6\n"
     ]
    },
    {
     "data": {
      "text/html": [
       "<table class=\"simpletable\">\n",
       "<caption>Logit Regression Results</caption>\n",
       "<tr>\n",
       "  <th>Dep. Variable:</th>      <td>readmitted</td>    <th>  No. Observations:  </th>  <td>104464</td> \n",
       "</tr>\n",
       "<tr>\n",
       "  <th>Model:</th>                 <td>Logit</td>      <th>  Df Residuals:      </th>  <td>104445</td> \n",
       "</tr>\n",
       "<tr>\n",
       "  <th>Method:</th>                 <td>MLE</td>       <th>  Df Model:          </th>  <td>    18</td> \n",
       "</tr>\n",
       "<tr>\n",
       "  <th>Date:</th>            <td>Sat, 25 Feb 2023</td> <th>  Pseudo R-squ.:     </th>  <td>0.04408</td>\n",
       "</tr>\n",
       "<tr>\n",
       "  <th>Time:</th>                <td>10:48:50</td>     <th>  Log-Likelihood:    </th> <td> -69217.</td>\n",
       "</tr>\n",
       "<tr>\n",
       "  <th>converged:</th>             <td>True</td>       <th>  LL-Null:           </th> <td> -72409.</td>\n",
       "</tr>\n",
       "<tr>\n",
       "  <th>Covariance Type:</th>     <td>nonrobust</td>    <th>  LLR p-value:       </th>  <td> 0.000</td> \n",
       "</tr>\n",
       "</table>\n",
       "<table class=\"simpletable\">\n",
       "<tr>\n",
       "              <td></td>                 <th>coef</th>     <th>std err</th>      <th>z</th>      <th>P>|z|</th>  <th>[0.025</th>    <th>0.975]</th>  \n",
       "</tr>\n",
       "<tr>\n",
       "  <th>Intercept</th>                 <td>    0.6011</td> <td>    0.012</td> <td>   49.337</td> <td> 0.000</td> <td>    0.577</td> <td>    0.625</td>\n",
       "</tr>\n",
       "<tr>\n",
       "  <th>diag_1[T.diabetes]</th>        <td>   -0.7525</td> <td>    0.027</td> <td>  -28.218</td> <td> 0.000</td> <td>   -0.805</td> <td>   -0.700</td>\n",
       "</tr>\n",
       "<tr>\n",
       "  <th>diag_1[T.digestive]</th>       <td>   -0.7387</td> <td>    0.026</td> <td>  -28.651</td> <td> 0.000</td> <td>   -0.789</td> <td>   -0.688</td>\n",
       "</tr>\n",
       "<tr>\n",
       "  <th>diag_1[T.genitourinary]</th>   <td>   -0.8555</td> <td>    0.034</td> <td>  -25.043</td> <td> 0.000</td> <td>   -0.922</td> <td>   -0.789</td>\n",
       "</tr>\n",
       "<tr>\n",
       "  <th>diag_1[T.injury]</th>          <td>   -0.3690</td> <td>    0.027</td> <td>  -13.579</td> <td> 0.000</td> <td>   -0.422</td> <td>   -0.316</td>\n",
       "</tr>\n",
       "<tr>\n",
       "  <th>diag_1[T.musculoskeletal]</th> <td>   -0.7667</td> <td>    0.032</td> <td>  -23.993</td> <td> 0.000</td> <td>   -0.829</td> <td>   -0.704</td>\n",
       "</tr>\n",
       "<tr>\n",
       "  <th>diag_1[T.neoplasms]</th>       <td>   -0.8061</td> <td>    0.040</td> <td>  -19.962</td> <td> 0.000</td> <td>   -0.885</td> <td>   -0.727</td>\n",
       "</tr>\n",
       "<tr>\n",
       "  <th>diag_1[T.other]</th>           <td>   -0.3244</td> <td>    0.019</td> <td>  -17.214</td> <td> 0.000</td> <td>   -0.361</td> <td>   -0.287</td>\n",
       "</tr>\n",
       "<tr>\n",
       "  <th>diag_1[T.pregnecy]</th>        <td>   -1.7543</td> <td>    0.164</td> <td>  -10.725</td> <td> 0.000</td> <td>   -2.075</td> <td>   -1.434</td>\n",
       "</tr>\n",
       "<tr>\n",
       "  <th>diag_1[T.respiratory]</th>     <td>   -0.8127</td> <td>    0.022</td> <td>  -37.343</td> <td> 0.000</td> <td>   -0.855</td> <td>   -0.770</td>\n",
       "</tr>\n",
       "<tr>\n",
       "  <th>diag_2[T.diabetes]</th>        <td>   -0.3928</td> <td>    0.021</td> <td>  -18.795</td> <td> 0.000</td> <td>   -0.434</td> <td>   -0.352</td>\n",
       "</tr>\n",
       "<tr>\n",
       "  <th>diag_2[T.digestive]</th>       <td>   -0.8361</td> <td>    0.041</td> <td>  -20.318</td> <td> 0.000</td> <td>   -0.917</td> <td>   -0.755</td>\n",
       "</tr>\n",
       "<tr>\n",
       "  <th>diag_2[T.genitourinary]</th>   <td>   -0.6566</td> <td>    0.028</td> <td>  -23.262</td> <td> 0.000</td> <td>   -0.712</td> <td>   -0.601</td>\n",
       "</tr>\n",
       "<tr>\n",
       "  <th>diag_2[T.injury]</th>          <td>   -0.9889</td> <td>    0.050</td> <td>  -19.665</td> <td> 0.000</td> <td>   -1.087</td> <td>   -0.890</td>\n",
       "</tr>\n",
       "<tr>\n",
       "  <th>diag_2[T.musculoskeletal]</th> <td>   -1.2736</td> <td>    0.070</td> <td>  -18.311</td> <td> 0.000</td> <td>   -1.410</td> <td>   -1.137</td>\n",
       "</tr>\n",
       "<tr>\n",
       "  <th>diag_2[T.neoplasms]</th>       <td>   -0.6428</td> <td>    0.050</td> <td>  -12.746</td> <td> 0.000</td> <td>   -0.742</td> <td>   -0.544</td>\n",
       "</tr>\n",
       "<tr>\n",
       "  <th>diag_2[T.other]</th>           <td>   -0.0201</td> <td>    0.016</td> <td>   -1.218</td> <td> 0.223</td> <td>   -0.052</td> <td>    0.012</td>\n",
       "</tr>\n",
       "<tr>\n",
       "  <th>diag_2[T.pregnecy]</th>        <td>   -1.3247</td> <td>    0.248</td> <td>   -5.337</td> <td> 0.000</td> <td>   -1.811</td> <td>   -0.838</td>\n",
       "</tr>\n",
       "<tr>\n",
       "  <th>diag_2[T.respiratory]</th>     <td>   -0.6608</td> <td>    0.025</td> <td>  -26.623</td> <td> 0.000</td> <td>   -0.709</td> <td>   -0.612</td>\n",
       "</tr>\n",
       "</table>"
      ],
      "text/plain": [
       "<class 'statsmodels.iolib.summary.Summary'>\n",
       "\"\"\"\n",
       "                           Logit Regression Results                           \n",
       "==============================================================================\n",
       "Dep. Variable:             readmitted   No. Observations:               104464\n",
       "Model:                          Logit   Df Residuals:                   104445\n",
       "Method:                           MLE   Df Model:                           18\n",
       "Date:                Sat, 25 Feb 2023   Pseudo R-squ.:                 0.04408\n",
       "Time:                        10:48:50   Log-Likelihood:                -69217.\n",
       "converged:                       True   LL-Null:                       -72409.\n",
       "Covariance Type:            nonrobust   LLR p-value:                     0.000\n",
       "=============================================================================================\n",
       "                                coef    std err          z      P>|z|      [0.025      0.975]\n",
       "---------------------------------------------------------------------------------------------\n",
       "Intercept                     0.6011      0.012     49.337      0.000       0.577       0.625\n",
       "diag_1[T.diabetes]           -0.7525      0.027    -28.218      0.000      -0.805      -0.700\n",
       "diag_1[T.digestive]          -0.7387      0.026    -28.651      0.000      -0.789      -0.688\n",
       "diag_1[T.genitourinary]      -0.8555      0.034    -25.043      0.000      -0.922      -0.789\n",
       "diag_1[T.injury]             -0.3690      0.027    -13.579      0.000      -0.422      -0.316\n",
       "diag_1[T.musculoskeletal]    -0.7667      0.032    -23.993      0.000      -0.829      -0.704\n",
       "diag_1[T.neoplasms]          -0.8061      0.040    -19.962      0.000      -0.885      -0.727\n",
       "diag_1[T.other]              -0.3244      0.019    -17.214      0.000      -0.361      -0.287\n",
       "diag_1[T.pregnecy]           -1.7543      0.164    -10.725      0.000      -2.075      -1.434\n",
       "diag_1[T.respiratory]        -0.8127      0.022    -37.343      0.000      -0.855      -0.770\n",
       "diag_2[T.diabetes]           -0.3928      0.021    -18.795      0.000      -0.434      -0.352\n",
       "diag_2[T.digestive]          -0.8361      0.041    -20.318      0.000      -0.917      -0.755\n",
       "diag_2[T.genitourinary]      -0.6566      0.028    -23.262      0.000      -0.712      -0.601\n",
       "diag_2[T.injury]             -0.9889      0.050    -19.665      0.000      -1.087      -0.890\n",
       "diag_2[T.musculoskeletal]    -1.2736      0.070    -18.311      0.000      -1.410      -1.137\n",
       "diag_2[T.neoplasms]          -0.6428      0.050    -12.746      0.000      -0.742      -0.544\n",
       "diag_2[T.other]              -0.0201      0.016     -1.218      0.223      -0.052       0.012\n",
       "diag_2[T.pregnecy]           -1.3247      0.248     -5.337      0.000      -1.811      -0.838\n",
       "diag_2[T.respiratory]        -0.6608      0.025    -26.623      0.000      -0.709      -0.612\n",
       "=============================================================================================\n",
       "\"\"\""
      ]
     },
     "metadata": {},
     "output_type": "display_data"
    }
   ],
   "source": [
    "model3_2 = sm.logit(formula = 'readmitted ~ diag_1 + diag_2', data = train1).fit() \n",
    "model3_2.summary()"
   ]
  },
  {
   "cell_type": "markdown",
   "id": "048229de",
   "metadata": {},
   "source": [
    "Metrics on training data\n",
    "- Classification accuracy = 60.4%\n",
    "- Precision = 61.1%\n",
    "- TPR or Recall = 57.2%\n",
    "- FNR = 42.8%\n",
    "- FPR = 36.4%\n",
    "- ROC-AUC = 63.2%\n",
    "\n",
    "Metrics on test data\n",
    "- Classification accuracy = 61.2%\n",
    "- Precision = 9.8%\n",
    "- TPR or Recall = 39.4%\n",
    "- FNR = 60.6%\n",
    "- FPR = 36.6%\n",
    "- ROC-AUC = 52.2%"
   ]
  },
  {
   "cell_type": "markdown",
   "id": "3e66a51b",
   "metadata": {},
   "source": [
    "Model 3.3: Investigate the predictive capability of `diag_1`, `diag_2`, and `diag_3`"
   ]
  },
  {
   "cell_type": "code",
   "execution_count": null,
   "id": "ff19379e",
   "metadata": {},
   "outputs": [
    {
     "name": "stdout",
     "output_type": "stream",
     "text": [
      "Optimization terminated successfully.\n",
      "         Current function value: 0.653983\n",
      "         Iterations 6\n"
     ]
    },
    {
     "data": {
      "text/html": [
       "<table class=\"simpletable\">\n",
       "<caption>Logit Regression Results</caption>\n",
       "<tr>\n",
       "  <th>Dep. Variable:</th>      <td>readmitted</td>    <th>  No. Observations:  </th>  <td>104464</td> \n",
       "</tr>\n",
       "<tr>\n",
       "  <th>Model:</th>                 <td>Logit</td>      <th>  Df Residuals:      </th>  <td>104436</td> \n",
       "</tr>\n",
       "<tr>\n",
       "  <th>Method:</th>                 <td>MLE</td>       <th>  Df Model:          </th>  <td>    27</td> \n",
       "</tr>\n",
       "<tr>\n",
       "  <th>Date:</th>            <td>Sat, 25 Feb 2023</td> <th>  Pseudo R-squ.:     </th>  <td>0.05650</td>\n",
       "</tr>\n",
       "<tr>\n",
       "  <th>Time:</th>                <td>10:48:56</td>     <th>  Log-Likelihood:    </th> <td> -68318.</td>\n",
       "</tr>\n",
       "<tr>\n",
       "  <th>converged:</th>             <td>True</td>       <th>  LL-Null:           </th> <td> -72409.</td>\n",
       "</tr>\n",
       "<tr>\n",
       "  <th>Covariance Type:</th>     <td>nonrobust</td>    <th>  LLR p-value:       </th>  <td> 0.000</td> \n",
       "</tr>\n",
       "</table>\n",
       "<table class=\"simpletable\">\n",
       "<tr>\n",
       "              <td></td>                 <th>coef</th>     <th>std err</th>      <th>z</th>      <th>P>|z|</th>  <th>[0.025</th>    <th>0.975]</th>  \n",
       "</tr>\n",
       "<tr>\n",
       "  <th>Intercept</th>                 <td>    0.7531</td> <td>    0.015</td> <td>   51.328</td> <td> 0.000</td> <td>    0.724</td> <td>    0.782</td>\n",
       "</tr>\n",
       "<tr>\n",
       "  <th>diag_1[T.diabetes]</th>        <td>   -0.8079</td> <td>    0.027</td> <td>  -29.598</td> <td> 0.000</td> <td>   -0.861</td> <td>   -0.754</td>\n",
       "</tr>\n",
       "<tr>\n",
       "  <th>diag_1[T.digestive]</th>       <td>   -0.7061</td> <td>    0.026</td> <td>  -26.986</td> <td> 0.000</td> <td>   -0.757</td> <td>   -0.655</td>\n",
       "</tr>\n",
       "<tr>\n",
       "  <th>diag_1[T.genitourinary]</th>   <td>   -0.8281</td> <td>    0.035</td> <td>  -23.932</td> <td> 0.000</td> <td>   -0.896</td> <td>   -0.760</td>\n",
       "</tr>\n",
       "<tr>\n",
       "  <th>diag_1[T.injury]</th>          <td>   -0.3504</td> <td>    0.028</td> <td>  -12.702</td> <td> 0.000</td> <td>   -0.405</td> <td>   -0.296</td>\n",
       "</tr>\n",
       "<tr>\n",
       "  <th>diag_1[T.musculoskeletal]</th> <td>   -0.7206</td> <td>    0.032</td> <td>  -22.289</td> <td> 0.000</td> <td>   -0.784</td> <td>   -0.657</td>\n",
       "</tr>\n",
       "<tr>\n",
       "  <th>diag_1[T.neoplasms]</th>       <td>   -0.7141</td> <td>    0.041</td> <td>  -17.395</td> <td> 0.000</td> <td>   -0.795</td> <td>   -0.634</td>\n",
       "</tr>\n",
       "<tr>\n",
       "  <th>diag_1[T.other]</th>           <td>   -0.3044</td> <td>    0.019</td> <td>  -15.938</td> <td> 0.000</td> <td>   -0.342</td> <td>   -0.267</td>\n",
       "</tr>\n",
       "<tr>\n",
       "  <th>diag_1[T.pregnecy]</th>        <td>   -1.4359</td> <td>    0.184</td> <td>   -7.802</td> <td> 0.000</td> <td>   -1.797</td> <td>   -1.075</td>\n",
       "</tr>\n",
       "<tr>\n",
       "  <th>diag_1[T.respiratory]</th>     <td>   -0.7962</td> <td>    0.022</td> <td>  -36.283</td> <td> 0.000</td> <td>   -0.839</td> <td>   -0.753</td>\n",
       "</tr>\n",
       "<tr>\n",
       "  <th>diag_2[T.diabetes]</th>        <td>   -0.4634</td> <td>    0.021</td> <td>  -21.772</td> <td> 0.000</td> <td>   -0.505</td> <td>   -0.422</td>\n",
       "</tr>\n",
       "<tr>\n",
       "  <th>diag_2[T.digestive]</th>       <td>   -0.8154</td> <td>    0.042</td> <td>  -19.583</td> <td> 0.000</td> <td>   -0.897</td> <td>   -0.734</td>\n",
       "</tr>\n",
       "<tr>\n",
       "  <th>diag_2[T.genitourinary]</th>   <td>   -0.6598</td> <td>    0.029</td> <td>  -23.107</td> <td> 0.000</td> <td>   -0.716</td> <td>   -0.604</td>\n",
       "</tr>\n",
       "<tr>\n",
       "  <th>diag_2[T.injury]</th>          <td>   -0.9381</td> <td>    0.051</td> <td>  -18.378</td> <td> 0.000</td> <td>   -1.038</td> <td>   -0.838</td>\n",
       "</tr>\n",
       "<tr>\n",
       "  <th>diag_2[T.musculoskeletal]</th> <td>   -1.2023</td> <td>    0.071</td> <td>  -17.042</td> <td> 0.000</td> <td>   -1.341</td> <td>   -1.064</td>\n",
       "</tr>\n",
       "<tr>\n",
       "  <th>diag_2[T.neoplasms]</th>       <td>   -0.5283</td> <td>    0.052</td> <td>  -10.168</td> <td> 0.000</td> <td>   -0.630</td> <td>   -0.426</td>\n",
       "</tr>\n",
       "<tr>\n",
       "  <th>diag_2[T.other]</th>           <td>   -0.0223</td> <td>    0.017</td> <td>   -1.335</td> <td> 0.182</td> <td>   -0.055</td> <td>    0.010</td>\n",
       "</tr>\n",
       "<tr>\n",
       "  <th>diag_2[T.pregnecy]</th>        <td>   -1.2678</td> <td>    0.252</td> <td>   -5.035</td> <td> 0.000</td> <td>   -1.761</td> <td>   -0.774</td>\n",
       "</tr>\n",
       "<tr>\n",
       "  <th>diag_2[T.respiratory]</th>     <td>   -0.6470</td> <td>    0.025</td> <td>  -25.818</td> <td> 0.000</td> <td>   -0.696</td> <td>   -0.598</td>\n",
       "</tr>\n",
       "<tr>\n",
       "  <th>diag_3[T.diabetes]</th>        <td>   -0.3352</td> <td>    0.019</td> <td>  -17.390</td> <td> 0.000</td> <td>   -0.373</td> <td>   -0.297</td>\n",
       "</tr>\n",
       "<tr>\n",
       "  <th>diag_3[T.digestive]</th>       <td>   -0.5433</td> <td>    0.041</td> <td>  -13.391</td> <td> 0.000</td> <td>   -0.623</td> <td>   -0.464</td>\n",
       "</tr>\n",
       "<tr>\n",
       "  <th>diag_3[T.genitourinary]</th>   <td>   -0.5951</td> <td>    0.032</td> <td>  -18.500</td> <td> 0.000</td> <td>   -0.658</td> <td>   -0.532</td>\n",
       "</tr>\n",
       "<tr>\n",
       "  <th>diag_3[T.injury]</th>          <td>   -0.9707</td> <td>    0.059</td> <td>  -16.406</td> <td> 0.000</td> <td>   -1.087</td> <td>   -0.855</td>\n",
       "</tr>\n",
       "<tr>\n",
       "  <th>diag_3[T.musculoskeletal]</th> <td>   -1.1525</td> <td>    0.069</td> <td>  -16.719</td> <td> 0.000</td> <td>   -1.288</td> <td>   -1.017</td>\n",
       "</tr>\n",
       "<tr>\n",
       "  <th>diag_3[T.neoplasms]</th>       <td>   -0.7250</td> <td>    0.064</td> <td>  -11.279</td> <td> 0.000</td> <td>   -0.851</td> <td>   -0.599</td>\n",
       "</tr>\n",
       "<tr>\n",
       "  <th>diag_3[T.other]</th>           <td>    0.0344</td> <td>    0.016</td> <td>    2.148</td> <td> 0.032</td> <td>    0.003</td> <td>    0.066</td>\n",
       "</tr>\n",
       "<tr>\n",
       "  <th>diag_3[T.pregnecy]</th>        <td>   -1.0356</td> <td>    0.274</td> <td>   -3.782</td> <td> 0.000</td> <td>   -1.572</td> <td>   -0.499</td>\n",
       "</tr>\n",
       "<tr>\n",
       "  <th>diag_3[T.respiratory]</th>     <td>   -0.6582</td> <td>    0.030</td> <td>  -21.846</td> <td> 0.000</td> <td>   -0.717</td> <td>   -0.599</td>\n",
       "</tr>\n",
       "</table>"
      ],
      "text/plain": [
       "<class 'statsmodels.iolib.summary.Summary'>\n",
       "\"\"\"\n",
       "                           Logit Regression Results                           \n",
       "==============================================================================\n",
       "Dep. Variable:             readmitted   No. Observations:               104464\n",
       "Model:                          Logit   Df Residuals:                   104436\n",
       "Method:                           MLE   Df Model:                           27\n",
       "Date:                Sat, 25 Feb 2023   Pseudo R-squ.:                 0.05650\n",
       "Time:                        10:48:56   Log-Likelihood:                -68318.\n",
       "converged:                       True   LL-Null:                       -72409.\n",
       "Covariance Type:            nonrobust   LLR p-value:                     0.000\n",
       "=============================================================================================\n",
       "                                coef    std err          z      P>|z|      [0.025      0.975]\n",
       "---------------------------------------------------------------------------------------------\n",
       "Intercept                     0.7531      0.015     51.328      0.000       0.724       0.782\n",
       "diag_1[T.diabetes]           -0.8079      0.027    -29.598      0.000      -0.861      -0.754\n",
       "diag_1[T.digestive]          -0.7061      0.026    -26.986      0.000      -0.757      -0.655\n",
       "diag_1[T.genitourinary]      -0.8281      0.035    -23.932      0.000      -0.896      -0.760\n",
       "diag_1[T.injury]             -0.3504      0.028    -12.702      0.000      -0.405      -0.296\n",
       "diag_1[T.musculoskeletal]    -0.7206      0.032    -22.289      0.000      -0.784      -0.657\n",
       "diag_1[T.neoplasms]          -0.7141      0.041    -17.395      0.000      -0.795      -0.634\n",
       "diag_1[T.other]              -0.3044      0.019    -15.938      0.000      -0.342      -0.267\n",
       "diag_1[T.pregnecy]           -1.4359      0.184     -7.802      0.000      -1.797      -1.075\n",
       "diag_1[T.respiratory]        -0.7962      0.022    -36.283      0.000      -0.839      -0.753\n",
       "diag_2[T.diabetes]           -0.4634      0.021    -21.772      0.000      -0.505      -0.422\n",
       "diag_2[T.digestive]          -0.8154      0.042    -19.583      0.000      -0.897      -0.734\n",
       "diag_2[T.genitourinary]      -0.6598      0.029    -23.107      0.000      -0.716      -0.604\n",
       "diag_2[T.injury]             -0.9381      0.051    -18.378      0.000      -1.038      -0.838\n",
       "diag_2[T.musculoskeletal]    -1.2023      0.071    -17.042      0.000      -1.341      -1.064\n",
       "diag_2[T.neoplasms]          -0.5283      0.052    -10.168      0.000      -0.630      -0.426\n",
       "diag_2[T.other]              -0.0223      0.017     -1.335      0.182      -0.055       0.010\n",
       "diag_2[T.pregnecy]           -1.2678      0.252     -5.035      0.000      -1.761      -0.774\n",
       "diag_2[T.respiratory]        -0.6470      0.025    -25.818      0.000      -0.696      -0.598\n",
       "diag_3[T.diabetes]           -0.3352      0.019    -17.390      0.000      -0.373      -0.297\n",
       "diag_3[T.digestive]          -0.5433      0.041    -13.391      0.000      -0.623      -0.464\n",
       "diag_3[T.genitourinary]      -0.5951      0.032    -18.500      0.000      -0.658      -0.532\n",
       "diag_3[T.injury]             -0.9707      0.059    -16.406      0.000      -1.087      -0.855\n",
       "diag_3[T.musculoskeletal]    -1.1525      0.069    -16.719      0.000      -1.288      -1.017\n",
       "diag_3[T.neoplasms]          -0.7250      0.064    -11.279      0.000      -0.851      -0.599\n",
       "diag_3[T.other]               0.0344      0.016      2.148      0.032       0.003       0.066\n",
       "diag_3[T.pregnecy]           -1.0356      0.274     -3.782      0.000      -1.572      -0.499\n",
       "diag_3[T.respiratory]        -0.6582      0.030    -21.846      0.000      -0.717      -0.599\n",
       "=============================================================================================\n",
       "\"\"\""
      ]
     },
     "metadata": {},
     "output_type": "display_data"
    }
   ],
   "source": [
    "model3_3 = sm.logit(formula = 'readmitted ~ diag_1 + diag_2 + diag_3', data = train1).fit() \n",
    "model3_3.summary()"
   ]
  },
  {
   "cell_type": "markdown",
   "id": "c58747dd",
   "metadata": {},
   "source": [
    "Metrics on training data\n",
    "- Classification accuracy = 61.1%\n",
    "- Precision = 60.6%\n",
    "- TPR or Recall = 63.3%\n",
    "- FNR = 36.7%\n",
    "- FPR = 41.1%\n",
    "- ROC-AUC = 65.4%\n",
    "\n",
    "Metrics on test data\n",
    "- Classification accuracy = 56.8%\n",
    "- Precision = 9.2%\n",
    "- TPR or Recall = 41.9%\n",
    "- FNR = 58.1%\n",
    "- FPR = 41.7%\n",
    "- ROC-AUC = 50.6%"
   ]
  },
  {
   "cell_type": "markdown",
   "id": "40a58016",
   "metadata": {},
   "source": [
    "Model 4.1: Make non-collinear values of `discharge_disposition_id` their own predictor"
   ]
  },
  {
   "cell_type": "code",
   "execution_count": null,
   "id": "bdde568d",
   "metadata": {},
   "outputs": [
    {
     "name": "stdout",
     "output_type": "stream",
     "text": [
      "Optimization terminated successfully.\n",
      "         Current function value: 0.691713\n",
      "         Iterations 6\n"
     ]
    },
    {
     "data": {
      "text/html": [
       "<table class=\"simpletable\">\n",
       "<caption>Logit Regression Results</caption>\n",
       "<tr>\n",
       "  <th>Dep. Variable:</th>      <td>readmitted</td>    <th>  No. Observations:  </th>  <td>104464</td>  \n",
       "</tr>\n",
       "<tr>\n",
       "  <th>Model:</th>                 <td>Logit</td>      <th>  Df Residuals:      </th>  <td>104460</td>  \n",
       "</tr>\n",
       "<tr>\n",
       "  <th>Method:</th>                 <td>MLE</td>       <th>  Df Model:          </th>  <td>     3</td>  \n",
       "</tr>\n",
       "<tr>\n",
       "  <th>Date:</th>            <td>Sat, 25 Feb 2023</td> <th>  Pseudo R-squ.:     </th> <td>0.002069</td> \n",
       "</tr>\n",
       "<tr>\n",
       "  <th>Time:</th>                <td>10:49:04</td>     <th>  Log-Likelihood:    </th> <td> -72259.</td> \n",
       "</tr>\n",
       "<tr>\n",
       "  <th>converged:</th>             <td>True</td>       <th>  LL-Null:           </th> <td> -72409.</td> \n",
       "</tr>\n",
       "<tr>\n",
       "  <th>Covariance Type:</th>     <td>nonrobust</td>    <th>  LLR p-value:       </th> <td>1.188e-64</td>\n",
       "</tr>\n",
       "</table>\n",
       "<table class=\"simpletable\">\n",
       "<tr>\n",
       "               <td></td>                 <th>coef</th>     <th>std err</th>      <th>z</th>      <th>P>|z|</th>  <th>[0.025</th>    <th>0.975]</th>  \n",
       "</tr>\n",
       "<tr>\n",
       "  <th>Intercept</th>                  <td>   -0.0065</td> <td>    0.006</td> <td>   -1.021</td> <td> 0.307</td> <td>   -0.019</td> <td>    0.006</td>\n",
       "</tr>\n",
       "<tr>\n",
       "  <th>discharge_disposition_id7</th>  <td>   -2.0696</td> <td>    0.175</td> <td>  -11.859</td> <td> 0.000</td> <td>   -2.412</td> <td>   -1.728</td>\n",
       "</tr>\n",
       "<tr>\n",
       "  <th>discharge_disposition_id10</th> <td>   -0.5615</td> <td>    0.304</td> <td>   -1.849</td> <td> 0.064</td> <td>   -1.157</td> <td>    0.034</td>\n",
       "</tr>\n",
       "<tr>\n",
       "  <th>discharge_disposition_id18</th> <td>    0.2326</td> <td>    0.028</td> <td>    8.169</td> <td> 0.000</td> <td>    0.177</td> <td>    0.288</td>\n",
       "</tr>\n",
       "</table>"
      ],
      "text/plain": [
       "<class 'statsmodels.iolib.summary.Summary'>\n",
       "\"\"\"\n",
       "                           Logit Regression Results                           \n",
       "==============================================================================\n",
       "Dep. Variable:             readmitted   No. Observations:               104464\n",
       "Model:                          Logit   Df Residuals:                   104460\n",
       "Method:                           MLE   Df Model:                            3\n",
       "Date:                Sat, 25 Feb 2023   Pseudo R-squ.:                0.002069\n",
       "Time:                        10:49:04   Log-Likelihood:                -72259.\n",
       "converged:                       True   LL-Null:                       -72409.\n",
       "Covariance Type:            nonrobust   LLR p-value:                 1.188e-64\n",
       "==============================================================================================\n",
       "                                 coef    std err          z      P>|z|      [0.025      0.975]\n",
       "----------------------------------------------------------------------------------------------\n",
       "Intercept                     -0.0065      0.006     -1.021      0.307      -0.019       0.006\n",
       "discharge_disposition_id7     -2.0696      0.175    -11.859      0.000      -2.412      -1.728\n",
       "discharge_disposition_id10    -0.5615      0.304     -1.849      0.064      -1.157       0.034\n",
       "discharge_disposition_id18     0.2326      0.028      8.169      0.000       0.177       0.288\n",
       "==============================================================================================\n",
       "\"\"\""
      ]
     },
     "metadata": {},
     "output_type": "display_data"
    }
   ],
   "source": [
    "model4_1 = sm.logit(formula = 'readmitted ~ discharge_disposition_id7 + discharge_disposition_id10 + discharge_disposition_id18', data = train1_dummy).fit() \n",
    "model4_1.summary()"
   ]
  },
  {
   "cell_type": "markdown",
   "id": "e33bc914",
   "metadata": {},
   "source": [
    "Metrics on training data\n",
    "- Classification accuracy = 50.6%\n",
    "- Precision = 55.6%\n",
    "- TPR or Recall = 5.6%\n",
    "- FNR = 94.4%\n",
    "- FPR = 4.5%\n",
    "- ROC-AUC = 50.8%\n",
    "\n",
    "Metrics on test data\n",
    "- Classification accuracy = 86.9%\n",
    "- Precision = 7.7%\n",
    "- TPR or Recall = 4.0%\n",
    "- FNR = 96.0%\n",
    "- FPR = 4.8%\n",
    "- ROC-AUC = 49.7%"
   ]
  },
  {
   "cell_type": "markdown",
   "id": "f4b57964",
   "metadata": {},
   "source": [
    "Model 4.2: Make non-collinear values of `admission_source_id` their own predictor"
   ]
  },
  {
   "cell_type": "code",
   "execution_count": null,
   "id": "7a64d2f6",
   "metadata": {},
   "outputs": [
    {
     "name": "stdout",
     "output_type": "stream",
     "text": [
      "Optimization terminated successfully.\n",
      "         Current function value: 0.692811\n",
      "         Iterations 6\n"
     ]
    },
    {
     "data": {
      "text/html": [
       "<table class=\"simpletable\">\n",
       "<caption>Logit Regression Results</caption>\n",
       "<tr>\n",
       "  <th>Dep. Variable:</th>      <td>readmitted</td>    <th>  No. Observations:  </th>  <td>104464</td>  \n",
       "</tr>\n",
       "<tr>\n",
       "  <th>Model:</th>                 <td>Logit</td>      <th>  Df Residuals:      </th>  <td>104461</td>  \n",
       "</tr>\n",
       "<tr>\n",
       "  <th>Method:</th>                 <td>MLE</td>       <th>  Df Model:          </th>  <td>     2</td>  \n",
       "</tr>\n",
       "<tr>\n",
       "  <th>Date:</th>            <td>Sat, 25 Feb 2023</td> <th>  Pseudo R-squ.:     </th> <td>0.0004855</td>\n",
       "</tr>\n",
       "<tr>\n",
       "  <th>Time:</th>                <td>10:49:11</td>     <th>  Log-Likelihood:    </th> <td> -72374.</td> \n",
       "</tr>\n",
       "<tr>\n",
       "  <th>converged:</th>             <td>True</td>       <th>  LL-Null:           </th> <td> -72409.</td> \n",
       "</tr>\n",
       "<tr>\n",
       "  <th>Covariance Type:</th>     <td>nonrobust</td>    <th>  LLR p-value:       </th> <td>5.395e-16</td>\n",
       "</tr>\n",
       "</table>\n",
       "<table class=\"simpletable\">\n",
       "<tr>\n",
       "            <td></td>              <th>coef</th>     <th>std err</th>      <th>z</th>      <th>P>|z|</th>  <th>[0.025</th>    <th>0.975]</th>  \n",
       "</tr>\n",
       "<tr>\n",
       "  <th>Intercept</th>            <td>    0.0131</td> <td>    0.006</td> <td>    2.053</td> <td> 0.040</td> <td>    0.001</td> <td>    0.026</td>\n",
       "</tr>\n",
       "<tr>\n",
       "  <th>admission_source_id8</th> <td>   -2.3157</td> <td>    1.049</td> <td>   -2.208</td> <td> 0.027</td> <td>   -4.371</td> <td>   -0.260</td>\n",
       "</tr>\n",
       "<tr>\n",
       "  <th>admission_source_id9</th> <td>   -0.1955</td> <td>    0.025</td> <td>   -7.844</td> <td> 0.000</td> <td>   -0.244</td> <td>   -0.147</td>\n",
       "</tr>\n",
       "</table>"
      ],
      "text/plain": [
       "<class 'statsmodels.iolib.summary.Summary'>\n",
       "\"\"\"\n",
       "                           Logit Regression Results                           \n",
       "==============================================================================\n",
       "Dep. Variable:             readmitted   No. Observations:               104464\n",
       "Model:                          Logit   Df Residuals:                   104461\n",
       "Method:                           MLE   Df Model:                            2\n",
       "Date:                Sat, 25 Feb 2023   Pseudo R-squ.:               0.0004855\n",
       "Time:                        10:49:11   Log-Likelihood:                -72374.\n",
       "converged:                       True   LL-Null:                       -72409.\n",
       "Covariance Type:            nonrobust   LLR p-value:                 5.395e-16\n",
       "========================================================================================\n",
       "                           coef    std err          z      P>|z|      [0.025      0.975]\n",
       "----------------------------------------------------------------------------------------\n",
       "Intercept                0.0131      0.006      2.053      0.040       0.001       0.026\n",
       "admission_source_id8    -2.3157      1.049     -2.208      0.027      -4.371      -0.260\n",
       "admission_source_id9    -0.1955      0.025     -7.844      0.000      -0.244      -0.147\n",
       "========================================================================================\n",
       "\"\"\""
      ]
     },
     "metadata": {},
     "output_type": "display_data"
    }
   ],
   "source": [
    "model4_2 = sm.logit(formula = 'readmitted ~ admission_source_id8 + admission_source_id9', data = train1_dummy).fit() \n",
    "model4_2.summary()"
   ]
  },
  {
   "cell_type": "markdown",
   "id": "f655c0bf",
   "metadata": {},
   "source": [
    "Metrics on training data\n",
    "- Classification accuracy = 50.6%\n",
    "- Precision = 50.3%\n",
    "- TPR or Recall = 94.0%\n",
    "- FNR = 6.0%\n",
    "- FPR = 92.7%\n",
    "- ROC-AUC = 50.6%\n",
    "\n",
    "Metrics on test data\n",
    "- Classification accuracy = 15.3%\n",
    "- Precision = 9.2%\n",
    "- TPR or Recall = 93.5%\n",
    "- FNR = 6.5%\n",
    "- FPR = 92.6%\n",
    "- ROC-AUC = 50.4%"
   ]
  },
  {
   "cell_type": "markdown",
   "id": "4a5f8d75",
   "metadata": {},
   "source": [
    "Model 4.3: Make non-collinear values of `admission_type` their own predictor"
   ]
  },
  {
   "cell_type": "code",
   "execution_count": null,
   "id": "6a7d268a",
   "metadata": {},
   "outputs": [
    {
     "name": "stdout",
     "output_type": "stream",
     "text": [
      "Optimization terminated successfully.\n",
      "         Current function value: 0.679143\n",
      "         Iterations 5\n"
     ]
    },
    {
     "data": {
      "text/html": [
       "<table class=\"simpletable\">\n",
       "<caption>Logit Regression Results</caption>\n",
       "<tr>\n",
       "  <th>Dep. Variable:</th>      <td>readmitted</td>    <th>  No. Observations:  </th>  <td>104464</td> \n",
       "</tr>\n",
       "<tr>\n",
       "  <th>Model:</th>                 <td>Logit</td>      <th>  Df Residuals:      </th>  <td>104460</td> \n",
       "</tr>\n",
       "<tr>\n",
       "  <th>Method:</th>                 <td>MLE</td>       <th>  Df Model:          </th>  <td>     3</td> \n",
       "</tr>\n",
       "<tr>\n",
       "  <th>Date:</th>            <td>Sat, 25 Feb 2023</td> <th>  Pseudo R-squ.:     </th>  <td>0.02020</td>\n",
       "</tr>\n",
       "<tr>\n",
       "  <th>Time:</th>                <td>10:49:19</td>     <th>  Log-Likelihood:    </th> <td> -70946.</td>\n",
       "</tr>\n",
       "<tr>\n",
       "  <th>converged:</th>             <td>True</td>       <th>  LL-Null:           </th> <td> -72409.</td>\n",
       "</tr>\n",
       "<tr>\n",
       "  <th>Covariance Type:</th>     <td>nonrobust</td>    <th>  LLR p-value:       </th>  <td> 0.000</td> \n",
       "</tr>\n",
       "</table>\n",
       "<table class=\"simpletable\">\n",
       "<tr>\n",
       "           <td></td>             <th>coef</th>     <th>std err</th>      <th>z</th>      <th>P>|z|</th>  <th>[0.025</th>    <th>0.975]</th>  \n",
       "</tr>\n",
       "<tr>\n",
       "  <th>Intercept</th>          <td>   -0.2973</td> <td>    0.020</td> <td>  -14.838</td> <td> 0.000</td> <td>   -0.337</td> <td>   -0.258</td>\n",
       "</tr>\n",
       "<tr>\n",
       "  <th>admission_type_id1</th> <td>    0.4742</td> <td>    0.021</td> <td>   22.297</td> <td> 0.000</td> <td>    0.432</td> <td>    0.516</td>\n",
       "</tr>\n",
       "<tr>\n",
       "  <th>admission_type_id3</th> <td>   -0.4791</td> <td>    0.027</td> <td>  -17.939</td> <td> 0.000</td> <td>   -0.531</td> <td>   -0.427</td>\n",
       "</tr>\n",
       "<tr>\n",
       "  <th>admission_type_id4</th> <td>   -1.3121</td> <td>    1.096</td> <td>   -1.198</td> <td> 0.231</td> <td>   -3.460</td> <td>    0.835</td>\n",
       "</tr>\n",
       "</table>"
      ],
      "text/plain": [
       "<class 'statsmodels.iolib.summary.Summary'>\n",
       "\"\"\"\n",
       "                           Logit Regression Results                           \n",
       "==============================================================================\n",
       "Dep. Variable:             readmitted   No. Observations:               104464\n",
       "Model:                          Logit   Df Residuals:                   104460\n",
       "Method:                           MLE   Df Model:                            3\n",
       "Date:                Sat, 25 Feb 2023   Pseudo R-squ.:                 0.02020\n",
       "Time:                        10:49:19   Log-Likelihood:                -70946.\n",
       "converged:                       True   LL-Null:                       -72409.\n",
       "Covariance Type:            nonrobust   LLR p-value:                     0.000\n",
       "======================================================================================\n",
       "                         coef    std err          z      P>|z|      [0.025      0.975]\n",
       "--------------------------------------------------------------------------------------\n",
       "Intercept             -0.2973      0.020    -14.838      0.000      -0.337      -0.258\n",
       "admission_type_id1     0.4742      0.021     22.297      0.000       0.432       0.516\n",
       "admission_type_id3    -0.4791      0.027    -17.939      0.000      -0.531      -0.427\n",
       "admission_type_id4    -1.3121      1.096     -1.198      0.231      -3.460       0.835\n",
       "======================================================================================\n",
       "\"\"\""
      ]
     },
     "metadata": {},
     "output_type": "display_data"
    }
   ],
   "source": [
    "model4_3 = sm.logit(formula = 'readmitted ~ admission_type_id1 + admission_type_id3 + admission_type_id4', data = train1_dummy).fit() \n",
    "model4_3.summary()"
   ]
  },
  {
   "cell_type": "markdown",
   "id": "8e7bfbcd",
   "metadata": {},
   "source": [
    "Metrics on training data\n",
    "- Classification accuracy = 56.7%\n",
    "- Precision = 54.4%\n",
    "- TPR or Recall = 82.7%\n",
    "- FNR = 17.3%\n",
    "- FPR = 69.3%\n",
    "- ROC-AUC = 57.0%\n",
    "\n",
    "Metrics on test data\n",
    "- Classification accuracy = 34.8%\n",
    "- Precision = 9.3%\n",
    "- TPR or Recall = 69.6%\n",
    "- FNR = 30.4%\n",
    "- FPR = 68.7%\n",
    "- ROC-AUC = 50.4%"
   ]
  },
  {
   "cell_type": "markdown",
   "id": "7d535705",
   "metadata": {},
   "source": [
    "Model 5: A combined model incorporating all insights from the previous 12 models"
   ]
  },
  {
   "cell_type": "code",
   "execution_count": null,
   "id": "e631c13d",
   "metadata": {},
   "outputs": [
    {
     "name": "stdout",
     "output_type": "stream",
     "text": [
      "Optimization terminated successfully.\n",
      "         Current function value: 0.623802\n",
      "         Iterations 8\n"
     ]
    },
    {
     "data": {
      "text/html": [
       "<table class=\"simpletable\">\n",
       "<caption>Logit Regression Results</caption>\n",
       "<tr>\n",
       "  <th>Dep. Variable:</th>      <td>readmitted</td>    <th>  No. Observations:  </th>  <td>104464</td> \n",
       "</tr>\n",
       "<tr>\n",
       "  <th>Model:</th>                 <td>Logit</td>      <th>  Df Residuals:      </th>  <td>104422</td> \n",
       "</tr>\n",
       "<tr>\n",
       "  <th>Method:</th>                 <td>MLE</td>       <th>  Df Model:          </th>  <td>    41</td> \n",
       "</tr>\n",
       "<tr>\n",
       "  <th>Date:</th>            <td>Sat, 25 Feb 2023</td> <th>  Pseudo R-squ.:     </th>  <td>0.1000</td> \n",
       "</tr>\n",
       "<tr>\n",
       "  <th>Time:</th>                <td>11:12:33</td>     <th>  Log-Likelihood:    </th> <td> -65165.</td>\n",
       "</tr>\n",
       "<tr>\n",
       "  <th>converged:</th>             <td>True</td>       <th>  LL-Null:           </th> <td> -72409.</td>\n",
       "</tr>\n",
       "<tr>\n",
       "  <th>Covariance Type:</th>     <td>nonrobust</td>    <th>  LLR p-value:       </th>  <td> 0.000</td> \n",
       "</tr>\n",
       "</table>\n",
       "<table class=\"simpletable\">\n",
       "<tr>\n",
       "               <td></td>                 <th>coef</th>     <th>std err</th>      <th>z</th>      <th>P>|z|</th>  <th>[0.025</th>    <th>0.975]</th>  \n",
       "</tr>\n",
       "<tr>\n",
       "  <th>Intercept</th>                  <td>   -2.7392</td> <td>    0.092</td> <td>  -29.875</td> <td> 0.000</td> <td>   -2.919</td> <td>   -2.560</td>\n",
       "</tr>\n",
       "<tr>\n",
       "  <th>age5</th>                       <td>   -2.8764</td> <td>    0.587</td> <td>   -4.901</td> <td> 0.000</td> <td>   -4.027</td> <td>   -1.726</td>\n",
       "</tr>\n",
       "<tr>\n",
       "  <th>age15</th>                      <td>   -0.7324</td> <td>    0.132</td> <td>   -5.567</td> <td> 0.000</td> <td>   -0.990</td> <td>   -0.475</td>\n",
       "</tr>\n",
       "<tr>\n",
       "  <th>age25</th>                      <td>   -0.2397</td> <td>    0.087</td> <td>   -2.765</td> <td> 0.006</td> <td>   -0.410</td> <td>   -0.070</td>\n",
       "</tr>\n",
       "<tr>\n",
       "  <th>age45</th>                      <td>    0.3192</td> <td>    0.042</td> <td>    7.601</td> <td> 0.000</td> <td>    0.237</td> <td>    0.402</td>\n",
       "</tr>\n",
       "<tr>\n",
       "  <th>age55</th>                      <td>    0.5080</td> <td>    0.038</td> <td>   13.353</td> <td> 0.000</td> <td>    0.433</td> <td>    0.583</td>\n",
       "</tr>\n",
       "<tr>\n",
       "  <th>age65</th>                      <td>    0.9616</td> <td>    0.037</td> <td>   26.297</td> <td> 0.000</td> <td>    0.890</td> <td>    1.033</td>\n",
       "</tr>\n",
       "<tr>\n",
       "  <th>age75</th>                      <td>    1.2130</td> <td>    0.036</td> <td>   33.679</td> <td> 0.000</td> <td>    1.142</td> <td>    1.284</td>\n",
       "</tr>\n",
       "<tr>\n",
       "  <th>age85</th>                      <td>    1.0408</td> <td>    0.037</td> <td>   27.895</td> <td> 0.000</td> <td>    0.968</td> <td>    1.114</td>\n",
       "</tr>\n",
       "<tr>\n",
       "  <th>diag_1circulatory</th>          <td>    0.8404</td> <td>    0.020</td> <td>   41.337</td> <td> 0.000</td> <td>    0.801</td> <td>    0.880</td>\n",
       "</tr>\n",
       "<tr>\n",
       "  <th>diag_1diabetes</th>             <td>    0.3648</td> <td>    0.031</td> <td>   11.628</td> <td> 0.000</td> <td>    0.303</td> <td>    0.426</td>\n",
       "</tr>\n",
       "<tr>\n",
       "  <th>diag_1digestive</th>            <td>    0.0673</td> <td>    0.030</td> <td>    2.276</td> <td> 0.023</td> <td>    0.009</td> <td>    0.125</td>\n",
       "</tr>\n",
       "<tr>\n",
       "  <th>diag_1injury</th>               <td>    0.4244</td> <td>    0.031</td> <td>   13.644</td> <td> 0.000</td> <td>    0.363</td> <td>    0.485</td>\n",
       "</tr>\n",
       "<tr>\n",
       "  <th>diag_1musculoskeletal</th>      <td>    0.2963</td> <td>    0.037</td> <td>    8.101</td> <td> 0.000</td> <td>    0.225</td> <td>    0.368</td>\n",
       "</tr>\n",
       "<tr>\n",
       "  <th>diag_1neoplasms</th>            <td>    0.2181</td> <td>    0.043</td> <td>    5.034</td> <td> 0.000</td> <td>    0.133</td> <td>    0.303</td>\n",
       "</tr>\n",
       "<tr>\n",
       "  <th>diag_1other</th>                <td>    0.5297</td> <td>    0.023</td> <td>   22.603</td> <td> 0.000</td> <td>    0.484</td> <td>    0.576</td>\n",
       "</tr>\n",
       "<tr>\n",
       "  <th>diag_1pregnecy</th>             <td>   -0.0654</td> <td>    0.145</td> <td>   -0.451</td> <td> 0.652</td> <td>   -0.350</td> <td>    0.219</td>\n",
       "</tr>\n",
       "<tr>\n",
       "  <th>time_in_hospital1</th>          <td>    0.3141</td> <td>    0.081</td> <td>    3.865</td> <td> 0.000</td> <td>    0.155</td> <td>    0.473</td>\n",
       "</tr>\n",
       "<tr>\n",
       "  <th>time_in_hospital2</th>          <td>    0.5875</td> <td>    0.081</td> <td>    7.277</td> <td> 0.000</td> <td>    0.429</td> <td>    0.746</td>\n",
       "</tr>\n",
       "<tr>\n",
       "  <th>time_in_hospital3</th>          <td>    0.7020</td> <td>    0.081</td> <td>    8.710</td> <td> 0.000</td> <td>    0.544</td> <td>    0.860</td>\n",
       "</tr>\n",
       "<tr>\n",
       "  <th>time_in_hospital4</th>          <td>    0.7584</td> <td>    0.081</td> <td>    9.364</td> <td> 0.000</td> <td>    0.600</td> <td>    0.917</td>\n",
       "</tr>\n",
       "<tr>\n",
       "  <th>time_in_hospital5</th>          <td>    0.6684</td> <td>    0.082</td> <td>    8.171</td> <td> 0.000</td> <td>    0.508</td> <td>    0.829</td>\n",
       "</tr>\n",
       "<tr>\n",
       "  <th>time_in_hospital6</th>          <td>    0.8306</td> <td>    0.082</td> <td>   10.073</td> <td> 0.000</td> <td>    0.669</td> <td>    0.992</td>\n",
       "</tr>\n",
       "<tr>\n",
       "  <th>time_in_hospital7</th>          <td>    0.7184</td> <td>    0.084</td> <td>    8.588</td> <td> 0.000</td> <td>    0.554</td> <td>    0.882</td>\n",
       "</tr>\n",
       "<tr>\n",
       "  <th>time_in_hospital8</th>          <td>    0.8350</td> <td>    0.085</td> <td>    9.790</td> <td> 0.000</td> <td>    0.668</td> <td>    1.002</td>\n",
       "</tr>\n",
       "<tr>\n",
       "  <th>time_in_hospital9</th>          <td>    0.4700</td> <td>    0.089</td> <td>    5.268</td> <td> 0.000</td> <td>    0.295</td> <td>    0.645</td>\n",
       "</tr>\n",
       "<tr>\n",
       "  <th>time_in_hospital10</th>         <td>    0.6839</td> <td>    0.091</td> <td>    7.490</td> <td> 0.000</td> <td>    0.505</td> <td>    0.863</td>\n",
       "</tr>\n",
       "<tr>\n",
       "  <th>time_in_hospital11</th>         <td>    0.3170</td> <td>    0.096</td> <td>    3.294</td> <td> 0.001</td> <td>    0.128</td> <td>    0.506</td>\n",
       "</tr>\n",
       "<tr>\n",
       "  <th>time_in_hospital12</th>         <td>    0.5041</td> <td>    0.100</td> <td>    5.065</td> <td> 0.000</td> <td>    0.309</td> <td>    0.699</td>\n",
       "</tr>\n",
       "<tr>\n",
       "  <th>time_in_hospital13</th>         <td>    0.2316</td> <td>    0.106</td> <td>    2.177</td> <td> 0.029</td> <td>    0.023</td> <td>    0.440</td>\n",
       "</tr>\n",
       "<tr>\n",
       "  <th>discharge_disposition_id7</th>  <td>   -1.7631</td> <td>    0.180</td> <td>   -9.791</td> <td> 0.000</td> <td>   -2.116</td> <td>   -1.410</td>\n",
       "</tr>\n",
       "<tr>\n",
       "  <th>discharge_disposition_id18</th> <td>    0.2460</td> <td>    0.031</td> <td>    7.913</td> <td> 0.000</td> <td>    0.185</td> <td>    0.307</td>\n",
       "</tr>\n",
       "<tr>\n",
       "  <th>admission_type_id1</th>         <td>    0.4808</td> <td>    0.023</td> <td>   21.233</td> <td> 0.000</td> <td>    0.436</td> <td>    0.525</td>\n",
       "</tr>\n",
       "<tr>\n",
       "  <th>admission_type_id3</th>         <td>   -0.4791</td> <td>    0.028</td> <td>  -16.816</td> <td> 0.000</td> <td>   -0.535</td> <td>   -0.423</td>\n",
       "</tr>\n",
       "<tr>\n",
       "  <th>num_of_changes</th>             <td>   -0.5009</td> <td>    0.016</td> <td>  -30.968</td> <td> 0.000</td> <td>   -0.533</td> <td>   -0.469</td>\n",
       "</tr>\n",
       "<tr>\n",
       "  <th>number_inpatient</th>           <td>    0.1555</td> <td>    0.011</td> <td>   14.476</td> <td> 0.000</td> <td>    0.134</td> <td>    0.177</td>\n",
       "</tr>\n",
       "<tr>\n",
       "  <th>diag_2circulatory</th>          <td>    0.6825</td> <td>    0.020</td> <td>   34.028</td> <td> 0.000</td> <td>    0.643</td> <td>    0.722</td>\n",
       "</tr>\n",
       "<tr>\n",
       "  <th>diag_2diabetes</th>             <td>    0.4755</td> <td>    0.025</td> <td>   18.748</td> <td> 0.000</td> <td>    0.426</td> <td>    0.525</td>\n",
       "</tr>\n",
       "<tr>\n",
       "  <th>diag_2digestive</th>            <td>   -0.0970</td> <td>    0.044</td> <td>   -2.196</td> <td> 0.028</td> <td>   -0.184</td> <td>   -0.010</td>\n",
       "</tr>\n",
       "<tr>\n",
       "  <th>diag_2injury</th>               <td>   -0.1950</td> <td>    0.054</td> <td>   -3.630</td> <td> 0.000</td> <td>   -0.300</td> <td>   -0.090</td>\n",
       "</tr>\n",
       "<tr>\n",
       "  <th>diag_2musculoskeletal</th>      <td>   -0.4339</td> <td>    0.073</td> <td>   -5.929</td> <td> 0.000</td> <td>   -0.577</td> <td>   -0.290</td>\n",
       "</tr>\n",
       "<tr>\n",
       "  <th>diag_2other</th>                <td>    0.7131</td> <td>    0.021</td> <td>   33.882</td> <td> 0.000</td> <td>    0.672</td> <td>    0.754</td>\n",
       "</tr>\n",
       "</table>"
      ],
      "text/plain": [
       "<class 'statsmodels.iolib.summary.Summary'>\n",
       "\"\"\"\n",
       "                           Logit Regression Results                           \n",
       "==============================================================================\n",
       "Dep. Variable:             readmitted   No. Observations:               104464\n",
       "Model:                          Logit   Df Residuals:                   104422\n",
       "Method:                           MLE   Df Model:                           41\n",
       "Date:                Sat, 25 Feb 2023   Pseudo R-squ.:                  0.1000\n",
       "Time:                        11:12:33   Log-Likelihood:                -65165.\n",
       "converged:                       True   LL-Null:                       -72409.\n",
       "Covariance Type:            nonrobust   LLR p-value:                     0.000\n",
       "==============================================================================================\n",
       "                                 coef    std err          z      P>|z|      [0.025      0.975]\n",
       "----------------------------------------------------------------------------------------------\n",
       "Intercept                     -2.7392      0.092    -29.875      0.000      -2.919      -2.560\n",
       "age5                          -2.8764      0.587     -4.901      0.000      -4.027      -1.726\n",
       "age15                         -0.7324      0.132     -5.567      0.000      -0.990      -0.475\n",
       "age25                         -0.2397      0.087     -2.765      0.006      -0.410      -0.070\n",
       "age45                          0.3192      0.042      7.601      0.000       0.237       0.402\n",
       "age55                          0.5080      0.038     13.353      0.000       0.433       0.583\n",
       "age65                          0.9616      0.037     26.297      0.000       0.890       1.033\n",
       "age75                          1.2130      0.036     33.679      0.000       1.142       1.284\n",
       "age85                          1.0408      0.037     27.895      0.000       0.968       1.114\n",
       "diag_1circulatory              0.8404      0.020     41.337      0.000       0.801       0.880\n",
       "diag_1diabetes                 0.3648      0.031     11.628      0.000       0.303       0.426\n",
       "diag_1digestive                0.0673      0.030      2.276      0.023       0.009       0.125\n",
       "diag_1injury                   0.4244      0.031     13.644      0.000       0.363       0.485\n",
       "diag_1musculoskeletal          0.2963      0.037      8.101      0.000       0.225       0.368\n",
       "diag_1neoplasms                0.2181      0.043      5.034      0.000       0.133       0.303\n",
       "diag_1other                    0.5297      0.023     22.603      0.000       0.484       0.576\n",
       "diag_1pregnecy                -0.0654      0.145     -0.451      0.652      -0.350       0.219\n",
       "time_in_hospital1              0.3141      0.081      3.865      0.000       0.155       0.473\n",
       "time_in_hospital2              0.5875      0.081      7.277      0.000       0.429       0.746\n",
       "time_in_hospital3              0.7020      0.081      8.710      0.000       0.544       0.860\n",
       "time_in_hospital4              0.7584      0.081      9.364      0.000       0.600       0.917\n",
       "time_in_hospital5              0.6684      0.082      8.171      0.000       0.508       0.829\n",
       "time_in_hospital6              0.8306      0.082     10.073      0.000       0.669       0.992\n",
       "time_in_hospital7              0.7184      0.084      8.588      0.000       0.554       0.882\n",
       "time_in_hospital8              0.8350      0.085      9.790      0.000       0.668       1.002\n",
       "time_in_hospital9              0.4700      0.089      5.268      0.000       0.295       0.645\n",
       "time_in_hospital10             0.6839      0.091      7.490      0.000       0.505       0.863\n",
       "time_in_hospital11             0.3170      0.096      3.294      0.001       0.128       0.506\n",
       "time_in_hospital12             0.5041      0.100      5.065      0.000       0.309       0.699\n",
       "time_in_hospital13             0.2316      0.106      2.177      0.029       0.023       0.440\n",
       "discharge_disposition_id7     -1.7631      0.180     -9.791      0.000      -2.116      -1.410\n",
       "discharge_disposition_id18     0.2460      0.031      7.913      0.000       0.185       0.307\n",
       "admission_type_id1             0.4808      0.023     21.233      0.000       0.436       0.525\n",
       "admission_type_id3            -0.4791      0.028    -16.816      0.000      -0.535      -0.423\n",
       "num_of_changes                -0.5009      0.016    -30.968      0.000      -0.533      -0.469\n",
       "number_inpatient               0.1555      0.011     14.476      0.000       0.134       0.177\n",
       "diag_2circulatory              0.6825      0.020     34.028      0.000       0.643       0.722\n",
       "diag_2diabetes                 0.4755      0.025     18.748      0.000       0.426       0.525\n",
       "diag_2digestive               -0.0970      0.044     -2.196      0.028      -0.184      -0.010\n",
       "diag_2injury                  -0.1950      0.054     -3.630      0.000      -0.300      -0.090\n",
       "diag_2musculoskeletal         -0.4339      0.073     -5.929      0.000      -0.577      -0.290\n",
       "diag_2other                    0.7131      0.021     33.882      0.000       0.672       0.754\n",
       "==============================================================================================\n",
       "\"\"\""
      ]
     },
     "metadata": {},
     "output_type": "display_data"
    }
   ],
   "source": [
    "model_5 = sm.logit(formula = 'readmitted ~ age5 + age15 + age25 + age45 + age55 + age65 + age75 + age85 + diag_1circulatory + diag_1diabetes + diag_1digestive + diag_1injury + diag_1musculoskeletal + diag_1neoplasms + diag_1other + diag_1pregnecy + time_in_hospital1 + time_in_hospital2 + time_in_hospital3 + time_in_hospital4 + time_in_hospital5 + time_in_hospital6 + time_in_hospital7 + time_in_hospital8 + time_in_hospital9 + time_in_hospital10 + time_in_hospital11 + time_in_hospital12 + time_in_hospital13 + discharge_disposition_id7 + discharge_disposition_id18 + admission_type_id1 + admission_type_id3 + num_of_changes + number_inpatient + diag_2circulatory + diag_2diabetes + diag_2digestive + diag_2injury + diag_2musculoskeletal + diag_2other', data = train1_dummy).fit() \n",
    "model_5.summary()"
   ]
  },
  {
   "cell_type": "markdown",
   "id": "9b458db4",
   "metadata": {},
   "source": [
    "Metrics from training data\n",
    "- Classification accuracy = 65.4%\n",
    "- Precision = 64.3%\n",
    "- TPR or Recall = 69.2%\n",
    "- FNR = 30.8%\n",
    "- FPR = 38.4%\n",
    "- ROC-AUC = 70.7%\n",
    "\n",
    "Metrics from test data\n",
    "- Classification accuracy = 60.0%\n",
    "- Precision = 10.4%\n",
    "- TPR or Recall = 44.2%\n",
    "- FNR = 55.8%\n",
    "- FPR = 38.4%\n",
    "- ROC-AUC = 54.4%"
   ]
  },
  {
   "cell_type": "markdown",
   "id": "fa8f8fa4",
   "metadata": {},
   "source": [
    "The above metrics were for calculated for the cutoff of 0.5. To understand if a different cutoff would improve these metrics, we applied the best cutoff threshold determined by the precision-recall curve."
   ]
  },
  {
   "cell_type": "code",
   "execution_count": null,
   "id": "81aacf0f",
   "metadata": {},
   "outputs": [
    {
     "name": "stdout",
     "output_type": "stream",
     "text": [
      "Optimal threshold: 0.5043577529636262\n"
     ]
    }
   ],
   "source": [
    "# Finding the percentage of positive values\n",
    "perc = train1_dummy.readmitted.mean()\n",
    "\n",
    "# Plotting precision and recall scores as a function of the decision threshold\n",
    "from sklearn.metrics import precision_recall_curve\n",
    "\n",
    "y = train1_dummy.readmitted\n",
    "ypred = model_5.predict(train1_dummy)\n",
    "p, r, thresholds = precision_recall_curve(y, ypred)\n",
    "\n",
    "lista = []\n",
    "\n",
    "# Iterate thru thresholds, get true_pos / true_neg, find corresponding threshold\n",
    "for i in thresholds: \n",
    "    # Confusion matrix\n",
    "    cm_df = pd.DataFrame(model_5.pred_table(threshold = i))\n",
    "    lista.append(cm_df[1].sum() / len(train1_dummy))\n",
    "\n",
    "# Finding the optimal threshold\n",
    "b = (perc * r[:-1]) - ((1 - p[:-1]) * lista)\n",
    "c = thresholds[np.argmax(b)] \n",
    "opt_threshold = c\n",
    "# Printing the optimal threshold I found using precision and recall\n",
    "print('Optimal threshold:', opt_threshold)"
   ]
  },
  {
   "cell_type": "markdown",
   "id": "66528513",
   "metadata": {},
   "source": [
    "Metrics from training data, with cutoff = 0.5043577529636262\n",
    "- Classification accuracy = 65.4%\n",
    "- Precision = 64.6%\n",
    "- TPR or Recall = 68.4%\n",
    "- FNR = 31.6%\n",
    "- FPR = 37.5%\n",
    "- ROC-AUC = 70.7%\n",
    "\n",
    "Metrics from test data, with cutoff = 0.5043577529636262\n",
    "- Classification accuracy = 60.7%\n",
    "- Precision = 10.4%\n",
    "- TPR or Recall = 42.9%\n",
    "- FNR = 57.1%\n",
    "- FPR = 37.5%\n",
    "- ROC-AUC = 54.4%"
   ]
  },
  {
   "cell_type": "markdown",
   "id": "859abd91",
   "metadata": {},
   "source": [
    "### Finalizing the Model\n",
    "*Anastasia Wei*"
   ]
  },
  {
   "cell_type": "markdown",
   "id": "f8ff6f8a",
   "metadata": {},
   "source": [
    "I attempted to build upon the model optimization that Amy did and use Sklearn for variable selection and adding in interaction terms. <br>\n",
    "\n",
    "The interactions terms I tested out to added to the first models are \n",
    "- change * diabetesMed\n",
    "- age * time_in_hospital\n",
    "- age * number_inpatient\n",
    "- change * admission_source_id"
   ]
  },
  {
   "cell_type": "code",
   "execution_count": null,
   "id": "3c455371",
   "metadata": {},
   "outputs": [],
   "source": [
    "# Used Amy's SMOTENC approach to make the train and test data\n",
    "\n",
    "X_train = train.drop(columns=\"readmitted\")\n",
    "y_train = train.loc[:, \"readmitted\"]\n",
    "\n",
    "X_train_types = X_train.dtypes.to_frame().rename(columns={0: \"type\"})\n",
    "# get the name of all variables that are objects\n",
    "object_vars = list(X_train_types.loc[X_train_types.type == \"object\", :].index)\n",
    "object_vars = object_vars + [\"age\", \"admission_type_id\", \"discharge_disposition_id\", \"admission_source_id\", \"time_in_hospital\", \"num_of_changes\"]\n",
    "\n",
    "# get the indices of all \n",
    "object_var_indices = []\n",
    "for i in range(0, len(X_train.columns)):\n",
    "    if X_train.columns[i] in object_vars:\n",
    "        object_var_indices.append(i)\n",
    "        \n",
    "smote_nc = SMOTENC(categorical_features=object_var_indices, random_state=0)\n",
    "X_resampled, y_resampled = smote_nc.fit_resample(X_train, y_train)\n",
    "\n",
    "# add the readmitted data back in\n",
    "X_resampled.loc[:, \"readmitted\"] = y_resampled\n",
    "train1 = X_resampled.copy()\n",
    "\n",
    "# make train_dummy and test_dummy predictors\n",
    "dummy_preds = [\"age\", \"time_in_hospital\", \"admission_type_id\", \"discharge_disposition_id\", \"admission_source_id\", \n",
    "               \"diag_1\", \"diag_2\", 'diabetesMed','change']\n",
    "train1_dummy = train1.copy()\n",
    "test_dummy = test.copy()\n",
    "vars = []\n",
    "\n",
    "for pred in dummy_preds:\n",
    "    dummy_train = pd.get_dummies(train1.loc[:, pred])\n",
    "    dummy_train.columns = [pred + str(x) for x in dummy_train.columns]\n",
    "    train1_dummy = pd.concat([train1_dummy, dummy_train], axis=1)\n",
    "    vars.append(list(dummy_train.columns))\n",
    "    \n",
    "    dummy_test = pd.get_dummies(test.loc[:, pred])\n",
    "    dummy_test.columns = [pred + str(x) for x in dummy_test.columns]\n",
    "    test_dummy = pd.concat([test_dummy, dummy_test], axis=1)\n"
   ]
  },
  {
   "cell_type": "code",
   "execution_count": null,
   "id": "265cffd3",
   "metadata": {},
   "outputs": [],
   "source": [
    "# feature selection with sklearn\n",
    "from sklearn.linear_model import LogisticRegression\n",
    "\n",
    "# getting a list of the all the usable numerical predictors\n",
    "preds = train1_dummy.dtypes[train1_dummy.dtypes != object].index.tolist()\n",
    "# dropping the unusable and duplicate numeric predictors\n",
    "preds.remove('age')\n",
    "preds.remove('time_in_hospital')\n",
    "preds.remove('admission_type_id')\n",
    "preds.remove('discharge_disposition_id')\n",
    "preds.remove('admission_source_id')\n",
    "preds.remove('encounter_id')\n",
    "preds.remove('patient_nbr')\n",
    "preds.remove('discharge_disposition_id27')\n",
    "preds.remove('readmitted')\n",
    "\n",
    "# creating the features and the response for skLearn\n",
    "sk_X = train1_dummy[preds]\n",
    "sk_y = train1_dummy.readmitted\n",
    "\n",
    "# creating the penalized model and fit\n",
    "log = LogisticRegression(penalty='l1', solver='liblinear')\n",
    "log.fit(sk_X,sk_y)\n",
    "\n",
    "# getting a list of significant predictors \n",
    "# whose coefficient is not zero\n",
    "coefs = log.coef_\n",
    "sig_preds = np.array(preds)[np.where(coefs != 0)[1]]\n",
    "\n",
    "confusion_matrix_data(train1_dummy[preds], train1_dummy.readmitted,log,cutoff=0.5)"
   ]
  },
  {
   "attachments": {
    "image.png": {
     "image/png": "[encoded data removed]"
    }
   },
   "cell_type": "markdown",
   "id": "a27a75db",
   "metadata": {},
   "source": [
    "Classification accuracy = 69.9% <br>\n",
    "Precision = 68.7% <br>\n",
    "TPR or Recall = 73.0% <br>\n",
    "FNR = 27.0% <br>\n",
    "FPR = 33.3% <br>\n",
    "ROC-AUC = 69.9% <br>\n",
    "![image.png](attachment:image.png)"
   ]
  },
  {
   "cell_type": "code",
   "execution_count": null,
   "id": "eeeef65c",
   "metadata": {},
   "outputs": [],
   "source": [
    "confusion_matrix_data(test_dummy[preds], test_dummy.readmitted,log,cutoff=0.5)"
   ]
  },
  {
   "attachments": {
    "image.png": {
     "image/png": "[encoded data removed]"
    }
   },
   "cell_type": "markdown",
   "id": "62157352",
   "metadata": {},
   "source": [
    "Classification accuracy = 64.5% <br>\n",
    "Precision = 11.3% <br>\n",
    "TPR or Recall = 41.6% <br>\n",
    "FNR = 58.4% <br>\n",
    "FPR = 33.1% <br>\n",
    "ROC-AUC = 54.3% <br>\n",
    "![image.png](attachment:image.png)"
   ]
  },
  {
   "cell_type": "code",
   "execution_count": null,
   "id": "e2f095b8",
   "metadata": {},
   "outputs": [],
   "source": [
    "# adding in variable interactions\n",
    "from patsy import dmatrices\n",
    "\n",
    "# creating the formula\n",
    "f = 'num_lab_procedures'\n",
    "for i in sig_preds[1:]:\n",
    "    f = f + '+' + i\n",
    "    \n",
    "# adding interations on to the formula\n",
    "f1 = f+'+change*diabetesMed+(age5+age15+age25+age35+age45+age55+age65+age75+age85+age95)*(time_in_hospital1+time_in_hospital2+time_in_hospital3+time_in_hospital4+time_in_hospital5+time_in_hospital6+time_in_hospital7+time_in_hospital8+time_in_hospital9+time_in_hospital10+time_in_hospital11+time_in_hospital12+time_in_hospital13+time_in_hospital14)+(age5+age15+age25+age35+age45+age55+age65+age75+age85+age95)*number_inpatient+change*(admission_type_id1+admission_type_id3+admission_type_id4+admission_type_id5)'\n",
    "\n",
    "# creating features for sklearn w/ interactions using patsy\n",
    "# test data\n",
    "y0,X0 = dmatrices(\"readmitted~\"+f1, train1_dummy)\n",
    "\n",
    "# same thing here for train data\n",
    "y1,X1 =  dmatrices(\"readmitted~\"+f1, test_dummy)\n",
    "\n",
    "# fit the logistic model\n",
    "log.fit(X0,y0)\n",
    "\n",
    "# get the name of the predictors\n",
    "coef_names = X0.design_info.column_names\n",
    "\n",
    "# get the list of coeffceints\n",
    "coefs0 = log.coef_\n",
    "\n",
    "# find the list of the predictors bwhose coefficient is non zero\n",
    "sig_preds0 = np.array(coef_names)[np.where(coefs0 != 0)[1]]"
   ]
  },
  {
   "cell_type": "code",
   "execution_count": null,
   "id": "5e99cbb9",
   "metadata": {},
   "outputs": [],
   "source": [
    "# Test Data Metrics\n",
    "confusion_matrix_data(np.asarray(X0), train1_dummy.readmitted, log, cutoff=0.5)"
   ]
  },
  {
   "attachments": {
    "image.png": {
     "image/png": "[encoded data removed]"
    }
   },
   "cell_type": "markdown",
   "id": "4cba5aeb",
   "metadata": {},
   "source": [
    "Classification accuracy = 69.9% <br>\n",
    "Precision = 68.7% <br>\n",
    "TPR or Recall = 73.2% <br>\n",
    "FNR = 26.8% <br>\n",
    "FPR = 33.4% <br>\n",
    "ROC-AUC = 69.9% <br>\n",
    "![image.png](attachment:image.png)"
   ]
  },
  {
   "cell_type": "code",
   "execution_count": null,
   "id": "03950364",
   "metadata": {},
   "outputs": [],
   "source": [
    "# Test Data Accuracy\n",
    "confusion_matrix_data(np.asarray(X1), test_dummy.readmitted, log, cutoff=0.5)"
   ]
  },
  {
   "attachments": {
    "image.png": {
     "image/png": "[encoded data removed]"
    }
   },
   "cell_type": "markdown",
   "id": "2c0135b2",
   "metadata": {},
   "source": [
    "Classification accuracy = 64.6% <br>\n",
    "Precision = 11.3% <br>\n",
    "TPR or Recall = 41.8% <br>\n",
    "FNR = 58.2% <br>\n",
    "FPR = 33.1% <br>\n",
    "ROC-AUC = 54.4% <br>\n",
    "![image.png](attachment:image.png)"
   ]
  },
  {
   "cell_type": "markdown",
   "id": "6444e611",
   "metadata": {},
   "source": [
    "### Code fitting the final model"
   ]
  },
  {
   "cell_type": "markdown",
   "id": "f6cae72f",
   "metadata": {},
   "source": [
    "**NOTE:** Ultimately, after comparing the performance metrics of all the models we created and optimized, the **base model trained with SMOTENC data** had the best training and test performance based on the metrics we needed to optimize: (1) FNR, (2) recall, and (3) precision. \n",
    "\n",
    "Put the code(s) that fit the final model(s) in separate cell(s), i.e., the code with the `.ols()` or `.logit()` functions."
   ]
  },
  {
   "cell_type": "code",
   "execution_count": 38,
   "id": "843163a3",
   "metadata": {},
   "outputs": [
    {
     "name": "stdout",
     "output_type": "stream",
     "text": [
      "Optimization terminated successfully.\n",
      "         Current function value: 0.671192\n",
      "         Iterations 5\n"
     ]
    },
    {
     "data": {
      "text/html": [
       "<table class=\"simpletable\">\n",
       "<caption>Logit Regression Results</caption>\n",
       "<tr>\n",
       "  <th>Dep. Variable:</th>      <td>readmitted</td>    <th>  No. Observations:  </th>  <td>104418</td> \n",
       "</tr>\n",
       "<tr>\n",
       "  <th>Model:</th>                 <td>Logit</td>      <th>  Df Residuals:      </th>  <td>104412</td> \n",
       "</tr>\n",
       "<tr>\n",
       "  <th>Method:</th>                 <td>MLE</td>       <th>  Df Model:          </th>  <td>     5</td> \n",
       "</tr>\n",
       "<tr>\n",
       "  <th>Date:</th>            <td>Tue, 14 Mar 2023</td> <th>  Pseudo R-squ.:     </th>  <td>0.03168</td>\n",
       "</tr>\n",
       "<tr>\n",
       "  <th>Time:</th>                <td>23:13:32</td>     <th>  Log-Likelihood:    </th> <td> -70084.</td>\n",
       "</tr>\n",
       "<tr>\n",
       "  <th>converged:</th>             <td>True</td>       <th>  LL-Null:           </th> <td> -72377.</td>\n",
       "</tr>\n",
       "<tr>\n",
       "  <th>Covariance Type:</th>     <td>nonrobust</td>    <th>  LLR p-value:       </th>  <td> 0.000</td> \n",
       "</tr>\n",
       "</table>\n",
       "<table class=\"simpletable\">\n",
       "<tr>\n",
       "            <td></td>              <th>coef</th>     <th>std err</th>      <th>z</th>      <th>P>|z|</th>  <th>[0.025</th>    <th>0.975]</th>  \n",
       "</tr>\n",
       "<tr>\n",
       "  <th>Intercept</th>            <td>   -2.2629</td> <td>    0.057</td> <td>  -39.771</td> <td> 0.000</td> <td>   -2.374</td> <td>   -2.151</td>\n",
       "</tr>\n",
       "<tr>\n",
       "  <th>time_in_hospital</th>     <td>    0.2012</td> <td>    0.011</td> <td>   17.591</td> <td> 0.000</td> <td>    0.179</td> <td>    0.224</td>\n",
       "</tr>\n",
       "<tr>\n",
       "  <th>age</th>                  <td>    0.0339</td> <td>    0.001</td> <td>   40.978</td> <td> 0.000</td> <td>    0.032</td> <td>    0.035</td>\n",
       "</tr>\n",
       "<tr>\n",
       "  <th>time_in_hospital:age</th> <td>   -0.0028</td> <td>    0.000</td> <td>  -16.988</td> <td> 0.000</td> <td>   -0.003</td> <td>   -0.002</td>\n",
       "</tr>\n",
       "<tr>\n",
       "  <th>num_of_changes</th>       <td>   -0.5269</td> <td>    0.015</td> <td>  -34.415</td> <td> 0.000</td> <td>   -0.557</td> <td>   -0.497</td>\n",
       "</tr>\n",
       "<tr>\n",
       "  <th>number_inpatient</th>     <td>    0.1540</td> <td>    0.010</td> <td>   14.807</td> <td> 0.000</td> <td>    0.134</td> <td>    0.174</td>\n",
       "</tr>\n",
       "</table>"
      ],
      "text/plain": [
       "<class 'statsmodels.iolib.summary.Summary'>\n",
       "\"\"\"\n",
       "                           Logit Regression Results                           \n",
       "==============================================================================\n",
       "Dep. Variable:             readmitted   No. Observations:               104418\n",
       "Model:                          Logit   Df Residuals:                   104412\n",
       "Method:                           MLE   Df Model:                            5\n",
       "Date:                Tue, 14 Mar 2023   Pseudo R-squ.:                 0.03168\n",
       "Time:                        23:13:32   Log-Likelihood:                -70084.\n",
       "converged:                       True   LL-Null:                       -72377.\n",
       "Covariance Type:            nonrobust   LLR p-value:                     0.000\n",
       "========================================================================================\n",
       "                           coef    std err          z      P>|z|      [0.025      0.975]\n",
       "----------------------------------------------------------------------------------------\n",
       "Intercept               -2.2629      0.057    -39.771      0.000      -2.374      -2.151\n",
       "time_in_hospital         0.2012      0.011     17.591      0.000       0.179       0.224\n",
       "age                      0.0339      0.001     40.978      0.000       0.032       0.035\n",
       "time_in_hospital:age    -0.0028      0.000    -16.988      0.000      -0.003      -0.002\n",
       "num_of_changes          -0.5269      0.015    -34.415      0.000      -0.557      -0.497\n",
       "number_inpatient         0.1540      0.010     14.807      0.000       0.134       0.174\n",
       "========================================================================================\n",
       "\"\"\""
      ]
     },
     "execution_count": 38,
     "metadata": {},
     "output_type": "execute_result"
    }
   ],
   "source": [
    "# Final modeling \n",
    "final_model = sm.logit(formula = 'readmitted ~ time_in_hospital*age + num_of_changes + number_inpatient', data = train1).fit() #Developing logistic regression model\n",
    "final_model .summary() "
   ]
  },
  {
   "cell_type": "markdown",
   "id": "62a185cb",
   "metadata": {},
   "source": [
    "## Conclusions and Recommendations to stakeholder(s)\n",
    "*By Lila Wells*\n",
    "\n",
    "Calculating odds ratios"
   ]
  },
  {
   "cell_type": "code",
   "execution_count": 47,
   "id": "f8384a20",
   "metadata": {},
   "outputs": [
    {
     "name": "stdout",
     "output_type": "stream",
     "text": [
      "The odds of readmission increase by 16.65 % with each additional inpatient hospital visit\n"
     ]
    }
   ],
   "source": [
    "# Calculating the odds ratios for number_inpatient\n",
    "odds_ratio = np.exp(final_model.params[\"number_inpatient\"]) \n",
    "\n",
    "# Calculate the percentage increase in the odds\n",
    "pct_increase = (odds_ratio - 1) * 100\n",
    "\n",
    "print('The odds of readmission increase by', round(pct_increase, 2), '% with each additional inpatient hospital visit')\n"
   ]
  },
  {
   "cell_type": "code",
   "execution_count": 49,
   "id": "6a5b4e82",
   "metadata": {},
   "outputs": [
    {
     "name": "stdout",
     "output_type": "stream",
     "text": [
      "The odds of readmission decrease by 40.96 % with each additional medication change\n"
     ]
    }
   ],
   "source": [
    "# Calculating the odds ratios for num_of_changes\n",
    "odds_ratio = np.exp(final_model.params[\"num_of_changes\"]) \n",
    "\n",
    "# Calculate the percentage increase in the odds\n",
    "pct_increase = (odds_ratio - 1) * 100\n",
    "\n",
    "print('The odds of readmission decrease by', round(abs(pct_increase), 2), '% with each additional medication change')\n"
   ]
  },
  {
   "cell_type": "code",
   "execution_count": 51,
   "id": "73845d12",
   "metadata": {},
   "outputs": [
    {
     "name": "stdout",
     "output_type": "stream",
     "text": [
      "The odds of readmission increase by 3.44 % with each additional added decade in patient age\n"
     ]
    }
   ],
   "source": [
    "# Calculating the odds ratios for num_of_changes\n",
    "odds_ratio = np.exp(final_model.params[\"age\"]) \n",
    "\n",
    "# Calculate the percentage increase in the odds\n",
    "pct_increase = (odds_ratio - 1) * 100\n",
    "\n",
    "print('The odds of readmission increase by', round(pct_increase, 2), '% with each additional added decade in patient age')\n"
   ]
  },
  {
   "cell_type": "code",
   "execution_count": 52,
   "id": "ce600ca7",
   "metadata": {},
   "outputs": [
    {
     "name": "stdout",
     "output_type": "stream",
     "text": [
      "The odds of readmission increases by 22.29 % with each additional day spent in the hospital during the patients initial hospital stay\n"
     ]
    }
   ],
   "source": [
    "# Calculating the odds ratios for time_in_hospital\n",
    "odds_ratio = np.exp(final_model.params[\"time_in_hospital\"]) \n",
    "\n",
    "# Calculate the percentage increase in the odds\n",
    "pct_increase = (odds_ratio - 1) * 100\n",
    "\n",
    "print('The odds of readmission increases by', round(pct_increase, 2), '% with each additional day spent in the hospital during the patients initial hospital stay')\n"
   ]
  },
  {
   "cell_type": "code",
   "execution_count": 53,
   "id": "25197275",
   "metadata": {},
   "outputs": [
    {
     "name": "stdout",
     "output_type": "stream",
     "text": [
      "The odds of readmission decreases by 0.28 % with each additional day spent in the hospital during the patients initial hospital stay along with an increase in their age\n"
     ]
    }
   ],
   "source": [
    "# Calculating the odds ratios for time_in_hospital:age\n",
    "odds_ratio = np.exp(final_model.params[\"time_in_hospital:age\"]) \n",
    "\n",
    "# Calculate the percentage increase in the odds\n",
    "pct_increase = (odds_ratio - 1) * 100\n",
    "\n",
    "print('The odds of readmission decreases by', round(abs(pct_increase), 2), '% with each additional day spent in the hospital during the patients initial hospital stay along with an increase in their age')\n"
   ]
  }
 ],
 "metadata": {
  "kernelspec": {
   "display_name": "Python 3 (ipykernel)",
   "language": "python",
   "name": "python3"
  },
  "language_info": {
   "codemirror_mode": {
    "name": "ipython",
    "version": 3
   },
   "file_extension": ".py",
   "mimetype": "text/x-python",
   "name": "python",
   "nbconvert_exporter": "python",
   "pygments_lexer": "ipython3",
   "version": "3.9.16"
  },
  "varInspector": {
   "cols": {
    "lenName": 16,
    "lenType": 16,
    "lenVar": 40
   },
   "kernels_config": {
    "python": {
     "delete_cmd_postfix": "",
     "delete_cmd_prefix": "del ",
     "library": "var_list.py",
     "varRefreshCmd": "print(var_dic_list())"
    },
    "r": {
     "delete_cmd_postfix": ") ",
     "delete_cmd_prefix": "rm(",
     "library": "var_list.r",
     "varRefreshCmd": "cat(var_dic_list()) "
    }
   },
   "types_to_exclude": [
    "module",
    "function",
    "builtin_function_or_method",
    "instance",
    "_Feature"
   ],
   "window_display": false
  }
 },
 "nbformat": 4,
 "nbformat_minor": 5
}
