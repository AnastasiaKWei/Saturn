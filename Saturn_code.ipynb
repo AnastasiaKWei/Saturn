{
 "cells": [
  {
   "cell_type": "raw",
   "id": "33dd6c4c",
   "metadata": {},
   "source": [
    "---\n",
    "title: \"Project Code\"\n",
    "subtitle: Team Saturn\n",
    "author: Kaitlyn Hung, Amy Wang, Anastasia Wei, and Lila Wells \n",
    "date: 03/13/2023\n",
    "number-sections: true\n",
    "abstract: _This file contains the code for the project on Exploring the Relationship Between Hospital Stays and the Readmission of Diabetic Patients, as part of the STAT 303-2 course in Winter 2023_.\n",
    "format: \n",
    "  html:\n",
    "    toc: true\n",
    "    toc-title: Contents\n",
    "    self-contained: true\n",
    "    font-size: 100%\n",
    "    toc-depth: 4\n",
    "    mainfont: serif\n",
    "jupyter: python3\n",
    "---"
   ]
  },
  {
   "cell_type": "markdown",
   "id": "fe7ea9bb",
   "metadata": {},
   "source": [
    "## Data quality check / cleaning / preparation "
   ]
  },
  {
   "cell_type": "markdown",
   "id": "db149d8b",
   "metadata": {},
   "source": [
    "### Data quality check\n",
    "*By Lila Wells*"
   ]
  },
  {
   "cell_type": "markdown",
   "id": "fbc82e7f",
   "metadata": {},
   "source": [
    "The code below visualizes the distribution of all the variables in the dataset, and their association with the response."
   ]
  },
  {
   "cell_type": "code",
   "execution_count": 31,
   "id": "1524ece7",
   "metadata": {},
   "outputs": [],
   "source": [
    "# Loading relevant libraries \n",
    "import pandas as pd\n",
    "import numpy as np\n",
    "import seaborn as sns\n",
    "import matplotlib.pyplot as plt\n",
    "from tqdm import tqdm\n",
    "import random\n",
    "import statsmodels.formula.api as sm\n",
    "\n",
    "\n",
    "# Loading the data\n",
    "data = pd.read_csv(\"dataset_diabetes/diabetic_data.csv\")\n",
    "ID = pd.read_csv('dataset_diabetes/IDs_mapping.csv')"
   ]
  },
  {
   "cell_type": "code",
   "execution_count": 32,
   "id": "5955618d",
   "metadata": {},
   "outputs": [
    {
     "data": {
      "text/plain": [
       "count    101766.000000\n",
       "mean          4.395987\n",
       "std           2.985108\n",
       "min           1.000000\n",
       "25%           2.000000\n",
       "50%           4.000000\n",
       "75%           6.000000\n",
       "max          14.000000\n",
       "Name: time_in_hospital, dtype: float64"
      ]
     },
     "execution_count": 32,
     "metadata": {},
     "output_type": "execute_result"
    }
   ],
   "source": [
    "#...Distribution of continuous variables...#\n",
    "\n",
    "# num_lab_procedures (continuous variable)\n",
    "data.num_lab_procedures.isnull().sum() # No missing values\n",
    "data.num_lab_procedures.describe() # count = 101766.000000, mean = 43.095641, std = 19.674362, min = 1.000000, 25% = 31.000000, 50% = 44.000000, 75% = 57.000000, max = 132.000000\n",
    "\n",
    "# num_procedures (continuous variable)\n",
    "data.num_procedures.isnull().sum() # No missing values\n",
    "data.num_procedures.describe() # count = 101766.000000, mean = 1.339730, std = 1.705807, min = 0.000000, 25% = 0.000000, 50% = 1.000000, 75% = 2.000000, max = 6.000000\n",
    "\n",
    "# num_medications (continuous variable)\n",
    "data.num_medications.isnull().sum() # No missing values\n",
    "data.num_procedures.describe() # count = 101766.000000, mean = 1.339730, std = 1.705807, min = 0.000000, 25% = 0.000000, 50% = 1.000000, 75% = 2.000000, max = 6.000000\n",
    "\n",
    "# number_outpatient (continuous variable)\n",
    "data.number_outpatient.isnull().sum() # No missing values\n",
    "data.number_outpatient.describe() # count = 101766.000000, mean = 0.369357, std = 1.267265, min = 0.000000, 25% = 0.000000, 50% = 0.000000, 75% = 0.000000, max = 42.000000\n",
    "\n",
    "# number_emergency (continuous variable)\n",
    "data.number_emergency.isnull().sum() # No missing values\n",
    "data.number_emergency.describe() # count = 101766.000000, mean = 0.197836, std = 0.930472, min = 0.000000, 25% = 0.000000, 50% = 0.000000, 75% = 0.000000, max = 76.000000\n",
    "\n",
    "# number_inpatient (continous variable)\n",
    "data.number_inpatient.isnull().sum() # No missing values\n",
    "data.number_inpatient.describe() # count = 101766.000000, mean = 0.635566, std = 1.262863, min = 0.000000, 25% = 0.000000, 50% = 0.000000, 75% = 1.000000, max = 21.000000\n",
    "\n",
    "# number_diagnoses (continuous variable)\n",
    "data.number_diagnoses.isnull().sum() # No missing values\n",
    "data.number_diagnoses.describe() # count = 101766.000000, mean = 7.422607, std = 1.933600, min = 1.000000, 25% = 6.000000, 50% = 8.000000, 75% = 9.000000, max = 16.000000\n",
    "\n",
    "# age (continuous variable)\n",
    "data.age.isnull().sum() # No missing values\n",
    "data.age.describe() # count = 101766, unique = 10, top = [70-80), freq = 26068\n",
    "\n",
    "# time_in_hospital (continuous variable)\n",
    "data.time_in_hospital.isnull().sum() # No missing values\n",
    "data.time_in_hospital.describe() # count = 101766, mean = 4.395987, std = 2.985108, min = 1.000000, 25% = 2.000000, 50% = 4.000000, 75% = 6.000000, max = 14.000000"
   ]
  },
  {
   "cell_type": "code",
   "execution_count": 33,
   "id": "8faafdbf",
   "metadata": {
    "scrolled": true
   },
   "outputs": [
    {
     "data": {
      "text/plain": [
       "0"
      ]
     },
     "execution_count": 33,
     "metadata": {},
     "output_type": "execute_result"
    }
   ],
   "source": [
    "#...Distribution of categorical variables...#\n",
    "\n",
    "# Change (categorical variable)\n",
    "data.change.value_counts() # No : 54755, Ch : 47011\n",
    "data.change.isnull().sum() # No missing values \n",
    "\n",
    "# diabetesMed (categorical variable)\n",
    "data.diabetesMed.value_counts() # Yes : 78363, No : 23403\n",
    "data.diabetesMed.isnull().sum() # No missing values \n",
    "\n",
    "# diag_1 (categorical_variable)\n",
    "data.diag_1.value_counts() # 717 levels here \n",
    "data.diag_1.isnull().sum() # No missing values \n",
    "\n",
    "# diag_2 (categorical variable)\n",
    "data.diag_2.value_counts() # 749 levels here\n",
    "data.diag_2.isnull().sum() # No missing values \n",
    "\n",
    "# admission_source_id (categorical variable)\n",
    "data.admission_source_id.value_counts() # 17 levels here\n",
    "data.admission_source_id.isnull().sum() # No missing values \n",
    "\n",
    "# discharge_disposition_id (categorical variable)\n",
    "data.discharge_disposition_id.value_counts() # 26 levels here\n",
    "data.discharge_disposition_id.isnull().sum() # No missing values \n",
    "\n",
    "# admission_type_id (categorical variable)\n",
    "data.admission_type_id.value_counts() # {1 : 53990, 3 : 18869, 2 : 18480, 6 : 5291, 5 : 4785, 8 : 320, 7 : 21, 4 : 10}\n",
    "data.admission_type_id.isnull().sum() # No missing values "
   ]
  },
  {
   "cell_type": "code",
   "execution_count": 34,
   "id": "e389f4ef",
   "metadata": {},
   "outputs": [
    {
     "name": "stderr",
     "output_type": "stream",
     "text": [
      "/var/folders/25/jjvj1r3d1lj4q97f1twwhgkm0000gn/T/ipykernel_6542/3545912699.py:4: FutureWarning: The default value of numeric_only in DataFrame.corr is deprecated. In a future version, it will default to False. Select only valid columns or specify the value of numeric_only to silence this warning.\n",
      "  sns.heatmap(data=data.corr())\n"
     ]
    },
    {
     "data": {
      "image/png": "[encoded data removed]",
      "text/plain": [
       "<Figure size 640x480 with 2 Axes>"
      ]
     },
     "metadata": {},
     "output_type": "display_data"
    }
   ],
   "source": [
    "#...Association of the response with the predictors...#\n",
    "\n",
    "# Creating a heatmap to visualize the association between the response and predictors\n",
    "sns.heatmap(data=data.corr())\n",
    "plt.title('Heatmap of Correlations Between Continuous Variables')\n",
    "plt.savefig(\"heatmap_continuous.png\", dpi=300)\n"
   ]
  },
  {
   "cell_type": "markdown",
   "id": "d1561829",
   "metadata": {},
   "source": [
    "### Data Cleaning\n",
    "*By Anastasia Wei*\n",
    "\n",
    "From the data quality check we realized that:\n",
    "\n",
    "1. Two predictors, `weight`, and `medical specialty` have more than 50% missing values. We don't think it's reasonable to input the values as we do not know the underlying distributions of these two variables. Therefore, we decided to remove these two variables.\n",
    "\n",
    "2. The predictor `race` is missing 2% of its values, so we imputed it by randomly sampling the distribution of race in the remaining observations. \n",
    "\n",
    "The code below implements the above cleaning."
   ]
  },
  {
   "cell_type": "code",
   "execution_count": 35,
   "id": "46f73626",
   "metadata": {},
   "outputs": [
    {
     "name": "stdout",
     "output_type": "stream",
     "text": [
      "Length before removing Duplicates: 101766\n",
      "Length after removing Duplicates: 71518\n"
     ]
    }
   ],
   "source": [
    "######-----------Changing the IDs into a three column format------------#########\n",
    "IDs = pd.DataFrame(index = range(63), columns = ['ID_types', 'ID_num', 'Description'])\n",
    "\n",
    "IDs.loc[:8, 'ID_types'] = ['admission_type_id'] * 9\n",
    "IDs.loc[:8, 'ID_num'] = ID.loc[:8,'admission_type_id'].values\n",
    "IDs.loc[:8, 'Description'] = ID.loc[:8,'description'].values\n",
    "\n",
    "IDs.loc[8:38, 'ID_types'] = ['discharge_disposition_id'] * 31\n",
    "IDs.loc[8:38, 'ID_num'] = ID.loc[10:40,'admission_type_id'].values\n",
    "IDs.loc[8:38, 'Description'] = ID.loc[10:40,'description'].values\n",
    "\n",
    "IDs.loc[38:, 'ID_types'] = ['admission_source_id'] * 25\n",
    "IDs.loc[38:, 'ID_num'] = ID.loc[42:,'admission_type_id'].values\n",
    "IDs.loc[38:, 'Description'] = ID.loc[42:,'description'].values\n",
    "\n",
    "# Saving the cleaned IDs to a new csv file\n",
    "IDs.to_csv('IDs_clean.csv')\n",
    "\n",
    "######-----------Dropping the columns w/ more than 50% values missing------------#########\n",
    "data.drop(['weight','medical_specialty'], axis = 1, inplace = True)\n",
    "\n",
    "######-----------Removing duplicate records for the same patient------------#########\n",
    "print('Length before removing Duplicates:', len(data))\n",
    "data.drop_duplicates(['patient_nbr'], keep = 'first', inplace = True)\n",
    "print('Length after removing Duplicates:', len(data))\n",
    "\n",
    "######-----------Changing readmission to two levels instead of three------------#########\n",
    "\n",
    "# Checking the values of the readmitted column and changing it to two levels\n",
    "# Readmitted is defined here as '1' if the patient returns to hospital within 30 days\n",
    "data.readmitted.value_counts()\n",
    "data['readmitted'] = data['readmitted'].apply(lambda x: 0 if x == 'NO' or x == '>30'\n",
    "                                              else 1)\n",
    "\n",
    "######-----------Imputing Missing Values in Race by drawing randomly from the race in the observations------------#########\n",
    "\n",
    "# Checking the value counts of race and where values are missing \n",
    "races = data['race'].loc[data['race'] != '?'].values\n",
    "data['race'].value_counts()\n",
    "\n",
    "# Applying a lambda function to the race column to impute missing values \n",
    "data['race'] = data['race'].apply(lambda x: random.choice(races) if x == '?' else x)\n",
    "data['race'].value_counts()\n",
    "\n",
    "# Re-indexing\n",
    "data.index = np.arange(0,len(data))\n"
   ]
  },
  {
   "cell_type": "markdown",
   "id": "9b91a14e",
   "metadata": {},
   "source": [
    "### Data preparation\n",
    "*By Anastasia Wei*\n",
    "\n",
    "The following data preparation steps helped us to prepare our data for implementing various modeling / validation techniques:\n",
    "\n",
    "1. Changed each age interval to the middle of the interval\n",
    "2. Used domain knowledge about the diagnosis mapping to futher bin the `diag1`, `diag2`, and `diag3` predictors. \n",
    "3. Performed mapping on variables `admission_type_id`, `admission_source_id`, and `discharge_disposition_id.` Changing each from 8, 30, 25 distinct levels to 4, 6, and 8 distinct levels.\n",
    "4. Created a new variable `num_of_changes` to aggregate the number of changes in medications per patient.\n",
    "5. Changed `readmission`, the response variable, from 3 levels (No, >30, <30) to 2 levels (0,1) for readmitted and admitted\n",
    "6. Split the data into train set and test sets. We randomly sampled 80% of the data to be the train set and used the rest as the test data set."
   ]
  },
  {
   "cell_type": "code",
   "execution_count": 36,
   "id": "77b2b85a",
   "metadata": {},
   "outputs": [
    {
     "name": "stdout",
     "output_type": "stream",
     "text": [
      "0     5\n",
      "1    15\n",
      "2    25\n",
      "3    35\n",
      "4    45\n",
      "Name: age, dtype: int64\n"
     ]
    }
   ],
   "source": [
    "######-----------Replacing the age range with the middle of the interval------------#########\n",
    "replaceDict = {'[0-10)' : 5,'[10-20)' : 15, '[20-30)' : 25, \n",
    "               '[30-40)' : 35,'[40-50)' : 45,'[50-60)' : 55,\n",
    "               '[60-70)' : 65,'[70-80)' : 75,'[80-90)' : 85,\n",
    "               '[90-100)' : 95}\n",
    "\n",
    "data['age'] = data['age'].apply(lambda x : replaceDict[x])\n",
    "print(data['age'].head())\n",
    "\n",
    "######-----------Using domain knowledge on diag_1, diag_2, and diag_3 to bin the diagnoses------------#########\n",
    "\n",
    "# Defining a helper function to determine if a number is a float\n",
    "def isfloat(num):\n",
    "    try:\n",
    "        float(num)\n",
    "        return True\n",
    "    except ValueError:\n",
    "        return False\n",
    "\n",
    "# Defining a function to bin the diagnoses columns\n",
    "def diag_transform(x):\n",
    "    if str(x)[0] == 'V' or str(x)[0] == 'E':\n",
    "        return 'other'\n",
    "    elif isfloat(x):\n",
    "        if int(float(x)) in range(390, 460) or int(float(x)) == 785:\n",
    "            return 'circulatory'\n",
    "        elif int(float(x)) in range(460, 520) or int(float(x)) == 786:\n",
    "            return 'respiratory'\n",
    "        elif int(float(x)) in range(520, 580) or int(float(x)) == 787:\n",
    "            return 'digestive'\n",
    "        elif int(float(x)) == 250:\n",
    "            return'diabetes'\n",
    "        elif int(float(x)) in range(800, 1000):\n",
    "            return 'injury'\n",
    "        elif int(float(x)) in range(710, 740):\n",
    "            return 'musculoskeletal'\n",
    "        elif int(float(x)) in range(580, 630) or int(float(x)) == 788:\n",
    "            return 'genitourinary'\n",
    "        elif int(float(x)) in range(140, 240):\n",
    "            return 'neoplasms'\n",
    "        elif int(float(x)) in range(630, 680):\n",
    "            return 'pregnecy'\n",
    "        else:\n",
    "            return 'other'\n",
    "    else:\n",
    "        return 'other'\n",
    "\n",
    "# Applying the functions to the appropriate columns in the dataframe \n",
    "data['diag_1'] = data['diag_1'].apply(diag_transform)\n",
    "data['diag_2'] = data['diag_2'].apply(diag_transform)\n",
    "data['diag_3'] = data['diag_3'].apply(diag_transform)"
   ]
  },
  {
   "cell_type": "code",
   "execution_count": 37,
   "id": "e4e04063",
   "metadata": {},
   "outputs": [],
   "source": [
    "######-----------Using domain knowledge to bin admission_type_id, discharge_disposition_id, admission_source_id------------#########\n",
    "\n",
    "# Changing the datatypes of the appropriate columns \n",
    "data['admission_type_id'] = data['admission_type_id'].astype('int')\n",
    "data['admission_source_id'] = data['admission_source_id'].astype('int')\n",
    "data['discharge_disposition_id'] = data['discharge_disposition_id'].astype('int')\n",
    "\n",
    "# Defining helper functions to transform the data \n",
    "def ad_type_transform(x):\n",
    "    if x in [2,7]:\n",
    "        return 1\n",
    "    elif x in [6,8]:\n",
    "        return 5\n",
    "    else:\n",
    "        return x\n",
    "    \n",
    "def ad_source_transform(x):\n",
    "    if x in [2,3]:\n",
    "        return 1\n",
    "    elif x in [5,6,10,22,25]:\n",
    "        return 4\n",
    "    elif x in [15,17,20,21]:\n",
    "        return 9\n",
    "    elif x in [13,14]:\n",
    "        return 11\n",
    "    else:\n",
    "        return x\n",
    "    \n",
    "def discharge_transform(x):\n",
    "    if x in [6, 8, 9, 13]:\n",
    "        return 1\n",
    "    elif x in [3, 4, 5, 14, 22, 23, 24]:\n",
    "        return 2\n",
    "    elif x in [12, 15, 16, 17]:\n",
    "        return 10\n",
    "    elif x in [19, 20, 21]:\n",
    "        return 11\n",
    "    elif x in [25, 26]:\n",
    "        return 18\n",
    "    elif x in [13,14,19,20,21]:\n",
    "        return 11\n",
    "    else:\n",
    "        return x\n",
    "\n",
    "    \n",
    "# Applying the helper functions to the appropriate columns\n",
    "data['admission_type_id'] = data['admission_type_id'].apply(ad_type_transform)\n",
    "data['admission_source_id'] = data['admission_source_id'].apply(ad_source_transform)\n",
    "data['discharge_disposition_id'] = data['discharge_disposition_id'].apply(discharge_transform)"
   ]
  },
  {
   "cell_type": "code",
   "execution_count": null,
   "id": "2cecc4d7",
   "metadata": {},
   "outputs": [
    {
     "name": "stderr",
     "output_type": "stream",
     "text": [
      " 39%|█████████████▉                      | 27572/71518 [01:01<01:41, 432.39it/s]"
     ]
    }
   ],
   "source": [
    "######-----Creating number of changes variable (number of 'ups' and 'downs' in medication)-------#########\n",
    "\n",
    "# Creating a list of the drugs in the dataset\n",
    "druglist = ['metformin','repaglinide', 'nateglinide', 'chlorpropamide',\n",
    "            'glimepiride','acetohexamide', 'glipizide', 'glyburide', \n",
    "            'tolbutamide','pioglitazone', 'rosiglitazone', 'acarbose', \n",
    "            'miglitol', 'troglitazone','tolazamide', 'examide', 'citoglipton', \n",
    "            'insulin', 'glyburide-metformin', 'glipizide-metformin',\n",
    "            'glimepiride-pioglitazone', 'metformin-rosiglitazone',\n",
    "            'metformin-pioglitazone']\n",
    "\n",
    "# Defining a helper function to help create this variable \n",
    "num_of_changes = []\n",
    "for i in tqdm(range(len(data))) :\n",
    "    changeCount = 0\n",
    "    for col in druglist : \n",
    "        if data.iloc[i][col] in ['Down', 'Up'] :\n",
    "            changeCount += 1\n",
    "    num_of_changes.append(changeCount)\n",
    "    \n",
    "# Creating the variable in the dataset\n",
    "data['num_of_changes'] = num_of_changes"
   ]
  },
  {
   "cell_type": "code",
   "execution_count": null,
   "id": "04dd0195",
   "metadata": {},
   "outputs": [],
   "source": [
    "######-----Saving the cleaned data as a CSV-------#########\n",
    "data.to_csv('diabetes_cleaned.csv')\n",
    "\n",
    "######-----Creating test and train datasets-------#########\n",
    "\n",
    "# Using 80% for train, 20% for test\n",
    "print(len(data))\n",
    "print(len(data)*0.2)\n",
    "\n",
    "# Creating the test data\n",
    "pop = list(np.arange(0,71518))\n",
    "test_loc = random.sample(pop, k = 14304)\n",
    "test = data.iloc[test_loc]\n",
    "test.index = np.arange(0, 14304)\n",
    "\n",
    "# Creating the train data \n",
    "train_loc = list(set(pop) - set(test_loc))\n",
    "train = data.iloc[train_loc]\n",
    "train.index = np.arange(0, 57214)\n",
    "\n",
    "# Saving both dfs as CSVs\n",
    "test.to_csv('test.csv')\n",
    "train.to_csv('train.csv')"
   ]
  },
  {
   "cell_type": "markdown",
   "id": "4097e30d",
   "metadata": {},
   "source": [
    "#### Addressing Response Imbalance (For Base Model Development) With Undersampling\n",
    "*By Lila Wells and Kaitlyn Hung*\n",
    "\n",
    "To address the response imbalance (`readmitted`: 90% `0`, 10% `1`), we first attempted undersampling by reducing the number of negative (`0`) datapoints in our training data (so that our resulting training data would have a 50-50 split of both positive and negative datapoints). "
   ]
  },
  {
   "cell_type": "code",
   "execution_count": null,
   "id": "b247cdb1",
   "metadata": {},
   "outputs": [],
   "source": [
    "# Loading datasets\n",
    "train = pd.read_csv('train.csv')\n",
    "test = pd.read_csv('test.csv')\n",
    "\n",
    "# Drop random column\n",
    "train = train.drop(columns = 'Unnamed: 0')\n",
    "test = test.drop(columns = 'Unnamed: 0')\n",
    "\n",
    "######-----Creating a train dataset using undersampling-------#########\n",
    "\n",
    "# Filtering the dataset so that it only has not-readmitted vals\n",
    "no_readmit = train[train['readmitted'] == 0]\n",
    "readmit = train[train['readmitted'] == 1]\n",
    "\n",
    "# Taking a random sample from the no_reamit df \n",
    "import random\n",
    "\n",
    "n = 5044 # To get a 50-50 split, we need a sample of 5041\n",
    "no_readmit1 = no_readmit.sample(n)\n",
    "\n",
    "no_readmit.shape # (52173, 48)\n",
    "readmit.shape # (5041, 48)\n",
    "no_readmit1.shape # (5041, 48)\n",
    "\n",
    "# Merging the no_readmit1 and readmit dfs to get a train1 df\n",
    "merged_df = pd.concat([no_readmit1, readmit])\n",
    "merged_df.shape\n",
    "\n",
    "# Randomly shuffling the resulting df\n",
    "train1 = merged_df.sample(frac=1)\n",
    "\n",
    "# Creating a copy of the dataframe for undersampling \n",
    "train_undersampling = train1.copy()\n",
    "train_undersampling.readmitted.value_counts()"
   ]
  },
  {
   "cell_type": "markdown",
   "id": "bff41e67",
   "metadata": {},
   "source": [
    "#### Addressing Response Imbalance (For Model Optimization) With SMOTENC\n",
    "\n",
    "*By Amy Wang*\n",
    "\n",
    "We solve the problem of an unevenly distributed response variable (`readmitted`: 90% `0`, 10% `1`) by synthetically generating data representing positive (`1`) datapoints within our train data with SMOTENC, to have equal proportions of positive and negative datapoints. We use this training dataset in efforts to optimize the preliminary models."
   ]
  },
  {
   "cell_type": "code",
   "execution_count": null,
   "id": "355895ec",
   "metadata": {},
   "outputs": [],
   "source": [
    "### Install the SMOTENC package\n",
    "\n",
    "# steps to install imblean in conda environment\n",
    "# pip install imblearn\n",
    "# conda install -c conda-forge imbalanced-learn\n",
    "\n",
    "from imblearn.over_sampling import SMOTENC"
   ]
  },
  {
   "cell_type": "code",
   "execution_count": null,
   "id": "f411471b",
   "metadata": {},
   "outputs": [],
   "source": [
    "# Read in the cleaned training and test data\n",
    "train = pd.read_csv('train.csv').iloc[:, 1:]\n",
    "test = pd.read_csv('test.csv').iloc[:, 1:]\n",
    "\n",
    "\n",
    "# Split the training data into predictors (X_train) and response (y_train)\n",
    "X_train = train.drop(columns=\"readmitted\")\n",
    "y_train = train.loc[:, \"readmitted\"]\n",
    "\n",
    "# Identify the datatype of the predictors, and get the name of all object datatype column names\n",
    "X_train_types = X_train.dtypes.to_frame().rename(columns={0: \"type\"})\n",
    "object_vars = list(X_train_types.loc[X_train_types.type == \"object\", :].index)\n",
    "# Add numerical predictors that we treat as categorical variables\n",
    "object_vars = object_vars + [\"age\", \"admission_type_id\", \"discharge_disposition_id\", \"admission_source_id\", \"time_in_hospital\", \"num_of_changes\"]\n",
    "\n",
    "# Get the indices of all categorical variables\n",
    "object_var_indices = []\n",
    "for i in range(0, len(X_train.columns)):\n",
    "    if X_train.columns[i] in object_vars:\n",
    "        object_var_indices.append(i)\n",
    "\n",
    "\n",
    "# Initialize SMOTENC object\n",
    "smote_nc = SMOTENC(categorical_features=object_var_indices, random_state=0)\n",
    "X_resampled, y_resampled = smote_nc.fit_resample(X_train, y_train)\n",
    "# Combine the response variable back in with the predictors\n",
    "X_resampled.loc[:, \"readmitted\"] = y_resampled\n",
    "train1 = X_resampled.copy()"
   ]
  },
  {
   "cell_type": "code",
   "execution_count": null,
   "id": "fd230b59",
   "metadata": {},
   "outputs": [],
   "source": [
    "# Finding the value counts of the train data after SMOTENC\n",
    "train1.readmitted.value_counts()"
   ]
  },
  {
   "cell_type": "markdown",
   "id": "bf567ea4",
   "metadata": {},
   "source": [
    "#### Helper function to create dummy variables of binned variables for model optimization\n",
    "*By Amy Wang*\n",
    "\n",
    "We separate certain categorical variables when optimizing the model, so that each binned value is its own predictor. This helper function creates the `train1_dummy` and `test_dummy` datasets with the dummy variables.\n",
    "\n",
    "The `vars` variable stores lists of the values of each variable, for simplified formulation of logistic models containing these variables."
   ]
  },
  {
   "cell_type": "code",
   "execution_count": null,
   "id": "51f2a641",
   "metadata": {},
   "outputs": [],
   "source": [
    "dummy_preds = [\"age\", \"time_in_hospital\", \"admission_type_id\", \"discharge_disposition_id\", \"admission_source_id\", \"diag_1\", \"diag_2\"]\n",
    "train1_dummy = train1.copy()\n",
    "test_dummy = test.copy()\n",
    "vars = []\n",
    "\n",
    "for pred in dummy_preds:\n",
    "    dummy_train = pd.get_dummies(train1.loc[:, pred])\n",
    "    dummy_train.columns = [pred + str(x) for x in dummy_train.columns]\n",
    "    train1_dummy = pd.concat([train1_dummy, dummy_train], axis=1)\n",
    "    vars.append(list(dummy_train.columns))\n",
    "    \n",
    "    dummy_test = pd.get_dummies(test.loc[:, pred])\n",
    "    dummy_test.columns = [pred + str(x) for x in dummy_test.columns]\n",
    "    test_dummy = pd.concat([test_dummy, dummy_test], axis=1)"
   ]
  },
  {
   "cell_type": "markdown",
   "id": "fbb11c9b",
   "metadata": {},
   "source": [
    "## Exploratory Data Analysis\n",
    "*By Anastasia Wei, Lila Wells, Kaitlyn Hung, and Amy Wang*"
   ]
  },
  {
   "cell_type": "code",
   "execution_count": null,
   "id": "8bd43a0c",
   "metadata": {},
   "outputs": [],
   "source": [
    "# --- Heatmap of the correlation values between continuous variables in the train1 df -- #\n",
    "\n",
    "# Extracting the continuous variables from the train1 df\n",
    "continuous_vars = train1.loc[:, ['age', 'admission_type_id', 'discharge_disposition_id', 'admission_source_id',\n",
    "       'time_in_hospital', 'num_lab_procedures',\n",
    "       'num_procedures', 'num_medications', 'number_outpatient',\n",
    "       'number_emergency', 'number_inpatient', \n",
    "       'number_diagnoses', 'readmitted',\n",
    "       'num_of_changes']]\n",
    "\n",
    "continuous_vars = continuous_vars.reset_index(drop=True)\n",
    "\n",
    "# Creating the heatmap\n",
    "sns.heatmap(data=continuous_vars.corr())\n",
    "plt.title('Heatmap of Correlations Between Continuous Variables')"
   ]
  },
  {
   "cell_type": "code",
   "execution_count": null,
   "id": "9acd34af",
   "metadata": {},
   "outputs": [],
   "source": [
    "# --- Figuring out the distribution of response variable (readmitted) with age -- #\n",
    "\n",
    "b = train1.age.unique()\n",
    "b.sort()\n",
    "b_sort = np.array(b).tolist()\n",
    "\n",
    "# Creating the plot \n",
    "ageplt = sns.countplot(x = 'age', hue = 'readmitted', data = train1, order = b_sort) \n",
    "\n",
    "# Formatting the plot\n",
    "sns.despine()\n",
    "ageplt.figure.set_size_inches(7, 6.5)\n",
    "ageplt.legend(title = 'Readmitted within 30 days', labels = ('No', 'Yes'))\n",
    "ageplt.axes.set_title('Readmissions Balance by Age')\n",
    "plt.ylabel('Count')\n",
    "plt.xlabel('Age')"
   ]
  },
  {
   "cell_type": "code",
   "execution_count": null,
   "id": "599b478c",
   "metadata": {},
   "outputs": [],
   "source": [
    "# --- Figuring out the distribution of response variable (readmitted) with time spent in hospital -- #\n",
    "\n",
    "c = train1.time_in_hospital.unique()\n",
    "c.sort()\n",
    "c_sort = np.array(c).tolist()\n",
    "\n",
    "# Creating the plot \n",
    "timeplt = sns.countplot(x = 'time_in_hospital', hue = \"readmitted\", data = train1, order = c_sort) \n",
    "\n",
    "# Formatting the plot \n",
    "plt.title('Time Spent in Hospital versus Readmission', size = 13)\n",
    "timeplt.legend(title = 'Readmitted within 30 days', labels = ('No', 'Yes'))\n",
    "plt.ylabel('Count')\n",
    "plt.xlabel('Time Spent in Hospital During Initial Stay')"
   ]
  },
  {
   "cell_type": "code",
   "execution_count": null,
   "id": "e44382a2",
   "metadata": {},
   "outputs": [],
   "source": [
    "# --- Figuring out the distribution of response variable (readmitted) with number_diagnoses -- #\n",
    "\n",
    "d = train1.number_diagnoses.unique()\n",
    "d.sort()\n",
    "d_sort = np.array(d).tolist()\n",
    "\n",
    "# Creating the plot \n",
    "diagplt = sns.countplot(x = 'number_diagnoses', hue = \"readmitted\", data = train1, order = d_sort) \n",
    "\n",
    "# Formatting the plot\n",
    "plt.title('Number of Diagnoses Visits Versus Readmission', size = 13)\n",
    "diagplt.legend(title = 'Readmitted within 30 days', labels = ('No', 'Yes'))\n",
    "plt.ylabel('Count')\n",
    "plt.xlabel('Number of Diagnoses')\n"
   ]
  },
  {
   "cell_type": "code",
   "execution_count": null,
   "id": "bee07bff",
   "metadata": {},
   "outputs": [],
   "source": [
    "# --- Figuring out the distribution of response variable (readmitted) with number_emergency -- #\n",
    "\n",
    "d = train1.number_emergency.unique()\n",
    "d.sort()\n",
    "d_sort = np.array(d).tolist()\n",
    "\n",
    "# Creating the plot \n",
    "emergencyplt = sns.countplot(x = 'number_emergency', hue = \"readmitted\", data = train1, order = d_sort) \n",
    "\n",
    "# Formatting the plot \n",
    "plt.title('Number of Emergency Visits Versus Readmission', size = 13)\n",
    "emergencyplt.legend(title = 'Readmitted within 30 days', labels = ('No', 'Yes'))\n",
    "plt.ylabel('Count')\n",
    "plt.xlabel('Number of Emergency Visits')\n"
   ]
  },
  {
   "cell_type": "code",
   "execution_count": null,
   "id": "324c5d2b",
   "metadata": {},
   "outputs": [],
   "source": [
    "# --- Figuring out the distribution of response variable (readmitted) with number of medication changes -- #\n",
    "\n",
    "d = train1.num_of_changes.unique()\n",
    "d.sort()\n",
    "d_sort = np.array(d).tolist()\n",
    "\n",
    "# Creating the plot \n",
    "changesplt = sns.countplot(x = 'num_of_changes', hue = \"readmitted\", data = train1, order = d_sort) \n",
    "\n",
    "# Formatting the plot\n",
    "plt.title('Number of Medication Changes Versus Readmission', size = 13)\n",
    "changesplt.legend(title = 'Readmitted within 30 days', labels = ('No', 'Yes'))\n",
    "plt.ylabel('Count')\n",
    "plt.xlabel('Number of Medication Changes')\n"
   ]
  },
  {
   "cell_type": "code",
   "execution_count": null,
   "id": "4a60510f",
   "metadata": {},
   "outputs": [],
   "source": [
    "# --- Figuring out the distribution of response variable (readmitted) with number of inpatient visits -- #\n",
    "\n",
    "# Creating the plot \n",
    "ax1 = sns.displot(train1.loc[train1['number_inpatient']>=5], x=\"number_inpatient\", hue= 'readmitted', kind='kde')\n",
    "\n",
    "# Formatting the plot \n",
    "plt.title('Number of Inpatient Visits vs. Readmission', size = 13)\n",
    "ax1.figure.set_size_inches(7, 6.5)\n",
    "plt.xlabel('Number of Inpatient Visits')\n",
    "plt.legend(title = 'Readmitted within 30 days', labels = ('No', 'Yes'))"
   ]
  },
  {
   "cell_type": "code",
   "execution_count": null,
   "id": "d321fb91",
   "metadata": {},
   "outputs": [],
   "source": [
    "# --- Patient age vs. time spent in hospital -- #\n",
    "\n",
    "# Creating the plot \n",
    "sns.barplot(x = \"age\", y = \"time_in_hospital\", data = train1, palette = \"Set2\")\n",
    "\n",
    "# Formatting the plot \n",
    "plt.title('Time Spent in Hospital vs. Patient Age', size = 13)\n",
    "plt.xlabel(\"Patient Age\")\n",
    "plt.ylabel('Time Spent in Hospital')\n"
   ]
  },
  {
   "cell_type": "code",
   "execution_count": null,
   "id": "83e8168c",
   "metadata": {},
   "outputs": [],
   "source": [
    "# --- Patient age vs. number of inpatient visits -- #\n",
    "\n",
    "# Creating the plot \n",
    "sns.scatterplot(x = \"age\", y = \"number_inpatient\", data = train1)\n",
    "\n",
    "# Formatting the plot \n",
    "plt.title('Patient Age vs. Number of Inpatient Visits', size = 13)\n",
    "plt.xlabel(\"Patient Age\")\n",
    "plt.ylabel('Number of Inpatient Visits')"
   ]
  },
  {
   "cell_type": "code",
   "execution_count": null,
   "id": "262fafbc",
   "metadata": {},
   "outputs": [],
   "source": [
    "# --- Number of medication changes vs. number of inpatient visits -- #\n",
    "\n",
    "# Creating the plot\n",
    "sns.scatterplot(x = \"num_of_changes\", y = \"number_inpatient\", data = train1)\n",
    "\n",
    "# Formatting the plot\n",
    "plt.title('Number of Medication Changes vs. Number of Inpatient Visits', size = 13)\n",
    "plt.xlabel(\"Number of Medication Changes\")\n",
    "plt.ylabel('Number of Inpatient Visits')"
   ]
  },
  {
   "cell_type": "code",
   "execution_count": null,
   "id": "7eac08b5",
   "metadata": {},
   "outputs": [],
   "source": [
    "# --- Number of medication changes vs. age -- #\n",
    "\n",
    "# Creating the plot \n",
    "sns.scatterplot(x = \"num_of_changes\", y = \"age\", data = train1)\n",
    "\n",
    "# Formatting the plot \n",
    "plt.title('Number of Medication Changes vs. Patient Age', size = 13)\n",
    "plt.xlabel(\"Number of Medication Changes\")\n",
    "plt.ylabel('Patient Age')\n"
   ]
  },
  {
   "cell_type": "code",
   "execution_count": null,
   "id": "b53942c2",
   "metadata": {},
   "outputs": [],
   "source": [
    "# --- Number of inpatient visits vs. time spent in hospital -- #\n",
    "\n",
    "# Creating the plot \n",
    "sns.scatterplot(x = \"number_inpatient\", y = \"time_in_hospital\", data = train1)\n",
    "\n",
    "# Formatting the plot \n",
    "plt.title('Number of Inpatient Visits vs. Time Spent in Hospital', size = 13)\n",
    "plt.xlabel(\"Number of Inpatient Visits\")\n",
    "plt.ylabel('Time Spent in Hospital')"
   ]
  },
  {
   "cell_type": "code",
   "execution_count": null,
   "id": "eeda172a",
   "metadata": {},
   "outputs": [],
   "source": [
    "# --- Time spent in hospital vs. number of medication changes -- #\n",
    "\n",
    "# Creating the plot \n",
    "sns.barplot(x = \"time_in_hospital\", y = \"num_of_changes\", data = train1, palette = \"Set2\")\n",
    "\n",
    "# Formatting the plot \n",
    "plt.title('Time Spent in Hospital vs. Number of Medication Changes', size = 13)\n",
    "plt.xlabel(\"Number of Medication Changes\")\n",
    "plt.ylabel('Time Spent in Hospital')"
   ]
  },
  {
   "cell_type": "markdown",
   "id": "acab331a",
   "metadata": {},
   "source": [
    "## Developing the Model\n",
    "*By Anastasia Wei, Lila Wells, Kaitlyn Hung, and Amy Wang*"
   ]
  },
  {
   "cell_type": "markdown",
   "id": "ae5ec4c9",
   "metadata": {},
   "source": [
    "Put code with comments. The comments should explain the code such that it can be easily understood. You may put text *(in a markdown cell)* before a large chunk of code to explain the overall purpose of the code, if it is not intuitive. **Put the name of the person / persons who contributed to each code chunk / set of code chunks.**"
   ]
  },
  {
   "cell_type": "markdown",
   "id": "409e7018",
   "metadata": {},
   "source": [
    "### Confusion Matrix to Evaluate Models (*Taken from class notes*)"
   ]
  },
  {
   "cell_type": "code",
   "execution_count": null,
   "id": "5c67dc18",
   "metadata": {},
   "outputs": [],
   "source": [
    "from sklearn.metrics import roc_curve, auc\n",
    "\n",
    "#Function to compute confusion matrix and prediction accuracy on test/train data\n",
    "def confusion_matrix_data(data,actual_values,model,cutoff=0.5):\n",
    "#Predict the values using the Logit model\n",
    "    pred_values = model.predict(data)\n",
    "# Specify the bins\n",
    "    bins=np.array([0,cutoff,1])\n",
    "#Confusion matrix\n",
    "    cm = np.histogram2d(actual_values, pred_values, bins=bins)[0]\n",
    "    cm_df = pd.DataFrame(cm)\n",
    "    cm_df.columns = ['Predicted 0','Predicted 1']\n",
    "    cm_df = cm_df.rename(index={0: 'Actual 0',1:'Actual 1'})\n",
    "# Calculate the accuracy\n",
    "    accuracy = (cm[0,0]+cm[1,1])/cm.sum()\n",
    "    fnr = (cm[1,0])/(cm[1,0]+cm[1,1])\n",
    "    precision = (cm[1,1])/(cm[0,1]+cm[1,1])\n",
    "    fpr = (cm[0,1])/(cm[0,0]+cm[0,1])\n",
    "    tpr = (cm[1,1])/(cm[1,0]+cm[1,1])\n",
    "    fpr_roc, tpr_roc, auc_thresholds = roc_curve(actual_values, pred_values)\n",
    "    auc_value = (auc(fpr_roc, tpr_roc))# AUC of ROC\n",
    "    sns.heatmap(cm_df, annot=True, cmap='Blues', fmt='g')\n",
    "    plt.ylabel(\"Actual Values\")\n",
    "    plt.xlabel(\"Predicted Values\")\n",
    "    print(\"Classification accuracy = {:.1%}\".format(accuracy))\n",
    "    print(\"Precision = {:.1%}\".format(precision))\n",
    "    print(\"TPR or Recall = {:.1%}\".format(tpr))\n",
    "    print(\"FNR = {:.1%}\".format(fnr))\n",
    "    print(\"FPR = {:.1%}\".format(fpr))\n",
    "    print(\"ROC-AUC = {:.1%}\".format(auc_value))"
   ]
  },
  {
   "cell_type": "markdown",
   "id": "d98576b1",
   "metadata": {},
   "source": [
    "### Preliminary model development\n",
    "*Lila Wells and Kaitlyn Hung*\n",
    "\n",
    "The code below executes our base model, which we created based on our exploratory data analysis."
   ]
  },
  {
   "cell_type": "code",
   "execution_count": null,
   "id": "c2016145",
   "metadata": {},
   "outputs": [],
   "source": [
    "# Fitting a preliminary model based on EDA\n",
    "logit_model = sm.logit(formula = 'readmitted ~ time_in_hospital*age + num_of_changes + number_inpatient', data = train_undersampling).fit() #Developing logistic regression model\n",
    "logit_model.summary()"
   ]
  },
  {
   "cell_type": "markdown",
   "id": "46eb6471",
   "metadata": {},
   "source": [
    "#### Base Model Performance on Training Data\n",
    "\n",
    "Testing the model's performance on training data"
   ]
  },
  {
   "cell_type": "code",
   "execution_count": null,
   "id": "2e94dcd6",
   "metadata": {},
   "outputs": [],
   "source": [
    "# Finding model performance metrics with train data (undersampling)\n",
    "confusion_matrix_data(train_undersampling, train_undersampling.readmitted, logit_model, cutoff=0.5)"
   ]
  },
  {
   "cell_type": "markdown",
   "id": "df5c9256",
   "metadata": {},
   "source": [
    "#### Base Model Performance on Test Data \n",
    "\n",
    "Testing the base model's performance on test data"
   ]
  },
  {
   "cell_type": "code",
   "execution_count": null,
   "id": "90336707",
   "metadata": {},
   "outputs": [],
   "source": [
    "# Finding model performance metrics with test data (undersampling)\n",
    "confusion_matrix_data(test, test.readmitted, logit_model, cutoff=0.5)"
   ]
  },
  {
   "cell_type": "markdown",
   "id": "d4cceeaa",
   "metadata": {},
   "source": [
    "#### Refitting the Base Model with SMOTENC Data \n",
    "\n",
    "To see if the base model performed better with SMOTENC data, we refit the model accordingly"
   ]
  },
  {
   "cell_type": "code",
   "execution_count": null,
   "id": "b78e53d7",
   "metadata": {},
   "outputs": [],
   "source": [
    "# Refitting the model with SMOTENC data \n",
    "logit_model2 = sm.logit(formula = 'readmitted ~ time_in_hospital*age + num_of_changes + number_inpatient', data = train1).fit() #Developing logistic regression model\n",
    "logit_model2.summary()"
   ]
  },
  {
   "cell_type": "markdown",
   "id": "c9e2fb60",
   "metadata": {},
   "source": [
    "##### Base Model Performance on Training Data with SMOTENC\n",
    "\n",
    "Testing the model's performance with SMOTENC training data"
   ]
  },
  {
   "cell_type": "code",
   "execution_count": null,
   "id": "5730e4a1",
   "metadata": {
    "scrolled": true
   },
   "outputs": [],
   "source": [
    "# Finding the model's performance metrics with train data (SMOTENC)\n",
    "confusion_matrix_data(train1, train1.readmitted, logit_model2, cutoff=0.5)\n"
   ]
  },
  {
   "cell_type": "markdown",
   "id": "3b271ff0",
   "metadata": {},
   "source": [
    "##### Base Model Performance on Test Data with SMOTENC\n",
    "\n",
    "Testing the model's performance with test data"
   ]
  },
  {
   "cell_type": "code",
   "execution_count": null,
   "id": "53da9fb9",
   "metadata": {},
   "outputs": [],
   "source": [
    "# Finding the model's performance metrics with test data (SMOTENC)\n",
    "confusion_matrix_data(test, test.readmitted, logit_model2, cutoff=0.5)\n"
   ]
  },
  {
   "cell_type": "markdown",
   "id": "2df9fb95",
   "metadata": {},
   "source": [
    "#### Optimizing for the Decision Threshold\n",
    "\n",
    "Seeing if we can further improve our model's recall (and decrease its False Negative Rate) by optimizing the decision threshold)"
   ]
  },
  {
   "cell_type": "code",
   "execution_count": null,
   "id": "e533b2ca",
   "metadata": {
    "scrolled": true
   },
   "outputs": [],
   "source": [
    "# Finding the percentage of positive values\n",
    "perc = train1.readmitted.mean()\n",
    "\n",
    "# Plotting precision and recall scores as a function of the decision threshold\n",
    "from sklearn.metrics import precision_recall_curve\n",
    "\n",
    "y = train1.readmitted\n",
    "ypred = logit_model2.predict(train1)\n",
    "p, r, thresholds = precision_recall_curve(y, ypred)\n",
    "def plot_precision_recall_vs_threshold(precisions, recalls, thresholds):\n",
    "    plt.figure(figsize=(8, 8))\n",
    "    plt.title(\"Precision and Recall Scores as a function of the decision threshold\")\n",
    "    plt.plot(thresholds, precisions[:-1], \"b--\", label=\"Precision\")\n",
    "    plt.plot(thresholds, recalls[:-1], \"g-\", label=\"Recall\")\n",
    "    plt.ylabel(\"Score\")\n",
    "    plt.xlabel(\"Decision Threshold\")\n",
    "    plt.legend(loc='best')\n",
    "    plt.legend()\n",
    "plot_precision_recall_vs_threshold(p, r, thresholds)\n"
   ]
  },
  {
   "cell_type": "code",
   "execution_count": null,
   "id": "4906a011",
   "metadata": {},
   "outputs": [],
   "source": [
    "lista = []\n",
    "\n",
    "# Iterate thru thresholds, get true_pos / true_neg, find corresponding threshold\n",
    "for i in thresholds: \n",
    "    # Confusion matrix\n",
    "    cm_df = pd.DataFrame(logit_model2.pred_table(threshold = i))\n",
    "    lista.append(cm_df[1].sum() / len(train1))\n",
    "\n",
    "# Finding the optimal threshold\n",
    "b = (perc * r[:-1]) - ((1 - p[:-1]) * lista)\n",
    "c = thresholds[np.argmax(b)] \n",
    "opt_threshold = c\n",
    "\n",
    "# Printing the optimal threshold I found using precision and recall\n",
    "print('Optimal threshold:', opt_threshold)\n"
   ]
  },
  {
   "cell_type": "markdown",
   "id": "981aff06",
   "metadata": {},
   "source": [
    "#### Testing Base Model Performance With Optimized Threshold\n",
    "\n",
    "Testing our model's train and test performance with the optimized threshold on SMOTENC data"
   ]
  },
  {
   "cell_type": "code",
   "execution_count": null,
   "id": "76a9fc62",
   "metadata": {},
   "outputs": [],
   "source": [
    "# Finding the model performance metrics on train data (SMOTENC) (with optimized threshold)\n",
    "confusion_matrix_data(train1, train1.readmitted, logit_model2, cutoff=opt_threshold)\n",
    "\n"
   ]
  },
  {
   "cell_type": "code",
   "execution_count": null,
   "id": "21a8e4d3",
   "metadata": {},
   "outputs": [],
   "source": [
    "# Finding the model performance metrics on test data (with optimized threshold)\n",
    "confusion_matrix_data(test, test.readmitted, logit_model2, cutoff=opt_threshold)\n",
    "\n"
   ]
  },
  {
   "cell_type": "markdown",
   "id": "7e68ce0c",
   "metadata": {},
   "source": [
    "### Model Optimization\n",
    "*Amy Wang*\n",
    "\n",
    "In the following models, I built upon the preliminary models with variable selection. I noticed that individual values of the categorical predictors such as `age` and `time_in_hospital` have different distributions, and created a few exploratory models investigating the sole effect of these predictors, the combined effect, and experimenting with interactions.\n",
    "\n",
    "I created a final model combining the promising results of this investigation.\n",
    "\n",
    "To summarize the following code:\n",
    "1. Model 1.1: Making each value of `age` its own predictor\n",
    "2. Model 1.2: Adding in the other variables in the original `logit_model`\n",
    "3. Model 1.3: Interaction between `time_in_hospital` and each `age` value\n",
    "4. Model 2.1: Making each value of `time_in_hospital` its own predictor\n",
    "5. Model 2.2: Adding the interaction between each value of `time_in_hospital` with `num_of_changes`\n",
    "6. Model 2.3: Making each value of both `time_in_hospital` and `age` their own predictors\n",
    "7. Model 3.1: Investigate the predictive capability of `diag_1`\n",
    "8. Model 3.2: Investigate the predictive capability of both `diag_1` and `diag_2`\n",
    "9. Model 3.2: Investigate the predictive capability of `diag_1`, `diag_2`, and `diag_3`\n",
    "10. Model 4.1: Make non-collinear values of `discharge_disposition_id` its own predictor\n",
    "11. Model 4.2: Make non-collinear values of `admission_source_id` its own predictor\n",
    "12. Model 4.3: Make non-collinear values of `admission_type` its own predictor\n",
    "13. Model 5: A combined model incorporating all insights from the previous 12 models"
   ]
  },
  {
   "cell_type": "code",
   "execution_count": null,
   "id": "a1906db1",
   "metadata": {},
   "outputs": [],
   "source": [
    "# Understand the baseline model: investigate how well the logit_model predicts hospital readmission based on age -- training data\n",
    "age_data = train1.groupby('age')['readmitted'].agg([('readmitted_percent','mean'),('nobs','count')]).reset_index(drop=False)\n",
    "train1_dummy[\"age_ind\"] =  train1_dummy[\"age\"].map({5: 0, 15: 1, 25: 2, 35: 3, 45: 4, 55: 5, 65: 6, 75: 7, 85: 8, 95: 9, 105: 10})\n",
    "sns.lineplot(x = age_data.index, y= age_data['readmitted_percent'])\n",
    "sns.lineplot(x = 'age_ind', y= logit_model.predict(train1_dummy), data = train1_dummy, color = 'blue') \n",
    "plt.xlabel('age')"
   ]
  },
  {
   "cell_type": "code",
   "execution_count": null,
   "id": "a4d7cccb",
   "metadata": {},
   "outputs": [],
   "source": [
    "# Examine whether there are multicollinear variables for variable selection\n",
    "from statsmodels.stats.outliers_influence import variance_inflation_factor\n",
    "from statsmodels.tools.tools import add_constant\n",
    "\n",
    "X = train1_dummy[['age5', 'age15', 'age25', 'age35', 'age45', 'age55',\n",
    "       'age65', 'age75', 'age85', 'time_in_hospital1',\n",
    "       'time_in_hospital2', 'time_in_hospital3', 'time_in_hospital4',\n",
    "       'time_in_hospital5', 'time_in_hospital6', 'time_in_hospital7',\n",
    "       'time_in_hospital8', 'time_in_hospital9', 'time_in_hospital10',\n",
    "       'time_in_hospital11', 'time_in_hospital12', 'time_in_hospital13', 'admission_type_id1', 'admission_type_id3',\n",
    "       'admission_type_id4', 'discharge_disposition_id7',\n",
    "       'discharge_disposition_id10', 'discharge_disposition_id11',\n",
    "       'discharge_disposition_id18', 'discharge_disposition_id27', 'admission_source_id8',\n",
    "       'admission_source_id9', 'number_inpatient', 'num_of_changes',  'diag_1circulatory',\n",
    "       'diag_1diabetes', 'diag_1digestive', 'diag_1musculoskeletal', 'diag_1neoplasms', 'diag_1other', 'diag_1pregnecy', 'diag_1respiratory', 'diag_2circulatory', 'diag_2diabetes', 'diag_2digestive', 'diag_2musculoskeletal', 'diag_2neoplasms','diag_2other', 'diag_2pregnecy', 'diag_2respiratory']]\n",
    "X = add_constant(X)\n",
    "vif_data = pd.DataFrame()\n",
    "vif_data[\"feature\"] = X.columns\n",
    "\n",
    "for i in range(len(X.columns)):\n",
    "    vif_data.loc[i,'VIF'] = variance_inflation_factor(X.values, i)"
   ]
  },
  {
   "cell_type": "markdown",
   "id": "6cda3545",
   "metadata": {},
   "source": [
    "Model 1.1: Making each value of `age` its own predictor"
   ]
  },
  {
   "cell_type": "code",
   "execution_count": null,
   "id": "dad1f94c",
   "metadata": {},
   "outputs": [],
   "source": [
    "model1_1 = sm.logit(formula = \"readmitted ~ age5 + age15 + age25 + age35 + age45 + age55 + age65 + age75 + age85\", data = train1_dummy).fit() \n",
    "model1_1.summary()"
   ]
  },
  {
   "cell_type": "code",
   "execution_count": null,
   "id": "f8502dad",
   "metadata": {},
   "outputs": [],
   "source": [
    "confusion_matrix_data(train1_dummy, train1_dummy.readmitted, model1_1, cutoff=0.5)"
   ]
  },
  {
   "cell_type": "code",
   "execution_count": null,
   "id": "9519295b",
   "metadata": {},
   "outputs": [],
   "source": [
    "confusion_matrix_data(test_dummy, test_dummy.readmitted, model1_1, cutoff=0.5)"
   ]
  },
  {
   "cell_type": "markdown",
   "id": "e2deb923",
   "metadata": {},
   "source": [
    "*Note: each subsequent model will be evaluated using the confusion matrices in the same way, with the same 0.5 cutoff. The summary statistics will be copied directly for brevity of this report.*"
   ]
  },
  {
   "cell_type": "code",
   "execution_count": null,
   "id": "9840a2ce",
   "metadata": {},
   "outputs": [],
   "source": [
    "# Visual inspection of how well the logit_model predicts hospital readmission based on age, on test data. The plot suggests overfitting.\n",
    "age_data = test.groupby('age')['readmitted'].agg([('readmitted_percent','mean'),('nobs','count')]).reset_index(drop=False)\n",
    "test_dummy[\"age_ind\"] =  test_dummy[\"age\"].map({5: 0, 15: 1, 25: 2, 35: 3, 45: 4, 55: 5, 65: 6, 75: 7, 85: 8, 95: 9, 105: 10})\n",
    "sns.lineplot(x = age_data.index, y= age_data['readmitted_percent'])\n",
    "sns.lineplot(x = 'age_ind', y= model1_1.predict(test_dummy), data = test_dummy, color = 'orange') \n",
    "plt.xlabel('age')"
   ]
  },
  {
   "cell_type": "markdown",
   "id": "52b28858",
   "metadata": {},
   "source": [
    "Model 1.2: Adding in the other variables in the original `logit_model`"
   ]
  },
  {
   "cell_type": "code",
   "execution_count": null,
   "id": "ccf474dd",
   "metadata": {},
   "outputs": [],
   "source": [
    "model1_2 = sm.logit(formula = \"readmitted ~ time_in_hospital + age5 + age15 + age25 + age35 + age45 + age55 + age65 + age75 + age85 + num_of_changes + number_inpatient\", data = train1_dummy).fit() \n",
    "model1_2.summary()"
   ]
  },
  {
   "cell_type": "markdown",
   "id": "e4bde500",
   "metadata": {},
   "source": [
    "Metrics on training data <br>\n",
    "- Classification accuracy = 59.5%\n",
    "- Precision = 58.0%\n",
    "- TPR or Recall = 69.0%\n",
    "- FNR = 31.0%\n",
    "- FPR = 50.0%\n",
    "- ROC-AUC = 62.8%\n",
    "\n",
    "Metrics on test data <br>\n",
    "- Classification accuracy = 51.0%\n",
    "- Precision = 10.1%\n",
    "- TPR or Recall = 55.3%\n",
    "- FNR = 44.7%\n",
    "- FPR = 49.4%\n",
    "- ROC-AUC = 54.9%"
   ]
  },
  {
   "cell_type": "markdown",
   "id": "7ca632f5",
   "metadata": {},
   "source": [
    "Model 1.3: Interaction between `time_in_hospital` and each `age` value"
   ]
  },
  {
   "cell_type": "code",
   "execution_count": null,
   "id": "1e2b0e58",
   "metadata": {},
   "outputs": [],
   "source": [
    "model1_3 = sm.logit(formula = 'readmitted ~ time_in_hospital*age5 + time_in_hospital*age15 + time_in_hospital*age25 + time_in_hospital*age35 + time_in_hospital*age45 + time_in_hospital*age55 + time_in_hospital*age65 + time_in_hospital*age75 + time_in_hospital*age85 +  + num_of_changes + number_inpatient', data = train1_dummy).fit(maxiter = 100) \n",
    "model1_3.summary()"
   ]
  },
  {
   "cell_type": "markdown",
   "id": "6b4b9389",
   "metadata": {},
   "source": [
    "Metrics on training data\n",
    "- Classification accuracy = 59.4%\n",
    "- Precision = 57.9%\n",
    "- TPR or Recall = 69.5%\n",
    "- FNR = 30.5%\n",
    "- FPR = 50.6%\n",
    "- ROC-AUC = 62.7%\n",
    "\n",
    "Metrics on test data\n",
    "- Classification accuracy = 50.5%\n",
    "- Precision = 10.1%\n",
    "- TPR or Recall = 55.8%\n",
    "- FNR = 44.2%\n",
    "- FPR = 50.0%\n",
    "- ROC-AUC = 54.4%"
   ]
  },
  {
   "cell_type": "markdown",
   "id": "ba7baaa5",
   "metadata": {},
   "source": [
    "Model 2.1: Making each value of `time_in_hospital` its own predictor"
   ]
  },
  {
   "cell_type": "code",
   "execution_count": null,
   "id": "caa102a4",
   "metadata": {},
   "outputs": [],
   "source": [
    "model2_1 = sm.logit(formula = 'readmitted ~ time_in_hospital1 + time_in_hospital2 + time_in_hospital3 + time_in_hospital4 + time_in_hospital5 + time_in_hospital6 + time_in_hospital7 + time_in_hospital8 + time_in_hospital9 + time_in_hospital10 + time_in_hospital11 + time_in_hospital12 + time_in_hospital13 + num_of_changes + number_inpatient', data = train1_dummy).fit() \n",
    "model2_1.summary()"
   ]
  },
  {
   "cell_type": "markdown",
   "id": "36aaadbf",
   "metadata": {},
   "source": [
    "Metrics on training data\n",
    "- Classification accuracy = 56.2%\n",
    "- Precision = 54.7%\n",
    "- TPR or Recall = 72.7%\n",
    "- FNR = 27.3%\n",
    "- FPR = 60.2%\n",
    "- ROC-AUC = 58.5%\n",
    "\n",
    "Metrics on test data\n",
    "- Classification accuracy = 42.2%\n",
    "- Precision = 9.5%\n",
    "- TPR or Recall = 61.9%\n",
    "- FNR = 38.1%\n",
    "- FPR = 59.8%\n",
    "- ROC-AUC = 53.0%"
   ]
  },
  {
   "cell_type": "markdown",
   "id": "fcb4989e",
   "metadata": {},
   "source": [
    "Model 2.2: Adding the interaction between each value of `time_in_hospital` with `num_of_changes`"
   ]
  },
  {
   "cell_type": "code",
   "execution_count": null,
   "id": "8ed59e2e",
   "metadata": {},
   "outputs": [],
   "source": [
    "model2_2 = sm.logit(formula = 'readmitted ~ num_of_changes*time_in_hospital1 + num_of_changes*time_in_hospital2 + num_of_changes*time_in_hospital3 + num_of_changes*time_in_hospital4 + num_of_changes*time_in_hospital5 + num_of_changes*time_in_hospital6 + num_of_changes*time_in_hospital7 + num_of_changes*time_in_hospital8 + num_of_changes*time_in_hospital9 + num_of_changes*time_in_hospital10 + num_of_changes*time_in_hospital11 + num_of_changes*time_in_hospital12 + num_of_changes*time_in_hospital13', data = train1_dummy).fit() \n",
    "model2_2.summary()"
   ]
  },
  {
   "cell_type": "markdown",
   "id": "53cfbd14",
   "metadata": {},
   "source": [
    "Metrics on training data\n",
    "- Classification accuracy = 56.2%\n",
    "- Precision = 55.9%\n",
    "- TPR or Recall = 58.4%\n",
    "- FNR = 41.6%\n",
    "- FPR = 46.0%\n",
    "- ROC-AUC = 58.2%\n",
    "\n",
    "Metrics on test data\n",
    "- Classification accuracy = 53.8%\n",
    "- Precision = 9.8%\n",
    "- TPR or Recall = 49.2%\n",
    "- FNR = 50.8%\n",
    "- FPR = 45.8%\n",
    "- ROC-AUC = 50.7%"
   ]
  },
  {
   "cell_type": "markdown",
   "id": "c443bacc",
   "metadata": {},
   "source": [
    "Model 2.3: Making each value of both `time_in_hospital` and `age` their own predictors"
   ]
  },
  {
   "cell_type": "code",
   "execution_count": null,
   "id": "2fc5a797",
   "metadata": {},
   "outputs": [],
   "source": [
    "model2_3 = sm.logit(formula = 'readmitted ~ time_in_hospital1 + time_in_hospital2 + time_in_hospital3 + time_in_hospital4 + time_in_hospital5 + time_in_hospital6 + time_in_hospital7 + time_in_hospital8 + time_in_hospital9 + time_in_hospital10 + time_in_hospital11 + time_in_hospital12 + time_in_hospital13 + num_of_changes + number_inpatient + age5 + age15 + age25 + age35 + age45 + age55 + age65 + age75 + age85', data = train1_dummy).fit() \n",
    "model2_3.summary()"
   ]
  },
  {
   "cell_type": "markdown",
   "id": "0e71c144",
   "metadata": {},
   "source": [
    "Metrics on training data\n",
    "- Classification accuracy = 59.7%\n",
    "- Precision = 58.8%\n",
    "- TPR or Recall = 65.3%\n",
    "- FNR = 34.7%\n",
    "- FPR = 45.8%\n",
    "- ROC-AUC = 63.4%\n",
    "\n",
    "Metrics on test data\n",
    "- Classification accuracy = 54.0%\n",
    "- Precision = 10.1%\n",
    "- TPR or Recall = 51.0%\n",
    "- FNR = 49.0%\n",
    "- FPR = 45.6%\n",
    "- ROC-AUC = 54.6%"
   ]
  },
  {
   "cell_type": "markdown",
   "id": "b9215a98",
   "metadata": {},
   "source": [
    "Model 3.1: Investigate the predictive capability of `diag_1`"
   ]
  },
  {
   "cell_type": "code",
   "execution_count": null,
   "id": "94604221",
   "metadata": {},
   "outputs": [],
   "source": [
    "model3_1 = sm.logit(formula = 'readmitted ~ diag_1', data = train1).fit() \n",
    "model3_1.summary()"
   ]
  },
  {
   "cell_type": "markdown",
   "id": "d1586ee5",
   "metadata": {},
   "source": [
    "Metrics on training data\n",
    "- Classification accuracy = 58.5%\n",
    "- Precision = 57.7%\n",
    "- TPR or Recall = 63.7%\n",
    "- FNR = 36.3%\n",
    "- FPR = 46.7%\n",
    "- ROC-AUC = 60.6%\n",
    "\n",
    "Metrics on test data\n",
    "- Classification accuracy = 52.8%\n",
    "- Precision = 9.9%\n",
    "- TPR or Recall = 51.3%\n",
    "- FNR = 48.7%\n",
    "- FPR = 47.1%\n",
    "- ROC-AUC = 52.9%"
   ]
  },
  {
   "cell_type": "markdown",
   "id": "afc0e4eb",
   "metadata": {},
   "source": [
    "Model 3.2: Investigate the predictive capability of both `diag_1` and `diag_2`"
   ]
  },
  {
   "cell_type": "code",
   "execution_count": null,
   "id": "f91819cf",
   "metadata": {},
   "outputs": [],
   "source": [
    "model3_2 = sm.logit(formula = 'readmitted ~ diag_1 + diag_2', data = train1).fit() \n",
    "model3_2.summary()"
   ]
  },
  {
   "cell_type": "markdown",
   "id": "048229de",
   "metadata": {},
   "source": [
    "Metrics on training data\n",
    "- Classification accuracy = 60.4%\n",
    "- Precision = 61.1%\n",
    "- TPR or Recall = 57.2%\n",
    "- FNR = 42.8%\n",
    "- FPR = 36.4%\n",
    "- ROC-AUC = 63.2%\n",
    "\n",
    "Metrics on test data\n",
    "- Classification accuracy = 61.2%\n",
    "- Precision = 9.8%\n",
    "- TPR or Recall = 39.4%\n",
    "- FNR = 60.6%\n",
    "- FPR = 36.6%\n",
    "- ROC-AUC = 52.2%"
   ]
  },
  {
   "cell_type": "markdown",
   "id": "3e66a51b",
   "metadata": {},
   "source": [
    "Model 3.3: Investigate the predictive capability of `diag_1`, `diag_2`, and `diag_3`"
   ]
  },
  {
   "cell_type": "code",
   "execution_count": null,
   "id": "ff19379e",
   "metadata": {},
   "outputs": [],
   "source": [
    "model3_3 = sm.logit(formula = 'readmitted ~ diag_1 + diag_2 + diag_3', data = train1).fit() \n",
    "model3_3.summary()"
   ]
  },
  {
   "cell_type": "markdown",
   "id": "c58747dd",
   "metadata": {},
   "source": [
    "Metrics on training data\n",
    "- Classification accuracy = 61.1%\n",
    "- Precision = 60.6%\n",
    "- TPR or Recall = 63.3%\n",
    "- FNR = 36.7%\n",
    "- FPR = 41.1%\n",
    "- ROC-AUC = 65.4%\n",
    "\n",
    "Metrics on test data\n",
    "- Classification accuracy = 56.8%\n",
    "- Precision = 9.2%\n",
    "- TPR or Recall = 41.9%\n",
    "- FNR = 58.1%\n",
    "- FPR = 41.7%\n",
    "- ROC-AUC = 50.6%"
   ]
  },
  {
   "cell_type": "markdown",
   "id": "40a58016",
   "metadata": {},
   "source": [
    "Model 4.1: Make non-collinear values of `discharge_disposition_id` their own predictor"
   ]
  },
  {
   "cell_type": "code",
   "execution_count": null,
   "id": "bdde568d",
   "metadata": {},
   "outputs": [],
   "source": [
    "model4_1 = sm.logit(formula = 'readmitted ~ discharge_disposition_id7 + discharge_disposition_id10 + discharge_disposition_id18', data = train1_dummy).fit() \n",
    "model4_1.summary()"
   ]
  },
  {
   "cell_type": "markdown",
   "id": "e33bc914",
   "metadata": {},
   "source": [
    "Metrics on training data\n",
    "- Classification accuracy = 50.6%\n",
    "- Precision = 55.6%\n",
    "- TPR or Recall = 5.6%\n",
    "- FNR = 94.4%\n",
    "- FPR = 4.5%\n",
    "- ROC-AUC = 50.8%\n",
    "\n",
    "Metrics on test data\n",
    "- Classification accuracy = 86.9%\n",
    "- Precision = 7.7%\n",
    "- TPR or Recall = 4.0%\n",
    "- FNR = 96.0%\n",
    "- FPR = 4.8%\n",
    "- ROC-AUC = 49.7%"
   ]
  },
  {
   "cell_type": "markdown",
   "id": "f4b57964",
   "metadata": {},
   "source": [
    "Model 4.2: Make non-collinear values of `admission_source_id` their own predictor"
   ]
  },
  {
   "cell_type": "code",
   "execution_count": null,
   "id": "7a64d2f6",
   "metadata": {},
   "outputs": [],
   "source": [
    "model4_2 = sm.logit(formula = 'readmitted ~ admission_source_id8 + admission_source_id9', data = train1_dummy).fit() \n",
    "model4_2.summary()"
   ]
  },
  {
   "cell_type": "markdown",
   "id": "f655c0bf",
   "metadata": {},
   "source": [
    "Metrics on training data\n",
    "- Classification accuracy = 50.6%\n",
    "- Precision = 50.3%\n",
    "- TPR or Recall = 94.0%\n",
    "- FNR = 6.0%\n",
    "- FPR = 92.7%\n",
    "- ROC-AUC = 50.6%\n",
    "\n",
    "Metrics on test data\n",
    "- Classification accuracy = 15.3%\n",
    "- Precision = 9.2%\n",
    "- TPR or Recall = 93.5%\n",
    "- FNR = 6.5%\n",
    "- FPR = 92.6%\n",
    "- ROC-AUC = 50.4%"
   ]
  },
  {
   "cell_type": "markdown",
   "id": "4a5f8d75",
   "metadata": {},
   "source": [
    "Model 4.3: Make non-collinear values of `admission_type` their own predictor"
   ]
  },
  {
   "cell_type": "code",
   "execution_count": null,
   "id": "6a7d268a",
   "metadata": {},
   "outputs": [],
   "source": [
    "model4_3 = sm.logit(formula = 'readmitted ~ admission_type_id1 + admission_type_id3 + admission_type_id4', data = train1_dummy).fit() \n",
    "model4_3.summary()"
   ]
  },
  {
   "cell_type": "markdown",
   "id": "8e7bfbcd",
   "metadata": {},
   "source": [
    "Metrics on training data\n",
    "- Classification accuracy = 56.7%\n",
    "- Precision = 54.4%\n",
    "- TPR or Recall = 82.7%\n",
    "- FNR = 17.3%\n",
    "- FPR = 69.3%\n",
    "- ROC-AUC = 57.0%\n",
    "\n",
    "Metrics on test data\n",
    "- Classification accuracy = 34.8%\n",
    "- Precision = 9.3%\n",
    "- TPR or Recall = 69.6%\n",
    "- FNR = 30.4%\n",
    "- FPR = 68.7%\n",
    "- ROC-AUC = 50.4%"
   ]
  },
  {
   "cell_type": "markdown",
   "id": "7d535705",
   "metadata": {},
   "source": [
    "Model 5: A combined model incorporating all insights from the previous 12 models"
   ]
  },
  {
   "cell_type": "code",
   "execution_count": null,
   "id": "e631c13d",
   "metadata": {},
   "outputs": [],
   "source": [
    "model_5 = sm.logit(formula = 'readmitted ~ age5 + age15 + age25 + age45 + age55 + age65 + age75 + age85 + diag_1circulatory + diag_1diabetes + diag_1digestive + diag_1injury + diag_1musculoskeletal + diag_1neoplasms + diag_1other + diag_1pregnecy + time_in_hospital1 + time_in_hospital2 + time_in_hospital3 + time_in_hospital4 + time_in_hospital5 + time_in_hospital6 + time_in_hospital7 + time_in_hospital8 + time_in_hospital9 + time_in_hospital10 + time_in_hospital11 + time_in_hospital12 + time_in_hospital13 + discharge_disposition_id7 + discharge_disposition_id18 + admission_type_id1 + admission_type_id3 + num_of_changes + number_inpatient + diag_2circulatory + diag_2diabetes + diag_2digestive + diag_2injury + diag_2musculoskeletal + diag_2other', data = train1_dummy).fit() \n",
    "model_5.summary()"
   ]
  },
  {
   "cell_type": "markdown",
   "id": "9b458db4",
   "metadata": {},
   "source": [
    "Metrics from training data\n",
    "- Classification accuracy = 65.4%\n",
    "- Precision = 64.3%\n",
    "- TPR or Recall = 69.2%\n",
    "- FNR = 30.8%\n",
    "- FPR = 38.4%\n",
    "- ROC-AUC = 70.7%\n",
    "\n",
    "Metrics from test data\n",
    "- Classification accuracy = 60.0%\n",
    "- Precision = 10.4%\n",
    "- TPR or Recall = 44.2%\n",
    "- FNR = 55.8%\n",
    "- FPR = 38.4%\n",
    "- ROC-AUC = 54.4%"
   ]
  },
  {
   "cell_type": "markdown",
   "id": "fa8f8fa4",
   "metadata": {},
   "source": [
    "The above metrics were for calculated for the cutoff of 0.5. To understand if a different cutoff would improve these metrics, we applied the best cutoff threshold determined by the precision-recall curve."
   ]
  },
  {
   "cell_type": "code",
   "execution_count": null,
   "id": "81aacf0f",
   "metadata": {},
   "outputs": [],
   "source": [
    "# Finding the percentage of positive values\n",
    "perc = train1_dummy.readmitted.mean()\n",
    "\n",
    "# Plotting precision and recall scores as a function of the decision threshold\n",
    "from sklearn.metrics import precision_recall_curve\n",
    "\n",
    "y = train1_dummy.readmitted\n",
    "ypred = model_5.predict(train1_dummy)\n",
    "p, r, thresholds = precision_recall_curve(y, ypred)\n",
    "\n",
    "lista = []\n",
    "\n",
    "# Iterate thru thresholds, get true_pos / true_neg, find corresponding threshold\n",
    "for i in thresholds: \n",
    "    # Confusion matrix\n",
    "    cm_df = pd.DataFrame(model_5.pred_table(threshold = i))\n",
    "    lista.append(cm_df[1].sum() / len(train1_dummy))\n",
    "\n",
    "# Finding the optimal threshold\n",
    "b = (perc * r[:-1]) - ((1 - p[:-1]) * lista)\n",
    "c = thresholds[np.argmax(b)] \n",
    "opt_threshold = c\n",
    "# Printing the optimal threshold I found using precision and recall\n",
    "print('Optimal threshold:', opt_threshold)"
   ]
  },
  {
   "cell_type": "markdown",
   "id": "66528513",
   "metadata": {},
   "source": [
    "Metrics from training data, with cutoff = 0.5043577529636262\n",
    "- Classification accuracy = 65.4%\n",
    "- Precision = 64.6%\n",
    "- TPR or Recall = 68.4%\n",
    "- FNR = 31.6%\n",
    "- FPR = 37.5%\n",
    "- ROC-AUC = 70.7%\n",
    "\n",
    "Metrics from test data, with cutoff = 0.5043577529636262\n",
    "- Classification accuracy = 60.7%\n",
    "- Precision = 10.4%\n",
    "- TPR or Recall = 42.9%\n",
    "- FNR = 57.1%\n",
    "- FPR = 37.5%\n",
    "- ROC-AUC = 54.4%"
   ]
  },
  {
   "cell_type": "markdown",
   "id": "859abd91",
   "metadata": {},
   "source": [
    "### Finalizing the Model\n",
    "*Anastasia Wei*"
   ]
  },
  {
   "cell_type": "markdown",
   "id": "f8ff6f8a",
   "metadata": {},
   "source": [
    "I attempted to build upon the model optimization that Amy did and use Sklearn for variable selection and adding in interaction terms. <br>\n",
    "\n",
    "The interactions terms I tested out to added to the first models are \n",
    "- change * diabetesMed\n",
    "- age * time_in_hospital\n",
    "- age * number_inpatient\n",
    "- change * admission_source_id"
   ]
  },
  {
   "cell_type": "code",
   "execution_count": null,
   "id": "3c455371",
   "metadata": {},
   "outputs": [],
   "source": [
    "# Used Amy's SMOTENC approach to make the train and test data\n",
    "\n",
    "X_train = train.drop(columns=\"readmitted\")\n",
    "y_train = train.loc[:, \"readmitted\"]\n",
    "\n",
    "X_train_types = X_train.dtypes.to_frame().rename(columns={0: \"type\"})\n",
    "# get the name of all variables that are objects\n",
    "object_vars = list(X_train_types.loc[X_train_types.type == \"object\", :].index)\n",
    "object_vars = object_vars + [\"age\", \"admission_type_id\", \"discharge_disposition_id\", \"admission_source_id\", \"time_in_hospital\", \"num_of_changes\"]\n",
    "\n",
    "# get the indices of all \n",
    "object_var_indices = []\n",
    "for i in range(0, len(X_train.columns)):\n",
    "    if X_train.columns[i] in object_vars:\n",
    "        object_var_indices.append(i)\n",
    "        \n",
    "smote_nc = SMOTENC(categorical_features=object_var_indices, random_state=0)\n",
    "X_resampled, y_resampled = smote_nc.fit_resample(X_train, y_train)\n",
    "\n",
    "# add the readmitted data back in\n",
    "X_resampled.loc[:, \"readmitted\"] = y_resampled\n",
    "train1 = X_resampled.copy()\n",
    "\n",
    "# make train_dummy and test_dummy predictors\n",
    "dummy_preds = [\"age\", \"time_in_hospital\", \"admission_type_id\", \"discharge_disposition_id\", \"admission_source_id\", \n",
    "               \"diag_1\", \"diag_2\", 'diabetesMed','change']\n",
    "train1_dummy = train1.copy()\n",
    "test_dummy = test.copy()\n",
    "vars = []\n",
    "\n",
    "for pred in dummy_preds:\n",
    "    dummy_train = pd.get_dummies(train1.loc[:, pred])\n",
    "    dummy_train.columns = [pred + str(x) for x in dummy_train.columns]\n",
    "    train1_dummy = pd.concat([train1_dummy, dummy_train], axis=1)\n",
    "    vars.append(list(dummy_train.columns))\n",
    "    \n",
    "    dummy_test = pd.get_dummies(test.loc[:, pred])\n",
    "    dummy_test.columns = [pred + str(x) for x in dummy_test.columns]\n",
    "    test_dummy = pd.concat([test_dummy, dummy_test], axis=1)\n"
   ]
  },
  {
   "cell_type": "code",
   "execution_count": null,
   "id": "265cffd3",
   "metadata": {},
   "outputs": [],
   "source": [
    "# feature selection with sklearn\n",
    "from sklearn.linear_model import LogisticRegression\n",
    "\n",
    "# getting a list of the all the usable numerical predictors\n",
    "preds = train1_dummy.dtypes[train1_dummy.dtypes != object].index.tolist()\n",
    "# dropping the unusable and duplicate numeric predictors\n",
    "preds.remove('age')\n",
    "preds.remove('time_in_hospital')\n",
    "preds.remove('admission_type_id')\n",
    "preds.remove('discharge_disposition_id')\n",
    "preds.remove('admission_source_id')\n",
    "preds.remove('encounter_id')\n",
    "preds.remove('patient_nbr')\n",
    "preds.remove('discharge_disposition_id27')\n",
    "preds.remove('readmitted')\n",
    "\n",
    "# creating the features and the response for skLearn\n",
    "sk_X = train1_dummy[preds]\n",
    "sk_y = train1_dummy.readmitted\n",
    "\n",
    "# creating the penalized model and fit\n",
    "log = LogisticRegression(penalty='l1', solver='liblinear')\n",
    "log.fit(sk_X,sk_y)\n",
    "\n",
    "# getting a list of significant predictors \n",
    "# whose coefficient is not zero\n",
    "coefs = log.coef_\n",
    "sig_preds = np.array(preds)[np.where(coefs != 0)[1]]\n",
    "\n",
    "confusion_matrix_data(train1_dummy[preds], train1_dummy.readmitted,log,cutoff=0.5)"
   ]
  },
  {
   "attachments": {
    "image.png": {
     "image/png": "[encoded data removed]"
    }
   },
   "cell_type": "markdown",
   "id": "a27a75db",
   "metadata": {},
   "source": [
    "Classification accuracy = 69.9% <br>\n",
    "Precision = 68.7% <br>\n",
    "TPR or Recall = 73.0% <br>\n",
    "FNR = 27.0% <br>\n",
    "FPR = 33.3% <br>\n",
    "ROC-AUC = 69.9% <br>\n",
    "![image.png](attachment:image.png)"
   ]
  },
  {
   "cell_type": "code",
   "execution_count": null,
   "id": "eeeef65c",
   "metadata": {},
   "outputs": [],
   "source": [
    "confusion_matrix_data(test_dummy[preds], test_dummy.readmitted,log,cutoff=0.5)"
   ]
  },
  {
   "attachments": {
    "image.png": {
     "image/png": "[encoded data removed]"
    }
   },
   "cell_type": "markdown",
   "id": "62157352",
   "metadata": {},
   "source": [
    "Classification accuracy = 64.5% <br>\n",
    "Precision = 11.3% <br>\n",
    "TPR or Recall = 41.6% <br>\n",
    "FNR = 58.4% <br>\n",
    "FPR = 33.1% <br>\n",
    "ROC-AUC = 54.3% <br>\n",
    "![image.png](attachment:image.png)"
   ]
  },
  {
   "cell_type": "code",
   "execution_count": null,
   "id": "e2f095b8",
   "metadata": {},
   "outputs": [],
   "source": [
    "# adding in variable interactions\n",
    "from patsy import dmatrices\n",
    "\n",
    "# creating the formula\n",
    "f = 'num_lab_procedures'\n",
    "for i in sig_preds[1:]:\n",
    "    f = f + '+' + i\n",
    "    \n",
    "# adding interations on to the formula\n",
    "f1 = f+'+change*diabetesMed+(age5+age15+age25+age35+age45+age55+age65+age75+age85+age95)*(time_in_hospital1+time_in_hospital2+time_in_hospital3+time_in_hospital4+time_in_hospital5+time_in_hospital6+time_in_hospital7+time_in_hospital8+time_in_hospital9+time_in_hospital10+time_in_hospital11+time_in_hospital12+time_in_hospital13+time_in_hospital14)+(age5+age15+age25+age35+age45+age55+age65+age75+age85+age95)*number_inpatient+change*(admission_type_id1+admission_type_id3+admission_type_id4+admission_type_id5)'\n",
    "\n",
    "# creating features for sklearn w/ interactions using patsy\n",
    "# test data\n",
    "y0,X0 = dmatrices(\"readmitted~\"+f1, train1_dummy)\n",
    "\n",
    "# same thing here for train data\n",
    "y1,X1 =  dmatrices(\"readmitted~\"+f1, test_dummy)\n",
    "\n",
    "# fit the logistic model\n",
    "log.fit(X0,y0)\n",
    "\n",
    "# get the name of the predictors\n",
    "coef_names = X0.design_info.column_names\n",
    "\n",
    "# get the list of coeffceints\n",
    "coefs0 = log.coef_\n",
    "\n",
    "# find the list of the predictors bwhose coefficient is non zero\n",
    "sig_preds0 = np.array(coef_names)[np.where(coefs0 != 0)[1]]"
   ]
  },
  {
   "cell_type": "code",
   "execution_count": null,
   "id": "5e99cbb9",
   "metadata": {},
   "outputs": [],
   "source": [
    "# Test Data Metrics\n",
    "confusion_matrix_data(np.asarray(X0), train1_dummy.readmitted, log, cutoff=0.5)"
   ]
  },
  {
   "attachments": {
    "image.png": {
     "image/png": "[encoded data removed]"
    }
   },
   "cell_type": "markdown",
   "id": "4cba5aeb",
   "metadata": {},
   "source": [
    "Classification accuracy = 69.9% <br>\n",
    "Precision = 68.7% <br>\n",
    "TPR or Recall = 73.2% <br>\n",
    "FNR = 26.8% <br>\n",
    "FPR = 33.4% <br>\n",
    "ROC-AUC = 69.9% <br>\n",
    "![image.png](attachment:image.png)"
   ]
  },
  {
   "cell_type": "code",
   "execution_count": null,
   "id": "03950364",
   "metadata": {},
   "outputs": [],
   "source": [
    "# Test Data Accuracy\n",
    "confusion_matrix_data(np.asarray(X1), test_dummy.readmitted, log, cutoff=0.5)"
   ]
  },
  {
   "attachments": {
    "image.png": {
     "image/png": "[encoded data removed]"
    }
   },
   "cell_type": "markdown",
   "id": "2c0135b2",
   "metadata": {},
   "source": [
    "Classification accuracy = 64.6% <br>\n",
    "Precision = 11.3% <br>\n",
    "TPR or Recall = 41.8% <br>\n",
    "FNR = 58.2% <br>\n",
    "FPR = 33.1% <br>\n",
    "ROC-AUC = 54.4% <br>\n",
    "![image.png](attachment:image.png)"
   ]
  },
  {
   "cell_type": "markdown",
   "id": "6444e611",
   "metadata": {},
   "source": [
    "### Code fitting the final model"
   ]
  },
  {
   "cell_type": "markdown",
   "id": "f6cae72f",
   "metadata": {},
   "source": [
    "**NOTE:** Ultimately, after comparing the performance metrics of all the models we created and optimized, the **base model trained with SMOTENC data** had the best training and test performance based on the metrics we needed to optimize: (1) FNR, (2) recall, and (3) precision. \n",
    "\n",
    "Put the code(s) that fit the final model(s) in separate cell(s), i.e., the code with the `.ols()` or `.logit()` functions."
   ]
  },
  {
   "cell_type": "code",
   "execution_count": null,
   "id": "843163a3",
   "metadata": {},
   "outputs": [],
   "source": [
    "# Final modeling \n",
    "final_model = sm.logit(formula = 'readmitted ~ time_in_hospital*age + num_of_changes + number_inpatient', data = train1).fit() #Developing logistic regression model\n",
    "final_model .summary() "
   ]
  },
  {
   "cell_type": "markdown",
   "id": "62a185cb",
   "metadata": {},
   "source": [
    "## Conclusions and Recommendations to stakeholder(s)\n",
    "*By Lila Wells*\n",
    "\n",
    "Calculating odds ratios"
   ]
  },
  {
   "cell_type": "code",
   "execution_count": null,
   "id": "f8384a20",
   "metadata": {},
   "outputs": [],
   "source": [
    "# Calculating the odds ratios for number_inpatient\n",
    "odds_ratio = np.exp(final_model.params[\"number_inpatient\"]) \n",
    "\n",
    "# Calculate the percentage increase in the odds\n",
    "pct_increase = (odds_ratio - 1) * 100\n",
    "\n",
    "print('The odds of readmission increase by', round(pct_increase, 2), '% with each additional inpatient hospital visit')\n"
   ]
  },
  {
   "cell_type": "code",
   "execution_count": null,
   "id": "6a5b4e82",
   "metadata": {},
   "outputs": [],
   "source": [
    "# Calculating the odds ratios for num_of_changes\n",
    "odds_ratio = np.exp(final_model.params[\"num_of_changes\"]) \n",
    "\n",
    "# Calculate the percentage increase in the odds\n",
    "pct_increase = (odds_ratio - 1) * 100\n",
    "\n",
    "print('The odds of readmission decrease by', round(abs(pct_increase), 2), '% with each additional medication change')\n"
   ]
  },
  {
   "cell_type": "code",
   "execution_count": null,
   "id": "73845d12",
   "metadata": {},
   "outputs": [],
   "source": [
    "# Calculating the odds ratios for num_of_changes\n",
    "odds_ratio = np.exp(final_model.params[\"age\"]) \n",
    "\n",
    "# Calculate the percentage increase in the odds\n",
    "pct_increase = (odds_ratio - 1) * 100\n",
    "\n",
    "print('The odds of readmission increase by', round(pct_increase, 2), '% with each additional added decade in patient age')\n"
   ]
  },
  {
   "cell_type": "code",
   "execution_count": null,
   "id": "ce600ca7",
   "metadata": {},
   "outputs": [],
   "source": [
    "# Calculating the odds ratios for time_in_hospital\n",
    "odds_ratio = np.exp(final_model.params[\"time_in_hospital\"]) \n",
    "\n",
    "# Calculate the percentage increase in the odds\n",
    "pct_increase = (odds_ratio - 1) * 100\n",
    "\n",
    "print('The odds of readmission increases by', round(pct_increase, 2), '% with each additional day spent in the hospital during the patients initial hospital stay')\n"
   ]
  },
  {
   "cell_type": "code",
   "execution_count": null,
   "id": "25197275",
   "metadata": {},
   "outputs": [],
   "source": [
    "# Calculating the odds ratios for time_in_hospital:age\n",
    "odds_ratio = np.exp(final_model.params[\"time_in_hospital:age\"]) \n",
    "\n",
    "# Calculate the percentage increase in the odds\n",
    "pct_increase = (odds_ratio - 1) * 100\n",
    "\n",
    "print('The odds of readmission decreases by', round(abs(pct_increase), 2), '% (for interaction term between patient age and time spent in hospital)')\n"
   ]
  }
 ],
 "metadata": {
  "kernelspec": {
   "display_name": "Python 3 (ipykernel)",
   "language": "python",
   "name": "python3"
  },
  "language_info": {
   "codemirror_mode": {
    "name": "ipython",
    "version": 3
   },
   "file_extension": ".py",
   "mimetype": "text/x-python",
   "name": "python",
   "nbconvert_exporter": "python",
   "pygments_lexer": "ipython3",
   "version": "3.9.16"
  },
  "varInspector": {
   "cols": {
    "lenName": 16,
    "lenType": 16,
    "lenVar": 40
   },
   "kernels_config": {
    "python": {
     "delete_cmd_postfix": "",
     "delete_cmd_prefix": "del ",
     "library": "var_list.py",
     "varRefreshCmd": "print(var_dic_list())"
    },
    "r": {
     "delete_cmd_postfix": ") ",
     "delete_cmd_prefix": "rm(",
     "library": "var_list.r",
     "varRefreshCmd": "cat(var_dic_list()) "
    }
   },
   "types_to_exclude": [
    "module",
    "function",
    "builtin_function_or_method",
    "instance",
    "_Feature"
   ],
   "window_display": false
  }
 },
 "nbformat": 4,
 "nbformat_minor": 5
}
