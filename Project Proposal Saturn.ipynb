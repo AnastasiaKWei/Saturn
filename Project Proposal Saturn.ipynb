{
 "cells": [
  {
   "cell_type": "raw",
   "id": "33dd6c4c",
   "metadata": {
    "pycharm": {
     "name": "#%% raw\n"
    }
   },
   "source": [
    "---\n",
    "title: \"Project proposal\"\n",
    "format: \n",
    "  html:\n",
    "    toc: true\n",
    "    toc-title: Contents\n",
    "    code-fold: show\n",
    "    self-contained: true\n",
    "jupyter: python3\n",
    "---"
   ]
  },
  {
   "cell_type": "markdown",
   "id": "0116f49b",
   "metadata": {
    "pycharm": {
     "name": "#%% md\n"
    }
   },
   "source": [
    "## Instructions {-}\n",
    "\n",
    "1. Please answer the following questions as part of your project proposal.\n",
    "\n",
    "2. Write your answers in the *Markdown* cells of the Jupyter notebook. You don't need to write any code, but if you want to, you may use the *Code* cells.\n",
    "\n",
    "3. Use [Quarto](https://quarto.org/docs/output-formats/html-basics.html) to print the *.ipynb* file as HTML. You will need to open the command prompt, navigate to the directory containing the file, and use the command: `quarto render filename.ipynb --to html`. Submit the HTML file.\n",
    "\n",
    "4. The project proposal is worth 8 points, and is due on **27th January 2023 at 11:59 pm**. \n",
    "\n",
    "5. You must make one submission as a group, and not individually.\n",
    "\n",
    "6. Each team member must have at least **one commit** on the team's github repository. No points will be awarded to the team member(s) with no commits.\n",
    "\n",
    "7. Share the link of your project's GitHub repository [here](https://docs.google.com/spreadsheets/d/1khao3unpj_vsx4kOSg_Zzo77YK1UWL2w73Oa0aAirOo/edit#gid=0)."
   ]
  },
  {
   "cell_type": "markdown",
   "id": "fe7ea9bb",
   "metadata": {
    "pycharm": {
     "name": "#%% md\n"
    }
   },
   "source": [
    "# 1) Team name\n",
    "Mention your team name.\n",
    "\n",
    "*(0 points)*\n",
    "\n",
    "Saturn\n"
   ]
  },
  {
   "cell_type": "markdown",
   "id": "16fccc9b",
   "metadata": {
    "pycharm": {
     "name": "#%% md\n"
    }
   },
   "source": [
    "# 2) Member names\n",
    "Mention the names of your team members.\n",
    "\n",
    "*(0 points)*\n",
    "\n",
    "Amy Wang, Kaitlyn Hung, Anastasia Wei, and Lila Wells."
   ]
  },
  {
   "cell_type": "markdown",
   "id": "220a6528",
   "metadata": {
    "pycharm": {
     "name": "#%% md\n"
    }
   },
   "source": [
    "# 3) Link to the GitHub repository\n",
    "Share the link of the team's project repository on GitHub.\n",
    "\n",
    "Also, put the link of your project's GitHub repository [here](https://docs.google.com/spreadsheets/d/1khao3unpj_vsx4kOSg_Zzo77YK1UWL2w73Oa0aAirOo/edit#gid=0).\n",
    "\n",
    "We believe there is no harm in having other teams view your GitHub repository. However, if you don't want anyone to see your team's work, you may make the repository *Private* and add your instructor and graduate TA as *Colloborators* in it.\n",
    "\n",
    "*(0 points)*\n",
    "\n",
    "Our GitHub repository can be found [here](https://github.com/AnastasiaKWei/Saturn)"
   ]
  },
  {
   "cell_type": "markdown",
   "id": "16c1a490",
   "metadata": {
    "pycharm": {
     "name": "#%% md\n"
    }
   },
   "source": [
    "# 4) Topic\n",
    "Mention the topic of your course project.\n",
    "\n",
    "*(0.25 points)*"
   ]
  },
  {
   "cell_type": "markdown",
   "id": "553d6be1",
   "metadata": {
    "pycharm": {
     "name": "#%% md\n"
    }
   },
   "source": [
    "Our topic is as follows: The Prediction of Hospital Readmission for Diabetes Patients."
   ]
  },
  {
   "cell_type": "markdown",
   "id": "bde35775",
   "metadata": {
    "pycharm": {
     "name": "#%% md\n"
    }
   },
   "source": [
    "# 5) Problem statement\n",
    "Explain the problem statement. The problem statement must include:\n",
    "\n",
    "1. The problem\n",
    "\n",
    "2. Is it a regression or classification problem or a combination of both?\n",
    "\n",
    "3. Is it an inference or prediction problem or a combination of both?\n",
    "\n",
    "4. How will you assess model accuracy?\n",
    "\n",
    "  - If it is a classification problem, then which measure(s) will you optimize for your model – precision, recall, false negative rate (FNR), accuracy, ROC-AUC etc., and why?\n",
    "  \n",
    "  - If it is a regression problem, then which measure(s) will you optimize for your model – RMSE (Root mean squared error), MAE (mean absolute error), maximum absolute error etc., and why?\n",
    "\n",
    "5. What techniques do you think you may need to use to improve your model? If you have too many variables, some of which are  correlated or collinear, you may need to do variable selection *(techniques for variable selection that you will learn later in the course - stepwise regression, lasso, ridge regression)*. If the variables do not have a linear relationship with the response, or if some of the modeling assumptions are not satisfied, you may need to transform the predictors and/or the response (variable transformation) to obtain a better fit.\n",
    "\n",
    "*(5 points)*"
   ]
  },
  {
   "cell_type": "markdown",
   "source": [
    "## 5.1 The Problem\n",
    "\n",
    "A hospital's ability to release happier and healthier patients is an established metric for its success as an institution. But more recently, a hospital's success has also been measured by its readmission rate: or the extent to which patients are being retreated in hospital after being released from their initial stay. Hospital readmissions are associated with worse patient outcomes and high financial strains on hospitals and their administration [1]. And the cost is high; readmissions often double the cost of a patient's care (both for the patients themselves and the hospital treating them. As Mcllvennan et al. notes, approximately \"20% of all Medicare discharges have a readmission within 30 days\" and, of those, an estimated 12% are potentially avoidable [1], [2]. These often avoidable readmissions (due to hasty and/or incomplete care) are not only costly to the hospital and patient, but also potentially life-threatening depending on a given patient's ailment.\n",
    "\n",
    "As such, determining a patient's likelihood of being readmitted to the hospital is of paramount importance for patients, their physicians, and hospital administration alike. **What if we could predict a patient's likelihood of being readmitted based on certain factors in their initial hospital stay?** We imagine that hospital staff and patients could work together, adjusting patient care plans to avoid readmission.\n",
    "\n",
    "We propose to address this problem using diabetes as a case study. Diabetes is an ailment that affects approximately 537 million individuals worldwide, regardless of age [3]. Though individuals with diabetes must carefully maintain their diet, exercise, and other living conditions in order to manage their illness, hospitalizations are not rare. In one study, \"25 percent of patients with Type 1 diabetes and 30 percent with Type 2 diabetes had a hospital admission during one year\" [4]. The abundance of information known about these hospital admissions provides a ripe opportunity to build and test a model to predict readmission, simultaneously filling a need for diabetes patients, healthcare workers, and hospital administrators alike."
   ],
   "metadata": {
    "collapsed": false,
    "pycharm": {
     "name": "#%% md\n"
    }
   }
  },
  {
   "cell_type": "markdown",
   "source": [
    "## 5.2 Regression vs. Classification\n",
    "Our topic lends itself best to a **classification problem**. This is because our response variable (hospital readmission, or `readmitted`) is ultimately categorical and binary: either a patient will be readmitted or they will not be readmitted. "
   ],
   "metadata": {
    "collapsed": false,
    "pycharm": {
     "name": "#%% md\n"
    }
   }
  },
  {
   "cell_type": "markdown",
   "source": [
    "## 5.3 Inference vs. Prediction\n",
    "\n",
    "Our topic may allow for interesting questions regarding both inference and prediction. However, because our main goal is to predict the hospital readmission of diabetic patients, we will focus on **prediction**. We are ultimately most interested in building a model to answer the question: given a patient's demographic, hospital admission, and diabetic information, will the patient be readmitted to the hospital? That is, we aim to predict our response variable (hospital readmission, or `readmitted`.\n",
    "\n",
    "If we have enough time, it may be of use to include an additional **inference** question. For example, we could train a model to determine an answer to the following question: What factors most strongly influence whether a diabetic patient will be readmitted to the hospital? In this, we would be most interested in identifying the relationship between our predictors and our response variable (`readmitted`)."
   ],
   "metadata": {
    "collapsed": false,
    "pycharm": {
     "name": "#%% md\n"
    }
   }
  },
  {
   "cell_type": "markdown",
   "source": [
    "## 5.4 Assessing Model Accuracy\n",
    "\n",
    "To assess our model's accuracy, we will take account of the following metrics: \n",
    "1. False Negative Rate (FNR): Optimally, we need this value to be low, as we do not want our model to misclassify patients (as it could impact their treatment plan). This could be especially dangerous because, if our model were to predict that a patient **was not** going to return to the hospital and they did, it could incur both changes in the patient's healthcare plan and financial stress on both the patient and the hospital. \n",
    "\n",
    "2. Precision: Precision in logistic regression helps us to measure how good our model is at prediction when the prediction is positive. As our positive outcome (i.e., a prediction that a patient **will** be readmitted to the hospital) direclty relates to patient health outcomes, precision may be especially important to assess here regarding model accuracy. We need our model to be _very good_ at predicting positive outcomes when it needs to (i.e., making accurate predictions as to when patients may return to the hospital). \n",
    "\n",
    "3. Accuracy: As accuracy represents the score of correctly classified patients, we want to maximize this measure (as it is one of the best metrics to indicate our model's success and/or failure). \n",
    "\n",
    "4. False Positive Rate (FPR): We will also assess our model's accuracy by using its FPR, for similar reasons listed under FNR. However, if the model were to predict that a patient **was** going to return to the hospital after their initial stay and that patient did not, there would likely be lesser strain (on both the patient and the hospital) than in a false negative scenario. \n"
   ],
   "metadata": {
    "collapsed": false,
    "pycharm": {
     "name": "#%% md\n"
    }
   }
  },
  {
   "cell_type": "markdown",
   "source": [
    "## 5.5 Techniques for Model Improvement \n",
    "\n",
    "As we have yet to cover classification and related logistic regression problems in depth, it is likely that we have yet to cover many of the techniques that we will need to improve our model. However, one technique that may be helpful is variable transformation - which could allow for non-linear behavior in our model (and potentially lead to further model accuracy and precision). Improving our model may also come with effective data cleaning, like removing outliers. \n",
    "\n",
    "With so many different predictors in our dataset (> 45) it also may be likely that two or more variables are collinear (i.e., have a linear relationship with each other) which could impact how they are measured in a logistic regression (in terms of each variable's statistical significance). As such, we may need to introduce techniques to account for collinearity or multi-collinearity in our predictor variables. \n",
    "\n",
    "If the variables do not have a linear relationship with the response variable or if some of our initial assumptions about the model are  contradicted, then it may be useful to either employ variable transformations (which could either maintain the model's linearity or introduce non-linear behavior) or reassess our assumptions about the model (which would include changing our procedure accordingly). "
   ],
   "metadata": {
    "collapsed": false,
    "pycharm": {
     "name": "#%% md\n"
    }
   }
  },
  {
   "cell_type": "markdown",
   "source": [
    "# 6) Data sources\n",
    "\n",
    "What data sources will you use, and how will the data help answer the questions? Explain.\n",
    "\n",
    "If the data is open source, share the link of the data.\n",
    "\n",
    "*(1 point)*"
   ],
   "metadata": {
    "collapsed": false,
    "pycharm": {
     "name": "#%% md\n"
    }
   }
  },
  {
   "cell_type": "markdown",
   "source": [
    "Our data source is linked [here](https://archive.ics.uci.edu/ml/datasets/Diabetes+130-US+hospitals+for+years+1999-2008#). \n",
    "\n",
    "Our dataset includes information on diabetes patients from over 130 US hospitals and integrated delivery networks  from 1999-2008. It includes over 50 features representing patient and hospital outcomes. This dataset includes all patient encounters over this timespan that satisfy the following criteria: \n",
    "\n",
    "1. An inpatient encounter \n",
    "\n",
    "2. A diabetic encounter (i.e., where the patient was listed as having diabetes)\n",
    "\n",
    "3. The length of the patient's hospital stay was between 1 and 14 days \n",
    "\n",
    "4. Laboratory tests were administered during the patient's hospital stay\n",
    "\n",
    "5. The patient received medications during their hospital stay\n",
    "\n",
    "This dataset includes attributes such as characteristics about patients and treatment (including race, gender, and age), their hospital admission and discharge (including lab procedures, treatment plans, medications, and test results), their medical history (including the number of outpatient, inpatient, and emergency visits in the year before the hospitalization) and their readmission status (i.e., whether they were readmitted to the hospital after their initial visit). \n",
    "\n",
    "This dataset will help us answer our research question as it includes our response variable (i.e., whether the patient was readmitted) as well as ~46 different predictors that we can selectively use and manipulate to fit a model. This dataset ultimately allows us to approach our topic (predicting readmission) from three different perspectives: the patient's characteristics, their hospital stay and medical history, and the treatments administered to them. \n",
    "\n",
    "Additionally, the data set has few missing values (which will aid in our prediction process) and it is incredibly comprehensive, as it spans a decade of care from a myraid of different hospitals. Including information from so many hospitals in this dataset may also help us to generalize our findings (as it lessens the likelihood that we would be basing our findings off of one medical institution).\n"
   ],
   "metadata": {
    "collapsed": false,
    "pycharm": {
     "name": "#%% md\n"
    }
   }
  },
  {
   "cell_type": "markdown",
   "source": [
    "# 7) Stakeholders"
   ],
   "metadata": {
    "collapsed": false,
    "pycharm": {
     "name": "#%% md\n"
    }
   }
  },
  {
   "cell_type": "markdown",
   "source": [
    "Who are the stakeholders, and how will your project benefit them? Explain.\n",
    "\n",
    "*(1 point)*\n",
    "\n",
    "We identified three groups of key stakeholders for this project: (1) diabetes patients and their loved ones; (2) hospital staff involved with direct patient care; and (3) hospital administrators and those who have an interest in reducing the financial waste in healthcare (Medicaid).\n",
    "\n",
    "For diabetes patients and their loved ones, the results of this project could give insight into factors impacting the diabetic's continued risk of illness and subsequent hospital re-admission. Even one stay in the hospital can be emotionally and financially heavy for a patient and their family. Hospital readmission exacerbates this toll on patients, not to mention that readmission is also associated with worse patient outcomes [3]. Thus, understanding which factors contribute to hospital readmission can empower patients and their family to take an active role toward improving their own health outcomes. For instance, if a patient were aware that they at greater risk for readmission, they could better take preventative measures to maintain health before hospital intervention is required. Patients and their family could be more vigilant toward early warning-signs and communicate more proactively with their physician/healthcare provider about prevention. Overall, this knowledge can empower patients with diabetes to take a more active role toward their own health.\n",
    "\n",
    "Hospital staff and physicians are another primary stakeholder group in this project. These individuals are directly charged with overseeing the healthcare plans of diabetic patients, and are morally, professionally, and financially invested in giving their patients the best possible care to improve health outcomes. With the ability to forecast the likelihood of a diabetic patient's readmission, healthcare workers may be able to adjust their administration of care during that patient's initial hospital visit. If a patient is at an elevated risk of becoming ill again and being readmitted, hospital staff can adjust their healthcare plan accordingly: either through medication, or by prolonging the patient's initial hospital stay to monitor the patient until their condition improves and likelihood of readmission decreases. This project may inform healthcare workers about which patients most require vigilant and preventative intervention: potentially lowering both the morbidity and mortality for diabetics in their care.\n",
    "\n",
    "Finally, a third stakeholder group consists of hospital administrators and those with an interest in reducing the cost of healthcare. Hospital readmissions are financially costly to the healthcare system. The Affordable Care Act incentivizes the reduction of hospital admissions through financial penalties, reducing payments to hospitals with excessive readmissions. In 2021, the penalties are projected to cost hospitals $521 million dollars [4]. As such, hospital administrators may have a vested financial interest in accurately predicting which patients are likely to return to the hospital again. "
   ],
   "metadata": {
    "collapsed": false,
    "pycharm": {
     "name": "#%% md\n"
    }
   }
  },
  {
   "cell_type": "markdown",
   "source": [
    "# 8) Results\n",
    "What kind of results do you expect? \n",
    "\n",
    "How much accuracy is required / desired in your model (based on the metric(s) chosen in question 5), such that it is useful to the stakeholders and why?\n",
    "\n",
    "**Hint:** If it is a classification model, then your model must be at least better than random classification. If it is a regression model, then your model must be at least better than trivial models, such as the one with only the intercept term.\n",
    "\n",
    "*(0.5 point)*"
   ],
   "metadata": {
    "collapsed": false,
    "pycharm": {
     "name": "#%% md\n"
    }
   }
  },
  {
   "cell_type": "markdown",
   "source": [
    "We expect that the following predictors may be the most important (and/or may be statistically significant) in predicting a patient's likelihood of hospital readmission: \n",
    "\n",
    "1. The length of their initial hospital stay \n",
    "\n",
    "2. The number of medications administered to them during their initial hospital stay\n",
    "\n",
    "3. The patient's age\n",
    "\n",
    "4. The number of laboratory procedures ordered during their initial hospital stay\n",
    "\n",
    "5. The frequency of the patient's Patient ID in the dataset\n",
    "\n",
    "\n",
    "On point 5, it is important to mention that a patient's Encounter ID is the primary key in this dataset. The Encounter ID represents the patient's hospital check in (i.e., the hospital visit). Each patient is also assigned a Patient ID unique to them. The Patient ID represents each individual in the dataset, and may be repeated in the CSV file if that person was admitted to the hospital multiple times. As such, we expect that multiple hospital visits (i.e., multiple occurrences of a diabetic's Patient ID in the dataset) will be statistically significant for predicting their future hospital readmission.\n",
    "\n",
    "In our model, we are setting the expectation that it have no lower than 10% false negative rate and no lower than 85-90% accuracy. This is due to the delicate nature of our topic. If more than 1 in 10 patients are classified as not likely to be readmitted when they should have been classified otherwise (i.e., a false negative), this may change the nature of their treatment plan and subsequent health outcomes. It is incredibly important that this model make accurate predictions (i.e., through minimizing the false negative rate, or FNR) so that patients are not prematurely released from the hospital (and so they don't suffer worse health outcomes). \n",
    "\n",
    "Our precision and accuracy are also incredibly important to maximize in this model. Our model must, of course, be better than random classification. Its accuracy is also important here: we need the model's measurements to be close to the true or accepted value so that patients are not affected adversely by the outcome. Our precision, or how close the measurements of the same item are to each other, is similarly important, as this model should be able to classify similar cases in similar ways (i.e., if two patients had virtually identical treatment plans and ailments, the model should predict their readmission similarly as well). "
   ],
   "metadata": {
    "collapsed": false,
    "pycharm": {
     "name": "#%% md\n"
    }
   }
  },
  {
   "cell_type": "markdown",
   "source": [
    "# 9) Work-split\n",
    "How do you plan to split the project work amongst individual team members?\n",
    "\n",
    "*(0.25 point)*"
   ],
   "metadata": {
    "collapsed": false,
    "pycharm": {
     "name": "#%% md\n"
    }
   }
  },
  {
   "cell_type": "markdown",
   "source": [
    "We have defined an initial work-split below, but it is likely to evolve as our project progresses:\n",
    "\n",
    "**Anastasia:**\n",
    "\n",
    "- Background research\n",
    "\n",
    "- Data cleaning & split up dataset in train and test data\n",
    "\n",
    "- Polishing up presentation & practice presentation\n",
    "\n",
    "- Testing potential issues of model\n",
    "\n",
    "- Contributing to project report\n",
    "\n",
    "\n",
    "**Lila:**\n",
    "\n",
    "- Background research & writing a detailed problem statement\n",
    "\n",
    "- Slide template\n",
    "\n",
    "- Consistency of visualizations\n",
    "\n",
    "- Training and testing the models\n",
    "\n",
    "- Polishing up presentation & practice presentation\n",
    "\n",
    "- Contribute to project report\n",
    "\n",
    "\n",
    "**Kaitlyn:**\n",
    "\n",
    "- Background research & writing a detailed problem statement\n",
    "\n",
    "- Making prediction model and model/predictors selection\n",
    "\n",
    "- Polishing up presentation & practice presentation\n",
    "\n",
    "- Training and testing the models\n",
    "\n",
    "- Contribute to project report\n",
    "\n",
    "\n",
    "**Amy:**\n",
    "\n",
    "- Background research & writing a detailed problem statement\n",
    "\n",
    "- Performing cross validation and variable transformation for the models \n",
    "\n",
    "- Polishing up presentation & practice presentation\n",
    "\n",
    "- Testing potential issues of the models\n",
    "\n",
    "- Contributing to project report\n"
   ],
   "metadata": {
    "collapsed": false,
    "pycharm": {
     "name": "#%% md\n"
    }
   }
  },
  {
   "cell_type": "markdown",
   "source": [
    "## 10) Works Cited\n",
    "\n",
    "[1] Mcllvennan, Colleen K., et al. \"Hospital Readmissions Reduction Program.\" \n",
    "     National Library of Medicine, https://doi.org/10.1161/ \n",
    "     CIRCULATIONAHA.114.010270.\n",
    "\n",
    "[2] \"How Reducing Hospital Readmissions Benefits Patients and Hospitals.\" Regis College, 10 Aug. 2022, \n",
    "    online.regiscollege.edu/blog/reducing-hospital-readmissions/.\n",
    "    \n",
    "[3] \"About Diabetes.\" International Diabetes Federation, 12 Sept. 2021, idf.org/ \n",
    "     aboutdiabetes/what-is-diabetes/ \n",
    "     facts-figures.html#:~:text=The%20IDF%20Diabetes%20Atlas%20Tenth,and%20783%20milli \n",
    "     on%20by%202045.\n",
    "\n",
    "[4] Moss, S. E., et al. \"Risk factors for hospitalization in people with diabetes.\" \n",
    "     JAMA Internal Medicine, https://doi.org/10.1001/archinte.159.17.2053. \n",
    "     Accessed 27 Sept. 1999.\n"
   ],
   "metadata": {
    "collapsed": false,
    "pycharm": {
     "name": "#%% md\n"
    }
   }
  },
  {
   "cell_type": "markdown",
   "id": "c64f1cad",
   "metadata": {},
   "source": [
    "## 10) Works Cited\n",
    "\n",
    "[1] Mcllvennan, Colleen K., et al. \"Hospital Readmissions Reduction Program.\" \n",
    "     National Library of Medicine, https://doi.org/10.1161/ \n",
    "     CIRCULATIONAHA.114.010270.\n",
    "\n",
    "[2] \"How Reducing Hospital Readmissions Benefits Patients and Hospitals.\" Regis College, 10 Aug. 2022, \n",
    "    online.regiscollege.edu/blog/reducing-hospital-readmissions/.\n",
    "    \n",
    "[3] \"About Diabetes.\" International Diabetes Federation, 12 Sept. 2021, idf.org/ \n",
    "     aboutdiabetes/what-is-diabetes/ \n",
    "     facts-figures.html#:~:text=The%20IDF%20Diabetes%20Atlas%20Tenth,and%20783%20milli \n",
    "     on%20by%202045.\n",
    "\n",
    "[4] Moss, S. E., et al. \"Risk factors for hospitalization in people with diabetes.\" \n",
    "     JAMA Internal Medicine, https://doi.org/10.1001/archinte.159.17.2053. \n",
    "     Accessed 27 Sept. 1999.\n"
   ]
  }
 ],
 "metadata": {
  "kernelspec": {
   "display_name": "Python 3 (ipykernel)",
   "language": "python",
   "name": "python3"
  },
  "language_info": {
   "codemirror_mode": {
    "name": "ipython",
    "version": 3
   },
   "file_extension": ".py",
   "mimetype": "text/x-python",
   "name": "python",
   "nbconvert_exporter": "python",
   "pygments_lexer": "ipython3",
   "version": "3.9.7"
  },
  "varInspector": {
   "cols": {
    "lenName": 16,
    "lenType": 16,
    "lenVar": 40
   },
   "kernels_config": {
    "python": {
     "delete_cmd_postfix": "",
     "delete_cmd_prefix": "del ",
     "library": "var_list.py",
     "varRefreshCmd": "print(var_dic_list())"
    },
    "r": {
     "delete_cmd_postfix": ") ",
     "delete_cmd_prefix": "rm(",
     "library": "var_list.r",
     "varRefreshCmd": "cat(var_dic_list()) "
    }
   },
   "types_to_exclude": [
    "module",
    "function",
    "builtin_function_or_method",
    "instance",
    "_Feature"
   ],
   "window_display": false
  }
 },
 "nbformat": 4,
 "nbformat_minor": 5
}