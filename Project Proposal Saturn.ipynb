{
 "cells": [
  {
   "cell_type": "raw",
   "id": "33dd6c4c",
   "metadata": {
    "pycharm": {
     "name": "#%% raw\n"
    }
   },
   "source": [
    "---\n",
    "title: \"Project proposal\"\n",
    "format: \n",
    "  html:\n",
    "    toc: true\n",
    "    toc-title: Contents\n",
    "    code-fold: show\n",
    "    self-contained: true\n",
    "jupyter: python3\n",
    "---"
   ]
  },
  {
   "cell_type": "markdown",
   "id": "0116f49b",
   "metadata": {
    "pycharm": {
     "name": "#%% md\n"
    }
   },
   "source": [
    "## Instructions {-}\n",
    "\n",
    "1. Please answer the following questions as part of your project proposal.\n",
    "\n",
    "2. Write your answers in the *Markdown* cells of the Jupyter notebook. You don't need to write any code, but if you want to, you may use the *Code* cells.\n",
    "\n",
    "3. Use [Quarto](https://quarto.org/docs/output-formats/html-basics.html) to print the *.ipynb* file as HTML. You will need to open the command prompt, navigate to the directory containing the file, and use the command: `quarto render filename.ipynb --to html`. Submit the HTML file.\n",
    "\n",
    "4. The project proposal is worth 8 points, and is due on **27th January 2023 at 11:59 pm**. \n",
    "\n",
    "5. You must make one submission as a group, and not individually.\n",
    "\n",
    "6. Each team member must have at least **one commit** on the team's github repository. No points will be awarded to the team member(s) with no commits.\n",
    "\n",
    "7. Share the link of your project's GitHub repository [here](https://docs.google.com/spreadsheets/d/1khao3unpj_vsx4kOSg_Zzo77YK1UWL2w73Oa0aAirOo/edit#gid=0)."
   ]
  },
  {
   "cell_type": "markdown",
   "id": "fe7ea9bb",
   "metadata": {
    "pycharm": {
     "name": "#%% md\n"
    }
   },
   "source": [
    "# 1) Team name\n",
    "Mention your team name.\n",
    "\n",
    "*(0 points)*\n",
    "\n",
    "Saturn\n"
   ]
  },
  {
   "cell_type": "markdown",
   "id": "16fccc9b",
   "metadata": {
    "pycharm": {
     "name": "#%% md\n"
    }
   },
   "source": [
    "# 2) Member names\n",
    "Mention the names of your team members.\n",
    "\n",
    "*(0 points)*\n",
    "\n",
    "Amy Wang, Kaitlyn Hung, Anastasia Wei, and Lila Wells."
   ]
  },
  {
   "cell_type": "markdown",
   "id": "220a6528",
   "metadata": {
    "pycharm": {
     "name": "#%% md\n"
    }
   },
   "source": [
    "# 3) Link to the GitHub repository\n",
    "Share the link of the team's project repository on GitHub.\n",
    "\n",
    "Also, put the link of your project's GitHub repository [here](https://docs.google.com/spreadsheets/d/1khao3unpj_vsx4kOSg_Zzo77YK1UWL2w73Oa0aAirOo/edit#gid=0).\n",
    "\n",
    "We believe there is no harm in having other teams view your GitHub repository. However, if you don't want anyone to see your team's work, you may make the repository *Private* and add your instructor and graduate TA as *Colloborators* in it.\n",
    "\n",
    "*(0 points)*\n",
    "\n",
    "Our GitHub repository can be found [here](https://github.com/AnastasiaKWei/Saturn)"
   ]
  },
  {
   "cell_type": "markdown",
   "id": "16c1a490",
   "metadata": {
    "pycharm": {
     "name": "#%% md\n"
    }
   },
   "source": [
    "# 4) Topic\n",
    "Mention the topic of your course project.\n",
    "\n",
    "*(0.25 points)*"
   ]
  },
  {
   "cell_type": "markdown",
   "id": "1febafd4",
   "metadata": {
    "pycharm": {
     "name": "#%% md\n"
    }
   },
   "source": [
    "Prediction of hospital readmission for diabetes patients."
   ]
  },
  {
   "cell_type": "markdown",
   "id": "9403cdfb",
   "metadata": {
    "pycharm": {
     "name": "#%% md\n"
    }
   },
   "source": [
    "# 5) Problem statement\n",
    "Explain the problem statement. The problem statement must include:\n",
    "\n",
    "1. The problem\n",
    "\n",
    "2. Is it a regression or classification problem or a combination of both?\n",
    "\n",
    "3. Is it an inference or prediction problem or a combination of both?\n",
    "\n",
    "4. How will you assess model accuracy?\n",
    "\n",
    "  - If it is a classification problem, then which measure(s) will you optimize for your model – precision, recall, false negative rate (FNR), accuracy, ROC-AUC etc., and why?\n",
    "  - If it is a regression problem, then which measure(s) will you optimize for your model – RMSE (Root mean squared error), MAE (mean absolute error), maximum absolute error etc., and why?\n",
    "\n",
    "5. What techniques do you think you may need to use to improve your model? If you have too many variables, some of which are  correlated or collinear, you may need to do variable selection *(techniques for variable selection that you will learn later in the course - stepwise regression, lasso, ridge regression)*. If the variables do not have a linear relationship with the response, or if some of the modeling assumptions are not satisfied, you may need to transform the predictors and/or the response (variable transformation) to obtain a better fit.\n",
    "\n",
    "*(5 points)*"
   ]
  },
  {
   "cell_type": "markdown",
   "id": "0621b38f",
   "metadata": {
    "pycharm": {
     "name": "#%% md\n"
    }
   },
   "source": [
    "#### 1: The Problem\n",
    "\n",
    "Diabetes is a major chronic disease that affect approximately 537 million individuals worldwide [1]. Individuals diagnosed with diabetes must carefully maintain their diet, exercise, and other living conditions in order to manage their diabetes. <... lead into why we need to predict readmission>.\n",
    "\n",
    "[1] https://idf.org/aboutdiabetes/what-is-diabetes/facts-figures.html#:~:text=The%20IDF%20Diabetes%20Atlas%20Tenth,and%20783%20million%20by%202045."
   ]
  },
  {
   "cell_type": "markdown",
   "id": "95e730ab",
   "metadata": {
    "pycharm": {
     "name": "#%% md\n"
    }
   },
   "source": [
    "#### 2. Regression vs. Classification:\n",
    "This dataset mainly provides the foundation for a classification problem. There are many variables that could serve as predictors for our regressor, which is whether an individual with diabetes would be readmitted to the hospital. The values of this `hospital_readmission` variable are categorical -- `yes` or `no`."
   ]
  },
  {
   "cell_type": "markdown",
   "id": "c929ce1e",
   "metadata": {
    "pycharm": {
     "name": "#%% md\n"
    }
   },
   "source": [
    "#### 3. Inference vs. Prediction problem\n",
    "Our dataset allows for interesting questions for both inference and prediction. Because a main goal is to predict hospital readmittance, we will mostly focus on prediction. We will train our model on a portion of our dataset. Then, we will use a small portion of the dataset as test data to determine the performance of our model -- given a patient's specific hospital admittance information, medications record, etc, will the patient be readmitted to the hospital?\n",
    "\n",
    "Along the way, we can lean toward inference questions. For instance, we can ask what factors most strongly influence whether a hospital readmission will happen? Are the factors necessarily related to diabetes? Would removing the effect of diabetes change the likelihood of hospital readmission."
   ]
  },
  {
   "cell_type": "markdown",
   "id": "e711587e",
   "metadata": {
    "pycharm": {
     "name": "#%% md\n"
    }
   },
   "source": [
    "#### 4. This is a classification problem.\n",
    "\n",
    "To optimize the model, we will measure the model with a low false negative rate and high precision.\n",
    "\n"
   ]
  },
  {
   "cell_type": "markdown",
   "id": "664c19c3",
   "metadata": {
    "pycharm": {
     "name": "#%% md\n"
    }
   },
   "source": [
    "#### 5. Techniques to improve model."
   ]
  },
  {
   "cell_type": "markdown",
   "id": "3eb2d4f2",
   "metadata": {
    "pycharm": {
     "name": "#%% md\n"
    }
   },
   "source": [
    "# 6) Data sources\n",
    "\n",
    "What data sources will you use, and how will the data help answer the questions? Explain.\n",
    "\n",
    "If the data is open source, share the link of the data.\n",
    "\n",
    "*(1 point)*"
   ]
  },
  {
   "cell_type": "markdown",
   "id": "740e3e47",
   "metadata": {},
   "source": [
    "https://archive.ics.uci.edu/ml/datasets/Diabetes+130-US+hospitals+for+years+1999-2008#. This data set includes data on diabetes patient hospital readmission from 1999-2008. It includes encounters with all types of diabetes. Variables include characteristics about patients and treatment such as race, gender, age, hospital admission and discharge, lab procedures, treatment plan, medication, and readmission status. There is a second csv file describing ID numbers used. Using this data set, we can approach predicting readmission from three different perspectives: patient characteristics, hospital stay, and treatments. The data set is holistic, has little missing data, and spans a decade of care. \n"
   ]
  },
  {
   "cell_type": "markdown",
   "id": "cb8a845f",
   "metadata": {
    "pycharm": {
     "name": "#%% md\n"
    }
   },
   "source": [
    "# 7) Stakeholders"
   ]
  },
  {
   "cell_type": "markdown",
   "id": "d39c782c",
   "metadata": {
    "pycharm": {
     "name": "#%% md\n"
    }
   },
   "source": [
    "Who are the stakeholders, and how will your project benefit them? Explain.\n",
    "\n",
    "*(1 point)*\n",
    "\n",
    "We have identified several key stakeholders in this project: (1) diabetes patients and their loved ones and (2) hospital staff who wish for better patient outcomes. \n",
    "\n",
    "For diabetes patients and their loved ones (especially for those to whom diabetes patients are dependent), this project could help these stakeholders understand their (or their loved one's) continued risk of illness (and risk of subsequent hospital re-admission). Longer hospital stays are typically associated with worse patient outcomes, and readmission carries a similar connotation. Thus, for diabetes patients and their loved ones, knowing what factors would best predict the diabetic's hospital readmission may help them to take charge of the diabetic's health (both individually, collectively, and with the diabetic's physician). If a diabetic or their family knew that the diabetic was at an elevated risk for hospital readmission, they may be more vigilant about health-related warning signs (which could lead to better patient health outcomes in the long term).  \n",
    "\n",
    "Hospital staff and physicians are another primary stakeholder group for this project. They are directly charged with overseeing the healthcare of diabetic patients, and are invested (likely both morally and financially) in their patients' positive health outcomes. With the ability to forecast the likelihood of a diabetic patient's readmission, healthcare workers may be able to better administer care in the patient's initial hospital visit by either adjuting the factors of their hospital stay (i.e., through medications), or by prolonging that initial stay until the patient's likelihood of readmission decreases. This project may help healthcare workers to know which patients most require preventative intervention in their healthcare: potentially lowering diabetic patient morbidity and mortality, which would lead to better patient outcomes. "
   ]
  },
  {
   "cell_type": "markdown",
   "id": "57e41b2a",
   "metadata": {
    "pycharm": {
     "name": "#%% md\n"
    }
   },
   "source": [
    "# 8) Results\n",
    "What kind of results do you expect? \n",
    "\n",
    "How much accuracy is required / desired in your model (based on the metric(s) chosen in question 5), such that it is useful to the stakeholders and why?\n",
    "\n",
    "**Hint:** If it is a classification model, then your model must be at least better than random classification. If it is a regression model, then your model must be at least better than trivial models, such as the one with only the intercept term.\n",
    "\n",
    "*(0.5 point)*"
   ]
  },
  {
   "cell_type": "markdown",
   "id": "70cc53d8",
   "metadata": {},
   "source": [
    "We expect our model to have a lower than 10% false negative rate and an above 90% precision. <br>\n",
    "We also think that length initial stays, age, number of lab based procedures, number of medications and general diabetes medications, frequency of the occurrence of patient ID are statistically significant predictors for readmitted rate."
   ]
  },
  {
   "cell_type": "markdown",
   "id": "0c874b4f",
   "metadata": {
    "pycharm": {
     "name": "#%% md\n"
    }
   },
   "source": [
    "# 9) Work-split\n",
    "How do you plan to split the project work amongst individual team members?\n",
    "\n",
    "*(0.25 point)*"
   ]
  },
  {
   "cell_type": "markdown",
   "id": "5466d6de",
   "metadata": {},
   "source": [
    "Anastasia:\n",
    "- background research\n",
    "- data cleaning & split up dataset in train and test data\n",
    "- polishing up presentation & practice presentation\n",
    "- testing potential issues of model\n",
    "- contribute to project report\n",
    "\n",
    "Lila\n",
    "- background research & detailed problem statement\n",
    "- slide template\n",
    "- consistency of visualization\n",
    "- testing potential issues of model\n",
    "- polishing up presentation & practice presentation\n",
    "- contribute to project report (literature to support background motivation)\n",
    "\n",
    "Kaitlyn\n",
    "- background research & detailed problem statement\n",
    "- making prediction model and model/predictors selection\n",
    "- polishing up presentation & practice presentation\n",
    "- testing potential issues of model\n",
    "- contribute to project report\n",
    "\n",
    "Amy\n",
    "- background research & detailed problem statement\n",
    "- cross validation\n",
    "- polishing up presentation & practice presentation\n",
    "- testing potential issues of model\n",
    "- contribute to project report"
   ]
  },
  {
   "cell_type": "code",
   "execution_count": null,
   "id": "efa8513f",
   "metadata": {},
   "outputs": [],
   "source": []
  }
 ],
 "metadata": {
  "kernelspec": {
   "display_name": "Python 3 (ipykernel)",
   "language": "python",
   "name": "python3"
  },
  "language_info": {
   "codemirror_mode": {
    "name": "ipython",
    "version": 3
   },
   "file_extension": ".py",
   "mimetype": "text/x-python",
   "name": "python",
   "nbconvert_exporter": "python",
   "pygments_lexer": "ipython3",
   "version": "3.10.4"
  },
  "varInspector": {
   "cols": {
    "lenName": 16,
    "lenType": 16,
    "lenVar": 40
   },
   "kernels_config": {
    "python": {
     "delete_cmd_postfix": "",
     "delete_cmd_prefix": "del ",
     "library": "var_list.py",
     "varRefreshCmd": "print(var_dic_list())"
    },
    "r": {
     "delete_cmd_postfix": ") ",
     "delete_cmd_prefix": "rm(",
     "library": "var_list.r",
     "varRefreshCmd": "cat(var_dic_list()) "
    }
   },
   "types_to_exclude": [
    "module",
    "function",
    "builtin_function_or_method",
    "instance",
    "_Feature"
   ],
   "window_display": false
  }
 },
 "nbformat": 4,
 "nbformat_minor": 5
}
