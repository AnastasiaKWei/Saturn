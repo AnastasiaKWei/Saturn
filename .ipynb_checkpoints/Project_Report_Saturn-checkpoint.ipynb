{
 "cells": [
  {
   "cell_type": "raw",
   "id": "33dd6c4c",
   "metadata": {},
   "source": [
    "---\n",
    "title: \"Project Report: Team Saturn\"\n",
    "subtitle: Team name\n",
    "author: Kaitlyn Hung, Amy Wang, Anastasia Wei, and Lila Wells \n",
    "date: 02/27/2023\n",
    "number-sections: true\n",
    "abstract: _The ABSTRACT is to be in fully-justified italicized text at the top of the report, below the author information. The abstract section must summarise the problem statement, the developed model(s), the metric(s) optimized and the recommendations to the stakeholders based on the model. You may also briefly mention any major EDA-based insights that helped develop the model or directly translated into recommendations to the stakeholders. However, the abstract must not be more than 200 words in length_.\n",
    "format: \n",
    "  html:\n",
    "    toc: true\n",
    "    toc-title: Contents\n",
    "    self-contained: true\n",
    "    font-size: 100%\n",
    "    toc-depth: 4\n",
    "    mainfont: serif\n",
    "jupyter: python3\n",
    "---"
   ]
  },
  {
   "cell_type": "markdown",
   "id": "aba5ee91",
   "metadata": {},
   "source": [
    "## Length of the report {-}\n",
    "The length of the report must be no more than 15 pages, when printed as PDF. However, there is no requirement on the minimum number of pages.\n",
    "\n",
    "You may put additional stuff as Appendix. You may refer to the Appendix in the main report to support your arguments. However, your appendix is unlikely to be checked while grading, unless the grader deems it necessary. The appendix, references, and information about GitHub and individual contribution will not be included in the page count, and there is no limit on the length of the appendix.\n",
    "\n",
    "**Delete this section from the report, when using this template.** "
   ]
  },
  {
   "cell_type": "markdown",
   "id": "0116f49b",
   "metadata": {},
   "source": [
    "## Background / Motivation\n",
    "\n",
    "A hospital's ability to release happier and healthier patients is an established metric for its success as an institution. But more recently, a hospital's success has also been measured by its readmission rate: or the extent to which patients are being retreated in a hospital within 30 days of their initial inpatient hospital stay. Hospital readmissions are associated with worse patient outcomes and high financial strains on hospitals and their administration [1]. And the cost is high; readmissions often double the cost of a patient's care (both for the patients themselves and the hospital treating them. As Mcllvennan et al. notes, approximately \"20% of all Medicare discharges have a readmission within 30 days\" and, of those, an estimated 12% are potentially avoidable [1], [2]. These often avoidable readmissions (due to hasty and/or incomplete care) are not only costly to the hospital and patient, but also potentially life-threatening depending on a given patient's ailment.\n",
    "\n",
    "As such, determining what factors affect a patient's likelihood of being readmitted to the hospital is of paramount importance for patients, their physicians, and hospital administration alike. As our group is interested in medicine and passionate about improved and equitable health outcomes, we asked ourselves: **What if we could identify the relationship between the factors associated with a patient's initial stay and their likelihood of being readmitted?** We imagine that, equipped with this information, hospital staff and patients could work together to adjust patient care plans and avoid readmissions.\n",
    "\n",
    "We propose to address this problem using diabetes as a case study. Diabetes is an ailment that affects approximately 537 million individuals worldwide, regardless of age [3]. Though individuals with diabetes must carefully maintain their diet, exercise, and other living conditions in order to manage their illness, hospitalizations are not rare. In one study, \"25 percent of patients with Type 1 diabetes and 30 percent with Type 2 diabetes had a hospital admission during one year\" [4]. The abundance of information known about these hospital admissions provides a ripe opportunity to build and test a model to predict readmission, simultaneously filling a need for diabetes patients, healthcare workers, and hospital administrators alike."
   ]
  },
  {
   "cell_type": "markdown",
   "id": "5430f856",
   "metadata": {},
   "source": [
    "## Problem statement \n",
    "\n",
    "Describe your problem statement. Articulate your objectives using absolutely no jargon. Interpret the problem as inference and/or prediction.\n"
   ]
  },
  {
   "cell_type": "markdown",
   "id": "84ff1421",
   "metadata": {},
   "source": [
    "## Approach\n",
    "\n",
    "### Modeling Approach\n",
    "Our topic lends itself best to a **classification problem**. This is because our response variable (hospital readmission, or `readmitted`) is categorical and binary: either a patient  was readmitted or they were not readmitted. As such, we chose to implement a **logistic regression model** in our modeling and analyses, as this modeling method is appropriate when the response variable (here `readmitted`) is categorical. In our project, we are most interested in identifying the relationship between predictors (here, factors associated with a patient's hospital stay) and a response (hospital readmittance). Thus, our model is mainly concerned with **inference.**\n",
    "\n",
    "### Optimizing Performance Metrics\n",
    "\n",
    "In our modeling and analyses, we are most interested in the following performance metrics: our model's (1) False Negative Rate (FNR), (2) precision, and (3) accuracy. \n",
    "\n",
    "#### False Negative Rate\n",
    "\n",
    "We needed to build a model that has a low False Negative Rate, or FNR. A model's FNR \n",
    "\n",
    "**NEED TO ADD TO THIS** need this value to be low, as we do not want our model to misclassify patients (as it could impact their treatment plan). This could be especially dangerous because, if our model were to predict that a patient was not going to return to the hospital and they did, it could incur both changes in the patient’s healthcare plan and financial stress on both the patient and the hospital.\n",
    "\n",
    "#### Precision\n",
    "\n",
    "Precision in logistic regression helps us to measure how good our model is at classifying observations when the response value is positive or has the value of \"1.\" Here, the positive value for our response variable `readmitted` maps onto an instance where a patient is readmitted to the hospital. This outcome directly relates to patient health outcomes. We need our model to be very good at predicting positive outcomes when it needs to (i.e., making accurate classifications as to when patients may return to the hospital).\n",
    "\n",
    "#### Accuracy \n",
    "\n",
    "**XXX**\n",
    "\n",
    "### Anticipated Problems and Initial Modeling\n",
    "Is there anything unorthodox / new in your approach? \n",
    "\n",
    "What problems did you anticipate? What problems did you encounter? Did the very first model you tried work? \n",
    "\n",
    "Did your problem already have solution(s) (posted on Kaggle or elsewhere). If yes, then how did you build upon those solutions, what did you do differently? Is your model better as compared to those solutions in terms of prediction / inference?\n",
    "\n",
    "**Important: Mention any code repositories (with citations) or other sources that you used, and specifically what changes you made to them for your project.**"
   ]
  },
  {
   "cell_type": "markdown",
   "id": "38c7b95f",
   "metadata": {},
   "source": [
    "## Data sources"
   ]
  },
  {
   "cell_type": "markdown",
   "id": "40a9ff8a",
   "metadata": {},
   "source": [
    "In our project, we used a dataset entitled “Diabetes 130-US hospitals for years 1999-2008 dataset” from the UCI Machine Learning Repository. The dataset can be accessed [here](https://archive.ics.uci.edu/ml/datasets/Diabetes+130-US+hospitals+for+years+1999-2008#). \n",
    "\n",
    "All data was collected between 1999 and 2008 from over 130 US hospitals and related care centers. The dataset contains over 10,000 entries, each corresponding to a patient with either Type 1 or Type 2 diabetes. \n",
    "\n",
    "Observations had to satisfy the following criteria to be included in this dataset: \n",
    "\n",
    "1. The patient must have had an inpatient encounter (i.e., they must have been admitted to the hospital)\n",
    "2. The incident must have been a diabetic encounter (i.e., the patient had to have been a diabetic)\n",
    "3. The length of the patient’s hospital stay had to have been between 1 and 14 days\n",
    "4. Laboratory tests had to have been administered during the patient’s initial hospital stay\n",
    "5. The patient must have received medications during their hospital stay\n",
    "\n",
    "In the resulting dataset, there are 55 attributes with information about a patients demographics (such as their age, gender, and race); the patient's medical history (such as their number of inpatient and outpatient visits, medications, etc.); their initial hospital stay hospital stay (such as their number of medications, procedures, or diagnoses); and if the patient was readmitted to the hospital within 30 days of their initial hospital visit. The dataset is complete, though there are 8 attributes with missing values that encompass over 50% of the observations. The 47 additional attributes in the dataset have little-to-no missing values. Thus, the vast majority of the attributes in this dataset are usable as potential predictors for our model.\n",
    "\n",
    "We chose to use this dataset because it contains our variable of interest (whether a patient was readmitted or not) along with ~46 potential predictors to use to fit the model. This dataset is extremely robust and comprehensive, including information on over 10,000 patients in the US across a decade. This broad and comprehensive data increases the generalizability of our study's findings. Its number of predictors also allows us to approach our problem from multiple perspectives: (1) the patient’s characteristics, (2) their hospital stay and medical history, and (3) the treatments administered to them. "
   ]
  },
  {
   "cell_type": "markdown",
   "id": "8c255035",
   "metadata": {},
   "source": [
    "## Stakeholders"
   ]
  },
  {
   "cell_type": "markdown",
   "id": "9d18ba12",
   "metadata": {},
   "source": [
    "We have identified three stakeholder groups that would benefit from our analysis: (1) diabetes patients and their loved ones; (2) hospital staff involved in direct patient care and; (3) hospital administraotrs and those who have an interest in reducing the financial waste in healthcare (i.e. Medicaid).\n",
    "\n",
    "\n",
    "### Diabetic Patients and Their Loved Ones \n",
    "Our first stakeholder group is diabetes patients and their loved ones. For diabetes patients and their loved ones, the results of our project could provide them insight into factors impacting the diabetic’s continued risks of illness and subsequent hospital readmissions. A  hospital stay can be emotionally and financially stressful for a diabetic patient and their family. Hospital readmissions then exacerbate this toll on patients by subjecting them to more inpatient stays. Further, as readmissions are associated with worse patient health outcomes, it is likely that diabetic who are readmitted will thus be readmitted again, worsening the burden to both their health and finances [3]. Understanding what factors contribute to hospital readmissions may empower patients and their families to take a more active and focused role in improving their health outcomes. \n",
    "\n",
    "For instance, if a patient was aware that they had certain risk factors associated with a greater likelihood of readmission, they may direct more time and resources towards alleviating these factors and advocating for their health. Patients and their family could be more vigilant toward early warning-signs and communicate proactively with their physician or healthcare provider about prevention. Overall, this knowledge can empower patients with diabetes to direct their efforts towards areas that most affect their health outcome. \n",
    "\n",
    "### Hospital Staff Involved in Direct Patient Care \n",
    "Our second stakeholder group include hospital staff and physicians involved in direct patient care. These stakeholders are directly charged with overseeing the healthcare plans of diabetic patients. Thus, they are morally, professionally, and financially invested in giving their patients the best possible care to improve their health outcomes. With a better understanding of factors that impact the likelihood of a diabetic patient’s readmission, healthcare workers may adjust their administration of care during the patient’s initial hospital visit. \n",
    "\n",
    "For instance, if a patient has an elevated risk of being readmitted, their doctor may  adjust the patient's healthcare plan to focus on and alleviate that risk. The patient thus will likely have better health outcomes, and their risk of returning to the hospital within 30 days of being released (the criteria for a readmission) would be avoided.\n",
    "\n",
    "This project may thus inform healthcare workers about which of their patients require the most vigilant and preventative interventions. Physicians, equipped with this knowledge, may then help to lower both the morbidity and mortality for diabetics in their care.\n",
    "\n",
    "### Hospital Administrators and Medicaid\n",
    "Our third and final stakeholder group consists of hospital administrators and those with an active interest in reducing the cost of healthcare, like Medicaid providers. Hospital readmissions are financially costly to the healthcare system. The Affordable Care Act incentivizes the reduction of hospital admissions by financially penalizing hospitals with high readmission rates [4]. Penalties may include reduced payments to hospitals with excessive readmissions. In 2021, these penalties are projected to cost hospitals $521 million dollars [4]. As such, hospital administrators may have a vested financial interest in identifying factors that most contribute to an increased likelihood of returning to the hospital. By identifying such factors, administrators can allocate hospital resources towards addressing them, so that patient health outcomes are improved, readmissions decrease, and their hospital avoids suffering related financial penalties. \n"
   ]
  },
  {
   "cell_type": "markdown",
   "id": "fe7ea9bb",
   "metadata": {},
   "source": [
    "## Data quality check / cleaning / preparation \n",
    "\n",
    "In a tabular form, show the distribution of values of each variable used in the analysis - for both categorical and continuous variables. Distribution of a categorical variable must include the number of missing values, the number of unique values, the frequency of all its levels. If a categorical variable has too many levels, you may just include the counts of the top 3-5 levels. \n",
    "\n",
    "If the tables in this section take too much space, you may put them in the appendix, and just mention any useful insights you obtained from the data quality check that helped you develop the model or helped you realize the necessary data cleaning / preparation.\n",
    "\n",
    "Were there any potentially incorrect values of variables that required cleaning? If yes, how did you clean them? \n",
    "\n",
    "Did you do any data wrangling or data preparation before the data was ready to use for model development? Did you create any new predictors from exisiting predictors? For example, if you have number of transactions and spend in a credit card dataset, you may create spend per transaction for predicting if a customer pays their credit card bill. Mention the steps at a broad level, you may put minor details in the appendix. Only mention the steps that ended up being useful towards developing your final model(s)."
   ]
  },
  {
   "cell_type": "markdown",
   "id": "fbb11c9b",
   "metadata": {},
   "source": [
    "## Exploratory data analysis"
   ]
  },
  {
   "cell_type": "markdown",
   "id": "e4bd74a9",
   "metadata": {},
   "source": [
    "Put the relevant EDA here (visualizations, tables, etc.) that helped you figure out useful predictors for developing the model(s). Only put the EDA that ended up being useful towards developing your final model(s). \n",
    "\n",
    "List the insights (as bullet points) you got from EDA that ended up being useful towards developing your final model. \n",
    "\n",
    "Again, if there are too many plots / tables, you may put them into appendix, and just mention the insights you got from them."
   ]
  },
  {
   "cell_type": "markdown",
   "id": "c6c8dbad",
   "metadata": {},
   "source": [
    "- The continuous variables that are most highly correlated with readmission are: num_inpatient, num_diagnoses, time_in_hospital, age, encounter_id, num_medications, and num_procedures\n",
    "- The following variables showed differences in distribution when subset by data readmitted vs. not readmitted: time_in_hospital, num_diagnoses, age, num_inpatient, num_emergency, num_changes\n",
    "- time_in_hospital increases as age increases, and time_in_hospital also increases as num_of_changes increase\n",
    "- the variability in num_changes increases as num_inpatient increases\n",
    "- at low ages, num_inpatient and num_changes have high variability\n",
    "- num_inpatient and time_in_hospital do not seem to be related\n",
    "- discharge disposition ID does not seem to be related to other predictors"
   ]
  },
  {
   "cell_type": "markdown",
   "id": "d39c782c",
   "metadata": {},
   "source": [
    "## Approach\n",
    "\n",
    "### Modeling Approach\n",
    "Our topic lends itself best to a **classification problem**. This is because our response variable (hospital readmission, or `readmitted`) is categorical and binary: either a patient  was readmitted or they were not readmitted. As such, we chose to implement a **logistic regression model** in our modeling and analyses, as this modeling method is appropriate when the response variable (here `readmitted`) is categorical. \n",
    "\n",
    "### Optimizing Performance Metrics\n",
    "\n",
    "In our modeling and analyses, we are most interested in the following performance metrics: our model's (1) False Negative Rate (FNR), (2) precision, and (3) accuracy. \n",
    "\n",
    "#### False Negative Rate\n",
    "\n",
    "We needed to build a model that has a low False Negative Rate, or FNR. A model's FNR \n",
    "\n",
    "**NEED TO ADD TO THIS** need this value to be low, as we do not want our model to misclassify patients (as it could impact their treatment plan). This could be especially dangerous because, if our model were to predict that a patient was not going to return to the hospital and they did, it could incur both changes in the patient’s healthcare plan and financial stress on both the patient and the hospital.\n",
    "\n",
    "#### Precision\n",
    "\n",
    "Precision in logistic regression helps us to measure how good our model is at classifying observations when the response value is positive or has the value of \"1.\" Here, the positive value for our response variable `readmitted` maps onto an instance where a patient is readmitted to the hospital. This outcome directly relates to patient health outcomes. We need our model to be very good at predicting positive outcomes when it needs to (i.e., making accurate classifications as to when patients may return to the hospital).\n",
    "\n",
    "#### Accuracy \n",
    "\n",
    "**XXX**\n",
    "\n",
    "### Anticipated Problems and Initial Modeling\n",
    "Is there anything unorthodox / new in your approach? \n",
    "\n",
    "What problems did you anticipate? What problems did you encounter? Did the very first model you tried work? \n",
    "\n",
    "Did your problem already have solution(s) (posted on Kaggle or elsewhere). If yes, then how did you build upon those solutions, what did you do differently? Is your model better as compared to those solutions in terms of prediction / inference?\n",
    "\n",
    "**Important: Mention any code repositories (with citations) or other sources that you used, and specifically what changes you made to them for your project.**"
   ]
  },
  {
   "cell_type": "markdown",
   "id": "acab331a",
   "metadata": {},
   "source": [
    "## Developing the model"
   ]
  },
  {
   "cell_type": "markdown",
   "id": "ae5ec4c9",
   "metadata": {},
   "source": [
    "Explain the steps taken to develop and improve the base model - informative visualizations / addressing modeling assumption violations / variable transformation / interactions / outlier treatment / influential points treatment / addressing over-fitting / addressing multicollinearity / variable selection - stepwise regression, lasso, ridge regression). \n",
    "\n",
    "Did you succeed in achieving your goal, or did you fail? Why?"
   ]
  },
  {
   "cell_type": "markdown",
   "id": "6c2686db",
   "metadata": {},
   "source": [
    "### Final Model Equation"
   ]
  },
  {
   "cell_type": "markdown",
   "id": "3580e90d",
   "metadata": {},
   "source": [
    "**Put the final model equation**.\n",
    "\n",
    "**Important: This section should be rigorous and thorough. Present detailed information about decision you made, why you made them, and any evidence/experimentation to back them up.**"
   ]
  },
  {
   "cell_type": "markdown",
   "id": "1b46343d",
   "metadata": {},
   "source": [
    "## Limitations of the model with regard to inference / prediction"
   ]
  },
  {
   "cell_type": "markdown",
   "id": "c85ead90",
   "metadata": {},
   "source": [
    "If it is inference, will the inference hold for a certain period of time, for a certain subset of population, and / or for certain conditions.\n",
    "\n",
    "If it is prediction, then will it be possible / convenient / expensive for the stakeholders to collect the data relating to the predictors in the model. Using your model, how soon will the stakeholder be able to predict the outcome before the outcome occurs. For example, if the model predicts the number of bikes people will rent in Evanston on a certain day, then how many days before that day will your model be able to make the prediction. This will depend on how soon the data that your model uses becomes available. If you are predicting election results, how many days / weeks / months / years before the election can you predict the results. \n",
    "\n",
    "When will your model become too obsolete to be useful?"
   ]
  },
  {
   "cell_type": "markdown",
   "id": "f6026cb7",
   "metadata": {},
   "source": [
    "## Future Work\n",
    "\n",
    "You are welcome to introduce additional sections or subsections, if required, to address any specific aspects of your project in detail. For example, you may briefly discuss potential future work that the research community could focus on to make further progress in the direction of your project's topic."
   ]
  },
  {
   "cell_type": "markdown",
   "id": "62a185cb",
   "metadata": {},
   "source": [
    "## Conclusions and Recommendations to Stakeholder(s)\n",
    "\n",
    "What conclusions do you draw based on your model? If it is inference you may draw conclusions based on the coefficients, statistical significance of predictors / interactions, etc. If it is prediction, you may draw conclusions based on prediction accuracy, or other performance metrics.\n",
    "\n",
    "How do you use those conclusions to come up with meaningful recommendations for stakeholders? The recommendations must be action-items for stakeholders that they can directly implement without any further analysis. Be as precise as possible. The stakeholder(s) are depending on you to come up with practically implementable recommendations, instead of having to think for themselves.\n",
    "\n",
    "If your recommendations are not practically implementable by stakeholders, how will they help them? Is there some additional data / analysis / domain expertise you need to do to make the recommendations implementable? \n",
    "\n",
    "Do the stakeholder(s) need to be aware about some limitations of your model? Is your model only good for one-time use, or is it possible to update your model at a certain frequency (based on recent data) to keep using it in the future? If it can be used in the future, then for how far into the future?"
   ]
  },
  {
   "cell_type": "markdown",
   "id": "9c44497c",
   "metadata": {},
   "source": [
    "## GitHub and individual contribution {-}"
   ]
  },
  {
   "cell_type": "markdown",
   "id": "c98b3f66",
   "metadata": {},
   "source": [
    "Our project repository can be found at [**this link**]('https://github.com/AnastasiaKWei/Saturn'). A more detailed overview of each team member's contributions to the project can be found below. "
   ]
  },
  {
   "cell_type": "markdown",
   "id": "5505da5c",
   "metadata": {},
   "source": [
    "<html>\n",
    "<style>\n",
    "table, td, th {\n",
    "  border: 1px solid black;\n",
    "}\n",
    "\n",
    "table {\n",
    "  border-collapse: collapse;\n",
    "  width: 100%;\n",
    "}\n",
    "\n",
    "th {\n",
    "  text-align: left;\n",
    "}\n",
    "    \n",
    "\n",
    "</style>\n",
    "<body>\n",
    "\n",
    "<h2>Individual contribution</h2>\n",
    "\n",
    "<table style=\"width:100%\">\n",
    "     <colgroup>\n",
    "       <col span=\"1\" style=\"width: 15%;\">\n",
    "       <col span=\"1\" style=\"width: 20%;\">\n",
    "       <col span=\"1\" style=\"width: 50%;\">\n",
    "       <col span=\"1\" style=\"width: 15%;\"> \n",
    "    </colgroup>\n",
    "  <tr>\n",
    "    <th>Team member</th>\n",
    "    <th>Contributed aspects</th>\n",
    "    <th>Details</th>\n",
    "    <th>Number of GitHub commits</th>\n",
    "  </tr>\n",
    "  <tr>\n",
    "    <td>Kaitlyn Hung</td>\n",
    "    <td>Modeling and EDA</td>\n",
    "    <td>XXXXX</td>\n",
    "    <td>XXXXX</td>\n",
    "  </tr>\n",
    "  <tr>\n",
    "    <td>Amy Wang</td>\n",
    "    <td>Modeling and model optimization</td>\n",
    "    <td>XXXXX</td>\n",
    "    <td>XXXXX</td>\n",
    "  </tr>\n",
    "    <tr>\n",
    "    <td>Anastasia Wei</td>\n",
    "    <td>Data cleaning and model optimization</td>\n",
    "    <td>XXXXX</td>\n",
    "    <td>XXXXX</td>    \n",
    "  </tr>\n",
    "    <tr>\n",
    "    <td>Lila Wells</td>\n",
    "    <td>Modeling and EDA</td>\n",
    "    <td>XXXXX</td>\n",
    "    <td>XXXXX</td>    \n",
    "  </tr>\n",
    "</table>"
   ]
  },
  {
   "cell_type": "markdown",
   "id": "03f5ce33",
   "metadata": {},
   "source": [
    "### Reflections on the GitHub Experience"
   ]
  },
  {
   "cell_type": "markdown",
   "id": "192bbd23",
   "metadata": {},
   "source": [
    "When reflecting on our collaboration via GitHub, our team members appreciated how we were able to collectively work on one document (like this project report, for example) from our own devices while pushing and pulling changes that other group members made. One challenge that we faced when using GitHub was maintaining a clean and easy-to-navigate repository, as our team members were often simultaneously working on different files and, as such, our repository would often become quite crowded with different documents. However, we were able to circumvent this issue by organizing our repository into different subsections and folders. \n",
    "\n",
    "We found that collaborating on GitHub made it far easier to use the platform as a whole. Practice is the best teacher and, as our team was quite active in our repository, we learned a lot about pushing and pulling changes that other team members made, merging files, and making meaningful commits. GitHub definitely made our collaboration easier, as it stored all of our files in one place and allowed us to collaborate remotely yet effectively. "
   ]
  },
  {
   "cell_type": "markdown",
   "id": "00b1cafe",
   "metadata": {},
   "source": [
    "## References {-}"
   ]
  },
  {
   "cell_type": "markdown",
   "id": "ebdb1aad",
   "metadata": {},
   "source": [
    "List and number all bibliographical references. When referenced in the text, enclose the citation number in square brackets, for example [1].\n",
    "\n",
    "[1] Mcllvennan, Colleen K., et al. \"Hospital Readmissions Reduction Program.\" \n",
    "     National Library of Medicine, https://doi.org/10.1161/ \n",
    "     CIRCULATIONAHA.114.010270.\n",
    "\n",
    "[2] \"How Reducing Hospital Readmissions Benefits Patients and Hospitals.\" Regis College, 10 Aug. 2022, \n",
    "    online.regiscollege.edu/blog/reducing-hospital-readmissions/.\n",
    "    \n",
    "[3] \"About Diabetes.\" International Diabetes Federation, 12 Sept. 2021, idf.org/ \n",
    "     aboutdiabetes/what-is-diabetes/ \n",
    "     facts-figures.html#:~:text=The%20IDF%20Diabetes%20Atlas%20Tenth,and%20783%20milli \n",
    "     on%20by%202045.\n",
    "\n",
    "[4] Moss, S. E., et al. \"Risk factors for hospitalization in people with diabetes.\" \n",
    "     JAMA Internal Medicine, https://doi.org/10.1001/archinte.159.17.2053. \n",
    "     Accessed 27 Sept. 1999.\n"
   ]
  },
  {
   "cell_type": "markdown",
   "id": "5831751c",
   "metadata": {},
   "source": [
    "## Appendix {-}"
   ]
  },
  {
   "cell_type": "markdown",
   "id": "d13d374d",
   "metadata": {},
   "source": [
    "You may put additional stuff here as Appendix. You may refer to the Appendix in the main report to support your arguments. However, the appendix section is unlikely to be checked while grading, unless the grader deems it necessary."
   ]
  }
 ],
 "metadata": {
  "kernelspec": {
   "display_name": "Python 3 (ipykernel)",
   "language": "python",
   "name": "python3"
  },
  "language_info": {
   "codemirror_mode": {
    "name": "ipython",
    "version": 3
   },
   "file_extension": ".py",
   "mimetype": "text/x-python",
   "name": "python",
   "nbconvert_exporter": "python",
   "pygments_lexer": "ipython3",
   "version": "3.9.7"
  }
 },
 "nbformat": 4,
 "nbformat_minor": 5
}
