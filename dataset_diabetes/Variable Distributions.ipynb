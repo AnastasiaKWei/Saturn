{
 "cells": [
  {
   "cell_type": "code",
   "execution_count": 1,
   "id": "d11ea20e",
   "metadata": {},
   "outputs": [],
   "source": [
    "import pandas as pd\n",
    "import numpy as np"
   ]
  },
  {
   "cell_type": "code",
   "execution_count": 2,
   "id": "2d4f474d",
   "metadata": {},
   "outputs": [],
   "source": [
    "diabetes = pd.read_csv('diabetic_data.csv')"
   ]
  },
  {
   "cell_type": "markdown",
   "id": "ed2c78a8",
   "metadata": {},
   "source": [
    "### Variables used in the analysis (to get distributions of)\n",
    "\n",
    "1. **change**\n",
    "2. **diabetesMed**\n",
    "3. **num_lab_procedures**\n",
    "4. **num_procedures**\n",
    "5. **num_medications**\n",
    "6. **number_outpatient**\n",
    "7. **number_emergency**\n",
    "8. **number_inpatient**\n",
    "9. **number_diagnoses**\n",
    "10. age\n",
    "11. time_in_hospital\n",
    "12. **admission_type_id**\n",
    "13. **discharge_disposition_id**\n",
    "14. **admission_source_id**\n",
    "15. **diag_1**\n",
    "16. **diag_2**"
   ]
  },
  {
   "cell_type": "markdown",
   "id": "ae30116c",
   "metadata": {},
   "source": [
    "### change (categorical)"
   ]
  },
  {
   "cell_type": "markdown",
   "id": "81d3fb44",
   "metadata": {},
   "source": [
    "\n",
    "|             | `change`     |\n",
    "| ----------- | ----------- |\n",
    "| Levels      | 2 (No, Change) |\n",
    "| Missing values   | 0        |\n",
    "| Number of unique values   | 2        |\n",
    "| Frequency at all levels   | {No : 54755, Change: 47011}   |"
   ]
  },
  {
   "cell_type": "code",
   "execution_count": 3,
   "id": "6051cac4",
   "metadata": {},
   "outputs": [
    {
     "data": {
      "text/plain": [
       "No    54755\n",
       "Ch    47011\n",
       "Name: change, dtype: int64"
      ]
     },
     "execution_count": 3,
     "metadata": {},
     "output_type": "execute_result"
    }
   ],
   "source": [
    "diabetes.change.value_counts()"
   ]
  },
  {
   "cell_type": "markdown",
   "id": "b31f334e",
   "metadata": {},
   "source": [
    "### diabetesMed (categorical)"
   ]
  },
  {
   "cell_type": "markdown",
   "id": "98a4c11c",
   "metadata": {},
   "source": [
    "|             | `diabetesMed`     |\n",
    "| ----------- | ----------- |\n",
    "| Levels      | 2 (No, Yes) |\n",
    "| Missing values   | 0        |\n",
    "| Number of unique values   | 2        |\n",
    "| Frequency at all levels   | {No : 23403, Yes: 78363}   |"
   ]
  },
  {
   "cell_type": "code",
   "execution_count": 4,
   "id": "247805e3",
   "metadata": {},
   "outputs": [
    {
     "data": {
      "text/plain": [
       "Yes    78363\n",
       "No     23403\n",
       "Name: diabetesMed, dtype: int64"
      ]
     },
     "execution_count": 4,
     "metadata": {},
     "output_type": "execute_result"
    }
   ],
   "source": [
    "diabetes.diabetesMed.value_counts()"
   ]
  },
  {
   "cell_type": "code",
   "execution_count": 5,
   "id": "8a2e0315",
   "metadata": {},
   "outputs": [
    {
     "data": {
      "text/plain": [
       "0"
      ]
     },
     "execution_count": 5,
     "metadata": {},
     "output_type": "execute_result"
    }
   ],
   "source": [
    "diabetes.diabetesMed.isnull().sum()"
   ]
  },
  {
   "cell_type": "markdown",
   "id": "8b34c6c5",
   "metadata": {},
   "source": [
    "### diag_1"
   ]
  },
  {
   "cell_type": "markdown",
   "id": "0fa72b83",
   "metadata": {},
   "source": [
    "|             | `diag_1`     |\n",
    "| ----------- | ----------- |\n",
    "| Levels      | 101766 |\n",
    "| Missing values   | 0        |\n",
    "| Number of unique values   | 717        |\n",
    "| Frequency at all levels   | It depends on the level. There are so many levels that binning here is necessary to make this variable interpretable   |"
   ]
  },
  {
   "cell_type": "code",
   "execution_count": 6,
   "id": "90f5468e",
   "metadata": {},
   "outputs": [
    {
     "data": {
      "text/plain": [
       "101766"
      ]
     },
     "execution_count": 6,
     "metadata": {},
     "output_type": "execute_result"
    }
   ],
   "source": [
    "diabetes.diag_1.value_counts().sum()"
   ]
  },
  {
   "cell_type": "code",
   "execution_count": 7,
   "id": "74fd99e4",
   "metadata": {},
   "outputs": [
    {
     "data": {
      "text/plain": [
       "717"
      ]
     },
     "execution_count": 7,
     "metadata": {},
     "output_type": "execute_result"
    }
   ],
   "source": [
    "vals = diabetes.diag_1.unique()\n",
    "len(vals)"
   ]
  },
  {
   "cell_type": "code",
   "execution_count": 8,
   "id": "c3b2258b",
   "metadata": {},
   "outputs": [
    {
     "data": {
      "text/plain": [
       "0"
      ]
     },
     "execution_count": 8,
     "metadata": {},
     "output_type": "execute_result"
    }
   ],
   "source": [
    "diabetes.diag_1.isnull().sum()"
   ]
  },
  {
   "cell_type": "markdown",
   "id": "bb8a83c0",
   "metadata": {},
   "source": [
    "### diag_2"
   ]
  },
  {
   "cell_type": "markdown",
   "id": "0c443584",
   "metadata": {},
   "source": [
    "|             | `diag_2`     |\n",
    "| ----------- | ----------- |\n",
    "| Levels      | 749 |\n",
    "| Missing values   | 0        |\n",
    "| Number of unique values   | 749       |\n",
    "| Frequency at all levels   | It depends on the level. There are so many levels that binning here is necessary to make this variable interpretable   |"
   ]
  },
  {
   "cell_type": "code",
   "execution_count": 14,
   "id": "1a44b444",
   "metadata": {},
   "outputs": [
    {
     "data": {
      "text/plain": [
       "276     6752\n",
       "428     6662\n",
       "250     6071\n",
       "427     5036\n",
       "401     3736\n",
       "        ... \n",
       "E918       1\n",
       "46         1\n",
       "V13        1\n",
       "E850       1\n",
       "927        1\n",
       "Name: diag_2, Length: 749, dtype: int64"
      ]
     },
     "execution_count": 14,
     "metadata": {},
     "output_type": "execute_result"
    }
   ],
   "source": [
    "diabetes.diag_2.value_counts()"
   ]
  },
  {
   "cell_type": "code",
   "execution_count": 16,
   "id": "559de8c4",
   "metadata": {},
   "outputs": [
    {
     "data": {
      "text/plain": [
       "749"
      ]
     },
     "execution_count": 16,
     "metadata": {},
     "output_type": "execute_result"
    }
   ],
   "source": [
    "unique = diabetes.diag_2.unique()\n",
    "len(unique)"
   ]
  },
  {
   "cell_type": "code",
   "execution_count": 10,
   "id": "440e7bef",
   "metadata": {},
   "outputs": [
    {
     "data": {
      "text/plain": [
       "749"
      ]
     },
     "execution_count": 10,
     "metadata": {},
     "output_type": "execute_result"
    }
   ],
   "source": [
    "vals = diabetes.diag_2.unique()\n",
    "len(vals)"
   ]
  },
  {
   "cell_type": "code",
   "execution_count": 11,
   "id": "73632646",
   "metadata": {},
   "outputs": [
    {
     "data": {
      "text/plain": [
       "0"
      ]
     },
     "execution_count": 11,
     "metadata": {},
     "output_type": "execute_result"
    }
   ],
   "source": [
    "diabetes.diag_2.isnull().sum()"
   ]
  },
  {
   "cell_type": "markdown",
   "id": "7d5aeca5",
   "metadata": {},
   "source": [
    "### admission_source_id"
   ]
  },
  {
   "cell_type": "markdown",
   "id": "f3fc3549",
   "metadata": {},
   "source": [
    "|             | `admission_source_id`     |\n",
    "| ----------- | ----------- |\n",
    "| Levels      | 17 |\n",
    "| Missing values   | 0        |\n",
    "| Number of unique values   | 17       |\n",
    "| Frequency at all levels   | {7 : 57494, 1 : 29565, 17 : 6781, 4 : 3187} *Note, only showing the frequency of the first few most popular levels*  |"
   ]
  },
  {
   "cell_type": "code",
   "execution_count": 20,
   "id": "93c755bb",
   "metadata": {},
   "outputs": [
    {
     "data": {
      "text/plain": [
       "7     57494\n",
       "1     29565\n",
       "17     6781\n",
       "4      3187\n",
       "6      2264\n",
       "2      1104\n",
       "5       855\n",
       "3       187\n",
       "20      161\n",
       "9       125\n",
       "8        16\n",
       "22       12\n",
       "10        8\n",
       "14        2\n",
       "11        2\n",
       "25        2\n",
       "13        1\n",
       "Name: admission_source_id, dtype: int64"
      ]
     },
     "execution_count": 20,
     "metadata": {},
     "output_type": "execute_result"
    }
   ],
   "source": [
    "diabetes.admission_source_id.value_counts()"
   ]
  },
  {
   "cell_type": "code",
   "execution_count": 18,
   "id": "25509098",
   "metadata": {},
   "outputs": [
    {
     "data": {
      "text/plain": [
       "17"
      ]
     },
     "execution_count": 18,
     "metadata": {},
     "output_type": "execute_result"
    }
   ],
   "source": [
    "vals = diabetes.admission_source_id.unique()\n",
    "len(vals)"
   ]
  },
  {
   "cell_type": "markdown",
   "id": "de606322",
   "metadata": {},
   "source": [
    "### discharge_disposition_id"
   ]
  },
  {
   "cell_type": "markdown",
   "id": "bc8c9f5f",
   "metadata": {},
   "source": [
    "|             | `discharge_disposition_id`     |\n",
    "| ----------- | ----------- |\n",
    "| Levels      | 26 |\n",
    "| Missing values   | 0        |\n",
    "| Number of unique values   | 26       |\n",
    "| Frequency at all levels   | {1 : 60234, 3 : 13954, 6 : 12902, 18 : 3691, 2 : 2128} *Note, only showing the frequency of the first few most popular levels*  |"
   ]
  },
  {
   "cell_type": "code",
   "execution_count": 21,
   "id": "4f9949dd",
   "metadata": {},
   "outputs": [
    {
     "data": {
      "text/plain": [
       "1     60234\n",
       "3     13954\n",
       "6     12902\n",
       "18     3691\n",
       "2      2128\n",
       "22     1993\n",
       "11     1642\n",
       "5      1184\n",
       "25      989\n",
       "4       815\n",
       "7       623\n",
       "23      412\n",
       "13      399\n",
       "14      372\n",
       "28      139\n",
       "8       108\n",
       "15       63\n",
       "24       48\n",
       "9        21\n",
       "17       14\n",
       "16       11\n",
       "19        8\n",
       "10        6\n",
       "27        5\n",
       "12        3\n",
       "20        2\n",
       "Name: discharge_disposition_id, dtype: int64"
      ]
     },
     "execution_count": 21,
     "metadata": {},
     "output_type": "execute_result"
    }
   ],
   "source": [
    "diabetes.discharge_disposition_id.value_counts()"
   ]
  },
  {
   "cell_type": "code",
   "execution_count": 22,
   "id": "a545176d",
   "metadata": {},
   "outputs": [
    {
     "data": {
      "text/plain": [
       "26"
      ]
     },
     "execution_count": 22,
     "metadata": {},
     "output_type": "execute_result"
    }
   ],
   "source": [
    "vals = diabetes.discharge_disposition_id.unique()\n",
    "len(vals)"
   ]
  },
  {
   "cell_type": "markdown",
   "id": "8600e36a",
   "metadata": {},
   "source": [
    "### admission_type_id"
   ]
  },
  {
   "cell_type": "markdown",
   "id": "1e8aae43",
   "metadata": {},
   "source": [
    "|             | `admission_type_id`     |\n",
    "| ----------- | ----------- |\n",
    "| Levels      | 8 |\n",
    "| Missing values   | 0        |\n",
    "| Number of unique values   | 8       |\n",
    "| Frequency at all levels   | {1 : 53990, 3 : 18869, 2 : 18480, 6 : 5291} *Note, only showing the frequency of the first few most popular levels*  |"
   ]
  },
  {
   "cell_type": "code",
   "execution_count": 23,
   "id": "06c2f9ab",
   "metadata": {},
   "outputs": [
    {
     "data": {
      "text/plain": [
       "1    53990\n",
       "3    18869\n",
       "2    18480\n",
       "6     5291\n",
       "5     4785\n",
       "8      320\n",
       "7       21\n",
       "4       10\n",
       "Name: admission_type_id, dtype: int64"
      ]
     },
     "execution_count": 23,
     "metadata": {},
     "output_type": "execute_result"
    }
   ],
   "source": [
    "diabetes.admission_type_id.value_counts()"
   ]
  },
  {
   "cell_type": "code",
   "execution_count": 24,
   "id": "931500fc",
   "metadata": {},
   "outputs": [
    {
     "data": {
      "text/plain": [
       "8"
      ]
     },
     "execution_count": 24,
     "metadata": {},
     "output_type": "execute_result"
    }
   ],
   "source": [
    "vals = diabetes.admission_type_id.unique()\n",
    "len(vals)"
   ]
  },
  {
   "cell_type": "markdown",
   "id": "ed9c2463",
   "metadata": {},
   "source": [
    "### num_lab_procedures"
   ]
  },
  {
   "cell_type": "markdown",
   "id": "0f2299c0",
   "metadata": {},
   "source": [
    "|             | `num_lab_procedures`     |\n",
    "| ----------- | ----------- |\n",
    "| count      | 101766.000000 |\n",
    "| mean   | 43.095641        |\n",
    "| std   | 19.674362       |\n",
    "| min   | 1.000000       |\n",
    "| 25%   | 31.000000       |\n",
    "| 50%   | 44.000000       |\n",
    "| 75%   | 57.000000       |\n",
    "| max   | 132.000000       |\n"
   ]
  },
  {
   "cell_type": "code",
   "execution_count": 25,
   "id": "c4f3143a",
   "metadata": {},
   "outputs": [
    {
     "data": {
      "text/plain": [
       "count    101766.000000\n",
       "mean         43.095641\n",
       "std          19.674362\n",
       "min           1.000000\n",
       "25%          31.000000\n",
       "50%          44.000000\n",
       "75%          57.000000\n",
       "max         132.000000\n",
       "Name: num_lab_procedures, dtype: float64"
      ]
     },
     "execution_count": 25,
     "metadata": {},
     "output_type": "execute_result"
    }
   ],
   "source": [
    "diabetes.num_lab_procedures.describe()"
   ]
  },
  {
   "cell_type": "markdown",
   "id": "65d295b2",
   "metadata": {},
   "source": [
    "### num_procedures"
   ]
  },
  {
   "cell_type": "markdown",
   "id": "02fe7a72",
   "metadata": {},
   "source": [
    "|             | `num_procedures`     |\n",
    "| ----------- | ----------- |\n",
    "| count      | 101766.000000 |\n",
    "| mean   | 1.339730        |\n",
    "| std   | 1.705807       |\n",
    "| min   | 0.000000      |\n",
    "| 25%   | 0.000000       |\n",
    "| 50%   | 1.000000       |\n",
    "| 75%   | 2.000000       |\n",
    "| max   | 6.000000       |"
   ]
  },
  {
   "cell_type": "code",
   "execution_count": 26,
   "id": "2a408836",
   "metadata": {},
   "outputs": [
    {
     "data": {
      "text/plain": [
       "count    101766.000000\n",
       "mean          1.339730\n",
       "std           1.705807\n",
       "min           0.000000\n",
       "25%           0.000000\n",
       "50%           1.000000\n",
       "75%           2.000000\n",
       "max           6.000000\n",
       "Name: num_procedures, dtype: float64"
      ]
     },
     "execution_count": 26,
     "metadata": {},
     "output_type": "execute_result"
    }
   ],
   "source": [
    "diabetes.num_procedures.describe()"
   ]
  },
  {
   "cell_type": "markdown",
   "id": "f7d7fd97",
   "metadata": {},
   "source": [
    "### num_medications"
   ]
  },
  {
   "cell_type": "markdown",
   "id": "d37fcc0c",
   "metadata": {},
   "source": [
    "|             | `num_medications`     |\n",
    "| ----------- | ----------- |\n",
    "| count      | 101766.000000 |\n",
    "| mean   | 16.021844        |\n",
    "| std   | 8.127566       |\n",
    "| min   | 1.000000      |\n",
    "| 25%   | 10.000000       |\n",
    "| 50%   | 15.000000       |\n",
    "| 75%   | 20.000000       |\n",
    "| max   | 81.000000       |"
   ]
  },
  {
   "cell_type": "code",
   "execution_count": 28,
   "id": "c017bd93",
   "metadata": {},
   "outputs": [
    {
     "data": {
      "text/plain": [
       "count    101766.000000\n",
       "mean         16.021844\n",
       "std           8.127566\n",
       "min           1.000000\n",
       "25%          10.000000\n",
       "50%          15.000000\n",
       "75%          20.000000\n",
       "max          81.000000\n",
       "Name: num_medications, dtype: float64"
      ]
     },
     "execution_count": 28,
     "metadata": {},
     "output_type": "execute_result"
    }
   ],
   "source": [
    "diabetes.num_medications.describe()"
   ]
  },
  {
   "cell_type": "markdown",
   "id": "97f22035",
   "metadata": {},
   "source": [
    "### number_outpatient"
   ]
  },
  {
   "cell_type": "markdown",
   "id": "1a775f7a",
   "metadata": {},
   "source": [
    "|             | `number_outpatient`     |\n",
    "| ----------- | ----------- |\n",
    "| count      | 101766.000000 |\n",
    "| mean   | 0.369357        |\n",
    "| std   | 1.267265       |\n",
    "| min   | 0.000000      |\n",
    "| 25%   | 0.000000       |\n",
    "| 50%   | 0.000000      |\n",
    "| 75%   | 0.000000       |\n",
    "| max   | 42.000000       |"
   ]
  },
  {
   "cell_type": "code",
   "execution_count": 30,
   "id": "65885b2d",
   "metadata": {},
   "outputs": [
    {
     "data": {
      "text/plain": [
       "count    101766.000000\n",
       "mean          0.369357\n",
       "std           1.267265\n",
       "min           0.000000\n",
       "25%           0.000000\n",
       "50%           0.000000\n",
       "75%           0.000000\n",
       "max          42.000000\n",
       "Name: number_outpatient, dtype: float64"
      ]
     },
     "execution_count": 30,
     "metadata": {},
     "output_type": "execute_result"
    }
   ],
   "source": [
    "diabetes.number_outpatient.describe()"
   ]
  },
  {
   "cell_type": "markdown",
   "id": "f78fad31",
   "metadata": {},
   "source": [
    "### number_emergency"
   ]
  },
  {
   "cell_type": "markdown",
   "id": "589c2847",
   "metadata": {},
   "source": [
    "|             | `number_emergency`     |\n",
    "| ----------- | ----------- |\n",
    "| count      | 101766.000000 |\n",
    "| mean   | 0.197836        |\n",
    "| std   | 0.930472       |\n",
    "| min   | 0.000000      |\n",
    "| 25%   | 0.000000       |\n",
    "| 50%   | 0.000000      |\n",
    "| 75%   | 0.000000       |\n",
    "| max   | 76.000000      |"
   ]
  },
  {
   "cell_type": "code",
   "execution_count": 31,
   "id": "f979d995",
   "metadata": {},
   "outputs": [
    {
     "data": {
      "text/plain": [
       "count    101766.000000\n",
       "mean          0.197836\n",
       "std           0.930472\n",
       "min           0.000000\n",
       "25%           0.000000\n",
       "50%           0.000000\n",
       "75%           0.000000\n",
       "max          76.000000\n",
       "Name: number_emergency, dtype: float64"
      ]
     },
     "execution_count": 31,
     "metadata": {},
     "output_type": "execute_result"
    }
   ],
   "source": [
    "diabetes.number_emergency.describe()"
   ]
  },
  {
   "cell_type": "markdown",
   "id": "d1fefd56",
   "metadata": {},
   "source": [
    "### number_inpatient"
   ]
  },
  {
   "cell_type": "markdown",
   "id": "9103f2e7",
   "metadata": {},
   "source": [
    "|             | `number_inpatient`     |\n",
    "| ----------- | ----------- |\n",
    "| count      | 101766.000000 |\n",
    "| mean   | 0.635566       |\n",
    "| std   | 1.262863       |\n",
    "| min   | 0.000000      |\n",
    "| 25%   | 0.000000       |\n",
    "| 50%   | 0.000000      |\n",
    "| 75%   | 1.000000       |\n",
    "| max   | 21.000000      |"
   ]
  },
  {
   "cell_type": "code",
   "execution_count": 32,
   "id": "b51ffc39",
   "metadata": {},
   "outputs": [
    {
     "data": {
      "text/plain": [
       "count    101766.000000\n",
       "mean          0.635566\n",
       "std           1.262863\n",
       "min           0.000000\n",
       "25%           0.000000\n",
       "50%           0.000000\n",
       "75%           1.000000\n",
       "max          21.000000\n",
       "Name: number_inpatient, dtype: float64"
      ]
     },
     "execution_count": 32,
     "metadata": {},
     "output_type": "execute_result"
    }
   ],
   "source": [
    "diabetes.number_inpatient.describe()"
   ]
  },
  {
   "cell_type": "markdown",
   "id": "0990c541",
   "metadata": {},
   "source": [
    "### number_diagnoses"
   ]
  },
  {
   "cell_type": "markdown",
   "id": "ac0a8568",
   "metadata": {},
   "source": [
    "|             | `number_diagnoses`     |\n",
    "| ----------- | ----------- |\n",
    "| count      | 101766.000000 |\n",
    "| mean   | 7.422607       |\n",
    "| std   | 1.933600       |\n",
    "| min   | 1.000000      |\n",
    "| 25%   | 6.000000       |\n",
    "| 50%   | 8.000000      |\n",
    "| 75%   | 9.000000       |\n",
    "| max   | 16.000000      |"
   ]
  },
  {
   "cell_type": "code",
   "execution_count": 36,
   "id": "ba3c182f",
   "metadata": {},
   "outputs": [
    {
     "data": {
      "text/plain": [
       "count    101766.000000\n",
       "mean          7.422607\n",
       "std           1.933600\n",
       "min           1.000000\n",
       "25%           6.000000\n",
       "50%           8.000000\n",
       "75%           9.000000\n",
       "max          16.000000\n",
       "Name: number_diagnoses, dtype: float64"
      ]
     },
     "execution_count": 36,
     "metadata": {},
     "output_type": "execute_result"
    }
   ],
   "source": [
    "diabetes.number_diagnoses.describe()"
   ]
  },
  {
   "cell_type": "markdown",
   "id": "b84ed836",
   "metadata": {},
   "source": [
    "### age"
   ]
  },
  {
   "cell_type": "markdown",
   "id": "1a8c97d5",
   "metadata": {},
   "source": [
    "|             | `age`     |\n",
    "| ----------- | ----------- |\n",
    "| count      | 101766 |\n",
    "| unique   | 10       |\n",
    "| top   | [70-80)       |\n",
    "| freq   | 26068      |\n"
   ]
  },
  {
   "cell_type": "code",
   "execution_count": 37,
   "id": "073b0dd1",
   "metadata": {},
   "outputs": [
    {
     "data": {
      "text/plain": [
       "count      101766\n",
       "unique         10\n",
       "top       [70-80)\n",
       "freq        26068\n",
       "Name: age, dtype: object"
      ]
     },
     "execution_count": 37,
     "metadata": {},
     "output_type": "execute_result"
    }
   ],
   "source": [
    "diabetes.age.describe()"
   ]
  },
  {
   "cell_type": "markdown",
   "id": "4bc9fbaf",
   "metadata": {},
   "source": [
    "### time_in_hospital"
   ]
  },
  {
   "cell_type": "markdown",
   "id": "7dbb5d0f",
   "metadata": {},
   "source": [
    "|             | `time_in_hospital`     |\n",
    "| ----------- | ----------- |\n",
    "| count      | 101766.000000 |\n",
    "| mean   | 7.422607       |\n",
    "| std   | 1.933600       |\n",
    "| min   | 1.000000      |\n",
    "| 25%   | 6.000000       |\n",
    "| 50%   | 8.000000      |\n",
    "| 75%   | 9.000000       |\n",
    "| max   | 16.000000      |"
   ]
  },
  {
   "cell_type": "code",
   "execution_count": 39,
   "id": "b5f603bd",
   "metadata": {},
   "outputs": [
    {
     "data": {
      "text/plain": [
       "count    101766.000000\n",
       "mean          4.395987\n",
       "std           2.985108\n",
       "min           1.000000\n",
       "25%           2.000000\n",
       "50%           4.000000\n",
       "75%           6.000000\n",
       "max          14.000000\n",
       "Name: time_in_hospital, dtype: float64"
      ]
     },
     "execution_count": 39,
     "metadata": {},
     "output_type": "execute_result"
    }
   ],
   "source": [
    "diabetes.time_in_hospital.describe()"
   ]
  },
  {
   "cell_type": "code",
   "execution_count": null,
   "id": "1c8d6a4a",
   "metadata": {},
   "outputs": [],
   "source": []
  },
  {
   "cell_type": "code",
   "execution_count": null,
   "id": "34807069",
   "metadata": {},
   "outputs": [],
   "source": []
  },
  {
   "cell_type": "code",
   "execution_count": null,
   "id": "7fc24846",
   "metadata": {},
   "outputs": [],
   "source": []
  },
  {
   "cell_type": "code",
   "execution_count": null,
   "id": "6c23e8e3",
   "metadata": {},
   "outputs": [],
   "source": []
  }
 ],
 "metadata": {
  "kernelspec": {
   "display_name": "Python 3 (ipykernel)",
   "language": "python",
   "name": "python3"
  },
  "language_info": {
   "codemirror_mode": {
    "name": "ipython",
    "version": 3
   },
   "file_extension": ".py",
   "mimetype": "text/x-python",
   "name": "python",
   "nbconvert_exporter": "python",
   "pygments_lexer": "ipython3",
   "version": "3.9.16"
  }
 },
 "nbformat": 4,
 "nbformat_minor": 5
}
