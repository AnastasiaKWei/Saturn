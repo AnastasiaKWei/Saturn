{
 "cells": [
  {
   "cell_type": "code",
   "execution_count": 1,
   "id": "74c224ac",
   "metadata": {},
   "outputs": [],
   "source": [
    "import pandas as pd\n",
    "import numpy as np"
   ]
  },
  {
   "cell_type": "code",
   "execution_count": 2,
   "id": "329f656c",
   "metadata": {},
   "outputs": [],
   "source": [
    "diabetes = pd.read_csv('diabetic_data.csv')"
   ]
  },
  {
   "cell_type": "markdown",
   "id": "3af22856",
   "metadata": {},
   "source": [
    "### Variables used in the analysis (to get distributions of)\n",
    "\n",
    "1. --change--\n",
    "2. --diabetesMed--\n",
    "3. num_lab_procedures\n",
    "4. num_procedures\n",
    "5. num_medications\n",
    "6. number_outpatient\n",
    "7. number_emergency\n",
    "8. number_inpatient\n",
    "9. number_diagnoses\n",
    "10. num_of_changes\n",
    "11. age\n",
    "12. time_in_hospital\n",
    "13. admission_type_id\n",
    "14. discharge_disposition_id\n",
    "15. admission_source_id\n",
    "16. --diag_1--\n",
    "17. --diag_2--"
   ]
  },
  {
   "cell_type": "markdown",
   "id": "67489e80",
   "metadata": {},
   "source": [
    "### change (categorical)"
   ]
  },
  {
   "cell_type": "markdown",
   "id": "f36877c0",
   "metadata": {},
   "source": [
    "\n",
    "|             | `change`     |\n",
    "| ----------- | ----------- |\n",
    "| Levels      | 2 (No, Change) |\n",
    "| Missing values   | 0        |\n",
    "| Number of unique values   | 2        |\n",
    "| Frequency at all levels   | {No : 54755, Change: 47011}   |"
   ]
  },
  {
   "cell_type": "code",
   "execution_count": 12,
   "id": "944cedfa",
   "metadata": {},
   "outputs": [
    {
     "data": {
      "text/plain": [
       "No    54755\n",
       "Ch    47011\n",
       "Name: change, dtype: int64"
      ]
     },
     "execution_count": 12,
     "metadata": {},
     "output_type": "execute_result"
    }
   ],
   "source": [
    "diabetes.change.value_counts()"
   ]
  },
  {
   "cell_type": "markdown",
   "id": "b348b9b2",
   "metadata": {},
   "source": [
    "### diabetesMed (categorical)"
   ]
  },
  {
   "cell_type": "markdown",
   "id": "042d206d",
   "metadata": {},
   "source": [
    "|             | `diabetesMed`     |\n",
    "| ----------- | ----------- |\n",
    "| Levels      | 2 (No, Yes) |\n",
    "| Missing values   | 0        |\n",
    "| Number of unique values   | 2        |\n",
    "| Frequency at all levels   | {No : 23403, Yes: 78363}   |"
   ]
  },
  {
   "cell_type": "code",
   "execution_count": 14,
   "id": "5ca0ba66",
   "metadata": {},
   "outputs": [
    {
     "data": {
      "text/plain": [
       "Yes    78363\n",
       "No     23403\n",
       "Name: diabetesMed, dtype: int64"
      ]
     },
     "execution_count": 14,
     "metadata": {},
     "output_type": "execute_result"
    }
   ],
   "source": [
    "diabetes.diabetesMed.value_counts()"
   ]
  },
  {
   "cell_type": "code",
   "execution_count": 15,
   "id": "8505ee49",
   "metadata": {},
   "outputs": [
    {
     "data": {
      "text/plain": [
       "0"
      ]
     },
     "execution_count": 15,
     "metadata": {},
     "output_type": "execute_result"
    }
   ],
   "source": [
    "diabetes.diabetesMed.isnull().sum()"
   ]
  },
  {
   "cell_type": "markdown",
   "id": "e277699b",
   "metadata": {},
   "source": [
    "### diag_1"
   ]
  },
  {
   "cell_type": "markdown",
   "id": "1287eddc",
   "metadata": {},
   "source": [
    "|             | `diag_1`     |\n",
    "| ----------- | ----------- |\n",
    "| Levels      | 101766 |\n",
    "| Missing values   | 0        |\n",
    "| Number of unique values   | 717        |\n",
    "| Frequency at all levels   | It depends on the level. There are so many levels that binning here is necessary to make this variable interpretable   |"
   ]
  },
  {
   "cell_type": "code",
   "execution_count": 21,
   "id": "bd9ac7e7",
   "metadata": {},
   "outputs": [
    {
     "data": {
      "text/plain": [
       "101766"
      ]
     },
     "execution_count": 21,
     "metadata": {},
     "output_type": "execute_result"
    }
   ],
   "source": [
    "diabetes.diag_1.value_counts().sum()"
   ]
  },
  {
   "cell_type": "code",
   "execution_count": 26,
   "id": "1d5acda4",
   "metadata": {},
   "outputs": [
    {
     "data": {
      "text/plain": [
       "717"
      ]
     },
     "execution_count": 26,
     "metadata": {},
     "output_type": "execute_result"
    }
   ],
   "source": [
    "vals = diabetes.diag_1.unique()\n",
    "len(vals)"
   ]
  },
  {
   "cell_type": "code",
   "execution_count": 20,
   "id": "4a2ba8b3",
   "metadata": {},
   "outputs": [
    {
     "data": {
      "text/plain": [
       "0"
      ]
     },
     "execution_count": 20,
     "metadata": {},
     "output_type": "execute_result"
    }
   ],
   "source": [
    "diabetes.diag_1.isnull().sum()"
   ]
  },
  {
   "cell_type": "markdown",
   "id": "56448ebb",
   "metadata": {},
   "source": [
    "### diag_2"
   ]
  },
  {
   "cell_type": "markdown",
   "id": "f19d8a07",
   "metadata": {},
   "source": [
    "|             | `diag_2`     |\n",
    "| ----------- | ----------- |\n",
    "| Levels      | 101766 |\n",
    "| Missing values   | 0        |\n",
    "| Number of unique values   | 749       |\n",
    "| Frequency at all levels   | It depends on the level. There are so many levels that binning here is necessary to make this variable interpretable   |"
   ]
  },
  {
   "cell_type": "code",
   "execution_count": 27,
   "id": "c5ad6842",
   "metadata": {},
   "outputs": [
    {
     "data": {
      "text/plain": [
       "101766"
      ]
     },
     "execution_count": 27,
     "metadata": {},
     "output_type": "execute_result"
    }
   ],
   "source": [
    "diabetes.diag_2.value_counts().sum()"
   ]
  },
  {
   "cell_type": "code",
   "execution_count": 28,
   "id": "562e0bcb",
   "metadata": {},
   "outputs": [
    {
     "data": {
      "text/plain": [
       "749"
      ]
     },
     "execution_count": 28,
     "metadata": {},
     "output_type": "execute_result"
    }
   ],
   "source": [
    "vals = diabetes.diag_2.unique()\n",
    "len(vals)"
   ]
  },
  {
   "cell_type": "code",
   "execution_count": 29,
   "id": "8ebe1574",
   "metadata": {},
   "outputs": [
    {
     "data": {
      "text/plain": [
       "0"
      ]
     },
     "execution_count": 29,
     "metadata": {},
     "output_type": "execute_result"
    }
   ],
   "source": [
    "diabetes.diag_2.isnull().sum()"
   ]
  },
  {
   "cell_type": "code",
   "execution_count": null,
   "id": "371825ff",
   "metadata": {},
   "outputs": [],
   "source": []
  }
 ],
 "metadata": {
  "kernelspec": {
   "display_name": "Python 3 (ipykernel)",
   "language": "python",
   "name": "python3"
  },
  "language_info": {
   "codemirror_mode": {
    "name": "ipython",
    "version": 3
   },
   "file_extension": ".py",
   "mimetype": "text/x-python",
   "name": "python",
   "nbconvert_exporter": "python",
   "pygments_lexer": "ipython3",
   "version": "3.9.16"
  }
 },
 "nbformat": 4,
 "nbformat_minor": 5
}
