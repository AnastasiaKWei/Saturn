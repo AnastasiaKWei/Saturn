{
 "cells": [
  {
   "cell_type": "code",
   "execution_count": 2,
   "metadata": {},
   "outputs": [],
   "source": [
    "import pandas as pd\n",
    "import numpy as np\n",
    "import seaborn as sns\n",
    "import matplotlib.pyplot as plt\n",
    "import statsmodels.formula.api as sm\n",
    "import random"
   ]
  },
  {
   "cell_type": "code",
   "execution_count": 11,
   "metadata": {},
   "outputs": [],
   "source": [
    "# Importing the test and train data (20/80 split), and the full dataset\n",
    "train = pd.read_csv('train.csv')\n",
    "test = pd.read_csv('test.csv')\n",
    "full_data = pd.read_csv('cleaned_data/diabetes_cleaned.csv')\n",
    "\n",
    "# Removing the first column\n",
    "train = train.iloc[:, 1:]\n",
    "test = test.iloc[:, 1:]\n",
    "full_data = full_data.iloc[:, 1:]"
   ]
  },
  {
   "cell_type": "code",
   "execution_count": 13,
   "metadata": {},
   "outputs": [],
   "source": [
    "# Following the method used in KEH_LTW modeling notebook to create a train dataset \n",
    "# that has an equal distribution of (0) and (1) response\n",
    "# 1. Determine the observations with (1) response. Let this be n observations.\n",
    "#   MODIFICATION: pull the (1) response from the full dataset to increase the number of observations\n",
    "# 2. Randomly sample n observations with (0) response, and combine in a new train dataset with (1) response observations.\n",
    "# 3. Randomly shuffle the new train dataset\n",
    "\n",
    "admitted = full_data.loc[full_data.readmitted == 1, :]\n",
    "n = admitted.shape[0]\n",
    "\n",
    "not_readmitted = full_data.loc[full_data.readmitted == 0, :].sample(n)\n",
    "\n",
    "train1 = pd.concat([admitted, not_readmitted])\n",
    "train1 = train1.sample(frac = 1)"
   ]
  },
  {
   "cell_type": "code",
   "execution_count": 15,
   "metadata": {},
   "outputs": [
    {
     "data": {
      "text/plain": [
       "1    6293\n",
       "0    6293\n",
       "Name: readmitted, dtype: int64"
      ]
     },
     "execution_count": 15,
     "metadata": {},
     "output_type": "execute_result"
    }
   ],
   "source": [
    "train1.readmitted.value_counts()"
   ]
  },
  {
   "attachments": {},
   "cell_type": "markdown",
   "metadata": {},
   "source": [
    "#### Summary of KEH LTW Modeling\n",
    "\n",
    "Variables that have a relationship with `readmitted`, from full dataset EDA:\n",
    "- `age`: as age increases, the proportion of individuals readmitted to the hospital increases. The number of observations overall increases. This trend persists until age 75, after which the number of hospital visits drop and the proportion of readmitted : not readmitted evens out. This variable is already binned by nature of our original dataset.\n",
    "    - -> because different age ranges have different distributions of readmitted : not readmitted, look into making each age bin its own predictor, if this isn't happening already\n",
    "- `time_in_hospital`: as time in hospital increases, the number of observations increase (up until 3 days), and then start to decrease. The ratio of readmitted : not readmitted gradually increases as `time_in_hospital` increases.\n",
    "    - -> the different distribution of readmittied: not readmitted at for each value of `time_in_hospital`. Similarly, look into making each day bin its own predictor, if it isn't already\n",
    "- `num_of_changes`: there doesn't seem to be much difference \n",
    "- `number_inpatient`: large difference!\n",
    "\n",
    "Interactions\n",
    "- as `age` increases, the `time_in_hospital` increases\n",
    "- as `time_in_hospital` increases, the `um_of_changes` also increases\n",
    "\n",
    "Models\n",
    "1. `readmitted ~ time_in_hospital*age + num_of_changes + number_inpatient`\n",
    "2. `readmitted ~ num_of_changes*time_in_hospital + number_inpatient + age`\n",
    "3. `readmitted ~ num_of_changes*time_in_hospital + age*time_in_hospital + number_inpatient`"
   ]
  },
  {
   "attachments": {},
   "cell_type": "markdown",
   "metadata": {},
   "source": [
    "Thoughts\n",
    "- More variable selection\n",
    "    - diag_1, diag_2, diag_3\n",
    "    - num_medications\n",
    "    - num_lab_procedures\n",
    "- Make the bins in `age` and `time_in_hospital` their own predictors\n",
    "- Evaluate performance of the existing KEH-LTW models with k-fold cross-validation\n",
    "- Look to see if there are other interactions or transformations"
   ]
  }
 ],
 "metadata": {
  "kernelspec": {
   "display_name": "base",
   "language": "python",
   "name": "python3"
  },
  "language_info": {
   "codemirror_mode": {
    "name": "ipython",
    "version": 3
   },
   "file_extension": ".py",
   "mimetype": "text/x-python",
   "name": "python",
   "nbconvert_exporter": "python",
   "pygments_lexer": "ipython3",
   "version": "3.9.12"
  },
  "orig_nbformat": 4,
  "vscode": {
   "interpreter": {
    "hash": "44200ac29b99d68672da01cb17c5cd5c87da5f7d45953e51b866c7f246bda33e"
   }
  }
 },
 "nbformat": 4,
 "nbformat_minor": 2
}
