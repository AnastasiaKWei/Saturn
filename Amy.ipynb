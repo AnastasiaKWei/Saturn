{
 "cells": [
  {
   "cell_type": "code",
   "execution_count": 2,
   "metadata": {},
   "outputs": [],
   "source": [
    "import pandas as pd\n",
    "import numpy as np\n",
    "import seaborn as sns\n",
    "import matplotlib.pyplot as plt\n",
    "import statsmodels.formula.api as sm\n",
    "import random"
   ]
  },
  {
   "cell_type": "code",
   "execution_count": 3,
   "metadata": {},
   "outputs": [],
   "source": [
    "# Importing the test and train data (20/80 split), and the full dataset\n",
    "train = pd.read_csv('train.csv')\n",
    "test = pd.read_csv('test.csv')\n",
    "full_data = pd.read_csv('cleaned_data/diabetes_cleaned.csv')\n",
    "\n",
    "# Removing the first column\n",
    "train = train.iloc[:, 1:]\n",
    "test = test.iloc[:, 1:]\n",
    "full_data = full_data.iloc[:, 1:]"
   ]
  },
  {
   "cell_type": "code",
   "execution_count": 4,
   "metadata": {},
   "outputs": [],
   "source": [
    "# Following the method used in KEH_LTW modeling notebook to create a train dataset \n",
    "# that has an equal distribution of (0) and (1) response\n",
    "# 1. Determine the observations with (1) response. Let this be n observations.\n",
    "#   MODIFICATION: pull the (1) response from the full dataset to increase the number of observations\n",
    "# 2. Randomly sample n observations with (0) response, and combine in a new train dataset with (1) response observations.\n",
    "# 3. Randomly shuffle the new train dataset\n",
    "\n",
    "admitted = full_data.loc[full_data.readmitted == 1, :]\n",
    "n = admitted.shape[0]\n",
    "\n",
    "not_readmitted = full_data.loc[full_data.readmitted == 0, :].sample(n)\n",
    "\n",
    "train1 = pd.concat([admitted, not_readmitted])\n",
    "train1 = train1.sample(frac = 1)"
   ]
  },
  {
   "cell_type": "code",
   "execution_count": 5,
   "metadata": {},
   "outputs": [
    {
     "data": {
      "text/plain": [
       "1    6293\n",
       "0    6293\n",
       "Name: readmitted, dtype: int64"
      ]
     },
     "execution_count": 5,
     "metadata": {},
     "output_type": "execute_result"
    }
   ],
   "source": [
    "train1.readmitted.value_counts()"
   ]
  },
  {
   "attachments": {},
   "cell_type": "markdown",
   "metadata": {},
   "source": [
    "#### Summary of KEH LTW Modeling\n",
    "\n",
    "Variables that have a relationship with `readmitted`, from full dataset EDA:\n",
    "- `age`: as age increases, the proportion of individuals readmitted to the hospital increases. The number of observations overall increases. This trend persists until age 75, after which the number of hospital visits drop and the proportion of readmitted : not readmitted evens out. This variable is already binned by nature of our original dataset.\n",
    "    - -> because different age ranges have different distributions of readmitted : not readmitted, look into making each age bin its own predictor, if this isn't happening already\n",
    "- `time_in_hospital`: as time in hospital increases, the number of observations increase (up until 3 days), and then start to decrease. The ratio of readmitted : not readmitted gradually increases as `time_in_hospital` increases.\n",
    "    - -> the different distribution of readmittied: not readmitted at for each value of `time_in_hospital`. Similarly, look into making each day bin its own predictor, if it isn't already\n",
    "- `num_of_changes`: there doesn't seem to be much difference \n",
    "- `number_inpatient`: large difference!\n",
    "\n",
    "Interactions\n",
    "- as `age` increases, the `time_in_hospital` increases\n",
    "- as `time_in_hospital` increases, the `um_of_changes` also increases\n",
    "\n",
    "Models\n",
    "1. `readmitted ~ time_in_hospital*age + num_of_changes + number_inpatient`\n",
    "2. `readmitted ~ num_of_changes*time_in_hospital + number_inpatient + age`\n",
    "3. `readmitted ~ num_of_changes*time_in_hospital + age*time_in_hospital + number_inpatient`"
   ]
  },
  {
   "attachments": {},
   "cell_type": "markdown",
   "metadata": {},
   "source": [
    "Thoughts\n",
    "- More variable selection\n",
    "    - diag_1, diag_2, diag_3\n",
    "    - num_medications\n",
    "    - num_lab_procedures\n",
    "- Make the bins in `age` and `time_in_hospital` their own predictors\n",
    "- Evaluate performance of the existing KEH-LTW models with k-fold cross-validation\n",
    "- Look to see if there are other interactions or transformations"
   ]
  },
  {
   "cell_type": "code",
   "execution_count": 6,
   "metadata": {},
   "outputs": [
    {
     "data": {
      "text/plain": [
       "Text(0.5, 0, 'age')"
      ]
     },
     "execution_count": 6,
     "metadata": {},
     "output_type": "execute_result"
    },
    {
     "data": {
      "image/png": "[encoded data removed]",
      "text/plain": [
       "<Figure size 432x288 with 1 Axes>"
      ]
     },
     "metadata": {
      "needs_background": "light"
     },
     "output_type": "display_data"
    }
   ],
   "source": [
    "#Re-creating the plot of diabetes_percent vs age created earlier, just to check if the function binned age correctly. Yes, it did.\n",
    "age_data = train1.groupby('age')['readmitted'].agg([('readmitted_percent','mean'),('nobs','count')]).reset_index(drop=False)\n",
    "sns.lineplot(x = age_data.index, y= age_data['readmitted_percent'])\n",
    "plt.xlabel('age')"
   ]
  },
  {
   "cell_type": "code",
   "execution_count": 7,
   "metadata": {},
   "outputs": [
    {
     "data": {
      "text/plain": [
       "Text(0.5, 0, 'time_in_hospital')"
      ]
     },
     "execution_count": 7,
     "metadata": {},
     "output_type": "execute_result"
    },
    {
     "data": {
      "image/png": "[encoded data removed]",
      "text/plain": [
       "<Figure size 432x288 with 1 Axes>"
      ]
     },
     "metadata": {
      "needs_background": "light"
     },
     "output_type": "display_data"
    }
   ],
   "source": [
    "#Re-creating the plot of diabetes_percent vs age created earlier, just to check if the function binned age correctly. Yes, it did.\n",
    "time_data = train1.groupby('time_in_hospital')['readmitted'].agg([('readmitted_percent','mean'),('nobs','count')]).reset_index(drop=False)\n",
    "sns.lineplot(x = time_data.index, y= time_data['readmitted_percent'])\n",
    "plt.xlabel('time_in_hospital')"
   ]
  },
  {
   "attachments": {},
   "cell_type": "markdown",
   "metadata": {},
   "source": [
    "#### KEH_LTW function for calculating confusion matrix and other evaluation statistics"
   ]
  },
  {
   "cell_type": "code",
   "execution_count": 8,
   "metadata": {},
   "outputs": [],
   "source": [
    "from sklearn.metrics import roc_curve, auc\n",
    "\n",
    "#Function to compute confusion matrix and prediction accuracy on test/train data\n",
    "def confusion_matrix_data(data,actual_values,model,cutoff=0.5):\n",
    "#Predict the values using the Logit model\n",
    "    pred_values = model.predict(data)\n",
    "# Specify the bins\n",
    "    bins=np.array([0,cutoff,1])\n",
    "#Confusion matrix\n",
    "    cm = np.histogram2d(actual_values, pred_values, bins=bins)[0]\n",
    "    cm_df = pd.DataFrame(cm)\n",
    "    cm_df.columns = ['Predicted 0','Predicted 1']\n",
    "    cm_df = cm_df.rename(index={0: 'Actual 0',1:'Actual 1'})\n",
    "# Calculate the accuracy\n",
    "    accuracy = (cm[0,0]+cm[1,1])/cm.sum()\n",
    "    fnr = (cm[1,0])/(cm[1,0]+cm[1,1])\n",
    "    precision = (cm[1,1])/(cm[0,1]+cm[1,1])\n",
    "    fpr = (cm[0,1])/(cm[0,0]+cm[0,1])\n",
    "    tpr = (cm[1,1])/(cm[1,0]+cm[1,1])\n",
    "    fpr_roc, tpr_roc, auc_thresholds = roc_curve(actual_values, pred_values)\n",
    "    auc_value = (auc(fpr_roc, tpr_roc))# AUC of ROC\n",
    "    sns.heatmap(cm_df, annot=True, cmap='Blues', fmt='g')\n",
    "    plt.ylabel(\"Actual Values\")\n",
    "    plt.xlabel(\"Predicted Values\")\n",
    "    print(\"Classification accuracy = {:.1%}\".format(accuracy))\n",
    "    print(\"Precision = {:.1%}\".format(precision))\n",
    "    print(\"TPR or Recall = {:.1%}\".format(tpr))\n",
    "    print(\"FNR = {:.1%}\".format(fnr))\n",
    "    print(\"FPR = {:.1%}\".format(fpr))\n",
    "    print(\"ROC-AUC = {:.1%}\".format(auc_value))"
   ]
  },
  {
   "attachments": {},
   "cell_type": "markdown",
   "metadata": {},
   "source": [
    "#### Creating a dataframe containing dummy variables for all binned variables"
   ]
  },
  {
   "cell_type": "code",
   "execution_count": 141,
   "metadata": {},
   "outputs": [
    {
     "data": {
      "text/plain": [
       "Index(['encounter_id', 'patient_nbr', 'race', 'gender', 'age',\n",
       "       'admission_type_id', 'discharge_disposition_id', 'admission_source_id',\n",
       "       'time_in_hospital', 'payer_code', 'num_lab_procedures',\n",
       "       'num_procedures', 'num_medications', 'number_outpatient',\n",
       "       'number_emergency', 'number_inpatient', 'diag_1', 'diag_2', 'diag_3',\n",
       "       'number_diagnoses', 'max_glu_serum', 'A1Cresult', 'metformin',\n",
       "       'repaglinide', 'nateglinide', 'chlorpropamide', 'glimepiride',\n",
       "       'acetohexamide', 'glipizide', 'glyburide', 'tolbutamide',\n",
       "       'pioglitazone', 'rosiglitazone', 'acarbose', 'miglitol', 'troglitazone',\n",
       "       'tolazamide', 'examide', 'citoglipton', 'insulin',\n",
       "       'glyburide-metformin', 'glipizide-metformin',\n",
       "       'glimepiride-pioglitazone', 'metformin-rosiglitazone',\n",
       "       'metformin-pioglitazone', 'change', 'diabetesMed', 'readmitted',\n",
       "       'num_of_changes', 'age5', 'age15', 'age25', 'age35', 'age45', 'age55',\n",
       "       'age65', 'age75', 'age85', 'age95', 'time_in_hospital1',\n",
       "       'time_in_hospital2', 'time_in_hospital3', 'time_in_hospital4',\n",
       "       'time_in_hospital5', 'time_in_hospital6', 'time_in_hospital7',\n",
       "       'time_in_hospital8', 'time_in_hospital9', 'time_in_hospital10',\n",
       "       'time_in_hospital11', 'time_in_hospital12', 'time_in_hospital13',\n",
       "       'time_in_hospital14', 'admission_type_id1', 'admission_type_id3',\n",
       "       'admission_type_id4', 'admission_type_id5', 'discharge_disposition_id1',\n",
       "       'discharge_disposition_id2', 'discharge_disposition_id7',\n",
       "       'discharge_disposition_id10', 'discharge_disposition_id11',\n",
       "       'discharge_disposition_id18', 'discharge_disposition_id27',\n",
       "       'discharge_disposition_id28', 'admission_source_id1',\n",
       "       'admission_source_id4', 'admission_source_id7', 'admission_source_id8',\n",
       "       'admission_source_id9'],\n",
       "      dtype='object')"
      ]
     },
     "execution_count": 141,
     "metadata": {},
     "output_type": "execute_result"
    }
   ],
   "source": [
    "dummy_preds = [\"age\", \"time_in_hospital\", \"admission_type_id\", \"discharge_disposition_id\", \"admission_source_id\"]\n",
    "train1_dummy = train1.copy()\n",
    "test_dummy = test.copy()\n",
    "vars = []\n",
    "\n",
    "for pred in dummy_preds:\n",
    "    dummy_train = pd.get_dummies(train1.loc[:, pred])\n",
    "    dummy_train.columns = [pred + str(x) for x in dummy_train.columns]\n",
    "    train1_dummy = pd.concat([train1_dummy, dummy_train], axis=1)\n",
    "    vars.append(list(dummy_train.columns))\n",
    "    \n",
    "    dummy_test = pd.get_dummies(test.loc[:, pred])\n",
    "    dummy_test.columns = [pred + str(x) for x in dummy_test.columns]\n",
    "    test_dummy = pd.concat([test_dummy, dummy_test], axis=1)\n",
    "    \n",
    "\n",
    "train1_dummy.columns"
   ]
  },
  {
   "cell_type": "code",
   "execution_count": 173,
   "metadata": {},
   "outputs": [
    {
     "data": {
      "text/plain": [
       "discharge_disposition_id1    -0.144392\n",
       "discharge_disposition_id11   -0.100156\n",
       "encounter_id                 -0.084463\n",
       "time_in_hospital1            -0.077951\n",
       "time_in_hospital2            -0.050400\n",
       "age55                        -0.050108\n",
       "age45                        -0.039584\n",
       "age15                        -0.026323\n",
       "age35                        -0.025663\n",
       "age5                         -0.020726\n",
       "admission_source_id4         -0.017522\n",
       "admission_type_id3           -0.016670\n",
       "age25                        -0.013791\n",
       "time_in_hospital3            -0.012762\n",
       "discharge_disposition_id27   -0.012607\n",
       "admission_source_id1         -0.004273\n",
       "age95                        -0.001960\n",
       "admission_type_id            -0.001907\n",
       "discharge_disposition_id18   -0.000373\n",
       "admission_source_id9         -0.000308\n",
       "time_in_hospital4            -0.000234\n",
       "num_procedures                0.002516\n",
       "age65                         0.006116\n",
       "discharge_disposition_id7     0.006321\n",
       "admission_type_id5            0.007978\n",
       "admission_type_id1            0.008472\n",
       "admission_source_id           0.008668\n",
       "admission_source_id8          0.008914\n",
       "admission_type_id4            0.008914\n",
       "discharge_disposition_id      0.009167\n",
       "time_in_hospital11            0.010424\n",
       "time_in_hospital13            0.011168\n",
       "admission_source_id7          0.012919\n",
       "time_in_hospital14            0.014988\n",
       "patient_nbr                   0.015369\n",
       "time_in_hospital5             0.022232\n",
       "time_in_hospital7             0.025140\n",
       "number_outpatient             0.025619\n",
       "time_in_hospital12            0.026200\n",
       "time_in_hospital10            0.026875\n",
       "discharge_disposition_id10    0.030433\n",
       "discharge_disposition_id28    0.035739\n",
       "num_of_changes                0.036824\n",
       "time_in_hospital6             0.037116\n",
       "age85                         0.038370\n",
       "time_in_hospital8             0.041757\n",
       "time_in_hospital9             0.043237\n",
       "age75                         0.049700\n",
       "num_lab_procedures            0.059990\n",
       "number_emergency              0.063229\n",
       "num_medications               0.075591\n",
       "age                           0.080792\n",
       "number_diagnoses              0.085362\n",
       "time_in_hospital              0.108647\n",
       "number_inpatient              0.137631\n",
       "discharge_disposition_id2     0.170392\n",
       "readmitted                    1.000000\n",
       "dtype: float64"
      ]
     },
     "execution_count": 173,
     "metadata": {},
     "output_type": "execute_result"
    }
   ],
   "source": [
    "train1_dummy.corrwith(train1_dummy.readmitted).sort_values()"
   ]
  },
  {
   "cell_type": "code",
   "execution_count": 180,
   "metadata": {},
   "outputs": [
    {
     "data": {
      "text/html": [
       "<div>\n",
       "<style scoped>\n",
       "    .dataframe tbody tr th:only-of-type {\n",
       "        vertical-align: middle;\n",
       "    }\n",
       "\n",
       "    .dataframe tbody tr th {\n",
       "        vertical-align: top;\n",
       "    }\n",
       "\n",
       "    .dataframe thead th {\n",
       "        text-align: right;\n",
       "    }\n",
       "</style>\n",
       "<table border=\"1\" class=\"dataframe\">\n",
       "  <thead>\n",
       "    <tr style=\"text-align: right;\">\n",
       "      <th></th>\n",
       "      <th>time_in_hospital1</th>\n",
       "      <th>time_in_hospital2</th>\n",
       "      <th>time_in_hospital3</th>\n",
       "      <th>time_in_hospital4</th>\n",
       "      <th>time_in_hospital5</th>\n",
       "      <th>time_in_hospital6</th>\n",
       "      <th>time_in_hospital7</th>\n",
       "      <th>time_in_hospital8</th>\n",
       "      <th>time_in_hospital9</th>\n",
       "      <th>time_in_hospital10</th>\n",
       "      <th>time_in_hospital11</th>\n",
       "      <th>time_in_hospital12</th>\n",
       "      <th>time_in_hospital13</th>\n",
       "      <th>time_in_hospital14</th>\n",
       "    </tr>\n",
       "  </thead>\n",
       "  <tbody>\n",
       "    <tr>\n",
       "      <th>time_in_hospital1</th>\n",
       "      <td>1.000000</td>\n",
       "      <td>-0.177884</td>\n",
       "      <td>-0.177833</td>\n",
       "      <td>-0.155148</td>\n",
       "      <td>-0.130233</td>\n",
       "      <td>-0.114953</td>\n",
       "      <td>-0.104471</td>\n",
       "      <td>-0.087799</td>\n",
       "      <td>-0.069821</td>\n",
       "      <td>-0.063693</td>\n",
       "      <td>-0.052238</td>\n",
       "      <td>-0.048795</td>\n",
       "      <td>-0.042779</td>\n",
       "      <td>-0.040323</td>\n",
       "    </tr>\n",
       "    <tr>\n",
       "      <th>time_in_hospital2</th>\n",
       "      <td>-0.177884</td>\n",
       "      <td>1.000000</td>\n",
       "      <td>-0.201470</td>\n",
       "      <td>-0.175769</td>\n",
       "      <td>-0.147543</td>\n",
       "      <td>-0.130232</td>\n",
       "      <td>-0.118357</td>\n",
       "      <td>-0.099469</td>\n",
       "      <td>-0.079101</td>\n",
       "      <td>-0.072159</td>\n",
       "      <td>-0.059181</td>\n",
       "      <td>-0.055280</td>\n",
       "      <td>-0.048464</td>\n",
       "      <td>-0.045683</td>\n",
       "    </tr>\n",
       "    <tr>\n",
       "      <th>time_in_hospital3</th>\n",
       "      <td>-0.177833</td>\n",
       "      <td>-0.201470</td>\n",
       "      <td>1.000000</td>\n",
       "      <td>-0.175719</td>\n",
       "      <td>-0.147501</td>\n",
       "      <td>-0.130195</td>\n",
       "      <td>-0.118323</td>\n",
       "      <td>-0.099441</td>\n",
       "      <td>-0.079079</td>\n",
       "      <td>-0.072139</td>\n",
       "      <td>-0.059164</td>\n",
       "      <td>-0.055265</td>\n",
       "      <td>-0.048451</td>\n",
       "      <td>-0.045670</td>\n",
       "    </tr>\n",
       "    <tr>\n",
       "      <th>time_in_hospital4</th>\n",
       "      <td>-0.155148</td>\n",
       "      <td>-0.175769</td>\n",
       "      <td>-0.175719</td>\n",
       "      <td>1.000000</td>\n",
       "      <td>-0.128685</td>\n",
       "      <td>-0.113586</td>\n",
       "      <td>-0.103229</td>\n",
       "      <td>-0.086756</td>\n",
       "      <td>-0.068991</td>\n",
       "      <td>-0.062936</td>\n",
       "      <td>-0.051617</td>\n",
       "      <td>-0.048215</td>\n",
       "      <td>-0.042270</td>\n",
       "      <td>-0.039844</td>\n",
       "    </tr>\n",
       "    <tr>\n",
       "      <th>time_in_hospital5</th>\n",
       "      <td>-0.130233</td>\n",
       "      <td>-0.147543</td>\n",
       "      <td>-0.147501</td>\n",
       "      <td>-0.128685</td>\n",
       "      <td>1.000000</td>\n",
       "      <td>-0.095346</td>\n",
       "      <td>-0.086652</td>\n",
       "      <td>-0.072824</td>\n",
       "      <td>-0.057912</td>\n",
       "      <td>-0.052830</td>\n",
       "      <td>-0.043328</td>\n",
       "      <td>-0.040472</td>\n",
       "      <td>-0.035482</td>\n",
       "      <td>-0.033446</td>\n",
       "    </tr>\n",
       "    <tr>\n",
       "      <th>time_in_hospital6</th>\n",
       "      <td>-0.114953</td>\n",
       "      <td>-0.130232</td>\n",
       "      <td>-0.130195</td>\n",
       "      <td>-0.113586</td>\n",
       "      <td>-0.095346</td>\n",
       "      <td>1.000000</td>\n",
       "      <td>-0.076485</td>\n",
       "      <td>-0.064279</td>\n",
       "      <td>-0.051117</td>\n",
       "      <td>-0.046631</td>\n",
       "      <td>-0.038244</td>\n",
       "      <td>-0.035723</td>\n",
       "      <td>-0.031319</td>\n",
       "      <td>-0.029521</td>\n",
       "    </tr>\n",
       "    <tr>\n",
       "      <th>time_in_hospital7</th>\n",
       "      <td>-0.104471</td>\n",
       "      <td>-0.118357</td>\n",
       "      <td>-0.118323</td>\n",
       "      <td>-0.103229</td>\n",
       "      <td>-0.086652</td>\n",
       "      <td>-0.076485</td>\n",
       "      <td>1.000000</td>\n",
       "      <td>-0.058418</td>\n",
       "      <td>-0.046456</td>\n",
       "      <td>-0.042379</td>\n",
       "      <td>-0.034757</td>\n",
       "      <td>-0.032466</td>\n",
       "      <td>-0.028463</td>\n",
       "      <td>-0.026830</td>\n",
       "    </tr>\n",
       "    <tr>\n",
       "      <th>time_in_hospital8</th>\n",
       "      <td>-0.087799</td>\n",
       "      <td>-0.099469</td>\n",
       "      <td>-0.099441</td>\n",
       "      <td>-0.086756</td>\n",
       "      <td>-0.072824</td>\n",
       "      <td>-0.064279</td>\n",
       "      <td>-0.058418</td>\n",
       "      <td>1.000000</td>\n",
       "      <td>-0.039042</td>\n",
       "      <td>-0.035616</td>\n",
       "      <td>-0.029210</td>\n",
       "      <td>-0.027285</td>\n",
       "      <td>-0.023921</td>\n",
       "      <td>-0.022548</td>\n",
       "    </tr>\n",
       "    <tr>\n",
       "      <th>time_in_hospital9</th>\n",
       "      <td>-0.069821</td>\n",
       "      <td>-0.079101</td>\n",
       "      <td>-0.079079</td>\n",
       "      <td>-0.068991</td>\n",
       "      <td>-0.057912</td>\n",
       "      <td>-0.051117</td>\n",
       "      <td>-0.046456</td>\n",
       "      <td>-0.039042</td>\n",
       "      <td>1.000000</td>\n",
       "      <td>-0.028323</td>\n",
       "      <td>-0.023229</td>\n",
       "      <td>-0.021698</td>\n",
       "      <td>-0.019023</td>\n",
       "      <td>-0.017931</td>\n",
       "    </tr>\n",
       "    <tr>\n",
       "      <th>time_in_hospital10</th>\n",
       "      <td>-0.063693</td>\n",
       "      <td>-0.072159</td>\n",
       "      <td>-0.072139</td>\n",
       "      <td>-0.062936</td>\n",
       "      <td>-0.052830</td>\n",
       "      <td>-0.046631</td>\n",
       "      <td>-0.042379</td>\n",
       "      <td>-0.035616</td>\n",
       "      <td>-0.028323</td>\n",
       "      <td>1.000000</td>\n",
       "      <td>-0.021191</td>\n",
       "      <td>-0.019794</td>\n",
       "      <td>-0.017353</td>\n",
       "      <td>-0.016357</td>\n",
       "    </tr>\n",
       "    <tr>\n",
       "      <th>time_in_hospital11</th>\n",
       "      <td>-0.052238</td>\n",
       "      <td>-0.059181</td>\n",
       "      <td>-0.059164</td>\n",
       "      <td>-0.051617</td>\n",
       "      <td>-0.043328</td>\n",
       "      <td>-0.038244</td>\n",
       "      <td>-0.034757</td>\n",
       "      <td>-0.029210</td>\n",
       "      <td>-0.023229</td>\n",
       "      <td>-0.021191</td>\n",
       "      <td>1.000000</td>\n",
       "      <td>-0.016234</td>\n",
       "      <td>-0.014232</td>\n",
       "      <td>-0.013415</td>\n",
       "    </tr>\n",
       "    <tr>\n",
       "      <th>time_in_hospital12</th>\n",
       "      <td>-0.048795</td>\n",
       "      <td>-0.055280</td>\n",
       "      <td>-0.055265</td>\n",
       "      <td>-0.048215</td>\n",
       "      <td>-0.040472</td>\n",
       "      <td>-0.035723</td>\n",
       "      <td>-0.032466</td>\n",
       "      <td>-0.027285</td>\n",
       "      <td>-0.021698</td>\n",
       "      <td>-0.019794</td>\n",
       "      <td>-0.016234</td>\n",
       "      <td>1.000000</td>\n",
       "      <td>-0.013294</td>\n",
       "      <td>-0.012531</td>\n",
       "    </tr>\n",
       "    <tr>\n",
       "      <th>time_in_hospital13</th>\n",
       "      <td>-0.042779</td>\n",
       "      <td>-0.048464</td>\n",
       "      <td>-0.048451</td>\n",
       "      <td>-0.042270</td>\n",
       "      <td>-0.035482</td>\n",
       "      <td>-0.031319</td>\n",
       "      <td>-0.028463</td>\n",
       "      <td>-0.023921</td>\n",
       "      <td>-0.019023</td>\n",
       "      <td>-0.017353</td>\n",
       "      <td>-0.014232</td>\n",
       "      <td>-0.013294</td>\n",
       "      <td>1.000000</td>\n",
       "      <td>-0.010986</td>\n",
       "    </tr>\n",
       "    <tr>\n",
       "      <th>time_in_hospital14</th>\n",
       "      <td>-0.040323</td>\n",
       "      <td>-0.045683</td>\n",
       "      <td>-0.045670</td>\n",
       "      <td>-0.039844</td>\n",
       "      <td>-0.033446</td>\n",
       "      <td>-0.029521</td>\n",
       "      <td>-0.026830</td>\n",
       "      <td>-0.022548</td>\n",
       "      <td>-0.017931</td>\n",
       "      <td>-0.016357</td>\n",
       "      <td>-0.013415</td>\n",
       "      <td>-0.012531</td>\n",
       "      <td>-0.010986</td>\n",
       "      <td>1.000000</td>\n",
       "    </tr>\n",
       "  </tbody>\n",
       "</table>\n",
       "</div>"
      ],
      "text/plain": [
       "                    time_in_hospital1  time_in_hospital2  time_in_hospital3  \\\n",
       "time_in_hospital1            1.000000          -0.177884          -0.177833   \n",
       "time_in_hospital2           -0.177884           1.000000          -0.201470   \n",
       "time_in_hospital3           -0.177833          -0.201470           1.000000   \n",
       "time_in_hospital4           -0.155148          -0.175769          -0.175719   \n",
       "time_in_hospital5           -0.130233          -0.147543          -0.147501   \n",
       "time_in_hospital6           -0.114953          -0.130232          -0.130195   \n",
       "time_in_hospital7           -0.104471          -0.118357          -0.118323   \n",
       "time_in_hospital8           -0.087799          -0.099469          -0.099441   \n",
       "time_in_hospital9           -0.069821          -0.079101          -0.079079   \n",
       "time_in_hospital10          -0.063693          -0.072159          -0.072139   \n",
       "time_in_hospital11          -0.052238          -0.059181          -0.059164   \n",
       "time_in_hospital12          -0.048795          -0.055280          -0.055265   \n",
       "time_in_hospital13          -0.042779          -0.048464          -0.048451   \n",
       "time_in_hospital14          -0.040323          -0.045683          -0.045670   \n",
       "\n",
       "                    time_in_hospital4  time_in_hospital5  time_in_hospital6  \\\n",
       "time_in_hospital1           -0.155148          -0.130233          -0.114953   \n",
       "time_in_hospital2           -0.175769          -0.147543          -0.130232   \n",
       "time_in_hospital3           -0.175719          -0.147501          -0.130195   \n",
       "time_in_hospital4            1.000000          -0.128685          -0.113586   \n",
       "time_in_hospital5           -0.128685           1.000000          -0.095346   \n",
       "time_in_hospital6           -0.113586          -0.095346           1.000000   \n",
       "time_in_hospital7           -0.103229          -0.086652          -0.076485   \n",
       "time_in_hospital8           -0.086756          -0.072824          -0.064279   \n",
       "time_in_hospital9           -0.068991          -0.057912          -0.051117   \n",
       "time_in_hospital10          -0.062936          -0.052830          -0.046631   \n",
       "time_in_hospital11          -0.051617          -0.043328          -0.038244   \n",
       "time_in_hospital12          -0.048215          -0.040472          -0.035723   \n",
       "time_in_hospital13          -0.042270          -0.035482          -0.031319   \n",
       "time_in_hospital14          -0.039844          -0.033446          -0.029521   \n",
       "\n",
       "                    time_in_hospital7  time_in_hospital8  time_in_hospital9  \\\n",
       "time_in_hospital1           -0.104471          -0.087799          -0.069821   \n",
       "time_in_hospital2           -0.118357          -0.099469          -0.079101   \n",
       "time_in_hospital3           -0.118323          -0.099441          -0.079079   \n",
       "time_in_hospital4           -0.103229          -0.086756          -0.068991   \n",
       "time_in_hospital5           -0.086652          -0.072824          -0.057912   \n",
       "time_in_hospital6           -0.076485          -0.064279          -0.051117   \n",
       "time_in_hospital7            1.000000          -0.058418          -0.046456   \n",
       "time_in_hospital8           -0.058418           1.000000          -0.039042   \n",
       "time_in_hospital9           -0.046456          -0.039042           1.000000   \n",
       "time_in_hospital10          -0.042379          -0.035616          -0.028323   \n",
       "time_in_hospital11          -0.034757          -0.029210          -0.023229   \n",
       "time_in_hospital12          -0.032466          -0.027285          -0.021698   \n",
       "time_in_hospital13          -0.028463          -0.023921          -0.019023   \n",
       "time_in_hospital14          -0.026830          -0.022548          -0.017931   \n",
       "\n",
       "                    time_in_hospital10  time_in_hospital11  \\\n",
       "time_in_hospital1            -0.063693           -0.052238   \n",
       "time_in_hospital2            -0.072159           -0.059181   \n",
       "time_in_hospital3            -0.072139           -0.059164   \n",
       "time_in_hospital4            -0.062936           -0.051617   \n",
       "time_in_hospital5            -0.052830           -0.043328   \n",
       "time_in_hospital6            -0.046631           -0.038244   \n",
       "time_in_hospital7            -0.042379           -0.034757   \n",
       "time_in_hospital8            -0.035616           -0.029210   \n",
       "time_in_hospital9            -0.028323           -0.023229   \n",
       "time_in_hospital10            1.000000           -0.021191   \n",
       "time_in_hospital11           -0.021191            1.000000   \n",
       "time_in_hospital12           -0.019794           -0.016234   \n",
       "time_in_hospital13           -0.017353           -0.014232   \n",
       "time_in_hospital14           -0.016357           -0.013415   \n",
       "\n",
       "                    time_in_hospital12  time_in_hospital13  time_in_hospital14  \n",
       "time_in_hospital1            -0.048795           -0.042779           -0.040323  \n",
       "time_in_hospital2            -0.055280           -0.048464           -0.045683  \n",
       "time_in_hospital3            -0.055265           -0.048451           -0.045670  \n",
       "time_in_hospital4            -0.048215           -0.042270           -0.039844  \n",
       "time_in_hospital5            -0.040472           -0.035482           -0.033446  \n",
       "time_in_hospital6            -0.035723           -0.031319           -0.029521  \n",
       "time_in_hospital7            -0.032466           -0.028463           -0.026830  \n",
       "time_in_hospital8            -0.027285           -0.023921           -0.022548  \n",
       "time_in_hospital9            -0.021698           -0.019023           -0.017931  \n",
       "time_in_hospital10           -0.019794           -0.017353           -0.016357  \n",
       "time_in_hospital11           -0.016234           -0.014232           -0.013415  \n",
       "time_in_hospital12            1.000000           -0.013294           -0.012531  \n",
       "time_in_hospital13           -0.013294            1.000000           -0.010986  \n",
       "time_in_hospital14           -0.012531           -0.010986            1.000000  "
      ]
     },
     "execution_count": 180,
     "metadata": {},
     "output_type": "execute_result"
    }
   ],
   "source": [
    "corr_table = train1_dummy.corr()\n",
    "corr_table.iloc[26:40, 26:40]"
   ]
  },
  {
   "attachments": {},
   "cell_type": "markdown",
   "metadata": {},
   "source": [
    "#### Inspecting the existing models"
   ]
  },
  {
   "attachments": {},
   "cell_type": "markdown",
   "metadata": {},
   "source": [
    "Model 1: `readmitted ~ time_in_hospital*age + num_of_changes + number_inpatient`"
   ]
  },
  {
   "cell_type": "code",
   "execution_count": 9,
   "metadata": {},
   "outputs": [
    {
     "name": "stdout",
     "output_type": "stream",
     "text": [
      "Optimization terminated successfully.\n",
      "         Current function value: 0.674435\n",
      "         Iterations 5\n"
     ]
    },
    {
     "data": {
      "text/html": [
       "<table class=\"simpletable\">\n",
       "<caption>Logit Regression Results</caption>\n",
       "<tr>\n",
       "  <th>Dep. Variable:</th>      <td>readmitted</td>    <th>  No. Observations:  </th>  <td> 12586</td>  \n",
       "</tr>\n",
       "<tr>\n",
       "  <th>Model:</th>                 <td>Logit</td>      <th>  Df Residuals:      </th>  <td> 12580</td>  \n",
       "</tr>\n",
       "<tr>\n",
       "  <th>Method:</th>                 <td>MLE</td>       <th>  Df Model:          </th>  <td>     5</td>  \n",
       "</tr>\n",
       "<tr>\n",
       "  <th>Date:</th>            <td>Thu, 23 Feb 2023</td> <th>  Pseudo R-squ.:     </th>  <td>0.02700</td> \n",
       "</tr>\n",
       "<tr>\n",
       "  <th>Time:</th>                <td>23:53:29</td>     <th>  Log-Likelihood:    </th> <td> -8488.4</td> \n",
       "</tr>\n",
       "<tr>\n",
       "  <th>converged:</th>             <td>True</td>       <th>  LL-Null:           </th> <td> -8724.0</td> \n",
       "</tr>\n",
       "<tr>\n",
       "  <th>Covariance Type:</th>     <td>nonrobust</td>    <th>  LLR p-value:       </th> <td>1.435e-99</td>\n",
       "</tr>\n",
       "</table>\n",
       "<table class=\"simpletable\">\n",
       "<tr>\n",
       "            <td></td>              <th>coef</th>     <th>std err</th>      <th>z</th>      <th>P>|z|</th>  <th>[0.025</th>    <th>0.975]</th>  \n",
       "</tr>\n",
       "<tr>\n",
       "  <th>Intercept</th>            <td>   -1.2212</td> <td>    0.140</td> <td>   -8.731</td> <td> 0.000</td> <td>   -1.495</td> <td>   -0.947</td>\n",
       "</tr>\n",
       "<tr>\n",
       "  <th>time_in_hospital</th>     <td>    0.1059</td> <td>    0.028</td> <td>    3.736</td> <td> 0.000</td> <td>    0.050</td> <td>    0.161</td>\n",
       "</tr>\n",
       "<tr>\n",
       "  <th>age</th>                  <td>    0.0124</td> <td>    0.002</td> <td>    5.987</td> <td> 0.000</td> <td>    0.008</td> <td>    0.016</td>\n",
       "</tr>\n",
       "<tr>\n",
       "  <th>time_in_hospital:age</th> <td>   -0.0007</td> <td>    0.000</td> <td>   -1.659</td> <td> 0.097</td> <td>   -0.001</td> <td>    0.000</td>\n",
       "</tr>\n",
       "<tr>\n",
       "  <th>num_of_changes</th>       <td>    0.1106</td> <td>    0.038</td> <td>    2.876</td> <td> 0.004</td> <td>    0.035</td> <td>    0.186</td>\n",
       "</tr>\n",
       "<tr>\n",
       "  <th>number_inpatient</th>     <td>    0.4195</td> <td>    0.030</td> <td>   14.055</td> <td> 0.000</td> <td>    0.361</td> <td>    0.478</td>\n",
       "</tr>\n",
       "</table>"
      ],
      "text/plain": [
       "<class 'statsmodels.iolib.summary.Summary'>\n",
       "\"\"\"\n",
       "                           Logit Regression Results                           \n",
       "==============================================================================\n",
       "Dep. Variable:             readmitted   No. Observations:                12586\n",
       "Model:                          Logit   Df Residuals:                    12580\n",
       "Method:                           MLE   Df Model:                            5\n",
       "Date:                Thu, 23 Feb 2023   Pseudo R-squ.:                 0.02700\n",
       "Time:                        23:53:29   Log-Likelihood:                -8488.4\n",
       "converged:                       True   LL-Null:                       -8724.0\n",
       "Covariance Type:            nonrobust   LLR p-value:                 1.435e-99\n",
       "========================================================================================\n",
       "                           coef    std err          z      P>|z|      [0.025      0.975]\n",
       "----------------------------------------------------------------------------------------\n",
       "Intercept               -1.2212      0.140     -8.731      0.000      -1.495      -0.947\n",
       "time_in_hospital         0.1059      0.028      3.736      0.000       0.050       0.161\n",
       "age                      0.0124      0.002      5.987      0.000       0.008       0.016\n",
       "time_in_hospital:age    -0.0007      0.000     -1.659      0.097      -0.001       0.000\n",
       "num_of_changes           0.1106      0.038      2.876      0.004       0.035       0.186\n",
       "number_inpatient         0.4195      0.030     14.055      0.000       0.361       0.478\n",
       "========================================================================================\n",
       "\"\"\""
      ]
     },
     "execution_count": 9,
     "metadata": {},
     "output_type": "execute_result"
    }
   ],
   "source": [
    "\n",
    "logit_model = sm.logit(formula = 'readmitted ~ time_in_hospital*age + num_of_changes + number_inpatient', data = train1).fit() #Developing logistic regression model\n",
    "logit_model.summary()"
   ]
  },
  {
   "cell_type": "code",
   "execution_count": 10,
   "metadata": {},
   "outputs": [
    {
     "data": {
      "text/plain": [
       "-8488.441402884093"
      ]
     },
     "execution_count": 10,
     "metadata": {},
     "output_type": "execute_result"
    },
    {
     "data": {
      "image/png": "[encoded data removed]",
      "text/plain": [
       "<Figure size 432x288 with 1 Axes>"
      ]
     },
     "metadata": {
      "needs_background": "light"
     },
     "output_type": "display_data"
    }
   ],
   "source": [
    "# Question: Can we visualize the logistic model in a multidimensional space, to account for all parameters used in the model?\n",
    "\n",
    "def jitter(values,j):\n",
    "    return values + np.random.normal(j,0.02,values.shape)\n",
    "\n",
    "sns.scatterplot(x = jitter(train1.age,0), y = jitter(train1.readmitted,0), data = train1, color = 'orange')\n",
    "sns.lineplot(x = 'age', y= logit_model.predict(train), data = train1, color = 'blue') \n",
    "logit_model.llf\n",
    "\n"
   ]
  },
  {
   "cell_type": "code",
   "execution_count": 11,
   "metadata": {},
   "outputs": [
    {
     "name": "stdout",
     "output_type": "stream",
     "text": [
      "Classification accuracy = 57.7%\n",
      "Precision = 59.0%\n",
      "TPR or Recall = 50.6%\n",
      "FNR = 49.4%\n",
      "FPR = 35.2%\n",
      "ROC-AUC = 60.7%\n"
     ]
    },
    {
     "data": {
      "image/png": "[encoded data removed]",
      "text/plain": [
       "<Figure size 432x288 with 2 Axes>"
      ]
     },
     "metadata": {
      "needs_background": "light"
     },
     "output_type": "display_data"
    }
   ],
   "source": [
    "confusion_matrix_data(train1, train1.readmitted, logit_model, cutoff=0.5)"
   ]
  },
  {
   "cell_type": "code",
   "execution_count": 12,
   "metadata": {},
   "outputs": [
    {
     "name": "stdout",
     "output_type": "stream",
     "text": [
      "Classification accuracy = 62.5%\n",
      "Precision = 12.4%\n",
      "TPR or Recall = 50.8%\n",
      "FNR = 49.2%\n",
      "FPR = 36.3%\n",
      "ROC-AUC = 60.2%\n"
     ]
    },
    {
     "data": {
      "image/png": "[encoded data removed]",
      "text/plain": [
       "<Figure size 432x288 with 2 Axes>"
      ]
     },
     "metadata": {
      "needs_background": "light"
     },
     "output_type": "display_data"
    }
   ],
   "source": [
    "confusion_matrix_data(test, test.readmitted, logit_model, cutoff=0.5)"
   ]
  },
  {
   "cell_type": "code",
   "execution_count": null,
   "metadata": {},
   "outputs": [],
   "source": [
    "# cross validation\n"
   ]
  },
  {
   "attachments": {},
   "cell_type": "markdown",
   "metadata": {},
   "source": [
    "Model 1.1 -- Making each age group its own predictor"
   ]
  },
  {
   "cell_type": "code",
   "execution_count": 145,
   "metadata": {},
   "outputs": [
    {
     "data": {
      "text/plain": [
       "'readmitted ~ age5 + age15 + age25 + age35 + age45 + age55 + age65 + age75 + age85 + age95'"
      ]
     },
     "execution_count": 145,
     "metadata": {},
     "output_type": "execute_result"
    }
   ],
   "source": [
    "'readmitted ~ ' + ' + '.join(vars[0])"
   ]
  },
  {
   "cell_type": "code",
   "execution_count": 146,
   "metadata": {},
   "outputs": [
    {
     "name": "stdout",
     "output_type": "stream",
     "text": [
      "Warning: Maximum number of iterations has been exceeded.\n",
      "         Current function value: 0.688852\n",
      "         Iterations: 35\n"
     ]
    },
    {
     "name": "stderr",
     "output_type": "stream",
     "text": [
      "/Users/amywang/opt/anaconda3/lib/python3.9/site-packages/statsmodels/base/model.py:604: ConvergenceWarning: Maximum Likelihood optimization failed to converge. Check mle_retvals\n",
      "  warnings.warn(\"Maximum Likelihood optimization failed to \"\n"
     ]
    },
    {
     "data": {
      "text/html": [
       "<table class=\"simpletable\">\n",
       "<caption>Logit Regression Results</caption>\n",
       "<tr>\n",
       "  <th>Dep. Variable:</th>      <td>readmitted</td>    <th>  No. Observations:  </th>  <td> 12586</td>  \n",
       "</tr>\n",
       "<tr>\n",
       "  <th>Model:</th>                 <td>Logit</td>      <th>  Df Residuals:      </th>  <td> 12575</td>  \n",
       "</tr>\n",
       "<tr>\n",
       "  <th>Method:</th>                 <td>MLE</td>       <th>  Df Model:          </th>  <td>    10</td>  \n",
       "</tr>\n",
       "<tr>\n",
       "  <th>Date:</th>            <td>Fri, 24 Feb 2023</td> <th>  Pseudo R-squ.:     </th> <td>0.006196</td> \n",
       "</tr>\n",
       "<tr>\n",
       "  <th>Time:</th>                <td>01:20:20</td>     <th>  Log-Likelihood:    </th> <td> -8669.9</td> \n",
       "</tr>\n",
       "<tr>\n",
       "  <th>converged:</th>             <td>False</td>      <th>  LL-Null:           </th> <td> -8724.0</td> \n",
       "</tr>\n",
       "<tr>\n",
       "  <th>Covariance Type:</th>     <td>nonrobust</td>    <th>  LLR p-value:       </th> <td>1.281e-18</td>\n",
       "</tr>\n",
       "</table>\n",
       "<table class=\"simpletable\">\n",
       "<tr>\n",
       "      <td></td>         <th>coef</th>     <th>std err</th>      <th>z</th>      <th>P>|z|</th>  <th>[0.025</th>    <th>0.975]</th>  \n",
       "</tr>\n",
       "<tr>\n",
       "  <th>Intercept</th> <td>   -0.2482</td> <td>      nan</td> <td>      nan</td> <td>   nan</td> <td>      nan</td> <td>      nan</td>\n",
       "</tr>\n",
       "<tr>\n",
       "  <th>age5</th>      <td>   -1.1381</td> <td>      nan</td> <td>      nan</td> <td>   nan</td> <td>      nan</td> <td>      nan</td>\n",
       "</tr>\n",
       "<tr>\n",
       "  <th>age15</th>     <td>   -0.4450</td> <td>      nan</td> <td>      nan</td> <td>   nan</td> <td>      nan</td> <td>      nan</td>\n",
       "</tr>\n",
       "<tr>\n",
       "  <th>age25</th>     <td>    0.0226</td> <td>      nan</td> <td>      nan</td> <td>   nan</td> <td>      nan</td> <td>      nan</td>\n",
       "</tr>\n",
       "<tr>\n",
       "  <th>age35</th>     <td>   -0.0248</td> <td>      nan</td> <td>      nan</td> <td>   nan</td> <td>      nan</td> <td>      nan</td>\n",
       "</tr>\n",
       "<tr>\n",
       "  <th>age45</th>     <td>   -0.0018</td> <td>      nan</td> <td>      nan</td> <td>   nan</td> <td>      nan</td> <td>      nan</td>\n",
       "</tr>\n",
       "<tr>\n",
       "  <th>age55</th>     <td>    0.0157</td> <td>      nan</td> <td>      nan</td> <td>   nan</td> <td>      nan</td> <td>      nan</td>\n",
       "</tr>\n",
       "<tr>\n",
       "  <th>age65</th>     <td>    0.2711</td> <td>      nan</td> <td>      nan</td> <td>   nan</td> <td>      nan</td> <td>      nan</td>\n",
       "</tr>\n",
       "<tr>\n",
       "  <th>age75</th>     <td>    0.4129</td> <td>      nan</td> <td>      nan</td> <td>   nan</td> <td>      nan</td> <td>      nan</td>\n",
       "</tr>\n",
       "<tr>\n",
       "  <th>age85</th>     <td>    0.4145</td> <td>      nan</td> <td>      nan</td> <td>   nan</td> <td>      nan</td> <td>      nan</td>\n",
       "</tr>\n",
       "<tr>\n",
       "  <th>age95</th>     <td>    0.2246</td> <td>      nan</td> <td>      nan</td> <td>   nan</td> <td>      nan</td> <td>      nan</td>\n",
       "</tr>\n",
       "</table>"
      ],
      "text/plain": [
       "<class 'statsmodels.iolib.summary.Summary'>\n",
       "\"\"\"\n",
       "                           Logit Regression Results                           \n",
       "==============================================================================\n",
       "Dep. Variable:             readmitted   No. Observations:                12586\n",
       "Model:                          Logit   Df Residuals:                    12575\n",
       "Method:                           MLE   Df Model:                           10\n",
       "Date:                Fri, 24 Feb 2023   Pseudo R-squ.:                0.006196\n",
       "Time:                        01:20:20   Log-Likelihood:                -8669.9\n",
       "converged:                      False   LL-Null:                       -8724.0\n",
       "Covariance Type:            nonrobust   LLR p-value:                 1.281e-18\n",
       "==============================================================================\n",
       "                 coef    std err          z      P>|z|      [0.025      0.975]\n",
       "------------------------------------------------------------------------------\n",
       "Intercept     -0.2482        nan        nan        nan         nan         nan\n",
       "age5          -1.1381        nan        nan        nan         nan         nan\n",
       "age15         -0.4450        nan        nan        nan         nan         nan\n",
       "age25          0.0226        nan        nan        nan         nan         nan\n",
       "age35         -0.0248        nan        nan        nan         nan         nan\n",
       "age45         -0.0018        nan        nan        nan         nan         nan\n",
       "age55          0.0157        nan        nan        nan         nan         nan\n",
       "age65          0.2711        nan        nan        nan         nan         nan\n",
       "age75          0.4129        nan        nan        nan         nan         nan\n",
       "age85          0.4145        nan        nan        nan         nan         nan\n",
       "age95          0.2246        nan        nan        nan         nan         nan\n",
       "==============================================================================\n",
       "\"\"\""
      ]
     },
     "execution_count": 146,
     "metadata": {},
     "output_type": "execute_result"
    }
   ],
   "source": [
    "logit_model_age_dummy = sm.logit(formula = 'readmitted ~ ' + ' + '.join(vars[0]), data = train1_dummy).fit() \n",
    "logit_model_age_dummy.summary()"
   ]
  },
  {
   "cell_type": "code",
   "execution_count": 147,
   "metadata": {},
   "outputs": [
    {
     "data": {
      "text/plain": [
       "'time_in_hospital + age5 + age15 + age25 + age35 + age45 + age55 + age65 + age75 + age85 + age95'"
      ]
     },
     "execution_count": 147,
     "metadata": {},
     "output_type": "execute_result"
    }
   ],
   "source": [
    "'time_in_hospital + ' + ' + '.join(vars[0])"
   ]
  },
  {
   "cell_type": "code",
   "execution_count": 148,
   "metadata": {},
   "outputs": [
    {
     "name": "stdout",
     "output_type": "stream",
     "text": [
      "Classification accuracy = 53.9%\n",
      "Precision = 52.9%\n",
      "TPR or Recall = 70.5%\n",
      "FNR = 29.5%\n",
      "FPR = 62.7%\n",
      "ROC-AUC = 54.8%\n"
     ]
    },
    {
     "data": {
      "image/png": "[encoded data removed]",
      "text/plain": [
       "<Figure size 432x288 with 2 Axes>"
      ]
     },
     "metadata": {
      "needs_background": "light"
     },
     "output_type": "display_data"
    }
   ],
   "source": [
    "confusion_matrix_data(train1_dummy, train1_dummy.readmitted, logit_model_age_dummy, cutoff=0.5)"
   ]
  },
  {
   "cell_type": "code",
   "execution_count": 149,
   "metadata": {},
   "outputs": [
    {
     "name": "stdout",
     "output_type": "stream",
     "text": [
      "Classification accuracy = 40.0%\n",
      "Precision = 10.1%\n",
      "TPR or Recall = 70.0%\n",
      "FNR = 30.0%\n",
      "FPR = 63.0%\n",
      "ROC-AUC = 54.0%\n"
     ]
    },
    {
     "data": {
      "image/png": "[encoded data removed]",
      "text/plain": [
       "<Figure size 432x288 with 2 Axes>"
      ]
     },
     "metadata": {
      "needs_background": "light"
     },
     "output_type": "display_data"
    }
   ],
   "source": [
    "confusion_matrix_data(test_dummy, test_dummy.readmitted, logit_model_age_dummy, cutoff=0.5)"
   ]
  },
  {
   "attachments": {},
   "cell_type": "markdown",
   "metadata": {},
   "source": [
    "Quick observations\n",
    "- The classification accuracy for the test data decreased compared to the train data, suggesting overfitting.\n",
    "- Precision decreased --> among the classified positives, not many are true positives\n",
    "- This trend is reflected in the highest false positive rate\n",
    "- ROC-AUC went down\n",
    "\n",
    "But now the model is classifying datapoints as positive!"
   ]
  },
  {
   "cell_type": "code",
   "execution_count": 150,
   "metadata": {},
   "outputs": [
    {
     "data": {
      "text/plain": [
       "'readmitted ~ time_in_hospital + age5 + age15 + age25 + age35 + age45 + age55 + age65 + age75 + age85 + age95 + num_of_changes + number_inpatient'"
      ]
     },
     "execution_count": 150,
     "metadata": {},
     "output_type": "execute_result"
    }
   ],
   "source": [
    "form = 'readmitted ~ time_in_hospital + ' + ' + '.join(vars[0]) + ' + num_of_changes + number_inpatient'\n",
    "form"
   ]
  },
  {
   "cell_type": "code",
   "execution_count": 151,
   "metadata": {},
   "outputs": [
    {
     "name": "stdout",
     "output_type": "stream",
     "text": [
      "Optimization terminated successfully.\n",
      "         Current function value: 0.673769\n",
      "         Iterations 8\n"
     ]
    },
    {
     "data": {
      "text/html": [
       "<table class=\"simpletable\">\n",
       "<caption>Logit Regression Results</caption>\n",
       "<tr>\n",
       "  <th>Dep. Variable:</th>      <td>readmitted</td>    <th>  No. Observations:  </th>  <td> 12586</td>  \n",
       "</tr>\n",
       "<tr>\n",
       "  <th>Model:</th>                 <td>Logit</td>      <th>  Df Residuals:      </th>  <td> 12572</td>  \n",
       "</tr>\n",
       "<tr>\n",
       "  <th>Method:</th>                 <td>MLE</td>       <th>  Df Model:          </th>  <td>    13</td>  \n",
       "</tr>\n",
       "<tr>\n",
       "  <th>Date:</th>            <td>Fri, 24 Feb 2023</td> <th>  Pseudo R-squ.:     </th>  <td>0.02796</td> \n",
       "</tr>\n",
       "<tr>\n",
       "  <th>Time:</th>                <td>01:21:31</td>     <th>  Log-Likelihood:    </th> <td> -8480.1</td> \n",
       "</tr>\n",
       "<tr>\n",
       "  <th>converged:</th>             <td>True</td>       <th>  LL-Null:           </th> <td> -8724.0</td> \n",
       "</tr>\n",
       "<tr>\n",
       "  <th>Covariance Type:</th>     <td>nonrobust</td>    <th>  LLR p-value:       </th> <td>5.711e-96</td>\n",
       "</tr>\n",
       "</table>\n",
       "<table class=\"simpletable\">\n",
       "<tr>\n",
       "          <td></td>            <th>coef</th>     <th>std err</th>      <th>z</th>      <th>P>|z|</th>  <th>[0.025</th>    <th>0.975]</th>  \n",
       "</tr>\n",
       "<tr>\n",
       "  <th>Intercept</th>        <td>   -0.5860</td> <td>      nan</td> <td>      nan</td> <td>   nan</td> <td>      nan</td> <td>      nan</td>\n",
       "</tr>\n",
       "<tr>\n",
       "  <th>time_in_hospital</th> <td>    0.0596</td> <td>    0.006</td> <td>    9.504</td> <td> 0.000</td> <td>    0.047</td> <td>    0.072</td>\n",
       "</tr>\n",
       "<tr>\n",
       "  <th>age5</th>             <td>   -1.0101</td> <td>      nan</td> <td>      nan</td> <td>   nan</td> <td>      nan</td> <td>      nan</td>\n",
       "</tr>\n",
       "<tr>\n",
       "  <th>age15</th>            <td>   -0.4568</td> <td>      nan</td> <td>      nan</td> <td>   nan</td> <td>      nan</td> <td>      nan</td>\n",
       "</tr>\n",
       "<tr>\n",
       "  <th>age25</th>            <td>   -0.0699</td> <td>      nan</td> <td>      nan</td> <td>   nan</td> <td>      nan</td> <td>      nan</td>\n",
       "</tr>\n",
       "<tr>\n",
       "  <th>age35</th>            <td>   -0.0764</td> <td>      nan</td> <td>      nan</td> <td>   nan</td> <td>      nan</td> <td>      nan</td>\n",
       "</tr>\n",
       "<tr>\n",
       "  <th>age45</th>            <td>   -0.0335</td> <td>      nan</td> <td>      nan</td> <td>   nan</td> <td>      nan</td> <td>      nan</td>\n",
       "</tr>\n",
       "<tr>\n",
       "  <th>age55</th>            <td>   -0.0197</td> <td>      nan</td> <td>      nan</td> <td>   nan</td> <td>      nan</td> <td>      nan</td>\n",
       "</tr>\n",
       "<tr>\n",
       "  <th>age65</th>            <td>    0.2182</td> <td>      nan</td> <td>      nan</td> <td>   nan</td> <td>      nan</td> <td>      nan</td>\n",
       "</tr>\n",
       "<tr>\n",
       "  <th>age75</th>            <td>    0.3428</td> <td>      nan</td> <td>      nan</td> <td>   nan</td> <td>      nan</td> <td>      nan</td>\n",
       "</tr>\n",
       "<tr>\n",
       "  <th>age85</th>            <td>    0.3340</td> <td>      nan</td> <td>      nan</td> <td>   nan</td> <td>      nan</td> <td>      nan</td>\n",
       "</tr>\n",
       "<tr>\n",
       "  <th>age95</th>            <td>    0.1854</td> <td>      nan</td> <td>      nan</td> <td>   nan</td> <td>      nan</td> <td>      nan</td>\n",
       "</tr>\n",
       "<tr>\n",
       "  <th>num_of_changes</th>   <td>    0.1091</td> <td>    0.038</td> <td>    2.834</td> <td> 0.005</td> <td>    0.034</td> <td>    0.185</td>\n",
       "</tr>\n",
       "<tr>\n",
       "  <th>number_inpatient</th> <td>    0.4168</td> <td>    0.030</td> <td>   13.965</td> <td> 0.000</td> <td>    0.358</td> <td>    0.475</td>\n",
       "</tr>\n",
       "</table>"
      ],
      "text/plain": [
       "<class 'statsmodels.iolib.summary.Summary'>\n",
       "\"\"\"\n",
       "                           Logit Regression Results                           \n",
       "==============================================================================\n",
       "Dep. Variable:             readmitted   No. Observations:                12586\n",
       "Model:                          Logit   Df Residuals:                    12572\n",
       "Method:                           MLE   Df Model:                           13\n",
       "Date:                Fri, 24 Feb 2023   Pseudo R-squ.:                 0.02796\n",
       "Time:                        01:21:31   Log-Likelihood:                -8480.1\n",
       "converged:                       True   LL-Null:                       -8724.0\n",
       "Covariance Type:            nonrobust   LLR p-value:                 5.711e-96\n",
       "====================================================================================\n",
       "                       coef    std err          z      P>|z|      [0.025      0.975]\n",
       "------------------------------------------------------------------------------------\n",
       "Intercept           -0.5860        nan        nan        nan         nan         nan\n",
       "time_in_hospital     0.0596      0.006      9.504      0.000       0.047       0.072\n",
       "age5                -1.0101        nan        nan        nan         nan         nan\n",
       "age15               -0.4568        nan        nan        nan         nan         nan\n",
       "age25               -0.0699        nan        nan        nan         nan         nan\n",
       "age35               -0.0764        nan        nan        nan         nan         nan\n",
       "age45               -0.0335        nan        nan        nan         nan         nan\n",
       "age55               -0.0197        nan        nan        nan         nan         nan\n",
       "age65                0.2182        nan        nan        nan         nan         nan\n",
       "age75                0.3428        nan        nan        nan         nan         nan\n",
       "age85                0.3340        nan        nan        nan         nan         nan\n",
       "age95                0.1854        nan        nan        nan         nan         nan\n",
       "num_of_changes       0.1091      0.038      2.834      0.005       0.034       0.185\n",
       "number_inpatient     0.4168      0.030     13.965      0.000       0.358       0.475\n",
       "====================================================================================\n",
       "\"\"\""
      ]
     },
     "execution_count": 151,
     "metadata": {},
     "output_type": "execute_result"
    }
   ],
   "source": [
    "# try adding the other terms of the model and the age predictors\n",
    "\n",
    "logit_model_age_dummy_2 = sm.logit(formula = form, data = train1_dummy).fit() \n",
    "logit_model_age_dummy_2.summary()"
   ]
  },
  {
   "cell_type": "code",
   "execution_count": 152,
   "metadata": {},
   "outputs": [
    {
     "name": "stdout",
     "output_type": "stream",
     "text": [
      "Classification accuracy = 57.6%\n",
      "Precision = 59.5%\n",
      "TPR or Recall = 47.7%\n",
      "FNR = 52.3%\n",
      "FPR = 32.5%\n",
      "ROC-AUC = 61.0%\n"
     ]
    },
    {
     "data": {
      "image/png": "[encoded data removed]",
      "text/plain": [
       "<Figure size 432x288 with 2 Axes>"
      ]
     },
     "metadata": {
      "needs_background": "light"
     },
     "output_type": "display_data"
    }
   ],
   "source": [
    "confusion_matrix_data(train1_dummy, train1_dummy.readmitted, logit_model_age_dummy_2,cutoff=0.5)"
   ]
  },
  {
   "cell_type": "code",
   "execution_count": 153,
   "metadata": {},
   "outputs": [
    {
     "name": "stdout",
     "output_type": "stream",
     "text": [
      "Classification accuracy = 65.0%\n",
      "Precision = 12.7%\n",
      "TPR or Recall = 48.0%\n",
      "FNR = 52.0%\n",
      "FPR = 33.3%\n",
      "ROC-AUC = 60.6%\n"
     ]
    },
    {
     "data": {
      "image/png": "[encoded data removed]",
      "text/plain": [
       "<Figure size 432x288 with 2 Axes>"
      ]
     },
     "metadata": {
      "needs_background": "light"
     },
     "output_type": "display_data"
    }
   ],
   "source": [
    "confusion_matrix_data(test_dummy, test_dummy.readmitted, logit_model_age_dummy_2,cutoff=0.5)"
   ]
  },
  {
   "attachments": {},
   "cell_type": "markdown",
   "metadata": {},
   "source": [
    "Quick observations\n",
    "- clssification accuracy of test data went up"
   ]
  },
  {
   "cell_type": "code",
   "execution_count": 154,
   "metadata": {},
   "outputs": [
    {
     "data": {
      "text/plain": [
       "'readmitted ~ time_in_hospital*age5 + time_in_hospital*age15 + time_in_hospital*age25 + time_in_hospital*age35 + time_in_hospital*age45 + time_in_hospital*age55 + time_in_hospital*age65 + time_in_hospital*age75 + time_in_hospital*age85 + time_in_hospital*age95 + num_of_changes + number_inpatient'"
      ]
     },
     "execution_count": 154,
     "metadata": {},
     "output_type": "execute_result"
    }
   ],
   "source": [
    "# Predictors: all age groups, interactions between time_in_hospital and the age groups, num_of_changes, and number_inpatient\n",
    "form = 'readmitted ~ time_in_hospital*{} + num_of_changes + number_inpatient'.format('time_in_hospital*'.join([(x + \" + \") for x in vars[0][:-1]]) + 'time_in_hospital*age95')\n",
    "form"
   ]
  },
  {
   "cell_type": "code",
   "execution_count": 155,
   "metadata": {},
   "outputs": [
    {
     "name": "stdout",
     "output_type": "stream",
     "text": [
      "Warning: Maximum number of iterations has been exceeded.\n",
      "         Current function value: 0.673421\n",
      "         Iterations: 35\n"
     ]
    },
    {
     "name": "stderr",
     "output_type": "stream",
     "text": [
      "/Users/amywang/opt/anaconda3/lib/python3.9/site-packages/statsmodels/base/model.py:604: ConvergenceWarning: Maximum Likelihood optimization failed to converge. Check mle_retvals\n",
      "  warnings.warn(\"Maximum Likelihood optimization failed to \"\n"
     ]
    },
    {
     "data": {
      "text/html": [
       "<table class=\"simpletable\">\n",
       "<caption>Logit Regression Results</caption>\n",
       "<tr>\n",
       "  <th>Dep. Variable:</th>      <td>readmitted</td>    <th>  No. Observations:  </th>  <td> 12586</td>  \n",
       "</tr>\n",
       "<tr>\n",
       "  <th>Model:</th>                 <td>Logit</td>      <th>  Df Residuals:      </th>  <td> 12563</td>  \n",
       "</tr>\n",
       "<tr>\n",
       "  <th>Method:</th>                 <td>MLE</td>       <th>  Df Model:          </th>  <td>    22</td>  \n",
       "</tr>\n",
       "<tr>\n",
       "  <th>Date:</th>            <td>Fri, 24 Feb 2023</td> <th>  Pseudo R-squ.:     </th>  <td>0.02846</td> \n",
       "</tr>\n",
       "<tr>\n",
       "  <th>Time:</th>                <td>01:22:13</td>     <th>  Log-Likelihood:    </th> <td> -8475.7</td> \n",
       "</tr>\n",
       "<tr>\n",
       "  <th>converged:</th>             <td>False</td>      <th>  LL-Null:           </th> <td> -8724.0</td> \n",
       "</tr>\n",
       "<tr>\n",
       "  <th>Covariance Type:</th>     <td>nonrobust</td>    <th>  LLR p-value:       </th> <td>3.841e-91</td>\n",
       "</tr>\n",
       "</table>\n",
       "<table class=\"simpletable\">\n",
       "<tr>\n",
       "             <td></td>               <th>coef</th>     <th>std err</th>      <th>z</th>      <th>P>|z|</th>  <th>[0.025</th>    <th>0.975]</th>  \n",
       "</tr>\n",
       "<tr>\n",
       "  <th>Intercept</th>              <td>   -0.9802</td> <td>      nan</td> <td>      nan</td> <td>   nan</td> <td>      nan</td> <td>      nan</td>\n",
       "</tr>\n",
       "<tr>\n",
       "  <th>time_in_hospital</th>       <td>    0.2310</td> <td>      nan</td> <td>      nan</td> <td>   nan</td> <td>      nan</td> <td>      nan</td>\n",
       "</tr>\n",
       "<tr>\n",
       "  <th>age5</th>                   <td>   -4.4614</td> <td>      nan</td> <td>      nan</td> <td>   nan</td> <td>      nan</td> <td>      nan</td>\n",
       "</tr>\n",
       "<tr>\n",
       "  <th>time_in_hospital:age5</th>  <td>    1.5992</td> <td>      nan</td> <td>      nan</td> <td>   nan</td> <td>      nan</td> <td>      nan</td>\n",
       "</tr>\n",
       "<tr>\n",
       "  <th>age15</th>                  <td>   -0.4382</td> <td>      nan</td> <td>      nan</td> <td>   nan</td> <td>      nan</td> <td>      nan</td>\n",
       "</tr>\n",
       "<tr>\n",
       "  <th>time_in_hospital:age15</th> <td>   -0.0337</td> <td>      nan</td> <td>      nan</td> <td>   nan</td> <td>      nan</td> <td>      nan</td>\n",
       "</tr>\n",
       "<tr>\n",
       "  <th>age25</th>                  <td>    0.2588</td> <td>      nan</td> <td>      nan</td> <td>   nan</td> <td>      nan</td> <td>      nan</td>\n",
       "</tr>\n",
       "<tr>\n",
       "  <th>time_in_hospital:age25</th> <td>   -0.1526</td> <td>      nan</td> <td>      nan</td> <td>   nan</td> <td>      nan</td> <td>      nan</td>\n",
       "</tr>\n",
       "<tr>\n",
       "  <th>age35</th>                  <td>    0.1896</td> <td>      nan</td> <td>      nan</td> <td>   nan</td> <td>      nan</td> <td>      nan</td>\n",
       "</tr>\n",
       "<tr>\n",
       "  <th>time_in_hospital:age35</th> <td>   -0.1372</td> <td>      nan</td> <td>      nan</td> <td>   nan</td> <td>      nan</td> <td>      nan</td>\n",
       "</tr>\n",
       "<tr>\n",
       "  <th>age45</th>                  <td>    0.3606</td> <td>      nan</td> <td>      nan</td> <td>   nan</td> <td>      nan</td> <td>      nan</td>\n",
       "</tr>\n",
       "<tr>\n",
       "  <th>time_in_hospital:age45</th> <td>   -0.1715</td> <td>      nan</td> <td>      nan</td> <td>   nan</td> <td>      nan</td> <td>      nan</td>\n",
       "</tr>\n",
       "<tr>\n",
       "  <th>age55</th>                  <td>    0.3449</td> <td>      nan</td> <td>      nan</td> <td>   nan</td> <td>      nan</td> <td>      nan</td>\n",
       "</tr>\n",
       "<tr>\n",
       "  <th>time_in_hospital:age55</th> <td>   -0.1645</td> <td>      nan</td> <td>      nan</td> <td>   nan</td> <td>      nan</td> <td>      nan</td>\n",
       "</tr>\n",
       "<tr>\n",
       "  <th>age65</th>                  <td>    0.6231</td> <td>      nan</td> <td>      nan</td> <td>   nan</td> <td>      nan</td> <td>      nan</td>\n",
       "</tr>\n",
       "<tr>\n",
       "  <th>time_in_hospital:age65</th> <td>   -0.1740</td> <td>      nan</td> <td>      nan</td> <td>   nan</td> <td>      nan</td> <td>      nan</td>\n",
       "</tr>\n",
       "<tr>\n",
       "  <th>age75</th>                  <td>    0.7041</td> <td>      nan</td> <td>      nan</td> <td>   nan</td> <td>      nan</td> <td>      nan</td>\n",
       "</tr>\n",
       "<tr>\n",
       "  <th>time_in_hospital:age75</th> <td>   -0.1645</td> <td>      nan</td> <td>      nan</td> <td>   nan</td> <td>      nan</td> <td>      nan</td>\n",
       "</tr>\n",
       "<tr>\n",
       "  <th>age85</th>                  <td>    0.8329</td> <td>      nan</td> <td>      nan</td> <td>   nan</td> <td>      nan</td> <td>      nan</td>\n",
       "</tr>\n",
       "<tr>\n",
       "  <th>time_in_hospital:age85</th> <td>   -0.1933</td> <td>      nan</td> <td>      nan</td> <td>   nan</td> <td>      nan</td> <td>      nan</td>\n",
       "</tr>\n",
       "<tr>\n",
       "  <th>age95</th>                  <td>    0.6053</td> <td>      nan</td> <td>      nan</td> <td>   nan</td> <td>      nan</td> <td>      nan</td>\n",
       "</tr>\n",
       "<tr>\n",
       "  <th>time_in_hospital:age95</th> <td>   -0.1768</td> <td>      nan</td> <td>      nan</td> <td>   nan</td> <td>      nan</td> <td>      nan</td>\n",
       "</tr>\n",
       "<tr>\n",
       "  <th>num_of_changes</th>         <td>    0.1106</td> <td>    0.039</td> <td>    2.871</td> <td> 0.004</td> <td>    0.035</td> <td>    0.186</td>\n",
       "</tr>\n",
       "<tr>\n",
       "  <th>number_inpatient</th>       <td>    0.4168</td> <td>    0.030</td> <td>   13.968</td> <td> 0.000</td> <td>    0.358</td> <td>    0.475</td>\n",
       "</tr>\n",
       "</table>"
      ],
      "text/plain": [
       "<class 'statsmodels.iolib.summary.Summary'>\n",
       "\"\"\"\n",
       "                           Logit Regression Results                           \n",
       "==============================================================================\n",
       "Dep. Variable:             readmitted   No. Observations:                12586\n",
       "Model:                          Logit   Df Residuals:                    12563\n",
       "Method:                           MLE   Df Model:                           22\n",
       "Date:                Fri, 24 Feb 2023   Pseudo R-squ.:                 0.02846\n",
       "Time:                        01:22:13   Log-Likelihood:                -8475.7\n",
       "converged:                      False   LL-Null:                       -8724.0\n",
       "Covariance Type:            nonrobust   LLR p-value:                 3.841e-91\n",
       "==========================================================================================\n",
       "                             coef    std err          z      P>|z|      [0.025      0.975]\n",
       "------------------------------------------------------------------------------------------\n",
       "Intercept                 -0.9802        nan        nan        nan         nan         nan\n",
       "time_in_hospital           0.2310        nan        nan        nan         nan         nan\n",
       "age5                      -4.4614        nan        nan        nan         nan         nan\n",
       "time_in_hospital:age5      1.5992        nan        nan        nan         nan         nan\n",
       "age15                     -0.4382        nan        nan        nan         nan         nan\n",
       "time_in_hospital:age15    -0.0337        nan        nan        nan         nan         nan\n",
       "age25                      0.2588        nan        nan        nan         nan         nan\n",
       "time_in_hospital:age25    -0.1526        nan        nan        nan         nan         nan\n",
       "age35                      0.1896        nan        nan        nan         nan         nan\n",
       "time_in_hospital:age35    -0.1372        nan        nan        nan         nan         nan\n",
       "age45                      0.3606        nan        nan        nan         nan         nan\n",
       "time_in_hospital:age45    -0.1715        nan        nan        nan         nan         nan\n",
       "age55                      0.3449        nan        nan        nan         nan         nan\n",
       "time_in_hospital:age55    -0.1645        nan        nan        nan         nan         nan\n",
       "age65                      0.6231        nan        nan        nan         nan         nan\n",
       "time_in_hospital:age65    -0.1740        nan        nan        nan         nan         nan\n",
       "age75                      0.7041        nan        nan        nan         nan         nan\n",
       "time_in_hospital:age75    -0.1645        nan        nan        nan         nan         nan\n",
       "age85                      0.8329        nan        nan        nan         nan         nan\n",
       "time_in_hospital:age85    -0.1933        nan        nan        nan         nan         nan\n",
       "age95                      0.6053        nan        nan        nan         nan         nan\n",
       "time_in_hospital:age95    -0.1768        nan        nan        nan         nan         nan\n",
       "num_of_changes             0.1106      0.039      2.871      0.004       0.035       0.186\n",
       "number_inpatient           0.4168      0.030     13.968      0.000       0.358       0.475\n",
       "==========================================================================================\n",
       "\"\"\""
      ]
     },
     "execution_count": 155,
     "metadata": {},
     "output_type": "execute_result"
    }
   ],
   "source": [
    "# all predictors (and interaction) of original logit_model\n",
    "\n",
    "logit_model_age_dummy_3 = sm.logit(formula = form, data = train1_dummy).fit() \n",
    "logit_model_age_dummy_3.summary()"
   ]
  },
  {
   "cell_type": "code",
   "execution_count": 156,
   "metadata": {},
   "outputs": [
    {
     "name": "stdout",
     "output_type": "stream",
     "text": [
      "Classification accuracy = 57.8%\n",
      "Precision = 59.1%\n",
      "TPR or Recall = 50.6%\n",
      "FNR = 49.4%\n",
      "FPR = 35.0%\n",
      "ROC-AUC = 61.0%\n"
     ]
    },
    {
     "data": {
      "image/png": "[encoded data removed]",
      "text/plain": [
       "<Figure size 432x288 with 2 Axes>"
      ]
     },
     "metadata": {
      "needs_background": "light"
     },
     "output_type": "display_data"
    }
   ],
   "source": [
    "confusion_matrix_data(train1_dummy, train1_dummy.readmitted, logit_model_age_dummy_3, cutoff=0.5)"
   ]
  },
  {
   "cell_type": "code",
   "execution_count": 157,
   "metadata": {},
   "outputs": [
    {
     "name": "stdout",
     "output_type": "stream",
     "text": [
      "Classification accuracy = 62.8%\n",
      "Precision = 12.4%\n",
      "TPR or Recall = 50.3%\n",
      "FNR = 49.7%\n",
      "FPR = 36.0%\n",
      "ROC-AUC = 60.5%\n"
     ]
    },
    {
     "data": {
      "image/png": "[encoded data removed]",
      "text/plain": [
       "<Figure size 432x288 with 2 Axes>"
      ]
     },
     "metadata": {
      "needs_background": "light"
     },
     "output_type": "display_data"
    }
   ],
   "source": [
    "confusion_matrix_data(test_dummy, test_dummy.readmitted, logit_model_age_dummy_3, cutoff=0.5)"
   ]
  },
  {
   "attachments": {},
   "cell_type": "markdown",
   "metadata": {},
   "source": [
    "#### Model 2: `readmitted ~ num_of_changes*time_in_hospital + number_inpatient + age`"
   ]
  },
  {
   "cell_type": "code",
   "execution_count": 109,
   "metadata": {},
   "outputs": [
    {
     "name": "stdout",
     "output_type": "stream",
     "text": [
      "Optimization terminated successfully.\n",
      "         Current function value: 0.674532\n",
      "         Iterations 5\n"
     ]
    },
    {
     "data": {
      "text/html": [
       "<table class=\"simpletable\">\n",
       "<caption>Logit Regression Results</caption>\n",
       "<tr>\n",
       "  <th>Dep. Variable:</th>      <td>readmitted</td>    <th>  No. Observations:  </th>  <td> 12586</td>  \n",
       "</tr>\n",
       "<tr>\n",
       "  <th>Model:</th>                 <td>Logit</td>      <th>  Df Residuals:      </th>  <td> 12580</td>  \n",
       "</tr>\n",
       "<tr>\n",
       "  <th>Method:</th>                 <td>MLE</td>       <th>  Df Model:          </th>  <td>     5</td>  \n",
       "</tr>\n",
       "<tr>\n",
       "  <th>Date:</th>            <td>Fri, 24 Feb 2023</td> <th>  Pseudo R-squ.:     </th>  <td>0.02686</td> \n",
       "</tr>\n",
       "<tr>\n",
       "  <th>Time:</th>                <td>00:54:09</td>     <th>  Log-Likelihood:    </th> <td> -8489.7</td> \n",
       "</tr>\n",
       "<tr>\n",
       "  <th>converged:</th>             <td>True</td>       <th>  LL-Null:           </th> <td> -8724.0</td> \n",
       "</tr>\n",
       "<tr>\n",
       "  <th>Covariance Type:</th>     <td>nonrobust</td>    <th>  LLR p-value:       </th> <td>4.789e-99</td>\n",
       "</tr>\n",
       "</table>\n",
       "<table class=\"simpletable\">\n",
       "<tr>\n",
       "                 <td></td>                    <th>coef</th>     <th>std err</th>      <th>z</th>      <th>P>|z|</th>  <th>[0.025</th>    <th>0.975]</th>  \n",
       "</tr>\n",
       "<tr>\n",
       "  <th>Intercept</th>                       <td>   -1.0462</td> <td>    0.085</td> <td>  -12.245</td> <td> 0.000</td> <td>   -1.214</td> <td>   -0.879</td>\n",
       "</tr>\n",
       "<tr>\n",
       "  <th>num_of_changes</th>                  <td>    0.1460</td> <td>    0.073</td> <td>    1.989</td> <td> 0.047</td> <td>    0.002</td> <td>    0.290</td>\n",
       "</tr>\n",
       "<tr>\n",
       "  <th>time_in_hospital</th>                <td>    0.0623</td> <td>    0.007</td> <td>    8.469</td> <td> 0.000</td> <td>    0.048</td> <td>    0.077</td>\n",
       "</tr>\n",
       "<tr>\n",
       "  <th>num_of_changes:time_in_hospital</th> <td>   -0.0070</td> <td>    0.012</td> <td>   -0.574</td> <td> 0.566</td> <td>   -0.031</td> <td>    0.017</td>\n",
       "</tr>\n",
       "<tr>\n",
       "  <th>number_inpatient</th>                <td>    0.4191</td> <td>    0.030</td> <td>   14.039</td> <td> 0.000</td> <td>    0.361</td> <td>    0.478</td>\n",
       "</tr>\n",
       "<tr>\n",
       "  <th>age</th>                             <td>    0.0096</td> <td>    0.001</td> <td>    8.124</td> <td> 0.000</td> <td>    0.007</td> <td>    0.012</td>\n",
       "</tr>\n",
       "</table>"
      ],
      "text/plain": [
       "<class 'statsmodels.iolib.summary.Summary'>\n",
       "\"\"\"\n",
       "                           Logit Regression Results                           \n",
       "==============================================================================\n",
       "Dep. Variable:             readmitted   No. Observations:                12586\n",
       "Model:                          Logit   Df Residuals:                    12580\n",
       "Method:                           MLE   Df Model:                            5\n",
       "Date:                Fri, 24 Feb 2023   Pseudo R-squ.:                 0.02686\n",
       "Time:                        00:54:09   Log-Likelihood:                -8489.7\n",
       "converged:                       True   LL-Null:                       -8724.0\n",
       "Covariance Type:            nonrobust   LLR p-value:                 4.789e-99\n",
       "===================================================================================================\n",
       "                                      coef    std err          z      P>|z|      [0.025      0.975]\n",
       "---------------------------------------------------------------------------------------------------\n",
       "Intercept                          -1.0462      0.085    -12.245      0.000      -1.214      -0.879\n",
       "num_of_changes                      0.1460      0.073      1.989      0.047       0.002       0.290\n",
       "time_in_hospital                    0.0623      0.007      8.469      0.000       0.048       0.077\n",
       "num_of_changes:time_in_hospital    -0.0070      0.012     -0.574      0.566      -0.031       0.017\n",
       "number_inpatient                    0.4191      0.030     14.039      0.000       0.361       0.478\n",
       "age                                 0.0096      0.001      8.124      0.000       0.007       0.012\n",
       "===================================================================================================\n",
       "\"\"\""
      ]
     },
     "execution_count": 109,
     "metadata": {},
     "output_type": "execute_result"
    }
   ],
   "source": [
    "alt_interaction_model = sm.logit('readmitted ~ num_of_changes*time_in_hospital + number_inpatient + age', train1).fit()\n",
    "alt_interaction_model.summary()"
   ]
  },
  {
   "attachments": {},
   "cell_type": "markdown",
   "metadata": {},
   "source": [
    "Model 2.1 -- Making each `time_in_hospital` group its own predictor"
   ]
  },
  {
   "cell_type": "code",
   "execution_count": 167,
   "metadata": {},
   "outputs": [
    {
     "data": {
      "text/plain": [
       "'readmitted ~ time_in_hospital + time_in_hospital1 + time_in_hospital2 + time_in_hospital3 + time_in_hospital4 + time_in_hospital5 + time_in_hospital6 + time_in_hospital7 + time_in_hospital8 + time_in_hospital9 + time_in_hospital10 + time_in_hospital11 + time_in_hospital12 + time_in_hospital13 + time_in_hospital14 + num_of_changes + number_inpatient'"
      ]
     },
     "execution_count": 167,
     "metadata": {},
     "output_type": "execute_result"
    }
   ],
   "source": [
    "form = 'readmitted ~ time_in_hospital + ' + ' + '.join(vars[1]) + ' + num_of_changes + number_inpatient'\n",
    "form"
   ]
  },
  {
   "cell_type": "code",
   "execution_count": 168,
   "metadata": {},
   "outputs": [
    {
     "name": "stdout",
     "output_type": "stream",
     "text": [
      "Warning: Maximum number of iterations has been exceeded.\n",
      "         Current function value: 0.675635\n",
      "         Iterations: 35\n"
     ]
    },
    {
     "name": "stderr",
     "output_type": "stream",
     "text": [
      "/Users/amywang/opt/anaconda3/lib/python3.9/site-packages/statsmodels/base/model.py:604: ConvergenceWarning: Maximum Likelihood optimization failed to converge. Check mle_retvals\n",
      "  warnings.warn(\"Maximum Likelihood optimization failed to \"\n"
     ]
    },
    {
     "data": {
      "text/html": [
       "<table class=\"simpletable\">\n",
       "<caption>Logit Regression Results</caption>\n",
       "<tr>\n",
       "  <th>Dep. Variable:</th>      <td>readmitted</td>    <th>  No. Observations:  </th>  <td> 12586</td>  \n",
       "</tr>\n",
       "<tr>\n",
       "  <th>Model:</th>                 <td>Logit</td>      <th>  Df Residuals:      </th>  <td> 12569</td>  \n",
       "</tr>\n",
       "<tr>\n",
       "  <th>Method:</th>                 <td>MLE</td>       <th>  Df Model:          </th>  <td>    16</td>  \n",
       "</tr>\n",
       "<tr>\n",
       "  <th>Date:</th>            <td>Fri, 24 Feb 2023</td> <th>  Pseudo R-squ.:     </th>  <td>0.02527</td> \n",
       "</tr>\n",
       "<tr>\n",
       "  <th>Time:</th>                <td>01:27:23</td>     <th>  Log-Likelihood:    </th> <td> -8503.5</td> \n",
       "</tr>\n",
       "<tr>\n",
       "  <th>converged:</th>             <td>False</td>      <th>  LL-Null:           </th> <td> -8724.0</td> \n",
       "</tr>\n",
       "<tr>\n",
       "  <th>Covariance Type:</th>     <td>nonrobust</td>    <th>  LLR p-value:       </th> <td>9.782e-84</td>\n",
       "</tr>\n",
       "</table>\n",
       "<table class=\"simpletable\">\n",
       "<tr>\n",
       "           <td></td>             <th>coef</th>     <th>std err</th>      <th>z</th>      <th>P>|z|</th>  <th>[0.025</th>    <th>0.975]</th>  \n",
       "</tr>\n",
       "<tr>\n",
       "  <th>Intercept</th>          <td>   -0.2142</td> <td> 2.06e+05</td> <td>-1.04e-06</td> <td> 1.000</td> <td>-4.04e+05</td> <td> 4.04e+05</td>\n",
       "</tr>\n",
       "<tr>\n",
       "  <th>time_in_hospital</th>   <td>    0.0333</td> <td>      nan</td> <td>      nan</td> <td>   nan</td> <td>      nan</td> <td>      nan</td>\n",
       "</tr>\n",
       "<tr>\n",
       "  <th>time_in_hospital1</th>  <td>   -0.3075</td> <td> 3.49e+05</td> <td>-8.82e-07</td> <td> 1.000</td> <td>-6.83e+05</td> <td> 6.83e+05</td>\n",
       "</tr>\n",
       "<tr>\n",
       "  <th>time_in_hospital2</th>  <td>   -0.1780</td> <td> 4.41e+05</td> <td>-4.03e-07</td> <td> 1.000</td> <td>-8.65e+05</td> <td> 8.65e+05</td>\n",
       "</tr>\n",
       "<tr>\n",
       "  <th>time_in_hospital3</th>  <td>   -0.0575</td> <td> 5.11e+05</td> <td>-1.13e-07</td> <td> 1.000</td> <td>   -1e+06</td> <td>    1e+06</td>\n",
       "</tr>\n",
       "<tr>\n",
       "  <th>time_in_hospital4</th>  <td>   -0.0398</td> <td> 5.68e+05</td> <td>   -7e-08</td> <td> 1.000</td> <td>-1.11e+06</td> <td> 1.11e+06</td>\n",
       "</tr>\n",
       "<tr>\n",
       "  <th>time_in_hospital5</th>  <td>    0.0589</td> <td> 6.14e+05</td> <td>  9.6e-08</td> <td> 1.000</td> <td> -1.2e+06</td> <td>  1.2e+06</td>\n",
       "</tr>\n",
       "<tr>\n",
       "  <th>time_in_hospital6</th>  <td>    0.1328</td> <td> 6.52e+05</td> <td> 2.04e-07</td> <td> 1.000</td> <td>-1.28e+06</td> <td> 1.28e+06</td>\n",
       "</tr>\n",
       "<tr>\n",
       "  <th>time_in_hospital7</th>  <td>    0.0439</td> <td> 6.84e+05</td> <td> 6.42e-08</td> <td> 1.000</td> <td>-1.34e+06</td> <td> 1.34e+06</td>\n",
       "</tr>\n",
       "<tr>\n",
       "  <th>time_in_hospital8</th>  <td>    0.1954</td> <td>  7.1e+05</td> <td> 2.75e-07</td> <td> 1.000</td> <td>-1.39e+06</td> <td> 1.39e+06</td>\n",
       "</tr>\n",
       "<tr>\n",
       "  <th>time_in_hospital9</th>  <td>    0.2478</td> <td> 7.31e+05</td> <td> 3.39e-07</td> <td> 1.000</td> <td>-1.43e+06</td> <td> 1.43e+06</td>\n",
       "</tr>\n",
       "<tr>\n",
       "  <th>time_in_hospital10</th> <td>    0.0644</td> <td> 7.47e+05</td> <td> 8.61e-08</td> <td> 1.000</td> <td>-1.46e+06</td> <td> 1.46e+06</td>\n",
       "</tr>\n",
       "<tr>\n",
       "  <th>time_in_hospital11</th> <td>   -0.1752</td> <td> 7.59e+05</td> <td>-2.31e-07</td> <td> 1.000</td> <td>-1.49e+06</td> <td> 1.49e+06</td>\n",
       "</tr>\n",
       "<tr>\n",
       "  <th>time_in_hospital12</th> <td>    0.1342</td> <td> 7.67e+05</td> <td> 1.75e-07</td> <td> 1.000</td> <td> -1.5e+06</td> <td>  1.5e+06</td>\n",
       "</tr>\n",
       "<tr>\n",
       "  <th>time_in_hospital13</th> <td>   -0.1788</td> <td> 7.71e+05</td> <td>-2.32e-07</td> <td> 1.000</td> <td>-1.51e+06</td> <td> 1.51e+06</td>\n",
       "</tr>\n",
       "<tr>\n",
       "  <th>time_in_hospital14</th> <td>   -0.1547</td> <td>  7.7e+05</td> <td>-2.01e-07</td> <td> 1.000</td> <td>-1.51e+06</td> <td> 1.51e+06</td>\n",
       "</tr>\n",
       "<tr>\n",
       "  <th>num_of_changes</th>     <td>    0.0749</td> <td>    0.038</td> <td>    1.958</td> <td> 0.050</td> <td>-5.84e-05</td> <td>    0.150</td>\n",
       "</tr>\n",
       "<tr>\n",
       "  <th>number_inpatient</th>   <td>    0.4171</td> <td>    0.030</td> <td>   13.892</td> <td> 0.000</td> <td>    0.358</td> <td>    0.476</td>\n",
       "</tr>\n",
       "</table>"
      ],
      "text/plain": [
       "<class 'statsmodels.iolib.summary.Summary'>\n",
       "\"\"\"\n",
       "                           Logit Regression Results                           \n",
       "==============================================================================\n",
       "Dep. Variable:             readmitted   No. Observations:                12586\n",
       "Model:                          Logit   Df Residuals:                    12569\n",
       "Method:                           MLE   Df Model:                           16\n",
       "Date:                Fri, 24 Feb 2023   Pseudo R-squ.:                 0.02527\n",
       "Time:                        01:27:23   Log-Likelihood:                -8503.5\n",
       "converged:                      False   LL-Null:                       -8724.0\n",
       "Covariance Type:            nonrobust   LLR p-value:                 9.782e-84\n",
       "======================================================================================\n",
       "                         coef    std err          z      P>|z|      [0.025      0.975]\n",
       "--------------------------------------------------------------------------------------\n",
       "Intercept             -0.2142   2.06e+05  -1.04e-06      1.000   -4.04e+05    4.04e+05\n",
       "time_in_hospital       0.0333        nan        nan        nan         nan         nan\n",
       "time_in_hospital1     -0.3075   3.49e+05  -8.82e-07      1.000   -6.83e+05    6.83e+05\n",
       "time_in_hospital2     -0.1780   4.41e+05  -4.03e-07      1.000   -8.65e+05    8.65e+05\n",
       "time_in_hospital3     -0.0575   5.11e+05  -1.13e-07      1.000      -1e+06       1e+06\n",
       "time_in_hospital4     -0.0398   5.68e+05     -7e-08      1.000   -1.11e+06    1.11e+06\n",
       "time_in_hospital5      0.0589   6.14e+05    9.6e-08      1.000    -1.2e+06     1.2e+06\n",
       "time_in_hospital6      0.1328   6.52e+05   2.04e-07      1.000   -1.28e+06    1.28e+06\n",
       "time_in_hospital7      0.0439   6.84e+05   6.42e-08      1.000   -1.34e+06    1.34e+06\n",
       "time_in_hospital8      0.1954    7.1e+05   2.75e-07      1.000   -1.39e+06    1.39e+06\n",
       "time_in_hospital9      0.2478   7.31e+05   3.39e-07      1.000   -1.43e+06    1.43e+06\n",
       "time_in_hospital10     0.0644   7.47e+05   8.61e-08      1.000   -1.46e+06    1.46e+06\n",
       "time_in_hospital11    -0.1752   7.59e+05  -2.31e-07      1.000   -1.49e+06    1.49e+06\n",
       "time_in_hospital12     0.1342   7.67e+05   1.75e-07      1.000    -1.5e+06     1.5e+06\n",
       "time_in_hospital13    -0.1788   7.71e+05  -2.32e-07      1.000   -1.51e+06    1.51e+06\n",
       "time_in_hospital14    -0.1547    7.7e+05  -2.01e-07      1.000   -1.51e+06    1.51e+06\n",
       "num_of_changes         0.0749      0.038      1.958      0.050   -5.84e-05       0.150\n",
       "number_inpatient       0.4171      0.030     13.892      0.000       0.358       0.476\n",
       "======================================================================================\n",
       "\"\"\""
      ]
     },
     "execution_count": 168,
     "metadata": {},
     "output_type": "execute_result"
    }
   ],
   "source": [
    "alt_interaction_model_timepred = sm.logit(formula = form, data = train1_dummy).fit() \n",
    "alt_interaction_model_timepred.summary()"
   ]
  },
  {
   "cell_type": "code",
   "execution_count": 181,
   "metadata": {},
   "outputs": [
    {
     "name": "stdout",
     "output_type": "stream",
     "text": [
      "Classification accuracy = 57.4%\n",
      "Precision = 58.0%\n",
      "TPR or Recall = 53.5%\n",
      "FNR = 46.5%\n",
      "FPR = 38.8%\n",
      "ROC-AUC = 60.1%\n"
     ]
    },
    {
     "data": {
      "image/png": "[encoded data removed]",
      "text/plain": [
       "<Figure size 432x288 with 2 Axes>"
      ]
     },
     "metadata": {
      "needs_background": "light"
     },
     "output_type": "display_data"
    }
   ],
   "source": [
    "confusion_matrix_data(train1_dummy, train1_dummy.readmitted, alt_interaction_model_timepred, cutoff=0.5)"
   ]
  },
  {
   "cell_type": "code",
   "execution_count": 182,
   "metadata": {},
   "outputs": [
    {
     "name": "stdout",
     "output_type": "stream",
     "text": [
      "Classification accuracy = 59.5%\n",
      "Precision = 12.2%\n",
      "TPR or Recall = 55.3%\n",
      "FNR = 44.7%\n",
      "FPR = 40.0%\n",
      "ROC-AUC = 59.8%\n"
     ]
    },
    {
     "data": {
      "image/png": "[encoded data removed]",
      "text/plain": [
       "<Figure size 432x288 with 2 Axes>"
      ]
     },
     "metadata": {
      "needs_background": "light"
     },
     "output_type": "display_data"
    }
   ],
   "source": [
    "confusion_matrix_data(test_dummy, test_dummy.readmitted, alt_interaction_model_timepred, cutoff=0.5)"
   ]
  },
  {
   "attachments": {},
   "cell_type": "markdown",
   "metadata": {},
   "source": [
    "Model 2.2: making `time_in_hospital` its own predictor, adding interaction between `time_in_hospital` and `num_of_changes`"
   ]
  },
  {
   "cell_type": "code",
   "execution_count": 193,
   "metadata": {},
   "outputs": [
    {
     "data": {
      "text/plain": [
       "'readmitted ~ num_of_changes*time_in_hospital1 + num_of_changes*time_in_hospital2 + num_of_changes*time_in_hospital3 + num_of_changes*time_in_hospital4 + num_of_changes*time_in_hospital5 + num_of_changes*time_in_hospital6 + num_of_changes*time_in_hospital7 + num_of_changes*time_in_hospital8 + num_of_changes*time_in_hospital9 + num_of_changes*time_in_hospital10 + num_of_changes*time_in_hospital11 + num_of_changes*time_in_hospital12 + num_of_changes*time_in_hospital13 + num_of_changes*time_in_hospital14'"
      ]
     },
     "execution_count": 193,
     "metadata": {},
     "output_type": "execute_result"
    }
   ],
   "source": [
    "form = 'readmitted ~ num_of_changes*{}'.format('num_of_changes*'.join([(x + \" + \") for x in vars[1][:-1]]) + 'num_of_changes*time_in_hospital14')\n",
    "form"
   ]
  },
  {
   "cell_type": "code",
   "execution_count": 194,
   "metadata": {},
   "outputs": [
    {
     "name": "stdout",
     "output_type": "stream",
     "text": [
      "Warning: Maximum number of iterations has been exceeded.\n",
      "         Current function value: 0.684399\n",
      "         Iterations: 35\n"
     ]
    },
    {
     "name": "stderr",
     "output_type": "stream",
     "text": [
      "/Users/amywang/opt/anaconda3/lib/python3.9/site-packages/statsmodels/base/model.py:604: ConvergenceWarning: Maximum Likelihood optimization failed to converge. Check mle_retvals\n",
      "  warnings.warn(\"Maximum Likelihood optimization failed to \"\n"
     ]
    },
    {
     "data": {
      "text/html": [
       "<table class=\"simpletable\">\n",
       "<caption>Logit Regression Results</caption>\n",
       "<tr>\n",
       "  <th>Dep. Variable:</th>      <td>readmitted</td>    <th>  No. Observations:  </th>  <td> 12586</td>  \n",
       "</tr>\n",
       "<tr>\n",
       "  <th>Model:</th>                 <td>Logit</td>      <th>  Df Residuals:      </th>  <td> 12558</td>  \n",
       "</tr>\n",
       "<tr>\n",
       "  <th>Method:</th>                 <td>MLE</td>       <th>  Df Model:          </th>  <td>    27</td>  \n",
       "</tr>\n",
       "<tr>\n",
       "  <th>Date:</th>            <td>Fri, 24 Feb 2023</td> <th>  Pseudo R-squ.:     </th>  <td>0.01262</td> \n",
       "</tr>\n",
       "<tr>\n",
       "  <th>Time:</th>                <td>01:47:40</td>     <th>  Log-Likelihood:    </th> <td> -8613.8</td> \n",
       "</tr>\n",
       "<tr>\n",
       "  <th>converged:</th>             <td>False</td>      <th>  LL-Null:           </th> <td> -8724.0</td> \n",
       "</tr>\n",
       "<tr>\n",
       "  <th>Covariance Type:</th>     <td>nonrobust</td>    <th>  LLR p-value:       </th> <td>3.325e-32</td>\n",
       "</tr>\n",
       "</table>\n",
       "<table class=\"simpletable\">\n",
       "<tr>\n",
       "                  <td></td>                     <th>coef</th>     <th>std err</th>      <th>z</th>      <th>P>|z|</th>  <th>[0.025</th>    <th>0.975]</th>  \n",
       "</tr>\n",
       "<tr>\n",
       "  <th>Intercept</th>                         <td>    0.1000</td> <td> 5.44e+05</td> <td> 1.84e-07</td> <td> 1.000</td> <td>-1.07e+06</td> <td> 1.07e+06</td>\n",
       "</tr>\n",
       "<tr>\n",
       "  <th>num_of_changes</th>                    <td>    0.1318</td> <td>      nan</td> <td>      nan</td> <td>   nan</td> <td>      nan</td> <td>      nan</td>\n",
       "</tr>\n",
       "<tr>\n",
       "  <th>time_in_hospital1</th>                 <td>   -0.5419</td> <td> 5.44e+05</td> <td>-9.97e-07</td> <td> 1.000</td> <td>-1.07e+06</td> <td> 1.07e+06</td>\n",
       "</tr>\n",
       "<tr>\n",
       "  <th>num_of_changes:time_in_hospital1</th>  <td>    0.1137</td> <td>      nan</td> <td>      nan</td> <td>   nan</td> <td>      nan</td> <td>      nan</td>\n",
       "</tr>\n",
       "<tr>\n",
       "  <th>time_in_hospital2</th>                 <td>   -0.3734</td> <td> 5.44e+05</td> <td>-6.87e-07</td> <td> 1.000</td> <td>-1.07e+06</td> <td> 1.07e+06</td>\n",
       "</tr>\n",
       "<tr>\n",
       "  <th>num_of_changes:time_in_hospital2</th>  <td>    0.0912</td> <td>      nan</td> <td>      nan</td> <td>   nan</td> <td>      nan</td> <td>      nan</td>\n",
       "</tr>\n",
       "<tr>\n",
       "  <th>time_in_hospital3</th>                 <td>   -0.1437</td> <td> 5.44e+05</td> <td>-2.64e-07</td> <td> 1.000</td> <td>-1.07e+06</td> <td> 1.07e+06</td>\n",
       "</tr>\n",
       "<tr>\n",
       "  <th>num_of_changes:time_in_hospital3</th>  <td>   -0.1899</td> <td>      nan</td> <td>      nan</td> <td>   nan</td> <td>      nan</td> <td>      nan</td>\n",
       "</tr>\n",
       "<tr>\n",
       "  <th>time_in_hospital4</th>                 <td>   -0.1309</td> <td> 5.44e+05</td> <td>-2.41e-07</td> <td> 1.000</td> <td>-1.07e+06</td> <td> 1.07e+06</td>\n",
       "</tr>\n",
       "<tr>\n",
       "  <th>num_of_changes:time_in_hospital4</th>  <td>   -0.0237</td> <td>      nan</td> <td>      nan</td> <td>   nan</td> <td>      nan</td> <td>      nan</td>\n",
       "</tr>\n",
       "<tr>\n",
       "  <th>time_in_hospital5</th>                 <td>    0.0385</td> <td> 5.44e+05</td> <td> 7.09e-08</td> <td> 1.000</td> <td>-1.07e+06</td> <td> 1.07e+06</td>\n",
       "</tr>\n",
       "<tr>\n",
       "  <th>num_of_changes:time_in_hospital5</th>  <td>   -0.1416</td> <td>      nan</td> <td>      nan</td> <td>   nan</td> <td>      nan</td> <td>      nan</td>\n",
       "</tr>\n",
       "<tr>\n",
       "  <th>time_in_hospital6</th>                 <td>    0.1478</td> <td> 5.44e+05</td> <td> 2.72e-07</td> <td> 1.000</td> <td>-1.07e+06</td> <td> 1.07e+06</td>\n",
       "</tr>\n",
       "<tr>\n",
       "  <th>num_of_changes:time_in_hospital6</th>  <td>   -0.1042</td> <td>      nan</td> <td>      nan</td> <td>   nan</td> <td>      nan</td> <td>      nan</td>\n",
       "</tr>\n",
       "<tr>\n",
       "  <th>time_in_hospital7</th>                 <td>    0.1772</td> <td> 5.44e+05</td> <td> 3.26e-07</td> <td> 1.000</td> <td>-1.07e+06</td> <td> 1.07e+06</td>\n",
       "</tr>\n",
       "<tr>\n",
       "  <th>num_of_changes:time_in_hospital7</th>  <td>   -0.3500</td> <td>      nan</td> <td>      nan</td> <td>   nan</td> <td>      nan</td> <td>      nan</td>\n",
       "</tr>\n",
       "<tr>\n",
       "  <th>time_in_hospital8</th>                 <td>    0.3623</td> <td> 5.44e+05</td> <td> 6.66e-07</td> <td> 1.000</td> <td>-1.07e+06</td> <td> 1.07e+06</td>\n",
       "</tr>\n",
       "<tr>\n",
       "  <th>num_of_changes:time_in_hospital8</th>  <td>   -0.3422</td> <td>      nan</td> <td>      nan</td> <td>   nan</td> <td>      nan</td> <td>      nan</td>\n",
       "</tr>\n",
       "<tr>\n",
       "  <th>time_in_hospital9</th>                 <td>    0.3369</td> <td> 5.44e+05</td> <td>  6.2e-07</td> <td> 1.000</td> <td>-1.07e+06</td> <td> 1.07e+06</td>\n",
       "</tr>\n",
       "<tr>\n",
       "  <th>num_of_changes:time_in_hospital9</th>  <td>    0.0329</td> <td>      nan</td> <td>      nan</td> <td>   nan</td> <td>      nan</td> <td>      nan</td>\n",
       "</tr>\n",
       "<tr>\n",
       "  <th>time_in_hospital10</th>                <td>    0.0230</td> <td> 5.44e+05</td> <td> 4.23e-08</td> <td> 1.000</td> <td>-1.07e+06</td> <td> 1.07e+06</td>\n",
       "</tr>\n",
       "<tr>\n",
       "  <th>num_of_changes:time_in_hospital10</th> <td>    0.4052</td> <td>      nan</td> <td>      nan</td> <td>   nan</td> <td>      nan</td> <td>      nan</td>\n",
       "</tr>\n",
       "<tr>\n",
       "  <th>time_in_hospital11</th>                <td>   -0.1435</td> <td> 5.44e+05</td> <td>-2.64e-07</td> <td> 1.000</td> <td>-1.07e+06</td> <td> 1.07e+06</td>\n",
       "</tr>\n",
       "<tr>\n",
       "  <th>num_of_changes:time_in_hospital11</th> <td>    0.3798</td> <td>      nan</td> <td>      nan</td> <td>   nan</td> <td>      nan</td> <td>      nan</td>\n",
       "</tr>\n",
       "<tr>\n",
       "  <th>time_in_hospital12</th>                <td>    0.2659</td> <td> 5.44e+05</td> <td> 4.89e-07</td> <td> 1.000</td> <td>-1.07e+06</td> <td> 1.07e+06</td>\n",
       "</tr>\n",
       "<tr>\n",
       "  <th>num_of_changes:time_in_hospital12</th> <td>    0.0390</td> <td>      nan</td> <td>      nan</td> <td>   nan</td> <td>      nan</td> <td>      nan</td>\n",
       "</tr>\n",
       "<tr>\n",
       "  <th>time_in_hospital13</th>                <td>   -0.0897</td> <td> 5.44e+05</td> <td>-1.65e-07</td> <td> 1.000</td> <td>-1.07e+06</td> <td> 1.07e+06</td>\n",
       "</tr>\n",
       "<tr>\n",
       "  <th>num_of_changes:time_in_hospital13</th> <td>    0.2911</td> <td>      nan</td> <td>      nan</td> <td>   nan</td> <td>      nan</td> <td>      nan</td>\n",
       "</tr>\n",
       "<tr>\n",
       "  <th>time_in_hospital14</th>                <td>    0.1712</td> <td> 5.44e+05</td> <td> 3.15e-07</td> <td> 1.000</td> <td>-1.07e+06</td> <td> 1.07e+06</td>\n",
       "</tr>\n",
       "<tr>\n",
       "  <th>num_of_changes:time_in_hospital14</th> <td>   -0.0694</td> <td>      nan</td> <td>      nan</td> <td>   nan</td> <td>      nan</td> <td>      nan</td>\n",
       "</tr>\n",
       "</table>"
      ],
      "text/plain": [
       "<class 'statsmodels.iolib.summary.Summary'>\n",
       "\"\"\"\n",
       "                           Logit Regression Results                           \n",
       "==============================================================================\n",
       "Dep. Variable:             readmitted   No. Observations:                12586\n",
       "Model:                          Logit   Df Residuals:                    12558\n",
       "Method:                           MLE   Df Model:                           27\n",
       "Date:                Fri, 24 Feb 2023   Pseudo R-squ.:                 0.01262\n",
       "Time:                        01:47:40   Log-Likelihood:                -8613.8\n",
       "converged:                      False   LL-Null:                       -8724.0\n",
       "Covariance Type:            nonrobust   LLR p-value:                 3.325e-32\n",
       "=====================================================================================================\n",
       "                                        coef    std err          z      P>|z|      [0.025      0.975]\n",
       "-----------------------------------------------------------------------------------------------------\n",
       "Intercept                             0.1000   5.44e+05   1.84e-07      1.000   -1.07e+06    1.07e+06\n",
       "num_of_changes                        0.1318        nan        nan        nan         nan         nan\n",
       "time_in_hospital1                    -0.5419   5.44e+05  -9.97e-07      1.000   -1.07e+06    1.07e+06\n",
       "num_of_changes:time_in_hospital1      0.1137        nan        nan        nan         nan         nan\n",
       "time_in_hospital2                    -0.3734   5.44e+05  -6.87e-07      1.000   -1.07e+06    1.07e+06\n",
       "num_of_changes:time_in_hospital2      0.0912        nan        nan        nan         nan         nan\n",
       "time_in_hospital3                    -0.1437   5.44e+05  -2.64e-07      1.000   -1.07e+06    1.07e+06\n",
       "num_of_changes:time_in_hospital3     -0.1899        nan        nan        nan         nan         nan\n",
       "time_in_hospital4                    -0.1309   5.44e+05  -2.41e-07      1.000   -1.07e+06    1.07e+06\n",
       "num_of_changes:time_in_hospital4     -0.0237        nan        nan        nan         nan         nan\n",
       "time_in_hospital5                     0.0385   5.44e+05   7.09e-08      1.000   -1.07e+06    1.07e+06\n",
       "num_of_changes:time_in_hospital5     -0.1416        nan        nan        nan         nan         nan\n",
       "time_in_hospital6                     0.1478   5.44e+05   2.72e-07      1.000   -1.07e+06    1.07e+06\n",
       "num_of_changes:time_in_hospital6     -0.1042        nan        nan        nan         nan         nan\n",
       "time_in_hospital7                     0.1772   5.44e+05   3.26e-07      1.000   -1.07e+06    1.07e+06\n",
       "num_of_changes:time_in_hospital7     -0.3500        nan        nan        nan         nan         nan\n",
       "time_in_hospital8                     0.3623   5.44e+05   6.66e-07      1.000   -1.07e+06    1.07e+06\n",
       "num_of_changes:time_in_hospital8     -0.3422        nan        nan        nan         nan         nan\n",
       "time_in_hospital9                     0.3369   5.44e+05    6.2e-07      1.000   -1.07e+06    1.07e+06\n",
       "num_of_changes:time_in_hospital9      0.0329        nan        nan        nan         nan         nan\n",
       "time_in_hospital10                    0.0230   5.44e+05   4.23e-08      1.000   -1.07e+06    1.07e+06\n",
       "num_of_changes:time_in_hospital10     0.4052        nan        nan        nan         nan         nan\n",
       "time_in_hospital11                   -0.1435   5.44e+05  -2.64e-07      1.000   -1.07e+06    1.07e+06\n",
       "num_of_changes:time_in_hospital11     0.3798        nan        nan        nan         nan         nan\n",
       "time_in_hospital12                    0.2659   5.44e+05   4.89e-07      1.000   -1.07e+06    1.07e+06\n",
       "num_of_changes:time_in_hospital12     0.0390        nan        nan        nan         nan         nan\n",
       "time_in_hospital13                   -0.0897   5.44e+05  -1.65e-07      1.000   -1.07e+06    1.07e+06\n",
       "num_of_changes:time_in_hospital13     0.2911        nan        nan        nan         nan         nan\n",
       "time_in_hospital14                    0.1712   5.44e+05   3.15e-07      1.000   -1.07e+06    1.07e+06\n",
       "num_of_changes:time_in_hospital14    -0.0694        nan        nan        nan         nan         nan\n",
       "=====================================================================================================\n",
       "\"\"\""
      ]
     },
     "execution_count": 194,
     "metadata": {},
     "output_type": "execute_result"
    }
   ],
   "source": [
    "alt_interaction_model_timepred_interact = sm.logit(formula = form, data = train1_dummy).fit() \n",
    "alt_interaction_model_timepred_interact.summary()"
   ]
  },
  {
   "cell_type": "code",
   "execution_count": 195,
   "metadata": {},
   "outputs": [
    {
     "name": "stdout",
     "output_type": "stream",
     "text": [
      "Classification accuracy = 55.1%\n",
      "Precision = 56.1%\n",
      "TPR or Recall = 47.1%\n",
      "FNR = 52.9%\n",
      "FPR = 36.9%\n",
      "ROC-AUC = 57.4%\n"
     ]
    },
    {
     "data": {
      "image/png": "[encoded data removed]",
      "text/plain": [
       "<Figure size 432x288 with 2 Axes>"
      ]
     },
     "metadata": {
      "needs_background": "light"
     },
     "output_type": "display_data"
    }
   ],
   "source": [
    "confusion_matrix_data(train1_dummy, train1_dummy.readmitted, alt_interaction_model_timepred_interact, cutoff=0.5)"
   ]
  },
  {
   "cell_type": "code",
   "execution_count": 196,
   "metadata": {},
   "outputs": [
    {
     "name": "stdout",
     "output_type": "stream",
     "text": [
      "Classification accuracy = 60.9%\n",
      "Precision = 11.4%\n",
      "TPR or Recall = 48.1%\n",
      "FNR = 51.9%\n",
      "FPR = 37.8%\n",
      "ROC-AUC = 56.7%\n"
     ]
    },
    {
     "data": {
      "image/png": "[encoded data removed]",
      "text/plain": [
       "<Figure size 432x288 with 2 Axes>"
      ]
     },
     "metadata": {
      "needs_background": "light"
     },
     "output_type": "display_data"
    }
   ],
   "source": [
    "confusion_matrix_data(test_dummy, test_dummy.readmitted, alt_interaction_model_timepred_interact, cutoff=0.5)"
   ]
  },
  {
   "attachments": {},
   "cell_type": "markdown",
   "metadata": {},
   "source": [
    "This model is decent at predicting true negatives."
   ]
  },
  {
   "attachments": {},
   "cell_type": "markdown",
   "metadata": {},
   "source": [
    "Model 2.3: making both `time_in_hospital` and `age` values their own predictors\n"
   ]
  },
  {
   "cell_type": "code",
   "execution_count": 185,
   "metadata": {},
   "outputs": [
    {
     "data": {
      "text/plain": [
       "'readmitted ~ time_in_hospital1 + time_in_hospital2 + time_in_hospital3 + time_in_hospital4 + time_in_hospital5 + time_in_hospital6 + time_in_hospital7 + time_in_hospital8 + time_in_hospital9 + time_in_hospital10 + time_in_hospital11 + time_in_hospital12 + time_in_hospital13 + time_in_hospital14 + num_of_changes + number_inpatient + age5 + age15 + age25 + age35 + age45 + age55 + age65 + age75 + age85 + age95'"
      ]
     },
     "execution_count": 185,
     "metadata": {},
     "output_type": "execute_result"
    }
   ],
   "source": [
    "form = 'readmitted ~ ' + ' + '.join(vars[1]) + ' + num_of_changes + number_inpatient + ' + ' + '.join(vars[0])\n",
    "form"
   ]
  },
  {
   "cell_type": "code",
   "execution_count": 186,
   "metadata": {},
   "outputs": [
    {
     "name": "stdout",
     "output_type": "stream",
     "text": [
      "Optimization terminated successfully.\n",
      "         Current function value: 0.672479\n",
      "         Iterations 7\n"
     ]
    },
    {
     "data": {
      "text/html": [
       "<table class=\"simpletable\">\n",
       "<caption>Logit Regression Results</caption>\n",
       "<tr>\n",
       "  <th>Dep. Variable:</th>      <td>readmitted</td>    <th>  No. Observations:  </th>  <td> 12586</td>  \n",
       "</tr>\n",
       "<tr>\n",
       "  <th>Model:</th>                 <td>Logit</td>      <th>  Df Residuals:      </th>  <td> 12560</td>  \n",
       "</tr>\n",
       "<tr>\n",
       "  <th>Method:</th>                 <td>MLE</td>       <th>  Df Model:          </th>  <td>    25</td>  \n",
       "</tr>\n",
       "<tr>\n",
       "  <th>Date:</th>            <td>Fri, 24 Feb 2023</td> <th>  Pseudo R-squ.:     </th>  <td>0.02982</td> \n",
       "</tr>\n",
       "<tr>\n",
       "  <th>Time:</th>                <td>01:40:48</td>     <th>  Log-Likelihood:    </th> <td> -8463.8</td> \n",
       "</tr>\n",
       "<tr>\n",
       "  <th>converged:</th>             <td>True</td>       <th>  LL-Null:           </th> <td> -8724.0</td> \n",
       "</tr>\n",
       "<tr>\n",
       "  <th>Covariance Type:</th>     <td>nonrobust</td>    <th>  LLR p-value:       </th> <td>4.845e-94</td>\n",
       "</tr>\n",
       "</table>\n",
       "<table class=\"simpletable\">\n",
       "<tr>\n",
       "           <td></td>             <th>coef</th>     <th>std err</th>      <th>z</th>      <th>P>|z|</th>  <th>[0.025</th>    <th>0.975]</th>  \n",
       "</tr>\n",
       "<tr>\n",
       "  <th>Intercept</th>          <td>   -0.2059</td> <td> 1.07e+06</td> <td>-1.93e-07</td> <td> 1.000</td> <td>-2.09e+06</td> <td> 2.09e+06</td>\n",
       "</tr>\n",
       "<tr>\n",
       "  <th>time_in_hospital1</th>  <td>   -0.4697</td> <td> 1.76e+05</td> <td>-2.67e-06</td> <td> 1.000</td> <td>-3.45e+05</td> <td> 3.45e+05</td>\n",
       "</tr>\n",
       "<tr>\n",
       "  <th>time_in_hospital2</th>  <td>   -0.3197</td> <td> 1.66e+05</td> <td>-1.93e-06</td> <td> 1.000</td> <td>-3.25e+05</td> <td> 3.25e+05</td>\n",
       "</tr>\n",
       "<tr>\n",
       "  <th>time_in_hospital3</th>  <td>   -0.1891</td> <td> 1.81e+05</td> <td>-1.05e-06</td> <td> 1.000</td> <td>-3.54e+05</td> <td> 3.54e+05</td>\n",
       "</tr>\n",
       "<tr>\n",
       "  <th>time_in_hospital4</th>  <td>   -0.1519</td> <td> 1.71e+05</td> <td> -8.9e-07</td> <td> 1.000</td> <td>-3.34e+05</td> <td> 3.34e+05</td>\n",
       "</tr>\n",
       "<tr>\n",
       "  <th>time_in_hospital5</th>  <td>   -0.0301</td> <td> 1.83e+05</td> <td>-1.65e-07</td> <td> 1.000</td> <td>-3.58e+05</td> <td> 3.58e+05</td>\n",
       "</tr>\n",
       "<tr>\n",
       "  <th>time_in_hospital6</th>  <td>    0.0776</td> <td> 2.06e+05</td> <td> 3.77e-07</td> <td> 1.000</td> <td>-4.03e+05</td> <td> 4.03e+05</td>\n",
       "</tr>\n",
       "<tr>\n",
       "  <th>time_in_hospital7</th>  <td>    0.0164</td> <td> 1.74e+05</td> <td> 9.42e-08</td> <td> 1.000</td> <td>-3.42e+05</td> <td> 3.42e+05</td>\n",
       "</tr>\n",
       "<tr>\n",
       "  <th>time_in_hospital8</th>  <td>    0.1959</td> <td> 1.85e+05</td> <td> 1.06e-06</td> <td> 1.000</td> <td>-3.62e+05</td> <td> 3.62e+05</td>\n",
       "</tr>\n",
       "<tr>\n",
       "  <th>time_in_hospital9</th>  <td>    0.2859</td> <td> 1.67e+05</td> <td> 1.71e-06</td> <td> 1.000</td> <td>-3.27e+05</td> <td> 3.27e+05</td>\n",
       "</tr>\n",
       "<tr>\n",
       "  <th>time_in_hospital10</th> <td>    0.1465</td> <td>  1.7e+05</td> <td> 8.61e-07</td> <td> 1.000</td> <td>-3.34e+05</td> <td> 3.34e+05</td>\n",
       "</tr>\n",
       "<tr>\n",
       "  <th>time_in_hospital11</th> <td>   -0.0812</td> <td> 1.84e+05</td> <td>-4.42e-07</td> <td> 1.000</td> <td> -3.6e+05</td> <td>  3.6e+05</td>\n",
       "</tr>\n",
       "<tr>\n",
       "  <th>time_in_hospital12</th> <td>    0.2863</td> <td> 1.72e+05</td> <td> 1.67e-06</td> <td> 1.000</td> <td>-3.36e+05</td> <td> 3.36e+05</td>\n",
       "</tr>\n",
       "<tr>\n",
       "  <th>time_in_hospital13</th> <td>   -0.0096</td> <td> 1.73e+05</td> <td>-5.57e-08</td> <td> 1.000</td> <td>-3.39e+05</td> <td> 3.39e+05</td>\n",
       "</tr>\n",
       "<tr>\n",
       "  <th>time_in_hospital14</th> <td>    0.0368</td> <td> 1.65e+05</td> <td> 2.24e-07</td> <td> 1.000</td> <td>-3.23e+05</td> <td> 3.23e+05</td>\n",
       "</tr>\n",
       "<tr>\n",
       "  <th>num_of_changes</th>     <td>    0.1011</td> <td>    0.039</td> <td>    2.619</td> <td> 0.009</td> <td>    0.025</td> <td>    0.177</td>\n",
       "</tr>\n",
       "<tr>\n",
       "  <th>number_inpatient</th>   <td>    0.4162</td> <td>    0.030</td> <td>   13.918</td> <td> 0.000</td> <td>    0.358</td> <td>    0.475</td>\n",
       "</tr>\n",
       "<tr>\n",
       "  <th>age5</th>               <td>   -0.9291</td> <td> 3.15e+05</td> <td>-2.95e-06</td> <td> 1.000</td> <td>-6.17e+05</td> <td> 6.17e+05</td>\n",
       "</tr>\n",
       "<tr>\n",
       "  <th>age15</th>              <td>   -0.4017</td> <td> 3.15e+05</td> <td>-1.28e-06</td> <td> 1.000</td> <td>-6.17e+05</td> <td> 6.17e+05</td>\n",
       "</tr>\n",
       "<tr>\n",
       "  <th>age25</th>              <td>   -0.0222</td> <td> 3.15e+05</td> <td>-7.05e-08</td> <td> 1.000</td> <td>-6.17e+05</td> <td> 6.17e+05</td>\n",
       "</tr>\n",
       "<tr>\n",
       "  <th>age35</th>              <td>   -0.0380</td> <td> 3.15e+05</td> <td>-1.21e-07</td> <td> 1.000</td> <td>-6.17e+05</td> <td> 6.17e+05</td>\n",
       "</tr>\n",
       "<tr>\n",
       "  <th>age45</th>              <td>    0.0039</td> <td> 3.15e+05</td> <td> 1.25e-08</td> <td> 1.000</td> <td>-6.17e+05</td> <td> 6.17e+05</td>\n",
       "</tr>\n",
       "<tr>\n",
       "  <th>age55</th>              <td>    0.0139</td> <td> 3.15e+05</td> <td> 4.43e-08</td> <td> 1.000</td> <td>-6.17e+05</td> <td> 6.17e+05</td>\n",
       "</tr>\n",
       "<tr>\n",
       "  <th>age65</th>              <td>    0.2489</td> <td> 3.15e+05</td> <td> 7.91e-07</td> <td> 1.000</td> <td>-6.17e+05</td> <td> 6.17e+05</td>\n",
       "</tr>\n",
       "<tr>\n",
       "  <th>age75</th>              <td>    0.3676</td> <td> 3.15e+05</td> <td> 1.17e-06</td> <td> 1.000</td> <td>-6.17e+05</td> <td> 6.17e+05</td>\n",
       "</tr>\n",
       "<tr>\n",
       "  <th>age85</th>              <td>    0.3553</td> <td> 3.15e+05</td> <td> 1.13e-06</td> <td> 1.000</td> <td>-6.17e+05</td> <td> 6.17e+05</td>\n",
       "</tr>\n",
       "<tr>\n",
       "  <th>age95</th>              <td>    0.1954</td> <td> 3.15e+05</td> <td> 6.21e-07</td> <td> 1.000</td> <td>-6.17e+05</td> <td> 6.17e+05</td>\n",
       "</tr>\n",
       "</table>"
      ],
      "text/plain": [
       "<class 'statsmodels.iolib.summary.Summary'>\n",
       "\"\"\"\n",
       "                           Logit Regression Results                           \n",
       "==============================================================================\n",
       "Dep. Variable:             readmitted   No. Observations:                12586\n",
       "Model:                          Logit   Df Residuals:                    12560\n",
       "Method:                           MLE   Df Model:                           25\n",
       "Date:                Fri, 24 Feb 2023   Pseudo R-squ.:                 0.02982\n",
       "Time:                        01:40:48   Log-Likelihood:                -8463.8\n",
       "converged:                       True   LL-Null:                       -8724.0\n",
       "Covariance Type:            nonrobust   LLR p-value:                 4.845e-94\n",
       "======================================================================================\n",
       "                         coef    std err          z      P>|z|      [0.025      0.975]\n",
       "--------------------------------------------------------------------------------------\n",
       "Intercept             -0.2059   1.07e+06  -1.93e-07      1.000   -2.09e+06    2.09e+06\n",
       "time_in_hospital1     -0.4697   1.76e+05  -2.67e-06      1.000   -3.45e+05    3.45e+05\n",
       "time_in_hospital2     -0.3197   1.66e+05  -1.93e-06      1.000   -3.25e+05    3.25e+05\n",
       "time_in_hospital3     -0.1891   1.81e+05  -1.05e-06      1.000   -3.54e+05    3.54e+05\n",
       "time_in_hospital4     -0.1519   1.71e+05   -8.9e-07      1.000   -3.34e+05    3.34e+05\n",
       "time_in_hospital5     -0.0301   1.83e+05  -1.65e-07      1.000   -3.58e+05    3.58e+05\n",
       "time_in_hospital6      0.0776   2.06e+05   3.77e-07      1.000   -4.03e+05    4.03e+05\n",
       "time_in_hospital7      0.0164   1.74e+05   9.42e-08      1.000   -3.42e+05    3.42e+05\n",
       "time_in_hospital8      0.1959   1.85e+05   1.06e-06      1.000   -3.62e+05    3.62e+05\n",
       "time_in_hospital9      0.2859   1.67e+05   1.71e-06      1.000   -3.27e+05    3.27e+05\n",
       "time_in_hospital10     0.1465    1.7e+05   8.61e-07      1.000   -3.34e+05    3.34e+05\n",
       "time_in_hospital11    -0.0812   1.84e+05  -4.42e-07      1.000    -3.6e+05     3.6e+05\n",
       "time_in_hospital12     0.2863   1.72e+05   1.67e-06      1.000   -3.36e+05    3.36e+05\n",
       "time_in_hospital13    -0.0096   1.73e+05  -5.57e-08      1.000   -3.39e+05    3.39e+05\n",
       "time_in_hospital14     0.0368   1.65e+05   2.24e-07      1.000   -3.23e+05    3.23e+05\n",
       "num_of_changes         0.1011      0.039      2.619      0.009       0.025       0.177\n",
       "number_inpatient       0.4162      0.030     13.918      0.000       0.358       0.475\n",
       "age5                  -0.9291   3.15e+05  -2.95e-06      1.000   -6.17e+05    6.17e+05\n",
       "age15                 -0.4017   3.15e+05  -1.28e-06      1.000   -6.17e+05    6.17e+05\n",
       "age25                 -0.0222   3.15e+05  -7.05e-08      1.000   -6.17e+05    6.17e+05\n",
       "age35                 -0.0380   3.15e+05  -1.21e-07      1.000   -6.17e+05    6.17e+05\n",
       "age45                  0.0039   3.15e+05   1.25e-08      1.000   -6.17e+05    6.17e+05\n",
       "age55                  0.0139   3.15e+05   4.43e-08      1.000   -6.17e+05    6.17e+05\n",
       "age65                  0.2489   3.15e+05   7.91e-07      1.000   -6.17e+05    6.17e+05\n",
       "age75                  0.3676   3.15e+05   1.17e-06      1.000   -6.17e+05    6.17e+05\n",
       "age85                  0.3553   3.15e+05   1.13e-06      1.000   -6.17e+05    6.17e+05\n",
       "age95                  0.1954   3.15e+05   6.21e-07      1.000   -6.17e+05    6.17e+05\n",
       "======================================================================================\n",
       "\"\"\""
      ]
     },
     "execution_count": 186,
     "metadata": {},
     "output_type": "execute_result"
    }
   ],
   "source": [
    "alt_interaction_model_timeagepred = sm.logit(formula = form, data = train1_dummy).fit() \n",
    "alt_interaction_model_timeagepred.summary()"
   ]
  },
  {
   "cell_type": "code",
   "execution_count": 191,
   "metadata": {},
   "outputs": [
    {
     "name": "stdout",
     "output_type": "stream",
     "text": [
      "Classification accuracy = 57.8%\n",
      "Precision = 58.6%\n",
      "TPR or Recall = 53.1%\n",
      "FNR = 46.9%\n",
      "FPR = 37.5%\n",
      "ROC-AUC = 61.2%\n"
     ]
    },
    {
     "data": {
      "image/png": "[encoded data removed]",
      "text/plain": [
       "<Figure size 432x288 with 2 Axes>"
      ]
     },
     "metadata": {
      "needs_background": "light"
     },
     "output_type": "display_data"
    }
   ],
   "source": [
    "confusion_matrix_data(train1_dummy, train1_dummy.readmitted, alt_interaction_model_timeagepred, cutoff=0.5)"
   ]
  },
  {
   "cell_type": "code",
   "execution_count": 188,
   "metadata": {},
   "outputs": [
    {
     "name": "stdout",
     "output_type": "stream",
     "text": [
      "Classification accuracy = 61.2%\n",
      "Precision = 12.6%\n",
      "TPR or Recall = 54.4%\n",
      "FNR = 45.6%\n",
      "FPR = 38.1%\n",
      "ROC-AUC = 60.7%\n"
     ]
    },
    {
     "data": {
      "image/png": "[encoded data removed]",
      "text/plain": [
       "<Figure size 432x288 with 2 Axes>"
      ]
     },
     "metadata": {
      "needs_background": "light"
     },
     "output_type": "display_data"
    }
   ],
   "source": [
    "confusion_matrix_data(test_dummy, test_dummy.readmitted, alt_interaction_model_timeagepred, cutoff=0.5)"
   ]
  },
  {
   "attachments": {},
   "cell_type": "markdown",
   "metadata": {},
   "source": [
    "#### Model 3: `readmitted ~ num_of_changes*time_in_hospital + age*time_in_hospital + number_inpatient`"
   ]
  },
  {
   "cell_type": "code",
   "execution_count": 165,
   "metadata": {},
   "outputs": [
    {
     "name": "stdout",
     "output_type": "stream",
     "text": [
      "Optimization terminated successfully.\n",
      "         Current function value: 0.674417\n",
      "         Iterations 5\n"
     ]
    }
   ],
   "source": [
    "both_interaction_model = sm.logit('readmitted ~ num_of_changes*time_in_hospital + age*time_in_hospital + number_inpatient', train1).fit()"
   ]
  },
  {
   "attachments": {},
   "cell_type": "markdown",
   "metadata": {},
   "source": [
    "### Exploring diagnoses"
   ]
  },
  {
   "cell_type": "code",
   "execution_count": 113,
   "metadata": {},
   "outputs": [
    {
     "data": {
      "text/plain": [
       "Index(['encounter_id', 'patient_nbr', 'race', 'gender', 'age',\n",
       "       'admission_type_id', 'discharge_disposition_id', 'admission_source_id',\n",
       "       'time_in_hospital', 'payer_code', 'num_lab_procedures',\n",
       "       'num_procedures', 'num_medications', 'number_outpatient',\n",
       "       'number_emergency', 'number_inpatient', 'diag_1', 'diag_2', 'diag_3',\n",
       "       'number_diagnoses', 'max_glu_serum', 'A1Cresult', 'metformin',\n",
       "       'repaglinide', 'nateglinide', 'chlorpropamide', 'glimepiride',\n",
       "       'acetohexamide', 'glipizide', 'glyburide', 'tolbutamide',\n",
       "       'pioglitazone', 'rosiglitazone', 'acarbose', 'miglitol', 'troglitazone',\n",
       "       'tolazamide', 'examide', 'citoglipton', 'insulin',\n",
       "       'glyburide-metformin', 'glipizide-metformin',\n",
       "       'glimepiride-pioglitazone', 'metformin-rosiglitazone',\n",
       "       'metformin-pioglitazone', 'change', 'diabetesMed', 'readmitted',\n",
       "       'num_of_changes'],\n",
       "      dtype='object')"
      ]
     },
     "execution_count": 113,
     "metadata": {},
     "output_type": "execute_result"
    }
   ],
   "source": [
    "train1.columns"
   ]
  },
  {
   "cell_type": "code",
   "execution_count": 129,
   "metadata": {},
   "outputs": [
    {
     "data": {
      "text/plain": [
       "69952    1\n",
       "34736    1\n",
       "7437     1\n",
       "37190    3\n",
       "26056    3\n",
       "        ..\n",
       "26283    1\n",
       "64104    1\n",
       "36963    1\n",
       "70925    1\n",
       "55384    1\n",
       "Name: admission_type_id, Length: 12586, dtype: int64"
      ]
     },
     "execution_count": 129,
     "metadata": {},
     "output_type": "execute_result"
    }
   ],
   "source": [
    "train1.admission_type_id"
   ]
  },
  {
   "cell_type": "code",
   "execution_count": 114,
   "metadata": {},
   "outputs": [
    {
     "name": "stdout",
     "output_type": "stream",
     "text": [
      "Optimization terminated successfully.\n",
      "         Current function value: 0.690176\n",
      "         Iterations 5\n"
     ]
    },
    {
     "data": {
      "text/html": [
       "<table class=\"simpletable\">\n",
       "<caption>Logit Regression Results</caption>\n",
       "<tr>\n",
       "  <th>Dep. Variable:</th>      <td>readmitted</td>    <th>  No. Observations:  </th>  <td> 12586</td>  \n",
       "</tr>\n",
       "<tr>\n",
       "  <th>Model:</th>                 <td>Logit</td>      <th>  Df Residuals:      </th>  <td> 12576</td>  \n",
       "</tr>\n",
       "<tr>\n",
       "  <th>Method:</th>                 <td>MLE</td>       <th>  Df Model:          </th>  <td>     9</td>  \n",
       "</tr>\n",
       "<tr>\n",
       "  <th>Date:</th>            <td>Fri, 24 Feb 2023</td> <th>  Pseudo R-squ.:     </th> <td>0.004287</td> \n",
       "</tr>\n",
       "<tr>\n",
       "  <th>Time:</th>                <td>00:58:00</td>     <th>  Log-Likelihood:    </th> <td> -8686.5</td> \n",
       "</tr>\n",
       "<tr>\n",
       "  <th>converged:</th>             <td>True</td>       <th>  LL-Null:           </th> <td> -8724.0</td> \n",
       "</tr>\n",
       "<tr>\n",
       "  <th>Covariance Type:</th>     <td>nonrobust</td>    <th>  LLR p-value:       </th> <td>1.730e-12</td>\n",
       "</tr>\n",
       "</table>\n",
       "<table class=\"simpletable\">\n",
       "<tr>\n",
       "              <td></td>                 <th>coef</th>     <th>std err</th>      <th>z</th>      <th>P>|z|</th>  <th>[0.025</th>    <th>0.975]</th>  \n",
       "</tr>\n",
       "<tr>\n",
       "  <th>Intercept</th>                 <td>    0.1087</td> <td>    0.032</td> <td>    3.408</td> <td> 0.001</td> <td>    0.046</td> <td>    0.171</td>\n",
       "</tr>\n",
       "<tr>\n",
       "  <th>diag_1[T.diabetes]</th>        <td>   -0.0679</td> <td>    0.070</td> <td>   -0.970</td> <td> 0.332</td> <td>   -0.205</td> <td>    0.069</td>\n",
       "</tr>\n",
       "<tr>\n",
       "  <th>diag_1[T.digestive]</th>       <td>   -0.2563</td> <td>    0.068</td> <td>   -3.784</td> <td> 0.000</td> <td>   -0.389</td> <td>   -0.124</td>\n",
       "</tr>\n",
       "<tr>\n",
       "  <th>diag_1[T.genitourinary]</th>   <td>   -0.0144</td> <td>    0.088</td> <td>   -0.163</td> <td> 0.870</td> <td>   -0.187</td> <td>    0.158</td>\n",
       "</tr>\n",
       "<tr>\n",
       "  <th>diag_1[T.injury]</th>          <td>    0.0823</td> <td>    0.073</td> <td>    1.122</td> <td> 0.262</td> <td>   -0.062</td> <td>    0.226</td>\n",
       "</tr>\n",
       "<tr>\n",
       "  <th>diag_1[T.musculoskeletal]</th> <td>   -0.1490</td> <td>    0.082</td> <td>   -1.811</td> <td> 0.070</td> <td>   -0.310</td> <td>    0.012</td>\n",
       "</tr>\n",
       "<tr>\n",
       "  <th>diag_1[T.neoplasms]</th>       <td>   -0.0957</td> <td>    0.099</td> <td>   -0.970</td> <td> 0.332</td> <td>   -0.289</td> <td>    0.098</td>\n",
       "</tr>\n",
       "<tr>\n",
       "  <th>diag_1[T.other]</th>           <td>   -0.1087</td> <td>    0.054</td> <td>   -2.019</td> <td> 0.043</td> <td>   -0.214</td> <td>   -0.003</td>\n",
       "</tr>\n",
       "<tr>\n",
       "  <th>diag_1[T.pregnecy]</th>        <td>   -1.0095</td> <td>    0.235</td> <td>   -4.301</td> <td> 0.000</td> <td>   -1.470</td> <td>   -0.549</td>\n",
       "</tr>\n",
       "<tr>\n",
       "  <th>diag_1[T.respiratory]</th>     <td>   -0.3840</td> <td>    0.060</td> <td>   -6.433</td> <td> 0.000</td> <td>   -0.501</td> <td>   -0.267</td>\n",
       "</tr>\n",
       "</table>"
      ],
      "text/plain": [
       "<class 'statsmodels.iolib.summary.Summary'>\n",
       "\"\"\"\n",
       "                           Logit Regression Results                           \n",
       "==============================================================================\n",
       "Dep. Variable:             readmitted   No. Observations:                12586\n",
       "Model:                          Logit   Df Residuals:                    12576\n",
       "Method:                           MLE   Df Model:                            9\n",
       "Date:                Fri, 24 Feb 2023   Pseudo R-squ.:                0.004287\n",
       "Time:                        00:58:00   Log-Likelihood:                -8686.5\n",
       "converged:                       True   LL-Null:                       -8724.0\n",
       "Covariance Type:            nonrobust   LLR p-value:                 1.730e-12\n",
       "=============================================================================================\n",
       "                                coef    std err          z      P>|z|      [0.025      0.975]\n",
       "---------------------------------------------------------------------------------------------\n",
       "Intercept                     0.1087      0.032      3.408      0.001       0.046       0.171\n",
       "diag_1[T.diabetes]           -0.0679      0.070     -0.970      0.332      -0.205       0.069\n",
       "diag_1[T.digestive]          -0.2563      0.068     -3.784      0.000      -0.389      -0.124\n",
       "diag_1[T.genitourinary]      -0.0144      0.088     -0.163      0.870      -0.187       0.158\n",
       "diag_1[T.injury]              0.0823      0.073      1.122      0.262      -0.062       0.226\n",
       "diag_1[T.musculoskeletal]    -0.1490      0.082     -1.811      0.070      -0.310       0.012\n",
       "diag_1[T.neoplasms]          -0.0957      0.099     -0.970      0.332      -0.289       0.098\n",
       "diag_1[T.other]              -0.1087      0.054     -2.019      0.043      -0.214      -0.003\n",
       "diag_1[T.pregnecy]           -1.0095      0.235     -4.301      0.000      -1.470      -0.549\n",
       "diag_1[T.respiratory]        -0.3840      0.060     -6.433      0.000      -0.501      -0.267\n",
       "=============================================================================================\n",
       "\"\"\""
      ]
     },
     "execution_count": 114,
     "metadata": {},
     "output_type": "execute_result"
    }
   ],
   "source": [
    "model_diag = sm.logit(formula = 'readmitted ~ diag_1', data = train1).fit() \n",
    "model_diag.summary()"
   ]
  },
  {
   "attachments": {},
   "cell_type": "markdown",
   "metadata": {},
   "source": [
    "Statistically significant predictors: diag_1[T.digestive], diag_1[T.pregnecy], diag_1[T.respiratory]"
   ]
  },
  {
   "cell_type": "code",
   "execution_count": 158,
   "metadata": {},
   "outputs": [
    {
     "name": "stdout",
     "output_type": "stream",
     "text": [
      "Classification accuracy = 52.8%\n",
      "Precision = 52.0%\n",
      "TPR or Recall = 74.9%\n",
      "FNR = 25.1%\n",
      "FPR = 69.3%\n",
      "ROC-AUC = 53.9%\n"
     ]
    },
    {
     "data": {
      "image/png": "[encoded data removed]",
      "text/plain": [
       "<Figure size 432x288 with 2 Axes>"
      ]
     },
     "metadata": {
      "needs_background": "light"
     },
     "output_type": "display_data"
    }
   ],
   "source": [
    "confusion_matrix_data(train1_dummy, train1_dummy.readmitted, model_diag, cutoff=0.5)"
   ]
  },
  {
   "cell_type": "code",
   "execution_count": 159,
   "metadata": {},
   "outputs": [
    {
     "name": "stdout",
     "output_type": "stream",
     "text": [
      "Classification accuracy = 34.3%\n",
      "Precision = 9.9%\n",
      "TPR or Recall = 76.6%\n",
      "FNR = 23.4%\n",
      "FPR = 70.0%\n",
      "ROC-AUC = 53.7%\n"
     ]
    },
    {
     "data": {
      "image/png": "[encoded data removed]",
      "text/plain": [
       "<Figure size 432x288 with 2 Axes>"
      ]
     },
     "metadata": {
      "needs_background": "light"
     },
     "output_type": "display_data"
    }
   ],
   "source": [
    "confusion_matrix_data(test_dummy, test_dummy.readmitted, model_diag, cutoff=0.5)"
   ]
  },
  {
   "attachments": {},
   "cell_type": "markdown",
   "metadata": {},
   "source": [
    "Observations\n",
    "- Model is better at predicting true positives and not predicting false negatives\n",
    "- But basically everything is being predicted as negative"
   ]
  },
  {
   "cell_type": "code",
   "execution_count": 120,
   "metadata": {},
   "outputs": [
    {
     "name": "stdout",
     "output_type": "stream",
     "text": [
      "Optimization terminated successfully.\n",
      "         Current function value: 0.688978\n",
      "         Iterations 5\n"
     ]
    },
    {
     "data": {
      "text/html": [
       "<table class=\"simpletable\">\n",
       "<caption>Logit Regression Results</caption>\n",
       "<tr>\n",
       "  <th>Dep. Variable:</th>      <td>readmitted</td>    <th>  No. Observations:  </th>  <td> 12586</td>  \n",
       "</tr>\n",
       "<tr>\n",
       "  <th>Model:</th>                 <td>Logit</td>      <th>  Df Residuals:      </th>  <td> 12567</td>  \n",
       "</tr>\n",
       "<tr>\n",
       "  <th>Method:</th>                 <td>MLE</td>       <th>  Df Model:          </th>  <td>    18</td>  \n",
       "</tr>\n",
       "<tr>\n",
       "  <th>Date:</th>            <td>Fri, 24 Feb 2023</td> <th>  Pseudo R-squ.:     </th> <td>0.006015</td> \n",
       "</tr>\n",
       "<tr>\n",
       "  <th>Time:</th>                <td>01:01:35</td>     <th>  Log-Likelihood:    </th> <td> -8671.5</td> \n",
       "</tr>\n",
       "<tr>\n",
       "  <th>converged:</th>             <td>True</td>       <th>  LL-Null:           </th> <td> -8724.0</td> \n",
       "</tr>\n",
       "<tr>\n",
       "  <th>Covariance Type:</th>     <td>nonrobust</td>    <th>  LLR p-value:       </th> <td>2.721e-14</td>\n",
       "</tr>\n",
       "</table>\n",
       "<table class=\"simpletable\">\n",
       "<tr>\n",
       "              <td></td>                 <th>coef</th>     <th>std err</th>      <th>z</th>      <th>P>|z|</th>  <th>[0.025</th>    <th>0.975]</th>  \n",
       "</tr>\n",
       "<tr>\n",
       "  <th>Intercept</th>                 <td>    0.1212</td> <td>    0.037</td> <td>    3.242</td> <td> 0.001</td> <td>    0.048</td> <td>    0.194</td>\n",
       "</tr>\n",
       "<tr>\n",
       "  <th>diag_1[T.diabetes]</th>        <td>   -0.0530</td> <td>    0.073</td> <td>   -0.730</td> <td> 0.465</td> <td>   -0.195</td> <td>    0.089</td>\n",
       "</tr>\n",
       "<tr>\n",
       "  <th>diag_1[T.digestive]</th>       <td>   -0.2854</td> <td>    0.071</td> <td>   -4.013</td> <td> 0.000</td> <td>   -0.425</td> <td>   -0.146</td>\n",
       "</tr>\n",
       "<tr>\n",
       "  <th>diag_1[T.genitourinary]</th>   <td>   -0.0068</td> <td>    0.090</td> <td>   -0.075</td> <td> 0.940</td> <td>   -0.183</td> <td>    0.169</td>\n",
       "</tr>\n",
       "<tr>\n",
       "  <th>diag_1[T.injury]</th>          <td>    0.0840</td> <td>    0.076</td> <td>    1.111</td> <td> 0.266</td> <td>   -0.064</td> <td>    0.232</td>\n",
       "</tr>\n",
       "<tr>\n",
       "  <th>diag_1[T.musculoskeletal]</th> <td>   -0.1335</td> <td>    0.084</td> <td>   -1.586</td> <td> 0.113</td> <td>   -0.298</td> <td>    0.031</td>\n",
       "</tr>\n",
       "<tr>\n",
       "  <th>diag_1[T.neoplasms]</th>       <td>   -0.2521</td> <td>    0.106</td> <td>   -2.384</td> <td> 0.017</td> <td>   -0.459</td> <td>   -0.045</td>\n",
       "</tr>\n",
       "<tr>\n",
       "  <th>diag_1[T.other]</th>           <td>   -0.1235</td> <td>    0.056</td> <td>   -2.222</td> <td> 0.026</td> <td>   -0.233</td> <td>   -0.015</td>\n",
       "</tr>\n",
       "<tr>\n",
       "  <th>diag_1[T.pregnecy]</th>        <td>   -0.7422</td> <td>    0.328</td> <td>   -2.265</td> <td> 0.024</td> <td>   -1.385</td> <td>   -0.100</td>\n",
       "</tr>\n",
       "<tr>\n",
       "  <th>diag_1[T.respiratory]</th>     <td>   -0.3769</td> <td>    0.060</td> <td>   -6.233</td> <td> 0.000</td> <td>   -0.495</td> <td>   -0.258</td>\n",
       "</tr>\n",
       "<tr>\n",
       "  <th>diag_2[T.diabetes]</th>        <td>    0.0013</td> <td>    0.060</td> <td>    0.022</td> <td> 0.982</td> <td>   -0.116</td> <td>    0.119</td>\n",
       "</tr>\n",
       "<tr>\n",
       "  <th>diag_2[T.digestive]</th>       <td>    0.1254</td> <td>    0.102</td> <td>    1.224</td> <td> 0.221</td> <td>   -0.075</td> <td>    0.326</td>\n",
       "</tr>\n",
       "<tr>\n",
       "  <th>diag_2[T.genitourinary]</th>   <td>   -0.0500</td> <td>    0.073</td> <td>   -0.687</td> <td> 0.492</td> <td>   -0.193</td> <td>    0.093</td>\n",
       "</tr>\n",
       "<tr>\n",
       "  <th>diag_2[T.injury]</th>          <td>    0.0463</td> <td>    0.116</td> <td>    0.400</td> <td> 0.689</td> <td>   -0.180</td> <td>    0.273</td>\n",
       "</tr>\n",
       "<tr>\n",
       "  <th>diag_2[T.musculoskeletal]</th> <td>   -0.1966</td> <td>    0.140</td> <td>   -1.400</td> <td> 0.161</td> <td>   -0.472</td> <td>    0.079</td>\n",
       "</tr>\n",
       "<tr>\n",
       "  <th>diag_2[T.neoplasms]</th>       <td>    0.5420</td> <td>    0.124</td> <td>    4.366</td> <td> 0.000</td> <td>    0.299</td> <td>    0.785</td>\n",
       "</tr>\n",
       "<tr>\n",
       "  <th>diag_2[T.other]</th>           <td>   -0.0400</td> <td>    0.050</td> <td>   -0.808</td> <td> 0.419</td> <td>   -0.137</td> <td>    0.057</td>\n",
       "</tr>\n",
       "<tr>\n",
       "  <th>diag_2[T.pregnecy]</th>        <td>   -0.5476</td> <td>    0.460</td> <td>   -1.189</td> <td> 0.234</td> <td>   -1.450</td> <td>    0.355</td>\n",
       "</tr>\n",
       "<tr>\n",
       "  <th>diag_2[T.respiratory]</th>     <td>   -0.0769</td> <td>    0.066</td> <td>   -1.163</td> <td> 0.245</td> <td>   -0.207</td> <td>    0.053</td>\n",
       "</tr>\n",
       "</table>"
      ],
      "text/plain": [
       "<class 'statsmodels.iolib.summary.Summary'>\n",
       "\"\"\"\n",
       "                           Logit Regression Results                           \n",
       "==============================================================================\n",
       "Dep. Variable:             readmitted   No. Observations:                12586\n",
       "Model:                          Logit   Df Residuals:                    12567\n",
       "Method:                           MLE   Df Model:                           18\n",
       "Date:                Fri, 24 Feb 2023   Pseudo R-squ.:                0.006015\n",
       "Time:                        01:01:35   Log-Likelihood:                -8671.5\n",
       "converged:                       True   LL-Null:                       -8724.0\n",
       "Covariance Type:            nonrobust   LLR p-value:                 2.721e-14\n",
       "=============================================================================================\n",
       "                                coef    std err          z      P>|z|      [0.025      0.975]\n",
       "---------------------------------------------------------------------------------------------\n",
       "Intercept                     0.1212      0.037      3.242      0.001       0.048       0.194\n",
       "diag_1[T.diabetes]           -0.0530      0.073     -0.730      0.465      -0.195       0.089\n",
       "diag_1[T.digestive]          -0.2854      0.071     -4.013      0.000      -0.425      -0.146\n",
       "diag_1[T.genitourinary]      -0.0068      0.090     -0.075      0.940      -0.183       0.169\n",
       "diag_1[T.injury]              0.0840      0.076      1.111      0.266      -0.064       0.232\n",
       "diag_1[T.musculoskeletal]    -0.1335      0.084     -1.586      0.113      -0.298       0.031\n",
       "diag_1[T.neoplasms]          -0.2521      0.106     -2.384      0.017      -0.459      -0.045\n",
       "diag_1[T.other]              -0.1235      0.056     -2.222      0.026      -0.233      -0.015\n",
       "diag_1[T.pregnecy]           -0.7422      0.328     -2.265      0.024      -1.385      -0.100\n",
       "diag_1[T.respiratory]        -0.3769      0.060     -6.233      0.000      -0.495      -0.258\n",
       "diag_2[T.diabetes]            0.0013      0.060      0.022      0.982      -0.116       0.119\n",
       "diag_2[T.digestive]           0.1254      0.102      1.224      0.221      -0.075       0.326\n",
       "diag_2[T.genitourinary]      -0.0500      0.073     -0.687      0.492      -0.193       0.093\n",
       "diag_2[T.injury]              0.0463      0.116      0.400      0.689      -0.180       0.273\n",
       "diag_2[T.musculoskeletal]    -0.1966      0.140     -1.400      0.161      -0.472       0.079\n",
       "diag_2[T.neoplasms]           0.5420      0.124      4.366      0.000       0.299       0.785\n",
       "diag_2[T.other]              -0.0400      0.050     -0.808      0.419      -0.137       0.057\n",
       "diag_2[T.pregnecy]           -0.5476      0.460     -1.189      0.234      -1.450       0.355\n",
       "diag_2[T.respiratory]        -0.0769      0.066     -1.163      0.245      -0.207       0.053\n",
       "=============================================================================================\n",
       "\"\"\""
      ]
     },
     "execution_count": 120,
     "metadata": {},
     "output_type": "execute_result"
    }
   ],
   "source": [
    "model_diag_2 = sm.logit(formula = 'readmitted ~ diag_1 + diag_2', data = train1).fit() \n",
    "model_diag_2.summary()"
   ]
  },
  {
   "attachments": {},
   "cell_type": "markdown",
   "metadata": {},
   "source": [
    "Statistically significant predictors: \n",
    "diag_1[T.digestive], diag_1[T.pregnecy], diag_1[T.respiratory]\n",
    "diag_1[T.neoplasms], diag_2[T.neoplasms]\n"
   ]
  },
  {
   "cell_type": "code",
   "execution_count": 161,
   "metadata": {},
   "outputs": [
    {
     "name": "stdout",
     "output_type": "stream",
     "text": [
      "Classification accuracy = 53.4%\n",
      "Precision = 53.1%\n",
      "TPR or Recall = 57.6%\n",
      "FNR = 42.4%\n",
      "FPR = 50.9%\n",
      "ROC-AUC = 54.8%\n"
     ]
    },
    {
     "data": {
      "image/png": "[encoded data removed]",
      "text/plain": [
       "<Figure size 432x288 with 2 Axes>"
      ]
     },
     "metadata": {
      "needs_background": "light"
     },
     "output_type": "display_data"
    }
   ],
   "source": [
    "confusion_matrix_data(train1_dummy, train1_dummy.readmitted, model_diag_2, cutoff=0.5)"
   ]
  },
  {
   "cell_type": "code",
   "execution_count": 162,
   "metadata": {},
   "outputs": [
    {
     "name": "stdout",
     "output_type": "stream",
     "text": [
      "Classification accuracy = 48.7%\n",
      "Precision = 10.0%\n",
      "TPR or Recall = 57.5%\n",
      "FNR = 42.5%\n",
      "FPR = 52.2%\n",
      "ROC-AUC = 53.8%\n"
     ]
    },
    {
     "data": {
      "image/png": "[encoded data removed]",
      "text/plain": [
       "<Figure size 432x288 with 2 Axes>"
      ]
     },
     "metadata": {
      "needs_background": "light"
     },
     "output_type": "display_data"
    }
   ],
   "source": [
    "confusion_matrix_data(test_dummy, test_dummy.readmitted, model_diag_2, cutoff=0.5)"
   ]
  },
  {
   "cell_type": "code",
   "execution_count": 124,
   "metadata": {},
   "outputs": [
    {
     "name": "stdout",
     "output_type": "stream",
     "text": [
      "Optimization terminated successfully.\n",
      "         Current function value: 0.688353\n",
      "         Iterations 6\n"
     ]
    },
    {
     "data": {
      "text/html": [
       "<table class=\"simpletable\">\n",
       "<caption>Logit Regression Results</caption>\n",
       "<tr>\n",
       "  <th>Dep. Variable:</th>      <td>readmitted</td>    <th>  No. Observations:  </th>  <td> 12586</td>  \n",
       "</tr>\n",
       "<tr>\n",
       "  <th>Model:</th>                 <td>Logit</td>      <th>  Df Residuals:      </th>  <td> 12558</td>  \n",
       "</tr>\n",
       "<tr>\n",
       "  <th>Method:</th>                 <td>MLE</td>       <th>  Df Model:          </th>  <td>    27</td>  \n",
       "</tr>\n",
       "<tr>\n",
       "  <th>Date:</th>            <td>Fri, 24 Feb 2023</td> <th>  Pseudo R-squ.:     </th> <td>0.006916</td> \n",
       "</tr>\n",
       "<tr>\n",
       "  <th>Time:</th>                <td>01:02:26</td>     <th>  Log-Likelihood:    </th> <td> -8663.6</td> \n",
       "</tr>\n",
       "<tr>\n",
       "  <th>converged:</th>             <td>True</td>       <th>  LL-Null:           </th> <td> -8724.0</td> \n",
       "</tr>\n",
       "<tr>\n",
       "  <th>Covariance Type:</th>     <td>nonrobust</td>    <th>  LLR p-value:       </th> <td>8.303e-14</td>\n",
       "</tr>\n",
       "</table>\n",
       "<table class=\"simpletable\">\n",
       "<tr>\n",
       "              <td></td>                 <th>coef</th>     <th>std err</th>      <th>z</th>      <th>P>|z|</th>  <th>[0.025</th>    <th>0.975]</th>  \n",
       "</tr>\n",
       "<tr>\n",
       "  <th>Intercept</th>                 <td>    0.1151</td> <td>    0.044</td> <td>    2.597</td> <td> 0.009</td> <td>    0.028</td> <td>    0.202</td>\n",
       "</tr>\n",
       "<tr>\n",
       "  <th>diag_1[T.diabetes]</th>        <td>   -0.0509</td> <td>    0.074</td> <td>   -0.688</td> <td> 0.491</td> <td>   -0.196</td> <td>    0.094</td>\n",
       "</tr>\n",
       "<tr>\n",
       "  <th>diag_1[T.digestive]</th>       <td>   -0.2939</td> <td>    0.072</td> <td>   -4.089</td> <td> 0.000</td> <td>   -0.435</td> <td>   -0.153</td>\n",
       "</tr>\n",
       "<tr>\n",
       "  <th>diag_1[T.genitourinary]</th>   <td>   -0.0100</td> <td>    0.090</td> <td>   -0.111</td> <td> 0.911</td> <td>   -0.187</td> <td>    0.167</td>\n",
       "</tr>\n",
       "<tr>\n",
       "  <th>diag_1[T.injury]</th>          <td>    0.0847</td> <td>    0.076</td> <td>    1.110</td> <td> 0.267</td> <td>   -0.065</td> <td>    0.234</td>\n",
       "</tr>\n",
       "<tr>\n",
       "  <th>diag_1[T.musculoskeletal]</th> <td>   -0.1351</td> <td>    0.085</td> <td>   -1.595</td> <td> 0.111</td> <td>   -0.301</td> <td>    0.031</td>\n",
       "</tr>\n",
       "<tr>\n",
       "  <th>diag_1[T.neoplasms]</th>       <td>   -0.2675</td> <td>    0.107</td> <td>   -2.507</td> <td> 0.012</td> <td>   -0.477</td> <td>   -0.058</td>\n",
       "</tr>\n",
       "<tr>\n",
       "  <th>diag_1[T.other]</th>           <td>   -0.1246</td> <td>    0.056</td> <td>   -2.223</td> <td> 0.026</td> <td>   -0.234</td> <td>   -0.015</td>\n",
       "</tr>\n",
       "<tr>\n",
       "  <th>diag_1[T.pregnecy]</th>        <td>   -0.0702</td> <td>    0.403</td> <td>   -0.174</td> <td> 0.862</td> <td>   -0.860</td> <td>    0.719</td>\n",
       "</tr>\n",
       "<tr>\n",
       "  <th>diag_1[T.respiratory]</th>     <td>   -0.3772</td> <td>    0.061</td> <td>   -6.227</td> <td> 0.000</td> <td>   -0.496</td> <td>   -0.258</td>\n",
       "</tr>\n",
       "<tr>\n",
       "  <th>diag_2[T.diabetes]</th>        <td>    0.0049</td> <td>    0.061</td> <td>    0.081</td> <td> 0.935</td> <td>   -0.115</td> <td>    0.124</td>\n",
       "</tr>\n",
       "<tr>\n",
       "  <th>diag_2[T.digestive]</th>       <td>    0.1108</td> <td>    0.103</td> <td>    1.071</td> <td> 0.284</td> <td>   -0.092</td> <td>    0.313</td>\n",
       "</tr>\n",
       "<tr>\n",
       "  <th>diag_2[T.genitourinary]</th>   <td>   -0.0565</td> <td>    0.073</td> <td>   -0.772</td> <td> 0.440</td> <td>   -0.200</td> <td>    0.087</td>\n",
       "</tr>\n",
       "<tr>\n",
       "  <th>diag_2[T.injury]</th>          <td>    0.0275</td> <td>    0.117</td> <td>    0.235</td> <td> 0.814</td> <td>   -0.201</td> <td>    0.256</td>\n",
       "</tr>\n",
       "<tr>\n",
       "  <th>diag_2[T.musculoskeletal]</th> <td>   -0.2023</td> <td>    0.142</td> <td>   -1.427</td> <td> 0.154</td> <td>   -0.480</td> <td>    0.076</td>\n",
       "</tr>\n",
       "<tr>\n",
       "  <th>diag_2[T.neoplasms]</th>       <td>    0.5157</td> <td>    0.128</td> <td>    4.025</td> <td> 0.000</td> <td>    0.265</td> <td>    0.767</td>\n",
       "</tr>\n",
       "<tr>\n",
       "  <th>diag_2[T.other]</th>           <td>   -0.0412</td> <td>    0.050</td> <td>   -0.827</td> <td> 0.408</td> <td>   -0.139</td> <td>    0.056</td>\n",
       "</tr>\n",
       "<tr>\n",
       "  <th>diag_2[T.pregnecy]</th>        <td>   -0.6274</td> <td>    0.484</td> <td>   -1.295</td> <td> 0.195</td> <td>   -1.577</td> <td>    0.322</td>\n",
       "</tr>\n",
       "<tr>\n",
       "  <th>diag_2[T.respiratory]</th>     <td>   -0.0792</td> <td>    0.066</td> <td>   -1.195</td> <td> 0.232</td> <td>   -0.209</td> <td>    0.051</td>\n",
       "</tr>\n",
       "<tr>\n",
       "  <th>diag_3[T.diabetes]</th>        <td>   -0.0223</td> <td>    0.055</td> <td>   -0.406</td> <td> 0.684</td> <td>   -0.130</td> <td>    0.085</td>\n",
       "</tr>\n",
       "<tr>\n",
       "  <th>diag_3[T.digestive]</th>       <td>    0.1329</td> <td>    0.099</td> <td>    1.344</td> <td> 0.179</td> <td>   -0.061</td> <td>    0.327</td>\n",
       "</tr>\n",
       "<tr>\n",
       "  <th>diag_3[T.genitourinary]</th>   <td>    0.0729</td> <td>    0.080</td> <td>    0.912</td> <td> 0.362</td> <td>   -0.084</td> <td>    0.229</td>\n",
       "</tr>\n",
       "<tr>\n",
       "  <th>diag_3[T.injury]</th>          <td>    0.1220</td> <td>    0.130</td> <td>    0.937</td> <td> 0.349</td> <td>   -0.133</td> <td>    0.377</td>\n",
       "</tr>\n",
       "<tr>\n",
       "  <th>diag_3[T.musculoskeletal]</th> <td>    0.1287</td> <td>    0.142</td> <td>    0.904</td> <td> 0.366</td> <td>   -0.150</td> <td>    0.408</td>\n",
       "</tr>\n",
       "<tr>\n",
       "  <th>diag_3[T.neoplasms]</th>       <td>    0.1130</td> <td>    0.140</td> <td>    0.807</td> <td> 0.419</td> <td>   -0.161</td> <td>    0.387</td>\n",
       "</tr>\n",
       "<tr>\n",
       "  <th>diag_3[T.other]</th>           <td>   -0.0279</td> <td>    0.048</td> <td>   -0.582</td> <td> 0.560</td> <td>   -0.122</td> <td>    0.066</td>\n",
       "</tr>\n",
       "<tr>\n",
       "  <th>diag_3[T.pregnecy]</th>        <td>   -1.4373</td> <td>    0.519</td> <td>   -2.771</td> <td> 0.006</td> <td>   -2.454</td> <td>   -0.421</td>\n",
       "</tr>\n",
       "<tr>\n",
       "  <th>diag_3[T.respiratory]</th>     <td>    0.0709</td> <td>    0.074</td> <td>    0.957</td> <td> 0.338</td> <td>   -0.074</td> <td>    0.216</td>\n",
       "</tr>\n",
       "</table>"
      ],
      "text/plain": [
       "<class 'statsmodels.iolib.summary.Summary'>\n",
       "\"\"\"\n",
       "                           Logit Regression Results                           \n",
       "==============================================================================\n",
       "Dep. Variable:             readmitted   No. Observations:                12586\n",
       "Model:                          Logit   Df Residuals:                    12558\n",
       "Method:                           MLE   Df Model:                           27\n",
       "Date:                Fri, 24 Feb 2023   Pseudo R-squ.:                0.006916\n",
       "Time:                        01:02:26   Log-Likelihood:                -8663.6\n",
       "converged:                       True   LL-Null:                       -8724.0\n",
       "Covariance Type:            nonrobust   LLR p-value:                 8.303e-14\n",
       "=============================================================================================\n",
       "                                coef    std err          z      P>|z|      [0.025      0.975]\n",
       "---------------------------------------------------------------------------------------------\n",
       "Intercept                     0.1151      0.044      2.597      0.009       0.028       0.202\n",
       "diag_1[T.diabetes]           -0.0509      0.074     -0.688      0.491      -0.196       0.094\n",
       "diag_1[T.digestive]          -0.2939      0.072     -4.089      0.000      -0.435      -0.153\n",
       "diag_1[T.genitourinary]      -0.0100      0.090     -0.111      0.911      -0.187       0.167\n",
       "diag_1[T.injury]              0.0847      0.076      1.110      0.267      -0.065       0.234\n",
       "diag_1[T.musculoskeletal]    -0.1351      0.085     -1.595      0.111      -0.301       0.031\n",
       "diag_1[T.neoplasms]          -0.2675      0.107     -2.507      0.012      -0.477      -0.058\n",
       "diag_1[T.other]              -0.1246      0.056     -2.223      0.026      -0.234      -0.015\n",
       "diag_1[T.pregnecy]           -0.0702      0.403     -0.174      0.862      -0.860       0.719\n",
       "diag_1[T.respiratory]        -0.3772      0.061     -6.227      0.000      -0.496      -0.258\n",
       "diag_2[T.diabetes]            0.0049      0.061      0.081      0.935      -0.115       0.124\n",
       "diag_2[T.digestive]           0.1108      0.103      1.071      0.284      -0.092       0.313\n",
       "diag_2[T.genitourinary]      -0.0565      0.073     -0.772      0.440      -0.200       0.087\n",
       "diag_2[T.injury]              0.0275      0.117      0.235      0.814      -0.201       0.256\n",
       "diag_2[T.musculoskeletal]    -0.2023      0.142     -1.427      0.154      -0.480       0.076\n",
       "diag_2[T.neoplasms]           0.5157      0.128      4.025      0.000       0.265       0.767\n",
       "diag_2[T.other]              -0.0412      0.050     -0.827      0.408      -0.139       0.056\n",
       "diag_2[T.pregnecy]           -0.6274      0.484     -1.295      0.195      -1.577       0.322\n",
       "diag_2[T.respiratory]        -0.0792      0.066     -1.195      0.232      -0.209       0.051\n",
       "diag_3[T.diabetes]           -0.0223      0.055     -0.406      0.684      -0.130       0.085\n",
       "diag_3[T.digestive]           0.1329      0.099      1.344      0.179      -0.061       0.327\n",
       "diag_3[T.genitourinary]       0.0729      0.080      0.912      0.362      -0.084       0.229\n",
       "diag_3[T.injury]              0.1220      0.130      0.937      0.349      -0.133       0.377\n",
       "diag_3[T.musculoskeletal]     0.1287      0.142      0.904      0.366      -0.150       0.408\n",
       "diag_3[T.neoplasms]           0.1130      0.140      0.807      0.419      -0.161       0.387\n",
       "diag_3[T.other]              -0.0279      0.048     -0.582      0.560      -0.122       0.066\n",
       "diag_3[T.pregnecy]           -1.4373      0.519     -2.771      0.006      -2.454      -0.421\n",
       "diag_3[T.respiratory]         0.0709      0.074      0.957      0.338      -0.074       0.216\n",
       "=============================================================================================\n",
       "\"\"\""
      ]
     },
     "execution_count": 124,
     "metadata": {},
     "output_type": "execute_result"
    }
   ],
   "source": [
    "model_diag_3 = sm.logit(formula = 'readmitted ~ diag_1 + diag_2 + diag_3', data = train1).fit() \n",
    "model_diag_3.summary()"
   ]
  },
  {
   "cell_type": "code",
   "execution_count": 163,
   "metadata": {},
   "outputs": [
    {
     "name": "stdout",
     "output_type": "stream",
     "text": [
      "Classification accuracy = 53.9%\n",
      "Precision = 53.4%\n",
      "TPR or Recall = 60.0%\n",
      "FNR = 40.0%\n",
      "FPR = 52.3%\n",
      "ROC-AUC = 55.0%\n"
     ]
    },
    {
     "data": {
      "image/png": "[encoded data removed]",
      "text/plain": [
       "<Figure size 432x288 with 2 Axes>"
      ]
     },
     "metadata": {
      "needs_background": "light"
     },
     "output_type": "display_data"
    }
   ],
   "source": [
    "confusion_matrix_data(train1_dummy, train1_dummy.readmitted, model_diag_3, cutoff=0.5)"
   ]
  },
  {
   "cell_type": "code",
   "execution_count": 164,
   "metadata": {},
   "outputs": [
    {
     "name": "stdout",
     "output_type": "stream",
     "text": [
      "Classification accuracy = 48.0%\n",
      "Precision = 10.3%\n",
      "TPR or Recall = 60.6%\n",
      "FNR = 39.4%\n",
      "FPR = 53.3%\n",
      "ROC-AUC = 54.5%\n"
     ]
    },
    {
     "data": {
      "image/png": "[encoded data removed]",
      "text/plain": [
       "<Figure size 432x288 with 2 Axes>"
      ]
     },
     "metadata": {
      "needs_background": "light"
     },
     "output_type": "display_data"
    }
   ],
   "source": [
    "confusion_matrix_data(test_dummy, test_dummy.readmitted, model_diag_3, cutoff=0.5)"
   ]
  },
  {
   "attachments": {},
   "cell_type": "markdown",
   "metadata": {},
   "source": [
    "#### Exploring admission_type_id, discharge_disposition_id, admission_source_id; each their own predictor after we binned in data cleaning"
   ]
  },
  {
   "cell_type": "code",
   "execution_count": null,
   "metadata": {},
   "outputs": [],
   "source": []
  }
 ],
 "metadata": {
  "kernelspec": {
   "display_name": "base",
   "language": "python",
   "name": "python3"
  },
  "language_info": {
   "codemirror_mode": {
    "name": "ipython",
    "version": 3
   },
   "file_extension": ".py",
   "mimetype": "text/x-python",
   "name": "python",
   "nbconvert_exporter": "python",
   "pygments_lexer": "ipython3",
   "version": "3.9.12"
  },
  "orig_nbformat": 4,
  "vscode": {
   "interpreter": {
    "hash": "44200ac29b99d68672da01cb17c5cd5c87da5f7d45953e51b866c7f246bda33e"
   }
  }
 },
 "nbformat": 4,
 "nbformat_minor": 2
}
