{
 "cells": [
  {
   "cell_type": "code",
   "execution_count": 462,
   "metadata": {},
   "outputs": [],
   "source": [
    "import pandas as pd\n",
    "import numpy as np\n",
    "import seaborn as sns\n",
    "import matplotlib.pyplot as plt\n",
    "import statsmodels.formula.api as sm\n",
    "import random"
   ]
  },
  {
   "cell_type": "code",
   "execution_count": 250,
   "metadata": {},
   "outputs": [],
   "source": [
    "# pip install imblearn\n",
    "# conda install -c conda-forge imbalanced-learn\n",
    "from imblearn.over_sampling import SMOTENC"
   ]
  },
  {
   "cell_type": "code",
   "execution_count": 3,
   "metadata": {},
   "outputs": [],
   "source": [
    "# Importing the test and train data (20/80 split), and the full dataset\n",
    "train = pd.read_csv('train.csv')\n",
    "test = pd.read_csv('test.csv')\n",
    "full_data = pd.read_csv('cleaned_data/diabetes_cleaned.csv')\n",
    "\n",
    "# Removing the first column\n",
    "train = train.iloc[:, 1:]\n",
    "test = test.iloc[:, 1:]\n",
    "full_data = full_data.iloc[:, 1:]"
   ]
  },
  {
   "attachments": {},
   "cell_type": "markdown",
   "metadata": {},
   "source": [
    "#### SMOTENC: Used to balance the distribution of responses in readmitted"
   ]
  },
  {
   "cell_type": "code",
   "execution_count": 272,
   "metadata": {},
   "outputs": [
    {
     "data": {
      "text/plain": [
       "0    52232\n",
       "1     4982\n",
       "Name: readmitted, dtype: int64"
      ]
     },
     "execution_count": 272,
     "metadata": {},
     "output_type": "execute_result"
    }
   ],
   "source": [
    "train.readmitted.value_counts()"
   ]
  },
  {
   "cell_type": "code",
   "execution_count": 429,
   "metadata": {},
   "outputs": [],
   "source": [
    "X_train = train.drop(columns=\"readmitted\")\n",
    "y_train = train.loc[:, \"readmitted\"]\n",
    "\n",
    "X_train_types = X_train.dtypes.to_frame().rename(columns={0: \"type\"})\n",
    "# get the name of all variables that are objects\n",
    "object_vars = list(X_train_types.loc[X_train_types.type == \"object\", :].index)\n",
    "object_vars = object_vars + [\"age\", \"admission_type_id\", \"discharge_disposition_id\", \"admission_source_id\", \"time_in_hospital\", \"num_of_changes\"]\n",
    "\n",
    "# get the indices of all \n",
    "object_var_indices = []\n",
    "for i in range(0, len(X_train.columns)):\n",
    "    if X_train.columns[i] in object_vars:\n",
    "        object_var_indices.append(i)"
   ]
  },
  {
   "cell_type": "code",
   "execution_count": 430,
   "metadata": {},
   "outputs": [
    {
     "data": {
      "text/plain": [
       "['race',\n",
       " 'gender',\n",
       " 'payer_code',\n",
       " 'diag_1',\n",
       " 'diag_2',\n",
       " 'diag_3',\n",
       " 'max_glu_serum',\n",
       " 'A1Cresult',\n",
       " 'metformin',\n",
       " 'repaglinide',\n",
       " 'nateglinide',\n",
       " 'chlorpropamide',\n",
       " 'glimepiride',\n",
       " 'acetohexamide',\n",
       " 'glipizide',\n",
       " 'glyburide',\n",
       " 'tolbutamide',\n",
       " 'pioglitazone',\n",
       " 'rosiglitazone',\n",
       " 'acarbose',\n",
       " 'miglitol',\n",
       " 'troglitazone',\n",
       " 'tolazamide',\n",
       " 'examide',\n",
       " 'citoglipton',\n",
       " 'insulin',\n",
       " 'glyburide-metformin',\n",
       " 'glipizide-metformin',\n",
       " 'glimepiride-pioglitazone',\n",
       " 'metformin-rosiglitazone',\n",
       " 'metformin-pioglitazone',\n",
       " 'change',\n",
       " 'diabetesMed',\n",
       " 'age',\n",
       " 'admission_type_id',\n",
       " 'discharge_disposition_id',\n",
       " 'admission_source_id',\n",
       " 'time_in_hospital',\n",
       " 'num_of_changes']"
      ]
     },
     "execution_count": 430,
     "metadata": {},
     "output_type": "execute_result"
    }
   ],
   "source": [
    "object_vars"
   ]
  },
  {
   "cell_type": "code",
   "execution_count": 431,
   "metadata": {},
   "outputs": [],
   "source": [
    "smote_nc = SMOTENC(categorical_features=object_var_indices, random_state=0)\n",
    "X_resampled, y_resampled = smote_nc.fit_resample(X_train, y_train)"
   ]
  },
  {
   "cell_type": "code",
   "execution_count": 432,
   "metadata": {},
   "outputs": [
    {
     "data": {
      "text/html": [
       "<div>\n",
       "<style scoped>\n",
       "    .dataframe tbody tr th:only-of-type {\n",
       "        vertical-align: middle;\n",
       "    }\n",
       "\n",
       "    .dataframe tbody tr th {\n",
       "        vertical-align: top;\n",
       "    }\n",
       "\n",
       "    .dataframe thead th {\n",
       "        text-align: right;\n",
       "    }\n",
       "</style>\n",
       "<table border=\"1\" class=\"dataframe\">\n",
       "  <thead>\n",
       "    <tr style=\"text-align: right;\">\n",
       "      <th></th>\n",
       "      <th>encounter_id</th>\n",
       "      <th>patient_nbr</th>\n",
       "      <th>race</th>\n",
       "      <th>gender</th>\n",
       "      <th>age</th>\n",
       "      <th>admission_type_id</th>\n",
       "      <th>discharge_disposition_id</th>\n",
       "      <th>admission_source_id</th>\n",
       "      <th>time_in_hospital</th>\n",
       "      <th>payer_code</th>\n",
       "      <th>...</th>\n",
       "      <th>citoglipton</th>\n",
       "      <th>insulin</th>\n",
       "      <th>glyburide-metformin</th>\n",
       "      <th>glipizide-metformin</th>\n",
       "      <th>glimepiride-pioglitazone</th>\n",
       "      <th>metformin-rosiglitazone</th>\n",
       "      <th>metformin-pioglitazone</th>\n",
       "      <th>change</th>\n",
       "      <th>diabetesMed</th>\n",
       "      <th>num_of_changes</th>\n",
       "    </tr>\n",
       "  </thead>\n",
       "  <tbody>\n",
       "    <tr>\n",
       "      <th>104459</th>\n",
       "      <td>59711012</td>\n",
       "      <td>720382</td>\n",
       "      <td>Caucasian</td>\n",
       "      <td>Male</td>\n",
       "      <td>75</td>\n",
       "      <td>1</td>\n",
       "      <td>1</td>\n",
       "      <td>7</td>\n",
       "      <td>3</td>\n",
       "      <td>?</td>\n",
       "      <td>...</td>\n",
       "      <td>No</td>\n",
       "      <td>Steady</td>\n",
       "      <td>No</td>\n",
       "      <td>No</td>\n",
       "      <td>No</td>\n",
       "      <td>No</td>\n",
       "      <td>No</td>\n",
       "      <td>Ch</td>\n",
       "      <td>Yes</td>\n",
       "      <td>1</td>\n",
       "    </tr>\n",
       "    <tr>\n",
       "      <th>104460</th>\n",
       "      <td>143659228</td>\n",
       "      <td>97051808</td>\n",
       "      <td>Caucasian</td>\n",
       "      <td>Male</td>\n",
       "      <td>75</td>\n",
       "      <td>1</td>\n",
       "      <td>1</td>\n",
       "      <td>7</td>\n",
       "      <td>8</td>\n",
       "      <td>?</td>\n",
       "      <td>...</td>\n",
       "      <td>No</td>\n",
       "      <td>Steady</td>\n",
       "      <td>No</td>\n",
       "      <td>No</td>\n",
       "      <td>No</td>\n",
       "      <td>No</td>\n",
       "      <td>No</td>\n",
       "      <td>No</td>\n",
       "      <td>Yes</td>\n",
       "      <td>0</td>\n",
       "    </tr>\n",
       "    <tr>\n",
       "      <th>104461</th>\n",
       "      <td>75845268</td>\n",
       "      <td>34501851</td>\n",
       "      <td>Caucasian</td>\n",
       "      <td>Male</td>\n",
       "      <td>85</td>\n",
       "      <td>1</td>\n",
       "      <td>1</td>\n",
       "      <td>7</td>\n",
       "      <td>7</td>\n",
       "      <td>?</td>\n",
       "      <td>...</td>\n",
       "      <td>No</td>\n",
       "      <td>Steady</td>\n",
       "      <td>No</td>\n",
       "      <td>No</td>\n",
       "      <td>No</td>\n",
       "      <td>No</td>\n",
       "      <td>No</td>\n",
       "      <td>No</td>\n",
       "      <td>Yes</td>\n",
       "      <td>0</td>\n",
       "    </tr>\n",
       "    <tr>\n",
       "      <th>104462</th>\n",
       "      <td>117079971</td>\n",
       "      <td>75686609</td>\n",
       "      <td>Caucasian</td>\n",
       "      <td>Female</td>\n",
       "      <td>85</td>\n",
       "      <td>1</td>\n",
       "      <td>1</td>\n",
       "      <td>7</td>\n",
       "      <td>6</td>\n",
       "      <td>MC</td>\n",
       "      <td>...</td>\n",
       "      <td>No</td>\n",
       "      <td>No</td>\n",
       "      <td>No</td>\n",
       "      <td>No</td>\n",
       "      <td>No</td>\n",
       "      <td>No</td>\n",
       "      <td>No</td>\n",
       "      <td>Ch</td>\n",
       "      <td>Yes</td>\n",
       "      <td>0</td>\n",
       "    </tr>\n",
       "    <tr>\n",
       "      <th>104463</th>\n",
       "      <td>66346819</td>\n",
       "      <td>23765475</td>\n",
       "      <td>Caucasian</td>\n",
       "      <td>Male</td>\n",
       "      <td>75</td>\n",
       "      <td>5</td>\n",
       "      <td>1</td>\n",
       "      <td>9</td>\n",
       "      <td>4</td>\n",
       "      <td>?</td>\n",
       "      <td>...</td>\n",
       "      <td>No</td>\n",
       "      <td>Steady</td>\n",
       "      <td>No</td>\n",
       "      <td>No</td>\n",
       "      <td>No</td>\n",
       "      <td>No</td>\n",
       "      <td>No</td>\n",
       "      <td>No</td>\n",
       "      <td>Yes</td>\n",
       "      <td>0</td>\n",
       "    </tr>\n",
       "  </tbody>\n",
       "</table>\n",
       "<p>5 rows × 48 columns</p>\n",
       "</div>"
      ],
      "text/plain": [
       "        encounter_id  patient_nbr       race  gender  age  admission_type_id  \\\n",
       "104459      59711012       720382  Caucasian    Male   75                  1   \n",
       "104460     143659228     97051808  Caucasian    Male   75                  1   \n",
       "104461      75845268     34501851  Caucasian    Male   85                  1   \n",
       "104462     117079971     75686609  Caucasian  Female   85                  1   \n",
       "104463      66346819     23765475  Caucasian    Male   75                  5   \n",
       "\n",
       "        discharge_disposition_id  admission_source_id  time_in_hospital  \\\n",
       "104459                         1                    7                 3   \n",
       "104460                         1                    7                 8   \n",
       "104461                         1                    7                 7   \n",
       "104462                         1                    7                 6   \n",
       "104463                         1                    9                 4   \n",
       "\n",
       "       payer_code  ...  citoglipton  insulin  glyburide-metformin  \\\n",
       "104459          ?  ...           No   Steady                   No   \n",
       "104460          ?  ...           No   Steady                   No   \n",
       "104461          ?  ...           No   Steady                   No   \n",
       "104462         MC  ...           No       No                   No   \n",
       "104463          ?  ...           No   Steady                   No   \n",
       "\n",
       "        glipizide-metformin  glimepiride-pioglitazone  \\\n",
       "104459                   No                        No   \n",
       "104460                   No                        No   \n",
       "104461                   No                        No   \n",
       "104462                   No                        No   \n",
       "104463                   No                        No   \n",
       "\n",
       "        metformin-rosiglitazone metformin-pioglitazone change diabetesMed  \\\n",
       "104459                       No                     No     Ch         Yes   \n",
       "104460                       No                     No     No         Yes   \n",
       "104461                       No                     No     No         Yes   \n",
       "104462                       No                     No     Ch         Yes   \n",
       "104463                       No                     No     No         Yes   \n",
       "\n",
       "        num_of_changes  \n",
       "104459               1  \n",
       "104460               0  \n",
       "104461               0  \n",
       "104462               0  \n",
       "104463               0  \n",
       "\n",
       "[5 rows x 48 columns]"
      ]
     },
     "execution_count": 432,
     "metadata": {},
     "output_type": "execute_result"
    }
   ],
   "source": [
    "X_resampled.tail()"
   ]
  },
  {
   "cell_type": "code",
   "execution_count": 433,
   "metadata": {},
   "outputs": [
    {
     "data": {
      "text/plain": [
       "Index(['encounter_id', 'patient_nbr', 'race', 'gender', 'age',\n",
       "       'admission_type_id', 'discharge_disposition_id', 'admission_source_id',\n",
       "       'time_in_hospital', 'payer_code', 'num_lab_procedures',\n",
       "       'num_procedures', 'num_medications', 'number_outpatient',\n",
       "       'number_emergency', 'number_inpatient', 'diag_1', 'diag_2', 'diag_3',\n",
       "       'number_diagnoses', 'max_glu_serum', 'A1Cresult', 'metformin',\n",
       "       'repaglinide', 'nateglinide', 'chlorpropamide', 'glimepiride',\n",
       "       'acetohexamide', 'glipizide', 'glyburide', 'tolbutamide',\n",
       "       'pioglitazone', 'rosiglitazone', 'acarbose', 'miglitol', 'troglitazone',\n",
       "       'tolazamide', 'examide', 'citoglipton', 'insulin',\n",
       "       'glyburide-metformin', 'glipizide-metformin',\n",
       "       'glimepiride-pioglitazone', 'metformin-rosiglitazone',\n",
       "       'metformin-pioglitazone', 'change', 'diabetesMed', 'num_of_changes'],\n",
       "      dtype='object')"
      ]
     },
     "execution_count": 433,
     "metadata": {},
     "output_type": "execute_result"
    }
   ],
   "source": [
    "X_resampled.columns"
   ]
  },
  {
   "cell_type": "code",
   "execution_count": 434,
   "metadata": {},
   "outputs": [],
   "source": [
    "# add the readmitted data back in\n",
    "X_resampled.loc[:, \"readmitted\"] = y_resampled\n",
    "train1 = X_resampled.copy()"
   ]
  },
  {
   "cell_type": "code",
   "execution_count": 435,
   "metadata": {},
   "outputs": [
    {
     "data": {
      "text/plain": [
       "0    52232\n",
       "1    52232\n",
       "Name: readmitted, dtype: int64"
      ]
     },
     "execution_count": 435,
     "metadata": {},
     "output_type": "execute_result"
    }
   ],
   "source": [
    "train1.readmitted.value_counts()"
   ]
  },
  {
   "attachments": {},
   "cell_type": "markdown",
   "metadata": {},
   "source": [
    "#### Summary of KEH LTW Modeling\n",
    "\n",
    "Variables that have a relationship with `readmitted`, from full dataset EDA:\n",
    "- `age`: as age increases, the proportion of individuals readmitted to the hospital increases. The number of observations overall increases. This trend persists until age 75, after which the number of hospital visits drop and the proportion of readmitted : not readmitted evens out. This variable is already binned by nature of our original dataset.\n",
    "    - -> because different age ranges have different distributions of readmitted : not readmitted, look into making each age bin its own predictor, if this isn't happening already\n",
    "- `time_in_hospital`: as time in hospital increases, the number of observations increase (up until 3 days), and then start to decrease. The ratio of readmitted : not readmitted gradually increases as `time_in_hospital` increases.\n",
    "    - -> the different distribution of readmittied: not readmitted at for each value of `time_in_hospital`. Similarly, look into making each day bin its own predictor, if it isn't already\n",
    "- `num_of_changes`: there doesn't seem to be much difference \n",
    "- `number_inpatient`: large difference!\n",
    "\n",
    "Interactions\n",
    "- as `age` increases, the `time_in_hospital` increases\n",
    "- as `time_in_hospital` increases, the `um_of_changes` also increases\n",
    "\n",
    "Models\n",
    "1. `readmitted ~ time_in_hospital*age + num_of_changes + number_inpatient`\n",
    "2. `readmitted ~ num_of_changes*time_in_hospital + number_inpatient + age`\n",
    "3. `readmitted ~ num_of_changes*time_in_hospital + age*time_in_hospital + number_inpatient`"
   ]
  },
  {
   "attachments": {},
   "cell_type": "markdown",
   "metadata": {},
   "source": [
    "Thoughts\n",
    "- More variable selection\n",
    "    - diag_1, diag_2, diag_3\n",
    "    - num_medications\n",
    "    - num_lab_procedures\n",
    "- Make the bins in `age` and `time_in_hospital` their own predictors\n",
    "- Evaluate performance of the existing KEH-LTW models with k-fold cross-validation\n",
    "- Look to see if there are other interactions or transformations"
   ]
  },
  {
   "cell_type": "code",
   "execution_count": 436,
   "metadata": {},
   "outputs": [
    {
     "data": {
      "text/plain": [
       "Text(0.5, 0, 'age')"
      ]
     },
     "execution_count": 436,
     "metadata": {},
     "output_type": "execute_result"
    },
    {
     "data": {
      "image/png": "[encoded data removed]",
      "text/plain": [
       "<Figure size 432x288 with 1 Axes>"
      ]
     },
     "metadata": {
      "needs_background": "light"
     },
     "output_type": "display_data"
    }
   ],
   "source": [
    "#Re-creating the plot of diabetes_percent vs age created earlier, just to check if the function binned age correctly. Yes, it did.\n",
    "age_data = train1.groupby('age')['readmitted'].agg([('readmitted_percent','mean'),('nobs','count')]).reset_index(drop=False)\n",
    "sns.lineplot(x = age_data.index, y= age_data['readmitted_percent'])\n",
    "plt.xlabel('age')"
   ]
  },
  {
   "cell_type": "code",
   "execution_count": 437,
   "metadata": {},
   "outputs": [
    {
     "data": {
      "text/plain": [
       "Text(0.5, 0, 'time_in_hospital')"
      ]
     },
     "execution_count": 437,
     "metadata": {},
     "output_type": "execute_result"
    },
    {
     "data": {
      "image/png": "[encoded data removed]",
      "text/plain": [
       "<Figure size 432x288 with 1 Axes>"
      ]
     },
     "metadata": {
      "needs_background": "light"
     },
     "output_type": "display_data"
    }
   ],
   "source": [
    "#Re-creating the plot of diabetes_percent vs age created earlier, just to check if the function binned age correctly. Yes, it did.\n",
    "time_data = train1.groupby('time_in_hospital')['readmitted'].agg([('readmitted_percent','mean'),('nobs','count')]).reset_index(drop=False)\n",
    "sns.lineplot(x = time_data.index, y= time_data['readmitted_percent'])\n",
    "plt.xlabel('time_in_hospital')"
   ]
  },
  {
   "attachments": {},
   "cell_type": "markdown",
   "metadata": {},
   "source": [
    "# create these plots for the other binned variables"
   ]
  },
  {
   "attachments": {},
   "cell_type": "markdown",
   "metadata": {},
   "source": [
    "#### KEH_LTW function for calculating confusion matrix and other evaluation statistics"
   ]
  },
  {
   "cell_type": "code",
   "execution_count": 8,
   "metadata": {},
   "outputs": [],
   "source": [
    "from sklearn.metrics import roc_curve, auc\n",
    "\n",
    "#Function to compute confusion matrix and prediction accuracy on test/train data\n",
    "def confusion_matrix_data(data,actual_values,model,cutoff=0.5):\n",
    "#Predict the values using the Logit model\n",
    "    pred_values = model.predict(data)\n",
    "# Specify the bins\n",
    "    bins=np.array([0,cutoff,1])\n",
    "#Confusion matrix\n",
    "    cm = np.histogram2d(actual_values, pred_values, bins=bins)[0]\n",
    "    cm_df = pd.DataFrame(cm)\n",
    "    cm_df.columns = ['Predicted 0','Predicted 1']\n",
    "    cm_df = cm_df.rename(index={0: 'Actual 0',1:'Actual 1'})\n",
    "# Calculate the accuracy\n",
    "    accuracy = (cm[0,0]+cm[1,1])/cm.sum()\n",
    "    fnr = (cm[1,0])/(cm[1,0]+cm[1,1])\n",
    "    precision = (cm[1,1])/(cm[0,1]+cm[1,1])\n",
    "    fpr = (cm[0,1])/(cm[0,0]+cm[0,1])\n",
    "    tpr = (cm[1,1])/(cm[1,0]+cm[1,1])\n",
    "    fpr_roc, tpr_roc, auc_thresholds = roc_curve(actual_values, pred_values)\n",
    "    auc_value = (auc(fpr_roc, tpr_roc))# AUC of ROC\n",
    "    sns.heatmap(cm_df, annot=True, cmap='Blues', fmt='g')\n",
    "    plt.ylabel(\"Actual Values\")\n",
    "    plt.xlabel(\"Predicted Values\")\n",
    "    print(\"Classification accuracy = {:.1%}\".format(accuracy))\n",
    "    print(\"Precision = {:.1%}\".format(precision))\n",
    "    print(\"TPR or Recall = {:.1%}\".format(tpr))\n",
    "    print(\"FNR = {:.1%}\".format(fnr))\n",
    "    print(\"FPR = {:.1%}\".format(fpr))\n",
    "    print(\"ROC-AUC = {:.1%}\".format(auc_value))"
   ]
  },
  {
   "attachments": {},
   "cell_type": "markdown",
   "metadata": {},
   "source": [
    "#### Creating a dataframe containing dummy variables for all binned variables"
   ]
  },
  {
   "cell_type": "code",
   "execution_count": 438,
   "metadata": {},
   "outputs": [
    {
     "data": {
      "text/plain": [
       "Index(['encounter_id', 'patient_nbr', 'race', 'gender', 'age',\n",
       "       'admission_type_id', 'discharge_disposition_id', 'admission_source_id',\n",
       "       'time_in_hospital', 'payer_code', 'num_lab_procedures',\n",
       "       'num_procedures', 'num_medications', 'number_outpatient',\n",
       "       'number_emergency', 'number_inpatient', 'diag_1', 'diag_2', 'diag_3',\n",
       "       'number_diagnoses', 'max_glu_serum', 'A1Cresult', 'metformin',\n",
       "       'repaglinide', 'nateglinide', 'chlorpropamide', 'glimepiride',\n",
       "       'acetohexamide', 'glipizide', 'glyburide', 'tolbutamide',\n",
       "       'pioglitazone', 'rosiglitazone', 'acarbose', 'miglitol', 'troglitazone',\n",
       "       'tolazamide', 'examide', 'citoglipton', 'insulin',\n",
       "       'glyburide-metformin', 'glipizide-metformin',\n",
       "       'glimepiride-pioglitazone', 'metformin-rosiglitazone',\n",
       "       'metformin-pioglitazone', 'change', 'diabetesMed', 'num_of_changes',\n",
       "       'readmitted', 'age5', 'age15', 'age25', 'age35', 'age45', 'age55',\n",
       "       'age65', 'age75', 'age85', 'age95', 'time_in_hospital1',\n",
       "       'time_in_hospital2', 'time_in_hospital3', 'time_in_hospital4',\n",
       "       'time_in_hospital5', 'time_in_hospital6', 'time_in_hospital7',\n",
       "       'time_in_hospital8', 'time_in_hospital9', 'time_in_hospital10',\n",
       "       'time_in_hospital11', 'time_in_hospital12', 'time_in_hospital13',\n",
       "       'time_in_hospital14', 'admission_type_id1', 'admission_type_id3',\n",
       "       'admission_type_id4', 'admission_type_id5', 'discharge_disposition_id1',\n",
       "       'discharge_disposition_id2', 'discharge_disposition_id7',\n",
       "       'discharge_disposition_id10', 'discharge_disposition_id11',\n",
       "       'discharge_disposition_id18', 'discharge_disposition_id27',\n",
       "       'discharge_disposition_id28', 'admission_source_id1',\n",
       "       'admission_source_id4', 'admission_source_id7', 'admission_source_id8',\n",
       "       'admission_source_id9', 'admission_source_id11'],\n",
       "      dtype='object')"
      ]
     },
     "execution_count": 438,
     "metadata": {},
     "output_type": "execute_result"
    }
   ],
   "source": [
    "dummy_preds = [\"age\", \"time_in_hospital\", \"admission_type_id\", \"discharge_disposition_id\", \"admission_source_id\"]\n",
    "train1_dummy = train1.copy()\n",
    "test_dummy = test.copy()\n",
    "vars = []\n",
    "\n",
    "for pred in dummy_preds:\n",
    "    dummy_train = pd.get_dummies(train1.loc[:, pred])\n",
    "    dummy_train.columns = [pred + str(x) for x in dummy_train.columns]\n",
    "    train1_dummy = pd.concat([train1_dummy, dummy_train], axis=1)\n",
    "    vars.append(list(dummy_train.columns))\n",
    "    \n",
    "    dummy_test = pd.get_dummies(test.loc[:, pred])\n",
    "    dummy_test.columns = [pred + str(x) for x in dummy_test.columns]\n",
    "    test_dummy = pd.concat([test_dummy, dummy_test], axis=1)\n",
    "    \n",
    "\n",
    "train1_dummy.columns"
   ]
  },
  {
   "cell_type": "code",
   "execution_count": 439,
   "metadata": {},
   "outputs": [
    {
     "data": {
      "text/plain": [
       "admission_type_id3           -0.150623\n",
       "admission_type_id            -0.125897\n",
       "num_of_changes               -0.117955\n",
       "num_procedures               -0.112715\n",
       "discharge_disposition_id11   -0.090895\n",
       "encounter_id                 -0.088490\n",
       "admission_source_id1         -0.087797\n",
       "age45                        -0.085362\n",
       "age55                        -0.081969\n",
       "age35                        -0.078263\n",
       "age25                        -0.061356\n",
       "admission_source_id4         -0.060654\n",
       "time_in_hospital1            -0.059654\n",
       "age95                        -0.054091\n",
       "admission_type_id5           -0.048503\n",
       "age15                        -0.046048\n",
       "discharge_disposition_id1    -0.045484\n",
       "discharge_disposition_id7    -0.043879\n",
       "number_outpatient            -0.043218\n",
       "age5                         -0.032365\n",
       "number_emergency             -0.031850\n",
       "time_in_hospital14           -0.024814\n",
       "admission_source_id9         -0.024277\n",
       "time_in_hospital13           -0.021423\n",
       "time_in_hospital11           -0.020996\n",
       "time_in_hospital2            -0.010555\n",
       "time_in_hospital9            -0.009292\n",
       "time_in_hospital12           -0.009106\n",
       "admission_source_id8         -0.008396\n",
       "discharge_disposition_id10   -0.005868\n",
       "admission_source_id11        -0.005359\n",
       "discharge_disposition_id27   -0.005359\n",
       "admission_type_id4           -0.005053\n",
       "discharge_disposition_id28   -0.003058\n",
       "number_diagnoses              0.001230\n",
       "time_in_hospital10            0.001538\n",
       "patient_nbr                   0.005040\n",
       "discharge_disposition_id      0.005372\n",
       "time_in_hospital5             0.009965\n",
       "time_in_hospital7             0.013308\n",
       "time_in_hospital              0.013498\n",
       "time_in_hospital3             0.014079\n",
       "age65                         0.016737\n",
       "time_in_hospital8             0.020077\n",
       "time_in_hospital4             0.025240\n",
       "discharge_disposition_id18    0.025920\n",
       "time_in_hospital6             0.032369\n",
       "num_medications               0.033171\n",
       "num_lab_procedures            0.041476\n",
       "number_inpatient              0.047832\n",
       "age85                         0.051326\n",
       "discharge_disposition_id2     0.062925\n",
       "admission_source_id           0.094565\n",
       "age75                         0.119695\n",
       "admission_source_id7          0.121496\n",
       "admission_type_id1            0.157021\n",
       "age                           0.158466\n",
       "readmitted                    1.000000\n",
       "dtype: float64"
      ]
     },
     "execution_count": 439,
     "metadata": {},
     "output_type": "execute_result"
    }
   ],
   "source": [
    "train1_dummy.corrwith(train1_dummy.readmitted).sort_values()"
   ]
  },
  {
   "attachments": {},
   "cell_type": "markdown",
   "metadata": {},
   "source": [
    "#### Examining multicollinearity"
   ]
  },
  {
   "cell_type": "code",
   "execution_count": 440,
   "metadata": {},
   "outputs": [
    {
     "data": {
      "text/html": [
       "<div>\n",
       "<style scoped>\n",
       "    .dataframe tbody tr th:only-of-type {\n",
       "        vertical-align: middle;\n",
       "    }\n",
       "\n",
       "    .dataframe tbody tr th {\n",
       "        vertical-align: top;\n",
       "    }\n",
       "\n",
       "    .dataframe thead th {\n",
       "        text-align: right;\n",
       "    }\n",
       "</style>\n",
       "<table border=\"1\" class=\"dataframe\">\n",
       "  <thead>\n",
       "    <tr style=\"text-align: right;\">\n",
       "      <th></th>\n",
       "      <th>time_in_hospital1</th>\n",
       "      <th>time_in_hospital2</th>\n",
       "      <th>time_in_hospital3</th>\n",
       "      <th>time_in_hospital4</th>\n",
       "      <th>time_in_hospital5</th>\n",
       "      <th>time_in_hospital6</th>\n",
       "      <th>time_in_hospital7</th>\n",
       "      <th>time_in_hospital8</th>\n",
       "      <th>time_in_hospital9</th>\n",
       "      <th>time_in_hospital10</th>\n",
       "      <th>time_in_hospital11</th>\n",
       "      <th>time_in_hospital12</th>\n",
       "      <th>time_in_hospital13</th>\n",
       "      <th>time_in_hospital14</th>\n",
       "    </tr>\n",
       "  </thead>\n",
       "  <tbody>\n",
       "    <tr>\n",
       "      <th>time_in_hospital1</th>\n",
       "      <td>1.000000</td>\n",
       "      <td>-0.178539</td>\n",
       "      <td>-0.186667</td>\n",
       "      <td>-0.158862</td>\n",
       "      <td>-0.129426</td>\n",
       "      <td>-0.115657</td>\n",
       "      <td>-0.097258</td>\n",
       "      <td>-0.082759</td>\n",
       "      <td>-0.063382</td>\n",
       "      <td>-0.057305</td>\n",
       "      <td>-0.047872</td>\n",
       "      <td>-0.043370</td>\n",
       "      <td>-0.037282</td>\n",
       "      <td>-0.034121</td>\n",
       "    </tr>\n",
       "    <tr>\n",
       "      <th>time_in_hospital2</th>\n",
       "      <td>-0.178539</td>\n",
       "      <td>1.000000</td>\n",
       "      <td>-0.217015</td>\n",
       "      <td>-0.184688</td>\n",
       "      <td>-0.150468</td>\n",
       "      <td>-0.134459</td>\n",
       "      <td>-0.113069</td>\n",
       "      <td>-0.096213</td>\n",
       "      <td>-0.073686</td>\n",
       "      <td>-0.066621</td>\n",
       "      <td>-0.055655</td>\n",
       "      <td>-0.050421</td>\n",
       "      <td>-0.043343</td>\n",
       "      <td>-0.039668</td>\n",
       "    </tr>\n",
       "    <tr>\n",
       "      <th>time_in_hospital3</th>\n",
       "      <td>-0.186667</td>\n",
       "      <td>-0.217015</td>\n",
       "      <td>1.000000</td>\n",
       "      <td>-0.193097</td>\n",
       "      <td>-0.157319</td>\n",
       "      <td>-0.140581</td>\n",
       "      <td>-0.118217</td>\n",
       "      <td>-0.100594</td>\n",
       "      <td>-0.077041</td>\n",
       "      <td>-0.069654</td>\n",
       "      <td>-0.058189</td>\n",
       "      <td>-0.052716</td>\n",
       "      <td>-0.045316</td>\n",
       "      <td>-0.041474</td>\n",
       "    </tr>\n",
       "    <tr>\n",
       "      <th>time_in_hospital4</th>\n",
       "      <td>-0.158862</td>\n",
       "      <td>-0.184688</td>\n",
       "      <td>-0.193097</td>\n",
       "      <td>1.000000</td>\n",
       "      <td>-0.133885</td>\n",
       "      <td>-0.119640</td>\n",
       "      <td>-0.100608</td>\n",
       "      <td>-0.085609</td>\n",
       "      <td>-0.065565</td>\n",
       "      <td>-0.059279</td>\n",
       "      <td>-0.049521</td>\n",
       "      <td>-0.044864</td>\n",
       "      <td>-0.038566</td>\n",
       "      <td>-0.035296</td>\n",
       "    </tr>\n",
       "    <tr>\n",
       "      <th>time_in_hospital5</th>\n",
       "      <td>-0.129426</td>\n",
       "      <td>-0.150468</td>\n",
       "      <td>-0.157319</td>\n",
       "      <td>-0.133885</td>\n",
       "      <td>1.000000</td>\n",
       "      <td>-0.097472</td>\n",
       "      <td>-0.081966</td>\n",
       "      <td>-0.069747</td>\n",
       "      <td>-0.053417</td>\n",
       "      <td>-0.048295</td>\n",
       "      <td>-0.040346</td>\n",
       "      <td>-0.036551</td>\n",
       "      <td>-0.031420</td>\n",
       "      <td>-0.028756</td>\n",
       "    </tr>\n",
       "    <tr>\n",
       "      <th>time_in_hospital6</th>\n",
       "      <td>-0.115657</td>\n",
       "      <td>-0.134459</td>\n",
       "      <td>-0.140581</td>\n",
       "      <td>-0.119640</td>\n",
       "      <td>-0.097472</td>\n",
       "      <td>1.000000</td>\n",
       "      <td>-0.073246</td>\n",
       "      <td>-0.062327</td>\n",
       "      <td>-0.047734</td>\n",
       "      <td>-0.043157</td>\n",
       "      <td>-0.036053</td>\n",
       "      <td>-0.032662</td>\n",
       "      <td>-0.028077</td>\n",
       "      <td>-0.025697</td>\n",
       "    </tr>\n",
       "    <tr>\n",
       "      <th>time_in_hospital7</th>\n",
       "      <td>-0.097258</td>\n",
       "      <td>-0.113069</td>\n",
       "      <td>-0.118217</td>\n",
       "      <td>-0.100608</td>\n",
       "      <td>-0.081966</td>\n",
       "      <td>-0.073246</td>\n",
       "      <td>1.000000</td>\n",
       "      <td>-0.052412</td>\n",
       "      <td>-0.040140</td>\n",
       "      <td>-0.036291</td>\n",
       "      <td>-0.030318</td>\n",
       "      <td>-0.027466</td>\n",
       "      <td>-0.023611</td>\n",
       "      <td>-0.021609</td>\n",
       "    </tr>\n",
       "    <tr>\n",
       "      <th>time_in_hospital8</th>\n",
       "      <td>-0.082759</td>\n",
       "      <td>-0.096213</td>\n",
       "      <td>-0.100594</td>\n",
       "      <td>-0.085609</td>\n",
       "      <td>-0.069747</td>\n",
       "      <td>-0.062327</td>\n",
       "      <td>-0.052412</td>\n",
       "      <td>1.000000</td>\n",
       "      <td>-0.034156</td>\n",
       "      <td>-0.030881</td>\n",
       "      <td>-0.025798</td>\n",
       "      <td>-0.023372</td>\n",
       "      <td>-0.020091</td>\n",
       "      <td>-0.018388</td>\n",
       "    </tr>\n",
       "    <tr>\n",
       "      <th>time_in_hospital9</th>\n",
       "      <td>-0.063382</td>\n",
       "      <td>-0.073686</td>\n",
       "      <td>-0.077041</td>\n",
       "      <td>-0.065565</td>\n",
       "      <td>-0.053417</td>\n",
       "      <td>-0.047734</td>\n",
       "      <td>-0.040140</td>\n",
       "      <td>-0.034156</td>\n",
       "      <td>1.000000</td>\n",
       "      <td>-0.023651</td>\n",
       "      <td>-0.019758</td>\n",
       "      <td>-0.017900</td>\n",
       "      <td>-0.015387</td>\n",
       "      <td>-0.014082</td>\n",
       "    </tr>\n",
       "    <tr>\n",
       "      <th>time_in_hospital10</th>\n",
       "      <td>-0.057305</td>\n",
       "      <td>-0.066621</td>\n",
       "      <td>-0.069654</td>\n",
       "      <td>-0.059279</td>\n",
       "      <td>-0.048295</td>\n",
       "      <td>-0.043157</td>\n",
       "      <td>-0.036291</td>\n",
       "      <td>-0.030881</td>\n",
       "      <td>-0.023651</td>\n",
       "      <td>1.000000</td>\n",
       "      <td>-0.017863</td>\n",
       "      <td>-0.016183</td>\n",
       "      <td>-0.013912</td>\n",
       "      <td>-0.012732</td>\n",
       "    </tr>\n",
       "    <tr>\n",
       "      <th>time_in_hospital11</th>\n",
       "      <td>-0.047872</td>\n",
       "      <td>-0.055655</td>\n",
       "      <td>-0.058189</td>\n",
       "      <td>-0.049521</td>\n",
       "      <td>-0.040346</td>\n",
       "      <td>-0.036053</td>\n",
       "      <td>-0.030318</td>\n",
       "      <td>-0.025798</td>\n",
       "      <td>-0.019758</td>\n",
       "      <td>-0.017863</td>\n",
       "      <td>1.000000</td>\n",
       "      <td>-0.013520</td>\n",
       "      <td>-0.011622</td>\n",
       "      <td>-0.010636</td>\n",
       "    </tr>\n",
       "    <tr>\n",
       "      <th>time_in_hospital12</th>\n",
       "      <td>-0.043370</td>\n",
       "      <td>-0.050421</td>\n",
       "      <td>-0.052716</td>\n",
       "      <td>-0.044864</td>\n",
       "      <td>-0.036551</td>\n",
       "      <td>-0.032662</td>\n",
       "      <td>-0.027466</td>\n",
       "      <td>-0.023372</td>\n",
       "      <td>-0.017900</td>\n",
       "      <td>-0.016183</td>\n",
       "      <td>-0.013520</td>\n",
       "      <td>1.000000</td>\n",
       "      <td>-0.010529</td>\n",
       "      <td>-0.009636</td>\n",
       "    </tr>\n",
       "    <tr>\n",
       "      <th>time_in_hospital13</th>\n",
       "      <td>-0.037282</td>\n",
       "      <td>-0.043343</td>\n",
       "      <td>-0.045316</td>\n",
       "      <td>-0.038566</td>\n",
       "      <td>-0.031420</td>\n",
       "      <td>-0.028077</td>\n",
       "      <td>-0.023611</td>\n",
       "      <td>-0.020091</td>\n",
       "      <td>-0.015387</td>\n",
       "      <td>-0.013912</td>\n",
       "      <td>-0.011622</td>\n",
       "      <td>-0.010529</td>\n",
       "      <td>1.000000</td>\n",
       "      <td>-0.008283</td>\n",
       "    </tr>\n",
       "    <tr>\n",
       "      <th>time_in_hospital14</th>\n",
       "      <td>-0.034121</td>\n",
       "      <td>-0.039668</td>\n",
       "      <td>-0.041474</td>\n",
       "      <td>-0.035296</td>\n",
       "      <td>-0.028756</td>\n",
       "      <td>-0.025697</td>\n",
       "      <td>-0.021609</td>\n",
       "      <td>-0.018388</td>\n",
       "      <td>-0.014082</td>\n",
       "      <td>-0.012732</td>\n",
       "      <td>-0.010636</td>\n",
       "      <td>-0.009636</td>\n",
       "      <td>-0.008283</td>\n",
       "      <td>1.000000</td>\n",
       "    </tr>\n",
       "  </tbody>\n",
       "</table>\n",
       "</div>"
      ],
      "text/plain": [
       "                    time_in_hospital1  time_in_hospital2  time_in_hospital3  \\\n",
       "time_in_hospital1            1.000000          -0.178539          -0.186667   \n",
       "time_in_hospital2           -0.178539           1.000000          -0.217015   \n",
       "time_in_hospital3           -0.186667          -0.217015           1.000000   \n",
       "time_in_hospital4           -0.158862          -0.184688          -0.193097   \n",
       "time_in_hospital5           -0.129426          -0.150468          -0.157319   \n",
       "time_in_hospital6           -0.115657          -0.134459          -0.140581   \n",
       "time_in_hospital7           -0.097258          -0.113069          -0.118217   \n",
       "time_in_hospital8           -0.082759          -0.096213          -0.100594   \n",
       "time_in_hospital9           -0.063382          -0.073686          -0.077041   \n",
       "time_in_hospital10          -0.057305          -0.066621          -0.069654   \n",
       "time_in_hospital11          -0.047872          -0.055655          -0.058189   \n",
       "time_in_hospital12          -0.043370          -0.050421          -0.052716   \n",
       "time_in_hospital13          -0.037282          -0.043343          -0.045316   \n",
       "time_in_hospital14          -0.034121          -0.039668          -0.041474   \n",
       "\n",
       "                    time_in_hospital4  time_in_hospital5  time_in_hospital6  \\\n",
       "time_in_hospital1           -0.158862          -0.129426          -0.115657   \n",
       "time_in_hospital2           -0.184688          -0.150468          -0.134459   \n",
       "time_in_hospital3           -0.193097          -0.157319          -0.140581   \n",
       "time_in_hospital4            1.000000          -0.133885          -0.119640   \n",
       "time_in_hospital5           -0.133885           1.000000          -0.097472   \n",
       "time_in_hospital6           -0.119640          -0.097472           1.000000   \n",
       "time_in_hospital7           -0.100608          -0.081966          -0.073246   \n",
       "time_in_hospital8           -0.085609          -0.069747          -0.062327   \n",
       "time_in_hospital9           -0.065565          -0.053417          -0.047734   \n",
       "time_in_hospital10          -0.059279          -0.048295          -0.043157   \n",
       "time_in_hospital11          -0.049521          -0.040346          -0.036053   \n",
       "time_in_hospital12          -0.044864          -0.036551          -0.032662   \n",
       "time_in_hospital13          -0.038566          -0.031420          -0.028077   \n",
       "time_in_hospital14          -0.035296          -0.028756          -0.025697   \n",
       "\n",
       "                    time_in_hospital7  time_in_hospital8  time_in_hospital9  \\\n",
       "time_in_hospital1           -0.097258          -0.082759          -0.063382   \n",
       "time_in_hospital2           -0.113069          -0.096213          -0.073686   \n",
       "time_in_hospital3           -0.118217          -0.100594          -0.077041   \n",
       "time_in_hospital4           -0.100608          -0.085609          -0.065565   \n",
       "time_in_hospital5           -0.081966          -0.069747          -0.053417   \n",
       "time_in_hospital6           -0.073246          -0.062327          -0.047734   \n",
       "time_in_hospital7            1.000000          -0.052412          -0.040140   \n",
       "time_in_hospital8           -0.052412           1.000000          -0.034156   \n",
       "time_in_hospital9           -0.040140          -0.034156           1.000000   \n",
       "time_in_hospital10          -0.036291          -0.030881          -0.023651   \n",
       "time_in_hospital11          -0.030318          -0.025798          -0.019758   \n",
       "time_in_hospital12          -0.027466          -0.023372          -0.017900   \n",
       "time_in_hospital13          -0.023611          -0.020091          -0.015387   \n",
       "time_in_hospital14          -0.021609          -0.018388          -0.014082   \n",
       "\n",
       "                    time_in_hospital10  time_in_hospital11  \\\n",
       "time_in_hospital1            -0.057305           -0.047872   \n",
       "time_in_hospital2            -0.066621           -0.055655   \n",
       "time_in_hospital3            -0.069654           -0.058189   \n",
       "time_in_hospital4            -0.059279           -0.049521   \n",
       "time_in_hospital5            -0.048295           -0.040346   \n",
       "time_in_hospital6            -0.043157           -0.036053   \n",
       "time_in_hospital7            -0.036291           -0.030318   \n",
       "time_in_hospital8            -0.030881           -0.025798   \n",
       "time_in_hospital9            -0.023651           -0.019758   \n",
       "time_in_hospital10            1.000000           -0.017863   \n",
       "time_in_hospital11           -0.017863            1.000000   \n",
       "time_in_hospital12           -0.016183           -0.013520   \n",
       "time_in_hospital13           -0.013912           -0.011622   \n",
       "time_in_hospital14           -0.012732           -0.010636   \n",
       "\n",
       "                    time_in_hospital12  time_in_hospital13  time_in_hospital14  \n",
       "time_in_hospital1            -0.043370           -0.037282           -0.034121  \n",
       "time_in_hospital2            -0.050421           -0.043343           -0.039668  \n",
       "time_in_hospital3            -0.052716           -0.045316           -0.041474  \n",
       "time_in_hospital4            -0.044864           -0.038566           -0.035296  \n",
       "time_in_hospital5            -0.036551           -0.031420           -0.028756  \n",
       "time_in_hospital6            -0.032662           -0.028077           -0.025697  \n",
       "time_in_hospital7            -0.027466           -0.023611           -0.021609  \n",
       "time_in_hospital8            -0.023372           -0.020091           -0.018388  \n",
       "time_in_hospital9            -0.017900           -0.015387           -0.014082  \n",
       "time_in_hospital10           -0.016183           -0.013912           -0.012732  \n",
       "time_in_hospital11           -0.013520           -0.011622           -0.010636  \n",
       "time_in_hospital12            1.000000           -0.010529           -0.009636  \n",
       "time_in_hospital13           -0.010529            1.000000           -0.008283  \n",
       "time_in_hospital14           -0.009636           -0.008283            1.000000  "
      ]
     },
     "execution_count": 440,
     "metadata": {},
     "output_type": "execute_result"
    }
   ],
   "source": [
    "corr_table = train1_dummy.corr()\n",
    "corr_table.iloc[26:40, 26:40]"
   ]
  },
  {
   "cell_type": "code",
   "execution_count": 456,
   "metadata": {},
   "outputs": [],
   "source": [
    "diag_values = list(set(list(train1_dummy.diag_1)))\n",
    "diag_map = {}\n",
    "diag_unmap = {}\n",
    "\n",
    "for i in range(len(diag_values)):\n",
    "    diag_map[diag_values[i]] = i\n",
    "    diag_unmap[i] = diag_values[i]\n",
    "\n"
   ]
  },
  {
   "cell_type": "code",
   "execution_count": 457,
   "metadata": {},
   "outputs": [],
   "source": [
    "train1_dummy.loc[:, \"diag_1_num\"] = train1_dummy.loc[:, \"diag_1\"].map(diag_map)\n",
    "train1_dummy.loc[:, \"diag_2_num\"] = train1_dummy.loc[:, \"diag_2\"].map(diag_map)"
   ]
  },
  {
   "cell_type": "code",
   "execution_count": 459,
   "metadata": {},
   "outputs": [],
   "source": [
    "from statsmodels.stats.outliers_influence import variance_inflation_factor\n",
    "from statsmodels.tools.tools import add_constant\n",
    "\n",
    "X = train1_dummy[['age5', 'age15', 'age25', 'age35', 'age45', 'age55',\n",
    "       'age65', 'age75', 'age85', 'time_in_hospital1',\n",
    "       'time_in_hospital2', 'time_in_hospital3', 'time_in_hospital4',\n",
    "       'time_in_hospital5', 'time_in_hospital6', 'time_in_hospital7',\n",
    "       'time_in_hospital8', 'time_in_hospital9', 'time_in_hospital10',\n",
    "       'time_in_hospital11', 'time_in_hospital12', 'time_in_hospital13', 'admission_type_id1', 'admission_type_id3',\n",
    "       'admission_type_id4', 'discharge_disposition_id7',\n",
    "       'discharge_disposition_id10', 'discharge_disposition_id11',\n",
    "       'discharge_disposition_id18', 'discharge_disposition_id27', 'admission_source_id8',\n",
    "       'admission_source_id9', 'number_inpatient', 'num_of_changes', 'diag_1_num', 'diag_2_num']]\n",
    "X = add_constant(X)\n",
    "vif_data = pd.DataFrame()\n",
    "vif_data[\"feature\"] = X.columns\n",
    "\n",
    "for i in range(len(X.columns)):\n",
    "    vif_data.loc[i,'VIF'] = variance_inflation_factor(X.values, i)"
   ]
  },
  {
   "cell_type": "code",
   "execution_count": 460,
   "metadata": {},
   "outputs": [
    {
     "data": {
      "text/html": [
       "<div>\n",
       "<style scoped>\n",
       "    .dataframe tbody tr th:only-of-type {\n",
       "        vertical-align: middle;\n",
       "    }\n",
       "\n",
       "    .dataframe tbody tr th {\n",
       "        vertical-align: top;\n",
       "    }\n",
       "\n",
       "    .dataframe thead th {\n",
       "        text-align: right;\n",
       "    }\n",
       "</style>\n",
       "<table border=\"1\" class=\"dataframe\">\n",
       "  <thead>\n",
       "    <tr style=\"text-align: right;\">\n",
       "      <th></th>\n",
       "      <th>feature</th>\n",
       "      <th>VIF</th>\n",
       "    </tr>\n",
       "  </thead>\n",
       "  <tbody>\n",
       "    <tr>\n",
       "      <th>0</th>\n",
       "      <td>const</td>\n",
       "      <td>213.011386</td>\n",
       "    </tr>\n",
       "    <tr>\n",
       "      <th>1</th>\n",
       "      <td>age5</td>\n",
       "      <td>1.062121</td>\n",
       "    </tr>\n",
       "    <tr>\n",
       "      <th>2</th>\n",
       "      <td>age15</td>\n",
       "      <td>1.243681</td>\n",
       "    </tr>\n",
       "    <tr>\n",
       "      <th>3</th>\n",
       "      <td>age25</td>\n",
       "      <td>1.540352</td>\n",
       "    </tr>\n",
       "    <tr>\n",
       "      <th>4</th>\n",
       "      <td>age35</td>\n",
       "      <td>2.344709</td>\n",
       "    </tr>\n",
       "    <tr>\n",
       "      <th>5</th>\n",
       "      <td>age45</td>\n",
       "      <td>4.572591</td>\n",
       "    </tr>\n",
       "    <tr>\n",
       "      <th>6</th>\n",
       "      <td>age55</td>\n",
       "      <td>7.478931</td>\n",
       "    </tr>\n",
       "    <tr>\n",
       "      <th>7</th>\n",
       "      <td>age65</td>\n",
       "      <td>10.137879</td>\n",
       "    </tr>\n",
       "    <tr>\n",
       "      <th>8</th>\n",
       "      <td>age75</td>\n",
       "      <td>11.883549</td>\n",
       "    </tr>\n",
       "    <tr>\n",
       "      <th>9</th>\n",
       "      <td>age85</td>\n",
       "      <td>8.532022</td>\n",
       "    </tr>\n",
       "    <tr>\n",
       "      <th>10</th>\n",
       "      <td>time_in_hospital1</td>\n",
       "      <td>16.295028</td>\n",
       "    </tr>\n",
       "    <tr>\n",
       "      <th>11</th>\n",
       "      <td>time_in_hospital2</td>\n",
       "      <td>19.841898</td>\n",
       "    </tr>\n",
       "    <tr>\n",
       "      <th>12</th>\n",
       "      <td>time_in_hospital3</td>\n",
       "      <td>20.930664</td>\n",
       "    </tr>\n",
       "    <tr>\n",
       "      <th>13</th>\n",
       "      <td>time_in_hospital4</td>\n",
       "      <td>17.017185</td>\n",
       "    </tr>\n",
       "    <tr>\n",
       "      <th>14</th>\n",
       "      <td>time_in_hospital5</td>\n",
       "      <td>12.722620</td>\n",
       "    </tr>\n",
       "    <tr>\n",
       "      <th>15</th>\n",
       "      <td>time_in_hospital6</td>\n",
       "      <td>10.739381</td>\n",
       "    </tr>\n",
       "    <tr>\n",
       "      <th>16</th>\n",
       "      <td>time_in_hospital7</td>\n",
       "      <td>8.220347</td>\n",
       "    </tr>\n",
       "    <tr>\n",
       "      <th>17</th>\n",
       "      <td>time_in_hospital8</td>\n",
       "      <td>6.399321</td>\n",
       "    </tr>\n",
       "    <tr>\n",
       "      <th>18</th>\n",
       "      <td>time_in_hospital9</td>\n",
       "      <td>4.281549</td>\n",
       "    </tr>\n",
       "    <tr>\n",
       "      <th>19</th>\n",
       "      <td>time_in_hospital10</td>\n",
       "      <td>3.707132</td>\n",
       "    </tr>\n",
       "    <tr>\n",
       "      <th>20</th>\n",
       "      <td>time_in_hospital11</td>\n",
       "      <td>2.913630</td>\n",
       "    </tr>\n",
       "    <tr>\n",
       "      <th>21</th>\n",
       "      <td>time_in_hospital12</td>\n",
       "      <td>2.578410</td>\n",
       "    </tr>\n",
       "    <tr>\n",
       "      <th>22</th>\n",
       "      <td>time_in_hospital13</td>\n",
       "      <td>2.173885</td>\n",
       "    </tr>\n",
       "    <tr>\n",
       "      <th>23</th>\n",
       "      <td>admission_type_id1</td>\n",
       "      <td>3.629987</td>\n",
       "    </tr>\n",
       "    <tr>\n",
       "      <th>24</th>\n",
       "      <td>admission_type_id3</td>\n",
       "      <td>3.180235</td>\n",
       "    </tr>\n",
       "    <tr>\n",
       "      <th>25</th>\n",
       "      <td>admission_type_id4</td>\n",
       "      <td>1.001130</td>\n",
       "    </tr>\n",
       "    <tr>\n",
       "      <th>26</th>\n",
       "      <td>discharge_disposition_id7</td>\n",
       "      <td>1.006634</td>\n",
       "    </tr>\n",
       "    <tr>\n",
       "      <th>27</th>\n",
       "      <td>discharge_disposition_id10</td>\n",
       "      <td>1.000792</td>\n",
       "    </tr>\n",
       "    <tr>\n",
       "      <th>28</th>\n",
       "      <td>discharge_disposition_id11</td>\n",
       "      <td>1.006235</td>\n",
       "    </tr>\n",
       "    <tr>\n",
       "      <th>29</th>\n",
       "      <td>discharge_disposition_id18</td>\n",
       "      <td>1.024336</td>\n",
       "    </tr>\n",
       "    <tr>\n",
       "      <th>30</th>\n",
       "      <td>discharge_disposition_id27</td>\n",
       "      <td>1.000647</td>\n",
       "    </tr>\n",
       "    <tr>\n",
       "      <th>31</th>\n",
       "      <td>admission_source_id8</td>\n",
       "      <td>1.000773</td>\n",
       "    </tr>\n",
       "    <tr>\n",
       "      <th>32</th>\n",
       "      <td>admission_source_id9</td>\n",
       "      <td>1.728198</td>\n",
       "    </tr>\n",
       "    <tr>\n",
       "      <th>33</th>\n",
       "      <td>number_inpatient</td>\n",
       "      <td>1.008246</td>\n",
       "    </tr>\n",
       "    <tr>\n",
       "      <th>34</th>\n",
       "      <td>num_of_changes</td>\n",
       "      <td>1.031663</td>\n",
       "    </tr>\n",
       "    <tr>\n",
       "      <th>35</th>\n",
       "      <td>diag_1_num</td>\n",
       "      <td>1.038286</td>\n",
       "    </tr>\n",
       "    <tr>\n",
       "      <th>36</th>\n",
       "      <td>diag_2_num</td>\n",
       "      <td>1.030293</td>\n",
       "    </tr>\n",
       "  </tbody>\n",
       "</table>\n",
       "</div>"
      ],
      "text/plain": [
       "                       feature         VIF\n",
       "0                        const  213.011386\n",
       "1                         age5    1.062121\n",
       "2                        age15    1.243681\n",
       "3                        age25    1.540352\n",
       "4                        age35    2.344709\n",
       "5                        age45    4.572591\n",
       "6                        age55    7.478931\n",
       "7                        age65   10.137879\n",
       "8                        age75   11.883549\n",
       "9                        age85    8.532022\n",
       "10           time_in_hospital1   16.295028\n",
       "11           time_in_hospital2   19.841898\n",
       "12           time_in_hospital3   20.930664\n",
       "13           time_in_hospital4   17.017185\n",
       "14           time_in_hospital5   12.722620\n",
       "15           time_in_hospital6   10.739381\n",
       "16           time_in_hospital7    8.220347\n",
       "17           time_in_hospital8    6.399321\n",
       "18           time_in_hospital9    4.281549\n",
       "19          time_in_hospital10    3.707132\n",
       "20          time_in_hospital11    2.913630\n",
       "21          time_in_hospital12    2.578410\n",
       "22          time_in_hospital13    2.173885\n",
       "23          admission_type_id1    3.629987\n",
       "24          admission_type_id3    3.180235\n",
       "25          admission_type_id4    1.001130\n",
       "26   discharge_disposition_id7    1.006634\n",
       "27  discharge_disposition_id10    1.000792\n",
       "28  discharge_disposition_id11    1.006235\n",
       "29  discharge_disposition_id18    1.024336\n",
       "30  discharge_disposition_id27    1.000647\n",
       "31        admission_source_id8    1.000773\n",
       "32        admission_source_id9    1.728198\n",
       "33            number_inpatient    1.008246\n",
       "34              num_of_changes    1.031663\n",
       "35                  diag_1_num    1.038286\n",
       "36                  diag_2_num    1.030293"
      ]
     },
     "execution_count": 460,
     "metadata": {},
     "output_type": "execute_result"
    }
   ],
   "source": [
    "vif_data"
   ]
  },
  {
   "attachments": {},
   "cell_type": "markdown",
   "metadata": {},
   "source": [
    "#### Inspecting the existing models"
   ]
  },
  {
   "attachments": {},
   "cell_type": "markdown",
   "metadata": {},
   "source": [
    "Model 1: `readmitted ~ time_in_hospital*age + num_of_changes + number_inpatient`"
   ]
  },
  {
   "cell_type": "code",
   "execution_count": 464,
   "metadata": {},
   "outputs": [
    {
     "name": "stdout",
     "output_type": "stream",
     "text": [
      "Optimization terminated successfully.\n",
      "         Current function value: 0.672323\n",
      "         Iterations 5\n"
     ]
    },
    {
     "data": {
      "text/html": [
       "<table class=\"simpletable\">\n",
       "<caption>Logit Regression Results</caption>\n",
       "<tr>\n",
       "  <th>Dep. Variable:</th>      <td>readmitted</td>    <th>  No. Observations:  </th>  <td>104464</td> \n",
       "</tr>\n",
       "<tr>\n",
       "  <th>Model:</th>                 <td>Logit</td>      <th>  Df Residuals:      </th>  <td>104458</td> \n",
       "</tr>\n",
       "<tr>\n",
       "  <th>Method:</th>                 <td>MLE</td>       <th>  Df Model:          </th>  <td>     5</td> \n",
       "</tr>\n",
       "<tr>\n",
       "  <th>Date:</th>            <td>Fri, 24 Feb 2023</td> <th>  Pseudo R-squ.:     </th>  <td>0.03004</td>\n",
       "</tr>\n",
       "<tr>\n",
       "  <th>Time:</th>                <td>23:17:50</td>     <th>  Log-Likelihood:    </th> <td> -70234.</td>\n",
       "</tr>\n",
       "<tr>\n",
       "  <th>converged:</th>             <td>True</td>       <th>  LL-Null:           </th> <td> -72409.</td>\n",
       "</tr>\n",
       "<tr>\n",
       "  <th>Covariance Type:</th>     <td>nonrobust</td>    <th>  LLR p-value:       </th>  <td> 0.000</td> \n",
       "</tr>\n",
       "</table>\n",
       "<table class=\"simpletable\">\n",
       "<tr>\n",
       "            <td></td>              <th>coef</th>     <th>std err</th>      <th>z</th>      <th>P>|z|</th>  <th>[0.025</th>    <th>0.975]</th>  \n",
       "</tr>\n",
       "<tr>\n",
       "  <th>Intercept</th>            <td>   -2.1006</td> <td>    0.056</td> <td>  -37.394</td> <td> 0.000</td> <td>   -2.211</td> <td>   -1.991</td>\n",
       "</tr>\n",
       "<tr>\n",
       "  <th>time_in_hospital</th>     <td>    0.1815</td> <td>    0.011</td> <td>   15.921</td> <td> 0.000</td> <td>    0.159</td> <td>    0.204</td>\n",
       "</tr>\n",
       "<tr>\n",
       "  <th>age</th>                  <td>    0.0316</td> <td>    0.001</td> <td>   38.812</td> <td> 0.000</td> <td>    0.030</td> <td>    0.033</td>\n",
       "</tr>\n",
       "<tr>\n",
       "  <th>time_in_hospital:age</th> <td>   -0.0025</td> <td>    0.000</td> <td>  -15.492</td> <td> 0.000</td> <td>   -0.003</td> <td>   -0.002</td>\n",
       "</tr>\n",
       "<tr>\n",
       "  <th>num_of_changes</th>       <td>   -0.5295</td> <td>    0.015</td> <td>  -34.515</td> <td> 0.000</td> <td>   -0.560</td> <td>   -0.499</td>\n",
       "</tr>\n",
       "<tr>\n",
       "  <th>number_inpatient</th>     <td>    0.1471</td> <td>    0.010</td> <td>   14.478</td> <td> 0.000</td> <td>    0.127</td> <td>    0.167</td>\n",
       "</tr>\n",
       "</table>"
      ],
      "text/plain": [
       "<class 'statsmodels.iolib.summary.Summary'>\n",
       "\"\"\"\n",
       "                           Logit Regression Results                           \n",
       "==============================================================================\n",
       "Dep. Variable:             readmitted   No. Observations:               104464\n",
       "Model:                          Logit   Df Residuals:                   104458\n",
       "Method:                           MLE   Df Model:                            5\n",
       "Date:                Fri, 24 Feb 2023   Pseudo R-squ.:                 0.03004\n",
       "Time:                        23:17:50   Log-Likelihood:                -70234.\n",
       "converged:                       True   LL-Null:                       -72409.\n",
       "Covariance Type:            nonrobust   LLR p-value:                     0.000\n",
       "========================================================================================\n",
       "                           coef    std err          z      P>|z|      [0.025      0.975]\n",
       "----------------------------------------------------------------------------------------\n",
       "Intercept               -2.1006      0.056    -37.394      0.000      -2.211      -1.991\n",
       "time_in_hospital         0.1815      0.011     15.921      0.000       0.159       0.204\n",
       "age                      0.0316      0.001     38.812      0.000       0.030       0.033\n",
       "time_in_hospital:age    -0.0025      0.000    -15.492      0.000      -0.003      -0.002\n",
       "num_of_changes          -0.5295      0.015    -34.515      0.000      -0.560      -0.499\n",
       "number_inpatient         0.1471      0.010     14.478      0.000       0.127       0.167\n",
       "========================================================================================\n",
       "\"\"\""
      ]
     },
     "execution_count": 464,
     "metadata": {},
     "output_type": "execute_result"
    }
   ],
   "source": [
    "\n",
    "logit_model = sm.logit(formula = 'readmitted ~ time_in_hospital*age + num_of_changes + number_inpatient', data = train1_dummy).fit() #Developing logistic regression model\n",
    "logit_model.summary()"
   ]
  },
  {
   "cell_type": "code",
   "execution_count": 469,
   "metadata": {},
   "outputs": [
    {
     "data": {
      "text/plain": [
       "Text(0.5, 0, 'age')"
      ]
     },
     "execution_count": 469,
     "metadata": {},
     "output_type": "execute_result"
    },
    {
     "data": {
      "image/png": "[encoded data removed]",
      "text/plain": [
       "<Figure size 432x288 with 1 Axes>"
      ]
     },
     "metadata": {
      "needs_background": "light"
     },
     "output_type": "display_data"
    }
   ],
   "source": [
    "#Re-creating the plot of diabetes_percent vs age created earlier, just to check if the function binned age correctly. Yes, it did.\n",
    "age_data = train1.groupby('age')['readmitted'].agg([('readmitted_percent','mean'),('nobs','count')]).reset_index(drop=False)\n",
    "train1_dummy[\"age_ind\"] =  train1_dummy[\"age\"].map({5: 0, 15: 1, 25: 2, 35: 3, 45: 4, 55: 5, 65: 6, 75: 7, 85: 8, 95: 9, 105: 10})\n",
    "sns.lineplot(x = age_data.index, y= age_data['readmitted_percent'])\n",
    "sns.lineplot(x = 'age_ind', y= logit_model.predict(train1_dummy), data = train1_dummy, color = 'blue') \n",
    "plt.xlabel('age')"
   ]
  },
  {
   "cell_type": "code",
   "execution_count": 466,
   "metadata": {},
   "outputs": [
    {
     "name": "stdout",
     "output_type": "stream",
     "text": [
      "Classification accuracy = 58.8%\n",
      "Precision = 57.7%\n",
      "TPR or Recall = 65.5%\n",
      "FNR = 34.5%\n",
      "FPR = 48.0%\n",
      "ROC-AUC = 60.8%\n"
     ]
    },
    {
     "data": {
      "image/png": "[encoded data removed]",
      "text/plain": [
       "<Figure size 432x288 with 2 Axes>"
      ]
     },
     "metadata": {
      "needs_background": "light"
     },
     "output_type": "display_data"
    }
   ],
   "source": [
    "confusion_matrix_data(train1_dummy, train1_dummy.readmitted, logit_model, cutoff=0.5)"
   ]
  },
  {
   "cell_type": "code",
   "execution_count": 467,
   "metadata": {},
   "outputs": [
    {
     "name": "stdout",
     "output_type": "stream",
     "text": [
      "Classification accuracy = 52.2%\n",
      "Precision = 10.2%\n",
      "TPR or Recall = 54.2%\n",
      "FNR = 45.8%\n",
      "FPR = 48.0%\n",
      "ROC-AUC = 53.7%\n"
     ]
    },
    {
     "data": {
      "image/png": "[encoded data removed]",
      "text/plain": [
       "<Figure size 432x288 with 2 Axes>"
      ]
     },
     "metadata": {
      "needs_background": "light"
     },
     "output_type": "display_data"
    }
   ],
   "source": [
    "confusion_matrix_data(test_dummy, test_dummy.readmitted, logit_model, cutoff=0.5)"
   ]
  },
  {
   "cell_type": "code",
   "execution_count": 465,
   "metadata": {},
   "outputs": [
    {
     "name": "stdout",
     "output_type": "stream",
     "text": [
      "Optimization terminated successfully.\n",
      "         Current function value: 0.670566\n",
      "         Iterations 5\n"
     ]
    },
    {
     "data": {
      "text/html": [
       "<table class=\"simpletable\">\n",
       "<caption>Logit Regression Results</caption>\n",
       "<tr>\n",
       "  <th>Dep. Variable:</th>      <td>readmitted</td>    <th>  No. Observations:  </th>  <td>104464</td> \n",
       "</tr>\n",
       "<tr>\n",
       "  <th>Model:</th>                 <td>Logit</td>      <th>  Df Residuals:      </th>  <td>104448</td> \n",
       "</tr>\n",
       "<tr>\n",
       "  <th>Method:</th>                 <td>MLE</td>       <th>  Df Model:          </th>  <td>    15</td> \n",
       "</tr>\n",
       "<tr>\n",
       "  <th>Date:</th>            <td>Fri, 24 Feb 2023</td> <th>  Pseudo R-squ.:     </th>  <td>0.03258</td>\n",
       "</tr>\n",
       "<tr>\n",
       "  <th>Time:</th>                <td>23:18:11</td>     <th>  Log-Likelihood:    </th> <td> -70050.</td>\n",
       "</tr>\n",
       "<tr>\n",
       "  <th>converged:</th>             <td>True</td>       <th>  LL-Null:           </th> <td> -72409.</td>\n",
       "</tr>\n",
       "<tr>\n",
       "  <th>Covariance Type:</th>     <td>nonrobust</td>    <th>  LLR p-value:       </th>  <td> 0.000</td> \n",
       "</tr>\n",
       "</table>\n",
       "<table class=\"simpletable\">\n",
       "<tr>\n",
       "                            <td></td>                              <th>coef</th>     <th>std err</th>      <th>z</th>      <th>P>|z|</th>  <th>[0.025</th>    <th>0.975]</th>  \n",
       "</tr>\n",
       "<tr>\n",
       "  <th>Intercept</th>                                            <td>   -2.3414</td> <td>    0.067</td> <td>  -35.152</td> <td> 0.000</td> <td>   -2.472</td> <td>   -2.211</td>\n",
       "</tr>\n",
       "<tr>\n",
       "  <th>time_in_hospital</th>                                     <td>    0.2446</td> <td>    0.014</td> <td>   17.214</td> <td> 0.000</td> <td>    0.217</td> <td>    0.272</td>\n",
       "</tr>\n",
       "<tr>\n",
       "  <th>age</th>                                                  <td>    0.0335</td> <td>    0.001</td> <td>   34.830</td> <td> 0.000</td> <td>    0.032</td> <td>    0.035</td>\n",
       "</tr>\n",
       "<tr>\n",
       "  <th>time_in_hospital:age</th>                                 <td>   -0.0030</td> <td>    0.000</td> <td>  -15.118</td> <td> 0.000</td> <td>   -0.003</td> <td>   -0.003</td>\n",
       "</tr>\n",
       "<tr>\n",
       "  <th>num_of_changes</th>                                       <td>    0.0342</td> <td>    0.137</td> <td>    0.249</td> <td> 0.804</td> <td>   -0.235</td> <td>    0.303</td>\n",
       "</tr>\n",
       "<tr>\n",
       "  <th>time_in_hospital:num_of_changes</th>                      <td>   -0.1526</td> <td>    0.026</td> <td>   -5.864</td> <td> 0.000</td> <td>   -0.204</td> <td>   -0.102</td>\n",
       "</tr>\n",
       "<tr>\n",
       "  <th>age:num_of_changes</th>                                   <td>   -0.0024</td> <td>    0.002</td> <td>   -1.163</td> <td> 0.245</td> <td>   -0.006</td> <td>    0.002</td>\n",
       "</tr>\n",
       "<tr>\n",
       "  <th>time_in_hospital:age:num_of_changes</th>                  <td>    0.0010</td> <td>    0.000</td> <td>    2.728</td> <td> 0.006</td> <td>    0.000</td> <td>    0.002</td>\n",
       "</tr>\n",
       "<tr>\n",
       "  <th>number_inpatient</th>                                     <td>    0.5451</td> <td>    0.113</td> <td>    4.828</td> <td> 0.000</td> <td>    0.324</td> <td>    0.766</td>\n",
       "</tr>\n",
       "<tr>\n",
       "  <th>time_in_hospital:number_inpatient</th>                    <td>   -0.0606</td> <td>    0.022</td> <td>   -2.819</td> <td> 0.005</td> <td>   -0.103</td> <td>   -0.018</td>\n",
       "</tr>\n",
       "<tr>\n",
       "  <th>age:number_inpatient</th>                                 <td>   -0.0029</td> <td>    0.002</td> <td>   -1.796</td> <td> 0.073</td> <td>   -0.006</td> <td>    0.000</td>\n",
       "</tr>\n",
       "<tr>\n",
       "  <th>time_in_hospital:age:number_inpatient</th>                <td>    0.0003</td> <td>    0.000</td> <td>    0.859</td> <td> 0.391</td> <td>   -0.000</td> <td>    0.001</td>\n",
       "</tr>\n",
       "<tr>\n",
       "  <th>num_of_changes:number_inpatient</th>                      <td>   -0.1244</td> <td>    0.187</td> <td>   -0.664</td> <td> 0.507</td> <td>   -0.492</td> <td>    0.243</td>\n",
       "</tr>\n",
       "<tr>\n",
       "  <th>time_in_hospital:num_of_changes:number_inpatient</th>     <td>   -0.0003</td> <td>    0.036</td> <td>   -0.009</td> <td> 0.992</td> <td>   -0.071</td> <td>    0.070</td>\n",
       "</tr>\n",
       "<tr>\n",
       "  <th>age:num_of_changes:number_inpatient</th>                  <td>   -0.0005</td> <td>    0.003</td> <td>   -0.178</td> <td> 0.858</td> <td>   -0.006</td> <td>    0.005</td>\n",
       "</tr>\n",
       "<tr>\n",
       "  <th>time_in_hospital:age:num_of_changes:number_inpatient</th> <td>    0.0004</td> <td>    0.001</td> <td>    0.816</td> <td> 0.415</td> <td>   -0.001</td> <td>    0.001</td>\n",
       "</tr>\n",
       "</table>"
      ],
      "text/plain": [
       "<class 'statsmodels.iolib.summary.Summary'>\n",
       "\"\"\"\n",
       "                           Logit Regression Results                           \n",
       "==============================================================================\n",
       "Dep. Variable:             readmitted   No. Observations:               104464\n",
       "Model:                          Logit   Df Residuals:                   104448\n",
       "Method:                           MLE   Df Model:                           15\n",
       "Date:                Fri, 24 Feb 2023   Pseudo R-squ.:                 0.03258\n",
       "Time:                        23:18:11   Log-Likelihood:                -70050.\n",
       "converged:                       True   LL-Null:                       -72409.\n",
       "Covariance Type:            nonrobust   LLR p-value:                     0.000\n",
       "========================================================================================================================\n",
       "                                                           coef    std err          z      P>|z|      [0.025      0.975]\n",
       "------------------------------------------------------------------------------------------------------------------------\n",
       "Intercept                                               -2.3414      0.067    -35.152      0.000      -2.472      -2.211\n",
       "time_in_hospital                                         0.2446      0.014     17.214      0.000       0.217       0.272\n",
       "age                                                      0.0335      0.001     34.830      0.000       0.032       0.035\n",
       "time_in_hospital:age                                    -0.0030      0.000    -15.118      0.000      -0.003      -0.003\n",
       "num_of_changes                                           0.0342      0.137      0.249      0.804      -0.235       0.303\n",
       "time_in_hospital:num_of_changes                         -0.1526      0.026     -5.864      0.000      -0.204      -0.102\n",
       "age:num_of_changes                                      -0.0024      0.002     -1.163      0.245      -0.006       0.002\n",
       "time_in_hospital:age:num_of_changes                      0.0010      0.000      2.728      0.006       0.000       0.002\n",
       "number_inpatient                                         0.5451      0.113      4.828      0.000       0.324       0.766\n",
       "time_in_hospital:number_inpatient                       -0.0606      0.022     -2.819      0.005      -0.103      -0.018\n",
       "age:number_inpatient                                    -0.0029      0.002     -1.796      0.073      -0.006       0.000\n",
       "time_in_hospital:age:number_inpatient                    0.0003      0.000      0.859      0.391      -0.000       0.001\n",
       "num_of_changes:number_inpatient                         -0.1244      0.187     -0.664      0.507      -0.492       0.243\n",
       "time_in_hospital:num_of_changes:number_inpatient        -0.0003      0.036     -0.009      0.992      -0.071       0.070\n",
       "age:num_of_changes:number_inpatient                     -0.0005      0.003     -0.178      0.858      -0.006       0.005\n",
       "time_in_hospital:age:num_of_changes:number_inpatient     0.0004      0.001      0.816      0.415      -0.001       0.001\n",
       "========================================================================================================================\n",
       "\"\"\""
      ]
     },
     "execution_count": 465,
     "metadata": {},
     "output_type": "execute_result"
    }
   ],
   "source": [
    "logit_model_all_int = sm.logit(formula = 'readmitted ~ time_in_hospital*age* num_of_changes*number_inpatient', data = train1_dummy).fit() #Developing logistic regression model\n",
    "logit_model_all_int.summary()"
   ]
  },
  {
   "attachments": {},
   "cell_type": "markdown",
   "metadata": {},
   "source": [
    "Model 1.1 -- Making each age group its own predictor"
   ]
  },
  {
   "cell_type": "code",
   "execution_count": 474,
   "metadata": {},
   "outputs": [
    {
     "data": {
      "text/plain": [
       "'readmitted ~ age5 + age15 + age25 + age35 + age45 + age55 + age65 + age75 + age85'"
      ]
     },
     "execution_count": 474,
     "metadata": {},
     "output_type": "execute_result"
    }
   ],
   "source": [
    "form = 'readmitted ~ ' + ' + '.join(vars[0][:-1])\n",
    "form"
   ]
  },
  {
   "cell_type": "code",
   "execution_count": 475,
   "metadata": {},
   "outputs": [
    {
     "name": "stdout",
     "output_type": "stream",
     "text": [
      "Optimization terminated successfully.\n",
      "         Current function value: 0.672258\n",
      "         Iterations 8\n"
     ]
    },
    {
     "data": {
      "text/html": [
       "<table class=\"simpletable\">\n",
       "<caption>Logit Regression Results</caption>\n",
       "<tr>\n",
       "  <th>Dep. Variable:</th>      <td>readmitted</td>    <th>  No. Observations:  </th>  <td>104464</td> \n",
       "</tr>\n",
       "<tr>\n",
       "  <th>Model:</th>                 <td>Logit</td>      <th>  Df Residuals:      </th>  <td>104454</td> \n",
       "</tr>\n",
       "<tr>\n",
       "  <th>Method:</th>                 <td>MLE</td>       <th>  Df Model:          </th>  <td>     9</td> \n",
       "</tr>\n",
       "<tr>\n",
       "  <th>Date:</th>            <td>Sat, 25 Feb 2023</td> <th>  Pseudo R-squ.:     </th>  <td>0.03014</td>\n",
       "</tr>\n",
       "<tr>\n",
       "  <th>Time:</th>                <td>00:03:06</td>     <th>  Log-Likelihood:    </th> <td> -70227.</td>\n",
       "</tr>\n",
       "<tr>\n",
       "  <th>converged:</th>             <td>True</td>       <th>  LL-Null:           </th> <td> -72409.</td>\n",
       "</tr>\n",
       "<tr>\n",
       "  <th>Covariance Type:</th>     <td>nonrobust</td>    <th>  LLR p-value:       </th>  <td> 0.000</td> \n",
       "</tr>\n",
       "</table>\n",
       "<table class=\"simpletable\">\n",
       "<tr>\n",
       "      <td></td>         <th>coef</th>     <th>std err</th>      <th>z</th>      <th>P>|z|</th>  <th>[0.025</th>    <th>0.975]</th>  \n",
       "</tr>\n",
       "<tr>\n",
       "  <th>Intercept</th> <td>   -0.8186</td> <td>    0.049</td> <td>  -16.841</td> <td> 0.000</td> <td>   -0.914</td> <td>   -0.723</td>\n",
       "</tr>\n",
       "<tr>\n",
       "  <th>age5</th>      <td>   -2.8535</td> <td>    0.587</td> <td>   -4.864</td> <td> 0.000</td> <td>   -4.003</td> <td>   -1.704</td>\n",
       "</tr>\n",
       "<tr>\n",
       "  <th>age15</th>     <td>   -0.8262</td> <td>    0.133</td> <td>   -6.217</td> <td> 0.000</td> <td>   -1.087</td> <td>   -0.566</td>\n",
       "</tr>\n",
       "<tr>\n",
       "  <th>age25</th>     <td>   -0.5609</td> <td>    0.090</td> <td>   -6.240</td> <td> 0.000</td> <td>   -0.737</td> <td>   -0.385</td>\n",
       "</tr>\n",
       "<tr>\n",
       "  <th>age35</th>     <td>   -0.2119</td> <td>    0.065</td> <td>   -3.261</td> <td> 0.001</td> <td>   -0.339</td> <td>   -0.085</td>\n",
       "</tr>\n",
       "<tr>\n",
       "  <th>age45</th>     <td>    0.1978</td> <td>    0.054</td> <td>    3.655</td> <td> 0.000</td> <td>    0.092</td> <td>    0.304</td>\n",
       "</tr>\n",
       "<tr>\n",
       "  <th>age55</th>     <td>    0.4189</td> <td>    0.051</td> <td>    8.165</td> <td> 0.000</td> <td>    0.318</td> <td>    0.519</td>\n",
       "</tr>\n",
       "<tr>\n",
       "  <th>age65</th>     <td>    0.8796</td> <td>    0.050</td> <td>   17.494</td> <td> 0.000</td> <td>    0.781</td> <td>    0.978</td>\n",
       "</tr>\n",
       "<tr>\n",
       "  <th>age75</th>     <td>    1.1826</td> <td>    0.050</td> <td>   23.692</td> <td> 0.000</td> <td>    1.085</td> <td>    1.280</td>\n",
       "</tr>\n",
       "<tr>\n",
       "  <th>age85</th>     <td>    1.0395</td> <td>    0.051</td> <td>   20.468</td> <td> 0.000</td> <td>    0.940</td> <td>    1.139</td>\n",
       "</tr>\n",
       "</table>"
      ],
      "text/plain": [
       "<class 'statsmodels.iolib.summary.Summary'>\n",
       "\"\"\"\n",
       "                           Logit Regression Results                           \n",
       "==============================================================================\n",
       "Dep. Variable:             readmitted   No. Observations:               104464\n",
       "Model:                          Logit   Df Residuals:                   104454\n",
       "Method:                           MLE   Df Model:                            9\n",
       "Date:                Sat, 25 Feb 2023   Pseudo R-squ.:                 0.03014\n",
       "Time:                        00:03:06   Log-Likelihood:                -70227.\n",
       "converged:                       True   LL-Null:                       -72409.\n",
       "Covariance Type:            nonrobust   LLR p-value:                     0.000\n",
       "==============================================================================\n",
       "                 coef    std err          z      P>|z|      [0.025      0.975]\n",
       "------------------------------------------------------------------------------\n",
       "Intercept     -0.8186      0.049    -16.841      0.000      -0.914      -0.723\n",
       "age5          -2.8535      0.587     -4.864      0.000      -4.003      -1.704\n",
       "age15         -0.8262      0.133     -6.217      0.000      -1.087      -0.566\n",
       "age25         -0.5609      0.090     -6.240      0.000      -0.737      -0.385\n",
       "age35         -0.2119      0.065     -3.261      0.001      -0.339      -0.085\n",
       "age45          0.1978      0.054      3.655      0.000       0.092       0.304\n",
       "age55          0.4189      0.051      8.165      0.000       0.318       0.519\n",
       "age65          0.8796      0.050     17.494      0.000       0.781       0.978\n",
       "age75          1.1826      0.050     23.692      0.000       1.085       1.280\n",
       "age85          1.0395      0.051     20.468      0.000       0.940       1.139\n",
       "==============================================================================\n",
       "\"\"\""
      ]
     },
     "execution_count": 475,
     "metadata": {},
     "output_type": "execute_result"
    }
   ],
   "source": [
    "logit_model_age_dummy = sm.logit(formula = form, data = train1_dummy).fit() \n",
    "logit_model_age_dummy.summary()"
   ]
  },
  {
   "cell_type": "code",
   "execution_count": 476,
   "metadata": {},
   "outputs": [
    {
     "name": "stdout",
     "output_type": "stream",
     "text": [
      "Classification accuracy = 58.2%\n",
      "Precision = 55.7%\n",
      "TPR or Recall = 79.8%\n",
      "FNR = 20.2%\n",
      "FPR = 63.4%\n",
      "ROC-AUC = 60.5%\n"
     ]
    },
    {
     "data": {
      "image/png": "[encoded data removed]",
      "text/plain": [
       "<Figure size 432x288 with 2 Axes>"
      ]
     },
     "metadata": {
      "needs_background": "light"
     },
     "output_type": "display_data"
    }
   ],
   "source": [
    "confusion_matrix_data(train1_dummy, train1_dummy.readmitted, logit_model_age_dummy, cutoff=0.5)"
   ]
  },
  {
   "cell_type": "code",
   "execution_count": 477,
   "metadata": {},
   "outputs": [
    {
     "name": "stdout",
     "output_type": "stream",
     "text": [
      "Classification accuracy = 40.0%\n",
      "Precision = 10.1%\n",
      "TPR or Recall = 70.0%\n",
      "FNR = 30.0%\n",
      "FPR = 63.0%\n",
      "ROC-AUC = 53.9%\n"
     ]
    },
    {
     "data": {
      "image/png": "[encoded data removed]",
      "text/plain": [
       "<Figure size 432x288 with 2 Axes>"
      ]
     },
     "metadata": {
      "needs_background": "light"
     },
     "output_type": "display_data"
    }
   ],
   "source": [
    "confusion_matrix_data(test_dummy, test_dummy.readmitted, logit_model_age_dummy, cutoff=0.5)"
   ]
  },
  {
   "cell_type": "code",
   "execution_count": 480,
   "metadata": {},
   "outputs": [
    {
     "data": {
      "text/plain": [
       "Text(0.5, 0, 'age')"
      ]
     },
     "execution_count": 480,
     "metadata": {},
     "output_type": "execute_result"
    },
    {
     "data": {
      "image/png": "[encoded data removed]",
      "text/plain": [
       "<Figure size 432x288 with 1 Axes>"
      ]
     },
     "metadata": {
      "needs_background": "light"
     },
     "output_type": "display_data"
    }
   ],
   "source": [
    "#Re-creating the plot of diabetes_percent vs age created earlier, just to check if the function binned age correctly. Yes, it did.\n",
    "age_data = test.groupby('age')['readmitted'].agg([('readmitted_percent','mean'),('nobs','count')]).reset_index(drop=False)\n",
    "test_dummy[\"age_ind\"] =  test_dummy[\"age\"].map({5: 0, 15: 1, 25: 2, 35: 3, 45: 4, 55: 5, 65: 6, 75: 7, 85: 8, 95: 9, 105: 10})\n",
    "sns.lineplot(x = age_data.index, y= age_data['readmitted_percent'])\n",
    "sns.lineplot(x = 'age_ind', y= logit_model_age_dummy.predict(test_dummy), data = test_dummy, color = 'orange') \n",
    "plt.xlabel('age')"
   ]
  },
  {
   "attachments": {},
   "cell_type": "markdown",
   "metadata": {},
   "source": [
    "Quick observations\n",
    "- The classification accuracy for the test data decreased compared to the train data, suggesting overfitting.\n",
    "- The plot of actual vs. predicted readmitted value for the test data supports that overfitting is happening \n",
    "- Precision decreased --> among the classified positives, not many are true positives\n",
    "- This trend is reflected in the highest false positive rate\n",
    "- ROC-AUC went down"
   ]
  },
  {
   "cell_type": "code",
   "execution_count": 482,
   "metadata": {},
   "outputs": [
    {
     "data": {
      "text/plain": [
       "'readmitted ~ time_in_hospital + age5 + age15 + age25 + age35 + age45 + age55 + age65 + age75 + age85 + num_of_changes + number_inpatient'"
      ]
     },
     "execution_count": 482,
     "metadata": {},
     "output_type": "execute_result"
    }
   ],
   "source": [
    "form = 'readmitted ~ time_in_hospital + ' + ' + '.join(vars[0][:-1]) + ' + num_of_changes + number_inpatient'\n",
    "form"
   ]
  },
  {
   "cell_type": "code",
   "execution_count": 483,
   "metadata": {},
   "outputs": [
    {
     "name": "stdout",
     "output_type": "stream",
     "text": [
      "Optimization terminated successfully.\n",
      "         Current function value: 0.665507\n",
      "         Iterations 8\n"
     ]
    },
    {
     "data": {
      "text/html": [
       "<table class=\"simpletable\">\n",
       "<caption>Logit Regression Results</caption>\n",
       "<tr>\n",
       "  <th>Dep. Variable:</th>      <td>readmitted</td>    <th>  No. Observations:  </th>  <td>104464</td> \n",
       "</tr>\n",
       "<tr>\n",
       "  <th>Model:</th>                 <td>Logit</td>      <th>  Df Residuals:      </th>  <td>104451</td> \n",
       "</tr>\n",
       "<tr>\n",
       "  <th>Method:</th>                 <td>MLE</td>       <th>  Df Model:          </th>  <td>    12</td> \n",
       "</tr>\n",
       "<tr>\n",
       "  <th>Date:</th>            <td>Sat, 25 Feb 2023</td> <th>  Pseudo R-squ.:     </th>  <td>0.03988</td>\n",
       "</tr>\n",
       "<tr>\n",
       "  <th>Time:</th>                <td>00:09:15</td>     <th>  Log-Likelihood:    </th> <td> -69521.</td>\n",
       "</tr>\n",
       "<tr>\n",
       "  <th>converged:</th>             <td>True</td>       <th>  LL-Null:           </th> <td> -72409.</td>\n",
       "</tr>\n",
       "<tr>\n",
       "  <th>Covariance Type:</th>     <td>nonrobust</td>    <th>  LLR p-value:       </th>  <td> 0.000</td> \n",
       "</tr>\n",
       "</table>\n",
       "<table class=\"simpletable\">\n",
       "<tr>\n",
       "          <td></td>            <th>coef</th>     <th>std err</th>      <th>z</th>      <th>P>|z|</th>  <th>[0.025</th>    <th>0.975]</th>  \n",
       "</tr>\n",
       "<tr>\n",
       "  <th>Intercept</th>        <td>   -0.7932</td> <td>    0.050</td> <td>  -15.886</td> <td> 0.000</td> <td>   -0.891</td> <td>   -0.695</td>\n",
       "</tr>\n",
       "<tr>\n",
       "  <th>time_in_hospital</th> <td>    0.0077</td> <td>    0.002</td> <td>    3.396</td> <td> 0.001</td> <td>    0.003</td> <td>    0.012</td>\n",
       "</tr>\n",
       "<tr>\n",
       "  <th>age5</th>             <td>   -2.8084</td> <td>    0.587</td> <td>   -4.785</td> <td> 0.000</td> <td>   -3.959</td> <td>   -1.658</td>\n",
       "</tr>\n",
       "<tr>\n",
       "  <th>age15</th>            <td>   -0.7544</td> <td>    0.134</td> <td>   -5.644</td> <td> 0.000</td> <td>   -1.016</td> <td>   -0.492</td>\n",
       "</tr>\n",
       "<tr>\n",
       "  <th>age25</th>            <td>   -0.4803</td> <td>    0.091</td> <td>   -5.306</td> <td> 0.000</td> <td>   -0.658</td> <td>   -0.303</td>\n",
       "</tr>\n",
       "<tr>\n",
       "  <th>age35</th>            <td>   -0.1463</td> <td>    0.065</td> <td>   -2.237</td> <td> 0.025</td> <td>   -0.275</td> <td>   -0.018</td>\n",
       "</tr>\n",
       "<tr>\n",
       "  <th>age45</th>            <td>    0.2577</td> <td>    0.054</td> <td>    4.735</td> <td> 0.000</td> <td>    0.151</td> <td>    0.364</td>\n",
       "</tr>\n",
       "<tr>\n",
       "  <th>age55</th>            <td>    0.4423</td> <td>    0.052</td> <td>    8.576</td> <td> 0.000</td> <td>    0.341</td> <td>    0.543</td>\n",
       "</tr>\n",
       "<tr>\n",
       "  <th>age65</th>            <td>    0.9100</td> <td>    0.051</td> <td>   18.004</td> <td> 0.000</td> <td>    0.811</td> <td>    1.009</td>\n",
       "</tr>\n",
       "<tr>\n",
       "  <th>age75</th>            <td>    1.1918</td> <td>    0.050</td> <td>   23.761</td> <td> 0.000</td> <td>    1.093</td> <td>    1.290</td>\n",
       "</tr>\n",
       "<tr>\n",
       "  <th>age85</th>            <td>    1.0440</td> <td>    0.051</td> <td>   20.458</td> <td> 0.000</td> <td>    0.944</td> <td>    1.144</td>\n",
       "</tr>\n",
       "<tr>\n",
       "  <th>num_of_changes</th>   <td>   -0.5263</td> <td>    0.015</td> <td>  -34.030</td> <td> 0.000</td> <td>   -0.557</td> <td>   -0.496</td>\n",
       "</tr>\n",
       "<tr>\n",
       "  <th>number_inpatient</th> <td>    0.1466</td> <td>    0.010</td> <td>   14.338</td> <td> 0.000</td> <td>    0.127</td> <td>    0.167</td>\n",
       "</tr>\n",
       "</table>"
      ],
      "text/plain": [
       "<class 'statsmodels.iolib.summary.Summary'>\n",
       "\"\"\"\n",
       "                           Logit Regression Results                           \n",
       "==============================================================================\n",
       "Dep. Variable:             readmitted   No. Observations:               104464\n",
       "Model:                          Logit   Df Residuals:                   104451\n",
       "Method:                           MLE   Df Model:                           12\n",
       "Date:                Sat, 25 Feb 2023   Pseudo R-squ.:                 0.03988\n",
       "Time:                        00:09:15   Log-Likelihood:                -69521.\n",
       "converged:                       True   LL-Null:                       -72409.\n",
       "Covariance Type:            nonrobust   LLR p-value:                     0.000\n",
       "====================================================================================\n",
       "                       coef    std err          z      P>|z|      [0.025      0.975]\n",
       "------------------------------------------------------------------------------------\n",
       "Intercept           -0.7932      0.050    -15.886      0.000      -0.891      -0.695\n",
       "time_in_hospital     0.0077      0.002      3.396      0.001       0.003       0.012\n",
       "age5                -2.8084      0.587     -4.785      0.000      -3.959      -1.658\n",
       "age15               -0.7544      0.134     -5.644      0.000      -1.016      -0.492\n",
       "age25               -0.4803      0.091     -5.306      0.000      -0.658      -0.303\n",
       "age35               -0.1463      0.065     -2.237      0.025      -0.275      -0.018\n",
       "age45                0.2577      0.054      4.735      0.000       0.151       0.364\n",
       "age55                0.4423      0.052      8.576      0.000       0.341       0.543\n",
       "age65                0.9100      0.051     18.004      0.000       0.811       1.009\n",
       "age75                1.1918      0.050     23.761      0.000       1.093       1.290\n",
       "age85                1.0440      0.051     20.458      0.000       0.944       1.144\n",
       "num_of_changes      -0.5263      0.015    -34.030      0.000      -0.557      -0.496\n",
       "number_inpatient     0.1466      0.010     14.338      0.000       0.127       0.167\n",
       "====================================================================================\n",
       "\"\"\""
      ]
     },
     "execution_count": 483,
     "metadata": {},
     "output_type": "execute_result"
    }
   ],
   "source": [
    "# try adding the other terms of the model and the age predictors\n",
    "\n",
    "logit_model_age_dummy_2 = sm.logit(formula = form, data = train1_dummy).fit() \n",
    "logit_model_age_dummy_2.summary()"
   ]
  },
  {
   "cell_type": "code",
   "execution_count": 484,
   "metadata": {},
   "outputs": [
    {
     "name": "stdout",
     "output_type": "stream",
     "text": [
      "Classification accuracy = 59.5%\n",
      "Precision = 58.0%\n",
      "TPR or Recall = 69.0%\n",
      "FNR = 31.0%\n",
      "FPR = 50.0%\n",
      "ROC-AUC = 62.8%\n"
     ]
    },
    {
     "data": {
      "image/png": "[encoded data removed]",
      "text/plain": [
       "<Figure size 432x288 with 2 Axes>"
      ]
     },
     "metadata": {
      "needs_background": "light"
     },
     "output_type": "display_data"
    }
   ],
   "source": [
    "confusion_matrix_data(train1_dummy, train1_dummy.readmitted, logit_model_age_dummy_2,cutoff=0.5)"
   ]
  },
  {
   "cell_type": "code",
   "execution_count": 485,
   "metadata": {},
   "outputs": [
    {
     "name": "stdout",
     "output_type": "stream",
     "text": [
      "Classification accuracy = 51.0%\n",
      "Precision = 10.1%\n",
      "TPR or Recall = 55.3%\n",
      "FNR = 44.7%\n",
      "FPR = 49.4%\n",
      "ROC-AUC = 54.9%\n"
     ]
    },
    {
     "data": {
      "image/png": "[encoded data removed]",
      "text/plain": [
       "<Figure size 432x288 with 2 Axes>"
      ]
     },
     "metadata": {
      "needs_background": "light"
     },
     "output_type": "display_data"
    }
   ],
   "source": [
    "confusion_matrix_data(test_dummy, test_dummy.readmitted, logit_model_age_dummy_2,cutoff=0.5)"
   ]
  },
  {
   "attachments": {},
   "cell_type": "markdown",
   "metadata": {},
   "source": [
    "Quick observations\n",
    "- clssification accuracy of test data went up"
   ]
  },
  {
   "cell_type": "code",
   "execution_count": 489,
   "metadata": {},
   "outputs": [
    {
     "data": {
      "text/plain": [
       "'readmitted ~ time_in_hospital*age5 + time_in_hospital*age15 + time_in_hospital*age25 + time_in_hospital*age35 + time_in_hospital*age45 + time_in_hospital*age55 + time_in_hospital*age65 + time_in_hospital*age75 + time_in_hospital*age85 +  + num_of_changes + number_inpatient'"
      ]
     },
     "execution_count": 489,
     "metadata": {},
     "output_type": "execute_result"
    }
   ],
   "source": [
    "# Predictors: all age groups, interactions between time_in_hospital and the age groups, num_of_changes, and number_inpatient\n",
    "form = 'readmitted ~ time_in_hospital*{} + num_of_changes + number_inpatient'.format('time_in_hospital*'.join([(x + \" + \") for x in vars[0][:-1]]))\n",
    "form"
   ]
  },
  {
   "cell_type": "code",
   "execution_count": 490,
   "metadata": {},
   "outputs": [
    {
     "name": "stdout",
     "output_type": "stream",
     "text": [
      "Optimization terminated successfully.\n",
      "         Current function value: 0.664681\n",
      "         Iterations 8\n"
     ]
    },
    {
     "data": {
      "text/html": [
       "<table class=\"simpletable\">\n",
       "<caption>Logit Regression Results</caption>\n",
       "<tr>\n",
       "  <th>Dep. Variable:</th>      <td>readmitted</td>    <th>  No. Observations:  </th>  <td>104464</td> \n",
       "</tr>\n",
       "<tr>\n",
       "  <th>Model:</th>                 <td>Logit</td>      <th>  Df Residuals:      </th>  <td>104442</td> \n",
       "</tr>\n",
       "<tr>\n",
       "  <th>Method:</th>                 <td>MLE</td>       <th>  Df Model:          </th>  <td>    21</td> \n",
       "</tr>\n",
       "<tr>\n",
       "  <th>Date:</th>            <td>Sat, 25 Feb 2023</td> <th>  Pseudo R-squ.:     </th>  <td>0.04107</td>\n",
       "</tr>\n",
       "<tr>\n",
       "  <th>Time:</th>                <td>00:12:34</td>     <th>  Log-Likelihood:    </th> <td> -69435.</td>\n",
       "</tr>\n",
       "<tr>\n",
       "  <th>converged:</th>             <td>True</td>       <th>  LL-Null:           </th> <td> -72409.</td>\n",
       "</tr>\n",
       "<tr>\n",
       "  <th>Covariance Type:</th>     <td>nonrobust</td>    <th>  LLR p-value:       </th>  <td> 0.000</td> \n",
       "</tr>\n",
       "</table>\n",
       "<table class=\"simpletable\">\n",
       "<tr>\n",
       "             <td></td>               <th>coef</th>     <th>std err</th>      <th>z</th>      <th>P>|z|</th>  <th>[0.025</th>    <th>0.975]</th>  \n",
       "</tr>\n",
       "<tr>\n",
       "  <th>Intercept</th>              <td>   -0.4670</td> <td>    0.097</td> <td>   -4.829</td> <td> 0.000</td> <td>   -0.656</td> <td>   -0.277</td>\n",
       "</tr>\n",
       "<tr>\n",
       "  <th>time_in_hospital</th>       <td>   -0.0652</td> <td>    0.019</td> <td>   -3.410</td> <td> 0.001</td> <td>   -0.103</td> <td>   -0.028</td>\n",
       "</tr>\n",
       "<tr>\n",
       "  <th>age5</th>                   <td>   -3.5511</td> <td>    1.510</td> <td>   -2.352</td> <td> 0.019</td> <td>   -6.511</td> <td>   -0.591</td>\n",
       "</tr>\n",
       "<tr>\n",
       "  <th>time_in_hospital:age5</th>  <td>    0.2352</td> <td>    0.522</td> <td>    0.450</td> <td> 0.652</td> <td>   -0.788</td> <td>    1.259</td>\n",
       "</tr>\n",
       "<tr>\n",
       "  <th>age15</th>                  <td>   -1.7211</td> <td>    0.239</td> <td>   -7.191</td> <td> 0.000</td> <td>   -2.190</td> <td>   -1.252</td>\n",
       "</tr>\n",
       "<tr>\n",
       "  <th>time_in_hospital:age15</th> <td>    0.2653</td> <td>    0.053</td> <td>    4.981</td> <td> 0.000</td> <td>    0.161</td> <td>    0.370</td>\n",
       "</tr>\n",
       "<tr>\n",
       "  <th>age25</th>                  <td>   -0.8523</td> <td>    0.165</td> <td>   -5.161</td> <td> 0.000</td> <td>   -1.176</td> <td>   -0.529</td>\n",
       "</tr>\n",
       "<tr>\n",
       "  <th>time_in_hospital:age25</th> <td>    0.0863</td> <td>    0.037</td> <td>    2.346</td> <td> 0.019</td> <td>    0.014</td> <td>    0.158</td>\n",
       "</tr>\n",
       "<tr>\n",
       "  <th>age35</th>                  <td>   -0.6767</td> <td>    0.123</td> <td>   -5.513</td> <td> 0.000</td> <td>   -0.917</td> <td>   -0.436</td>\n",
       "</tr>\n",
       "<tr>\n",
       "  <th>time_in_hospital:age35</th> <td>    0.1271</td> <td>    0.025</td> <td>    5.098</td> <td> 0.000</td> <td>    0.078</td> <td>    0.176</td>\n",
       "</tr>\n",
       "<tr>\n",
       "  <th>age45</th>                  <td>   -0.2660</td> <td>    0.105</td> <td>   -2.524</td> <td> 0.012</td> <td>   -0.473</td> <td>   -0.059</td>\n",
       "</tr>\n",
       "<tr>\n",
       "  <th>time_in_hospital:age45</th> <td>    0.1230</td> <td>    0.021</td> <td>    5.870</td> <td> 0.000</td> <td>    0.082</td> <td>    0.164</td>\n",
       "</tr>\n",
       "<tr>\n",
       "  <th>age55</th>                  <td>   -0.0545</td> <td>    0.101</td> <td>   -0.539</td> <td> 0.590</td> <td>   -0.253</td> <td>    0.144</td>\n",
       "</tr>\n",
       "<tr>\n",
       "  <th>time_in_hospital:age55</th> <td>    0.1148</td> <td>    0.020</td> <td>    5.728</td> <td> 0.000</td> <td>    0.075</td> <td>    0.154</td>\n",
       "</tr>\n",
       "<tr>\n",
       "  <th>age65</th>                  <td>    0.5796</td> <td>    0.099</td> <td>    5.827</td> <td> 0.000</td> <td>    0.385</td> <td>    0.775</td>\n",
       "</tr>\n",
       "<tr>\n",
       "  <th>time_in_hospital:age65</th> <td>    0.0740</td> <td>    0.020</td> <td>    3.766</td> <td> 0.000</td> <td>    0.036</td> <td>    0.113</td>\n",
       "</tr>\n",
       "<tr>\n",
       "  <th>age75</th>                  <td>    0.9146</td> <td>    0.099</td> <td>    9.243</td> <td> 0.000</td> <td>    0.721</td> <td>    1.109</td>\n",
       "</tr>\n",
       "<tr>\n",
       "  <th>time_in_hospital:age75</th> <td>    0.0619</td> <td>    0.020</td> <td>    3.173</td> <td> 0.002</td> <td>    0.024</td> <td>    0.100</td>\n",
       "</tr>\n",
       "<tr>\n",
       "  <th>age85</th>                  <td>    0.8729</td> <td>    0.101</td> <td>    8.666</td> <td> 0.000</td> <td>    0.675</td> <td>    1.070</td>\n",
       "</tr>\n",
       "<tr>\n",
       "  <th>time_in_hospital:age85</th> <td>    0.0394</td> <td>    0.020</td> <td>    1.991</td> <td> 0.047</td> <td>    0.001</td> <td>    0.078</td>\n",
       "</tr>\n",
       "<tr>\n",
       "  <th>num_of_changes</th>         <td>   -0.5282</td> <td>    0.015</td> <td>  -34.156</td> <td> 0.000</td> <td>   -0.559</td> <td>   -0.498</td>\n",
       "</tr>\n",
       "<tr>\n",
       "  <th>number_inpatient</th>       <td>    0.1456</td> <td>    0.010</td> <td>   14.237</td> <td> 0.000</td> <td>    0.126</td> <td>    0.166</td>\n",
       "</tr>\n",
       "</table>"
      ],
      "text/plain": [
       "<class 'statsmodels.iolib.summary.Summary'>\n",
       "\"\"\"\n",
       "                           Logit Regression Results                           \n",
       "==============================================================================\n",
       "Dep. Variable:             readmitted   No. Observations:               104464\n",
       "Model:                          Logit   Df Residuals:                   104442\n",
       "Method:                           MLE   Df Model:                           21\n",
       "Date:                Sat, 25 Feb 2023   Pseudo R-squ.:                 0.04107\n",
       "Time:                        00:12:34   Log-Likelihood:                -69435.\n",
       "converged:                       True   LL-Null:                       -72409.\n",
       "Covariance Type:            nonrobust   LLR p-value:                     0.000\n",
       "==========================================================================================\n",
       "                             coef    std err          z      P>|z|      [0.025      0.975]\n",
       "------------------------------------------------------------------------------------------\n",
       "Intercept                 -0.4670      0.097     -4.829      0.000      -0.656      -0.277\n",
       "time_in_hospital          -0.0652      0.019     -3.410      0.001      -0.103      -0.028\n",
       "age5                      -3.5511      1.510     -2.352      0.019      -6.511      -0.591\n",
       "time_in_hospital:age5      0.2352      0.522      0.450      0.652      -0.788       1.259\n",
       "age15                     -1.7211      0.239     -7.191      0.000      -2.190      -1.252\n",
       "time_in_hospital:age15     0.2653      0.053      4.981      0.000       0.161       0.370\n",
       "age25                     -0.8523      0.165     -5.161      0.000      -1.176      -0.529\n",
       "time_in_hospital:age25     0.0863      0.037      2.346      0.019       0.014       0.158\n",
       "age35                     -0.6767      0.123     -5.513      0.000      -0.917      -0.436\n",
       "time_in_hospital:age35     0.1271      0.025      5.098      0.000       0.078       0.176\n",
       "age45                     -0.2660      0.105     -2.524      0.012      -0.473      -0.059\n",
       "time_in_hospital:age45     0.1230      0.021      5.870      0.000       0.082       0.164\n",
       "age55                     -0.0545      0.101     -0.539      0.590      -0.253       0.144\n",
       "time_in_hospital:age55     0.1148      0.020      5.728      0.000       0.075       0.154\n",
       "age65                      0.5796      0.099      5.827      0.000       0.385       0.775\n",
       "time_in_hospital:age65     0.0740      0.020      3.766      0.000       0.036       0.113\n",
       "age75                      0.9146      0.099      9.243      0.000       0.721       1.109\n",
       "time_in_hospital:age75     0.0619      0.020      3.173      0.002       0.024       0.100\n",
       "age85                      0.8729      0.101      8.666      0.000       0.675       1.070\n",
       "time_in_hospital:age85     0.0394      0.020      1.991      0.047       0.001       0.078\n",
       "num_of_changes            -0.5282      0.015    -34.156      0.000      -0.559      -0.498\n",
       "number_inpatient           0.1456      0.010     14.237      0.000       0.126       0.166\n",
       "==========================================================================================\n",
       "\"\"\""
      ]
     },
     "execution_count": 490,
     "metadata": {},
     "output_type": "execute_result"
    }
   ],
   "source": [
    "# all predictors (and interaction) of original logit_model\n",
    "\n",
    "logit_model_age_dummy_3 = sm.logit(formula = form, data = train1_dummy).fit(maxiter = 100) \n",
    "logit_model_age_dummy_3.summary()"
   ]
  },
  {
   "cell_type": "code",
   "execution_count": 491,
   "metadata": {},
   "outputs": [
    {
     "name": "stdout",
     "output_type": "stream",
     "text": [
      "Classification accuracy = 59.4%\n",
      "Precision = 57.9%\n",
      "TPR or Recall = 69.5%\n",
      "FNR = 30.5%\n",
      "FPR = 50.6%\n",
      "ROC-AUC = 62.7%\n"
     ]
    },
    {
     "data": {
      "image/png": "[encoded data removed]",
      "text/plain": [
       "<Figure size 432x288 with 2 Axes>"
      ]
     },
     "metadata": {
      "needs_background": "light"
     },
     "output_type": "display_data"
    }
   ],
   "source": [
    "confusion_matrix_data(train1_dummy, train1_dummy.readmitted, logit_model_age_dummy_3, cutoff=0.5)"
   ]
  },
  {
   "cell_type": "code",
   "execution_count": 492,
   "metadata": {},
   "outputs": [
    {
     "name": "stdout",
     "output_type": "stream",
     "text": [
      "Classification accuracy = 50.5%\n",
      "Precision = 10.1%\n",
      "TPR or Recall = 55.8%\n",
      "FNR = 44.2%\n",
      "FPR = 50.0%\n",
      "ROC-AUC = 54.4%\n"
     ]
    },
    {
     "data": {
      "image/png": "[encoded data removed]",
      "text/plain": [
       "<Figure size 432x288 with 2 Axes>"
      ]
     },
     "metadata": {
      "needs_background": "light"
     },
     "output_type": "display_data"
    }
   ],
   "source": [
    "confusion_matrix_data(test_dummy, test_dummy.readmitted, logit_model_age_dummy_3, cutoff=0.5)"
   ]
  },
  {
   "attachments": {},
   "cell_type": "markdown",
   "metadata": {},
   "source": [
    "#### Model 2: `readmitted ~ num_of_changes*time_in_hospital + number_inpatient + age`"
   ]
  },
  {
   "cell_type": "code",
   "execution_count": 493,
   "metadata": {},
   "outputs": [
    {
     "name": "stdout",
     "output_type": "stream",
     "text": [
      "Optimization terminated successfully.\n",
      "         Current function value: 0.672452\n",
      "         Iterations 5\n"
     ]
    },
    {
     "data": {
      "text/html": [
       "<table class=\"simpletable\">\n",
       "<caption>Logit Regression Results</caption>\n",
       "<tr>\n",
       "  <th>Dep. Variable:</th>      <td>readmitted</td>    <th>  No. Observations:  </th>  <td>104464</td> \n",
       "</tr>\n",
       "<tr>\n",
       "  <th>Model:</th>                 <td>Logit</td>      <th>  Df Residuals:      </th>  <td>104458</td> \n",
       "</tr>\n",
       "<tr>\n",
       "  <th>Method:</th>                 <td>MLE</td>       <th>  Df Model:          </th>  <td>     5</td> \n",
       "</tr>\n",
       "<tr>\n",
       "  <th>Date:</th>            <td>Sat, 25 Feb 2023</td> <th>  Pseudo R-squ.:     </th>  <td>0.02986</td>\n",
       "</tr>\n",
       "<tr>\n",
       "  <th>Time:</th>                <td>00:13:27</td>     <th>  Log-Likelihood:    </th> <td> -70247.</td>\n",
       "</tr>\n",
       "<tr>\n",
       "  <th>converged:</th>             <td>True</td>       <th>  LL-Null:           </th> <td> -72409.</td>\n",
       "</tr>\n",
       "<tr>\n",
       "  <th>Covariance Type:</th>     <td>nonrobust</td>    <th>  LLR p-value:       </th>  <td> 0.000</td> \n",
       "</tr>\n",
       "</table>\n",
       "<table class=\"simpletable\">\n",
       "<tr>\n",
       "                 <td></td>                    <th>coef</th>     <th>std err</th>      <th>z</th>      <th>P>|z|</th>  <th>[0.025</th>    <th>0.975]</th>  \n",
       "</tr>\n",
       "<tr>\n",
       "  <th>Intercept</th>                       <td>   -1.4783</td> <td>    0.033</td> <td>  -45.347</td> <td> 0.000</td> <td>   -1.542</td> <td>   -1.414</td>\n",
       "</tr>\n",
       "<tr>\n",
       "  <th>num_of_changes</th>                  <td>   -0.1707</td> <td>    0.029</td> <td>   -5.910</td> <td> 0.000</td> <td>   -0.227</td> <td>   -0.114</td>\n",
       "</tr>\n",
       "<tr>\n",
       "  <th>time_in_hospital</th>                <td>    0.0260</td> <td>    0.003</td> <td>   10.069</td> <td> 0.000</td> <td>    0.021</td> <td>    0.031</td>\n",
       "</tr>\n",
       "<tr>\n",
       "  <th>num_of_changes:time_in_hospital</th> <td>   -0.0736</td> <td>    0.005</td> <td>  -14.358</td> <td> 0.000</td> <td>   -0.084</td> <td>   -0.064</td>\n",
       "</tr>\n",
       "<tr>\n",
       "  <th>number_inpatient</th>                <td>    0.1474</td> <td>    0.010</td> <td>   14.496</td> <td> 0.000</td> <td>    0.127</td> <td>    0.167</td>\n",
       "</tr>\n",
       "<tr>\n",
       "  <th>age</th>                             <td>    0.0214</td> <td>    0.000</td> <td>   47.405</td> <td> 0.000</td> <td>    0.020</td> <td>    0.022</td>\n",
       "</tr>\n",
       "</table>"
      ],
      "text/plain": [
       "<class 'statsmodels.iolib.summary.Summary'>\n",
       "\"\"\"\n",
       "                           Logit Regression Results                           \n",
       "==============================================================================\n",
       "Dep. Variable:             readmitted   No. Observations:               104464\n",
       "Model:                          Logit   Df Residuals:                   104458\n",
       "Method:                           MLE   Df Model:                            5\n",
       "Date:                Sat, 25 Feb 2023   Pseudo R-squ.:                 0.02986\n",
       "Time:                        00:13:27   Log-Likelihood:                -70247.\n",
       "converged:                       True   LL-Null:                       -72409.\n",
       "Covariance Type:            nonrobust   LLR p-value:                     0.000\n",
       "===================================================================================================\n",
       "                                      coef    std err          z      P>|z|      [0.025      0.975]\n",
       "---------------------------------------------------------------------------------------------------\n",
       "Intercept                          -1.4783      0.033    -45.347      0.000      -1.542      -1.414\n",
       "num_of_changes                     -0.1707      0.029     -5.910      0.000      -0.227      -0.114\n",
       "time_in_hospital                    0.0260      0.003     10.069      0.000       0.021       0.031\n",
       "num_of_changes:time_in_hospital    -0.0736      0.005    -14.358      0.000      -0.084      -0.064\n",
       "number_inpatient                    0.1474      0.010     14.496      0.000       0.127       0.167\n",
       "age                                 0.0214      0.000     47.405      0.000       0.020       0.022\n",
       "===================================================================================================\n",
       "\"\"\""
      ]
     },
     "execution_count": 493,
     "metadata": {},
     "output_type": "execute_result"
    }
   ],
   "source": [
    "alt_interaction_model = sm.logit('readmitted ~ num_of_changes*time_in_hospital + number_inpatient + age', train1_dummy).fit()\n",
    "alt_interaction_model.summary()"
   ]
  },
  {
   "attachments": {},
   "cell_type": "markdown",
   "metadata": {},
   "source": [
    "Model 2.1 -- Making each `time_in_hospital` group its own predictor"
   ]
  },
  {
   "cell_type": "code",
   "execution_count": 494,
   "metadata": {},
   "outputs": [
    {
     "data": {
      "text/plain": [
       "'readmitted ~ time_in_hospital1 + time_in_hospital2 + time_in_hospital3 + time_in_hospital4 + time_in_hospital5 + time_in_hospital6 + time_in_hospital7 + time_in_hospital8 + time_in_hospital9 + time_in_hospital10 + time_in_hospital11 + time_in_hospital12 + time_in_hospital13 + num_of_changes + number_inpatient'"
      ]
     },
     "execution_count": 494,
     "metadata": {},
     "output_type": "execute_result"
    }
   ],
   "source": [
    "form = 'readmitted ~ ' + ' + '.join(vars[1][:-1]) + ' + num_of_changes + number_inpatient'\n",
    "form"
   ]
  },
  {
   "cell_type": "code",
   "execution_count": 495,
   "metadata": {},
   "outputs": [
    {
     "name": "stdout",
     "output_type": "stream",
     "text": [
      "Optimization terminated successfully.\n",
      "         Current function value: 0.681039\n",
      "         Iterations 4\n"
     ]
    },
    {
     "data": {
      "text/html": [
       "<table class=\"simpletable\">\n",
       "<caption>Logit Regression Results</caption>\n",
       "<tr>\n",
       "  <th>Dep. Variable:</th>      <td>readmitted</td>    <th>  No. Observations:  </th>  <td>104464</td> \n",
       "</tr>\n",
       "<tr>\n",
       "  <th>Model:</th>                 <td>Logit</td>      <th>  Df Residuals:      </th>  <td>104448</td> \n",
       "</tr>\n",
       "<tr>\n",
       "  <th>Method:</th>                 <td>MLE</td>       <th>  Df Model:          </th>  <td>    15</td> \n",
       "</tr>\n",
       "<tr>\n",
       "  <th>Date:</th>            <td>Sat, 25 Feb 2023</td> <th>  Pseudo R-squ.:     </th>  <td>0.01747</td>\n",
       "</tr>\n",
       "<tr>\n",
       "  <th>Time:</th>                <td>00:13:35</td>     <th>  Log-Likelihood:    </th> <td> -71144.</td>\n",
       "</tr>\n",
       "<tr>\n",
       "  <th>converged:</th>             <td>True</td>       <th>  LL-Null:           </th> <td> -72409.</td>\n",
       "</tr>\n",
       "<tr>\n",
       "  <th>Covariance Type:</th>     <td>nonrobust</td>    <th>  LLR p-value:       </th>  <td> 0.000</td> \n",
       "</tr>\n",
       "</table>\n",
       "<table class=\"simpletable\">\n",
       "<tr>\n",
       "           <td></td>             <th>coef</th>     <th>std err</th>      <th>z</th>      <th>P>|z|</th>  <th>[0.025</th>    <th>0.975]</th>  \n",
       "</tr>\n",
       "<tr>\n",
       "  <th>Intercept</th>          <td>   -0.4137</td> <td>    0.075</td> <td>   -5.484</td> <td> 0.000</td> <td>   -0.562</td> <td>   -0.266</td>\n",
       "</tr>\n",
       "<tr>\n",
       "  <th>time_in_hospital1</th>  <td>    0.1612</td> <td>    0.077</td> <td>    2.087</td> <td> 0.037</td> <td>    0.010</td> <td>    0.313</td>\n",
       "</tr>\n",
       "<tr>\n",
       "  <th>time_in_hospital2</th>  <td>    0.4402</td> <td>    0.077</td> <td>    5.733</td> <td> 0.000</td> <td>    0.290</td> <td>    0.591</td>\n",
       "</tr>\n",
       "<tr>\n",
       "  <th>time_in_hospital3</th>  <td>    0.5517</td> <td>    0.077</td> <td>    7.196</td> <td> 0.000</td> <td>    0.401</td> <td>    0.702</td>\n",
       "</tr>\n",
       "<tr>\n",
       "  <th>time_in_hospital4</th>  <td>    0.6356</td> <td>    0.077</td> <td>    8.245</td> <td> 0.000</td> <td>    0.485</td> <td>    0.787</td>\n",
       "</tr>\n",
       "<tr>\n",
       "  <th>time_in_hospital5</th>  <td>    0.5765</td> <td>    0.078</td> <td>    7.405</td> <td> 0.000</td> <td>    0.424</td> <td>    0.729</td>\n",
       "</tr>\n",
       "<tr>\n",
       "  <th>time_in_hospital6</th>  <td>    0.7384</td> <td>    0.078</td> <td>    9.410</td> <td> 0.000</td> <td>    0.585</td> <td>    0.892</td>\n",
       "</tr>\n",
       "<tr>\n",
       "  <th>time_in_hospital7</th>  <td>    0.6414</td> <td>    0.080</td> <td>    8.055</td> <td> 0.000</td> <td>    0.485</td> <td>    0.797</td>\n",
       "</tr>\n",
       "<tr>\n",
       "  <th>time_in_hospital8</th>  <td>    0.7241</td> <td>    0.081</td> <td>    8.921</td> <td> 0.000</td> <td>    0.565</td> <td>    0.883</td>\n",
       "</tr>\n",
       "<tr>\n",
       "  <th>time_in_hospital9</th>  <td>    0.4297</td> <td>    0.085</td> <td>    5.063</td> <td> 0.000</td> <td>    0.263</td> <td>    0.596</td>\n",
       "</tr>\n",
       "<tr>\n",
       "  <th>time_in_hospital10</th> <td>    0.6012</td> <td>    0.087</td> <td>    6.926</td> <td> 0.000</td> <td>    0.431</td> <td>    0.771</td>\n",
       "</tr>\n",
       "<tr>\n",
       "  <th>time_in_hospital11</th> <td>    0.2204</td> <td>    0.092</td> <td>    2.404</td> <td> 0.016</td> <td>    0.041</td> <td>    0.400</td>\n",
       "</tr>\n",
       "<tr>\n",
       "  <th>time_in_hospital12</th> <td>    0.4057</td> <td>    0.094</td> <td>    4.293</td> <td> 0.000</td> <td>    0.220</td> <td>    0.591</td>\n",
       "</tr>\n",
       "<tr>\n",
       "  <th>time_in_hospital13</th> <td>    0.1331</td> <td>    0.101</td> <td>    1.313</td> <td> 0.189</td> <td>   -0.066</td> <td>    0.332</td>\n",
       "</tr>\n",
       "<tr>\n",
       "  <th>num_of_changes</th>     <td>   -0.5876</td> <td>    0.015</td> <td>  -38.639</td> <td> 0.000</td> <td>   -0.617</td> <td>   -0.558</td>\n",
       "</tr>\n",
       "<tr>\n",
       "  <th>number_inpatient</th>   <td>    0.1483</td> <td>    0.010</td> <td>   14.630</td> <td> 0.000</td> <td>    0.128</td> <td>    0.168</td>\n",
       "</tr>\n",
       "</table>"
      ],
      "text/plain": [
       "<class 'statsmodels.iolib.summary.Summary'>\n",
       "\"\"\"\n",
       "                           Logit Regression Results                           \n",
       "==============================================================================\n",
       "Dep. Variable:             readmitted   No. Observations:               104464\n",
       "Model:                          Logit   Df Residuals:                   104448\n",
       "Method:                           MLE   Df Model:                           15\n",
       "Date:                Sat, 25 Feb 2023   Pseudo R-squ.:                 0.01747\n",
       "Time:                        00:13:35   Log-Likelihood:                -71144.\n",
       "converged:                       True   LL-Null:                       -72409.\n",
       "Covariance Type:            nonrobust   LLR p-value:                     0.000\n",
       "======================================================================================\n",
       "                         coef    std err          z      P>|z|      [0.025      0.975]\n",
       "--------------------------------------------------------------------------------------\n",
       "Intercept             -0.4137      0.075     -5.484      0.000      -0.562      -0.266\n",
       "time_in_hospital1      0.1612      0.077      2.087      0.037       0.010       0.313\n",
       "time_in_hospital2      0.4402      0.077      5.733      0.000       0.290       0.591\n",
       "time_in_hospital3      0.5517      0.077      7.196      0.000       0.401       0.702\n",
       "time_in_hospital4      0.6356      0.077      8.245      0.000       0.485       0.787\n",
       "time_in_hospital5      0.5765      0.078      7.405      0.000       0.424       0.729\n",
       "time_in_hospital6      0.7384      0.078      9.410      0.000       0.585       0.892\n",
       "time_in_hospital7      0.6414      0.080      8.055      0.000       0.485       0.797\n",
       "time_in_hospital8      0.7241      0.081      8.921      0.000       0.565       0.883\n",
       "time_in_hospital9      0.4297      0.085      5.063      0.000       0.263       0.596\n",
       "time_in_hospital10     0.6012      0.087      6.926      0.000       0.431       0.771\n",
       "time_in_hospital11     0.2204      0.092      2.404      0.016       0.041       0.400\n",
       "time_in_hospital12     0.4057      0.094      4.293      0.000       0.220       0.591\n",
       "time_in_hospital13     0.1331      0.101      1.313      0.189      -0.066       0.332\n",
       "num_of_changes        -0.5876      0.015    -38.639      0.000      -0.617      -0.558\n",
       "number_inpatient       0.1483      0.010     14.630      0.000       0.128       0.168\n",
       "======================================================================================\n",
       "\"\"\""
      ]
     },
     "execution_count": 495,
     "metadata": {},
     "output_type": "execute_result"
    }
   ],
   "source": [
    "alt_interaction_model_timepred = sm.logit(formula = form, data = train1_dummy).fit() \n",
    "alt_interaction_model_timepred.summary()"
   ]
  },
  {
   "cell_type": "code",
   "execution_count": 496,
   "metadata": {},
   "outputs": [
    {
     "name": "stdout",
     "output_type": "stream",
     "text": [
      "Classification accuracy = 56.2%\n",
      "Precision = 54.7%\n",
      "TPR or Recall = 72.7%\n",
      "FNR = 27.3%\n",
      "FPR = 60.2%\n",
      "ROC-AUC = 58.5%\n"
     ]
    },
    {
     "data": {
      "image/png": "[encoded data removed]",
      "text/plain": [
       "<Figure size 432x288 with 2 Axes>"
      ]
     },
     "metadata": {
      "needs_background": "light"
     },
     "output_type": "display_data"
    }
   ],
   "source": [
    "confusion_matrix_data(train1_dummy, train1_dummy.readmitted, alt_interaction_model_timepred, cutoff=0.5)"
   ]
  },
  {
   "cell_type": "code",
   "execution_count": 497,
   "metadata": {},
   "outputs": [
    {
     "name": "stdout",
     "output_type": "stream",
     "text": [
      "Classification accuracy = 42.2%\n",
      "Precision = 9.5%\n",
      "TPR or Recall = 61.9%\n",
      "FNR = 38.1%\n",
      "FPR = 59.8%\n",
      "ROC-AUC = 53.0%\n"
     ]
    },
    {
     "data": {
      "image/png": "[encoded data removed]",
      "text/plain": [
       "<Figure size 432x288 with 2 Axes>"
      ]
     },
     "metadata": {
      "needs_background": "light"
     },
     "output_type": "display_data"
    }
   ],
   "source": [
    "confusion_matrix_data(test_dummy, test_dummy.readmitted, alt_interaction_model_timepred, cutoff=0.5)"
   ]
  },
  {
   "attachments": {},
   "cell_type": "markdown",
   "metadata": {},
   "source": [
    "Model 2.2: making `time_in_hospital` its own predictor, adding interaction between `time_in_hospital` and `num_of_changes`"
   ]
  },
  {
   "cell_type": "code",
   "execution_count": 501,
   "metadata": {},
   "outputs": [
    {
     "data": {
      "text/plain": [
       "'readmitted ~ num_of_changes*time_in_hospital1 + num_of_changes*time_in_hospital2 + num_of_changes*time_in_hospital3 + num_of_changes*time_in_hospital4 + num_of_changes*time_in_hospital5 + num_of_changes*time_in_hospital6 + num_of_changes*time_in_hospital7 + num_of_changes*time_in_hospital8 + num_of_changes*time_in_hospital9 + num_of_changes*time_in_hospital10 + num_of_changes*time_in_hospital11 + num_of_changes*time_in_hospital12 + num_of_changes*time_in_hospital13'"
      ]
     },
     "execution_count": 501,
     "metadata": {},
     "output_type": "execute_result"
    }
   ],
   "source": [
    "form = 'readmitted ~ num_of_changes*{}'.format('num_of_changes*'.join([(x + \" + \") for x in vars[1][:-2]]) + 'num_of_changes*time_in_hospital13')\n",
    "form"
   ]
  },
  {
   "cell_type": "code",
   "execution_count": 502,
   "metadata": {},
   "outputs": [
    {
     "name": "stdout",
     "output_type": "stream",
     "text": [
      "Optimization terminated successfully.\n",
      "         Current function value: 0.681168\n",
      "         Iterations 5\n"
     ]
    },
    {
     "data": {
      "text/html": [
       "<table class=\"simpletable\">\n",
       "<caption>Logit Regression Results</caption>\n",
       "<tr>\n",
       "  <th>Dep. Variable:</th>      <td>readmitted</td>    <th>  No. Observations:  </th>  <td>104464</td> \n",
       "</tr>\n",
       "<tr>\n",
       "  <th>Model:</th>                 <td>Logit</td>      <th>  Df Residuals:      </th>  <td>104436</td> \n",
       "</tr>\n",
       "<tr>\n",
       "  <th>Method:</th>                 <td>MLE</td>       <th>  Df Model:          </th>  <td>    27</td> \n",
       "</tr>\n",
       "<tr>\n",
       "  <th>Date:</th>            <td>Sat, 25 Feb 2023</td> <th>  Pseudo R-squ.:     </th>  <td>0.01728</td>\n",
       "</tr>\n",
       "<tr>\n",
       "  <th>Time:</th>                <td>00:14:39</td>     <th>  Log-Likelihood:    </th> <td> -71158.</td>\n",
       "</tr>\n",
       "<tr>\n",
       "  <th>converged:</th>             <td>True</td>       <th>  LL-Null:           </th> <td> -72409.</td>\n",
       "</tr>\n",
       "<tr>\n",
       "  <th>Covariance Type:</th>     <td>nonrobust</td>    <th>  LLR p-value:       </th>  <td> 0.000</td> \n",
       "</tr>\n",
       "</table>\n",
       "<table class=\"simpletable\">\n",
       "<tr>\n",
       "                  <td></td>                     <th>coef</th>     <th>std err</th>      <th>z</th>      <th>P>|z|</th>  <th>[0.025</th>    <th>0.975]</th>  \n",
       "</tr>\n",
       "<tr>\n",
       "  <th>Intercept</th>                         <td>   -0.2914</td> <td>    0.089</td> <td>   -3.278</td> <td> 0.001</td> <td>   -0.466</td> <td>   -0.117</td>\n",
       "</tr>\n",
       "<tr>\n",
       "  <th>num_of_changes</th>                    <td>   -0.8680</td> <td>    0.157</td> <td>   -5.535</td> <td> 0.000</td> <td>   -1.175</td> <td>   -0.561</td>\n",
       "</tr>\n",
       "<tr>\n",
       "  <th>time_in_hospital1</th>                 <td>    0.0189</td> <td>    0.091</td> <td>    0.208</td> <td> 0.835</td> <td>   -0.159</td> <td>    0.197</td>\n",
       "</tr>\n",
       "<tr>\n",
       "  <th>num_of_changes:time_in_hospital1</th>  <td>    0.6119</td> <td>    0.165</td> <td>    3.718</td> <td> 0.000</td> <td>    0.289</td> <td>    0.934</td>\n",
       "</tr>\n",
       "<tr>\n",
       "  <th>time_in_hospital2</th>                 <td>    0.2906</td> <td>    0.090</td> <td>    3.215</td> <td> 0.001</td> <td>    0.113</td> <td>    0.468</td>\n",
       "</tr>\n",
       "<tr>\n",
       "  <th>num_of_changes:time_in_hospital2</th>  <td>    0.6016</td> <td>    0.162</td> <td>    3.723</td> <td> 0.000</td> <td>    0.285</td> <td>    0.918</td>\n",
       "</tr>\n",
       "<tr>\n",
       "  <th>time_in_hospital3</th>                 <td>    0.4590</td> <td>    0.090</td> <td>    5.083</td> <td> 0.000</td> <td>    0.282</td> <td>    0.636</td>\n",
       "</tr>\n",
       "<tr>\n",
       "  <th>num_of_changes:time_in_hospital3</th>  <td>    0.2651</td> <td>    0.161</td> <td>    1.645</td> <td> 0.100</td> <td>   -0.051</td> <td>    0.581</td>\n",
       "</tr>\n",
       "<tr>\n",
       "  <th>time_in_hospital4</th>                 <td>    0.5287</td> <td>    0.091</td> <td>    5.823</td> <td> 0.000</td> <td>    0.351</td> <td>    0.707</td>\n",
       "</tr>\n",
       "<tr>\n",
       "  <th>num_of_changes:time_in_hospital4</th>  <td>    0.3353</td> <td>    0.162</td> <td>    2.074</td> <td> 0.038</td> <td>    0.018</td> <td>    0.652</td>\n",
       "</tr>\n",
       "<tr>\n",
       "  <th>time_in_hospital5</th>                 <td>    0.5242</td> <td>    0.092</td> <td>    5.719</td> <td> 0.000</td> <td>    0.345</td> <td>    0.704</td>\n",
       "</tr>\n",
       "<tr>\n",
       "  <th>num_of_changes:time_in_hospital5</th>  <td>    0.0937</td> <td>    0.164</td> <td>    0.572</td> <td> 0.567</td> <td>   -0.227</td> <td>    0.415</td>\n",
       "</tr>\n",
       "<tr>\n",
       "  <th>time_in_hospital6</th>                 <td>    0.6642</td> <td>    0.092</td> <td>    7.192</td> <td> 0.000</td> <td>    0.483</td> <td>    0.845</td>\n",
       "</tr>\n",
       "<tr>\n",
       "  <th>num_of_changes:time_in_hospital6</th>  <td>    0.2191</td> <td>    0.165</td> <td>    1.331</td> <td> 0.183</td> <td>   -0.103</td> <td>    0.542</td>\n",
       "</tr>\n",
       "<tr>\n",
       "  <th>time_in_hospital7</th>                 <td>    0.6224</td> <td>    0.094</td> <td>    6.640</td> <td> 0.000</td> <td>    0.439</td> <td>    0.806</td>\n",
       "</tr>\n",
       "<tr>\n",
       "  <th>num_of_changes:time_in_hospital7</th>  <td>   -0.0119</td> <td>    0.167</td> <td>   -0.071</td> <td> 0.943</td> <td>   -0.340</td> <td>    0.316</td>\n",
       "</tr>\n",
       "<tr>\n",
       "  <th>time_in_hospital8</th>                 <td>    0.7130</td> <td>    0.095</td> <td>    7.468</td> <td> 0.000</td> <td>    0.526</td> <td>    0.900</td>\n",
       "</tr>\n",
       "<tr>\n",
       "  <th>num_of_changes:time_in_hospital8</th>  <td>   -0.0520</td> <td>    0.171</td> <td>   -0.304</td> <td> 0.761</td> <td>   -0.387</td> <td>    0.283</td>\n",
       "</tr>\n",
       "<tr>\n",
       "  <th>time_in_hospital9</th>                 <td>    0.4055</td> <td>    0.100</td> <td>    4.069</td> <td> 0.000</td> <td>    0.210</td> <td>    0.601</td>\n",
       "</tr>\n",
       "<tr>\n",
       "  <th>num_of_changes:time_in_hospital9</th>  <td>    0.0271</td> <td>    0.179</td> <td>    0.151</td> <td> 0.880</td> <td>   -0.323</td> <td>    0.378</td>\n",
       "</tr>\n",
       "<tr>\n",
       "  <th>time_in_hospital10</th>                <td>    0.5136</td> <td>    0.103</td> <td>    4.998</td> <td> 0.000</td> <td>    0.312</td> <td>    0.715</td>\n",
       "</tr>\n",
       "<tr>\n",
       "  <th>num_of_changes:time_in_hospital10</th> <td>    0.2683</td> <td>    0.179</td> <td>    1.501</td> <td> 0.133</td> <td>   -0.082</td> <td>    0.619</td>\n",
       "</tr>\n",
       "<tr>\n",
       "  <th>time_in_hospital11</th>                <td>    0.1693</td> <td>    0.108</td> <td>    1.568</td> <td> 0.117</td> <td>   -0.042</td> <td>    0.381</td>\n",
       "</tr>\n",
       "<tr>\n",
       "  <th>num_of_changes:time_in_hospital11</th> <td>    0.1618</td> <td>    0.190</td> <td>    0.851</td> <td> 0.395</td> <td>   -0.211</td> <td>    0.535</td>\n",
       "</tr>\n",
       "<tr>\n",
       "  <th>time_in_hospital12</th>                <td>    0.3778</td> <td>    0.111</td> <td>    3.389</td> <td> 0.001</td> <td>    0.159</td> <td>    0.596</td>\n",
       "</tr>\n",
       "<tr>\n",
       "  <th>num_of_changes:time_in_hospital12</th> <td>    0.0781</td> <td>    0.196</td> <td>    0.398</td> <td> 0.691</td> <td>   -0.307</td> <td>    0.463</td>\n",
       "</tr>\n",
       "<tr>\n",
       "  <th>time_in_hospital13</th>                <td>    0.0912</td> <td>    0.120</td> <td>    0.758</td> <td> 0.449</td> <td>   -0.145</td> <td>    0.327</td>\n",
       "</tr>\n",
       "<tr>\n",
       "  <th>num_of_changes:time_in_hospital13</th> <td>    0.1562</td> <td>    0.206</td> <td>    0.757</td> <td> 0.449</td> <td>   -0.248</td> <td>    0.561</td>\n",
       "</tr>\n",
       "</table>"
      ],
      "text/plain": [
       "<class 'statsmodels.iolib.summary.Summary'>\n",
       "\"\"\"\n",
       "                           Logit Regression Results                           \n",
       "==============================================================================\n",
       "Dep. Variable:             readmitted   No. Observations:               104464\n",
       "Model:                          Logit   Df Residuals:                   104436\n",
       "Method:                           MLE   Df Model:                           27\n",
       "Date:                Sat, 25 Feb 2023   Pseudo R-squ.:                 0.01728\n",
       "Time:                        00:14:39   Log-Likelihood:                -71158.\n",
       "converged:                       True   LL-Null:                       -72409.\n",
       "Covariance Type:            nonrobust   LLR p-value:                     0.000\n",
       "=====================================================================================================\n",
       "                                        coef    std err          z      P>|z|      [0.025      0.975]\n",
       "-----------------------------------------------------------------------------------------------------\n",
       "Intercept                            -0.2914      0.089     -3.278      0.001      -0.466      -0.117\n",
       "num_of_changes                       -0.8680      0.157     -5.535      0.000      -1.175      -0.561\n",
       "time_in_hospital1                     0.0189      0.091      0.208      0.835      -0.159       0.197\n",
       "num_of_changes:time_in_hospital1      0.6119      0.165      3.718      0.000       0.289       0.934\n",
       "time_in_hospital2                     0.2906      0.090      3.215      0.001       0.113       0.468\n",
       "num_of_changes:time_in_hospital2      0.6016      0.162      3.723      0.000       0.285       0.918\n",
       "time_in_hospital3                     0.4590      0.090      5.083      0.000       0.282       0.636\n",
       "num_of_changes:time_in_hospital3      0.2651      0.161      1.645      0.100      -0.051       0.581\n",
       "time_in_hospital4                     0.5287      0.091      5.823      0.000       0.351       0.707\n",
       "num_of_changes:time_in_hospital4      0.3353      0.162      2.074      0.038       0.018       0.652\n",
       "time_in_hospital5                     0.5242      0.092      5.719      0.000       0.345       0.704\n",
       "num_of_changes:time_in_hospital5      0.0937      0.164      0.572      0.567      -0.227       0.415\n",
       "time_in_hospital6                     0.6642      0.092      7.192      0.000       0.483       0.845\n",
       "num_of_changes:time_in_hospital6      0.2191      0.165      1.331      0.183      -0.103       0.542\n",
       "time_in_hospital7                     0.6224      0.094      6.640      0.000       0.439       0.806\n",
       "num_of_changes:time_in_hospital7     -0.0119      0.167     -0.071      0.943      -0.340       0.316\n",
       "time_in_hospital8                     0.7130      0.095      7.468      0.000       0.526       0.900\n",
       "num_of_changes:time_in_hospital8     -0.0520      0.171     -0.304      0.761      -0.387       0.283\n",
       "time_in_hospital9                     0.4055      0.100      4.069      0.000       0.210       0.601\n",
       "num_of_changes:time_in_hospital9      0.0271      0.179      0.151      0.880      -0.323       0.378\n",
       "time_in_hospital10                    0.5136      0.103      4.998      0.000       0.312       0.715\n",
       "num_of_changes:time_in_hospital10     0.2683      0.179      1.501      0.133      -0.082       0.619\n",
       "time_in_hospital11                    0.1693      0.108      1.568      0.117      -0.042       0.381\n",
       "num_of_changes:time_in_hospital11     0.1618      0.190      0.851      0.395      -0.211       0.535\n",
       "time_in_hospital12                    0.3778      0.111      3.389      0.001       0.159       0.596\n",
       "num_of_changes:time_in_hospital12     0.0781      0.196      0.398      0.691      -0.307       0.463\n",
       "time_in_hospital13                    0.0912      0.120      0.758      0.449      -0.145       0.327\n",
       "num_of_changes:time_in_hospital13     0.1562      0.206      0.757      0.449      -0.248       0.561\n",
       "=====================================================================================================\n",
       "\"\"\""
      ]
     },
     "execution_count": 502,
     "metadata": {},
     "output_type": "execute_result"
    }
   ],
   "source": [
    "alt_interaction_model_timepred_interact = sm.logit(formula = form, data = train1_dummy).fit() \n",
    "alt_interaction_model_timepred_interact.summary()"
   ]
  },
  {
   "cell_type": "code",
   "execution_count": 503,
   "metadata": {},
   "outputs": [
    {
     "name": "stdout",
     "output_type": "stream",
     "text": [
      "Classification accuracy = 56.2%\n",
      "Precision = 55.9%\n",
      "TPR or Recall = 58.4%\n",
      "FNR = 41.6%\n",
      "FPR = 46.0%\n",
      "ROC-AUC = 58.2%\n"
     ]
    },
    {
     "data": {
      "image/png": "[encoded data removed]",
      "text/plain": [
       "<Figure size 432x288 with 2 Axes>"
      ]
     },
     "metadata": {
      "needs_background": "light"
     },
     "output_type": "display_data"
    }
   ],
   "source": [
    "confusion_matrix_data(train1_dummy, train1_dummy.readmitted, alt_interaction_model_timepred_interact, cutoff=0.5)"
   ]
  },
  {
   "cell_type": "code",
   "execution_count": 504,
   "metadata": {},
   "outputs": [
    {
     "name": "stdout",
     "output_type": "stream",
     "text": [
      "Classification accuracy = 53.8%\n",
      "Precision = 9.8%\n",
      "TPR or Recall = 49.2%\n",
      "FNR = 50.8%\n",
      "FPR = 45.8%\n",
      "ROC-AUC = 50.7%\n"
     ]
    },
    {
     "data": {
      "image/png": "[encoded data removed]",
      "text/plain": [
       "<Figure size 432x288 with 2 Axes>"
      ]
     },
     "metadata": {
      "needs_background": "light"
     },
     "output_type": "display_data"
    }
   ],
   "source": [
    "confusion_matrix_data(test_dummy, test_dummy.readmitted, alt_interaction_model_timepred_interact, cutoff=0.5)"
   ]
  },
  {
   "attachments": {},
   "cell_type": "markdown",
   "metadata": {},
   "source": [
    "Model 2.3: making both `time_in_hospital` and `age` values their own predictors\n"
   ]
  },
  {
   "cell_type": "code",
   "execution_count": 507,
   "metadata": {},
   "outputs": [
    {
     "data": {
      "text/plain": [
       "'readmitted ~ time_in_hospital1 + time_in_hospital2 + time_in_hospital3 + time_in_hospital4 + time_in_hospital5 + time_in_hospital6 + time_in_hospital7 + time_in_hospital8 + time_in_hospital9 + time_in_hospital10 + time_in_hospital11 + time_in_hospital12 + time_in_hospital13 + num_of_changes + number_inpatient + age5 + age15 + age25 + age35 + age45 + age55 + age65 + age75 + age85'"
      ]
     },
     "execution_count": 507,
     "metadata": {},
     "output_type": "execute_result"
    }
   ],
   "source": [
    "form = 'readmitted ~ ' + ' + '.join(vars[1][:-1]) + ' + num_of_changes + number_inpatient + ' + ' + '.join(vars[0][:-1])\n",
    "form"
   ]
  },
  {
   "cell_type": "code",
   "execution_count": 508,
   "metadata": {},
   "outputs": [
    {
     "name": "stdout",
     "output_type": "stream",
     "text": [
      "Optimization terminated successfully.\n",
      "         Current function value: 0.662229\n",
      "         Iterations 8\n"
     ]
    },
    {
     "data": {
      "text/html": [
       "<table class=\"simpletable\">\n",
       "<caption>Logit Regression Results</caption>\n",
       "<tr>\n",
       "  <th>Dep. Variable:</th>      <td>readmitted</td>    <th>  No. Observations:  </th>  <td>104464</td> \n",
       "</tr>\n",
       "<tr>\n",
       "  <th>Model:</th>                 <td>Logit</td>      <th>  Df Residuals:      </th>  <td>104439</td> \n",
       "</tr>\n",
       "<tr>\n",
       "  <th>Method:</th>                 <td>MLE</td>       <th>  Df Model:          </th>  <td>    24</td> \n",
       "</tr>\n",
       "<tr>\n",
       "  <th>Date:</th>            <td>Sat, 25 Feb 2023</td> <th>  Pseudo R-squ.:     </th>  <td>0.04460</td>\n",
       "</tr>\n",
       "<tr>\n",
       "  <th>Time:</th>                <td>00:15:41</td>     <th>  Log-Likelihood:    </th> <td> -69179.</td>\n",
       "</tr>\n",
       "<tr>\n",
       "  <th>converged:</th>             <td>True</td>       <th>  LL-Null:           </th> <td> -72409.</td>\n",
       "</tr>\n",
       "<tr>\n",
       "  <th>Covariance Type:</th>     <td>nonrobust</td>    <th>  LLR p-value:       </th>  <td> 0.000</td> \n",
       "</tr>\n",
       "</table>\n",
       "<table class=\"simpletable\">\n",
       "<tr>\n",
       "           <td></td>             <th>coef</th>     <th>std err</th>      <th>z</th>      <th>P>|z|</th>  <th>[0.025</th>    <th>0.975]</th>  \n",
       "</tr>\n",
       "<tr>\n",
       "  <th>Intercept</th>          <td>   -1.3933</td> <td>    0.091</td> <td>  -15.381</td> <td> 0.000</td> <td>   -1.571</td> <td>   -1.216</td>\n",
       "</tr>\n",
       "<tr>\n",
       "  <th>time_in_hospital1</th>  <td>    0.2936</td> <td>    0.078</td> <td>    3.756</td> <td> 0.000</td> <td>    0.140</td> <td>    0.447</td>\n",
       "</tr>\n",
       "<tr>\n",
       "  <th>time_in_hospital2</th>  <td>    0.5875</td> <td>    0.078</td> <td>    7.564</td> <td> 0.000</td> <td>    0.435</td> <td>    0.740</td>\n",
       "</tr>\n",
       "<tr>\n",
       "  <th>time_in_hospital3</th>  <td>    0.6732</td> <td>    0.078</td> <td>    8.681</td> <td> 0.000</td> <td>    0.521</td> <td>    0.825</td>\n",
       "</tr>\n",
       "<tr>\n",
       "  <th>time_in_hospital4</th>  <td>    0.7348</td> <td>    0.078</td> <td>    9.425</td> <td> 0.000</td> <td>    0.582</td> <td>    0.888</td>\n",
       "</tr>\n",
       "<tr>\n",
       "  <th>time_in_hospital5</th>  <td>    0.6521</td> <td>    0.079</td> <td>    8.282</td> <td> 0.000</td> <td>    0.498</td> <td>    0.806</td>\n",
       "</tr>\n",
       "<tr>\n",
       "  <th>time_in_hospital6</th>  <td>    0.8108</td> <td>    0.079</td> <td>   10.217</td> <td> 0.000</td> <td>    0.655</td> <td>    0.966</td>\n",
       "</tr>\n",
       "<tr>\n",
       "  <th>time_in_hospital7</th>  <td>    0.7020</td> <td>    0.081</td> <td>    8.719</td> <td> 0.000</td> <td>    0.544</td> <td>    0.860</td>\n",
       "</tr>\n",
       "<tr>\n",
       "  <th>time_in_hospital8</th>  <td>    0.7855</td> <td>    0.082</td> <td>    9.568</td> <td> 0.000</td> <td>    0.625</td> <td>    0.946</td>\n",
       "</tr>\n",
       "<tr>\n",
       "  <th>time_in_hospital9</th>  <td>    0.4778</td> <td>    0.086</td> <td>    5.564</td> <td> 0.000</td> <td>    0.309</td> <td>    0.646</td>\n",
       "</tr>\n",
       "<tr>\n",
       "  <th>time_in_hospital10</th> <td>    0.6585</td> <td>    0.088</td> <td>    7.495</td> <td> 0.000</td> <td>    0.486</td> <td>    0.831</td>\n",
       "</tr>\n",
       "<tr>\n",
       "  <th>time_in_hospital11</th> <td>    0.2730</td> <td>    0.093</td> <td>    2.943</td> <td> 0.003</td> <td>    0.091</td> <td>    0.455</td>\n",
       "</tr>\n",
       "<tr>\n",
       "  <th>time_in_hospital12</th> <td>    0.4476</td> <td>    0.096</td> <td>    4.680</td> <td> 0.000</td> <td>    0.260</td> <td>    0.635</td>\n",
       "</tr>\n",
       "<tr>\n",
       "  <th>time_in_hospital13</th> <td>    0.1752</td> <td>    0.103</td> <td>    1.709</td> <td> 0.088</td> <td>   -0.026</td> <td>    0.376</td>\n",
       "</tr>\n",
       "<tr>\n",
       "  <th>num_of_changes</th>     <td>   -0.5326</td> <td>    0.016</td> <td>  -34.322</td> <td> 0.000</td> <td>   -0.563</td> <td>   -0.502</td>\n",
       "</tr>\n",
       "<tr>\n",
       "  <th>number_inpatient</th>   <td>    0.1439</td> <td>    0.010</td> <td>   14.022</td> <td> 0.000</td> <td>    0.124</td> <td>    0.164</td>\n",
       "</tr>\n",
       "<tr>\n",
       "  <th>age5</th>               <td>   -2.7803</td> <td>    0.587</td> <td>   -4.736</td> <td> 0.000</td> <td>   -3.931</td> <td>   -1.630</td>\n",
       "</tr>\n",
       "<tr>\n",
       "  <th>age15</th>              <td>   -0.7166</td> <td>    0.134</td> <td>   -5.350</td> <td> 0.000</td> <td>   -0.979</td> <td>   -0.454</td>\n",
       "</tr>\n",
       "<tr>\n",
       "  <th>age25</th>              <td>   -0.4530</td> <td>    0.091</td> <td>   -4.993</td> <td> 0.000</td> <td>   -0.631</td> <td>   -0.275</td>\n",
       "</tr>\n",
       "<tr>\n",
       "  <th>age35</th>              <td>   -0.1106</td> <td>    0.066</td> <td>   -1.686</td> <td> 0.092</td> <td>   -0.239</td> <td>    0.018</td>\n",
       "</tr>\n",
       "<tr>\n",
       "  <th>age45</th>              <td>    0.2904</td> <td>    0.055</td> <td>    5.318</td> <td> 0.000</td> <td>    0.183</td> <td>    0.397</td>\n",
       "</tr>\n",
       "<tr>\n",
       "  <th>age55</th>              <td>    0.4702</td> <td>    0.052</td> <td>    9.091</td> <td> 0.000</td> <td>    0.369</td> <td>    0.572</td>\n",
       "</tr>\n",
       "<tr>\n",
       "  <th>age65</th>              <td>    0.9408</td> <td>    0.051</td> <td>   18.557</td> <td> 0.000</td> <td>    0.841</td> <td>    1.040</td>\n",
       "</tr>\n",
       "<tr>\n",
       "  <th>age75</th>              <td>    1.2186</td> <td>    0.050</td> <td>   24.224</td> <td> 0.000</td> <td>    1.120</td> <td>    1.317</td>\n",
       "</tr>\n",
       "<tr>\n",
       "  <th>age85</th>              <td>    1.0594</td> <td>    0.051</td> <td>   20.700</td> <td> 0.000</td> <td>    0.959</td> <td>    1.160</td>\n",
       "</tr>\n",
       "</table>"
      ],
      "text/plain": [
       "<class 'statsmodels.iolib.summary.Summary'>\n",
       "\"\"\"\n",
       "                           Logit Regression Results                           \n",
       "==============================================================================\n",
       "Dep. Variable:             readmitted   No. Observations:               104464\n",
       "Model:                          Logit   Df Residuals:                   104439\n",
       "Method:                           MLE   Df Model:                           24\n",
       "Date:                Sat, 25 Feb 2023   Pseudo R-squ.:                 0.04460\n",
       "Time:                        00:15:41   Log-Likelihood:                -69179.\n",
       "converged:                       True   LL-Null:                       -72409.\n",
       "Covariance Type:            nonrobust   LLR p-value:                     0.000\n",
       "======================================================================================\n",
       "                         coef    std err          z      P>|z|      [0.025      0.975]\n",
       "--------------------------------------------------------------------------------------\n",
       "Intercept             -1.3933      0.091    -15.381      0.000      -1.571      -1.216\n",
       "time_in_hospital1      0.2936      0.078      3.756      0.000       0.140       0.447\n",
       "time_in_hospital2      0.5875      0.078      7.564      0.000       0.435       0.740\n",
       "time_in_hospital3      0.6732      0.078      8.681      0.000       0.521       0.825\n",
       "time_in_hospital4      0.7348      0.078      9.425      0.000       0.582       0.888\n",
       "time_in_hospital5      0.6521      0.079      8.282      0.000       0.498       0.806\n",
       "time_in_hospital6      0.8108      0.079     10.217      0.000       0.655       0.966\n",
       "time_in_hospital7      0.7020      0.081      8.719      0.000       0.544       0.860\n",
       "time_in_hospital8      0.7855      0.082      9.568      0.000       0.625       0.946\n",
       "time_in_hospital9      0.4778      0.086      5.564      0.000       0.309       0.646\n",
       "time_in_hospital10     0.6585      0.088      7.495      0.000       0.486       0.831\n",
       "time_in_hospital11     0.2730      0.093      2.943      0.003       0.091       0.455\n",
       "time_in_hospital12     0.4476      0.096      4.680      0.000       0.260       0.635\n",
       "time_in_hospital13     0.1752      0.103      1.709      0.088      -0.026       0.376\n",
       "num_of_changes        -0.5326      0.016    -34.322      0.000      -0.563      -0.502\n",
       "number_inpatient       0.1439      0.010     14.022      0.000       0.124       0.164\n",
       "age5                  -2.7803      0.587     -4.736      0.000      -3.931      -1.630\n",
       "age15                 -0.7166      0.134     -5.350      0.000      -0.979      -0.454\n",
       "age25                 -0.4530      0.091     -4.993      0.000      -0.631      -0.275\n",
       "age35                 -0.1106      0.066     -1.686      0.092      -0.239       0.018\n",
       "age45                  0.2904      0.055      5.318      0.000       0.183       0.397\n",
       "age55                  0.4702      0.052      9.091      0.000       0.369       0.572\n",
       "age65                  0.9408      0.051     18.557      0.000       0.841       1.040\n",
       "age75                  1.2186      0.050     24.224      0.000       1.120       1.317\n",
       "age85                  1.0594      0.051     20.700      0.000       0.959       1.160\n",
       "======================================================================================\n",
       "\"\"\""
      ]
     },
     "execution_count": 508,
     "metadata": {},
     "output_type": "execute_result"
    }
   ],
   "source": [
    "alt_interaction_model_timeagepred = sm.logit(formula = form, data = train1_dummy).fit() \n",
    "alt_interaction_model_timeagepred.summary()"
   ]
  },
  {
   "cell_type": "code",
   "execution_count": 509,
   "metadata": {},
   "outputs": [
    {
     "name": "stdout",
     "output_type": "stream",
     "text": [
      "Classification accuracy = 59.7%\n",
      "Precision = 58.8%\n",
      "TPR or Recall = 65.3%\n",
      "FNR = 34.7%\n",
      "FPR = 45.8%\n",
      "ROC-AUC = 63.4%\n"
     ]
    },
    {
     "data": {
      "image/png": "[encoded data removed]",
      "text/plain": [
       "<Figure size 432x288 with 2 Axes>"
      ]
     },
     "metadata": {
      "needs_background": "light"
     },
     "output_type": "display_data"
    }
   ],
   "source": [
    "confusion_matrix_data(train1_dummy, train1_dummy.readmitted, alt_interaction_model_timeagepred, cutoff=0.5)"
   ]
  },
  {
   "cell_type": "code",
   "execution_count": 510,
   "metadata": {},
   "outputs": [
    {
     "name": "stdout",
     "output_type": "stream",
     "text": [
      "Classification accuracy = 54.0%\n",
      "Precision = 10.1%\n",
      "TPR or Recall = 51.0%\n",
      "FNR = 49.0%\n",
      "FPR = 45.6%\n",
      "ROC-AUC = 54.6%\n"
     ]
    },
    {
     "data": {
      "image/png": "[encoded data removed]",
      "text/plain": [
       "<Figure size 432x288 with 2 Axes>"
      ]
     },
     "metadata": {
      "needs_background": "light"
     },
     "output_type": "display_data"
    }
   ],
   "source": [
    "confusion_matrix_data(test_dummy, test_dummy.readmitted, alt_interaction_model_timeagepred, cutoff=0.5)"
   ]
  },
  {
   "attachments": {},
   "cell_type": "markdown",
   "metadata": {},
   "source": [
    "#### Model 3: `readmitted ~ num_of_changes*time_in_hospital + age*time_in_hospital + number_inpatient`"
   ]
  },
  {
   "cell_type": "code",
   "execution_count": 511,
   "metadata": {},
   "outputs": [
    {
     "name": "stdout",
     "output_type": "stream",
     "text": [
      "Optimization terminated successfully.\n",
      "         Current function value: 0.671206\n",
      "         Iterations 5\n"
     ]
    }
   ],
   "source": [
    "both_interaction_model = sm.logit('readmitted ~ num_of_changes*time_in_hospital + age*time_in_hospital + number_inpatient', train1).fit()"
   ]
  },
  {
   "cell_type": "code",
   "execution_count": 512,
   "metadata": {},
   "outputs": [
    {
     "data": {
      "text/html": [
       "<table class=\"simpletable\">\n",
       "<caption>Logit Regression Results</caption>\n",
       "<tr>\n",
       "  <th>Dep. Variable:</th>      <td>readmitted</td>    <th>  No. Observations:  </th>  <td>104464</td> \n",
       "</tr>\n",
       "<tr>\n",
       "  <th>Model:</th>                 <td>Logit</td>      <th>  Df Residuals:      </th>  <td>104457</td> \n",
       "</tr>\n",
       "<tr>\n",
       "  <th>Method:</th>                 <td>MLE</td>       <th>  Df Model:          </th>  <td>     6</td> \n",
       "</tr>\n",
       "<tr>\n",
       "  <th>Date:</th>            <td>Sat, 25 Feb 2023</td> <th>  Pseudo R-squ.:     </th>  <td>0.03165</td>\n",
       "</tr>\n",
       "<tr>\n",
       "  <th>Time:</th>                <td>00:16:01</td>     <th>  Log-Likelihood:    </th> <td> -70117.</td>\n",
       "</tr>\n",
       "<tr>\n",
       "  <th>converged:</th>             <td>True</td>       <th>  LL-Null:           </th> <td> -72409.</td>\n",
       "</tr>\n",
       "<tr>\n",
       "  <th>Covariance Type:</th>     <td>nonrobust</td>    <th>  LLR p-value:       </th>  <td> 0.000</td> \n",
       "</tr>\n",
       "</table>\n",
       "<table class=\"simpletable\">\n",
       "<tr>\n",
       "                 <td></td>                    <th>coef</th>     <th>std err</th>      <th>z</th>      <th>P>|z|</th>  <th>[0.025</th>    <th>0.975]</th>  \n",
       "</tr>\n",
       "<tr>\n",
       "  <th>Intercept</th>                       <td>   -2.2196</td> <td>    0.057</td> <td>  -38.949</td> <td> 0.000</td> <td>   -2.331</td> <td>   -2.108</td>\n",
       "</tr>\n",
       "<tr>\n",
       "  <th>num_of_changes</th>                  <td>   -0.1528</td> <td>    0.029</td> <td>   -5.263</td> <td> 0.000</td> <td>   -0.210</td> <td>   -0.096</td>\n",
       "</tr>\n",
       "<tr>\n",
       "  <th>time_in_hospital</th>                <td>    0.2099</td> <td>    0.012</td> <td>   17.933</td> <td> 0.000</td> <td>    0.187</td> <td>    0.233</td>\n",
       "</tr>\n",
       "<tr>\n",
       "  <th>num_of_changes:time_in_hospital</th> <td>   -0.0771</td> <td>    0.005</td> <td>  -15.026</td> <td> 0.000</td> <td>   -0.087</td> <td>   -0.067</td>\n",
       "</tr>\n",
       "<tr>\n",
       "  <th>age</th>                             <td>    0.0322</td> <td>    0.001</td> <td>   39.356</td> <td> 0.000</td> <td>    0.031</td> <td>    0.034</td>\n",
       "</tr>\n",
       "<tr>\n",
       "  <th>age:time_in_hospital</th>            <td>   -0.0027</td> <td>    0.000</td> <td>  -16.136</td> <td> 0.000</td> <td>   -0.003</td> <td>   -0.002</td>\n",
       "</tr>\n",
       "<tr>\n",
       "  <th>number_inpatient</th>                <td>    0.1464</td> <td>    0.010</td> <td>   14.388</td> <td> 0.000</td> <td>    0.126</td> <td>    0.166</td>\n",
       "</tr>\n",
       "</table>"
      ],
      "text/plain": [
       "<class 'statsmodels.iolib.summary.Summary'>\n",
       "\"\"\"\n",
       "                           Logit Regression Results                           \n",
       "==============================================================================\n",
       "Dep. Variable:             readmitted   No. Observations:               104464\n",
       "Model:                          Logit   Df Residuals:                   104457\n",
       "Method:                           MLE   Df Model:                            6\n",
       "Date:                Sat, 25 Feb 2023   Pseudo R-squ.:                 0.03165\n",
       "Time:                        00:16:01   Log-Likelihood:                -70117.\n",
       "converged:                       True   LL-Null:                       -72409.\n",
       "Covariance Type:            nonrobust   LLR p-value:                     0.000\n",
       "===================================================================================================\n",
       "                                      coef    std err          z      P>|z|      [0.025      0.975]\n",
       "---------------------------------------------------------------------------------------------------\n",
       "Intercept                          -2.2196      0.057    -38.949      0.000      -2.331      -2.108\n",
       "num_of_changes                     -0.1528      0.029     -5.263      0.000      -0.210      -0.096\n",
       "time_in_hospital                    0.2099      0.012     17.933      0.000       0.187       0.233\n",
       "num_of_changes:time_in_hospital    -0.0771      0.005    -15.026      0.000      -0.087      -0.067\n",
       "age                                 0.0322      0.001     39.356      0.000       0.031       0.034\n",
       "age:time_in_hospital               -0.0027      0.000    -16.136      0.000      -0.003      -0.002\n",
       "number_inpatient                    0.1464      0.010     14.388      0.000       0.126       0.166\n",
       "===================================================================================================\n",
       "\"\"\""
      ]
     },
     "execution_count": 512,
     "metadata": {},
     "output_type": "execute_result"
    }
   ],
   "source": [
    "both_interaction_model.summary()"
   ]
  },
  {
   "attachments": {},
   "cell_type": "markdown",
   "metadata": {},
   "source": [
    "### Exploring diagnoses"
   ]
  },
  {
   "cell_type": "code",
   "execution_count": 513,
   "metadata": {},
   "outputs": [
    {
     "data": {
      "text/plain": [
       "Index(['encounter_id', 'patient_nbr', 'race', 'gender', 'age',\n",
       "       'admission_type_id', 'discharge_disposition_id', 'admission_source_id',\n",
       "       'time_in_hospital', 'payer_code', 'num_lab_procedures',\n",
       "       'num_procedures', 'num_medications', 'number_outpatient',\n",
       "       'number_emergency', 'number_inpatient', 'diag_1', 'diag_2', 'diag_3',\n",
       "       'number_diagnoses', 'max_glu_serum', 'A1Cresult', 'metformin',\n",
       "       'repaglinide', 'nateglinide', 'chlorpropamide', 'glimepiride',\n",
       "       'acetohexamide', 'glipizide', 'glyburide', 'tolbutamide',\n",
       "       'pioglitazone', 'rosiglitazone', 'acarbose', 'miglitol', 'troglitazone',\n",
       "       'tolazamide', 'examide', 'citoglipton', 'insulin',\n",
       "       'glyburide-metformin', 'glipizide-metformin',\n",
       "       'glimepiride-pioglitazone', 'metformin-rosiglitazone',\n",
       "       'metformin-pioglitazone', 'change', 'diabetesMed', 'num_of_changes',\n",
       "       'readmitted'],\n",
       "      dtype='object')"
      ]
     },
     "execution_count": 513,
     "metadata": {},
     "output_type": "execute_result"
    }
   ],
   "source": [
    "train1.columns"
   ]
  },
  {
   "cell_type": "code",
   "execution_count": 514,
   "metadata": {},
   "outputs": [
    {
     "data": {
      "text/plain": [
       "0         5\n",
       "1         1\n",
       "2         1\n",
       "3         1\n",
       "4         1\n",
       "         ..\n",
       "104459    1\n",
       "104460    1\n",
       "104461    1\n",
       "104462    1\n",
       "104463    5\n",
       "Name: admission_type_id, Length: 104464, dtype: int64"
      ]
     },
     "execution_count": 514,
     "metadata": {},
     "output_type": "execute_result"
    }
   ],
   "source": [
    "train1.admission_type_id"
   ]
  },
  {
   "cell_type": "code",
   "execution_count": 114,
   "metadata": {},
   "outputs": [
    {
     "name": "stdout",
     "output_type": "stream",
     "text": [
      "Optimization terminated successfully.\n",
      "         Current function value: 0.690176\n",
      "         Iterations 5\n"
     ]
    },
    {
     "data": {
      "text/html": [
       "<table class=\"simpletable\">\n",
       "<caption>Logit Regression Results</caption>\n",
       "<tr>\n",
       "  <th>Dep. Variable:</th>      <td>readmitted</td>    <th>  No. Observations:  </th>  <td> 12586</td>  \n",
       "</tr>\n",
       "<tr>\n",
       "  <th>Model:</th>                 <td>Logit</td>      <th>  Df Residuals:      </th>  <td> 12576</td>  \n",
       "</tr>\n",
       "<tr>\n",
       "  <th>Method:</th>                 <td>MLE</td>       <th>  Df Model:          </th>  <td>     9</td>  \n",
       "</tr>\n",
       "<tr>\n",
       "  <th>Date:</th>            <td>Fri, 24 Feb 2023</td> <th>  Pseudo R-squ.:     </th> <td>0.004287</td> \n",
       "</tr>\n",
       "<tr>\n",
       "  <th>Time:</th>                <td>00:58:00</td>     <th>  Log-Likelihood:    </th> <td> -8686.5</td> \n",
       "</tr>\n",
       "<tr>\n",
       "  <th>converged:</th>             <td>True</td>       <th>  LL-Null:           </th> <td> -8724.0</td> \n",
       "</tr>\n",
       "<tr>\n",
       "  <th>Covariance Type:</th>     <td>nonrobust</td>    <th>  LLR p-value:       </th> <td>1.730e-12</td>\n",
       "</tr>\n",
       "</table>\n",
       "<table class=\"simpletable\">\n",
       "<tr>\n",
       "              <td></td>                 <th>coef</th>     <th>std err</th>      <th>z</th>      <th>P>|z|</th>  <th>[0.025</th>    <th>0.975]</th>  \n",
       "</tr>\n",
       "<tr>\n",
       "  <th>Intercept</th>                 <td>    0.1087</td> <td>    0.032</td> <td>    3.408</td> <td> 0.001</td> <td>    0.046</td> <td>    0.171</td>\n",
       "</tr>\n",
       "<tr>\n",
       "  <th>diag_1[T.diabetes]</th>        <td>   -0.0679</td> <td>    0.070</td> <td>   -0.970</td> <td> 0.332</td> <td>   -0.205</td> <td>    0.069</td>\n",
       "</tr>\n",
       "<tr>\n",
       "  <th>diag_1[T.digestive]</th>       <td>   -0.2563</td> <td>    0.068</td> <td>   -3.784</td> <td> 0.000</td> <td>   -0.389</td> <td>   -0.124</td>\n",
       "</tr>\n",
       "<tr>\n",
       "  <th>diag_1[T.genitourinary]</th>   <td>   -0.0144</td> <td>    0.088</td> <td>   -0.163</td> <td> 0.870</td> <td>   -0.187</td> <td>    0.158</td>\n",
       "</tr>\n",
       "<tr>\n",
       "  <th>diag_1[T.injury]</th>          <td>    0.0823</td> <td>    0.073</td> <td>    1.122</td> <td> 0.262</td> <td>   -0.062</td> <td>    0.226</td>\n",
       "</tr>\n",
       "<tr>\n",
       "  <th>diag_1[T.musculoskeletal]</th> <td>   -0.1490</td> <td>    0.082</td> <td>   -1.811</td> <td> 0.070</td> <td>   -0.310</td> <td>    0.012</td>\n",
       "</tr>\n",
       "<tr>\n",
       "  <th>diag_1[T.neoplasms]</th>       <td>   -0.0957</td> <td>    0.099</td> <td>   -0.970</td> <td> 0.332</td> <td>   -0.289</td> <td>    0.098</td>\n",
       "</tr>\n",
       "<tr>\n",
       "  <th>diag_1[T.other]</th>           <td>   -0.1087</td> <td>    0.054</td> <td>   -2.019</td> <td> 0.043</td> <td>   -0.214</td> <td>   -0.003</td>\n",
       "</tr>\n",
       "<tr>\n",
       "  <th>diag_1[T.pregnecy]</th>        <td>   -1.0095</td> <td>    0.235</td> <td>   -4.301</td> <td> 0.000</td> <td>   -1.470</td> <td>   -0.549</td>\n",
       "</tr>\n",
       "<tr>\n",
       "  <th>diag_1[T.respiratory]</th>     <td>   -0.3840</td> <td>    0.060</td> <td>   -6.433</td> <td> 0.000</td> <td>   -0.501</td> <td>   -0.267</td>\n",
       "</tr>\n",
       "</table>"
      ],
      "text/plain": [
       "<class 'statsmodels.iolib.summary.Summary'>\n",
       "\"\"\"\n",
       "                           Logit Regression Results                           \n",
       "==============================================================================\n",
       "Dep. Variable:             readmitted   No. Observations:                12586\n",
       "Model:                          Logit   Df Residuals:                    12576\n",
       "Method:                           MLE   Df Model:                            9\n",
       "Date:                Fri, 24 Feb 2023   Pseudo R-squ.:                0.004287\n",
       "Time:                        00:58:00   Log-Likelihood:                -8686.5\n",
       "converged:                       True   LL-Null:                       -8724.0\n",
       "Covariance Type:            nonrobust   LLR p-value:                 1.730e-12\n",
       "=============================================================================================\n",
       "                                coef    std err          z      P>|z|      [0.025      0.975]\n",
       "---------------------------------------------------------------------------------------------\n",
       "Intercept                     0.1087      0.032      3.408      0.001       0.046       0.171\n",
       "diag_1[T.diabetes]           -0.0679      0.070     -0.970      0.332      -0.205       0.069\n",
       "diag_1[T.digestive]          -0.2563      0.068     -3.784      0.000      -0.389      -0.124\n",
       "diag_1[T.genitourinary]      -0.0144      0.088     -0.163      0.870      -0.187       0.158\n",
       "diag_1[T.injury]              0.0823      0.073      1.122      0.262      -0.062       0.226\n",
       "diag_1[T.musculoskeletal]    -0.1490      0.082     -1.811      0.070      -0.310       0.012\n",
       "diag_1[T.neoplasms]          -0.0957      0.099     -0.970      0.332      -0.289       0.098\n",
       "diag_1[T.other]              -0.1087      0.054     -2.019      0.043      -0.214      -0.003\n",
       "diag_1[T.pregnecy]           -1.0095      0.235     -4.301      0.000      -1.470      -0.549\n",
       "diag_1[T.respiratory]        -0.3840      0.060     -6.433      0.000      -0.501      -0.267\n",
       "=============================================================================================\n",
       "\"\"\""
      ]
     },
     "execution_count": 114,
     "metadata": {},
     "output_type": "execute_result"
    }
   ],
   "source": [
    "model_diag = sm.logit(formula = 'readmitted ~ diag_1', data = train1).fit() \n",
    "model_diag.summary()"
   ]
  },
  {
   "attachments": {},
   "cell_type": "markdown",
   "metadata": {},
   "source": [
    "Statistically significant predictors: diag_1[T.digestive], diag_1[T.pregnecy], diag_1[T.respiratory]"
   ]
  },
  {
   "cell_type": "code",
   "execution_count": 515,
   "metadata": {},
   "outputs": [
    {
     "name": "stdout",
     "output_type": "stream",
     "text": [
      "Classification accuracy = 55.5%\n",
      "Precision = 53.6%\n",
      "TPR or Recall = 81.3%\n",
      "FNR = 18.7%\n",
      "FPR = 70.3%\n",
      "ROC-AUC = 58.2%\n"
     ]
    },
    {
     "data": {
      "image/png": "[encoded data removed]",
      "text/plain": [
       "<Figure size 432x288 with 2 Axes>"
      ]
     },
     "metadata": {
      "needs_background": "light"
     },
     "output_type": "display_data"
    }
   ],
   "source": [
    "confusion_matrix_data(train1_dummy, train1_dummy.readmitted, model_diag, cutoff=0.5)"
   ]
  },
  {
   "cell_type": "code",
   "execution_count": 516,
   "metadata": {},
   "outputs": [
    {
     "name": "stdout",
     "output_type": "stream",
     "text": [
      "Classification accuracy = 34.3%\n",
      "Precision = 9.9%\n",
      "TPR or Recall = 76.6%\n",
      "FNR = 23.4%\n",
      "FPR = 70.0%\n",
      "ROC-AUC = 53.7%\n"
     ]
    },
    {
     "data": {
      "image/png": "[encoded data removed]",
      "text/plain": [
       "<Figure size 432x288 with 2 Axes>"
      ]
     },
     "metadata": {
      "needs_background": "light"
     },
     "output_type": "display_data"
    }
   ],
   "source": [
    "confusion_matrix_data(test_dummy, test_dummy.readmitted, model_diag, cutoff=0.5)"
   ]
  },
  {
   "attachments": {},
   "cell_type": "markdown",
   "metadata": {},
   "source": [
    "Observations\n",
    "- Model is better at predicting true positives and not predicting false negatives\n",
    "- But basically everything is being predicted as negative"
   ]
  },
  {
   "cell_type": "code",
   "execution_count": 517,
   "metadata": {},
   "outputs": [
    {
     "name": "stdout",
     "output_type": "stream",
     "text": [
      "Optimization terminated successfully.\n",
      "         Current function value: 0.662591\n",
      "         Iterations 6\n"
     ]
    },
    {
     "data": {
      "text/html": [
       "<table class=\"simpletable\">\n",
       "<caption>Logit Regression Results</caption>\n",
       "<tr>\n",
       "  <th>Dep. Variable:</th>      <td>readmitted</td>    <th>  No. Observations:  </th>  <td>104464</td> \n",
       "</tr>\n",
       "<tr>\n",
       "  <th>Model:</th>                 <td>Logit</td>      <th>  Df Residuals:      </th>  <td>104445</td> \n",
       "</tr>\n",
       "<tr>\n",
       "  <th>Method:</th>                 <td>MLE</td>       <th>  Df Model:          </th>  <td>    18</td> \n",
       "</tr>\n",
       "<tr>\n",
       "  <th>Date:</th>            <td>Sat, 25 Feb 2023</td> <th>  Pseudo R-squ.:     </th>  <td>0.04408</td>\n",
       "</tr>\n",
       "<tr>\n",
       "  <th>Time:</th>                <td>00:22:43</td>     <th>  Log-Likelihood:    </th> <td> -69217.</td>\n",
       "</tr>\n",
       "<tr>\n",
       "  <th>converged:</th>             <td>True</td>       <th>  LL-Null:           </th> <td> -72409.</td>\n",
       "</tr>\n",
       "<tr>\n",
       "  <th>Covariance Type:</th>     <td>nonrobust</td>    <th>  LLR p-value:       </th>  <td> 0.000</td> \n",
       "</tr>\n",
       "</table>\n",
       "<table class=\"simpletable\">\n",
       "<tr>\n",
       "              <td></td>                 <th>coef</th>     <th>std err</th>      <th>z</th>      <th>P>|z|</th>  <th>[0.025</th>    <th>0.975]</th>  \n",
       "</tr>\n",
       "<tr>\n",
       "  <th>Intercept</th>                 <td>    0.6011</td> <td>    0.012</td> <td>   49.337</td> <td> 0.000</td> <td>    0.577</td> <td>    0.625</td>\n",
       "</tr>\n",
       "<tr>\n",
       "  <th>diag_1[T.diabetes]</th>        <td>   -0.7525</td> <td>    0.027</td> <td>  -28.218</td> <td> 0.000</td> <td>   -0.805</td> <td>   -0.700</td>\n",
       "</tr>\n",
       "<tr>\n",
       "  <th>diag_1[T.digestive]</th>       <td>   -0.7387</td> <td>    0.026</td> <td>  -28.651</td> <td> 0.000</td> <td>   -0.789</td> <td>   -0.688</td>\n",
       "</tr>\n",
       "<tr>\n",
       "  <th>diag_1[T.genitourinary]</th>   <td>   -0.8555</td> <td>    0.034</td> <td>  -25.043</td> <td> 0.000</td> <td>   -0.922</td> <td>   -0.789</td>\n",
       "</tr>\n",
       "<tr>\n",
       "  <th>diag_1[T.injury]</th>          <td>   -0.3690</td> <td>    0.027</td> <td>  -13.579</td> <td> 0.000</td> <td>   -0.422</td> <td>   -0.316</td>\n",
       "</tr>\n",
       "<tr>\n",
       "  <th>diag_1[T.musculoskeletal]</th> <td>   -0.7667</td> <td>    0.032</td> <td>  -23.993</td> <td> 0.000</td> <td>   -0.829</td> <td>   -0.704</td>\n",
       "</tr>\n",
       "<tr>\n",
       "  <th>diag_1[T.neoplasms]</th>       <td>   -0.8061</td> <td>    0.040</td> <td>  -19.962</td> <td> 0.000</td> <td>   -0.885</td> <td>   -0.727</td>\n",
       "</tr>\n",
       "<tr>\n",
       "  <th>diag_1[T.other]</th>           <td>   -0.3244</td> <td>    0.019</td> <td>  -17.214</td> <td> 0.000</td> <td>   -0.361</td> <td>   -0.287</td>\n",
       "</tr>\n",
       "<tr>\n",
       "  <th>diag_1[T.pregnecy]</th>        <td>   -1.7543</td> <td>    0.164</td> <td>  -10.725</td> <td> 0.000</td> <td>   -2.075</td> <td>   -1.434</td>\n",
       "</tr>\n",
       "<tr>\n",
       "  <th>diag_1[T.respiratory]</th>     <td>   -0.8127</td> <td>    0.022</td> <td>  -37.343</td> <td> 0.000</td> <td>   -0.855</td> <td>   -0.770</td>\n",
       "</tr>\n",
       "<tr>\n",
       "  <th>diag_2[T.diabetes]</th>        <td>   -0.3928</td> <td>    0.021</td> <td>  -18.795</td> <td> 0.000</td> <td>   -0.434</td> <td>   -0.352</td>\n",
       "</tr>\n",
       "<tr>\n",
       "  <th>diag_2[T.digestive]</th>       <td>   -0.8361</td> <td>    0.041</td> <td>  -20.318</td> <td> 0.000</td> <td>   -0.917</td> <td>   -0.755</td>\n",
       "</tr>\n",
       "<tr>\n",
       "  <th>diag_2[T.genitourinary]</th>   <td>   -0.6566</td> <td>    0.028</td> <td>  -23.262</td> <td> 0.000</td> <td>   -0.712</td> <td>   -0.601</td>\n",
       "</tr>\n",
       "<tr>\n",
       "  <th>diag_2[T.injury]</th>          <td>   -0.9889</td> <td>    0.050</td> <td>  -19.665</td> <td> 0.000</td> <td>   -1.087</td> <td>   -0.890</td>\n",
       "</tr>\n",
       "<tr>\n",
       "  <th>diag_2[T.musculoskeletal]</th> <td>   -1.2736</td> <td>    0.070</td> <td>  -18.311</td> <td> 0.000</td> <td>   -1.410</td> <td>   -1.137</td>\n",
       "</tr>\n",
       "<tr>\n",
       "  <th>diag_2[T.neoplasms]</th>       <td>   -0.6428</td> <td>    0.050</td> <td>  -12.746</td> <td> 0.000</td> <td>   -0.742</td> <td>   -0.544</td>\n",
       "</tr>\n",
       "<tr>\n",
       "  <th>diag_2[T.other]</th>           <td>   -0.0201</td> <td>    0.016</td> <td>   -1.218</td> <td> 0.223</td> <td>   -0.052</td> <td>    0.012</td>\n",
       "</tr>\n",
       "<tr>\n",
       "  <th>diag_2[T.pregnecy]</th>        <td>   -1.3247</td> <td>    0.248</td> <td>   -5.337</td> <td> 0.000</td> <td>   -1.811</td> <td>   -0.838</td>\n",
       "</tr>\n",
       "<tr>\n",
       "  <th>diag_2[T.respiratory]</th>     <td>   -0.6608</td> <td>    0.025</td> <td>  -26.623</td> <td> 0.000</td> <td>   -0.709</td> <td>   -0.612</td>\n",
       "</tr>\n",
       "</table>"
      ],
      "text/plain": [
       "<class 'statsmodels.iolib.summary.Summary'>\n",
       "\"\"\"\n",
       "                           Logit Regression Results                           \n",
       "==============================================================================\n",
       "Dep. Variable:             readmitted   No. Observations:               104464\n",
       "Model:                          Logit   Df Residuals:                   104445\n",
       "Method:                           MLE   Df Model:                           18\n",
       "Date:                Sat, 25 Feb 2023   Pseudo R-squ.:                 0.04408\n",
       "Time:                        00:22:43   Log-Likelihood:                -69217.\n",
       "converged:                       True   LL-Null:                       -72409.\n",
       "Covariance Type:            nonrobust   LLR p-value:                     0.000\n",
       "=============================================================================================\n",
       "                                coef    std err          z      P>|z|      [0.025      0.975]\n",
       "---------------------------------------------------------------------------------------------\n",
       "Intercept                     0.6011      0.012     49.337      0.000       0.577       0.625\n",
       "diag_1[T.diabetes]           -0.7525      0.027    -28.218      0.000      -0.805      -0.700\n",
       "diag_1[T.digestive]          -0.7387      0.026    -28.651      0.000      -0.789      -0.688\n",
       "diag_1[T.genitourinary]      -0.8555      0.034    -25.043      0.000      -0.922      -0.789\n",
       "diag_1[T.injury]             -0.3690      0.027    -13.579      0.000      -0.422      -0.316\n",
       "diag_1[T.musculoskeletal]    -0.7667      0.032    -23.993      0.000      -0.829      -0.704\n",
       "diag_1[T.neoplasms]          -0.8061      0.040    -19.962      0.000      -0.885      -0.727\n",
       "diag_1[T.other]              -0.3244      0.019    -17.214      0.000      -0.361      -0.287\n",
       "diag_1[T.pregnecy]           -1.7543      0.164    -10.725      0.000      -2.075      -1.434\n",
       "diag_1[T.respiratory]        -0.8127      0.022    -37.343      0.000      -0.855      -0.770\n",
       "diag_2[T.diabetes]           -0.3928      0.021    -18.795      0.000      -0.434      -0.352\n",
       "diag_2[T.digestive]          -0.8361      0.041    -20.318      0.000      -0.917      -0.755\n",
       "diag_2[T.genitourinary]      -0.6566      0.028    -23.262      0.000      -0.712      -0.601\n",
       "diag_2[T.injury]             -0.9889      0.050    -19.665      0.000      -1.087      -0.890\n",
       "diag_2[T.musculoskeletal]    -1.2736      0.070    -18.311      0.000      -1.410      -1.137\n",
       "diag_2[T.neoplasms]          -0.6428      0.050    -12.746      0.000      -0.742      -0.544\n",
       "diag_2[T.other]              -0.0201      0.016     -1.218      0.223      -0.052       0.012\n",
       "diag_2[T.pregnecy]           -1.3247      0.248     -5.337      0.000      -1.811      -0.838\n",
       "diag_2[T.respiratory]        -0.6608      0.025    -26.623      0.000      -0.709      -0.612\n",
       "=============================================================================================\n",
       "\"\"\""
      ]
     },
     "execution_count": 517,
     "metadata": {},
     "output_type": "execute_result"
    }
   ],
   "source": [
    "model_diag_2 = sm.logit(formula = 'readmitted ~ diag_1 + diag_2', data = train1).fit() \n",
    "model_diag_2.summary()"
   ]
  },
  {
   "attachments": {},
   "cell_type": "markdown",
   "metadata": {},
   "source": [
    "Statistically significant predictors: \n",
    "diag_1[T.digestive], diag_1[T.pregnecy], diag_1[T.respiratory]\n",
    "diag_1[T.neoplasms], diag_2[T.neoplasms]\n"
   ]
  },
  {
   "cell_type": "code",
   "execution_count": 518,
   "metadata": {},
   "outputs": [
    {
     "name": "stdout",
     "output_type": "stream",
     "text": [
      "Classification accuracy = 60.4%\n",
      "Precision = 61.1%\n",
      "TPR or Recall = 57.2%\n",
      "FNR = 42.8%\n",
      "FPR = 36.4%\n",
      "ROC-AUC = 63.2%\n"
     ]
    },
    {
     "data": {
      "image/png": "[encoded data removed]",
      "text/plain": [
       "<Figure size 432x288 with 2 Axes>"
      ]
     },
     "metadata": {
      "needs_background": "light"
     },
     "output_type": "display_data"
    }
   ],
   "source": [
    "confusion_matrix_data(train1_dummy, train1_dummy.readmitted, model_diag_2, cutoff=0.5)"
   ]
  },
  {
   "cell_type": "code",
   "execution_count": 519,
   "metadata": {},
   "outputs": [
    {
     "name": "stdout",
     "output_type": "stream",
     "text": [
      "Classification accuracy = 61.2%\n",
      "Precision = 9.8%\n",
      "TPR or Recall = 39.4%\n",
      "FNR = 60.6%\n",
      "FPR = 36.6%\n",
      "ROC-AUC = 52.2%\n"
     ]
    },
    {
     "data": {
      "image/png": "[encoded data removed]",
      "text/plain": [
       "<Figure size 432x288 with 2 Axes>"
      ]
     },
     "metadata": {
      "needs_background": "light"
     },
     "output_type": "display_data"
    }
   ],
   "source": [
    "confusion_matrix_data(test_dummy, test_dummy.readmitted, model_diag_2, cutoff=0.5)"
   ]
  },
  {
   "cell_type": "code",
   "execution_count": 520,
   "metadata": {},
   "outputs": [
    {
     "name": "stdout",
     "output_type": "stream",
     "text": [
      "Optimization terminated successfully.\n",
      "         Current function value: 0.653983\n",
      "         Iterations 6\n"
     ]
    },
    {
     "data": {
      "text/html": [
       "<table class=\"simpletable\">\n",
       "<caption>Logit Regression Results</caption>\n",
       "<tr>\n",
       "  <th>Dep. Variable:</th>      <td>readmitted</td>    <th>  No. Observations:  </th>  <td>104464</td> \n",
       "</tr>\n",
       "<tr>\n",
       "  <th>Model:</th>                 <td>Logit</td>      <th>  Df Residuals:      </th>  <td>104436</td> \n",
       "</tr>\n",
       "<tr>\n",
       "  <th>Method:</th>                 <td>MLE</td>       <th>  Df Model:          </th>  <td>    27</td> \n",
       "</tr>\n",
       "<tr>\n",
       "  <th>Date:</th>            <td>Sat, 25 Feb 2023</td> <th>  Pseudo R-squ.:     </th>  <td>0.05650</td>\n",
       "</tr>\n",
       "<tr>\n",
       "  <th>Time:</th>                <td>00:22:50</td>     <th>  Log-Likelihood:    </th> <td> -68318.</td>\n",
       "</tr>\n",
       "<tr>\n",
       "  <th>converged:</th>             <td>True</td>       <th>  LL-Null:           </th> <td> -72409.</td>\n",
       "</tr>\n",
       "<tr>\n",
       "  <th>Covariance Type:</th>     <td>nonrobust</td>    <th>  LLR p-value:       </th>  <td> 0.000</td> \n",
       "</tr>\n",
       "</table>\n",
       "<table class=\"simpletable\">\n",
       "<tr>\n",
       "              <td></td>                 <th>coef</th>     <th>std err</th>      <th>z</th>      <th>P>|z|</th>  <th>[0.025</th>    <th>0.975]</th>  \n",
       "</tr>\n",
       "<tr>\n",
       "  <th>Intercept</th>                 <td>    0.7531</td> <td>    0.015</td> <td>   51.328</td> <td> 0.000</td> <td>    0.724</td> <td>    0.782</td>\n",
       "</tr>\n",
       "<tr>\n",
       "  <th>diag_1[T.diabetes]</th>        <td>   -0.8079</td> <td>    0.027</td> <td>  -29.598</td> <td> 0.000</td> <td>   -0.861</td> <td>   -0.754</td>\n",
       "</tr>\n",
       "<tr>\n",
       "  <th>diag_1[T.digestive]</th>       <td>   -0.7061</td> <td>    0.026</td> <td>  -26.986</td> <td> 0.000</td> <td>   -0.757</td> <td>   -0.655</td>\n",
       "</tr>\n",
       "<tr>\n",
       "  <th>diag_1[T.genitourinary]</th>   <td>   -0.8281</td> <td>    0.035</td> <td>  -23.932</td> <td> 0.000</td> <td>   -0.896</td> <td>   -0.760</td>\n",
       "</tr>\n",
       "<tr>\n",
       "  <th>diag_1[T.injury]</th>          <td>   -0.3504</td> <td>    0.028</td> <td>  -12.702</td> <td> 0.000</td> <td>   -0.405</td> <td>   -0.296</td>\n",
       "</tr>\n",
       "<tr>\n",
       "  <th>diag_1[T.musculoskeletal]</th> <td>   -0.7206</td> <td>    0.032</td> <td>  -22.289</td> <td> 0.000</td> <td>   -0.784</td> <td>   -0.657</td>\n",
       "</tr>\n",
       "<tr>\n",
       "  <th>diag_1[T.neoplasms]</th>       <td>   -0.7141</td> <td>    0.041</td> <td>  -17.395</td> <td> 0.000</td> <td>   -0.795</td> <td>   -0.634</td>\n",
       "</tr>\n",
       "<tr>\n",
       "  <th>diag_1[T.other]</th>           <td>   -0.3044</td> <td>    0.019</td> <td>  -15.938</td> <td> 0.000</td> <td>   -0.342</td> <td>   -0.267</td>\n",
       "</tr>\n",
       "<tr>\n",
       "  <th>diag_1[T.pregnecy]</th>        <td>   -1.4359</td> <td>    0.184</td> <td>   -7.802</td> <td> 0.000</td> <td>   -1.797</td> <td>   -1.075</td>\n",
       "</tr>\n",
       "<tr>\n",
       "  <th>diag_1[T.respiratory]</th>     <td>   -0.7962</td> <td>    0.022</td> <td>  -36.283</td> <td> 0.000</td> <td>   -0.839</td> <td>   -0.753</td>\n",
       "</tr>\n",
       "<tr>\n",
       "  <th>diag_2[T.diabetes]</th>        <td>   -0.4634</td> <td>    0.021</td> <td>  -21.772</td> <td> 0.000</td> <td>   -0.505</td> <td>   -0.422</td>\n",
       "</tr>\n",
       "<tr>\n",
       "  <th>diag_2[T.digestive]</th>       <td>   -0.8154</td> <td>    0.042</td> <td>  -19.583</td> <td> 0.000</td> <td>   -0.897</td> <td>   -0.734</td>\n",
       "</tr>\n",
       "<tr>\n",
       "  <th>diag_2[T.genitourinary]</th>   <td>   -0.6598</td> <td>    0.029</td> <td>  -23.107</td> <td> 0.000</td> <td>   -0.716</td> <td>   -0.604</td>\n",
       "</tr>\n",
       "<tr>\n",
       "  <th>diag_2[T.injury]</th>          <td>   -0.9381</td> <td>    0.051</td> <td>  -18.378</td> <td> 0.000</td> <td>   -1.038</td> <td>   -0.838</td>\n",
       "</tr>\n",
       "<tr>\n",
       "  <th>diag_2[T.musculoskeletal]</th> <td>   -1.2023</td> <td>    0.071</td> <td>  -17.042</td> <td> 0.000</td> <td>   -1.341</td> <td>   -1.064</td>\n",
       "</tr>\n",
       "<tr>\n",
       "  <th>diag_2[T.neoplasms]</th>       <td>   -0.5283</td> <td>    0.052</td> <td>  -10.168</td> <td> 0.000</td> <td>   -0.630</td> <td>   -0.426</td>\n",
       "</tr>\n",
       "<tr>\n",
       "  <th>diag_2[T.other]</th>           <td>   -0.0223</td> <td>    0.017</td> <td>   -1.335</td> <td> 0.182</td> <td>   -0.055</td> <td>    0.010</td>\n",
       "</tr>\n",
       "<tr>\n",
       "  <th>diag_2[T.pregnecy]</th>        <td>   -1.2678</td> <td>    0.252</td> <td>   -5.035</td> <td> 0.000</td> <td>   -1.761</td> <td>   -0.774</td>\n",
       "</tr>\n",
       "<tr>\n",
       "  <th>diag_2[T.respiratory]</th>     <td>   -0.6470</td> <td>    0.025</td> <td>  -25.818</td> <td> 0.000</td> <td>   -0.696</td> <td>   -0.598</td>\n",
       "</tr>\n",
       "<tr>\n",
       "  <th>diag_3[T.diabetes]</th>        <td>   -0.3352</td> <td>    0.019</td> <td>  -17.390</td> <td> 0.000</td> <td>   -0.373</td> <td>   -0.297</td>\n",
       "</tr>\n",
       "<tr>\n",
       "  <th>diag_3[T.digestive]</th>       <td>   -0.5433</td> <td>    0.041</td> <td>  -13.391</td> <td> 0.000</td> <td>   -0.623</td> <td>   -0.464</td>\n",
       "</tr>\n",
       "<tr>\n",
       "  <th>diag_3[T.genitourinary]</th>   <td>   -0.5951</td> <td>    0.032</td> <td>  -18.500</td> <td> 0.000</td> <td>   -0.658</td> <td>   -0.532</td>\n",
       "</tr>\n",
       "<tr>\n",
       "  <th>diag_3[T.injury]</th>          <td>   -0.9707</td> <td>    0.059</td> <td>  -16.406</td> <td> 0.000</td> <td>   -1.087</td> <td>   -0.855</td>\n",
       "</tr>\n",
       "<tr>\n",
       "  <th>diag_3[T.musculoskeletal]</th> <td>   -1.1525</td> <td>    0.069</td> <td>  -16.719</td> <td> 0.000</td> <td>   -1.288</td> <td>   -1.017</td>\n",
       "</tr>\n",
       "<tr>\n",
       "  <th>diag_3[T.neoplasms]</th>       <td>   -0.7250</td> <td>    0.064</td> <td>  -11.279</td> <td> 0.000</td> <td>   -0.851</td> <td>   -0.599</td>\n",
       "</tr>\n",
       "<tr>\n",
       "  <th>diag_3[T.other]</th>           <td>    0.0344</td> <td>    0.016</td> <td>    2.148</td> <td> 0.032</td> <td>    0.003</td> <td>    0.066</td>\n",
       "</tr>\n",
       "<tr>\n",
       "  <th>diag_3[T.pregnecy]</th>        <td>   -1.0356</td> <td>    0.274</td> <td>   -3.782</td> <td> 0.000</td> <td>   -1.572</td> <td>   -0.499</td>\n",
       "</tr>\n",
       "<tr>\n",
       "  <th>diag_3[T.respiratory]</th>     <td>   -0.6582</td> <td>    0.030</td> <td>  -21.846</td> <td> 0.000</td> <td>   -0.717</td> <td>   -0.599</td>\n",
       "</tr>\n",
       "</table>"
      ],
      "text/plain": [
       "<class 'statsmodels.iolib.summary.Summary'>\n",
       "\"\"\"\n",
       "                           Logit Regression Results                           \n",
       "==============================================================================\n",
       "Dep. Variable:             readmitted   No. Observations:               104464\n",
       "Model:                          Logit   Df Residuals:                   104436\n",
       "Method:                           MLE   Df Model:                           27\n",
       "Date:                Sat, 25 Feb 2023   Pseudo R-squ.:                 0.05650\n",
       "Time:                        00:22:50   Log-Likelihood:                -68318.\n",
       "converged:                       True   LL-Null:                       -72409.\n",
       "Covariance Type:            nonrobust   LLR p-value:                     0.000\n",
       "=============================================================================================\n",
       "                                coef    std err          z      P>|z|      [0.025      0.975]\n",
       "---------------------------------------------------------------------------------------------\n",
       "Intercept                     0.7531      0.015     51.328      0.000       0.724       0.782\n",
       "diag_1[T.diabetes]           -0.8079      0.027    -29.598      0.000      -0.861      -0.754\n",
       "diag_1[T.digestive]          -0.7061      0.026    -26.986      0.000      -0.757      -0.655\n",
       "diag_1[T.genitourinary]      -0.8281      0.035    -23.932      0.000      -0.896      -0.760\n",
       "diag_1[T.injury]             -0.3504      0.028    -12.702      0.000      -0.405      -0.296\n",
       "diag_1[T.musculoskeletal]    -0.7206      0.032    -22.289      0.000      -0.784      -0.657\n",
       "diag_1[T.neoplasms]          -0.7141      0.041    -17.395      0.000      -0.795      -0.634\n",
       "diag_1[T.other]              -0.3044      0.019    -15.938      0.000      -0.342      -0.267\n",
       "diag_1[T.pregnecy]           -1.4359      0.184     -7.802      0.000      -1.797      -1.075\n",
       "diag_1[T.respiratory]        -0.7962      0.022    -36.283      0.000      -0.839      -0.753\n",
       "diag_2[T.diabetes]           -0.4634      0.021    -21.772      0.000      -0.505      -0.422\n",
       "diag_2[T.digestive]          -0.8154      0.042    -19.583      0.000      -0.897      -0.734\n",
       "diag_2[T.genitourinary]      -0.6598      0.029    -23.107      0.000      -0.716      -0.604\n",
       "diag_2[T.injury]             -0.9381      0.051    -18.378      0.000      -1.038      -0.838\n",
       "diag_2[T.musculoskeletal]    -1.2023      0.071    -17.042      0.000      -1.341      -1.064\n",
       "diag_2[T.neoplasms]          -0.5283      0.052    -10.168      0.000      -0.630      -0.426\n",
       "diag_2[T.other]              -0.0223      0.017     -1.335      0.182      -0.055       0.010\n",
       "diag_2[T.pregnecy]           -1.2678      0.252     -5.035      0.000      -1.761      -0.774\n",
       "diag_2[T.respiratory]        -0.6470      0.025    -25.818      0.000      -0.696      -0.598\n",
       "diag_3[T.diabetes]           -0.3352      0.019    -17.390      0.000      -0.373      -0.297\n",
       "diag_3[T.digestive]          -0.5433      0.041    -13.391      0.000      -0.623      -0.464\n",
       "diag_3[T.genitourinary]      -0.5951      0.032    -18.500      0.000      -0.658      -0.532\n",
       "diag_3[T.injury]             -0.9707      0.059    -16.406      0.000      -1.087      -0.855\n",
       "diag_3[T.musculoskeletal]    -1.1525      0.069    -16.719      0.000      -1.288      -1.017\n",
       "diag_3[T.neoplasms]          -0.7250      0.064    -11.279      0.000      -0.851      -0.599\n",
       "diag_3[T.other]               0.0344      0.016      2.148      0.032       0.003       0.066\n",
       "diag_3[T.pregnecy]           -1.0356      0.274     -3.782      0.000      -1.572      -0.499\n",
       "diag_3[T.respiratory]        -0.6582      0.030    -21.846      0.000      -0.717      -0.599\n",
       "=============================================================================================\n",
       "\"\"\""
      ]
     },
     "execution_count": 520,
     "metadata": {},
     "output_type": "execute_result"
    }
   ],
   "source": [
    "model_diag_3 = sm.logit(formula = 'readmitted ~ diag_1 + diag_2 + diag_3', data = train1).fit() \n",
    "model_diag_3.summary()"
   ]
  },
  {
   "cell_type": "code",
   "execution_count": 521,
   "metadata": {},
   "outputs": [
    {
     "name": "stdout",
     "output_type": "stream",
     "text": [
      "Classification accuracy = 61.1%\n",
      "Precision = 60.6%\n",
      "TPR or Recall = 63.3%\n",
      "FNR = 36.7%\n",
      "FPR = 41.1%\n",
      "ROC-AUC = 65.4%\n"
     ]
    },
    {
     "data": {
      "image/png": "[encoded data removed]",
      "text/plain": [
       "<Figure size 432x288 with 2 Axes>"
      ]
     },
     "metadata": {
      "needs_background": "light"
     },
     "output_type": "display_data"
    }
   ],
   "source": [
    "confusion_matrix_data(train1_dummy, train1_dummy.readmitted, model_diag_3, cutoff=0.5)"
   ]
  },
  {
   "cell_type": "code",
   "execution_count": 522,
   "metadata": {},
   "outputs": [
    {
     "name": "stdout",
     "output_type": "stream",
     "text": [
      "Classification accuracy = 56.8%\n",
      "Precision = 9.2%\n",
      "TPR or Recall = 41.9%\n",
      "FNR = 58.1%\n",
      "FPR = 41.7%\n",
      "ROC-AUC = 50.6%\n"
     ]
    },
    {
     "data": {
      "image/png": "[encoded data removed]",
      "text/plain": [
       "<Figure size 432x288 with 2 Axes>"
      ]
     },
     "metadata": {
      "needs_background": "light"
     },
     "output_type": "display_data"
    }
   ],
   "source": [
    "confusion_matrix_data(test_dummy, test_dummy.readmitted, model_diag_3, cutoff=0.5)"
   ]
  },
  {
   "attachments": {},
   "cell_type": "markdown",
   "metadata": {},
   "source": [
    "#### Exploring admission_type_id, discharge_disposition_id, admission_source_id; each their own predictor after we binned in data cleaning"
   ]
  },
  {
   "attachments": {},
   "cell_type": "markdown",
   "metadata": {},
   "source": [
    "Model 4.1: making `discharge_disposition_id` its own predictor"
   ]
  },
  {
   "cell_type": "code",
   "execution_count": 529,
   "metadata": {},
   "outputs": [
    {
     "data": {
      "text/plain": [
       "'readmitted ~ discharge_disposition_id7 + discharge_disposition_id10 + discharge_disposition_id18'"
      ]
     },
     "execution_count": 529,
     "metadata": {},
     "output_type": "execute_result"
    }
   ],
   "source": [
    "form = 'readmitted ~ ' + ' + '.join(['discharge_disposition_id7',\n",
    "       'discharge_disposition_id10',\n",
    "       'discharge_disposition_id18'])\n",
    "form"
   ]
  },
  {
   "cell_type": "code",
   "execution_count": 530,
   "metadata": {},
   "outputs": [
    {
     "name": "stdout",
     "output_type": "stream",
     "text": [
      "Optimization terminated successfully.\n",
      "         Current function value: 0.691713\n",
      "         Iterations 6\n"
     ]
    },
    {
     "data": {
      "text/html": [
       "<table class=\"simpletable\">\n",
       "<caption>Logit Regression Results</caption>\n",
       "<tr>\n",
       "  <th>Dep. Variable:</th>      <td>readmitted</td>    <th>  No. Observations:  </th>  <td>104464</td>  \n",
       "</tr>\n",
       "<tr>\n",
       "  <th>Model:</th>                 <td>Logit</td>      <th>  Df Residuals:      </th>  <td>104460</td>  \n",
       "</tr>\n",
       "<tr>\n",
       "  <th>Method:</th>                 <td>MLE</td>       <th>  Df Model:          </th>  <td>     3</td>  \n",
       "</tr>\n",
       "<tr>\n",
       "  <th>Date:</th>            <td>Sat, 25 Feb 2023</td> <th>  Pseudo R-squ.:     </th> <td>0.002069</td> \n",
       "</tr>\n",
       "<tr>\n",
       "  <th>Time:</th>                <td>00:24:01</td>     <th>  Log-Likelihood:    </th> <td> -72259.</td> \n",
       "</tr>\n",
       "<tr>\n",
       "  <th>converged:</th>             <td>True</td>       <th>  LL-Null:           </th> <td> -72409.</td> \n",
       "</tr>\n",
       "<tr>\n",
       "  <th>Covariance Type:</th>     <td>nonrobust</td>    <th>  LLR p-value:       </th> <td>1.188e-64</td>\n",
       "</tr>\n",
       "</table>\n",
       "<table class=\"simpletable\">\n",
       "<tr>\n",
       "               <td></td>                 <th>coef</th>     <th>std err</th>      <th>z</th>      <th>P>|z|</th>  <th>[0.025</th>    <th>0.975]</th>  \n",
       "</tr>\n",
       "<tr>\n",
       "  <th>Intercept</th>                  <td>   -0.0065</td> <td>    0.006</td> <td>   -1.021</td> <td> 0.307</td> <td>   -0.019</td> <td>    0.006</td>\n",
       "</tr>\n",
       "<tr>\n",
       "  <th>discharge_disposition_id7</th>  <td>   -2.0696</td> <td>    0.175</td> <td>  -11.859</td> <td> 0.000</td> <td>   -2.412</td> <td>   -1.728</td>\n",
       "</tr>\n",
       "<tr>\n",
       "  <th>discharge_disposition_id10</th> <td>   -0.5615</td> <td>    0.304</td> <td>   -1.849</td> <td> 0.064</td> <td>   -1.157</td> <td>    0.034</td>\n",
       "</tr>\n",
       "<tr>\n",
       "  <th>discharge_disposition_id18</th> <td>    0.2326</td> <td>    0.028</td> <td>    8.169</td> <td> 0.000</td> <td>    0.177</td> <td>    0.288</td>\n",
       "</tr>\n",
       "</table>"
      ],
      "text/plain": [
       "<class 'statsmodels.iolib.summary.Summary'>\n",
       "\"\"\"\n",
       "                           Logit Regression Results                           \n",
       "==============================================================================\n",
       "Dep. Variable:             readmitted   No. Observations:               104464\n",
       "Model:                          Logit   Df Residuals:                   104460\n",
       "Method:                           MLE   Df Model:                            3\n",
       "Date:                Sat, 25 Feb 2023   Pseudo R-squ.:                0.002069\n",
       "Time:                        00:24:01   Log-Likelihood:                -72259.\n",
       "converged:                       True   LL-Null:                       -72409.\n",
       "Covariance Type:            nonrobust   LLR p-value:                 1.188e-64\n",
       "==============================================================================================\n",
       "                                 coef    std err          z      P>|z|      [0.025      0.975]\n",
       "----------------------------------------------------------------------------------------------\n",
       "Intercept                     -0.0065      0.006     -1.021      0.307      -0.019       0.006\n",
       "discharge_disposition_id7     -2.0696      0.175    -11.859      0.000      -2.412      -1.728\n",
       "discharge_disposition_id10    -0.5615      0.304     -1.849      0.064      -1.157       0.034\n",
       "discharge_disposition_id18     0.2326      0.028      8.169      0.000       0.177       0.288\n",
       "==============================================================================================\n",
       "\"\"\""
      ]
     },
     "execution_count": 530,
     "metadata": {},
     "output_type": "execute_result"
    }
   ],
   "source": [
    "discharge_model = sm.logit(formula = form, data = train1_dummy).fit() \n",
    "discharge_model.summary()"
   ]
  },
  {
   "cell_type": "code",
   "execution_count": 531,
   "metadata": {},
   "outputs": [
    {
     "name": "stdout",
     "output_type": "stream",
     "text": [
      "Classification accuracy = 50.6%\n",
      "Precision = 55.6%\n",
      "TPR or Recall = 5.6%\n",
      "FNR = 94.4%\n",
      "FPR = 4.5%\n",
      "ROC-AUC = 50.8%\n"
     ]
    },
    {
     "data": {
      "image/png": "[encoded data removed]",
      "text/plain": [
       "<Figure size 432x288 with 2 Axes>"
      ]
     },
     "metadata": {
      "needs_background": "light"
     },
     "output_type": "display_data"
    }
   ],
   "source": [
    "confusion_matrix_data(train1_dummy, train1_dummy.readmitted, discharge_model, cutoff=0.5)"
   ]
  },
  {
   "cell_type": "code",
   "execution_count": 532,
   "metadata": {},
   "outputs": [
    {
     "name": "stdout",
     "output_type": "stream",
     "text": [
      "Classification accuracy = 86.9%\n",
      "Precision = 7.7%\n",
      "TPR or Recall = 4.0%\n",
      "FNR = 96.0%\n",
      "FPR = 4.8%\n",
      "ROC-AUC = 49.7%\n"
     ]
    },
    {
     "data": {
      "image/png": "[encoded data removed]",
      "text/plain": [
       "<Figure size 432x288 with 2 Axes>"
      ]
     },
     "metadata": {
      "needs_background": "light"
     },
     "output_type": "display_data"
    }
   ],
   "source": [
    "confusion_matrix_data(test_dummy, test_dummy.readmitted, discharge_model, cutoff=0.5)"
   ]
  },
  {
   "attachments": {},
   "cell_type": "markdown",
   "metadata": {},
   "source": [
    "Model 4.1: making `admission_source_id` its own predictor"
   ]
  },
  {
   "cell_type": "code",
   "execution_count": 537,
   "metadata": {},
   "outputs": [
    {
     "data": {
      "text/plain": [
       "'readmitted ~ admission_source_id8 + admission_source_id9'"
      ]
     },
     "execution_count": 537,
     "metadata": {},
     "output_type": "execute_result"
    }
   ],
   "source": [
    "form = 'readmitted ~ ' + ' + '.join(['admission_source_id8',\n",
    "       'admission_source_id9'])\n",
    "form"
   ]
  },
  {
   "cell_type": "code",
   "execution_count": 538,
   "metadata": {},
   "outputs": [
    {
     "name": "stdout",
     "output_type": "stream",
     "text": [
      "Optimization terminated successfully.\n",
      "         Current function value: 0.692811\n",
      "         Iterations 6\n"
     ]
    },
    {
     "data": {
      "text/html": [
       "<table class=\"simpletable\">\n",
       "<caption>Logit Regression Results</caption>\n",
       "<tr>\n",
       "  <th>Dep. Variable:</th>      <td>readmitted</td>    <th>  No. Observations:  </th>  <td>104464</td>  \n",
       "</tr>\n",
       "<tr>\n",
       "  <th>Model:</th>                 <td>Logit</td>      <th>  Df Residuals:      </th>  <td>104461</td>  \n",
       "</tr>\n",
       "<tr>\n",
       "  <th>Method:</th>                 <td>MLE</td>       <th>  Df Model:          </th>  <td>     2</td>  \n",
       "</tr>\n",
       "<tr>\n",
       "  <th>Date:</th>            <td>Sat, 25 Feb 2023</td> <th>  Pseudo R-squ.:     </th> <td>0.0004855</td>\n",
       "</tr>\n",
       "<tr>\n",
       "  <th>Time:</th>                <td>00:25:36</td>     <th>  Log-Likelihood:    </th> <td> -72374.</td> \n",
       "</tr>\n",
       "<tr>\n",
       "  <th>converged:</th>             <td>True</td>       <th>  LL-Null:           </th> <td> -72409.</td> \n",
       "</tr>\n",
       "<tr>\n",
       "  <th>Covariance Type:</th>     <td>nonrobust</td>    <th>  LLR p-value:       </th> <td>5.395e-16</td>\n",
       "</tr>\n",
       "</table>\n",
       "<table class=\"simpletable\">\n",
       "<tr>\n",
       "            <td></td>              <th>coef</th>     <th>std err</th>      <th>z</th>      <th>P>|z|</th>  <th>[0.025</th>    <th>0.975]</th>  \n",
       "</tr>\n",
       "<tr>\n",
       "  <th>Intercept</th>            <td>    0.0131</td> <td>    0.006</td> <td>    2.053</td> <td> 0.040</td> <td>    0.001</td> <td>    0.026</td>\n",
       "</tr>\n",
       "<tr>\n",
       "  <th>admission_source_id8</th> <td>   -2.3157</td> <td>    1.049</td> <td>   -2.208</td> <td> 0.027</td> <td>   -4.371</td> <td>   -0.260</td>\n",
       "</tr>\n",
       "<tr>\n",
       "  <th>admission_source_id9</th> <td>   -0.1955</td> <td>    0.025</td> <td>   -7.844</td> <td> 0.000</td> <td>   -0.244</td> <td>   -0.147</td>\n",
       "</tr>\n",
       "</table>"
      ],
      "text/plain": [
       "<class 'statsmodels.iolib.summary.Summary'>\n",
       "\"\"\"\n",
       "                           Logit Regression Results                           \n",
       "==============================================================================\n",
       "Dep. Variable:             readmitted   No. Observations:               104464\n",
       "Model:                          Logit   Df Residuals:                   104461\n",
       "Method:                           MLE   Df Model:                            2\n",
       "Date:                Sat, 25 Feb 2023   Pseudo R-squ.:               0.0004855\n",
       "Time:                        00:25:36   Log-Likelihood:                -72374.\n",
       "converged:                       True   LL-Null:                       -72409.\n",
       "Covariance Type:            nonrobust   LLR p-value:                 5.395e-16\n",
       "========================================================================================\n",
       "                           coef    std err          z      P>|z|      [0.025      0.975]\n",
       "----------------------------------------------------------------------------------------\n",
       "Intercept                0.0131      0.006      2.053      0.040       0.001       0.026\n",
       "admission_source_id8    -2.3157      1.049     -2.208      0.027      -4.371      -0.260\n",
       "admission_source_id9    -0.1955      0.025     -7.844      0.000      -0.244      -0.147\n",
       "========================================================================================\n",
       "\"\"\""
      ]
     },
     "execution_count": 538,
     "metadata": {},
     "output_type": "execute_result"
    }
   ],
   "source": [
    "admission_model = sm.logit(formula = form, data = train1_dummy).fit() \n",
    "admission_model.summary()"
   ]
  },
  {
   "cell_type": "code",
   "execution_count": 539,
   "metadata": {},
   "outputs": [
    {
     "name": "stdout",
     "output_type": "stream",
     "text": [
      "Classification accuracy = 50.6%\n",
      "Precision = 50.3%\n",
      "TPR or Recall = 94.0%\n",
      "FNR = 6.0%\n",
      "FPR = 92.7%\n",
      "ROC-AUC = 50.6%\n"
     ]
    },
    {
     "data": {
      "image/png": "[encoded data removed]",
      "text/plain": [
       "<Figure size 432x288 with 2 Axes>"
      ]
     },
     "metadata": {
      "needs_background": "light"
     },
     "output_type": "display_data"
    }
   ],
   "source": [
    "confusion_matrix_data(train1_dummy, train1_dummy.readmitted, admission_model, cutoff=0.5)"
   ]
  },
  {
   "cell_type": "code",
   "execution_count": 540,
   "metadata": {},
   "outputs": [
    {
     "name": "stdout",
     "output_type": "stream",
     "text": [
      "Classification accuracy = 15.3%\n",
      "Precision = 9.2%\n",
      "TPR or Recall = 93.5%\n",
      "FNR = 6.5%\n",
      "FPR = 92.6%\n",
      "ROC-AUC = 50.4%\n"
     ]
    },
    {
     "data": {
      "image/png": "[encoded data removed]",
      "text/plain": [
       "<Figure size 432x288 with 2 Axes>"
      ]
     },
     "metadata": {
      "needs_background": "light"
     },
     "output_type": "display_data"
    }
   ],
   "source": [
    "confusion_matrix_data(test_dummy, test_dummy.readmitted, admission_model, cutoff=0.5)"
   ]
  },
  {
   "attachments": {},
   "cell_type": "markdown",
   "metadata": {},
   "source": [
    "Model 4.3: making `admission_type` its own predictor"
   ]
  },
  {
   "cell_type": "code",
   "execution_count": 541,
   "metadata": {},
   "outputs": [
    {
     "data": {
      "text/plain": [
       "'readmitted ~ admission_type_id1 + admission_type_id3 + admission_type_id4'"
      ]
     },
     "execution_count": 541,
     "metadata": {},
     "output_type": "execute_result"
    }
   ],
   "source": [
    "form = 'readmitted ~ ' + ' + '.join(['admission_type_id1', 'admission_type_id3',\n",
    "       'admission_type_id4'])\n",
    "form"
   ]
  },
  {
   "cell_type": "code",
   "execution_count": 542,
   "metadata": {},
   "outputs": [
    {
     "name": "stdout",
     "output_type": "stream",
     "text": [
      "Optimization terminated successfully.\n",
      "         Current function value: 0.679143\n",
      "         Iterations 5\n"
     ]
    },
    {
     "data": {
      "text/html": [
       "<table class=\"simpletable\">\n",
       "<caption>Logit Regression Results</caption>\n",
       "<tr>\n",
       "  <th>Dep. Variable:</th>      <td>readmitted</td>    <th>  No. Observations:  </th>  <td>104464</td> \n",
       "</tr>\n",
       "<tr>\n",
       "  <th>Model:</th>                 <td>Logit</td>      <th>  Df Residuals:      </th>  <td>104460</td> \n",
       "</tr>\n",
       "<tr>\n",
       "  <th>Method:</th>                 <td>MLE</td>       <th>  Df Model:          </th>  <td>     3</td> \n",
       "</tr>\n",
       "<tr>\n",
       "  <th>Date:</th>            <td>Sat, 25 Feb 2023</td> <th>  Pseudo R-squ.:     </th>  <td>0.02020</td>\n",
       "</tr>\n",
       "<tr>\n",
       "  <th>Time:</th>                <td>00:26:07</td>     <th>  Log-Likelihood:    </th> <td> -70946.</td>\n",
       "</tr>\n",
       "<tr>\n",
       "  <th>converged:</th>             <td>True</td>       <th>  LL-Null:           </th> <td> -72409.</td>\n",
       "</tr>\n",
       "<tr>\n",
       "  <th>Covariance Type:</th>     <td>nonrobust</td>    <th>  LLR p-value:       </th>  <td> 0.000</td> \n",
       "</tr>\n",
       "</table>\n",
       "<table class=\"simpletable\">\n",
       "<tr>\n",
       "           <td></td>             <th>coef</th>     <th>std err</th>      <th>z</th>      <th>P>|z|</th>  <th>[0.025</th>    <th>0.975]</th>  \n",
       "</tr>\n",
       "<tr>\n",
       "  <th>Intercept</th>          <td>   -0.2973</td> <td>    0.020</td> <td>  -14.838</td> <td> 0.000</td> <td>   -0.337</td> <td>   -0.258</td>\n",
       "</tr>\n",
       "<tr>\n",
       "  <th>admission_type_id1</th> <td>    0.4742</td> <td>    0.021</td> <td>   22.297</td> <td> 0.000</td> <td>    0.432</td> <td>    0.516</td>\n",
       "</tr>\n",
       "<tr>\n",
       "  <th>admission_type_id3</th> <td>   -0.4791</td> <td>    0.027</td> <td>  -17.939</td> <td> 0.000</td> <td>   -0.531</td> <td>   -0.427</td>\n",
       "</tr>\n",
       "<tr>\n",
       "  <th>admission_type_id4</th> <td>   -1.3121</td> <td>    1.096</td> <td>   -1.198</td> <td> 0.231</td> <td>   -3.460</td> <td>    0.835</td>\n",
       "</tr>\n",
       "</table>"
      ],
      "text/plain": [
       "<class 'statsmodels.iolib.summary.Summary'>\n",
       "\"\"\"\n",
       "                           Logit Regression Results                           \n",
       "==============================================================================\n",
       "Dep. Variable:             readmitted   No. Observations:               104464\n",
       "Model:                          Logit   Df Residuals:                   104460\n",
       "Method:                           MLE   Df Model:                            3\n",
       "Date:                Sat, 25 Feb 2023   Pseudo R-squ.:                 0.02020\n",
       "Time:                        00:26:07   Log-Likelihood:                -70946.\n",
       "converged:                       True   LL-Null:                       -72409.\n",
       "Covariance Type:            nonrobust   LLR p-value:                     0.000\n",
       "======================================================================================\n",
       "                         coef    std err          z      P>|z|      [0.025      0.975]\n",
       "--------------------------------------------------------------------------------------\n",
       "Intercept             -0.2973      0.020    -14.838      0.000      -0.337      -0.258\n",
       "admission_type_id1     0.4742      0.021     22.297      0.000       0.432       0.516\n",
       "admission_type_id3    -0.4791      0.027    -17.939      0.000      -0.531      -0.427\n",
       "admission_type_id4    -1.3121      1.096     -1.198      0.231      -3.460       0.835\n",
       "======================================================================================\n",
       "\"\"\""
      ]
     },
     "execution_count": 542,
     "metadata": {},
     "output_type": "execute_result"
    }
   ],
   "source": [
    "admission_type_model = sm.logit(formula = form, data = train1_dummy).fit() \n",
    "admission_type_model.summary()"
   ]
  },
  {
   "cell_type": "code",
   "execution_count": 543,
   "metadata": {},
   "outputs": [
    {
     "name": "stdout",
     "output_type": "stream",
     "text": [
      "Classification accuracy = 56.7%\n",
      "Precision = 54.4%\n",
      "TPR or Recall = 82.7%\n",
      "FNR = 17.3%\n",
      "FPR = 69.3%\n",
      "ROC-AUC = 57.0%\n"
     ]
    },
    {
     "data": {
      "image/png": "[encoded data removed]",
      "text/plain": [
       "<Figure size 432x288 with 2 Axes>"
      ]
     },
     "metadata": {
      "needs_background": "light"
     },
     "output_type": "display_data"
    }
   ],
   "source": [
    "confusion_matrix_data(train1_dummy, train1_dummy.readmitted, admission_type_model, cutoff=0.5)"
   ]
  },
  {
   "cell_type": "code",
   "execution_count": 544,
   "metadata": {},
   "outputs": [
    {
     "name": "stdout",
     "output_type": "stream",
     "text": [
      "Classification accuracy = 34.8%\n",
      "Precision = 9.3%\n",
      "TPR or Recall = 69.6%\n",
      "FNR = 30.4%\n",
      "FPR = 68.7%\n",
      "ROC-AUC = 50.4%\n"
     ]
    },
    {
     "data": {
      "image/png": "[encoded data removed]",
      "text/plain": [
       "<Figure size 432x288 with 2 Axes>"
      ]
     },
     "metadata": {
      "needs_background": "light"
     },
     "output_type": "display_data"
    }
   ],
   "source": [
    "confusion_matrix_data(test_dummy, test_dummy.readmitted, admission_type_model, cutoff=0.5)"
   ]
  },
  {
   "attachments": {},
   "cell_type": "markdown",
   "metadata": {},
   "source": [
    "### Combine promising predictors from all above models"
   ]
  },
  {
   "attachments": {},
   "cell_type": "markdown",
   "metadata": {},
   "source": [
    "\n",
    "diag_1[T.digestive], diag_1[T.pregnecy], diag_1[T.respiratory]\n",
    "diag_1[T.neoplasms], diag_2[T.neoplasms]\n",
    "\n",
    "all the values of age\n",
    "\n"
   ]
  },
  {
   "cell_type": "code",
   "execution_count": 545,
   "metadata": {},
   "outputs": [],
   "source": [
    "signif_diag = [\"diag_1[T.digestive]\", \"diag_1[T.pregnecy]\", \"diag_1[T.respiratory]\", \"diag_1[T.neoplasms]\", \"diag_2[T.neoplasms]\", \"discharge_disposition_id7\", \"discharge_disposition_id7\", \"admission_type_id1\", \"admission_type_id3\"]"
   ]
  },
  {
   "cell_type": "code",
   "execution_count": 547,
   "metadata": {},
   "outputs": [
    {
     "data": {
      "text/plain": [
       "'readmitted ~ age5 + age15 + age25 + age35 + age45 + age55 + age65 + age75 + age85diag_1[T.digestive] + diag_1[T.pregnecy] + diag_1[T.respiratory] + diag_1[T.neoplasms] + diag_2[T.neoplasms] + discharge_disposition_id7 + discharge_disposition_id7 + admission_type_id1 + admission_type_id3'"
      ]
     },
     "execution_count": 547,
     "metadata": {},
     "output_type": "execute_result"
    }
   ],
   "source": [
    "form = 'readmitted ~ ' + ' + '.join(vars[0][:-1]) + ' + '.join(signif_diag)\n",
    "form"
   ]
  },
  {
   "cell_type": "code",
   "execution_count": 548,
   "metadata": {},
   "outputs": [
    {
     "ename": "PatsyError",
     "evalue": "Error evaluating factor: NameError: name 'T' is not defined\n    readmitted ~ age5 + age15 + age25 + age35 + age45 + age55 + age65 + age75 + age85diag_1[T.digestive] + diag_1[T.pregnecy] + diag_1[T.respiratory] + diag_1[T.neoplasms] + diag_2[T.neoplasms] + discharge_disposition_id7 + discharge_disposition_id7 + admission_type_id1 + admission_type_id3\n                                                                                                                                                        ^^^^^^^^^^^^^^^^^^^",
     "output_type": "error",
     "traceback": [
      "\u001b[0;31m---------------------------------------------------------------------------\u001b[0m",
      "\u001b[0;31mNameError\u001b[0m                                 Traceback (most recent call last)",
      "File \u001b[0;32m~/opt/anaconda3/lib/python3.9/site-packages/patsy/compat.py:36\u001b[0m, in \u001b[0;36mcall_and_wrap_exc\u001b[0;34m(msg, origin, f, *args, **kwargs)\u001b[0m\n\u001b[1;32m     35\u001b[0m \u001b[39mtry\u001b[39;00m:\n\u001b[0;32m---> 36\u001b[0m     \u001b[39mreturn\u001b[39;00m f(\u001b[39m*\u001b[39;49margs, \u001b[39m*\u001b[39;49m\u001b[39m*\u001b[39;49mkwargs)\n\u001b[1;32m     37\u001b[0m \u001b[39mexcept\u001b[39;00m \u001b[39mException\u001b[39;00m \u001b[39mas\u001b[39;00m e:\n",
      "File \u001b[0;32m~/opt/anaconda3/lib/python3.9/site-packages/patsy/eval.py:165\u001b[0m, in \u001b[0;36mEvalEnvironment.eval\u001b[0;34m(self, expr, source_name, inner_namespace)\u001b[0m\n\u001b[1;32m    164\u001b[0m code \u001b[39m=\u001b[39m \u001b[39mcompile\u001b[39m(expr, source_name, \u001b[39m\"\u001b[39m\u001b[39meval\u001b[39m\u001b[39m\"\u001b[39m, \u001b[39mself\u001b[39m\u001b[39m.\u001b[39mflags, \u001b[39mFalse\u001b[39;00m)\n\u001b[0;32m--> 165\u001b[0m \u001b[39mreturn\u001b[39;00m \u001b[39meval\u001b[39;49m(code, {}, VarLookupDict([inner_namespace]\n\u001b[1;32m    166\u001b[0m                                     \u001b[39m+\u001b[39;49m \u001b[39mself\u001b[39;49m\u001b[39m.\u001b[39;49m_namespaces))\n",
      "File \u001b[0;32m<string>:1\u001b[0m, in \u001b[0;36m<module>\u001b[0;34m\u001b[0m\n",
      "\u001b[0;31mNameError\u001b[0m: name 'T' is not defined",
      "\nThe above exception was the direct cause of the following exception:\n",
      "\u001b[0;31mPatsyError\u001b[0m                                Traceback (most recent call last)",
      "\u001b[1;32m/Users/amywang/Northwestern/2023Winter/STAT 303-2/Saturn/Amy.ipynb Cell 107\u001b[0m in \u001b[0;36m<cell line: 1>\u001b[0;34m()\u001b[0m\n\u001b[0;32m----> <a href='vscode-notebook-cell:/Users/amywang/Northwestern/2023Winter/STAT%20303-2/Saturn/Amy.ipynb#Z1346sZmlsZQ%3D%3D?line=0'>1</a>\u001b[0m single_model \u001b[39m=\u001b[39m sm\u001b[39m.\u001b[39;49mlogit(formula \u001b[39m=\u001b[39;49m form, data \u001b[39m=\u001b[39;49m train1_dummy)\u001b[39m.\u001b[39mfit() \n\u001b[1;32m      <a href='vscode-notebook-cell:/Users/amywang/Northwestern/2023Winter/STAT%20303-2/Saturn/Amy.ipynb#Z1346sZmlsZQ%3D%3D?line=1'>2</a>\u001b[0m single_model\u001b[39m.\u001b[39msummary()\n",
      "File \u001b[0;32m~/opt/anaconda3/lib/python3.9/site-packages/statsmodels/base/model.py:200\u001b[0m, in \u001b[0;36mModel.from_formula\u001b[0;34m(cls, formula, data, subset, drop_cols, *args, **kwargs)\u001b[0m\n\u001b[1;32m    197\u001b[0m \u001b[39mif\u001b[39;00m missing \u001b[39m==\u001b[39m \u001b[39m'\u001b[39m\u001b[39mnone\u001b[39m\u001b[39m'\u001b[39m:  \u001b[39m# with patsy it's drop or raise. let's raise.\u001b[39;00m\n\u001b[1;32m    198\u001b[0m     missing \u001b[39m=\u001b[39m \u001b[39m'\u001b[39m\u001b[39mraise\u001b[39m\u001b[39m'\u001b[39m\n\u001b[0;32m--> 200\u001b[0m tmp \u001b[39m=\u001b[39m handle_formula_data(data, \u001b[39mNone\u001b[39;49;00m, formula, depth\u001b[39m=\u001b[39;49meval_env,\n\u001b[1;32m    201\u001b[0m                           missing\u001b[39m=\u001b[39;49mmissing)\n\u001b[1;32m    202\u001b[0m ((endog, exog), missing_idx, design_info) \u001b[39m=\u001b[39m tmp\n\u001b[1;32m    203\u001b[0m max_endog \u001b[39m=\u001b[39m \u001b[39mcls\u001b[39m\u001b[39m.\u001b[39m_formula_max_endog\n",
      "File \u001b[0;32m~/opt/anaconda3/lib/python3.9/site-packages/statsmodels/formula/formulatools.py:63\u001b[0m, in \u001b[0;36mhandle_formula_data\u001b[0;34m(Y, X, formula, depth, missing)\u001b[0m\n\u001b[1;32m     61\u001b[0m \u001b[39melse\u001b[39;00m:\n\u001b[1;32m     62\u001b[0m     \u001b[39mif\u001b[39;00m data_util\u001b[39m.\u001b[39m_is_using_pandas(Y, \u001b[39mNone\u001b[39;00m):\n\u001b[0;32m---> 63\u001b[0m         result \u001b[39m=\u001b[39m dmatrices(formula, Y, depth, return_type\u001b[39m=\u001b[39;49m\u001b[39m'\u001b[39;49m\u001b[39mdataframe\u001b[39;49m\u001b[39m'\u001b[39;49m,\n\u001b[1;32m     64\u001b[0m                            NA_action\u001b[39m=\u001b[39;49mna_action)\n\u001b[1;32m     65\u001b[0m     \u001b[39melse\u001b[39;00m:\n\u001b[1;32m     66\u001b[0m         result \u001b[39m=\u001b[39m dmatrices(formula, Y, depth, return_type\u001b[39m=\u001b[39m\u001b[39m'\u001b[39m\u001b[39mdataframe\u001b[39m\u001b[39m'\u001b[39m,\n\u001b[1;32m     67\u001b[0m                            NA_action\u001b[39m=\u001b[39mna_action)\n",
      "File \u001b[0;32m~/opt/anaconda3/lib/python3.9/site-packages/patsy/highlevel.py:309\u001b[0m, in \u001b[0;36mdmatrices\u001b[0;34m(formula_like, data, eval_env, NA_action, return_type)\u001b[0m\n\u001b[1;32m    299\u001b[0m \u001b[39m\"\"\"Construct two design matrices given a formula_like and data.\u001b[39;00m\n\u001b[1;32m    300\u001b[0m \n\u001b[1;32m    301\u001b[0m \u001b[39mThis function is identical to :func:`dmatrix`, except that it requires\u001b[39;00m\n\u001b[0;32m   (...)\u001b[0m\n\u001b[1;32m    306\u001b[0m \u001b[39mSee :func:`dmatrix` for details.\u001b[39;00m\n\u001b[1;32m    307\u001b[0m \u001b[39m\"\"\"\u001b[39;00m\n\u001b[1;32m    308\u001b[0m eval_env \u001b[39m=\u001b[39m EvalEnvironment\u001b[39m.\u001b[39mcapture(eval_env, reference\u001b[39m=\u001b[39m\u001b[39m1\u001b[39m)\n\u001b[0;32m--> 309\u001b[0m (lhs, rhs) \u001b[39m=\u001b[39m _do_highlevel_design(formula_like, data, eval_env,\n\u001b[1;32m    310\u001b[0m                                   NA_action, return_type)\n\u001b[1;32m    311\u001b[0m \u001b[39mif\u001b[39;00m lhs\u001b[39m.\u001b[39mshape[\u001b[39m1\u001b[39m] \u001b[39m==\u001b[39m \u001b[39m0\u001b[39m:\n\u001b[1;32m    312\u001b[0m     \u001b[39mraise\u001b[39;00m PatsyError(\u001b[39m\"\u001b[39m\u001b[39mmodel is missing required outcome variables\u001b[39m\u001b[39m\"\u001b[39m)\n",
      "File \u001b[0;32m~/opt/anaconda3/lib/python3.9/site-packages/patsy/highlevel.py:164\u001b[0m, in \u001b[0;36m_do_highlevel_design\u001b[0;34m(formula_like, data, eval_env, NA_action, return_type)\u001b[0m\n\u001b[1;32m    162\u001b[0m \u001b[39mdef\u001b[39;00m \u001b[39mdata_iter_maker\u001b[39m():\n\u001b[1;32m    163\u001b[0m     \u001b[39mreturn\u001b[39;00m \u001b[39miter\u001b[39m([data])\n\u001b[0;32m--> 164\u001b[0m design_infos \u001b[39m=\u001b[39m _try_incr_builders(formula_like, data_iter_maker, eval_env,\n\u001b[1;32m    165\u001b[0m                                   NA_action)\n\u001b[1;32m    166\u001b[0m \u001b[39mif\u001b[39;00m design_infos \u001b[39mis\u001b[39;00m \u001b[39mnot\u001b[39;00m \u001b[39mNone\u001b[39;00m:\n\u001b[1;32m    167\u001b[0m     \u001b[39mreturn\u001b[39;00m build_design_matrices(design_infos, data,\n\u001b[1;32m    168\u001b[0m                                  NA_action\u001b[39m=\u001b[39mNA_action,\n\u001b[1;32m    169\u001b[0m                                  return_type\u001b[39m=\u001b[39mreturn_type)\n",
      "File \u001b[0;32m~/opt/anaconda3/lib/python3.9/site-packages/patsy/highlevel.py:66\u001b[0m, in \u001b[0;36m_try_incr_builders\u001b[0;34m(formula_like, data_iter_maker, eval_env, NA_action)\u001b[0m\n\u001b[1;32m     64\u001b[0m \u001b[39mif\u001b[39;00m \u001b[39misinstance\u001b[39m(formula_like, ModelDesc):\n\u001b[1;32m     65\u001b[0m     \u001b[39massert\u001b[39;00m \u001b[39misinstance\u001b[39m(eval_env, EvalEnvironment)\n\u001b[0;32m---> 66\u001b[0m     \u001b[39mreturn\u001b[39;00m design_matrix_builders([formula_like\u001b[39m.\u001b[39;49mlhs_termlist,\n\u001b[1;32m     67\u001b[0m                                    formula_like\u001b[39m.\u001b[39;49mrhs_termlist],\n\u001b[1;32m     68\u001b[0m                                   data_iter_maker,\n\u001b[1;32m     69\u001b[0m                                   eval_env,\n\u001b[1;32m     70\u001b[0m                                   NA_action)\n\u001b[1;32m     71\u001b[0m \u001b[39melse\u001b[39;00m:\n\u001b[1;32m     72\u001b[0m     \u001b[39mreturn\u001b[39;00m \u001b[39mNone\u001b[39;00m\n",
      "File \u001b[0;32m~/opt/anaconda3/lib/python3.9/site-packages/patsy/build.py:693\u001b[0m, in \u001b[0;36mdesign_matrix_builders\u001b[0;34m(termlists, data_iter_maker, eval_env, NA_action)\u001b[0m\n\u001b[1;32m    689\u001b[0m factor_states \u001b[39m=\u001b[39m _factors_memorize(all_factors, data_iter_maker, eval_env)\n\u001b[1;32m    690\u001b[0m \u001b[39m# Now all the factors have working eval methods, so we can evaluate them\u001b[39;00m\n\u001b[1;32m    691\u001b[0m \u001b[39m# on some data to find out what type of data they return.\u001b[39;00m\n\u001b[1;32m    692\u001b[0m (num_column_counts,\n\u001b[0;32m--> 693\u001b[0m  cat_levels_contrasts) \u001b[39m=\u001b[39m _examine_factor_types(all_factors,\n\u001b[1;32m    694\u001b[0m                                                factor_states,\n\u001b[1;32m    695\u001b[0m                                                data_iter_maker,\n\u001b[1;32m    696\u001b[0m                                                NA_action)\n\u001b[1;32m    697\u001b[0m \u001b[39m# Now we need the factor infos, which encapsulate the knowledge of\u001b[39;00m\n\u001b[1;32m    698\u001b[0m \u001b[39m# how to turn any given factor into a chunk of data:\u001b[39;00m\n\u001b[1;32m    699\u001b[0m factor_infos \u001b[39m=\u001b[39m {}\n",
      "File \u001b[0;32m~/opt/anaconda3/lib/python3.9/site-packages/patsy/build.py:443\u001b[0m, in \u001b[0;36m_examine_factor_types\u001b[0;34m(factors, factor_states, data_iter_maker, NA_action)\u001b[0m\n\u001b[1;32m    441\u001b[0m \u001b[39mfor\u001b[39;00m data \u001b[39min\u001b[39;00m data_iter_maker():\n\u001b[1;32m    442\u001b[0m     \u001b[39mfor\u001b[39;00m factor \u001b[39min\u001b[39;00m \u001b[39mlist\u001b[39m(examine_needed):\n\u001b[0;32m--> 443\u001b[0m         value \u001b[39m=\u001b[39m factor\u001b[39m.\u001b[39;49meval(factor_states[factor], data)\n\u001b[1;32m    444\u001b[0m         \u001b[39mif\u001b[39;00m factor \u001b[39min\u001b[39;00m cat_sniffers \u001b[39mor\u001b[39;00m guess_categorical(value):\n\u001b[1;32m    445\u001b[0m             \u001b[39mif\u001b[39;00m factor \u001b[39mnot\u001b[39;00m \u001b[39min\u001b[39;00m cat_sniffers:\n",
      "File \u001b[0;32m~/opt/anaconda3/lib/python3.9/site-packages/patsy/eval.py:564\u001b[0m, in \u001b[0;36mEvalFactor.eval\u001b[0;34m(self, memorize_state, data)\u001b[0m\n\u001b[1;32m    563\u001b[0m \u001b[39mdef\u001b[39;00m \u001b[39meval\u001b[39m(\u001b[39mself\u001b[39m, memorize_state, data):\n\u001b[0;32m--> 564\u001b[0m     \u001b[39mreturn\u001b[39;00m \u001b[39mself\u001b[39;49m\u001b[39m.\u001b[39;49m_eval(memorize_state[\u001b[39m\"\u001b[39;49m\u001b[39meval_code\u001b[39;49m\u001b[39m\"\u001b[39;49m],\n\u001b[1;32m    565\u001b[0m                       memorize_state,\n\u001b[1;32m    566\u001b[0m                       data)\n",
      "File \u001b[0;32m~/opt/anaconda3/lib/python3.9/site-packages/patsy/eval.py:547\u001b[0m, in \u001b[0;36mEvalFactor._eval\u001b[0;34m(self, code, memorize_state, data)\u001b[0m\n\u001b[1;32m    545\u001b[0m \u001b[39mdef\u001b[39;00m \u001b[39m_eval\u001b[39m(\u001b[39mself\u001b[39m, code, memorize_state, data):\n\u001b[1;32m    546\u001b[0m     inner_namespace \u001b[39m=\u001b[39m VarLookupDict([data, memorize_state[\u001b[39m\"\u001b[39m\u001b[39mtransforms\u001b[39m\u001b[39m\"\u001b[39m]])\n\u001b[0;32m--> 547\u001b[0m     \u001b[39mreturn\u001b[39;00m call_and_wrap_exc(\u001b[39m\"\u001b[39;49m\u001b[39mError evaluating factor\u001b[39;49m\u001b[39m\"\u001b[39;49m,\n\u001b[1;32m    548\u001b[0m                              \u001b[39mself\u001b[39;49m,\n\u001b[1;32m    549\u001b[0m                              memorize_state[\u001b[39m\"\u001b[39;49m\u001b[39meval_env\u001b[39;49m\u001b[39m\"\u001b[39;49m]\u001b[39m.\u001b[39;49meval,\n\u001b[1;32m    550\u001b[0m                              code,\n\u001b[1;32m    551\u001b[0m                              inner_namespace\u001b[39m=\u001b[39;49minner_namespace)\n",
      "File \u001b[0;32m~/opt/anaconda3/lib/python3.9/site-packages/patsy/compat.py:43\u001b[0m, in \u001b[0;36mcall_and_wrap_exc\u001b[0;34m(msg, origin, f, *args, **kwargs)\u001b[0m\n\u001b[1;32m     39\u001b[0m     new_exc \u001b[39m=\u001b[39m PatsyError(\u001b[39m\"\u001b[39m\u001b[39m%s\u001b[39;00m\u001b[39m: \u001b[39m\u001b[39m%s\u001b[39;00m\u001b[39m: \u001b[39m\u001b[39m%s\u001b[39;00m\u001b[39m\"\u001b[39m\n\u001b[1;32m     40\u001b[0m                          \u001b[39m%\u001b[39m (msg, e\u001b[39m.\u001b[39m\u001b[39m__class__\u001b[39m\u001b[39m.\u001b[39m\u001b[39m__name__\u001b[39m, e),\n\u001b[1;32m     41\u001b[0m                          origin)\n\u001b[1;32m     42\u001b[0m     \u001b[39m# Use 'exec' to hide this syntax from the Python 2 parser:\u001b[39;00m\n\u001b[0;32m---> 43\u001b[0m     exec(\u001b[39m\"\u001b[39;49m\u001b[39mraise new_exc from e\u001b[39;49m\u001b[39m\"\u001b[39;49m)\n\u001b[1;32m     44\u001b[0m \u001b[39melse\u001b[39;00m:\n\u001b[1;32m     45\u001b[0m     \u001b[39m# In python 2, we just let the original exception escape -- better\u001b[39;00m\n\u001b[1;32m     46\u001b[0m     \u001b[39m# than destroying the traceback. But if it's a PatsyError, we can\u001b[39;00m\n\u001b[1;32m     47\u001b[0m     \u001b[39m# at least set the origin properly.\u001b[39;00m\n\u001b[1;32m     48\u001b[0m     \u001b[39mif\u001b[39;00m \u001b[39misinstance\u001b[39m(e, PatsyError):\n",
      "File \u001b[0;32m<string>:1\u001b[0m, in \u001b[0;36m<module>\u001b[0;34m\u001b[0m\n",
      "\u001b[0;31mPatsyError\u001b[0m: Error evaluating factor: NameError: name 'T' is not defined\n    readmitted ~ age5 + age15 + age25 + age35 + age45 + age55 + age65 + age75 + age85diag_1[T.digestive] + diag_1[T.pregnecy] + diag_1[T.respiratory] + diag_1[T.neoplasms] + diag_2[T.neoplasms] + discharge_disposition_id7 + discharge_disposition_id7 + admission_type_id1 + admission_type_id3\n                                                                                                                                                        ^^^^^^^^^^^^^^^^^^^"
     ]
    }
   ],
   "source": [
    "single_model = sm.logit(formula = form, data = train1_dummy).fit() \n",
    "single_model.summary()"
   ]
  },
  {
   "cell_type": "code",
   "execution_count": null,
   "metadata": {},
   "outputs": [
    {
     "name": "stdout",
     "output_type": "stream",
     "text": [
      "Classification accuracy = 50.7%\n",
      "Precision = 50.4%\n",
      "TPR or Recall = 81.8%\n",
      "FNR = 18.2%\n",
      "FPR = 80.5%\n",
      "ROC-AUC = 50.8%\n"
     ]
    },
    {
     "data": {
      "image/png": "[encoded data removed]",
      "text/plain": [
       "<Figure size 432x288 with 2 Axes>"
      ]
     },
     "metadata": {},
     "output_type": "display_data"
    }
   ],
   "source": [
    "confusion_matrix_data(train1_dummy, train1_dummy.readmitted, admission_type_model, cutoff=0.5)"
   ]
  },
  {
   "cell_type": "code",
   "execution_count": null,
   "metadata": {},
   "outputs": [
    {
     "name": "stdout",
     "output_type": "stream",
     "text": [
      "Classification accuracy = 25.5%\n",
      "Precision = 9.2%\n",
      "TPR or Recall = 80.5%\n",
      "FNR = 19.5%\n",
      "FPR = 80.0%\n",
      "ROC-AUC = 50.0%\n"
     ]
    },
    {
     "data": {
      "image/png": "[encoded data removed]",
      "text/plain": [
       "<Figure size 432x288 with 2 Axes>"
      ]
     },
     "metadata": {},
     "output_type": "display_data"
    }
   ],
   "source": [
    "confusion_matrix_data(test_dummy, test_dummy.readmitted, admission_type_model, cutoff=0.5)"
   ]
  },
  {
   "cell_type": "code",
   "execution_count": null,
   "metadata": {},
   "outputs": [],
   "source": []
  }
 ],
 "metadata": {
  "kernelspec": {
   "display_name": "base",
   "language": "python",
   "name": "python3"
  },
  "language_info": {
   "codemirror_mode": {
    "name": "ipython",
    "version": 3
   },
   "file_extension": ".py",
   "mimetype": "text/x-python",
   "name": "python",
   "nbconvert_exporter": "python",
   "pygments_lexer": "ipython3",
   "version": "3.9.12"
  },
  "orig_nbformat": 4,
  "vscode": {
   "interpreter": {
    "hash": "44200ac29b99d68672da01cb17c5cd5c87da5f7d45953e51b866c7f246bda33e"
   }
  }
 },
 "nbformat": 4,
 "nbformat_minor": 2
}
