{
 "cells": [
  {
   "cell_type": "code",
   "execution_count": 462,
   "metadata": {},
   "outputs": [],
   "source": [
    "import pandas as pd\n",
    "import numpy as np\n",
    "import seaborn as sns\n",
    "import matplotlib.pyplot as plt\n",
    "import statsmodels.formula.api as sm\n",
    "import random"
   ]
  },
  {
   "cell_type": "code",
   "execution_count": 250,
   "metadata": {},
   "outputs": [],
   "source": [
    "# pip install imblearn\n",
    "# conda install -c conda-forge imbalanced-learn\n",
    "from imblearn.over_sampling import SMOTENC"
   ]
  },
  {
   "cell_type": "code",
   "execution_count": 3,
   "metadata": {},
   "outputs": [],
   "source": [
    "# Importing the test and train data (20/80 split), and the full dataset\n",
    "train = pd.read_csv('train.csv')\n",
    "test = pd.read_csv('test.csv')\n",
    "full_data = pd.read_csv('cleaned_data/diabetes_cleaned.csv')\n",
    "\n",
    "# Removing the first column\n",
    "train = train.iloc[:, 1:]\n",
    "test = test.iloc[:, 1:]\n",
    "full_data = full_data.iloc[:, 1:]"
   ]
  },
  {
   "attachments": {},
   "cell_type": "markdown",
   "metadata": {},
   "source": [
    "#### SMOTENC: Used to balance the distribution of responses in readmitted"
   ]
  },
  {
   "cell_type": "code",
   "execution_count": 272,
   "metadata": {},
   "outputs": [
    {
     "data": {
      "text/plain": [
       "0    52232\n",
       "1     4982\n",
       "Name: readmitted, dtype: int64"
      ]
     },
     "execution_count": 272,
     "metadata": {},
     "output_type": "execute_result"
    }
   ],
   "source": [
    "train.readmitted.value_counts()"
   ]
  },
  {
   "cell_type": "code",
   "execution_count": 429,
   "metadata": {},
   "outputs": [],
   "source": [
    "X_train = train.drop(columns=\"readmitted\")\n",
    "y_train = train.loc[:, \"readmitted\"]\n",
    "\n",
    "X_train_types = X_train.dtypes.to_frame().rename(columns={0: \"type\"})\n",
    "# get the name of all variables that are objects\n",
    "object_vars = list(X_train_types.loc[X_train_types.type == \"object\", :].index)\n",
    "object_vars = object_vars + [\"age\", \"admission_type_id\", \"discharge_disposition_id\", \"admission_source_id\", \"time_in_hospital\", \"num_of_changes\"]\n",
    "\n",
    "# get the indices of all \n",
    "object_var_indices = []\n",
    "for i in range(0, len(X_train.columns)):\n",
    "    if X_train.columns[i] in object_vars:\n",
    "        object_var_indices.append(i)"
   ]
  },
  {
   "cell_type": "code",
   "execution_count": 430,
   "metadata": {},
   "outputs": [
    {
     "data": {
      "text/plain": [
       "['race',\n",
       " 'gender',\n",
       " 'payer_code',\n",
       " 'diag_1',\n",
       " 'diag_2',\n",
       " 'diag_3',\n",
       " 'max_glu_serum',\n",
       " 'A1Cresult',\n",
       " 'metformin',\n",
       " 'repaglinide',\n",
       " 'nateglinide',\n",
       " 'chlorpropamide',\n",
       " 'glimepiride',\n",
       " 'acetohexamide',\n",
       " 'glipizide',\n",
       " 'glyburide',\n",
       " 'tolbutamide',\n",
       " 'pioglitazone',\n",
       " 'rosiglitazone',\n",
       " 'acarbose',\n",
       " 'miglitol',\n",
       " 'troglitazone',\n",
       " 'tolazamide',\n",
       " 'examide',\n",
       " 'citoglipton',\n",
       " 'insulin',\n",
       " 'glyburide-metformin',\n",
       " 'glipizide-metformin',\n",
       " 'glimepiride-pioglitazone',\n",
       " 'metformin-rosiglitazone',\n",
       " 'metformin-pioglitazone',\n",
       " 'change',\n",
       " 'diabetesMed',\n",
       " 'age',\n",
       " 'admission_type_id',\n",
       " 'discharge_disposition_id',\n",
       " 'admission_source_id',\n",
       " 'time_in_hospital',\n",
       " 'num_of_changes']"
      ]
     },
     "execution_count": 430,
     "metadata": {},
     "output_type": "execute_result"
    }
   ],
   "source": [
    "object_vars"
   ]
  },
  {
   "cell_type": "code",
   "execution_count": 431,
   "metadata": {},
   "outputs": [],
   "source": [
    "smote_nc = SMOTENC(categorical_features=object_var_indices, random_state=0)\n",
    "X_resampled, y_resampled = smote_nc.fit_resample(X_train, y_train)"
   ]
  },
  {
   "cell_type": "code",
   "execution_count": 432,
   "metadata": {},
   "outputs": [
    {
     "data": {
      "text/html": [
       "<div>\n",
       "<style scoped>\n",
       "    .dataframe tbody tr th:only-of-type {\n",
       "        vertical-align: middle;\n",
       "    }\n",
       "\n",
       "    .dataframe tbody tr th {\n",
       "        vertical-align: top;\n",
       "    }\n",
       "\n",
       "    .dataframe thead th {\n",
       "        text-align: right;\n",
       "    }\n",
       "</style>\n",
       "<table border=\"1\" class=\"dataframe\">\n",
       "  <thead>\n",
       "    <tr style=\"text-align: right;\">\n",
       "      <th></th>\n",
       "      <th>encounter_id</th>\n",
       "      <th>patient_nbr</th>\n",
       "      <th>race</th>\n",
       "      <th>gender</th>\n",
       "      <th>age</th>\n",
       "      <th>admission_type_id</th>\n",
       "      <th>discharge_disposition_id</th>\n",
       "      <th>admission_source_id</th>\n",
       "      <th>time_in_hospital</th>\n",
       "      <th>payer_code</th>\n",
       "      <th>...</th>\n",
       "      <th>citoglipton</th>\n",
       "      <th>insulin</th>\n",
       "      <th>glyburide-metformin</th>\n",
       "      <th>glipizide-metformin</th>\n",
       "      <th>glimepiride-pioglitazone</th>\n",
       "      <th>metformin-rosiglitazone</th>\n",
       "      <th>metformin-pioglitazone</th>\n",
       "      <th>change</th>\n",
       "      <th>diabetesMed</th>\n",
       "      <th>num_of_changes</th>\n",
       "    </tr>\n",
       "  </thead>\n",
       "  <tbody>\n",
       "    <tr>\n",
       "      <th>104459</th>\n",
       "      <td>59711012</td>\n",
       "      <td>720382</td>\n",
       "      <td>Caucasian</td>\n",
       "      <td>Male</td>\n",
       "      <td>75</td>\n",
       "      <td>1</td>\n",
       "      <td>1</td>\n",
       "      <td>7</td>\n",
       "      <td>3</td>\n",
       "      <td>?</td>\n",
       "      <td>...</td>\n",
       "      <td>No</td>\n",
       "      <td>Steady</td>\n",
       "      <td>No</td>\n",
       "      <td>No</td>\n",
       "      <td>No</td>\n",
       "      <td>No</td>\n",
       "      <td>No</td>\n",
       "      <td>Ch</td>\n",
       "      <td>Yes</td>\n",
       "      <td>1</td>\n",
       "    </tr>\n",
       "    <tr>\n",
       "      <th>104460</th>\n",
       "      <td>143659228</td>\n",
       "      <td>97051808</td>\n",
       "      <td>Caucasian</td>\n",
       "      <td>Male</td>\n",
       "      <td>75</td>\n",
       "      <td>1</td>\n",
       "      <td>1</td>\n",
       "      <td>7</td>\n",
       "      <td>8</td>\n",
       "      <td>?</td>\n",
       "      <td>...</td>\n",
       "      <td>No</td>\n",
       "      <td>Steady</td>\n",
       "      <td>No</td>\n",
       "      <td>No</td>\n",
       "      <td>No</td>\n",
       "      <td>No</td>\n",
       "      <td>No</td>\n",
       "      <td>No</td>\n",
       "      <td>Yes</td>\n",
       "      <td>0</td>\n",
       "    </tr>\n",
       "    <tr>\n",
       "      <th>104461</th>\n",
       "      <td>75845268</td>\n",
       "      <td>34501851</td>\n",
       "      <td>Caucasian</td>\n",
       "      <td>Male</td>\n",
       "      <td>85</td>\n",
       "      <td>1</td>\n",
       "      <td>1</td>\n",
       "      <td>7</td>\n",
       "      <td>7</td>\n",
       "      <td>?</td>\n",
       "      <td>...</td>\n",
       "      <td>No</td>\n",
       "      <td>Steady</td>\n",
       "      <td>No</td>\n",
       "      <td>No</td>\n",
       "      <td>No</td>\n",
       "      <td>No</td>\n",
       "      <td>No</td>\n",
       "      <td>No</td>\n",
       "      <td>Yes</td>\n",
       "      <td>0</td>\n",
       "    </tr>\n",
       "    <tr>\n",
       "      <th>104462</th>\n",
       "      <td>117079971</td>\n",
       "      <td>75686609</td>\n",
       "      <td>Caucasian</td>\n",
       "      <td>Female</td>\n",
       "      <td>85</td>\n",
       "      <td>1</td>\n",
       "      <td>1</td>\n",
       "      <td>7</td>\n",
       "      <td>6</td>\n",
       "      <td>MC</td>\n",
       "      <td>...</td>\n",
       "      <td>No</td>\n",
       "      <td>No</td>\n",
       "      <td>No</td>\n",
       "      <td>No</td>\n",
       "      <td>No</td>\n",
       "      <td>No</td>\n",
       "      <td>No</td>\n",
       "      <td>Ch</td>\n",
       "      <td>Yes</td>\n",
       "      <td>0</td>\n",
       "    </tr>\n",
       "    <tr>\n",
       "      <th>104463</th>\n",
       "      <td>66346819</td>\n",
       "      <td>23765475</td>\n",
       "      <td>Caucasian</td>\n",
       "      <td>Male</td>\n",
       "      <td>75</td>\n",
       "      <td>5</td>\n",
       "      <td>1</td>\n",
       "      <td>9</td>\n",
       "      <td>4</td>\n",
       "      <td>?</td>\n",
       "      <td>...</td>\n",
       "      <td>No</td>\n",
       "      <td>Steady</td>\n",
       "      <td>No</td>\n",
       "      <td>No</td>\n",
       "      <td>No</td>\n",
       "      <td>No</td>\n",
       "      <td>No</td>\n",
       "      <td>No</td>\n",
       "      <td>Yes</td>\n",
       "      <td>0</td>\n",
       "    </tr>\n",
       "  </tbody>\n",
       "</table>\n",
       "<p>5 rows × 48 columns</p>\n",
       "</div>"
      ],
      "text/plain": [
       "        encounter_id  patient_nbr       race  gender  age  admission_type_id  \\\n",
       "104459      59711012       720382  Caucasian    Male   75                  1   \n",
       "104460     143659228     97051808  Caucasian    Male   75                  1   \n",
       "104461      75845268     34501851  Caucasian    Male   85                  1   \n",
       "104462     117079971     75686609  Caucasian  Female   85                  1   \n",
       "104463      66346819     23765475  Caucasian    Male   75                  5   \n",
       "\n",
       "        discharge_disposition_id  admission_source_id  time_in_hospital  \\\n",
       "104459                         1                    7                 3   \n",
       "104460                         1                    7                 8   \n",
       "104461                         1                    7                 7   \n",
       "104462                         1                    7                 6   \n",
       "104463                         1                    9                 4   \n",
       "\n",
       "       payer_code  ...  citoglipton  insulin  glyburide-metformin  \\\n",
       "104459          ?  ...           No   Steady                   No   \n",
       "104460          ?  ...           No   Steady                   No   \n",
       "104461          ?  ...           No   Steady                   No   \n",
       "104462         MC  ...           No       No                   No   \n",
       "104463          ?  ...           No   Steady                   No   \n",
       "\n",
       "        glipizide-metformin  glimepiride-pioglitazone  \\\n",
       "104459                   No                        No   \n",
       "104460                   No                        No   \n",
       "104461                   No                        No   \n",
       "104462                   No                        No   \n",
       "104463                   No                        No   \n",
       "\n",
       "        metformin-rosiglitazone metformin-pioglitazone change diabetesMed  \\\n",
       "104459                       No                     No     Ch         Yes   \n",
       "104460                       No                     No     No         Yes   \n",
       "104461                       No                     No     No         Yes   \n",
       "104462                       No                     No     Ch         Yes   \n",
       "104463                       No                     No     No         Yes   \n",
       "\n",
       "        num_of_changes  \n",
       "104459               1  \n",
       "104460               0  \n",
       "104461               0  \n",
       "104462               0  \n",
       "104463               0  \n",
       "\n",
       "[5 rows x 48 columns]"
      ]
     },
     "execution_count": 432,
     "metadata": {},
     "output_type": "execute_result"
    }
   ],
   "source": [
    "X_resampled.tail()"
   ]
  },
  {
   "cell_type": "code",
   "execution_count": 433,
   "metadata": {},
   "outputs": [
    {
     "data": {
      "text/plain": [
       "Index(['encounter_id', 'patient_nbr', 'race', 'gender', 'age',\n",
       "       'admission_type_id', 'discharge_disposition_id', 'admission_source_id',\n",
       "       'time_in_hospital', 'payer_code', 'num_lab_procedures',\n",
       "       'num_procedures', 'num_medications', 'number_outpatient',\n",
       "       'number_emergency', 'number_inpatient', 'diag_1', 'diag_2', 'diag_3',\n",
       "       'number_diagnoses', 'max_glu_serum', 'A1Cresult', 'metformin',\n",
       "       'repaglinide', 'nateglinide', 'chlorpropamide', 'glimepiride',\n",
       "       'acetohexamide', 'glipizide', 'glyburide', 'tolbutamide',\n",
       "       'pioglitazone', 'rosiglitazone', 'acarbose', 'miglitol', 'troglitazone',\n",
       "       'tolazamide', 'examide', 'citoglipton', 'insulin',\n",
       "       'glyburide-metformin', 'glipizide-metformin',\n",
       "       'glimepiride-pioglitazone', 'metformin-rosiglitazone',\n",
       "       'metformin-pioglitazone', 'change', 'diabetesMed', 'num_of_changes'],\n",
       "      dtype='object')"
      ]
     },
     "execution_count": 433,
     "metadata": {},
     "output_type": "execute_result"
    }
   ],
   "source": [
    "X_resampled.columns"
   ]
  },
  {
   "cell_type": "code",
   "execution_count": 434,
   "metadata": {},
   "outputs": [],
   "source": [
    "# add the readmitted data back in\n",
    "X_resampled.loc[:, \"readmitted\"] = y_resampled\n",
    "train1 = X_resampled.copy()"
   ]
  },
  {
   "cell_type": "code",
   "execution_count": 435,
   "metadata": {},
   "outputs": [
    {
     "data": {
      "text/plain": [
       "0    52232\n",
       "1    52232\n",
       "Name: readmitted, dtype: int64"
      ]
     },
     "execution_count": 435,
     "metadata": {},
     "output_type": "execute_result"
    }
   ],
   "source": [
    "train1.readmitted.value_counts()"
   ]
  },
  {
   "attachments": {},
   "cell_type": "markdown",
   "metadata": {},
   "source": [
    "#### Summary of KEH LTW Modeling\n",
    "\n",
    "Variables that have a relationship with `readmitted`, from full dataset EDA:\n",
    "- `age`: as age increases, the proportion of individuals readmitted to the hospital increases. The number of observations overall increases. This trend persists until age 75, after which the number of hospital visits drop and the proportion of readmitted : not readmitted evens out. This variable is already binned by nature of our original dataset.\n",
    "    - -> because different age ranges have different distributions of readmitted : not readmitted, look into making each age bin its own predictor, if this isn't happening already\n",
    "- `time_in_hospital`: as time in hospital increases, the number of observations increase (up until 3 days), and then start to decrease. The ratio of readmitted : not readmitted gradually increases as `time_in_hospital` increases.\n",
    "    - -> the different distribution of readmittied: not readmitted at for each value of `time_in_hospital`. Similarly, look into making each day bin its own predictor, if it isn't already\n",
    "- `num_of_changes`: there doesn't seem to be much difference \n",
    "- `number_inpatient`: large difference!\n",
    "\n",
    "Interactions\n",
    "- as `age` increases, the `time_in_hospital` increases\n",
    "- as `time_in_hospital` increases, the `um_of_changes` also increases\n",
    "\n",
    "Models\n",
    "1. `readmitted ~ time_in_hospital*age + num_of_changes + number_inpatient`\n",
    "2. `readmitted ~ num_of_changes*time_in_hospital + number_inpatient + age`\n",
    "3. `readmitted ~ num_of_changes*time_in_hospital + age*time_in_hospital + number_inpatient`"
   ]
  },
  {
   "attachments": {},
   "cell_type": "markdown",
   "metadata": {},
   "source": [
    "Thoughts\n",
    "- More variable selection\n",
    "    - diag_1, diag_2, diag_3\n",
    "    - num_medications\n",
    "    - num_lab_procedures\n",
    "- Make the bins in `age` and `time_in_hospital` their own predictors\n",
    "- Evaluate performance of the existing KEH-LTW models with k-fold cross-validation\n",
    "- Look to see if there are other interactions or transformations"
   ]
  },
  {
   "cell_type": "code",
   "execution_count": 436,
   "metadata": {},
   "outputs": [
    {
     "data": {
      "text/plain": [
       "Text(0.5, 0, 'age')"
      ]
     },
     "execution_count": 436,
     "metadata": {},
     "output_type": "execute_result"
    },
    {
     "data": {
      "image/png": "[encoded data removed]",
      "text/plain": [
       "<Figure size 432x288 with 1 Axes>"
      ]
     },
     "metadata": {
      "needs_background": "light"
     },
     "output_type": "display_data"
    }
   ],
   "source": [
    "#Re-creating the plot of diabetes_percent vs age created earlier, just to check if the function binned age correctly. Yes, it did.\n",
    "age_data = train1.groupby('age')['readmitted'].agg([('readmitted_percent','mean'),('nobs','count')]).reset_index(drop=False)\n",
    "sns.lineplot(x = age_data.index, y= age_data['readmitted_percent'])\n",
    "plt.xlabel('age')"
   ]
  },
  {
   "cell_type": "code",
   "execution_count": 437,
   "metadata": {},
   "outputs": [
    {
     "data": {
      "text/plain": [
       "Text(0.5, 0, 'time_in_hospital')"
      ]
     },
     "execution_count": 437,
     "metadata": {},
     "output_type": "execute_result"
    },
    {
     "data": {
      "image/png": "[encoded data removed]",
      "text/plain": [
       "<Figure size 432x288 with 1 Axes>"
      ]
     },
     "metadata": {
      "needs_background": "light"
     },
     "output_type": "display_data"
    }
   ],
   "source": [
    "#Re-creating the plot of diabetes_percent vs age created earlier, just to check if the function binned age correctly. Yes, it did.\n",
    "time_data = train1.groupby('time_in_hospital')['readmitted'].agg([('readmitted_percent','mean'),('nobs','count')]).reset_index(drop=False)\n",
    "sns.lineplot(x = time_data.index, y= time_data['readmitted_percent'])\n",
    "plt.xlabel('time_in_hospital')"
   ]
  },
  {
   "cell_type": "code",
   "execution_count": null,
   "metadata": {},
   "outputs": [],
   "source": [
    "# see how well model is doing by plotting predictions over this plot"
   ]
  },
  {
   "attachments": {},
   "cell_type": "markdown",
   "metadata": {},
   "source": [
    "# create these plots for the other binned variables"
   ]
  },
  {
   "attachments": {},
   "cell_type": "markdown",
   "metadata": {},
   "source": [
    "#### KEH_LTW function for calculating confusion matrix and other evaluation statistics"
   ]
  },
  {
   "cell_type": "code",
   "execution_count": 8,
   "metadata": {},
   "outputs": [],
   "source": [
    "from sklearn.metrics import roc_curve, auc\n",
    "\n",
    "#Function to compute confusion matrix and prediction accuracy on test/train data\n",
    "def confusion_matrix_data(data,actual_values,model,cutoff=0.5):\n",
    "#Predict the values using the Logit model\n",
    "    pred_values = model.predict(data)\n",
    "# Specify the bins\n",
    "    bins=np.array([0,cutoff,1])\n",
    "#Confusion matrix\n",
    "    cm = np.histogram2d(actual_values, pred_values, bins=bins)[0]\n",
    "    cm_df = pd.DataFrame(cm)\n",
    "    cm_df.columns = ['Predicted 0','Predicted 1']\n",
    "    cm_df = cm_df.rename(index={0: 'Actual 0',1:'Actual 1'})\n",
    "# Calculate the accuracy\n",
    "    accuracy = (cm[0,0]+cm[1,1])/cm.sum()\n",
    "    fnr = (cm[1,0])/(cm[1,0]+cm[1,1])\n",
    "    precision = (cm[1,1])/(cm[0,1]+cm[1,1])\n",
    "    fpr = (cm[0,1])/(cm[0,0]+cm[0,1])\n",
    "    tpr = (cm[1,1])/(cm[1,0]+cm[1,1])\n",
    "    fpr_roc, tpr_roc, auc_thresholds = roc_curve(actual_values, pred_values)\n",
    "    auc_value = (auc(fpr_roc, tpr_roc))# AUC of ROC\n",
    "    sns.heatmap(cm_df, annot=True, cmap='Blues', fmt='g')\n",
    "    plt.ylabel(\"Actual Values\")\n",
    "    plt.xlabel(\"Predicted Values\")\n",
    "    print(\"Classification accuracy = {:.1%}\".format(accuracy))\n",
    "    print(\"Precision = {:.1%}\".format(precision))\n",
    "    print(\"TPR or Recall = {:.1%}\".format(tpr))\n",
    "    print(\"FNR = {:.1%}\".format(fnr))\n",
    "    print(\"FPR = {:.1%}\".format(fpr))\n",
    "    print(\"ROC-AUC = {:.1%}\".format(auc_value))"
   ]
  },
  {
   "attachments": {},
   "cell_type": "markdown",
   "metadata": {},
   "source": [
    "#### Creating a dataframe containing dummy variables for all binned variables"
   ]
  },
  {
   "cell_type": "code",
   "execution_count": 438,
   "metadata": {},
   "outputs": [
    {
     "data": {
      "text/plain": [
       "Index(['encounter_id', 'patient_nbr', 'race', 'gender', 'age',\n",
       "       'admission_type_id', 'discharge_disposition_id', 'admission_source_id',\n",
       "       'time_in_hospital', 'payer_code', 'num_lab_procedures',\n",
       "       'num_procedures', 'num_medications', 'number_outpatient',\n",
       "       'number_emergency', 'number_inpatient', 'diag_1', 'diag_2', 'diag_3',\n",
       "       'number_diagnoses', 'max_glu_serum', 'A1Cresult', 'metformin',\n",
       "       'repaglinide', 'nateglinide', 'chlorpropamide', 'glimepiride',\n",
       "       'acetohexamide', 'glipizide', 'glyburide', 'tolbutamide',\n",
       "       'pioglitazone', 'rosiglitazone', 'acarbose', 'miglitol', 'troglitazone',\n",
       "       'tolazamide', 'examide', 'citoglipton', 'insulin',\n",
       "       'glyburide-metformin', 'glipizide-metformin',\n",
       "       'glimepiride-pioglitazone', 'metformin-rosiglitazone',\n",
       "       'metformin-pioglitazone', 'change', 'diabetesMed', 'num_of_changes',\n",
       "       'readmitted', 'age5', 'age15', 'age25', 'age35', 'age45', 'age55',\n",
       "       'age65', 'age75', 'age85', 'age95', 'time_in_hospital1',\n",
       "       'time_in_hospital2', 'time_in_hospital3', 'time_in_hospital4',\n",
       "       'time_in_hospital5', 'time_in_hospital6', 'time_in_hospital7',\n",
       "       'time_in_hospital8', 'time_in_hospital9', 'time_in_hospital10',\n",
       "       'time_in_hospital11', 'time_in_hospital12', 'time_in_hospital13',\n",
       "       'time_in_hospital14', 'admission_type_id1', 'admission_type_id3',\n",
       "       'admission_type_id4', 'admission_type_id5', 'discharge_disposition_id1',\n",
       "       'discharge_disposition_id2', 'discharge_disposition_id7',\n",
       "       'discharge_disposition_id10', 'discharge_disposition_id11',\n",
       "       'discharge_disposition_id18', 'discharge_disposition_id27',\n",
       "       'discharge_disposition_id28', 'admission_source_id1',\n",
       "       'admission_source_id4', 'admission_source_id7', 'admission_source_id8',\n",
       "       'admission_source_id9', 'admission_source_id11'],\n",
       "      dtype='object')"
      ]
     },
     "execution_count": 438,
     "metadata": {},
     "output_type": "execute_result"
    }
   ],
   "source": [
    "dummy_preds = [\"age\", \"time_in_hospital\", \"admission_type_id\", \"discharge_disposition_id\", \"admission_source_id\"]\n",
    "train1_dummy = train1.copy()\n",
    "test_dummy = test.copy()\n",
    "vars = []\n",
    "\n",
    "for pred in dummy_preds:\n",
    "    dummy_train = pd.get_dummies(train1.loc[:, pred])\n",
    "    dummy_train.columns = [pred + str(x) for x in dummy_train.columns]\n",
    "    train1_dummy = pd.concat([train1_dummy, dummy_train], axis=1)\n",
    "    vars.append(list(dummy_train.columns))\n",
    "    \n",
    "    dummy_test = pd.get_dummies(test.loc[:, pred])\n",
    "    dummy_test.columns = [pred + str(x) for x in dummy_test.columns]\n",
    "    test_dummy = pd.concat([test_dummy, dummy_test], axis=1)\n",
    "    \n",
    "\n",
    "train1_dummy.columns"
   ]
  },
  {
   "cell_type": "code",
   "execution_count": 439,
   "metadata": {},
   "outputs": [
    {
     "data": {
      "text/plain": [
       "admission_type_id3           -0.150623\n",
       "admission_type_id            -0.125897\n",
       "num_of_changes               -0.117955\n",
       "num_procedures               -0.112715\n",
       "discharge_disposition_id11   -0.090895\n",
       "encounter_id                 -0.088490\n",
       "admission_source_id1         -0.087797\n",
       "age45                        -0.085362\n",
       "age55                        -0.081969\n",
       "age35                        -0.078263\n",
       "age25                        -0.061356\n",
       "admission_source_id4         -0.060654\n",
       "time_in_hospital1            -0.059654\n",
       "age95                        -0.054091\n",
       "admission_type_id5           -0.048503\n",
       "age15                        -0.046048\n",
       "discharge_disposition_id1    -0.045484\n",
       "discharge_disposition_id7    -0.043879\n",
       "number_outpatient            -0.043218\n",
       "age5                         -0.032365\n",
       "number_emergency             -0.031850\n",
       "time_in_hospital14           -0.024814\n",
       "admission_source_id9         -0.024277\n",
       "time_in_hospital13           -0.021423\n",
       "time_in_hospital11           -0.020996\n",
       "time_in_hospital2            -0.010555\n",
       "time_in_hospital9            -0.009292\n",
       "time_in_hospital12           -0.009106\n",
       "admission_source_id8         -0.008396\n",
       "discharge_disposition_id10   -0.005868\n",
       "admission_source_id11        -0.005359\n",
       "discharge_disposition_id27   -0.005359\n",
       "admission_type_id4           -0.005053\n",
       "discharge_disposition_id28   -0.003058\n",
       "number_diagnoses              0.001230\n",
       "time_in_hospital10            0.001538\n",
       "patient_nbr                   0.005040\n",
       "discharge_disposition_id      0.005372\n",
       "time_in_hospital5             0.009965\n",
       "time_in_hospital7             0.013308\n",
       "time_in_hospital              0.013498\n",
       "time_in_hospital3             0.014079\n",
       "age65                         0.016737\n",
       "time_in_hospital8             0.020077\n",
       "time_in_hospital4             0.025240\n",
       "discharge_disposition_id18    0.025920\n",
       "time_in_hospital6             0.032369\n",
       "num_medications               0.033171\n",
       "num_lab_procedures            0.041476\n",
       "number_inpatient              0.047832\n",
       "age85                         0.051326\n",
       "discharge_disposition_id2     0.062925\n",
       "admission_source_id           0.094565\n",
       "age75                         0.119695\n",
       "admission_source_id7          0.121496\n",
       "admission_type_id1            0.157021\n",
       "age                           0.158466\n",
       "readmitted                    1.000000\n",
       "dtype: float64"
      ]
     },
     "execution_count": 439,
     "metadata": {},
     "output_type": "execute_result"
    }
   ],
   "source": [
    "train1_dummy.corrwith(train1_dummy.readmitted).sort_values()"
   ]
  },
  {
   "attachments": {},
   "cell_type": "markdown",
   "metadata": {},
   "source": [
    "#### Examining multicollinearity"
   ]
  },
  {
   "cell_type": "code",
   "execution_count": 440,
   "metadata": {},
   "outputs": [
    {
     "data": {
      "text/html": [
       "<div>\n",
       "<style scoped>\n",
       "    .dataframe tbody tr th:only-of-type {\n",
       "        vertical-align: middle;\n",
       "    }\n",
       "\n",
       "    .dataframe tbody tr th {\n",
       "        vertical-align: top;\n",
       "    }\n",
       "\n",
       "    .dataframe thead th {\n",
       "        text-align: right;\n",
       "    }\n",
       "</style>\n",
       "<table border=\"1\" class=\"dataframe\">\n",
       "  <thead>\n",
       "    <tr style=\"text-align: right;\">\n",
       "      <th></th>\n",
       "      <th>time_in_hospital1</th>\n",
       "      <th>time_in_hospital2</th>\n",
       "      <th>time_in_hospital3</th>\n",
       "      <th>time_in_hospital4</th>\n",
       "      <th>time_in_hospital5</th>\n",
       "      <th>time_in_hospital6</th>\n",
       "      <th>time_in_hospital7</th>\n",
       "      <th>time_in_hospital8</th>\n",
       "      <th>time_in_hospital9</th>\n",
       "      <th>time_in_hospital10</th>\n",
       "      <th>time_in_hospital11</th>\n",
       "      <th>time_in_hospital12</th>\n",
       "      <th>time_in_hospital13</th>\n",
       "      <th>time_in_hospital14</th>\n",
       "    </tr>\n",
       "  </thead>\n",
       "  <tbody>\n",
       "    <tr>\n",
       "      <th>time_in_hospital1</th>\n",
       "      <td>1.000000</td>\n",
       "      <td>-0.178539</td>\n",
       "      <td>-0.186667</td>\n",
       "      <td>-0.158862</td>\n",
       "      <td>-0.129426</td>\n",
       "      <td>-0.115657</td>\n",
       "      <td>-0.097258</td>\n",
       "      <td>-0.082759</td>\n",
       "      <td>-0.063382</td>\n",
       "      <td>-0.057305</td>\n",
       "      <td>-0.047872</td>\n",
       "      <td>-0.043370</td>\n",
       "      <td>-0.037282</td>\n",
       "      <td>-0.034121</td>\n",
       "    </tr>\n",
       "    <tr>\n",
       "      <th>time_in_hospital2</th>\n",
       "      <td>-0.178539</td>\n",
       "      <td>1.000000</td>\n",
       "      <td>-0.217015</td>\n",
       "      <td>-0.184688</td>\n",
       "      <td>-0.150468</td>\n",
       "      <td>-0.134459</td>\n",
       "      <td>-0.113069</td>\n",
       "      <td>-0.096213</td>\n",
       "      <td>-0.073686</td>\n",
       "      <td>-0.066621</td>\n",
       "      <td>-0.055655</td>\n",
       "      <td>-0.050421</td>\n",
       "      <td>-0.043343</td>\n",
       "      <td>-0.039668</td>\n",
       "    </tr>\n",
       "    <tr>\n",
       "      <th>time_in_hospital3</th>\n",
       "      <td>-0.186667</td>\n",
       "      <td>-0.217015</td>\n",
       "      <td>1.000000</td>\n",
       "      <td>-0.193097</td>\n",
       "      <td>-0.157319</td>\n",
       "      <td>-0.140581</td>\n",
       "      <td>-0.118217</td>\n",
       "      <td>-0.100594</td>\n",
       "      <td>-0.077041</td>\n",
       "      <td>-0.069654</td>\n",
       "      <td>-0.058189</td>\n",
       "      <td>-0.052716</td>\n",
       "      <td>-0.045316</td>\n",
       "      <td>-0.041474</td>\n",
       "    </tr>\n",
       "    <tr>\n",
       "      <th>time_in_hospital4</th>\n",
       "      <td>-0.158862</td>\n",
       "      <td>-0.184688</td>\n",
       "      <td>-0.193097</td>\n",
       "      <td>1.000000</td>\n",
       "      <td>-0.133885</td>\n",
       "      <td>-0.119640</td>\n",
       "      <td>-0.100608</td>\n",
       "      <td>-0.085609</td>\n",
       "      <td>-0.065565</td>\n",
       "      <td>-0.059279</td>\n",
       "      <td>-0.049521</td>\n",
       "      <td>-0.044864</td>\n",
       "      <td>-0.038566</td>\n",
       "      <td>-0.035296</td>\n",
       "    </tr>\n",
       "    <tr>\n",
       "      <th>time_in_hospital5</th>\n",
       "      <td>-0.129426</td>\n",
       "      <td>-0.150468</td>\n",
       "      <td>-0.157319</td>\n",
       "      <td>-0.133885</td>\n",
       "      <td>1.000000</td>\n",
       "      <td>-0.097472</td>\n",
       "      <td>-0.081966</td>\n",
       "      <td>-0.069747</td>\n",
       "      <td>-0.053417</td>\n",
       "      <td>-0.048295</td>\n",
       "      <td>-0.040346</td>\n",
       "      <td>-0.036551</td>\n",
       "      <td>-0.031420</td>\n",
       "      <td>-0.028756</td>\n",
       "    </tr>\n",
       "    <tr>\n",
       "      <th>time_in_hospital6</th>\n",
       "      <td>-0.115657</td>\n",
       "      <td>-0.134459</td>\n",
       "      <td>-0.140581</td>\n",
       "      <td>-0.119640</td>\n",
       "      <td>-0.097472</td>\n",
       "      <td>1.000000</td>\n",
       "      <td>-0.073246</td>\n",
       "      <td>-0.062327</td>\n",
       "      <td>-0.047734</td>\n",
       "      <td>-0.043157</td>\n",
       "      <td>-0.036053</td>\n",
       "      <td>-0.032662</td>\n",
       "      <td>-0.028077</td>\n",
       "      <td>-0.025697</td>\n",
       "    </tr>\n",
       "    <tr>\n",
       "      <th>time_in_hospital7</th>\n",
       "      <td>-0.097258</td>\n",
       "      <td>-0.113069</td>\n",
       "      <td>-0.118217</td>\n",
       "      <td>-0.100608</td>\n",
       "      <td>-0.081966</td>\n",
       "      <td>-0.073246</td>\n",
       "      <td>1.000000</td>\n",
       "      <td>-0.052412</td>\n",
       "      <td>-0.040140</td>\n",
       "      <td>-0.036291</td>\n",
       "      <td>-0.030318</td>\n",
       "      <td>-0.027466</td>\n",
       "      <td>-0.023611</td>\n",
       "      <td>-0.021609</td>\n",
       "    </tr>\n",
       "    <tr>\n",
       "      <th>time_in_hospital8</th>\n",
       "      <td>-0.082759</td>\n",
       "      <td>-0.096213</td>\n",
       "      <td>-0.100594</td>\n",
       "      <td>-0.085609</td>\n",
       "      <td>-0.069747</td>\n",
       "      <td>-0.062327</td>\n",
       "      <td>-0.052412</td>\n",
       "      <td>1.000000</td>\n",
       "      <td>-0.034156</td>\n",
       "      <td>-0.030881</td>\n",
       "      <td>-0.025798</td>\n",
       "      <td>-0.023372</td>\n",
       "      <td>-0.020091</td>\n",
       "      <td>-0.018388</td>\n",
       "    </tr>\n",
       "    <tr>\n",
       "      <th>time_in_hospital9</th>\n",
       "      <td>-0.063382</td>\n",
       "      <td>-0.073686</td>\n",
       "      <td>-0.077041</td>\n",
       "      <td>-0.065565</td>\n",
       "      <td>-0.053417</td>\n",
       "      <td>-0.047734</td>\n",
       "      <td>-0.040140</td>\n",
       "      <td>-0.034156</td>\n",
       "      <td>1.000000</td>\n",
       "      <td>-0.023651</td>\n",
       "      <td>-0.019758</td>\n",
       "      <td>-0.017900</td>\n",
       "      <td>-0.015387</td>\n",
       "      <td>-0.014082</td>\n",
       "    </tr>\n",
       "    <tr>\n",
       "      <th>time_in_hospital10</th>\n",
       "      <td>-0.057305</td>\n",
       "      <td>-0.066621</td>\n",
       "      <td>-0.069654</td>\n",
       "      <td>-0.059279</td>\n",
       "      <td>-0.048295</td>\n",
       "      <td>-0.043157</td>\n",
       "      <td>-0.036291</td>\n",
       "      <td>-0.030881</td>\n",
       "      <td>-0.023651</td>\n",
       "      <td>1.000000</td>\n",
       "      <td>-0.017863</td>\n",
       "      <td>-0.016183</td>\n",
       "      <td>-0.013912</td>\n",
       "      <td>-0.012732</td>\n",
       "    </tr>\n",
       "    <tr>\n",
       "      <th>time_in_hospital11</th>\n",
       "      <td>-0.047872</td>\n",
       "      <td>-0.055655</td>\n",
       "      <td>-0.058189</td>\n",
       "      <td>-0.049521</td>\n",
       "      <td>-0.040346</td>\n",
       "      <td>-0.036053</td>\n",
       "      <td>-0.030318</td>\n",
       "      <td>-0.025798</td>\n",
       "      <td>-0.019758</td>\n",
       "      <td>-0.017863</td>\n",
       "      <td>1.000000</td>\n",
       "      <td>-0.013520</td>\n",
       "      <td>-0.011622</td>\n",
       "      <td>-0.010636</td>\n",
       "    </tr>\n",
       "    <tr>\n",
       "      <th>time_in_hospital12</th>\n",
       "      <td>-0.043370</td>\n",
       "      <td>-0.050421</td>\n",
       "      <td>-0.052716</td>\n",
       "      <td>-0.044864</td>\n",
       "      <td>-0.036551</td>\n",
       "      <td>-0.032662</td>\n",
       "      <td>-0.027466</td>\n",
       "      <td>-0.023372</td>\n",
       "      <td>-0.017900</td>\n",
       "      <td>-0.016183</td>\n",
       "      <td>-0.013520</td>\n",
       "      <td>1.000000</td>\n",
       "      <td>-0.010529</td>\n",
       "      <td>-0.009636</td>\n",
       "    </tr>\n",
       "    <tr>\n",
       "      <th>time_in_hospital13</th>\n",
       "      <td>-0.037282</td>\n",
       "      <td>-0.043343</td>\n",
       "      <td>-0.045316</td>\n",
       "      <td>-0.038566</td>\n",
       "      <td>-0.031420</td>\n",
       "      <td>-0.028077</td>\n",
       "      <td>-0.023611</td>\n",
       "      <td>-0.020091</td>\n",
       "      <td>-0.015387</td>\n",
       "      <td>-0.013912</td>\n",
       "      <td>-0.011622</td>\n",
       "      <td>-0.010529</td>\n",
       "      <td>1.000000</td>\n",
       "      <td>-0.008283</td>\n",
       "    </tr>\n",
       "    <tr>\n",
       "      <th>time_in_hospital14</th>\n",
       "      <td>-0.034121</td>\n",
       "      <td>-0.039668</td>\n",
       "      <td>-0.041474</td>\n",
       "      <td>-0.035296</td>\n",
       "      <td>-0.028756</td>\n",
       "      <td>-0.025697</td>\n",
       "      <td>-0.021609</td>\n",
       "      <td>-0.018388</td>\n",
       "      <td>-0.014082</td>\n",
       "      <td>-0.012732</td>\n",
       "      <td>-0.010636</td>\n",
       "      <td>-0.009636</td>\n",
       "      <td>-0.008283</td>\n",
       "      <td>1.000000</td>\n",
       "    </tr>\n",
       "  </tbody>\n",
       "</table>\n",
       "</div>"
      ],
      "text/plain": [
       "                    time_in_hospital1  time_in_hospital2  time_in_hospital3  \\\n",
       "time_in_hospital1            1.000000          -0.178539          -0.186667   \n",
       "time_in_hospital2           -0.178539           1.000000          -0.217015   \n",
       "time_in_hospital3           -0.186667          -0.217015           1.000000   \n",
       "time_in_hospital4           -0.158862          -0.184688          -0.193097   \n",
       "time_in_hospital5           -0.129426          -0.150468          -0.157319   \n",
       "time_in_hospital6           -0.115657          -0.134459          -0.140581   \n",
       "time_in_hospital7           -0.097258          -0.113069          -0.118217   \n",
       "time_in_hospital8           -0.082759          -0.096213          -0.100594   \n",
       "time_in_hospital9           -0.063382          -0.073686          -0.077041   \n",
       "time_in_hospital10          -0.057305          -0.066621          -0.069654   \n",
       "time_in_hospital11          -0.047872          -0.055655          -0.058189   \n",
       "time_in_hospital12          -0.043370          -0.050421          -0.052716   \n",
       "time_in_hospital13          -0.037282          -0.043343          -0.045316   \n",
       "time_in_hospital14          -0.034121          -0.039668          -0.041474   \n",
       "\n",
       "                    time_in_hospital4  time_in_hospital5  time_in_hospital6  \\\n",
       "time_in_hospital1           -0.158862          -0.129426          -0.115657   \n",
       "time_in_hospital2           -0.184688          -0.150468          -0.134459   \n",
       "time_in_hospital3           -0.193097          -0.157319          -0.140581   \n",
       "time_in_hospital4            1.000000          -0.133885          -0.119640   \n",
       "time_in_hospital5           -0.133885           1.000000          -0.097472   \n",
       "time_in_hospital6           -0.119640          -0.097472           1.000000   \n",
       "time_in_hospital7           -0.100608          -0.081966          -0.073246   \n",
       "time_in_hospital8           -0.085609          -0.069747          -0.062327   \n",
       "time_in_hospital9           -0.065565          -0.053417          -0.047734   \n",
       "time_in_hospital10          -0.059279          -0.048295          -0.043157   \n",
       "time_in_hospital11          -0.049521          -0.040346          -0.036053   \n",
       "time_in_hospital12          -0.044864          -0.036551          -0.032662   \n",
       "time_in_hospital13          -0.038566          -0.031420          -0.028077   \n",
       "time_in_hospital14          -0.035296          -0.028756          -0.025697   \n",
       "\n",
       "                    time_in_hospital7  time_in_hospital8  time_in_hospital9  \\\n",
       "time_in_hospital1           -0.097258          -0.082759          -0.063382   \n",
       "time_in_hospital2           -0.113069          -0.096213          -0.073686   \n",
       "time_in_hospital3           -0.118217          -0.100594          -0.077041   \n",
       "time_in_hospital4           -0.100608          -0.085609          -0.065565   \n",
       "time_in_hospital5           -0.081966          -0.069747          -0.053417   \n",
       "time_in_hospital6           -0.073246          -0.062327          -0.047734   \n",
       "time_in_hospital7            1.000000          -0.052412          -0.040140   \n",
       "time_in_hospital8           -0.052412           1.000000          -0.034156   \n",
       "time_in_hospital9           -0.040140          -0.034156           1.000000   \n",
       "time_in_hospital10          -0.036291          -0.030881          -0.023651   \n",
       "time_in_hospital11          -0.030318          -0.025798          -0.019758   \n",
       "time_in_hospital12          -0.027466          -0.023372          -0.017900   \n",
       "time_in_hospital13          -0.023611          -0.020091          -0.015387   \n",
       "time_in_hospital14          -0.021609          -0.018388          -0.014082   \n",
       "\n",
       "                    time_in_hospital10  time_in_hospital11  \\\n",
       "time_in_hospital1            -0.057305           -0.047872   \n",
       "time_in_hospital2            -0.066621           -0.055655   \n",
       "time_in_hospital3            -0.069654           -0.058189   \n",
       "time_in_hospital4            -0.059279           -0.049521   \n",
       "time_in_hospital5            -0.048295           -0.040346   \n",
       "time_in_hospital6            -0.043157           -0.036053   \n",
       "time_in_hospital7            -0.036291           -0.030318   \n",
       "time_in_hospital8            -0.030881           -0.025798   \n",
       "time_in_hospital9            -0.023651           -0.019758   \n",
       "time_in_hospital10            1.000000           -0.017863   \n",
       "time_in_hospital11           -0.017863            1.000000   \n",
       "time_in_hospital12           -0.016183           -0.013520   \n",
       "time_in_hospital13           -0.013912           -0.011622   \n",
       "time_in_hospital14           -0.012732           -0.010636   \n",
       "\n",
       "                    time_in_hospital12  time_in_hospital13  time_in_hospital14  \n",
       "time_in_hospital1            -0.043370           -0.037282           -0.034121  \n",
       "time_in_hospital2            -0.050421           -0.043343           -0.039668  \n",
       "time_in_hospital3            -0.052716           -0.045316           -0.041474  \n",
       "time_in_hospital4            -0.044864           -0.038566           -0.035296  \n",
       "time_in_hospital5            -0.036551           -0.031420           -0.028756  \n",
       "time_in_hospital6            -0.032662           -0.028077           -0.025697  \n",
       "time_in_hospital7            -0.027466           -0.023611           -0.021609  \n",
       "time_in_hospital8            -0.023372           -0.020091           -0.018388  \n",
       "time_in_hospital9            -0.017900           -0.015387           -0.014082  \n",
       "time_in_hospital10           -0.016183           -0.013912           -0.012732  \n",
       "time_in_hospital11           -0.013520           -0.011622           -0.010636  \n",
       "time_in_hospital12            1.000000           -0.010529           -0.009636  \n",
       "time_in_hospital13           -0.010529            1.000000           -0.008283  \n",
       "time_in_hospital14           -0.009636           -0.008283            1.000000  "
      ]
     },
     "execution_count": 440,
     "metadata": {},
     "output_type": "execute_result"
    }
   ],
   "source": [
    "corr_table = train1_dummy.corr()\n",
    "corr_table.iloc[26:40, 26:40]"
   ]
  },
  {
   "cell_type": "code",
   "execution_count": 456,
   "metadata": {},
   "outputs": [],
   "source": [
    "diag_values = list(set(list(train1_dummy.diag_1)))\n",
    "diag_map = {}\n",
    "diag_unmap = {}\n",
    "\n",
    "for i in range(len(diag_values)):\n",
    "    diag_map[diag_values[i]] = i\n",
    "    diag_unmap[i] = diag_values[i]\n",
    "\n"
   ]
  },
  {
   "cell_type": "code",
   "execution_count": 457,
   "metadata": {},
   "outputs": [],
   "source": [
    "train1_dummy.loc[:, \"diag_1_num\"] = train1_dummy.loc[:, \"diag_1\"].map(diag_map)\n",
    "train1_dummy.loc[:, \"diag_2_num\"] = train1_dummy.loc[:, \"diag_2\"].map(diag_map)"
   ]
  },
  {
   "cell_type": "code",
   "execution_count": 459,
   "metadata": {},
   "outputs": [],
   "source": [
    "from statsmodels.stats.outliers_influence import variance_inflation_factor\n",
    "from statsmodels.tools.tools import add_constant\n",
    "\n",
    "X = train1_dummy[['age5', 'age15', 'age25', 'age35', 'age45', 'age55',\n",
    "       'age65', 'age75', 'age85', 'time_in_hospital1',\n",
    "       'time_in_hospital2', 'time_in_hospital3', 'time_in_hospital4',\n",
    "       'time_in_hospital5', 'time_in_hospital6', 'time_in_hospital7',\n",
    "       'time_in_hospital8', 'time_in_hospital9', 'time_in_hospital10',\n",
    "       'time_in_hospital11', 'time_in_hospital12', 'time_in_hospital13', 'admission_type_id1', 'admission_type_id3',\n",
    "       'admission_type_id4', 'discharge_disposition_id7',\n",
    "       'discharge_disposition_id10', 'discharge_disposition_id11',\n",
    "       'discharge_disposition_id18', 'discharge_disposition_id27', 'admission_source_id8',\n",
    "       'admission_source_id9', 'number_inpatient', 'num_of_changes', 'diag_1_num', 'diag_2_num']]\n",
    "X = add_constant(X)\n",
    "vif_data = pd.DataFrame()\n",
    "vif_data[\"feature\"] = X.columns\n",
    "\n",
    "for i in range(len(X.columns)):\n",
    "    vif_data.loc[i,'VIF'] = variance_inflation_factor(X.values, i)"
   ]
  },
  {
   "cell_type": "code",
   "execution_count": 460,
   "metadata": {},
   "outputs": [
    {
     "data": {
      "text/html": [
       "<div>\n",
       "<style scoped>\n",
       "    .dataframe tbody tr th:only-of-type {\n",
       "        vertical-align: middle;\n",
       "    }\n",
       "\n",
       "    .dataframe tbody tr th {\n",
       "        vertical-align: top;\n",
       "    }\n",
       "\n",
       "    .dataframe thead th {\n",
       "        text-align: right;\n",
       "    }\n",
       "</style>\n",
       "<table border=\"1\" class=\"dataframe\">\n",
       "  <thead>\n",
       "    <tr style=\"text-align: right;\">\n",
       "      <th></th>\n",
       "      <th>feature</th>\n",
       "      <th>VIF</th>\n",
       "    </tr>\n",
       "  </thead>\n",
       "  <tbody>\n",
       "    <tr>\n",
       "      <th>0</th>\n",
       "      <td>const</td>\n",
       "      <td>213.011386</td>\n",
       "    </tr>\n",
       "    <tr>\n",
       "      <th>1</th>\n",
       "      <td>age5</td>\n",
       "      <td>1.062121</td>\n",
       "    </tr>\n",
       "    <tr>\n",
       "      <th>2</th>\n",
       "      <td>age15</td>\n",
       "      <td>1.243681</td>\n",
       "    </tr>\n",
       "    <tr>\n",
       "      <th>3</th>\n",
       "      <td>age25</td>\n",
       "      <td>1.540352</td>\n",
       "    </tr>\n",
       "    <tr>\n",
       "      <th>4</th>\n",
       "      <td>age35</td>\n",
       "      <td>2.344709</td>\n",
       "    </tr>\n",
       "    <tr>\n",
       "      <th>5</th>\n",
       "      <td>age45</td>\n",
       "      <td>4.572591</td>\n",
       "    </tr>\n",
       "    <tr>\n",
       "      <th>6</th>\n",
       "      <td>age55</td>\n",
       "      <td>7.478931</td>\n",
       "    </tr>\n",
       "    <tr>\n",
       "      <th>7</th>\n",
       "      <td>age65</td>\n",
       "      <td>10.137879</td>\n",
       "    </tr>\n",
       "    <tr>\n",
       "      <th>8</th>\n",
       "      <td>age75</td>\n",
       "      <td>11.883549</td>\n",
       "    </tr>\n",
       "    <tr>\n",
       "      <th>9</th>\n",
       "      <td>age85</td>\n",
       "      <td>8.532022</td>\n",
       "    </tr>\n",
       "    <tr>\n",
       "      <th>10</th>\n",
       "      <td>time_in_hospital1</td>\n",
       "      <td>16.295028</td>\n",
       "    </tr>\n",
       "    <tr>\n",
       "      <th>11</th>\n",
       "      <td>time_in_hospital2</td>\n",
       "      <td>19.841898</td>\n",
       "    </tr>\n",
       "    <tr>\n",
       "      <th>12</th>\n",
       "      <td>time_in_hospital3</td>\n",
       "      <td>20.930664</td>\n",
       "    </tr>\n",
       "    <tr>\n",
       "      <th>13</th>\n",
       "      <td>time_in_hospital4</td>\n",
       "      <td>17.017185</td>\n",
       "    </tr>\n",
       "    <tr>\n",
       "      <th>14</th>\n",
       "      <td>time_in_hospital5</td>\n",
       "      <td>12.722620</td>\n",
       "    </tr>\n",
       "    <tr>\n",
       "      <th>15</th>\n",
       "      <td>time_in_hospital6</td>\n",
       "      <td>10.739381</td>\n",
       "    </tr>\n",
       "    <tr>\n",
       "      <th>16</th>\n",
       "      <td>time_in_hospital7</td>\n",
       "      <td>8.220347</td>\n",
       "    </tr>\n",
       "    <tr>\n",
       "      <th>17</th>\n",
       "      <td>time_in_hospital8</td>\n",
       "      <td>6.399321</td>\n",
       "    </tr>\n",
       "    <tr>\n",
       "      <th>18</th>\n",
       "      <td>time_in_hospital9</td>\n",
       "      <td>4.281549</td>\n",
       "    </tr>\n",
       "    <tr>\n",
       "      <th>19</th>\n",
       "      <td>time_in_hospital10</td>\n",
       "      <td>3.707132</td>\n",
       "    </tr>\n",
       "    <tr>\n",
       "      <th>20</th>\n",
       "      <td>time_in_hospital11</td>\n",
       "      <td>2.913630</td>\n",
       "    </tr>\n",
       "    <tr>\n",
       "      <th>21</th>\n",
       "      <td>time_in_hospital12</td>\n",
       "      <td>2.578410</td>\n",
       "    </tr>\n",
       "    <tr>\n",
       "      <th>22</th>\n",
       "      <td>time_in_hospital13</td>\n",
       "      <td>2.173885</td>\n",
       "    </tr>\n",
       "    <tr>\n",
       "      <th>23</th>\n",
       "      <td>admission_type_id1</td>\n",
       "      <td>3.629987</td>\n",
       "    </tr>\n",
       "    <tr>\n",
       "      <th>24</th>\n",
       "      <td>admission_type_id3</td>\n",
       "      <td>3.180235</td>\n",
       "    </tr>\n",
       "    <tr>\n",
       "      <th>25</th>\n",
       "      <td>admission_type_id4</td>\n",
       "      <td>1.001130</td>\n",
       "    </tr>\n",
       "    <tr>\n",
       "      <th>26</th>\n",
       "      <td>discharge_disposition_id7</td>\n",
       "      <td>1.006634</td>\n",
       "    </tr>\n",
       "    <tr>\n",
       "      <th>27</th>\n",
       "      <td>discharge_disposition_id10</td>\n",
       "      <td>1.000792</td>\n",
       "    </tr>\n",
       "    <tr>\n",
       "      <th>28</th>\n",
       "      <td>discharge_disposition_id11</td>\n",
       "      <td>1.006235</td>\n",
       "    </tr>\n",
       "    <tr>\n",
       "      <th>29</th>\n",
       "      <td>discharge_disposition_id18</td>\n",
       "      <td>1.024336</td>\n",
       "    </tr>\n",
       "    <tr>\n",
       "      <th>30</th>\n",
       "      <td>discharge_disposition_id27</td>\n",
       "      <td>1.000647</td>\n",
       "    </tr>\n",
       "    <tr>\n",
       "      <th>31</th>\n",
       "      <td>admission_source_id8</td>\n",
       "      <td>1.000773</td>\n",
       "    </tr>\n",
       "    <tr>\n",
       "      <th>32</th>\n",
       "      <td>admission_source_id9</td>\n",
       "      <td>1.728198</td>\n",
       "    </tr>\n",
       "    <tr>\n",
       "      <th>33</th>\n",
       "      <td>number_inpatient</td>\n",
       "      <td>1.008246</td>\n",
       "    </tr>\n",
       "    <tr>\n",
       "      <th>34</th>\n",
       "      <td>num_of_changes</td>\n",
       "      <td>1.031663</td>\n",
       "    </tr>\n",
       "    <tr>\n",
       "      <th>35</th>\n",
       "      <td>diag_1_num</td>\n",
       "      <td>1.038286</td>\n",
       "    </tr>\n",
       "    <tr>\n",
       "      <th>36</th>\n",
       "      <td>diag_2_num</td>\n",
       "      <td>1.030293</td>\n",
       "    </tr>\n",
       "  </tbody>\n",
       "</table>\n",
       "</div>"
      ],
      "text/plain": [
       "                       feature         VIF\n",
       "0                        const  213.011386\n",
       "1                         age5    1.062121\n",
       "2                        age15    1.243681\n",
       "3                        age25    1.540352\n",
       "4                        age35    2.344709\n",
       "5                        age45    4.572591\n",
       "6                        age55    7.478931\n",
       "7                        age65   10.137879\n",
       "8                        age75   11.883549\n",
       "9                        age85    8.532022\n",
       "10           time_in_hospital1   16.295028\n",
       "11           time_in_hospital2   19.841898\n",
       "12           time_in_hospital3   20.930664\n",
       "13           time_in_hospital4   17.017185\n",
       "14           time_in_hospital5   12.722620\n",
       "15           time_in_hospital6   10.739381\n",
       "16           time_in_hospital7    8.220347\n",
       "17           time_in_hospital8    6.399321\n",
       "18           time_in_hospital9    4.281549\n",
       "19          time_in_hospital10    3.707132\n",
       "20          time_in_hospital11    2.913630\n",
       "21          time_in_hospital12    2.578410\n",
       "22          time_in_hospital13    2.173885\n",
       "23          admission_type_id1    3.629987\n",
       "24          admission_type_id3    3.180235\n",
       "25          admission_type_id4    1.001130\n",
       "26   discharge_disposition_id7    1.006634\n",
       "27  discharge_disposition_id10    1.000792\n",
       "28  discharge_disposition_id11    1.006235\n",
       "29  discharge_disposition_id18    1.024336\n",
       "30  discharge_disposition_id27    1.000647\n",
       "31        admission_source_id8    1.000773\n",
       "32        admission_source_id9    1.728198\n",
       "33            number_inpatient    1.008246\n",
       "34              num_of_changes    1.031663\n",
       "35                  diag_1_num    1.038286\n",
       "36                  diag_2_num    1.030293"
      ]
     },
     "execution_count": 460,
     "metadata": {},
     "output_type": "execute_result"
    }
   ],
   "source": [
    "vif_data"
   ]
  },
  {
   "attachments": {},
   "cell_type": "markdown",
   "metadata": {},
   "source": [
    "#### Inspecting the existing models"
   ]
  },
  {
   "attachments": {},
   "cell_type": "markdown",
   "metadata": {},
   "source": [
    "Model 1: `readmitted ~ time_in_hospital*age + num_of_changes + number_inpatient`"
   ]
  },
  {
   "cell_type": "code",
   "execution_count": 464,
   "metadata": {},
   "outputs": [
    {
     "name": "stdout",
     "output_type": "stream",
     "text": [
      "Optimization terminated successfully.\n",
      "         Current function value: 0.672323\n",
      "         Iterations 5\n"
     ]
    },
    {
     "data": {
      "text/html": [
       "<table class=\"simpletable\">\n",
       "<caption>Logit Regression Results</caption>\n",
       "<tr>\n",
       "  <th>Dep. Variable:</th>      <td>readmitted</td>    <th>  No. Observations:  </th>  <td>104464</td> \n",
       "</tr>\n",
       "<tr>\n",
       "  <th>Model:</th>                 <td>Logit</td>      <th>  Df Residuals:      </th>  <td>104458</td> \n",
       "</tr>\n",
       "<tr>\n",
       "  <th>Method:</th>                 <td>MLE</td>       <th>  Df Model:          </th>  <td>     5</td> \n",
       "</tr>\n",
       "<tr>\n",
       "  <th>Date:</th>            <td>Fri, 24 Feb 2023</td> <th>  Pseudo R-squ.:     </th>  <td>0.03004</td>\n",
       "</tr>\n",
       "<tr>\n",
       "  <th>Time:</th>                <td>23:17:50</td>     <th>  Log-Likelihood:    </th> <td> -70234.</td>\n",
       "</tr>\n",
       "<tr>\n",
       "  <th>converged:</th>             <td>True</td>       <th>  LL-Null:           </th> <td> -72409.</td>\n",
       "</tr>\n",
       "<tr>\n",
       "  <th>Covariance Type:</th>     <td>nonrobust</td>    <th>  LLR p-value:       </th>  <td> 0.000</td> \n",
       "</tr>\n",
       "</table>\n",
       "<table class=\"simpletable\">\n",
       "<tr>\n",
       "            <td></td>              <th>coef</th>     <th>std err</th>      <th>z</th>      <th>P>|z|</th>  <th>[0.025</th>    <th>0.975]</th>  \n",
       "</tr>\n",
       "<tr>\n",
       "  <th>Intercept</th>            <td>   -2.1006</td> <td>    0.056</td> <td>  -37.394</td> <td> 0.000</td> <td>   -2.211</td> <td>   -1.991</td>\n",
       "</tr>\n",
       "<tr>\n",
       "  <th>time_in_hospital</th>     <td>    0.1815</td> <td>    0.011</td> <td>   15.921</td> <td> 0.000</td> <td>    0.159</td> <td>    0.204</td>\n",
       "</tr>\n",
       "<tr>\n",
       "  <th>age</th>                  <td>    0.0316</td> <td>    0.001</td> <td>   38.812</td> <td> 0.000</td> <td>    0.030</td> <td>    0.033</td>\n",
       "</tr>\n",
       "<tr>\n",
       "  <th>time_in_hospital:age</th> <td>   -0.0025</td> <td>    0.000</td> <td>  -15.492</td> <td> 0.000</td> <td>   -0.003</td> <td>   -0.002</td>\n",
       "</tr>\n",
       "<tr>\n",
       "  <th>num_of_changes</th>       <td>   -0.5295</td> <td>    0.015</td> <td>  -34.515</td> <td> 0.000</td> <td>   -0.560</td> <td>   -0.499</td>\n",
       "</tr>\n",
       "<tr>\n",
       "  <th>number_inpatient</th>     <td>    0.1471</td> <td>    0.010</td> <td>   14.478</td> <td> 0.000</td> <td>    0.127</td> <td>    0.167</td>\n",
       "</tr>\n",
       "</table>"
      ],
      "text/plain": [
       "<class 'statsmodels.iolib.summary.Summary'>\n",
       "\"\"\"\n",
       "                           Logit Regression Results                           \n",
       "==============================================================================\n",
       "Dep. Variable:             readmitted   No. Observations:               104464\n",
       "Model:                          Logit   Df Residuals:                   104458\n",
       "Method:                           MLE   Df Model:                            5\n",
       "Date:                Fri, 24 Feb 2023   Pseudo R-squ.:                 0.03004\n",
       "Time:                        23:17:50   Log-Likelihood:                -70234.\n",
       "converged:                       True   LL-Null:                       -72409.\n",
       "Covariance Type:            nonrobust   LLR p-value:                     0.000\n",
       "========================================================================================\n",
       "                           coef    std err          z      P>|z|      [0.025      0.975]\n",
       "----------------------------------------------------------------------------------------\n",
       "Intercept               -2.1006      0.056    -37.394      0.000      -2.211      -1.991\n",
       "time_in_hospital         0.1815      0.011     15.921      0.000       0.159       0.204\n",
       "age                      0.0316      0.001     38.812      0.000       0.030       0.033\n",
       "time_in_hospital:age    -0.0025      0.000    -15.492      0.000      -0.003      -0.002\n",
       "num_of_changes          -0.5295      0.015    -34.515      0.000      -0.560      -0.499\n",
       "number_inpatient         0.1471      0.010     14.478      0.000       0.127       0.167\n",
       "========================================================================================\n",
       "\"\"\""
      ]
     },
     "execution_count": 464,
     "metadata": {},
     "output_type": "execute_result"
    }
   ],
   "source": [
    "\n",
    "logit_model = sm.logit(formula = 'readmitted ~ time_in_hospital*age + num_of_changes + number_inpatient', data = train1_dummy).fit() #Developing logistic regression model\n",
    "logit_model.summary()"
   ]
  },
  {
   "cell_type": "code",
   "execution_count": 465,
   "metadata": {},
   "outputs": [
    {
     "name": "stdout",
     "output_type": "stream",
     "text": [
      "Optimization terminated successfully.\n",
      "         Current function value: 0.670566\n",
      "         Iterations 5\n"
     ]
    },
    {
     "data": {
      "text/html": [
       "<table class=\"simpletable\">\n",
       "<caption>Logit Regression Results</caption>\n",
       "<tr>\n",
       "  <th>Dep. Variable:</th>      <td>readmitted</td>    <th>  No. Observations:  </th>  <td>104464</td> \n",
       "</tr>\n",
       "<tr>\n",
       "  <th>Model:</th>                 <td>Logit</td>      <th>  Df Residuals:      </th>  <td>104448</td> \n",
       "</tr>\n",
       "<tr>\n",
       "  <th>Method:</th>                 <td>MLE</td>       <th>  Df Model:          </th>  <td>    15</td> \n",
       "</tr>\n",
       "<tr>\n",
       "  <th>Date:</th>            <td>Fri, 24 Feb 2023</td> <th>  Pseudo R-squ.:     </th>  <td>0.03258</td>\n",
       "</tr>\n",
       "<tr>\n",
       "  <th>Time:</th>                <td>23:18:11</td>     <th>  Log-Likelihood:    </th> <td> -70050.</td>\n",
       "</tr>\n",
       "<tr>\n",
       "  <th>converged:</th>             <td>True</td>       <th>  LL-Null:           </th> <td> -72409.</td>\n",
       "</tr>\n",
       "<tr>\n",
       "  <th>Covariance Type:</th>     <td>nonrobust</td>    <th>  LLR p-value:       </th>  <td> 0.000</td> \n",
       "</tr>\n",
       "</table>\n",
       "<table class=\"simpletable\">\n",
       "<tr>\n",
       "                            <td></td>                              <th>coef</th>     <th>std err</th>      <th>z</th>      <th>P>|z|</th>  <th>[0.025</th>    <th>0.975]</th>  \n",
       "</tr>\n",
       "<tr>\n",
       "  <th>Intercept</th>                                            <td>   -2.3414</td> <td>    0.067</td> <td>  -35.152</td> <td> 0.000</td> <td>   -2.472</td> <td>   -2.211</td>\n",
       "</tr>\n",
       "<tr>\n",
       "  <th>time_in_hospital</th>                                     <td>    0.2446</td> <td>    0.014</td> <td>   17.214</td> <td> 0.000</td> <td>    0.217</td> <td>    0.272</td>\n",
       "</tr>\n",
       "<tr>\n",
       "  <th>age</th>                                                  <td>    0.0335</td> <td>    0.001</td> <td>   34.830</td> <td> 0.000</td> <td>    0.032</td> <td>    0.035</td>\n",
       "</tr>\n",
       "<tr>\n",
       "  <th>time_in_hospital:age</th>                                 <td>   -0.0030</td> <td>    0.000</td> <td>  -15.118</td> <td> 0.000</td> <td>   -0.003</td> <td>   -0.003</td>\n",
       "</tr>\n",
       "<tr>\n",
       "  <th>num_of_changes</th>                                       <td>    0.0342</td> <td>    0.137</td> <td>    0.249</td> <td> 0.804</td> <td>   -0.235</td> <td>    0.303</td>\n",
       "</tr>\n",
       "<tr>\n",
       "  <th>time_in_hospital:num_of_changes</th>                      <td>   -0.1526</td> <td>    0.026</td> <td>   -5.864</td> <td> 0.000</td> <td>   -0.204</td> <td>   -0.102</td>\n",
       "</tr>\n",
       "<tr>\n",
       "  <th>age:num_of_changes</th>                                   <td>   -0.0024</td> <td>    0.002</td> <td>   -1.163</td> <td> 0.245</td> <td>   -0.006</td> <td>    0.002</td>\n",
       "</tr>\n",
       "<tr>\n",
       "  <th>time_in_hospital:age:num_of_changes</th>                  <td>    0.0010</td> <td>    0.000</td> <td>    2.728</td> <td> 0.006</td> <td>    0.000</td> <td>    0.002</td>\n",
       "</tr>\n",
       "<tr>\n",
       "  <th>number_inpatient</th>                                     <td>    0.5451</td> <td>    0.113</td> <td>    4.828</td> <td> 0.000</td> <td>    0.324</td> <td>    0.766</td>\n",
       "</tr>\n",
       "<tr>\n",
       "  <th>time_in_hospital:number_inpatient</th>                    <td>   -0.0606</td> <td>    0.022</td> <td>   -2.819</td> <td> 0.005</td> <td>   -0.103</td> <td>   -0.018</td>\n",
       "</tr>\n",
       "<tr>\n",
       "  <th>age:number_inpatient</th>                                 <td>   -0.0029</td> <td>    0.002</td> <td>   -1.796</td> <td> 0.073</td> <td>   -0.006</td> <td>    0.000</td>\n",
       "</tr>\n",
       "<tr>\n",
       "  <th>time_in_hospital:age:number_inpatient</th>                <td>    0.0003</td> <td>    0.000</td> <td>    0.859</td> <td> 0.391</td> <td>   -0.000</td> <td>    0.001</td>\n",
       "</tr>\n",
       "<tr>\n",
       "  <th>num_of_changes:number_inpatient</th>                      <td>   -0.1244</td> <td>    0.187</td> <td>   -0.664</td> <td> 0.507</td> <td>   -0.492</td> <td>    0.243</td>\n",
       "</tr>\n",
       "<tr>\n",
       "  <th>time_in_hospital:num_of_changes:number_inpatient</th>     <td>   -0.0003</td> <td>    0.036</td> <td>   -0.009</td> <td> 0.992</td> <td>   -0.071</td> <td>    0.070</td>\n",
       "</tr>\n",
       "<tr>\n",
       "  <th>age:num_of_changes:number_inpatient</th>                  <td>   -0.0005</td> <td>    0.003</td> <td>   -0.178</td> <td> 0.858</td> <td>   -0.006</td> <td>    0.005</td>\n",
       "</tr>\n",
       "<tr>\n",
       "  <th>time_in_hospital:age:num_of_changes:number_inpatient</th> <td>    0.0004</td> <td>    0.001</td> <td>    0.816</td> <td> 0.415</td> <td>   -0.001</td> <td>    0.001</td>\n",
       "</tr>\n",
       "</table>"
      ],
      "text/plain": [
       "<class 'statsmodels.iolib.summary.Summary'>\n",
       "\"\"\"\n",
       "                           Logit Regression Results                           \n",
       "==============================================================================\n",
       "Dep. Variable:             readmitted   No. Observations:               104464\n",
       "Model:                          Logit   Df Residuals:                   104448\n",
       "Method:                           MLE   Df Model:                           15\n",
       "Date:                Fri, 24 Feb 2023   Pseudo R-squ.:                 0.03258\n",
       "Time:                        23:18:11   Log-Likelihood:                -70050.\n",
       "converged:                       True   LL-Null:                       -72409.\n",
       "Covariance Type:            nonrobust   LLR p-value:                     0.000\n",
       "========================================================================================================================\n",
       "                                                           coef    std err          z      P>|z|      [0.025      0.975]\n",
       "------------------------------------------------------------------------------------------------------------------------\n",
       "Intercept                                               -2.3414      0.067    -35.152      0.000      -2.472      -2.211\n",
       "time_in_hospital                                         0.2446      0.014     17.214      0.000       0.217       0.272\n",
       "age                                                      0.0335      0.001     34.830      0.000       0.032       0.035\n",
       "time_in_hospital:age                                    -0.0030      0.000    -15.118      0.000      -0.003      -0.003\n",
       "num_of_changes                                           0.0342      0.137      0.249      0.804      -0.235       0.303\n",
       "time_in_hospital:num_of_changes                         -0.1526      0.026     -5.864      0.000      -0.204      -0.102\n",
       "age:num_of_changes                                      -0.0024      0.002     -1.163      0.245      -0.006       0.002\n",
       "time_in_hospital:age:num_of_changes                      0.0010      0.000      2.728      0.006       0.000       0.002\n",
       "number_inpatient                                         0.5451      0.113      4.828      0.000       0.324       0.766\n",
       "time_in_hospital:number_inpatient                       -0.0606      0.022     -2.819      0.005      -0.103      -0.018\n",
       "age:number_inpatient                                    -0.0029      0.002     -1.796      0.073      -0.006       0.000\n",
       "time_in_hospital:age:number_inpatient                    0.0003      0.000      0.859      0.391      -0.000       0.001\n",
       "num_of_changes:number_inpatient                         -0.1244      0.187     -0.664      0.507      -0.492       0.243\n",
       "time_in_hospital:num_of_changes:number_inpatient        -0.0003      0.036     -0.009      0.992      -0.071       0.070\n",
       "age:num_of_changes:number_inpatient                     -0.0005      0.003     -0.178      0.858      -0.006       0.005\n",
       "time_in_hospital:age:num_of_changes:number_inpatient     0.0004      0.001      0.816      0.415      -0.001       0.001\n",
       "========================================================================================================================\n",
       "\"\"\""
      ]
     },
     "execution_count": 465,
     "metadata": {},
     "output_type": "execute_result"
    }
   ],
   "source": [
    "logit_model_all_int = sm.logit(formula = 'readmitted ~ time_in_hospital*age* num_of_changes*number_inpatient', data = train1_dummy).fit() #Developing logistic regression model\n",
    "logit_model_all_int.summary()"
   ]
  },
  {
   "cell_type": "code",
   "execution_count": 10,
   "metadata": {},
   "outputs": [
    {
     "data": {
      "text/plain": [
       "-8488.441402884093"
      ]
     },
     "execution_count": 10,
     "metadata": {},
     "output_type": "execute_result"
    },
    {
     "data": {
      "image/png": "[encoded data removed]",
      "text/plain": [
       "<Figure size 432x288 with 1 Axes>"
      ]
     },
     "metadata": {
      "needs_background": "light"
     },
     "output_type": "display_data"
    }
   ],
   "source": [
    "def jitter(values,j):\n",
    "    return values + np.random.normal(j,0.02,values.shape)\n",
    "\n",
    "sns.scatterplot(x = jitter(train1.age,0), y = jitter(train1.readmitted,0), data = train1, color = 'orange')\n",
    "sns.lineplot(x = 'age', y= logit_model.predict(train), data = train1, color = 'blue') \n",
    "logit_model.llf\n",
    "\n"
   ]
  },
  {
   "cell_type": "code",
   "execution_count": 466,
   "metadata": {},
   "outputs": [
    {
     "name": "stdout",
     "output_type": "stream",
     "text": [
      "Classification accuracy = 58.8%\n",
      "Precision = 57.7%\n",
      "TPR or Recall = 65.5%\n",
      "FNR = 34.5%\n",
      "FPR = 48.0%\n",
      "ROC-AUC = 60.8%\n"
     ]
    },
    {
     "data": {
      "image/png": "[encoded data removed]",
      "text/plain": [
       "<Figure size 432x288 with 2 Axes>"
      ]
     },
     "metadata": {
      "needs_background": "light"
     },
     "output_type": "display_data"
    }
   ],
   "source": [
    "confusion_matrix_data(train1_dummy, train1_dummy.readmitted, logit_model, cutoff=0.5)"
   ]
  },
  {
   "cell_type": "code",
   "execution_count": 467,
   "metadata": {},
   "outputs": [
    {
     "name": "stdout",
     "output_type": "stream",
     "text": [
      "Classification accuracy = 52.2%\n",
      "Precision = 10.2%\n",
      "TPR or Recall = 54.2%\n",
      "FNR = 45.8%\n",
      "FPR = 48.0%\n",
      "ROC-AUC = 53.7%\n"
     ]
    },
    {
     "data": {
      "image/png": "[encoded data removed]",
      "text/plain": [
       "<Figure size 432x288 with 2 Axes>"
      ]
     },
     "metadata": {
      "needs_background": "light"
     },
     "output_type": "display_data"
    }
   ],
   "source": [
    "confusion_matrix_data(test_dummy, test_dummy.readmitted, logit_model, cutoff=0.5)"
   ]
  },
  {
   "cell_type": "code",
   "execution_count": null,
   "metadata": {},
   "outputs": [],
   "source": [
    "# cross validation\n"
   ]
  },
  {
   "attachments": {},
   "cell_type": "markdown",
   "metadata": {},
   "source": [
    "Model 1.1 -- Making each age group its own predictor"
   ]
  },
  {
   "cell_type": "code",
   "execution_count": 223,
   "metadata": {},
   "outputs": [
    {
     "data": {
      "text/plain": [
       "'readmitted ~ age15 + age25 + age35 + age45 + age55 + age65 + age75 + age85 + age95'"
      ]
     },
     "execution_count": 223,
     "metadata": {},
     "output_type": "execute_result"
    }
   ],
   "source": [
    "form = 'readmitted ~ ' + ' + '.join(vars[0][1:])\n",
    "form"
   ]
  },
  {
   "cell_type": "code",
   "execution_count": 224,
   "metadata": {},
   "outputs": [
    {
     "name": "stdout",
     "output_type": "stream",
     "text": [
      "Optimization terminated successfully.\n",
      "         Current function value: 0.688852\n",
      "         Iterations 5\n"
     ]
    },
    {
     "data": {
      "text/html": [
       "<table class=\"simpletable\">\n",
       "<caption>Logit Regression Results</caption>\n",
       "<tr>\n",
       "  <th>Dep. Variable:</th>      <td>readmitted</td>    <th>  No. Observations:  </th>  <td> 12586</td>  \n",
       "</tr>\n",
       "<tr>\n",
       "  <th>Model:</th>                 <td>Logit</td>      <th>  Df Residuals:      </th>  <td> 12576</td>  \n",
       "</tr>\n",
       "<tr>\n",
       "  <th>Method:</th>                 <td>MLE</td>       <th>  Df Model:          </th>  <td>     9</td>  \n",
       "</tr>\n",
       "<tr>\n",
       "  <th>Date:</th>            <td>Fri, 24 Feb 2023</td> <th>  Pseudo R-squ.:     </th> <td>0.006196</td> \n",
       "</tr>\n",
       "<tr>\n",
       "  <th>Time:</th>                <td>15:11:10</td>     <th>  Log-Likelihood:    </th> <td> -8669.9</td> \n",
       "</tr>\n",
       "<tr>\n",
       "  <th>converged:</th>             <td>True</td>       <th>  LL-Null:           </th> <td> -8724.0</td> \n",
       "</tr>\n",
       "<tr>\n",
       "  <th>Covariance Type:</th>     <td>nonrobust</td>    <th>  LLR p-value:       </th> <td>3.561e-19</td>\n",
       "</tr>\n",
       "</table>\n",
       "<table class=\"simpletable\">\n",
       "<tr>\n",
       "      <td></td>         <th>coef</th>     <th>std err</th>      <th>z</th>      <th>P>|z|</th>  <th>[0.025</th>    <th>0.975]</th>  \n",
       "</tr>\n",
       "<tr>\n",
       "  <th>Intercept</th> <td>   -1.3863</td> <td>    0.645</td> <td>   -2.148</td> <td> 0.032</td> <td>   -2.651</td> <td>   -0.121</td>\n",
       "</tr>\n",
       "<tr>\n",
       "  <th>age15</th>     <td>    0.6931</td> <td>    0.689</td> <td>    1.006</td> <td> 0.314</td> <td>   -0.657</td> <td>    2.043</td>\n",
       "</tr>\n",
       "<tr>\n",
       "  <th>age25</th>     <td>    1.1607</td> <td>    0.662</td> <td>    1.753</td> <td> 0.080</td> <td>   -0.137</td> <td>    2.458</td>\n",
       "</tr>\n",
       "<tr>\n",
       "  <th>age35</th>     <td>    1.1133</td> <td>    0.653</td> <td>    1.706</td> <td> 0.088</td> <td>   -0.166</td> <td>    2.393</td>\n",
       "</tr>\n",
       "<tr>\n",
       "  <th>age45</th>     <td>    1.1363</td> <td>    0.648</td> <td>    1.753</td> <td> 0.080</td> <td>   -0.134</td> <td>    2.407</td>\n",
       "</tr>\n",
       "<tr>\n",
       "  <th>age55</th>     <td>    1.1539</td> <td>    0.647</td> <td>    1.783</td> <td> 0.075</td> <td>   -0.114</td> <td>    2.422</td>\n",
       "</tr>\n",
       "<tr>\n",
       "  <th>age65</th>     <td>    1.4092</td> <td>    0.647</td> <td>    2.179</td> <td> 0.029</td> <td>    0.142</td> <td>    2.677</td>\n",
       "</tr>\n",
       "<tr>\n",
       "  <th>age75</th>     <td>    1.5510</td> <td>    0.646</td> <td>    2.399</td> <td> 0.016</td> <td>    0.284</td> <td>    2.818</td>\n",
       "</tr>\n",
       "<tr>\n",
       "  <th>age85</th>     <td>    1.5526</td> <td>    0.647</td> <td>    2.400</td> <td> 0.016</td> <td>    0.285</td> <td>    2.820</td>\n",
       "</tr>\n",
       "<tr>\n",
       "  <th>age95</th>     <td>    1.3628</td> <td>    0.655</td> <td>    2.082</td> <td> 0.037</td> <td>    0.080</td> <td>    2.646</td>\n",
       "</tr>\n",
       "</table>"
      ],
      "text/plain": [
       "<class 'statsmodels.iolib.summary.Summary'>\n",
       "\"\"\"\n",
       "                           Logit Regression Results                           \n",
       "==============================================================================\n",
       "Dep. Variable:             readmitted   No. Observations:                12586\n",
       "Model:                          Logit   Df Residuals:                    12576\n",
       "Method:                           MLE   Df Model:                            9\n",
       "Date:                Fri, 24 Feb 2023   Pseudo R-squ.:                0.006196\n",
       "Time:                        15:11:10   Log-Likelihood:                -8669.9\n",
       "converged:                       True   LL-Null:                       -8724.0\n",
       "Covariance Type:            nonrobust   LLR p-value:                 3.561e-19\n",
       "==============================================================================\n",
       "                 coef    std err          z      P>|z|      [0.025      0.975]\n",
       "------------------------------------------------------------------------------\n",
       "Intercept     -1.3863      0.645     -2.148      0.032      -2.651      -0.121\n",
       "age15          0.6931      0.689      1.006      0.314      -0.657       2.043\n",
       "age25          1.1607      0.662      1.753      0.080      -0.137       2.458\n",
       "age35          1.1133      0.653      1.706      0.088      -0.166       2.393\n",
       "age45          1.1363      0.648      1.753      0.080      -0.134       2.407\n",
       "age55          1.1539      0.647      1.783      0.075      -0.114       2.422\n",
       "age65          1.4092      0.647      2.179      0.029       0.142       2.677\n",
       "age75          1.5510      0.646      2.399      0.016       0.284       2.818\n",
       "age85          1.5526      0.647      2.400      0.016       0.285       2.820\n",
       "age95          1.3628      0.655      2.082      0.037       0.080       2.646\n",
       "==============================================================================\n",
       "\"\"\""
      ]
     },
     "execution_count": 224,
     "metadata": {},
     "output_type": "execute_result"
    }
   ],
   "source": [
    "logit_model_age_dummy = sm.logit(formula = form, data = train1_dummy).fit() \n",
    "logit_model_age_dummy.summary()"
   ]
  },
  {
   "cell_type": "code",
   "execution_count": 148,
   "metadata": {},
   "outputs": [
    {
     "name": "stdout",
     "output_type": "stream",
     "text": [
      "Classification accuracy = 53.9%\n",
      "Precision = 52.9%\n",
      "TPR or Recall = 70.5%\n",
      "FNR = 29.5%\n",
      "FPR = 62.7%\n",
      "ROC-AUC = 54.8%\n"
     ]
    },
    {
     "data": {
      "image/png": "[encoded data removed]",
      "text/plain": [
       "<Figure size 432x288 with 2 Axes>"
      ]
     },
     "metadata": {
      "needs_background": "light"
     },
     "output_type": "display_data"
    }
   ],
   "source": [
    "confusion_matrix_data(train1_dummy, train1_dummy.readmitted, logit_model_age_dummy, cutoff=0.5)"
   ]
  },
  {
   "cell_type": "code",
   "execution_count": 149,
   "metadata": {},
   "outputs": [
    {
     "name": "stdout",
     "output_type": "stream",
     "text": [
      "Classification accuracy = 40.0%\n",
      "Precision = 10.1%\n",
      "TPR or Recall = 70.0%\n",
      "FNR = 30.0%\n",
      "FPR = 63.0%\n",
      "ROC-AUC = 54.0%\n"
     ]
    },
    {
     "data": {
      "image/png": "[encoded data removed]",
      "text/plain": [
       "<Figure size 432x288 with 2 Axes>"
      ]
     },
     "metadata": {
      "needs_background": "light"
     },
     "output_type": "display_data"
    }
   ],
   "source": [
    "confusion_matrix_data(test_dummy, test_dummy.readmitted, logit_model_age_dummy, cutoff=0.5)"
   ]
  },
  {
   "attachments": {},
   "cell_type": "markdown",
   "metadata": {},
   "source": [
    "Quick observations\n",
    "- The classification accuracy for the test data decreased compared to the train data, suggesting overfitting.\n",
    "- Precision decreased --> among the classified positives, not many are true positives\n",
    "- This trend is reflected in the highest false positive rate\n",
    "- ROC-AUC went down\n",
    "\n",
    "But now the model is classifying datapoints as positive!"
   ]
  },
  {
   "cell_type": "code",
   "execution_count": 245,
   "metadata": {},
   "outputs": [
    {
     "data": {
      "text/plain": [
       "'readmitted ~ time_in_hospital + age15 + age25 + age35 + age45 + age55 + age65 + age75 + age85 + age95 + num_of_changes + number_inpatient'"
      ]
     },
     "execution_count": 245,
     "metadata": {},
     "output_type": "execute_result"
    }
   ],
   "source": [
    "form = 'readmitted ~ time_in_hospital + ' + ' + '.join(vars[0][1:]) + ' + num_of_changes + number_inpatient'\n",
    "form"
   ]
  },
  {
   "cell_type": "code",
   "execution_count": 246,
   "metadata": {},
   "outputs": [
    {
     "name": "stdout",
     "output_type": "stream",
     "text": [
      "Optimization terminated successfully.\n",
      "         Current function value: 0.673769\n",
      "         Iterations 5\n"
     ]
    },
    {
     "data": {
      "text/html": [
       "<table class=\"simpletable\">\n",
       "<caption>Logit Regression Results</caption>\n",
       "<tr>\n",
       "  <th>Dep. Variable:</th>      <td>readmitted</td>    <th>  No. Observations:  </th>  <td> 12586</td>  \n",
       "</tr>\n",
       "<tr>\n",
       "  <th>Model:</th>                 <td>Logit</td>      <th>  Df Residuals:      </th>  <td> 12573</td>  \n",
       "</tr>\n",
       "<tr>\n",
       "  <th>Method:</th>                 <td>MLE</td>       <th>  Df Model:          </th>  <td>    12</td>  \n",
       "</tr>\n",
       "<tr>\n",
       "  <th>Date:</th>            <td>Fri, 24 Feb 2023</td> <th>  Pseudo R-squ.:     </th>  <td>0.02796</td> \n",
       "</tr>\n",
       "<tr>\n",
       "  <th>Time:</th>                <td>16:38:38</td>     <th>  Log-Likelihood:    </th> <td> -8480.1</td> \n",
       "</tr>\n",
       "<tr>\n",
       "  <th>converged:</th>             <td>True</td>       <th>  LL-Null:           </th> <td> -8724.0</td> \n",
       "</tr>\n",
       "<tr>\n",
       "  <th>Covariance Type:</th>     <td>nonrobust</td>    <th>  LLR p-value:       </th> <td>8.754e-97</td>\n",
       "</tr>\n",
       "</table>\n",
       "<table class=\"simpletable\">\n",
       "<tr>\n",
       "          <td></td>            <th>coef</th>     <th>std err</th>      <th>z</th>      <th>P>|z|</th>  <th>[0.025</th>    <th>0.975]</th>  \n",
       "</tr>\n",
       "<tr>\n",
       "  <th>Intercept</th>        <td>   -1.5961</td> <td>    0.648</td> <td>   -2.463</td> <td> 0.014</td> <td>   -2.866</td> <td>   -0.326</td>\n",
       "</tr>\n",
       "<tr>\n",
       "  <th>time_in_hospital</th> <td>    0.0596</td> <td>    0.006</td> <td>    9.504</td> <td> 0.000</td> <td>    0.047</td> <td>    0.072</td>\n",
       "</tr>\n",
       "<tr>\n",
       "  <th>age15</th>            <td>    0.5533</td> <td>    0.693</td> <td>    0.799</td> <td> 0.424</td> <td>   -0.805</td> <td>    1.911</td>\n",
       "</tr>\n",
       "<tr>\n",
       "  <th>age25</th>            <td>    0.9402</td> <td>    0.665</td> <td>    1.413</td> <td> 0.158</td> <td>   -0.364</td> <td>    2.244</td>\n",
       "</tr>\n",
       "<tr>\n",
       "  <th>age35</th>            <td>    0.9337</td> <td>    0.655</td> <td>    1.425</td> <td> 0.154</td> <td>   -0.351</td> <td>    2.218</td>\n",
       "</tr>\n",
       "<tr>\n",
       "  <th>age45</th>            <td>    0.9766</td> <td>    0.651</td> <td>    1.501</td> <td> 0.133</td> <td>   -0.299</td> <td>    2.252</td>\n",
       "</tr>\n",
       "<tr>\n",
       "  <th>age55</th>            <td>    0.9904</td> <td>    0.650</td> <td>    1.525</td> <td> 0.127</td> <td>   -0.283</td> <td>    2.263</td>\n",
       "</tr>\n",
       "<tr>\n",
       "  <th>age65</th>            <td>    1.2283</td> <td>    0.649</td> <td>    1.892</td> <td> 0.058</td> <td>   -0.044</td> <td>    2.500</td>\n",
       "</tr>\n",
       "<tr>\n",
       "  <th>age75</th>            <td>    1.3529</td> <td>    0.649</td> <td>    2.085</td> <td> 0.037</td> <td>    0.081</td> <td>    2.625</td>\n",
       "</tr>\n",
       "<tr>\n",
       "  <th>age85</th>            <td>    1.3441</td> <td>    0.649</td> <td>    2.070</td> <td> 0.038</td> <td>    0.071</td> <td>    2.617</td>\n",
       "</tr>\n",
       "<tr>\n",
       "  <th>age95</th>            <td>    1.1956</td> <td>    0.657</td> <td>    1.819</td> <td> 0.069</td> <td>   -0.093</td> <td>    2.484</td>\n",
       "</tr>\n",
       "<tr>\n",
       "  <th>num_of_changes</th>   <td>    0.1091</td> <td>    0.038</td> <td>    2.834</td> <td> 0.005</td> <td>    0.034</td> <td>    0.185</td>\n",
       "</tr>\n",
       "<tr>\n",
       "  <th>number_inpatient</th> <td>    0.4168</td> <td>    0.030</td> <td>   13.965</td> <td> 0.000</td> <td>    0.358</td> <td>    0.475</td>\n",
       "</tr>\n",
       "</table>"
      ],
      "text/plain": [
       "<class 'statsmodels.iolib.summary.Summary'>\n",
       "\"\"\"\n",
       "                           Logit Regression Results                           \n",
       "==============================================================================\n",
       "Dep. Variable:             readmitted   No. Observations:                12586\n",
       "Model:                          Logit   Df Residuals:                    12573\n",
       "Method:                           MLE   Df Model:                           12\n",
       "Date:                Fri, 24 Feb 2023   Pseudo R-squ.:                 0.02796\n",
       "Time:                        16:38:38   Log-Likelihood:                -8480.1\n",
       "converged:                       True   LL-Null:                       -8724.0\n",
       "Covariance Type:            nonrobust   LLR p-value:                 8.754e-97\n",
       "====================================================================================\n",
       "                       coef    std err          z      P>|z|      [0.025      0.975]\n",
       "------------------------------------------------------------------------------------\n",
       "Intercept           -1.5961      0.648     -2.463      0.014      -2.866      -0.326\n",
       "time_in_hospital     0.0596      0.006      9.504      0.000       0.047       0.072\n",
       "age15                0.5533      0.693      0.799      0.424      -0.805       1.911\n",
       "age25                0.9402      0.665      1.413      0.158      -0.364       2.244\n",
       "age35                0.9337      0.655      1.425      0.154      -0.351       2.218\n",
       "age45                0.9766      0.651      1.501      0.133      -0.299       2.252\n",
       "age55                0.9904      0.650      1.525      0.127      -0.283       2.263\n",
       "age65                1.2283      0.649      1.892      0.058      -0.044       2.500\n",
       "age75                1.3529      0.649      2.085      0.037       0.081       2.625\n",
       "age85                1.3441      0.649      2.070      0.038       0.071       2.617\n",
       "age95                1.1956      0.657      1.819      0.069      -0.093       2.484\n",
       "num_of_changes       0.1091      0.038      2.834      0.005       0.034       0.185\n",
       "number_inpatient     0.4168      0.030     13.965      0.000       0.358       0.475\n",
       "====================================================================================\n",
       "\"\"\""
      ]
     },
     "execution_count": 246,
     "metadata": {},
     "output_type": "execute_result"
    }
   ],
   "source": [
    "# try adding the other terms of the model and the age predictors\n",
    "\n",
    "logit_model_age_dummy_2 = sm.logit(formula = form, data = train1_dummy).fit() \n",
    "logit_model_age_dummy_2.summary()"
   ]
  },
  {
   "cell_type": "code",
   "execution_count": 152,
   "metadata": {},
   "outputs": [
    {
     "name": "stdout",
     "output_type": "stream",
     "text": [
      "Classification accuracy = 57.6%\n",
      "Precision = 59.5%\n",
      "TPR or Recall = 47.7%\n",
      "FNR = 52.3%\n",
      "FPR = 32.5%\n",
      "ROC-AUC = 61.0%\n"
     ]
    },
    {
     "data": {
      "image/png": "[encoded data removed]",
      "text/plain": [
       "<Figure size 432x288 with 2 Axes>"
      ]
     },
     "metadata": {
      "needs_background": "light"
     },
     "output_type": "display_data"
    }
   ],
   "source": [
    "confusion_matrix_data(train1_dummy, train1_dummy.readmitted, logit_model_age_dummy_2,cutoff=0.5)"
   ]
  },
  {
   "cell_type": "code",
   "execution_count": 153,
   "metadata": {},
   "outputs": [
    {
     "name": "stdout",
     "output_type": "stream",
     "text": [
      "Classification accuracy = 65.0%\n",
      "Precision = 12.7%\n",
      "TPR or Recall = 48.0%\n",
      "FNR = 52.0%\n",
      "FPR = 33.3%\n",
      "ROC-AUC = 60.6%\n"
     ]
    },
    {
     "data": {
      "image/png": "[encoded data removed]",
      "text/plain": [
       "<Figure size 432x288 with 2 Axes>"
      ]
     },
     "metadata": {
      "needs_background": "light"
     },
     "output_type": "display_data"
    }
   ],
   "source": [
    "confusion_matrix_data(test_dummy, test_dummy.readmitted, logit_model_age_dummy_2,cutoff=0.5)"
   ]
  },
  {
   "attachments": {},
   "cell_type": "markdown",
   "metadata": {},
   "source": [
    "Quick observations\n",
    "- clssification accuracy of test data went up"
   ]
  },
  {
   "cell_type": "code",
   "execution_count": 154,
   "metadata": {},
   "outputs": [
    {
     "data": {
      "text/plain": [
       "'readmitted ~ time_in_hospital*age5 + time_in_hospital*age15 + time_in_hospital*age25 + time_in_hospital*age35 + time_in_hospital*age45 + time_in_hospital*age55 + time_in_hospital*age65 + time_in_hospital*age75 + time_in_hospital*age85 + time_in_hospital*age95 + num_of_changes + number_inpatient'"
      ]
     },
     "execution_count": 154,
     "metadata": {},
     "output_type": "execute_result"
    }
   ],
   "source": [
    "# Predictors: all age groups, interactions between time_in_hospital and the age groups, num_of_changes, and number_inpatient\n",
    "form = 'readmitted ~ time_in_hospital*{} + num_of_changes + number_inpatient'.format('time_in_hospital*'.join([(x + \" + \") for x in vars[0][:-1]]) + 'time_in_hospital*age95')\n",
    "form"
   ]
  },
  {
   "cell_type": "code",
   "execution_count": 155,
   "metadata": {},
   "outputs": [
    {
     "name": "stdout",
     "output_type": "stream",
     "text": [
      "Warning: Maximum number of iterations has been exceeded.\n",
      "         Current function value: 0.673421\n",
      "         Iterations: 35\n"
     ]
    },
    {
     "name": "stderr",
     "output_type": "stream",
     "text": [
      "/Users/amywang/opt/anaconda3/lib/python3.9/site-packages/statsmodels/base/model.py:604: ConvergenceWarning: Maximum Likelihood optimization failed to converge. Check mle_retvals\n",
      "  warnings.warn(\"Maximum Likelihood optimization failed to \"\n"
     ]
    },
    {
     "data": {
      "text/html": [
       "<table class=\"simpletable\">\n",
       "<caption>Logit Regression Results</caption>\n",
       "<tr>\n",
       "  <th>Dep. Variable:</th>      <td>readmitted</td>    <th>  No. Observations:  </th>  <td> 12586</td>  \n",
       "</tr>\n",
       "<tr>\n",
       "  <th>Model:</th>                 <td>Logit</td>      <th>  Df Residuals:      </th>  <td> 12563</td>  \n",
       "</tr>\n",
       "<tr>\n",
       "  <th>Method:</th>                 <td>MLE</td>       <th>  Df Model:          </th>  <td>    22</td>  \n",
       "</tr>\n",
       "<tr>\n",
       "  <th>Date:</th>            <td>Fri, 24 Feb 2023</td> <th>  Pseudo R-squ.:     </th>  <td>0.02846</td> \n",
       "</tr>\n",
       "<tr>\n",
       "  <th>Time:</th>                <td>01:22:13</td>     <th>  Log-Likelihood:    </th> <td> -8475.7</td> \n",
       "</tr>\n",
       "<tr>\n",
       "  <th>converged:</th>             <td>False</td>      <th>  LL-Null:           </th> <td> -8724.0</td> \n",
       "</tr>\n",
       "<tr>\n",
       "  <th>Covariance Type:</th>     <td>nonrobust</td>    <th>  LLR p-value:       </th> <td>3.841e-91</td>\n",
       "</tr>\n",
       "</table>\n",
       "<table class=\"simpletable\">\n",
       "<tr>\n",
       "             <td></td>               <th>coef</th>     <th>std err</th>      <th>z</th>      <th>P>|z|</th>  <th>[0.025</th>    <th>0.975]</th>  \n",
       "</tr>\n",
       "<tr>\n",
       "  <th>Intercept</th>              <td>   -0.9802</td> <td>      nan</td> <td>      nan</td> <td>   nan</td> <td>      nan</td> <td>      nan</td>\n",
       "</tr>\n",
       "<tr>\n",
       "  <th>time_in_hospital</th>       <td>    0.2310</td> <td>      nan</td> <td>      nan</td> <td>   nan</td> <td>      nan</td> <td>      nan</td>\n",
       "</tr>\n",
       "<tr>\n",
       "  <th>age5</th>                   <td>   -4.4614</td> <td>      nan</td> <td>      nan</td> <td>   nan</td> <td>      nan</td> <td>      nan</td>\n",
       "</tr>\n",
       "<tr>\n",
       "  <th>time_in_hospital:age5</th>  <td>    1.5992</td> <td>      nan</td> <td>      nan</td> <td>   nan</td> <td>      nan</td> <td>      nan</td>\n",
       "</tr>\n",
       "<tr>\n",
       "  <th>age15</th>                  <td>   -0.4382</td> <td>      nan</td> <td>      nan</td> <td>   nan</td> <td>      nan</td> <td>      nan</td>\n",
       "</tr>\n",
       "<tr>\n",
       "  <th>time_in_hospital:age15</th> <td>   -0.0337</td> <td>      nan</td> <td>      nan</td> <td>   nan</td> <td>      nan</td> <td>      nan</td>\n",
       "</tr>\n",
       "<tr>\n",
       "  <th>age25</th>                  <td>    0.2588</td> <td>      nan</td> <td>      nan</td> <td>   nan</td> <td>      nan</td> <td>      nan</td>\n",
       "</tr>\n",
       "<tr>\n",
       "  <th>time_in_hospital:age25</th> <td>   -0.1526</td> <td>      nan</td> <td>      nan</td> <td>   nan</td> <td>      nan</td> <td>      nan</td>\n",
       "</tr>\n",
       "<tr>\n",
       "  <th>age35</th>                  <td>    0.1896</td> <td>      nan</td> <td>      nan</td> <td>   nan</td> <td>      nan</td> <td>      nan</td>\n",
       "</tr>\n",
       "<tr>\n",
       "  <th>time_in_hospital:age35</th> <td>   -0.1372</td> <td>      nan</td> <td>      nan</td> <td>   nan</td> <td>      nan</td> <td>      nan</td>\n",
       "</tr>\n",
       "<tr>\n",
       "  <th>age45</th>                  <td>    0.3606</td> <td>      nan</td> <td>      nan</td> <td>   nan</td> <td>      nan</td> <td>      nan</td>\n",
       "</tr>\n",
       "<tr>\n",
       "  <th>time_in_hospital:age45</th> <td>   -0.1715</td> <td>      nan</td> <td>      nan</td> <td>   nan</td> <td>      nan</td> <td>      nan</td>\n",
       "</tr>\n",
       "<tr>\n",
       "  <th>age55</th>                  <td>    0.3449</td> <td>      nan</td> <td>      nan</td> <td>   nan</td> <td>      nan</td> <td>      nan</td>\n",
       "</tr>\n",
       "<tr>\n",
       "  <th>time_in_hospital:age55</th> <td>   -0.1645</td> <td>      nan</td> <td>      nan</td> <td>   nan</td> <td>      nan</td> <td>      nan</td>\n",
       "</tr>\n",
       "<tr>\n",
       "  <th>age65</th>                  <td>    0.6231</td> <td>      nan</td> <td>      nan</td> <td>   nan</td> <td>      nan</td> <td>      nan</td>\n",
       "</tr>\n",
       "<tr>\n",
       "  <th>time_in_hospital:age65</th> <td>   -0.1740</td> <td>      nan</td> <td>      nan</td> <td>   nan</td> <td>      nan</td> <td>      nan</td>\n",
       "</tr>\n",
       "<tr>\n",
       "  <th>age75</th>                  <td>    0.7041</td> <td>      nan</td> <td>      nan</td> <td>   nan</td> <td>      nan</td> <td>      nan</td>\n",
       "</tr>\n",
       "<tr>\n",
       "  <th>time_in_hospital:age75</th> <td>   -0.1645</td> <td>      nan</td> <td>      nan</td> <td>   nan</td> <td>      nan</td> <td>      nan</td>\n",
       "</tr>\n",
       "<tr>\n",
       "  <th>age85</th>                  <td>    0.8329</td> <td>      nan</td> <td>      nan</td> <td>   nan</td> <td>      nan</td> <td>      nan</td>\n",
       "</tr>\n",
       "<tr>\n",
       "  <th>time_in_hospital:age85</th> <td>   -0.1933</td> <td>      nan</td> <td>      nan</td> <td>   nan</td> <td>      nan</td> <td>      nan</td>\n",
       "</tr>\n",
       "<tr>\n",
       "  <th>age95</th>                  <td>    0.6053</td> <td>      nan</td> <td>      nan</td> <td>   nan</td> <td>      nan</td> <td>      nan</td>\n",
       "</tr>\n",
       "<tr>\n",
       "  <th>time_in_hospital:age95</th> <td>   -0.1768</td> <td>      nan</td> <td>      nan</td> <td>   nan</td> <td>      nan</td> <td>      nan</td>\n",
       "</tr>\n",
       "<tr>\n",
       "  <th>num_of_changes</th>         <td>    0.1106</td> <td>    0.039</td> <td>    2.871</td> <td> 0.004</td> <td>    0.035</td> <td>    0.186</td>\n",
       "</tr>\n",
       "<tr>\n",
       "  <th>number_inpatient</th>       <td>    0.4168</td> <td>    0.030</td> <td>   13.968</td> <td> 0.000</td> <td>    0.358</td> <td>    0.475</td>\n",
       "</tr>\n",
       "</table>"
      ],
      "text/plain": [
       "<class 'statsmodels.iolib.summary.Summary'>\n",
       "\"\"\"\n",
       "                           Logit Regression Results                           \n",
       "==============================================================================\n",
       "Dep. Variable:             readmitted   No. Observations:                12586\n",
       "Model:                          Logit   Df Residuals:                    12563\n",
       "Method:                           MLE   Df Model:                           22\n",
       "Date:                Fri, 24 Feb 2023   Pseudo R-squ.:                 0.02846\n",
       "Time:                        01:22:13   Log-Likelihood:                -8475.7\n",
       "converged:                      False   LL-Null:                       -8724.0\n",
       "Covariance Type:            nonrobust   LLR p-value:                 3.841e-91\n",
       "==========================================================================================\n",
       "                             coef    std err          z      P>|z|      [0.025      0.975]\n",
       "------------------------------------------------------------------------------------------\n",
       "Intercept                 -0.9802        nan        nan        nan         nan         nan\n",
       "time_in_hospital           0.2310        nan        nan        nan         nan         nan\n",
       "age5                      -4.4614        nan        nan        nan         nan         nan\n",
       "time_in_hospital:age5      1.5992        nan        nan        nan         nan         nan\n",
       "age15                     -0.4382        nan        nan        nan         nan         nan\n",
       "time_in_hospital:age15    -0.0337        nan        nan        nan         nan         nan\n",
       "age25                      0.2588        nan        nan        nan         nan         nan\n",
       "time_in_hospital:age25    -0.1526        nan        nan        nan         nan         nan\n",
       "age35                      0.1896        nan        nan        nan         nan         nan\n",
       "time_in_hospital:age35    -0.1372        nan        nan        nan         nan         nan\n",
       "age45                      0.3606        nan        nan        nan         nan         nan\n",
       "time_in_hospital:age45    -0.1715        nan        nan        nan         nan         nan\n",
       "age55                      0.3449        nan        nan        nan         nan         nan\n",
       "time_in_hospital:age55    -0.1645        nan        nan        nan         nan         nan\n",
       "age65                      0.6231        nan        nan        nan         nan         nan\n",
       "time_in_hospital:age65    -0.1740        nan        nan        nan         nan         nan\n",
       "age75                      0.7041        nan        nan        nan         nan         nan\n",
       "time_in_hospital:age75    -0.1645        nan        nan        nan         nan         nan\n",
       "age85                      0.8329        nan        nan        nan         nan         nan\n",
       "time_in_hospital:age85    -0.1933        nan        nan        nan         nan         nan\n",
       "age95                      0.6053        nan        nan        nan         nan         nan\n",
       "time_in_hospital:age95    -0.1768        nan        nan        nan         nan         nan\n",
       "num_of_changes             0.1106      0.039      2.871      0.004       0.035       0.186\n",
       "number_inpatient           0.4168      0.030     13.968      0.000       0.358       0.475\n",
       "==========================================================================================\n",
       "\"\"\""
      ]
     },
     "execution_count": 155,
     "metadata": {},
     "output_type": "execute_result"
    }
   ],
   "source": [
    "# all predictors (and interaction) of original logit_model\n",
    "\n",
    "logit_model_age_dummy_3 = sm.logit(formula = form, data = train1_dummy).fit() \n",
    "logit_model_age_dummy_3.summary()"
   ]
  },
  {
   "cell_type": "code",
   "execution_count": 156,
   "metadata": {},
   "outputs": [
    {
     "name": "stdout",
     "output_type": "stream",
     "text": [
      "Classification accuracy = 57.8%\n",
      "Precision = 59.1%\n",
      "TPR or Recall = 50.6%\n",
      "FNR = 49.4%\n",
      "FPR = 35.0%\n",
      "ROC-AUC = 61.0%\n"
     ]
    },
    {
     "data": {
      "image/png": "[encoded data removed]",
      "text/plain": [
       "<Figure size 432x288 with 2 Axes>"
      ]
     },
     "metadata": {
      "needs_background": "light"
     },
     "output_type": "display_data"
    }
   ],
   "source": [
    "confusion_matrix_data(train1_dummy, train1_dummy.readmitted, logit_model_age_dummy_3, cutoff=0.5)"
   ]
  },
  {
   "cell_type": "code",
   "execution_count": 157,
   "metadata": {},
   "outputs": [
    {
     "name": "stdout",
     "output_type": "stream",
     "text": [
      "Classification accuracy = 62.8%\n",
      "Precision = 12.4%\n",
      "TPR or Recall = 50.3%\n",
      "FNR = 49.7%\n",
      "FPR = 36.0%\n",
      "ROC-AUC = 60.5%\n"
     ]
    },
    {
     "data": {
      "image/png": "[encoded data removed]",
      "text/plain": [
       "<Figure size 432x288 with 2 Axes>"
      ]
     },
     "metadata": {
      "needs_background": "light"
     },
     "output_type": "display_data"
    }
   ],
   "source": [
    "confusion_matrix_data(test_dummy, test_dummy.readmitted, logit_model_age_dummy_3, cutoff=0.5)"
   ]
  },
  {
   "attachments": {},
   "cell_type": "markdown",
   "metadata": {},
   "source": [
    "#### Model 2: `readmitted ~ num_of_changes*time_in_hospital + number_inpatient + age`"
   ]
  },
  {
   "cell_type": "code",
   "execution_count": 109,
   "metadata": {},
   "outputs": [
    {
     "name": "stdout",
     "output_type": "stream",
     "text": [
      "Optimization terminated successfully.\n",
      "         Current function value: 0.674532\n",
      "         Iterations 5\n"
     ]
    },
    {
     "data": {
      "text/html": [
       "<table class=\"simpletable\">\n",
       "<caption>Logit Regression Results</caption>\n",
       "<tr>\n",
       "  <th>Dep. Variable:</th>      <td>readmitted</td>    <th>  No. Observations:  </th>  <td> 12586</td>  \n",
       "</tr>\n",
       "<tr>\n",
       "  <th>Model:</th>                 <td>Logit</td>      <th>  Df Residuals:      </th>  <td> 12580</td>  \n",
       "</tr>\n",
       "<tr>\n",
       "  <th>Method:</th>                 <td>MLE</td>       <th>  Df Model:          </th>  <td>     5</td>  \n",
       "</tr>\n",
       "<tr>\n",
       "  <th>Date:</th>            <td>Fri, 24 Feb 2023</td> <th>  Pseudo R-squ.:     </th>  <td>0.02686</td> \n",
       "</tr>\n",
       "<tr>\n",
       "  <th>Time:</th>                <td>00:54:09</td>     <th>  Log-Likelihood:    </th> <td> -8489.7</td> \n",
       "</tr>\n",
       "<tr>\n",
       "  <th>converged:</th>             <td>True</td>       <th>  LL-Null:           </th> <td> -8724.0</td> \n",
       "</tr>\n",
       "<tr>\n",
       "  <th>Covariance Type:</th>     <td>nonrobust</td>    <th>  LLR p-value:       </th> <td>4.789e-99</td>\n",
       "</tr>\n",
       "</table>\n",
       "<table class=\"simpletable\">\n",
       "<tr>\n",
       "                 <td></td>                    <th>coef</th>     <th>std err</th>      <th>z</th>      <th>P>|z|</th>  <th>[0.025</th>    <th>0.975]</th>  \n",
       "</tr>\n",
       "<tr>\n",
       "  <th>Intercept</th>                       <td>   -1.0462</td> <td>    0.085</td> <td>  -12.245</td> <td> 0.000</td> <td>   -1.214</td> <td>   -0.879</td>\n",
       "</tr>\n",
       "<tr>\n",
       "  <th>num_of_changes</th>                  <td>    0.1460</td> <td>    0.073</td> <td>    1.989</td> <td> 0.047</td> <td>    0.002</td> <td>    0.290</td>\n",
       "</tr>\n",
       "<tr>\n",
       "  <th>time_in_hospital</th>                <td>    0.0623</td> <td>    0.007</td> <td>    8.469</td> <td> 0.000</td> <td>    0.048</td> <td>    0.077</td>\n",
       "</tr>\n",
       "<tr>\n",
       "  <th>num_of_changes:time_in_hospital</th> <td>   -0.0070</td> <td>    0.012</td> <td>   -0.574</td> <td> 0.566</td> <td>   -0.031</td> <td>    0.017</td>\n",
       "</tr>\n",
       "<tr>\n",
       "  <th>number_inpatient</th>                <td>    0.4191</td> <td>    0.030</td> <td>   14.039</td> <td> 0.000</td> <td>    0.361</td> <td>    0.478</td>\n",
       "</tr>\n",
       "<tr>\n",
       "  <th>age</th>                             <td>    0.0096</td> <td>    0.001</td> <td>    8.124</td> <td> 0.000</td> <td>    0.007</td> <td>    0.012</td>\n",
       "</tr>\n",
       "</table>"
      ],
      "text/plain": [
       "<class 'statsmodels.iolib.summary.Summary'>\n",
       "\"\"\"\n",
       "                           Logit Regression Results                           \n",
       "==============================================================================\n",
       "Dep. Variable:             readmitted   No. Observations:                12586\n",
       "Model:                          Logit   Df Residuals:                    12580\n",
       "Method:                           MLE   Df Model:                            5\n",
       "Date:                Fri, 24 Feb 2023   Pseudo R-squ.:                 0.02686\n",
       "Time:                        00:54:09   Log-Likelihood:                -8489.7\n",
       "converged:                       True   LL-Null:                       -8724.0\n",
       "Covariance Type:            nonrobust   LLR p-value:                 4.789e-99\n",
       "===================================================================================================\n",
       "                                      coef    std err          z      P>|z|      [0.025      0.975]\n",
       "---------------------------------------------------------------------------------------------------\n",
       "Intercept                          -1.0462      0.085    -12.245      0.000      -1.214      -0.879\n",
       "num_of_changes                      0.1460      0.073      1.989      0.047       0.002       0.290\n",
       "time_in_hospital                    0.0623      0.007      8.469      0.000       0.048       0.077\n",
       "num_of_changes:time_in_hospital    -0.0070      0.012     -0.574      0.566      -0.031       0.017\n",
       "number_inpatient                    0.4191      0.030     14.039      0.000       0.361       0.478\n",
       "age                                 0.0096      0.001      8.124      0.000       0.007       0.012\n",
       "===================================================================================================\n",
       "\"\"\""
      ]
     },
     "execution_count": 109,
     "metadata": {},
     "output_type": "execute_result"
    }
   ],
   "source": [
    "alt_interaction_model = sm.logit('readmitted ~ num_of_changes*time_in_hospital + number_inpatient + age', train1).fit()\n",
    "alt_interaction_model.summary()"
   ]
  },
  {
   "attachments": {},
   "cell_type": "markdown",
   "metadata": {},
   "source": [
    "Model 2.1 -- Making each `time_in_hospital` group its own predictor"
   ]
  },
  {
   "cell_type": "code",
   "execution_count": 231,
   "metadata": {},
   "outputs": [
    {
     "data": {
      "text/plain": [
       "'readmitted ~ time_in_hospital1 + time_in_hospital2 + time_in_hospital3 + time_in_hospital4 + time_in_hospital5 + time_in_hospital6 + time_in_hospital7 + time_in_hospital8 + time_in_hospital9 + time_in_hospital10 + time_in_hospital11 + time_in_hospital12 + time_in_hospital13 + num_of_changes + number_inpatient'"
      ]
     },
     "execution_count": 231,
     "metadata": {},
     "output_type": "execute_result"
    }
   ],
   "source": [
    "form = 'readmitted ~ ' + ' + '.join(vars[1][:-1]) + ' + num_of_changes + number_inpatient'\n",
    "form"
   ]
  },
  {
   "cell_type": "code",
   "execution_count": 232,
   "metadata": {},
   "outputs": [
    {
     "name": "stdout",
     "output_type": "stream",
     "text": [
      "Optimization terminated successfully.\n",
      "         Current function value: 0.675635\n",
      "         Iterations 5\n"
     ]
    },
    {
     "data": {
      "text/html": [
       "<table class=\"simpletable\">\n",
       "<caption>Logit Regression Results</caption>\n",
       "<tr>\n",
       "  <th>Dep. Variable:</th>      <td>readmitted</td>    <th>  No. Observations:  </th>  <td> 12586</td>  \n",
       "</tr>\n",
       "<tr>\n",
       "  <th>Model:</th>                 <td>Logit</td>      <th>  Df Residuals:      </th>  <td> 12570</td>  \n",
       "</tr>\n",
       "<tr>\n",
       "  <th>Method:</th>                 <td>MLE</td>       <th>  Df Model:          </th>  <td>    15</td>  \n",
       "</tr>\n",
       "<tr>\n",
       "  <th>Date:</th>            <td>Fri, 24 Feb 2023</td> <th>  Pseudo R-squ.:     </th>  <td>0.02527</td> \n",
       "</tr>\n",
       "<tr>\n",
       "  <th>Time:</th>                <td>15:15:16</td>     <th>  Log-Likelihood:    </th> <td> -8503.5</td> \n",
       "</tr>\n",
       "<tr>\n",
       "  <th>converged:</th>             <td>True</td>       <th>  LL-Null:           </th> <td> -8724.0</td> \n",
       "</tr>\n",
       "<tr>\n",
       "  <th>Covariance Type:</th>     <td>nonrobust</td>    <th>  LLR p-value:       </th> <td>1.771e-84</td>\n",
       "</tr>\n",
       "</table>\n",
       "<table class=\"simpletable\">\n",
       "<tr>\n",
       "           <td></td>             <th>coef</th>     <th>std err</th>      <th>z</th>      <th>P>|z|</th>  <th>[0.025</th>    <th>0.975]</th>  \n",
       "</tr>\n",
       "<tr>\n",
       "  <th>Intercept</th>          <td>    0.0969</td> <td>    0.182</td> <td>    0.533</td> <td> 0.594</td> <td>   -0.259</td> <td>    0.453</td>\n",
       "</tr>\n",
       "<tr>\n",
       "  <th>time_in_hospital1</th>  <td>   -0.5854</td> <td>    0.188</td> <td>   -3.117</td> <td> 0.002</td> <td>   -0.953</td> <td>   -0.217</td>\n",
       "</tr>\n",
       "<tr>\n",
       "  <th>time_in_hospital2</th>  <td>   -0.4226</td> <td>    0.186</td> <td>   -2.268</td> <td> 0.023</td> <td>   -0.788</td> <td>   -0.057</td>\n",
       "</tr>\n",
       "<tr>\n",
       "  <th>time_in_hospital3</th>  <td>   -0.2688</td> <td>    0.186</td> <td>   -1.443</td> <td> 0.149</td> <td>   -0.634</td> <td>    0.096</td>\n",
       "</tr>\n",
       "<tr>\n",
       "  <th>time_in_hospital4</th>  <td>   -0.2178</td> <td>    0.188</td> <td>   -1.161</td> <td> 0.246</td> <td>   -0.585</td> <td>    0.150</td>\n",
       "</tr>\n",
       "<tr>\n",
       "  <th>time_in_hospital5</th>  <td>   -0.0858</td> <td>    0.190</td> <td>   -0.452</td> <td> 0.651</td> <td>   -0.458</td> <td>    0.286</td>\n",
       "</tr>\n",
       "<tr>\n",
       "  <th>time_in_hospital6</th>  <td>    0.0214</td> <td>    0.192</td> <td>    0.111</td> <td> 0.912</td> <td>   -0.355</td> <td>    0.398</td>\n",
       "</tr>\n",
       "<tr>\n",
       "  <th>time_in_hospital7</th>  <td>   -0.0343</td> <td>    0.194</td> <td>   -0.177</td> <td> 0.860</td> <td>   -0.415</td> <td>    0.346</td>\n",
       "</tr>\n",
       "<tr>\n",
       "  <th>time_in_hospital8</th>  <td>    0.1504</td> <td>    0.200</td> <td>    0.753</td> <td> 0.451</td> <td>   -0.241</td> <td>    0.542</td>\n",
       "</tr>\n",
       "<tr>\n",
       "  <th>time_in_hospital9</th>  <td>    0.2362</td> <td>    0.210</td> <td>    1.124</td> <td> 0.261</td> <td>   -0.176</td> <td>    0.648</td>\n",
       "</tr>\n",
       "<tr>\n",
       "  <th>time_in_hospital10</th> <td>    0.0860</td> <td>    0.214</td> <td>    0.401</td> <td> 0.688</td> <td>   -0.334</td> <td>    0.506</td>\n",
       "</tr>\n",
       "<tr>\n",
       "  <th>time_in_hospital11</th> <td>   -0.1203</td> <td>    0.228</td> <td>   -0.527</td> <td> 0.598</td> <td>   -0.567</td> <td>    0.327</td>\n",
       "</tr>\n",
       "<tr>\n",
       "  <th>time_in_hospital12</th> <td>    0.2223</td> <td>    0.235</td> <td>    0.946</td> <td> 0.344</td> <td>   -0.238</td> <td>    0.683</td>\n",
       "</tr>\n",
       "<tr>\n",
       "  <th>time_in_hospital13</th> <td>   -0.0574</td> <td>    0.247</td> <td>   -0.232</td> <td> 0.816</td> <td>   -0.542</td> <td>    0.427</td>\n",
       "</tr>\n",
       "<tr>\n",
       "  <th>num_of_changes</th>     <td>    0.0749</td> <td>    0.038</td> <td>    1.958</td> <td> 0.050</td> <td>-5.84e-05</td> <td>    0.150</td>\n",
       "</tr>\n",
       "<tr>\n",
       "  <th>number_inpatient</th>   <td>    0.4171</td> <td>    0.030</td> <td>   13.892</td> <td> 0.000</td> <td>    0.358</td> <td>    0.476</td>\n",
       "</tr>\n",
       "</table>"
      ],
      "text/plain": [
       "<class 'statsmodels.iolib.summary.Summary'>\n",
       "\"\"\"\n",
       "                           Logit Regression Results                           \n",
       "==============================================================================\n",
       "Dep. Variable:             readmitted   No. Observations:                12586\n",
       "Model:                          Logit   Df Residuals:                    12570\n",
       "Method:                           MLE   Df Model:                           15\n",
       "Date:                Fri, 24 Feb 2023   Pseudo R-squ.:                 0.02527\n",
       "Time:                        15:15:16   Log-Likelihood:                -8503.5\n",
       "converged:                       True   LL-Null:                       -8724.0\n",
       "Covariance Type:            nonrobust   LLR p-value:                 1.771e-84\n",
       "======================================================================================\n",
       "                         coef    std err          z      P>|z|      [0.025      0.975]\n",
       "--------------------------------------------------------------------------------------\n",
       "Intercept              0.0969      0.182      0.533      0.594      -0.259       0.453\n",
       "time_in_hospital1     -0.5854      0.188     -3.117      0.002      -0.953      -0.217\n",
       "time_in_hospital2     -0.4226      0.186     -2.268      0.023      -0.788      -0.057\n",
       "time_in_hospital3     -0.2688      0.186     -1.443      0.149      -0.634       0.096\n",
       "time_in_hospital4     -0.2178      0.188     -1.161      0.246      -0.585       0.150\n",
       "time_in_hospital5     -0.0858      0.190     -0.452      0.651      -0.458       0.286\n",
       "time_in_hospital6      0.0214      0.192      0.111      0.912      -0.355       0.398\n",
       "time_in_hospital7     -0.0343      0.194     -0.177      0.860      -0.415       0.346\n",
       "time_in_hospital8      0.1504      0.200      0.753      0.451      -0.241       0.542\n",
       "time_in_hospital9      0.2362      0.210      1.124      0.261      -0.176       0.648\n",
       "time_in_hospital10     0.0860      0.214      0.401      0.688      -0.334       0.506\n",
       "time_in_hospital11    -0.1203      0.228     -0.527      0.598      -0.567       0.327\n",
       "time_in_hospital12     0.2223      0.235      0.946      0.344      -0.238       0.683\n",
       "time_in_hospital13    -0.0574      0.247     -0.232      0.816      -0.542       0.427\n",
       "num_of_changes         0.0749      0.038      1.958      0.050   -5.84e-05       0.150\n",
       "number_inpatient       0.4171      0.030     13.892      0.000       0.358       0.476\n",
       "======================================================================================\n",
       "\"\"\""
      ]
     },
     "execution_count": 232,
     "metadata": {},
     "output_type": "execute_result"
    }
   ],
   "source": [
    "alt_interaction_model_timepred = sm.logit(formula = form, data = train1_dummy).fit() \n",
    "alt_interaction_model_timepred.summary()"
   ]
  },
  {
   "cell_type": "code",
   "execution_count": 233,
   "metadata": {},
   "outputs": [
    {
     "name": "stdout",
     "output_type": "stream",
     "text": [
      "Classification accuracy = 57.4%\n",
      "Precision = 58.0%\n",
      "TPR or Recall = 53.5%\n",
      "FNR = 46.5%\n",
      "FPR = 38.8%\n",
      "ROC-AUC = 60.1%\n"
     ]
    },
    {
     "data": {
      "image/png": "[encoded data removed]",
      "text/plain": [
       "<Figure size 432x288 with 2 Axes>"
      ]
     },
     "metadata": {
      "needs_background": "light"
     },
     "output_type": "display_data"
    }
   ],
   "source": [
    "confusion_matrix_data(train1_dummy, train1_dummy.readmitted, alt_interaction_model_timepred, cutoff=0.5)"
   ]
  },
  {
   "cell_type": "code",
   "execution_count": 237,
   "metadata": {},
   "outputs": [
    {
     "data": {
      "text/plain": [
       "1    6293\n",
       "0    6293\n",
       "Name: readmitted, dtype: int64"
      ]
     },
     "execution_count": 237,
     "metadata": {},
     "output_type": "execute_result"
    }
   ],
   "source": [
    "train1_dummy.shape[0]\n",
    "train1_dummy.readmitted.value_counts()"
   ]
  },
  {
   "cell_type": "code",
   "execution_count": 238,
   "metadata": {},
   "outputs": [
    {
     "data": {
      "text/plain": [
       "0    12993\n",
       "1     1311\n",
       "Name: readmitted, dtype: int64"
      ]
     },
     "execution_count": 238,
     "metadata": {},
     "output_type": "execute_result"
    }
   ],
   "source": [
    "test_dummy.shape[0]\n",
    "test_dummy.readmitted.value_counts()"
   ]
  },
  {
   "cell_type": "code",
   "execution_count": 234,
   "metadata": {},
   "outputs": [
    {
     "name": "stdout",
     "output_type": "stream",
     "text": [
      "Classification accuracy = 59.5%\n",
      "Precision = 12.2%\n",
      "TPR or Recall = 55.3%\n",
      "FNR = 44.7%\n",
      "FPR = 40.0%\n",
      "ROC-AUC = 59.8%\n"
     ]
    },
    {
     "data": {
      "image/png": "[encoded data removed]",
      "text/plain": [
       "<Figure size 432x288 with 2 Axes>"
      ]
     },
     "metadata": {
      "needs_background": "light"
     },
     "output_type": "display_data"
    }
   ],
   "source": [
    "confusion_matrix_data(test_dummy, test_dummy.readmitted, alt_interaction_model_timepred, cutoff=0.5)"
   ]
  },
  {
   "attachments": {},
   "cell_type": "markdown",
   "metadata": {},
   "source": [
    "Model 2.2: making `time_in_hospital` its own predictor, adding interaction between `time_in_hospital` and `num_of_changes`"
   ]
  },
  {
   "cell_type": "code",
   "execution_count": 193,
   "metadata": {},
   "outputs": [
    {
     "data": {
      "text/plain": [
       "'readmitted ~ num_of_changes*time_in_hospital1 + num_of_changes*time_in_hospital2 + num_of_changes*time_in_hospital3 + num_of_changes*time_in_hospital4 + num_of_changes*time_in_hospital5 + num_of_changes*time_in_hospital6 + num_of_changes*time_in_hospital7 + num_of_changes*time_in_hospital8 + num_of_changes*time_in_hospital9 + num_of_changes*time_in_hospital10 + num_of_changes*time_in_hospital11 + num_of_changes*time_in_hospital12 + num_of_changes*time_in_hospital13 + num_of_changes*time_in_hospital14'"
      ]
     },
     "execution_count": 193,
     "metadata": {},
     "output_type": "execute_result"
    }
   ],
   "source": [
    "form = 'readmitted ~ num_of_changes*{}'.format('num_of_changes*'.join([(x + \" + \") for x in vars[1][:-1]]) + 'num_of_changes*time_in_hospital14')\n",
    "form"
   ]
  },
  {
   "cell_type": "code",
   "execution_count": 194,
   "metadata": {},
   "outputs": [
    {
     "name": "stdout",
     "output_type": "stream",
     "text": [
      "Warning: Maximum number of iterations has been exceeded.\n",
      "         Current function value: 0.684399\n",
      "         Iterations: 35\n"
     ]
    },
    {
     "name": "stderr",
     "output_type": "stream",
     "text": [
      "/Users/amywang/opt/anaconda3/lib/python3.9/site-packages/statsmodels/base/model.py:604: ConvergenceWarning: Maximum Likelihood optimization failed to converge. Check mle_retvals\n",
      "  warnings.warn(\"Maximum Likelihood optimization failed to \"\n"
     ]
    },
    {
     "data": {
      "text/html": [
       "<table class=\"simpletable\">\n",
       "<caption>Logit Regression Results</caption>\n",
       "<tr>\n",
       "  <th>Dep. Variable:</th>      <td>readmitted</td>    <th>  No. Observations:  </th>  <td> 12586</td>  \n",
       "</tr>\n",
       "<tr>\n",
       "  <th>Model:</th>                 <td>Logit</td>      <th>  Df Residuals:      </th>  <td> 12558</td>  \n",
       "</tr>\n",
       "<tr>\n",
       "  <th>Method:</th>                 <td>MLE</td>       <th>  Df Model:          </th>  <td>    27</td>  \n",
       "</tr>\n",
       "<tr>\n",
       "  <th>Date:</th>            <td>Fri, 24 Feb 2023</td> <th>  Pseudo R-squ.:     </th>  <td>0.01262</td> \n",
       "</tr>\n",
       "<tr>\n",
       "  <th>Time:</th>                <td>01:47:40</td>     <th>  Log-Likelihood:    </th> <td> -8613.8</td> \n",
       "</tr>\n",
       "<tr>\n",
       "  <th>converged:</th>             <td>False</td>      <th>  LL-Null:           </th> <td> -8724.0</td> \n",
       "</tr>\n",
       "<tr>\n",
       "  <th>Covariance Type:</th>     <td>nonrobust</td>    <th>  LLR p-value:       </th> <td>3.325e-32</td>\n",
       "</tr>\n",
       "</table>\n",
       "<table class=\"simpletable\">\n",
       "<tr>\n",
       "                  <td></td>                     <th>coef</th>     <th>std err</th>      <th>z</th>      <th>P>|z|</th>  <th>[0.025</th>    <th>0.975]</th>  \n",
       "</tr>\n",
       "<tr>\n",
       "  <th>Intercept</th>                         <td>    0.1000</td> <td> 5.44e+05</td> <td> 1.84e-07</td> <td> 1.000</td> <td>-1.07e+06</td> <td> 1.07e+06</td>\n",
       "</tr>\n",
       "<tr>\n",
       "  <th>num_of_changes</th>                    <td>    0.1318</td> <td>      nan</td> <td>      nan</td> <td>   nan</td> <td>      nan</td> <td>      nan</td>\n",
       "</tr>\n",
       "<tr>\n",
       "  <th>time_in_hospital1</th>                 <td>   -0.5419</td> <td> 5.44e+05</td> <td>-9.97e-07</td> <td> 1.000</td> <td>-1.07e+06</td> <td> 1.07e+06</td>\n",
       "</tr>\n",
       "<tr>\n",
       "  <th>num_of_changes:time_in_hospital1</th>  <td>    0.1137</td> <td>      nan</td> <td>      nan</td> <td>   nan</td> <td>      nan</td> <td>      nan</td>\n",
       "</tr>\n",
       "<tr>\n",
       "  <th>time_in_hospital2</th>                 <td>   -0.3734</td> <td> 5.44e+05</td> <td>-6.87e-07</td> <td> 1.000</td> <td>-1.07e+06</td> <td> 1.07e+06</td>\n",
       "</tr>\n",
       "<tr>\n",
       "  <th>num_of_changes:time_in_hospital2</th>  <td>    0.0912</td> <td>      nan</td> <td>      nan</td> <td>   nan</td> <td>      nan</td> <td>      nan</td>\n",
       "</tr>\n",
       "<tr>\n",
       "  <th>time_in_hospital3</th>                 <td>   -0.1437</td> <td> 5.44e+05</td> <td>-2.64e-07</td> <td> 1.000</td> <td>-1.07e+06</td> <td> 1.07e+06</td>\n",
       "</tr>\n",
       "<tr>\n",
       "  <th>num_of_changes:time_in_hospital3</th>  <td>   -0.1899</td> <td>      nan</td> <td>      nan</td> <td>   nan</td> <td>      nan</td> <td>      nan</td>\n",
       "</tr>\n",
       "<tr>\n",
       "  <th>time_in_hospital4</th>                 <td>   -0.1309</td> <td> 5.44e+05</td> <td>-2.41e-07</td> <td> 1.000</td> <td>-1.07e+06</td> <td> 1.07e+06</td>\n",
       "</tr>\n",
       "<tr>\n",
       "  <th>num_of_changes:time_in_hospital4</th>  <td>   -0.0237</td> <td>      nan</td> <td>      nan</td> <td>   nan</td> <td>      nan</td> <td>      nan</td>\n",
       "</tr>\n",
       "<tr>\n",
       "  <th>time_in_hospital5</th>                 <td>    0.0385</td> <td> 5.44e+05</td> <td> 7.09e-08</td> <td> 1.000</td> <td>-1.07e+06</td> <td> 1.07e+06</td>\n",
       "</tr>\n",
       "<tr>\n",
       "  <th>num_of_changes:time_in_hospital5</th>  <td>   -0.1416</td> <td>      nan</td> <td>      nan</td> <td>   nan</td> <td>      nan</td> <td>      nan</td>\n",
       "</tr>\n",
       "<tr>\n",
       "  <th>time_in_hospital6</th>                 <td>    0.1478</td> <td> 5.44e+05</td> <td> 2.72e-07</td> <td> 1.000</td> <td>-1.07e+06</td> <td> 1.07e+06</td>\n",
       "</tr>\n",
       "<tr>\n",
       "  <th>num_of_changes:time_in_hospital6</th>  <td>   -0.1042</td> <td>      nan</td> <td>      nan</td> <td>   nan</td> <td>      nan</td> <td>      nan</td>\n",
       "</tr>\n",
       "<tr>\n",
       "  <th>time_in_hospital7</th>                 <td>    0.1772</td> <td> 5.44e+05</td> <td> 3.26e-07</td> <td> 1.000</td> <td>-1.07e+06</td> <td> 1.07e+06</td>\n",
       "</tr>\n",
       "<tr>\n",
       "  <th>num_of_changes:time_in_hospital7</th>  <td>   -0.3500</td> <td>      nan</td> <td>      nan</td> <td>   nan</td> <td>      nan</td> <td>      nan</td>\n",
       "</tr>\n",
       "<tr>\n",
       "  <th>time_in_hospital8</th>                 <td>    0.3623</td> <td> 5.44e+05</td> <td> 6.66e-07</td> <td> 1.000</td> <td>-1.07e+06</td> <td> 1.07e+06</td>\n",
       "</tr>\n",
       "<tr>\n",
       "  <th>num_of_changes:time_in_hospital8</th>  <td>   -0.3422</td> <td>      nan</td> <td>      nan</td> <td>   nan</td> <td>      nan</td> <td>      nan</td>\n",
       "</tr>\n",
       "<tr>\n",
       "  <th>time_in_hospital9</th>                 <td>    0.3369</td> <td> 5.44e+05</td> <td>  6.2e-07</td> <td> 1.000</td> <td>-1.07e+06</td> <td> 1.07e+06</td>\n",
       "</tr>\n",
       "<tr>\n",
       "  <th>num_of_changes:time_in_hospital9</th>  <td>    0.0329</td> <td>      nan</td> <td>      nan</td> <td>   nan</td> <td>      nan</td> <td>      nan</td>\n",
       "</tr>\n",
       "<tr>\n",
       "  <th>time_in_hospital10</th>                <td>    0.0230</td> <td> 5.44e+05</td> <td> 4.23e-08</td> <td> 1.000</td> <td>-1.07e+06</td> <td> 1.07e+06</td>\n",
       "</tr>\n",
       "<tr>\n",
       "  <th>num_of_changes:time_in_hospital10</th> <td>    0.4052</td> <td>      nan</td> <td>      nan</td> <td>   nan</td> <td>      nan</td> <td>      nan</td>\n",
       "</tr>\n",
       "<tr>\n",
       "  <th>time_in_hospital11</th>                <td>   -0.1435</td> <td> 5.44e+05</td> <td>-2.64e-07</td> <td> 1.000</td> <td>-1.07e+06</td> <td> 1.07e+06</td>\n",
       "</tr>\n",
       "<tr>\n",
       "  <th>num_of_changes:time_in_hospital11</th> <td>    0.3798</td> <td>      nan</td> <td>      nan</td> <td>   nan</td> <td>      nan</td> <td>      nan</td>\n",
       "</tr>\n",
       "<tr>\n",
       "  <th>time_in_hospital12</th>                <td>    0.2659</td> <td> 5.44e+05</td> <td> 4.89e-07</td> <td> 1.000</td> <td>-1.07e+06</td> <td> 1.07e+06</td>\n",
       "</tr>\n",
       "<tr>\n",
       "  <th>num_of_changes:time_in_hospital12</th> <td>    0.0390</td> <td>      nan</td> <td>      nan</td> <td>   nan</td> <td>      nan</td> <td>      nan</td>\n",
       "</tr>\n",
       "<tr>\n",
       "  <th>time_in_hospital13</th>                <td>   -0.0897</td> <td> 5.44e+05</td> <td>-1.65e-07</td> <td> 1.000</td> <td>-1.07e+06</td> <td> 1.07e+06</td>\n",
       "</tr>\n",
       "<tr>\n",
       "  <th>num_of_changes:time_in_hospital13</th> <td>    0.2911</td> <td>      nan</td> <td>      nan</td> <td>   nan</td> <td>      nan</td> <td>      nan</td>\n",
       "</tr>\n",
       "<tr>\n",
       "  <th>time_in_hospital14</th>                <td>    0.1712</td> <td> 5.44e+05</td> <td> 3.15e-07</td> <td> 1.000</td> <td>-1.07e+06</td> <td> 1.07e+06</td>\n",
       "</tr>\n",
       "<tr>\n",
       "  <th>num_of_changes:time_in_hospital14</th> <td>   -0.0694</td> <td>      nan</td> <td>      nan</td> <td>   nan</td> <td>      nan</td> <td>      nan</td>\n",
       "</tr>\n",
       "</table>"
      ],
      "text/plain": [
       "<class 'statsmodels.iolib.summary.Summary'>\n",
       "\"\"\"\n",
       "                           Logit Regression Results                           \n",
       "==============================================================================\n",
       "Dep. Variable:             readmitted   No. Observations:                12586\n",
       "Model:                          Logit   Df Residuals:                    12558\n",
       "Method:                           MLE   Df Model:                           27\n",
       "Date:                Fri, 24 Feb 2023   Pseudo R-squ.:                 0.01262\n",
       "Time:                        01:47:40   Log-Likelihood:                -8613.8\n",
       "converged:                      False   LL-Null:                       -8724.0\n",
       "Covariance Type:            nonrobust   LLR p-value:                 3.325e-32\n",
       "=====================================================================================================\n",
       "                                        coef    std err          z      P>|z|      [0.025      0.975]\n",
       "-----------------------------------------------------------------------------------------------------\n",
       "Intercept                             0.1000   5.44e+05   1.84e-07      1.000   -1.07e+06    1.07e+06\n",
       "num_of_changes                        0.1318        nan        nan        nan         nan         nan\n",
       "time_in_hospital1                    -0.5419   5.44e+05  -9.97e-07      1.000   -1.07e+06    1.07e+06\n",
       "num_of_changes:time_in_hospital1      0.1137        nan        nan        nan         nan         nan\n",
       "time_in_hospital2                    -0.3734   5.44e+05  -6.87e-07      1.000   -1.07e+06    1.07e+06\n",
       "num_of_changes:time_in_hospital2      0.0912        nan        nan        nan         nan         nan\n",
       "time_in_hospital3                    -0.1437   5.44e+05  -2.64e-07      1.000   -1.07e+06    1.07e+06\n",
       "num_of_changes:time_in_hospital3     -0.1899        nan        nan        nan         nan         nan\n",
       "time_in_hospital4                    -0.1309   5.44e+05  -2.41e-07      1.000   -1.07e+06    1.07e+06\n",
       "num_of_changes:time_in_hospital4     -0.0237        nan        nan        nan         nan         nan\n",
       "time_in_hospital5                     0.0385   5.44e+05   7.09e-08      1.000   -1.07e+06    1.07e+06\n",
       "num_of_changes:time_in_hospital5     -0.1416        nan        nan        nan         nan         nan\n",
       "time_in_hospital6                     0.1478   5.44e+05   2.72e-07      1.000   -1.07e+06    1.07e+06\n",
       "num_of_changes:time_in_hospital6     -0.1042        nan        nan        nan         nan         nan\n",
       "time_in_hospital7                     0.1772   5.44e+05   3.26e-07      1.000   -1.07e+06    1.07e+06\n",
       "num_of_changes:time_in_hospital7     -0.3500        nan        nan        nan         nan         nan\n",
       "time_in_hospital8                     0.3623   5.44e+05   6.66e-07      1.000   -1.07e+06    1.07e+06\n",
       "num_of_changes:time_in_hospital8     -0.3422        nan        nan        nan         nan         nan\n",
       "time_in_hospital9                     0.3369   5.44e+05    6.2e-07      1.000   -1.07e+06    1.07e+06\n",
       "num_of_changes:time_in_hospital9      0.0329        nan        nan        nan         nan         nan\n",
       "time_in_hospital10                    0.0230   5.44e+05   4.23e-08      1.000   -1.07e+06    1.07e+06\n",
       "num_of_changes:time_in_hospital10     0.4052        nan        nan        nan         nan         nan\n",
       "time_in_hospital11                   -0.1435   5.44e+05  -2.64e-07      1.000   -1.07e+06    1.07e+06\n",
       "num_of_changes:time_in_hospital11     0.3798        nan        nan        nan         nan         nan\n",
       "time_in_hospital12                    0.2659   5.44e+05   4.89e-07      1.000   -1.07e+06    1.07e+06\n",
       "num_of_changes:time_in_hospital12     0.0390        nan        nan        nan         nan         nan\n",
       "time_in_hospital13                   -0.0897   5.44e+05  -1.65e-07      1.000   -1.07e+06    1.07e+06\n",
       "num_of_changes:time_in_hospital13     0.2911        nan        nan        nan         nan         nan\n",
       "time_in_hospital14                    0.1712   5.44e+05   3.15e-07      1.000   -1.07e+06    1.07e+06\n",
       "num_of_changes:time_in_hospital14    -0.0694        nan        nan        nan         nan         nan\n",
       "=====================================================================================================\n",
       "\"\"\""
      ]
     },
     "execution_count": 194,
     "metadata": {},
     "output_type": "execute_result"
    }
   ],
   "source": [
    "alt_interaction_model_timepred_interact = sm.logit(formula = form, data = train1_dummy).fit() \n",
    "alt_interaction_model_timepred_interact.summary()"
   ]
  },
  {
   "cell_type": "code",
   "execution_count": 195,
   "metadata": {},
   "outputs": [
    {
     "name": "stdout",
     "output_type": "stream",
     "text": [
      "Classification accuracy = 55.1%\n",
      "Precision = 56.1%\n",
      "TPR or Recall = 47.1%\n",
      "FNR = 52.9%\n",
      "FPR = 36.9%\n",
      "ROC-AUC = 57.4%\n"
     ]
    },
    {
     "data": {
      "image/png": "[encoded data removed]",
      "text/plain": [
       "<Figure size 432x288 with 2 Axes>"
      ]
     },
     "metadata": {
      "needs_background": "light"
     },
     "output_type": "display_data"
    }
   ],
   "source": [
    "confusion_matrix_data(train1_dummy, train1_dummy.readmitted, alt_interaction_model_timepred_interact, cutoff=0.5)"
   ]
  },
  {
   "cell_type": "code",
   "execution_count": 196,
   "metadata": {},
   "outputs": [
    {
     "name": "stdout",
     "output_type": "stream",
     "text": [
      "Classification accuracy = 60.9%\n",
      "Precision = 11.4%\n",
      "TPR or Recall = 48.1%\n",
      "FNR = 51.9%\n",
      "FPR = 37.8%\n",
      "ROC-AUC = 56.7%\n"
     ]
    },
    {
     "data": {
      "image/png": "[encoded data removed]",
      "text/plain": [
       "<Figure size 432x288 with 2 Axes>"
      ]
     },
     "metadata": {
      "needs_background": "light"
     },
     "output_type": "display_data"
    }
   ],
   "source": [
    "confusion_matrix_data(test_dummy, test_dummy.readmitted, alt_interaction_model_timepred_interact, cutoff=0.5)"
   ]
  },
  {
   "attachments": {},
   "cell_type": "markdown",
   "metadata": {},
   "source": [
    "This model is decent at predicting true negatives."
   ]
  },
  {
   "attachments": {},
   "cell_type": "markdown",
   "metadata": {},
   "source": [
    "Model 2.3: making both `time_in_hospital` and `age` values their own predictors\n"
   ]
  },
  {
   "cell_type": "code",
   "execution_count": 185,
   "metadata": {},
   "outputs": [
    {
     "data": {
      "text/plain": [
       "'readmitted ~ time_in_hospital1 + time_in_hospital2 + time_in_hospital3 + time_in_hospital4 + time_in_hospital5 + time_in_hospital6 + time_in_hospital7 + time_in_hospital8 + time_in_hospital9 + time_in_hospital10 + time_in_hospital11 + time_in_hospital12 + time_in_hospital13 + time_in_hospital14 + num_of_changes + number_inpatient + age5 + age15 + age25 + age35 + age45 + age55 + age65 + age75 + age85 + age95'"
      ]
     },
     "execution_count": 185,
     "metadata": {},
     "output_type": "execute_result"
    }
   ],
   "source": [
    "form = 'readmitted ~ ' + ' + '.join(vars[1]) + ' + num_of_changes + number_inpatient + ' + ' + '.join(vars[0])\n",
    "form"
   ]
  },
  {
   "cell_type": "code",
   "execution_count": 186,
   "metadata": {},
   "outputs": [
    {
     "name": "stdout",
     "output_type": "stream",
     "text": [
      "Optimization terminated successfully.\n",
      "         Current function value: 0.672479\n",
      "         Iterations 7\n"
     ]
    },
    {
     "data": {
      "text/html": [
       "<table class=\"simpletable\">\n",
       "<caption>Logit Regression Results</caption>\n",
       "<tr>\n",
       "  <th>Dep. Variable:</th>      <td>readmitted</td>    <th>  No. Observations:  </th>  <td> 12586</td>  \n",
       "</tr>\n",
       "<tr>\n",
       "  <th>Model:</th>                 <td>Logit</td>      <th>  Df Residuals:      </th>  <td> 12560</td>  \n",
       "</tr>\n",
       "<tr>\n",
       "  <th>Method:</th>                 <td>MLE</td>       <th>  Df Model:          </th>  <td>    25</td>  \n",
       "</tr>\n",
       "<tr>\n",
       "  <th>Date:</th>            <td>Fri, 24 Feb 2023</td> <th>  Pseudo R-squ.:     </th>  <td>0.02982</td> \n",
       "</tr>\n",
       "<tr>\n",
       "  <th>Time:</th>                <td>01:40:48</td>     <th>  Log-Likelihood:    </th> <td> -8463.8</td> \n",
       "</tr>\n",
       "<tr>\n",
       "  <th>converged:</th>             <td>True</td>       <th>  LL-Null:           </th> <td> -8724.0</td> \n",
       "</tr>\n",
       "<tr>\n",
       "  <th>Covariance Type:</th>     <td>nonrobust</td>    <th>  LLR p-value:       </th> <td>4.845e-94</td>\n",
       "</tr>\n",
       "</table>\n",
       "<table class=\"simpletable\">\n",
       "<tr>\n",
       "           <td></td>             <th>coef</th>     <th>std err</th>      <th>z</th>      <th>P>|z|</th>  <th>[0.025</th>    <th>0.975]</th>  \n",
       "</tr>\n",
       "<tr>\n",
       "  <th>Intercept</th>          <td>   -0.2059</td> <td> 1.07e+06</td> <td>-1.93e-07</td> <td> 1.000</td> <td>-2.09e+06</td> <td> 2.09e+06</td>\n",
       "</tr>\n",
       "<tr>\n",
       "  <th>time_in_hospital1</th>  <td>   -0.4697</td> <td> 1.76e+05</td> <td>-2.67e-06</td> <td> 1.000</td> <td>-3.45e+05</td> <td> 3.45e+05</td>\n",
       "</tr>\n",
       "<tr>\n",
       "  <th>time_in_hospital2</th>  <td>   -0.3197</td> <td> 1.66e+05</td> <td>-1.93e-06</td> <td> 1.000</td> <td>-3.25e+05</td> <td> 3.25e+05</td>\n",
       "</tr>\n",
       "<tr>\n",
       "  <th>time_in_hospital3</th>  <td>   -0.1891</td> <td> 1.81e+05</td> <td>-1.05e-06</td> <td> 1.000</td> <td>-3.54e+05</td> <td> 3.54e+05</td>\n",
       "</tr>\n",
       "<tr>\n",
       "  <th>time_in_hospital4</th>  <td>   -0.1519</td> <td> 1.71e+05</td> <td> -8.9e-07</td> <td> 1.000</td> <td>-3.34e+05</td> <td> 3.34e+05</td>\n",
       "</tr>\n",
       "<tr>\n",
       "  <th>time_in_hospital5</th>  <td>   -0.0301</td> <td> 1.83e+05</td> <td>-1.65e-07</td> <td> 1.000</td> <td>-3.58e+05</td> <td> 3.58e+05</td>\n",
       "</tr>\n",
       "<tr>\n",
       "  <th>time_in_hospital6</th>  <td>    0.0776</td> <td> 2.06e+05</td> <td> 3.77e-07</td> <td> 1.000</td> <td>-4.03e+05</td> <td> 4.03e+05</td>\n",
       "</tr>\n",
       "<tr>\n",
       "  <th>time_in_hospital7</th>  <td>    0.0164</td> <td> 1.74e+05</td> <td> 9.42e-08</td> <td> 1.000</td> <td>-3.42e+05</td> <td> 3.42e+05</td>\n",
       "</tr>\n",
       "<tr>\n",
       "  <th>time_in_hospital8</th>  <td>    0.1959</td> <td> 1.85e+05</td> <td> 1.06e-06</td> <td> 1.000</td> <td>-3.62e+05</td> <td> 3.62e+05</td>\n",
       "</tr>\n",
       "<tr>\n",
       "  <th>time_in_hospital9</th>  <td>    0.2859</td> <td> 1.67e+05</td> <td> 1.71e-06</td> <td> 1.000</td> <td>-3.27e+05</td> <td> 3.27e+05</td>\n",
       "</tr>\n",
       "<tr>\n",
       "  <th>time_in_hospital10</th> <td>    0.1465</td> <td>  1.7e+05</td> <td> 8.61e-07</td> <td> 1.000</td> <td>-3.34e+05</td> <td> 3.34e+05</td>\n",
       "</tr>\n",
       "<tr>\n",
       "  <th>time_in_hospital11</th> <td>   -0.0812</td> <td> 1.84e+05</td> <td>-4.42e-07</td> <td> 1.000</td> <td> -3.6e+05</td> <td>  3.6e+05</td>\n",
       "</tr>\n",
       "<tr>\n",
       "  <th>time_in_hospital12</th> <td>    0.2863</td> <td> 1.72e+05</td> <td> 1.67e-06</td> <td> 1.000</td> <td>-3.36e+05</td> <td> 3.36e+05</td>\n",
       "</tr>\n",
       "<tr>\n",
       "  <th>time_in_hospital13</th> <td>   -0.0096</td> <td> 1.73e+05</td> <td>-5.57e-08</td> <td> 1.000</td> <td>-3.39e+05</td> <td> 3.39e+05</td>\n",
       "</tr>\n",
       "<tr>\n",
       "  <th>time_in_hospital14</th> <td>    0.0368</td> <td> 1.65e+05</td> <td> 2.24e-07</td> <td> 1.000</td> <td>-3.23e+05</td> <td> 3.23e+05</td>\n",
       "</tr>\n",
       "<tr>\n",
       "  <th>num_of_changes</th>     <td>    0.1011</td> <td>    0.039</td> <td>    2.619</td> <td> 0.009</td> <td>    0.025</td> <td>    0.177</td>\n",
       "</tr>\n",
       "<tr>\n",
       "  <th>number_inpatient</th>   <td>    0.4162</td> <td>    0.030</td> <td>   13.918</td> <td> 0.000</td> <td>    0.358</td> <td>    0.475</td>\n",
       "</tr>\n",
       "<tr>\n",
       "  <th>age5</th>               <td>   -0.9291</td> <td> 3.15e+05</td> <td>-2.95e-06</td> <td> 1.000</td> <td>-6.17e+05</td> <td> 6.17e+05</td>\n",
       "</tr>\n",
       "<tr>\n",
       "  <th>age15</th>              <td>   -0.4017</td> <td> 3.15e+05</td> <td>-1.28e-06</td> <td> 1.000</td> <td>-6.17e+05</td> <td> 6.17e+05</td>\n",
       "</tr>\n",
       "<tr>\n",
       "  <th>age25</th>              <td>   -0.0222</td> <td> 3.15e+05</td> <td>-7.05e-08</td> <td> 1.000</td> <td>-6.17e+05</td> <td> 6.17e+05</td>\n",
       "</tr>\n",
       "<tr>\n",
       "  <th>age35</th>              <td>   -0.0380</td> <td> 3.15e+05</td> <td>-1.21e-07</td> <td> 1.000</td> <td>-6.17e+05</td> <td> 6.17e+05</td>\n",
       "</tr>\n",
       "<tr>\n",
       "  <th>age45</th>              <td>    0.0039</td> <td> 3.15e+05</td> <td> 1.25e-08</td> <td> 1.000</td> <td>-6.17e+05</td> <td> 6.17e+05</td>\n",
       "</tr>\n",
       "<tr>\n",
       "  <th>age55</th>              <td>    0.0139</td> <td> 3.15e+05</td> <td> 4.43e-08</td> <td> 1.000</td> <td>-6.17e+05</td> <td> 6.17e+05</td>\n",
       "</tr>\n",
       "<tr>\n",
       "  <th>age65</th>              <td>    0.2489</td> <td> 3.15e+05</td> <td> 7.91e-07</td> <td> 1.000</td> <td>-6.17e+05</td> <td> 6.17e+05</td>\n",
       "</tr>\n",
       "<tr>\n",
       "  <th>age75</th>              <td>    0.3676</td> <td> 3.15e+05</td> <td> 1.17e-06</td> <td> 1.000</td> <td>-6.17e+05</td> <td> 6.17e+05</td>\n",
       "</tr>\n",
       "<tr>\n",
       "  <th>age85</th>              <td>    0.3553</td> <td> 3.15e+05</td> <td> 1.13e-06</td> <td> 1.000</td> <td>-6.17e+05</td> <td> 6.17e+05</td>\n",
       "</tr>\n",
       "<tr>\n",
       "  <th>age95</th>              <td>    0.1954</td> <td> 3.15e+05</td> <td> 6.21e-07</td> <td> 1.000</td> <td>-6.17e+05</td> <td> 6.17e+05</td>\n",
       "</tr>\n",
       "</table>"
      ],
      "text/plain": [
       "<class 'statsmodels.iolib.summary.Summary'>\n",
       "\"\"\"\n",
       "                           Logit Regression Results                           \n",
       "==============================================================================\n",
       "Dep. Variable:             readmitted   No. Observations:                12586\n",
       "Model:                          Logit   Df Residuals:                    12560\n",
       "Method:                           MLE   Df Model:                           25\n",
       "Date:                Fri, 24 Feb 2023   Pseudo R-squ.:                 0.02982\n",
       "Time:                        01:40:48   Log-Likelihood:                -8463.8\n",
       "converged:                       True   LL-Null:                       -8724.0\n",
       "Covariance Type:            nonrobust   LLR p-value:                 4.845e-94\n",
       "======================================================================================\n",
       "                         coef    std err          z      P>|z|      [0.025      0.975]\n",
       "--------------------------------------------------------------------------------------\n",
       "Intercept             -0.2059   1.07e+06  -1.93e-07      1.000   -2.09e+06    2.09e+06\n",
       "time_in_hospital1     -0.4697   1.76e+05  -2.67e-06      1.000   -3.45e+05    3.45e+05\n",
       "time_in_hospital2     -0.3197   1.66e+05  -1.93e-06      1.000   -3.25e+05    3.25e+05\n",
       "time_in_hospital3     -0.1891   1.81e+05  -1.05e-06      1.000   -3.54e+05    3.54e+05\n",
       "time_in_hospital4     -0.1519   1.71e+05   -8.9e-07      1.000   -3.34e+05    3.34e+05\n",
       "time_in_hospital5     -0.0301   1.83e+05  -1.65e-07      1.000   -3.58e+05    3.58e+05\n",
       "time_in_hospital6      0.0776   2.06e+05   3.77e-07      1.000   -4.03e+05    4.03e+05\n",
       "time_in_hospital7      0.0164   1.74e+05   9.42e-08      1.000   -3.42e+05    3.42e+05\n",
       "time_in_hospital8      0.1959   1.85e+05   1.06e-06      1.000   -3.62e+05    3.62e+05\n",
       "time_in_hospital9      0.2859   1.67e+05   1.71e-06      1.000   -3.27e+05    3.27e+05\n",
       "time_in_hospital10     0.1465    1.7e+05   8.61e-07      1.000   -3.34e+05    3.34e+05\n",
       "time_in_hospital11    -0.0812   1.84e+05  -4.42e-07      1.000    -3.6e+05     3.6e+05\n",
       "time_in_hospital12     0.2863   1.72e+05   1.67e-06      1.000   -3.36e+05    3.36e+05\n",
       "time_in_hospital13    -0.0096   1.73e+05  -5.57e-08      1.000   -3.39e+05    3.39e+05\n",
       "time_in_hospital14     0.0368   1.65e+05   2.24e-07      1.000   -3.23e+05    3.23e+05\n",
       "num_of_changes         0.1011      0.039      2.619      0.009       0.025       0.177\n",
       "number_inpatient       0.4162      0.030     13.918      0.000       0.358       0.475\n",
       "age5                  -0.9291   3.15e+05  -2.95e-06      1.000   -6.17e+05    6.17e+05\n",
       "age15                 -0.4017   3.15e+05  -1.28e-06      1.000   -6.17e+05    6.17e+05\n",
       "age25                 -0.0222   3.15e+05  -7.05e-08      1.000   -6.17e+05    6.17e+05\n",
       "age35                 -0.0380   3.15e+05  -1.21e-07      1.000   -6.17e+05    6.17e+05\n",
       "age45                  0.0039   3.15e+05   1.25e-08      1.000   -6.17e+05    6.17e+05\n",
       "age55                  0.0139   3.15e+05   4.43e-08      1.000   -6.17e+05    6.17e+05\n",
       "age65                  0.2489   3.15e+05   7.91e-07      1.000   -6.17e+05    6.17e+05\n",
       "age75                  0.3676   3.15e+05   1.17e-06      1.000   -6.17e+05    6.17e+05\n",
       "age85                  0.3553   3.15e+05   1.13e-06      1.000   -6.17e+05    6.17e+05\n",
       "age95                  0.1954   3.15e+05   6.21e-07      1.000   -6.17e+05    6.17e+05\n",
       "======================================================================================\n",
       "\"\"\""
      ]
     },
     "execution_count": 186,
     "metadata": {},
     "output_type": "execute_result"
    }
   ],
   "source": [
    "alt_interaction_model_timeagepred = sm.logit(formula = form, data = train1_dummy).fit() \n",
    "alt_interaction_model_timeagepred.summary()"
   ]
  },
  {
   "cell_type": "code",
   "execution_count": 191,
   "metadata": {},
   "outputs": [
    {
     "name": "stdout",
     "output_type": "stream",
     "text": [
      "Classification accuracy = 57.8%\n",
      "Precision = 58.6%\n",
      "TPR or Recall = 53.1%\n",
      "FNR = 46.9%\n",
      "FPR = 37.5%\n",
      "ROC-AUC = 61.2%\n"
     ]
    },
    {
     "data": {
      "image/png": "[encoded data removed]",
      "text/plain": [
       "<Figure size 432x288 with 2 Axes>"
      ]
     },
     "metadata": {
      "needs_background": "light"
     },
     "output_type": "display_data"
    }
   ],
   "source": [
    "confusion_matrix_data(train1_dummy, train1_dummy.readmitted, alt_interaction_model_timeagepred, cutoff=0.5)"
   ]
  },
  {
   "cell_type": "code",
   "execution_count": 188,
   "metadata": {},
   "outputs": [
    {
     "name": "stdout",
     "output_type": "stream",
     "text": [
      "Classification accuracy = 61.2%\n",
      "Precision = 12.6%\n",
      "TPR or Recall = 54.4%\n",
      "FNR = 45.6%\n",
      "FPR = 38.1%\n",
      "ROC-AUC = 60.7%\n"
     ]
    },
    {
     "data": {
      "image/png": "[encoded data removed]",
      "text/plain": [
       "<Figure size 432x288 with 2 Axes>"
      ]
     },
     "metadata": {
      "needs_background": "light"
     },
     "output_type": "display_data"
    }
   ],
   "source": [
    "confusion_matrix_data(test_dummy, test_dummy.readmitted, alt_interaction_model_timeagepred, cutoff=0.5)"
   ]
  },
  {
   "attachments": {},
   "cell_type": "markdown",
   "metadata": {},
   "source": [
    "#### Model 3: `readmitted ~ num_of_changes*time_in_hospital + age*time_in_hospital + number_inpatient`"
   ]
  },
  {
   "cell_type": "code",
   "execution_count": 165,
   "metadata": {},
   "outputs": [
    {
     "name": "stdout",
     "output_type": "stream",
     "text": [
      "Optimization terminated successfully.\n",
      "         Current function value: 0.674417\n",
      "         Iterations 5\n"
     ]
    }
   ],
   "source": [
    "both_interaction_model = sm.logit('readmitted ~ num_of_changes*time_in_hospital + age*time_in_hospital + number_inpatient', train1).fit()"
   ]
  },
  {
   "cell_type": "code",
   "execution_count": 216,
   "metadata": {},
   "outputs": [
    {
     "data": {
      "text/html": [
       "<table class=\"simpletable\">\n",
       "<caption>Logit Regression Results</caption>\n",
       "<tr>\n",
       "  <th>Dep. Variable:</th>      <td>readmitted</td>    <th>  No. Observations:  </th>  <td> 12586</td>  \n",
       "</tr>\n",
       "<tr>\n",
       "  <th>Model:</th>                 <td>Logit</td>      <th>  Df Residuals:      </th>  <td> 12579</td>  \n",
       "</tr>\n",
       "<tr>\n",
       "  <th>Method:</th>                 <td>MLE</td>       <th>  Df Model:          </th>  <td>     6</td>  \n",
       "</tr>\n",
       "<tr>\n",
       "  <th>Date:</th>            <td>Fri, 24 Feb 2023</td> <th>  Pseudo R-squ.:     </th>  <td>0.02702</td> \n",
       "</tr>\n",
       "<tr>\n",
       "  <th>Time:</th>                <td>14:45:34</td>     <th>  Log-Likelihood:    </th> <td> -8488.2</td> \n",
       "</tr>\n",
       "<tr>\n",
       "  <th>converged:</th>             <td>True</td>       <th>  LL-Null:           </th> <td> -8724.0</td> \n",
       "</tr>\n",
       "<tr>\n",
       "  <th>Covariance Type:</th>     <td>nonrobust</td>    <th>  LLR p-value:       </th> <td>1.170e-98</td>\n",
       "</tr>\n",
       "</table>\n",
       "<table class=\"simpletable\">\n",
       "<tr>\n",
       "                 <td></td>                    <th>coef</th>     <th>std err</th>      <th>z</th>      <th>P>|z|</th>  <th>[0.025</th>    <th>0.975]</th>  \n",
       "</tr>\n",
       "<tr>\n",
       "  <th>Intercept</th>                       <td>   -1.2383</td> <td>    0.142</td> <td>   -8.711</td> <td> 0.000</td> <td>   -1.517</td> <td>   -0.960</td>\n",
       "</tr>\n",
       "<tr>\n",
       "  <th>num_of_changes</th>                  <td>    0.1529</td> <td>    0.074</td> <td>    2.079</td> <td> 0.038</td> <td>    0.009</td> <td>    0.297</td>\n",
       "</tr>\n",
       "<tr>\n",
       "  <th>time_in_hospital</th>                <td>    0.1096</td> <td>    0.029</td> <td>    3.797</td> <td> 0.000</td> <td>    0.053</td> <td>    0.166</td>\n",
       "</tr>\n",
       "<tr>\n",
       "  <th>num_of_changes:time_in_hospital</th> <td>   -0.0083</td> <td>    0.012</td> <td>   -0.676</td> <td> 0.499</td> <td>   -0.032</td> <td>    0.016</td>\n",
       "</tr>\n",
       "<tr>\n",
       "  <th>age</th>                             <td>    0.0125</td> <td>    0.002</td> <td>    6.018</td> <td> 0.000</td> <td>    0.008</td> <td>    0.017</td>\n",
       "</tr>\n",
       "<tr>\n",
       "  <th>age:time_in_hospital</th>            <td>   -0.0007</td> <td>    0.000</td> <td>   -1.697</td> <td> 0.090</td> <td>   -0.002</td> <td>    0.000</td>\n",
       "</tr>\n",
       "<tr>\n",
       "  <th>number_inpatient</th>                <td>    0.4191</td> <td>    0.030</td> <td>   14.042</td> <td> 0.000</td> <td>    0.361</td> <td>    0.478</td>\n",
       "</tr>\n",
       "</table>"
      ],
      "text/plain": [
       "<class 'statsmodels.iolib.summary.Summary'>\n",
       "\"\"\"\n",
       "                           Logit Regression Results                           \n",
       "==============================================================================\n",
       "Dep. Variable:             readmitted   No. Observations:                12586\n",
       "Model:                          Logit   Df Residuals:                    12579\n",
       "Method:                           MLE   Df Model:                            6\n",
       "Date:                Fri, 24 Feb 2023   Pseudo R-squ.:                 0.02702\n",
       "Time:                        14:45:34   Log-Likelihood:                -8488.2\n",
       "converged:                       True   LL-Null:                       -8724.0\n",
       "Covariance Type:            nonrobust   LLR p-value:                 1.170e-98\n",
       "===================================================================================================\n",
       "                                      coef    std err          z      P>|z|      [0.025      0.975]\n",
       "---------------------------------------------------------------------------------------------------\n",
       "Intercept                          -1.2383      0.142     -8.711      0.000      -1.517      -0.960\n",
       "num_of_changes                      0.1529      0.074      2.079      0.038       0.009       0.297\n",
       "time_in_hospital                    0.1096      0.029      3.797      0.000       0.053       0.166\n",
       "num_of_changes:time_in_hospital    -0.0083      0.012     -0.676      0.499      -0.032       0.016\n",
       "age                                 0.0125      0.002      6.018      0.000       0.008       0.017\n",
       "age:time_in_hospital               -0.0007      0.000     -1.697      0.090      -0.002       0.000\n",
       "number_inpatient                    0.4191      0.030     14.042      0.000       0.361       0.478\n",
       "===================================================================================================\n",
       "\"\"\""
      ]
     },
     "execution_count": 216,
     "metadata": {},
     "output_type": "execute_result"
    }
   ],
   "source": [
    "both_interaction_model.summary()"
   ]
  },
  {
   "attachments": {},
   "cell_type": "markdown",
   "metadata": {},
   "source": [
    "### Exploring diagnoses"
   ]
  },
  {
   "cell_type": "code",
   "execution_count": 113,
   "metadata": {},
   "outputs": [
    {
     "data": {
      "text/plain": [
       "Index(['encounter_id', 'patient_nbr', 'race', 'gender', 'age',\n",
       "       'admission_type_id', 'discharge_disposition_id', 'admission_source_id',\n",
       "       'time_in_hospital', 'payer_code', 'num_lab_procedures',\n",
       "       'num_procedures', 'num_medications', 'number_outpatient',\n",
       "       'number_emergency', 'number_inpatient', 'diag_1', 'diag_2', 'diag_3',\n",
       "       'number_diagnoses', 'max_glu_serum', 'A1Cresult', 'metformin',\n",
       "       'repaglinide', 'nateglinide', 'chlorpropamide', 'glimepiride',\n",
       "       'acetohexamide', 'glipizide', 'glyburide', 'tolbutamide',\n",
       "       'pioglitazone', 'rosiglitazone', 'acarbose', 'miglitol', 'troglitazone',\n",
       "       'tolazamide', 'examide', 'citoglipton', 'insulin',\n",
       "       'glyburide-metformin', 'glipizide-metformin',\n",
       "       'glimepiride-pioglitazone', 'metformin-rosiglitazone',\n",
       "       'metformin-pioglitazone', 'change', 'diabetesMed', 'readmitted',\n",
       "       'num_of_changes'],\n",
       "      dtype='object')"
      ]
     },
     "execution_count": 113,
     "metadata": {},
     "output_type": "execute_result"
    }
   ],
   "source": [
    "train1.columns"
   ]
  },
  {
   "cell_type": "code",
   "execution_count": 129,
   "metadata": {},
   "outputs": [
    {
     "data": {
      "text/plain": [
       "69952    1\n",
       "34736    1\n",
       "7437     1\n",
       "37190    3\n",
       "26056    3\n",
       "        ..\n",
       "26283    1\n",
       "64104    1\n",
       "36963    1\n",
       "70925    1\n",
       "55384    1\n",
       "Name: admission_type_id, Length: 12586, dtype: int64"
      ]
     },
     "execution_count": 129,
     "metadata": {},
     "output_type": "execute_result"
    }
   ],
   "source": [
    "train1.admission_type_id"
   ]
  },
  {
   "cell_type": "code",
   "execution_count": 114,
   "metadata": {},
   "outputs": [
    {
     "name": "stdout",
     "output_type": "stream",
     "text": [
      "Optimization terminated successfully.\n",
      "         Current function value: 0.690176\n",
      "         Iterations 5\n"
     ]
    },
    {
     "data": {
      "text/html": [
       "<table class=\"simpletable\">\n",
       "<caption>Logit Regression Results</caption>\n",
       "<tr>\n",
       "  <th>Dep. Variable:</th>      <td>readmitted</td>    <th>  No. Observations:  </th>  <td> 12586</td>  \n",
       "</tr>\n",
       "<tr>\n",
       "  <th>Model:</th>                 <td>Logit</td>      <th>  Df Residuals:      </th>  <td> 12576</td>  \n",
       "</tr>\n",
       "<tr>\n",
       "  <th>Method:</th>                 <td>MLE</td>       <th>  Df Model:          </th>  <td>     9</td>  \n",
       "</tr>\n",
       "<tr>\n",
       "  <th>Date:</th>            <td>Fri, 24 Feb 2023</td> <th>  Pseudo R-squ.:     </th> <td>0.004287</td> \n",
       "</tr>\n",
       "<tr>\n",
       "  <th>Time:</th>                <td>00:58:00</td>     <th>  Log-Likelihood:    </th> <td> -8686.5</td> \n",
       "</tr>\n",
       "<tr>\n",
       "  <th>converged:</th>             <td>True</td>       <th>  LL-Null:           </th> <td> -8724.0</td> \n",
       "</tr>\n",
       "<tr>\n",
       "  <th>Covariance Type:</th>     <td>nonrobust</td>    <th>  LLR p-value:       </th> <td>1.730e-12</td>\n",
       "</tr>\n",
       "</table>\n",
       "<table class=\"simpletable\">\n",
       "<tr>\n",
       "              <td></td>                 <th>coef</th>     <th>std err</th>      <th>z</th>      <th>P>|z|</th>  <th>[0.025</th>    <th>0.975]</th>  \n",
       "</tr>\n",
       "<tr>\n",
       "  <th>Intercept</th>                 <td>    0.1087</td> <td>    0.032</td> <td>    3.408</td> <td> 0.001</td> <td>    0.046</td> <td>    0.171</td>\n",
       "</tr>\n",
       "<tr>\n",
       "  <th>diag_1[T.diabetes]</th>        <td>   -0.0679</td> <td>    0.070</td> <td>   -0.970</td> <td> 0.332</td> <td>   -0.205</td> <td>    0.069</td>\n",
       "</tr>\n",
       "<tr>\n",
       "  <th>diag_1[T.digestive]</th>       <td>   -0.2563</td> <td>    0.068</td> <td>   -3.784</td> <td> 0.000</td> <td>   -0.389</td> <td>   -0.124</td>\n",
       "</tr>\n",
       "<tr>\n",
       "  <th>diag_1[T.genitourinary]</th>   <td>   -0.0144</td> <td>    0.088</td> <td>   -0.163</td> <td> 0.870</td> <td>   -0.187</td> <td>    0.158</td>\n",
       "</tr>\n",
       "<tr>\n",
       "  <th>diag_1[T.injury]</th>          <td>    0.0823</td> <td>    0.073</td> <td>    1.122</td> <td> 0.262</td> <td>   -0.062</td> <td>    0.226</td>\n",
       "</tr>\n",
       "<tr>\n",
       "  <th>diag_1[T.musculoskeletal]</th> <td>   -0.1490</td> <td>    0.082</td> <td>   -1.811</td> <td> 0.070</td> <td>   -0.310</td> <td>    0.012</td>\n",
       "</tr>\n",
       "<tr>\n",
       "  <th>diag_1[T.neoplasms]</th>       <td>   -0.0957</td> <td>    0.099</td> <td>   -0.970</td> <td> 0.332</td> <td>   -0.289</td> <td>    0.098</td>\n",
       "</tr>\n",
       "<tr>\n",
       "  <th>diag_1[T.other]</th>           <td>   -0.1087</td> <td>    0.054</td> <td>   -2.019</td> <td> 0.043</td> <td>   -0.214</td> <td>   -0.003</td>\n",
       "</tr>\n",
       "<tr>\n",
       "  <th>diag_1[T.pregnecy]</th>        <td>   -1.0095</td> <td>    0.235</td> <td>   -4.301</td> <td> 0.000</td> <td>   -1.470</td> <td>   -0.549</td>\n",
       "</tr>\n",
       "<tr>\n",
       "  <th>diag_1[T.respiratory]</th>     <td>   -0.3840</td> <td>    0.060</td> <td>   -6.433</td> <td> 0.000</td> <td>   -0.501</td> <td>   -0.267</td>\n",
       "</tr>\n",
       "</table>"
      ],
      "text/plain": [
       "<class 'statsmodels.iolib.summary.Summary'>\n",
       "\"\"\"\n",
       "                           Logit Regression Results                           \n",
       "==============================================================================\n",
       "Dep. Variable:             readmitted   No. Observations:                12586\n",
       "Model:                          Logit   Df Residuals:                    12576\n",
       "Method:                           MLE   Df Model:                            9\n",
       "Date:                Fri, 24 Feb 2023   Pseudo R-squ.:                0.004287\n",
       "Time:                        00:58:00   Log-Likelihood:                -8686.5\n",
       "converged:                       True   LL-Null:                       -8724.0\n",
       "Covariance Type:            nonrobust   LLR p-value:                 1.730e-12\n",
       "=============================================================================================\n",
       "                                coef    std err          z      P>|z|      [0.025      0.975]\n",
       "---------------------------------------------------------------------------------------------\n",
       "Intercept                     0.1087      0.032      3.408      0.001       0.046       0.171\n",
       "diag_1[T.diabetes]           -0.0679      0.070     -0.970      0.332      -0.205       0.069\n",
       "diag_1[T.digestive]          -0.2563      0.068     -3.784      0.000      -0.389      -0.124\n",
       "diag_1[T.genitourinary]      -0.0144      0.088     -0.163      0.870      -0.187       0.158\n",
       "diag_1[T.injury]              0.0823      0.073      1.122      0.262      -0.062       0.226\n",
       "diag_1[T.musculoskeletal]    -0.1490      0.082     -1.811      0.070      -0.310       0.012\n",
       "diag_1[T.neoplasms]          -0.0957      0.099     -0.970      0.332      -0.289       0.098\n",
       "diag_1[T.other]              -0.1087      0.054     -2.019      0.043      -0.214      -0.003\n",
       "diag_1[T.pregnecy]           -1.0095      0.235     -4.301      0.000      -1.470      -0.549\n",
       "diag_1[T.respiratory]        -0.3840      0.060     -6.433      0.000      -0.501      -0.267\n",
       "=============================================================================================\n",
       "\"\"\""
      ]
     },
     "execution_count": 114,
     "metadata": {},
     "output_type": "execute_result"
    }
   ],
   "source": [
    "model_diag = sm.logit(formula = 'readmitted ~ diag_1', data = train1).fit() \n",
    "model_diag.summary()"
   ]
  },
  {
   "attachments": {},
   "cell_type": "markdown",
   "metadata": {},
   "source": [
    "Statistically significant predictors: diag_1[T.digestive], diag_1[T.pregnecy], diag_1[T.respiratory]"
   ]
  },
  {
   "cell_type": "code",
   "execution_count": 158,
   "metadata": {},
   "outputs": [
    {
     "name": "stdout",
     "output_type": "stream",
     "text": [
      "Classification accuracy = 52.8%\n",
      "Precision = 52.0%\n",
      "TPR or Recall = 74.9%\n",
      "FNR = 25.1%\n",
      "FPR = 69.3%\n",
      "ROC-AUC = 53.9%\n"
     ]
    },
    {
     "data": {
      "image/png": "[encoded data removed]",
      "text/plain": [
       "<Figure size 432x288 with 2 Axes>"
      ]
     },
     "metadata": {
      "needs_background": "light"
     },
     "output_type": "display_data"
    }
   ],
   "source": [
    "confusion_matrix_data(train1_dummy, train1_dummy.readmitted, model_diag, cutoff=0.5)"
   ]
  },
  {
   "cell_type": "code",
   "execution_count": 159,
   "metadata": {},
   "outputs": [
    {
     "name": "stdout",
     "output_type": "stream",
     "text": [
      "Classification accuracy = 34.3%\n",
      "Precision = 9.9%\n",
      "TPR or Recall = 76.6%\n",
      "FNR = 23.4%\n",
      "FPR = 70.0%\n",
      "ROC-AUC = 53.7%\n"
     ]
    },
    {
     "data": {
      "image/png": "[encoded data removed]",
      "text/plain": [
       "<Figure size 432x288 with 2 Axes>"
      ]
     },
     "metadata": {
      "needs_background": "light"
     },
     "output_type": "display_data"
    }
   ],
   "source": [
    "confusion_matrix_data(test_dummy, test_dummy.readmitted, model_diag, cutoff=0.5)"
   ]
  },
  {
   "attachments": {},
   "cell_type": "markdown",
   "metadata": {},
   "source": [
    "Observations\n",
    "- Model is better at predicting true positives and not predicting false negatives\n",
    "- But basically everything is being predicted as negative"
   ]
  },
  {
   "cell_type": "code",
   "execution_count": 120,
   "metadata": {},
   "outputs": [
    {
     "name": "stdout",
     "output_type": "stream",
     "text": [
      "Optimization terminated successfully.\n",
      "         Current function value: 0.688978\n",
      "         Iterations 5\n"
     ]
    },
    {
     "data": {
      "text/html": [
       "<table class=\"simpletable\">\n",
       "<caption>Logit Regression Results</caption>\n",
       "<tr>\n",
       "  <th>Dep. Variable:</th>      <td>readmitted</td>    <th>  No. Observations:  </th>  <td> 12586</td>  \n",
       "</tr>\n",
       "<tr>\n",
       "  <th>Model:</th>                 <td>Logit</td>      <th>  Df Residuals:      </th>  <td> 12567</td>  \n",
       "</tr>\n",
       "<tr>\n",
       "  <th>Method:</th>                 <td>MLE</td>       <th>  Df Model:          </th>  <td>    18</td>  \n",
       "</tr>\n",
       "<tr>\n",
       "  <th>Date:</th>            <td>Fri, 24 Feb 2023</td> <th>  Pseudo R-squ.:     </th> <td>0.006015</td> \n",
       "</tr>\n",
       "<tr>\n",
       "  <th>Time:</th>                <td>01:01:35</td>     <th>  Log-Likelihood:    </th> <td> -8671.5</td> \n",
       "</tr>\n",
       "<tr>\n",
       "  <th>converged:</th>             <td>True</td>       <th>  LL-Null:           </th> <td> -8724.0</td> \n",
       "</tr>\n",
       "<tr>\n",
       "  <th>Covariance Type:</th>     <td>nonrobust</td>    <th>  LLR p-value:       </th> <td>2.721e-14</td>\n",
       "</tr>\n",
       "</table>\n",
       "<table class=\"simpletable\">\n",
       "<tr>\n",
       "              <td></td>                 <th>coef</th>     <th>std err</th>      <th>z</th>      <th>P>|z|</th>  <th>[0.025</th>    <th>0.975]</th>  \n",
       "</tr>\n",
       "<tr>\n",
       "  <th>Intercept</th>                 <td>    0.1212</td> <td>    0.037</td> <td>    3.242</td> <td> 0.001</td> <td>    0.048</td> <td>    0.194</td>\n",
       "</tr>\n",
       "<tr>\n",
       "  <th>diag_1[T.diabetes]</th>        <td>   -0.0530</td> <td>    0.073</td> <td>   -0.730</td> <td> 0.465</td> <td>   -0.195</td> <td>    0.089</td>\n",
       "</tr>\n",
       "<tr>\n",
       "  <th>diag_1[T.digestive]</th>       <td>   -0.2854</td> <td>    0.071</td> <td>   -4.013</td> <td> 0.000</td> <td>   -0.425</td> <td>   -0.146</td>\n",
       "</tr>\n",
       "<tr>\n",
       "  <th>diag_1[T.genitourinary]</th>   <td>   -0.0068</td> <td>    0.090</td> <td>   -0.075</td> <td> 0.940</td> <td>   -0.183</td> <td>    0.169</td>\n",
       "</tr>\n",
       "<tr>\n",
       "  <th>diag_1[T.injury]</th>          <td>    0.0840</td> <td>    0.076</td> <td>    1.111</td> <td> 0.266</td> <td>   -0.064</td> <td>    0.232</td>\n",
       "</tr>\n",
       "<tr>\n",
       "  <th>diag_1[T.musculoskeletal]</th> <td>   -0.1335</td> <td>    0.084</td> <td>   -1.586</td> <td> 0.113</td> <td>   -0.298</td> <td>    0.031</td>\n",
       "</tr>\n",
       "<tr>\n",
       "  <th>diag_1[T.neoplasms]</th>       <td>   -0.2521</td> <td>    0.106</td> <td>   -2.384</td> <td> 0.017</td> <td>   -0.459</td> <td>   -0.045</td>\n",
       "</tr>\n",
       "<tr>\n",
       "  <th>diag_1[T.other]</th>           <td>   -0.1235</td> <td>    0.056</td> <td>   -2.222</td> <td> 0.026</td> <td>   -0.233</td> <td>   -0.015</td>\n",
       "</tr>\n",
       "<tr>\n",
       "  <th>diag_1[T.pregnecy]</th>        <td>   -0.7422</td> <td>    0.328</td> <td>   -2.265</td> <td> 0.024</td> <td>   -1.385</td> <td>   -0.100</td>\n",
       "</tr>\n",
       "<tr>\n",
       "  <th>diag_1[T.respiratory]</th>     <td>   -0.3769</td> <td>    0.060</td> <td>   -6.233</td> <td> 0.000</td> <td>   -0.495</td> <td>   -0.258</td>\n",
       "</tr>\n",
       "<tr>\n",
       "  <th>diag_2[T.diabetes]</th>        <td>    0.0013</td> <td>    0.060</td> <td>    0.022</td> <td> 0.982</td> <td>   -0.116</td> <td>    0.119</td>\n",
       "</tr>\n",
       "<tr>\n",
       "  <th>diag_2[T.digestive]</th>       <td>    0.1254</td> <td>    0.102</td> <td>    1.224</td> <td> 0.221</td> <td>   -0.075</td> <td>    0.326</td>\n",
       "</tr>\n",
       "<tr>\n",
       "  <th>diag_2[T.genitourinary]</th>   <td>   -0.0500</td> <td>    0.073</td> <td>   -0.687</td> <td> 0.492</td> <td>   -0.193</td> <td>    0.093</td>\n",
       "</tr>\n",
       "<tr>\n",
       "  <th>diag_2[T.injury]</th>          <td>    0.0463</td> <td>    0.116</td> <td>    0.400</td> <td> 0.689</td> <td>   -0.180</td> <td>    0.273</td>\n",
       "</tr>\n",
       "<tr>\n",
       "  <th>diag_2[T.musculoskeletal]</th> <td>   -0.1966</td> <td>    0.140</td> <td>   -1.400</td> <td> 0.161</td> <td>   -0.472</td> <td>    0.079</td>\n",
       "</tr>\n",
       "<tr>\n",
       "  <th>diag_2[T.neoplasms]</th>       <td>    0.5420</td> <td>    0.124</td> <td>    4.366</td> <td> 0.000</td> <td>    0.299</td> <td>    0.785</td>\n",
       "</tr>\n",
       "<tr>\n",
       "  <th>diag_2[T.other]</th>           <td>   -0.0400</td> <td>    0.050</td> <td>   -0.808</td> <td> 0.419</td> <td>   -0.137</td> <td>    0.057</td>\n",
       "</tr>\n",
       "<tr>\n",
       "  <th>diag_2[T.pregnecy]</th>        <td>   -0.5476</td> <td>    0.460</td> <td>   -1.189</td> <td> 0.234</td> <td>   -1.450</td> <td>    0.355</td>\n",
       "</tr>\n",
       "<tr>\n",
       "  <th>diag_2[T.respiratory]</th>     <td>   -0.0769</td> <td>    0.066</td> <td>   -1.163</td> <td> 0.245</td> <td>   -0.207</td> <td>    0.053</td>\n",
       "</tr>\n",
       "</table>"
      ],
      "text/plain": [
       "<class 'statsmodels.iolib.summary.Summary'>\n",
       "\"\"\"\n",
       "                           Logit Regression Results                           \n",
       "==============================================================================\n",
       "Dep. Variable:             readmitted   No. Observations:                12586\n",
       "Model:                          Logit   Df Residuals:                    12567\n",
       "Method:                           MLE   Df Model:                           18\n",
       "Date:                Fri, 24 Feb 2023   Pseudo R-squ.:                0.006015\n",
       "Time:                        01:01:35   Log-Likelihood:                -8671.5\n",
       "converged:                       True   LL-Null:                       -8724.0\n",
       "Covariance Type:            nonrobust   LLR p-value:                 2.721e-14\n",
       "=============================================================================================\n",
       "                                coef    std err          z      P>|z|      [0.025      0.975]\n",
       "---------------------------------------------------------------------------------------------\n",
       "Intercept                     0.1212      0.037      3.242      0.001       0.048       0.194\n",
       "diag_1[T.diabetes]           -0.0530      0.073     -0.730      0.465      -0.195       0.089\n",
       "diag_1[T.digestive]          -0.2854      0.071     -4.013      0.000      -0.425      -0.146\n",
       "diag_1[T.genitourinary]      -0.0068      0.090     -0.075      0.940      -0.183       0.169\n",
       "diag_1[T.injury]              0.0840      0.076      1.111      0.266      -0.064       0.232\n",
       "diag_1[T.musculoskeletal]    -0.1335      0.084     -1.586      0.113      -0.298       0.031\n",
       "diag_1[T.neoplasms]          -0.2521      0.106     -2.384      0.017      -0.459      -0.045\n",
       "diag_1[T.other]              -0.1235      0.056     -2.222      0.026      -0.233      -0.015\n",
       "diag_1[T.pregnecy]           -0.7422      0.328     -2.265      0.024      -1.385      -0.100\n",
       "diag_1[T.respiratory]        -0.3769      0.060     -6.233      0.000      -0.495      -0.258\n",
       "diag_2[T.diabetes]            0.0013      0.060      0.022      0.982      -0.116       0.119\n",
       "diag_2[T.digestive]           0.1254      0.102      1.224      0.221      -0.075       0.326\n",
       "diag_2[T.genitourinary]      -0.0500      0.073     -0.687      0.492      -0.193       0.093\n",
       "diag_2[T.injury]              0.0463      0.116      0.400      0.689      -0.180       0.273\n",
       "diag_2[T.musculoskeletal]    -0.1966      0.140     -1.400      0.161      -0.472       0.079\n",
       "diag_2[T.neoplasms]           0.5420      0.124      4.366      0.000       0.299       0.785\n",
       "diag_2[T.other]              -0.0400      0.050     -0.808      0.419      -0.137       0.057\n",
       "diag_2[T.pregnecy]           -0.5476      0.460     -1.189      0.234      -1.450       0.355\n",
       "diag_2[T.respiratory]        -0.0769      0.066     -1.163      0.245      -0.207       0.053\n",
       "=============================================================================================\n",
       "\"\"\""
      ]
     },
     "execution_count": 120,
     "metadata": {},
     "output_type": "execute_result"
    }
   ],
   "source": [
    "model_diag_2 = sm.logit(formula = 'readmitted ~ diag_1 + diag_2', data = train1).fit() \n",
    "model_diag_2.summary()"
   ]
  },
  {
   "attachments": {},
   "cell_type": "markdown",
   "metadata": {},
   "source": [
    "Statistically significant predictors: \n",
    "diag_1[T.digestive], diag_1[T.pregnecy], diag_1[T.respiratory]\n",
    "diag_1[T.neoplasms], diag_2[T.neoplasms]\n"
   ]
  },
  {
   "cell_type": "code",
   "execution_count": 161,
   "metadata": {},
   "outputs": [
    {
     "name": "stdout",
     "output_type": "stream",
     "text": [
      "Classification accuracy = 53.4%\n",
      "Precision = 53.1%\n",
      "TPR or Recall = 57.6%\n",
      "FNR = 42.4%\n",
      "FPR = 50.9%\n",
      "ROC-AUC = 54.8%\n"
     ]
    },
    {
     "data": {
      "image/png": "[encoded data removed]",
      "text/plain": [
       "<Figure size 432x288 with 2 Axes>"
      ]
     },
     "metadata": {
      "needs_background": "light"
     },
     "output_type": "display_data"
    }
   ],
   "source": [
    "confusion_matrix_data(train1_dummy, train1_dummy.readmitted, model_diag_2, cutoff=0.5)"
   ]
  },
  {
   "cell_type": "code",
   "execution_count": 162,
   "metadata": {},
   "outputs": [
    {
     "name": "stdout",
     "output_type": "stream",
     "text": [
      "Classification accuracy = 48.7%\n",
      "Precision = 10.0%\n",
      "TPR or Recall = 57.5%\n",
      "FNR = 42.5%\n",
      "FPR = 52.2%\n",
      "ROC-AUC = 53.8%\n"
     ]
    },
    {
     "data": {
      "image/png": "[encoded data removed]",
      "text/plain": [
       "<Figure size 432x288 with 2 Axes>"
      ]
     },
     "metadata": {
      "needs_background": "light"
     },
     "output_type": "display_data"
    }
   ],
   "source": [
    "confusion_matrix_data(test_dummy, test_dummy.readmitted, model_diag_2, cutoff=0.5)"
   ]
  },
  {
   "cell_type": "code",
   "execution_count": 124,
   "metadata": {},
   "outputs": [
    {
     "name": "stdout",
     "output_type": "stream",
     "text": [
      "Optimization terminated successfully.\n",
      "         Current function value: 0.688353\n",
      "         Iterations 6\n"
     ]
    },
    {
     "data": {
      "text/html": [
       "<table class=\"simpletable\">\n",
       "<caption>Logit Regression Results</caption>\n",
       "<tr>\n",
       "  <th>Dep. Variable:</th>      <td>readmitted</td>    <th>  No. Observations:  </th>  <td> 12586</td>  \n",
       "</tr>\n",
       "<tr>\n",
       "  <th>Model:</th>                 <td>Logit</td>      <th>  Df Residuals:      </th>  <td> 12558</td>  \n",
       "</tr>\n",
       "<tr>\n",
       "  <th>Method:</th>                 <td>MLE</td>       <th>  Df Model:          </th>  <td>    27</td>  \n",
       "</tr>\n",
       "<tr>\n",
       "  <th>Date:</th>            <td>Fri, 24 Feb 2023</td> <th>  Pseudo R-squ.:     </th> <td>0.006916</td> \n",
       "</tr>\n",
       "<tr>\n",
       "  <th>Time:</th>                <td>01:02:26</td>     <th>  Log-Likelihood:    </th> <td> -8663.6</td> \n",
       "</tr>\n",
       "<tr>\n",
       "  <th>converged:</th>             <td>True</td>       <th>  LL-Null:           </th> <td> -8724.0</td> \n",
       "</tr>\n",
       "<tr>\n",
       "  <th>Covariance Type:</th>     <td>nonrobust</td>    <th>  LLR p-value:       </th> <td>8.303e-14</td>\n",
       "</tr>\n",
       "</table>\n",
       "<table class=\"simpletable\">\n",
       "<tr>\n",
       "              <td></td>                 <th>coef</th>     <th>std err</th>      <th>z</th>      <th>P>|z|</th>  <th>[0.025</th>    <th>0.975]</th>  \n",
       "</tr>\n",
       "<tr>\n",
       "  <th>Intercept</th>                 <td>    0.1151</td> <td>    0.044</td> <td>    2.597</td> <td> 0.009</td> <td>    0.028</td> <td>    0.202</td>\n",
       "</tr>\n",
       "<tr>\n",
       "  <th>diag_1[T.diabetes]</th>        <td>   -0.0509</td> <td>    0.074</td> <td>   -0.688</td> <td> 0.491</td> <td>   -0.196</td> <td>    0.094</td>\n",
       "</tr>\n",
       "<tr>\n",
       "  <th>diag_1[T.digestive]</th>       <td>   -0.2939</td> <td>    0.072</td> <td>   -4.089</td> <td> 0.000</td> <td>   -0.435</td> <td>   -0.153</td>\n",
       "</tr>\n",
       "<tr>\n",
       "  <th>diag_1[T.genitourinary]</th>   <td>   -0.0100</td> <td>    0.090</td> <td>   -0.111</td> <td> 0.911</td> <td>   -0.187</td> <td>    0.167</td>\n",
       "</tr>\n",
       "<tr>\n",
       "  <th>diag_1[T.injury]</th>          <td>    0.0847</td> <td>    0.076</td> <td>    1.110</td> <td> 0.267</td> <td>   -0.065</td> <td>    0.234</td>\n",
       "</tr>\n",
       "<tr>\n",
       "  <th>diag_1[T.musculoskeletal]</th> <td>   -0.1351</td> <td>    0.085</td> <td>   -1.595</td> <td> 0.111</td> <td>   -0.301</td> <td>    0.031</td>\n",
       "</tr>\n",
       "<tr>\n",
       "  <th>diag_1[T.neoplasms]</th>       <td>   -0.2675</td> <td>    0.107</td> <td>   -2.507</td> <td> 0.012</td> <td>   -0.477</td> <td>   -0.058</td>\n",
       "</tr>\n",
       "<tr>\n",
       "  <th>diag_1[T.other]</th>           <td>   -0.1246</td> <td>    0.056</td> <td>   -2.223</td> <td> 0.026</td> <td>   -0.234</td> <td>   -0.015</td>\n",
       "</tr>\n",
       "<tr>\n",
       "  <th>diag_1[T.pregnecy]</th>        <td>   -0.0702</td> <td>    0.403</td> <td>   -0.174</td> <td> 0.862</td> <td>   -0.860</td> <td>    0.719</td>\n",
       "</tr>\n",
       "<tr>\n",
       "  <th>diag_1[T.respiratory]</th>     <td>   -0.3772</td> <td>    0.061</td> <td>   -6.227</td> <td> 0.000</td> <td>   -0.496</td> <td>   -0.258</td>\n",
       "</tr>\n",
       "<tr>\n",
       "  <th>diag_2[T.diabetes]</th>        <td>    0.0049</td> <td>    0.061</td> <td>    0.081</td> <td> 0.935</td> <td>   -0.115</td> <td>    0.124</td>\n",
       "</tr>\n",
       "<tr>\n",
       "  <th>diag_2[T.digestive]</th>       <td>    0.1108</td> <td>    0.103</td> <td>    1.071</td> <td> 0.284</td> <td>   -0.092</td> <td>    0.313</td>\n",
       "</tr>\n",
       "<tr>\n",
       "  <th>diag_2[T.genitourinary]</th>   <td>   -0.0565</td> <td>    0.073</td> <td>   -0.772</td> <td> 0.440</td> <td>   -0.200</td> <td>    0.087</td>\n",
       "</tr>\n",
       "<tr>\n",
       "  <th>diag_2[T.injury]</th>          <td>    0.0275</td> <td>    0.117</td> <td>    0.235</td> <td> 0.814</td> <td>   -0.201</td> <td>    0.256</td>\n",
       "</tr>\n",
       "<tr>\n",
       "  <th>diag_2[T.musculoskeletal]</th> <td>   -0.2023</td> <td>    0.142</td> <td>   -1.427</td> <td> 0.154</td> <td>   -0.480</td> <td>    0.076</td>\n",
       "</tr>\n",
       "<tr>\n",
       "  <th>diag_2[T.neoplasms]</th>       <td>    0.5157</td> <td>    0.128</td> <td>    4.025</td> <td> 0.000</td> <td>    0.265</td> <td>    0.767</td>\n",
       "</tr>\n",
       "<tr>\n",
       "  <th>diag_2[T.other]</th>           <td>   -0.0412</td> <td>    0.050</td> <td>   -0.827</td> <td> 0.408</td> <td>   -0.139</td> <td>    0.056</td>\n",
       "</tr>\n",
       "<tr>\n",
       "  <th>diag_2[T.pregnecy]</th>        <td>   -0.6274</td> <td>    0.484</td> <td>   -1.295</td> <td> 0.195</td> <td>   -1.577</td> <td>    0.322</td>\n",
       "</tr>\n",
       "<tr>\n",
       "  <th>diag_2[T.respiratory]</th>     <td>   -0.0792</td> <td>    0.066</td> <td>   -1.195</td> <td> 0.232</td> <td>   -0.209</td> <td>    0.051</td>\n",
       "</tr>\n",
       "<tr>\n",
       "  <th>diag_3[T.diabetes]</th>        <td>   -0.0223</td> <td>    0.055</td> <td>   -0.406</td> <td> 0.684</td> <td>   -0.130</td> <td>    0.085</td>\n",
       "</tr>\n",
       "<tr>\n",
       "  <th>diag_3[T.digestive]</th>       <td>    0.1329</td> <td>    0.099</td> <td>    1.344</td> <td> 0.179</td> <td>   -0.061</td> <td>    0.327</td>\n",
       "</tr>\n",
       "<tr>\n",
       "  <th>diag_3[T.genitourinary]</th>   <td>    0.0729</td> <td>    0.080</td> <td>    0.912</td> <td> 0.362</td> <td>   -0.084</td> <td>    0.229</td>\n",
       "</tr>\n",
       "<tr>\n",
       "  <th>diag_3[T.injury]</th>          <td>    0.1220</td> <td>    0.130</td> <td>    0.937</td> <td> 0.349</td> <td>   -0.133</td> <td>    0.377</td>\n",
       "</tr>\n",
       "<tr>\n",
       "  <th>diag_3[T.musculoskeletal]</th> <td>    0.1287</td> <td>    0.142</td> <td>    0.904</td> <td> 0.366</td> <td>   -0.150</td> <td>    0.408</td>\n",
       "</tr>\n",
       "<tr>\n",
       "  <th>diag_3[T.neoplasms]</th>       <td>    0.1130</td> <td>    0.140</td> <td>    0.807</td> <td> 0.419</td> <td>   -0.161</td> <td>    0.387</td>\n",
       "</tr>\n",
       "<tr>\n",
       "  <th>diag_3[T.other]</th>           <td>   -0.0279</td> <td>    0.048</td> <td>   -0.582</td> <td> 0.560</td> <td>   -0.122</td> <td>    0.066</td>\n",
       "</tr>\n",
       "<tr>\n",
       "  <th>diag_3[T.pregnecy]</th>        <td>   -1.4373</td> <td>    0.519</td> <td>   -2.771</td> <td> 0.006</td> <td>   -2.454</td> <td>   -0.421</td>\n",
       "</tr>\n",
       "<tr>\n",
       "  <th>diag_3[T.respiratory]</th>     <td>    0.0709</td> <td>    0.074</td> <td>    0.957</td> <td> 0.338</td> <td>   -0.074</td> <td>    0.216</td>\n",
       "</tr>\n",
       "</table>"
      ],
      "text/plain": [
       "<class 'statsmodels.iolib.summary.Summary'>\n",
       "\"\"\"\n",
       "                           Logit Regression Results                           \n",
       "==============================================================================\n",
       "Dep. Variable:             readmitted   No. Observations:                12586\n",
       "Model:                          Logit   Df Residuals:                    12558\n",
       "Method:                           MLE   Df Model:                           27\n",
       "Date:                Fri, 24 Feb 2023   Pseudo R-squ.:                0.006916\n",
       "Time:                        01:02:26   Log-Likelihood:                -8663.6\n",
       "converged:                       True   LL-Null:                       -8724.0\n",
       "Covariance Type:            nonrobust   LLR p-value:                 8.303e-14\n",
       "=============================================================================================\n",
       "                                coef    std err          z      P>|z|      [0.025      0.975]\n",
       "---------------------------------------------------------------------------------------------\n",
       "Intercept                     0.1151      0.044      2.597      0.009       0.028       0.202\n",
       "diag_1[T.diabetes]           -0.0509      0.074     -0.688      0.491      -0.196       0.094\n",
       "diag_1[T.digestive]          -0.2939      0.072     -4.089      0.000      -0.435      -0.153\n",
       "diag_1[T.genitourinary]      -0.0100      0.090     -0.111      0.911      -0.187       0.167\n",
       "diag_1[T.injury]              0.0847      0.076      1.110      0.267      -0.065       0.234\n",
       "diag_1[T.musculoskeletal]    -0.1351      0.085     -1.595      0.111      -0.301       0.031\n",
       "diag_1[T.neoplasms]          -0.2675      0.107     -2.507      0.012      -0.477      -0.058\n",
       "diag_1[T.other]              -0.1246      0.056     -2.223      0.026      -0.234      -0.015\n",
       "diag_1[T.pregnecy]           -0.0702      0.403     -0.174      0.862      -0.860       0.719\n",
       "diag_1[T.respiratory]        -0.3772      0.061     -6.227      0.000      -0.496      -0.258\n",
       "diag_2[T.diabetes]            0.0049      0.061      0.081      0.935      -0.115       0.124\n",
       "diag_2[T.digestive]           0.1108      0.103      1.071      0.284      -0.092       0.313\n",
       "diag_2[T.genitourinary]      -0.0565      0.073     -0.772      0.440      -0.200       0.087\n",
       "diag_2[T.injury]              0.0275      0.117      0.235      0.814      -0.201       0.256\n",
       "diag_2[T.musculoskeletal]    -0.2023      0.142     -1.427      0.154      -0.480       0.076\n",
       "diag_2[T.neoplasms]           0.5157      0.128      4.025      0.000       0.265       0.767\n",
       "diag_2[T.other]              -0.0412      0.050     -0.827      0.408      -0.139       0.056\n",
       "diag_2[T.pregnecy]           -0.6274      0.484     -1.295      0.195      -1.577       0.322\n",
       "diag_2[T.respiratory]        -0.0792      0.066     -1.195      0.232      -0.209       0.051\n",
       "diag_3[T.diabetes]           -0.0223      0.055     -0.406      0.684      -0.130       0.085\n",
       "diag_3[T.digestive]           0.1329      0.099      1.344      0.179      -0.061       0.327\n",
       "diag_3[T.genitourinary]       0.0729      0.080      0.912      0.362      -0.084       0.229\n",
       "diag_3[T.injury]              0.1220      0.130      0.937      0.349      -0.133       0.377\n",
       "diag_3[T.musculoskeletal]     0.1287      0.142      0.904      0.366      -0.150       0.408\n",
       "diag_3[T.neoplasms]           0.1130      0.140      0.807      0.419      -0.161       0.387\n",
       "diag_3[T.other]              -0.0279      0.048     -0.582      0.560      -0.122       0.066\n",
       "diag_3[T.pregnecy]           -1.4373      0.519     -2.771      0.006      -2.454      -0.421\n",
       "diag_3[T.respiratory]         0.0709      0.074      0.957      0.338      -0.074       0.216\n",
       "=============================================================================================\n",
       "\"\"\""
      ]
     },
     "execution_count": 124,
     "metadata": {},
     "output_type": "execute_result"
    }
   ],
   "source": [
    "model_diag_3 = sm.logit(formula = 'readmitted ~ diag_1 + diag_2 + diag_3', data = train1).fit() \n",
    "model_diag_3.summary()"
   ]
  },
  {
   "cell_type": "code",
   "execution_count": 163,
   "metadata": {},
   "outputs": [
    {
     "name": "stdout",
     "output_type": "stream",
     "text": [
      "Classification accuracy = 53.9%\n",
      "Precision = 53.4%\n",
      "TPR or Recall = 60.0%\n",
      "FNR = 40.0%\n",
      "FPR = 52.3%\n",
      "ROC-AUC = 55.0%\n"
     ]
    },
    {
     "data": {
      "image/png": "[encoded data removed]",
      "text/plain": [
       "<Figure size 432x288 with 2 Axes>"
      ]
     },
     "metadata": {
      "needs_background": "light"
     },
     "output_type": "display_data"
    }
   ],
   "source": [
    "confusion_matrix_data(train1_dummy, train1_dummy.readmitted, model_diag_3, cutoff=0.5)"
   ]
  },
  {
   "cell_type": "code",
   "execution_count": 164,
   "metadata": {},
   "outputs": [
    {
     "name": "stdout",
     "output_type": "stream",
     "text": [
      "Classification accuracy = 48.0%\n",
      "Precision = 10.3%\n",
      "TPR or Recall = 60.6%\n",
      "FNR = 39.4%\n",
      "FPR = 53.3%\n",
      "ROC-AUC = 54.5%\n"
     ]
    },
    {
     "data": {
      "image/png": "[encoded data removed]",
      "text/plain": [
       "<Figure size 432x288 with 2 Axes>"
      ]
     },
     "metadata": {
      "needs_background": "light"
     },
     "output_type": "display_data"
    }
   ],
   "source": [
    "confusion_matrix_data(test_dummy, test_dummy.readmitted, model_diag_3, cutoff=0.5)"
   ]
  },
  {
   "attachments": {},
   "cell_type": "markdown",
   "metadata": {},
   "source": [
    "#### Exploring admission_type_id, discharge_disposition_id, admission_source_id; each their own predictor after we binned in data cleaning"
   ]
  },
  {
   "attachments": {},
   "cell_type": "markdown",
   "metadata": {},
   "source": [
    "Model 4.1: making `discharge_disposition_id` its own predictor"
   ]
  },
  {
   "cell_type": "code",
   "execution_count": 243,
   "metadata": {},
   "outputs": [
    {
     "data": {
      "text/plain": [
       "'readmitted ~ discharge_disposition_id7 + discharge_disposition_id10 + discharge_disposition_id11 + discharge_disposition_id18 + discharge_disposition_id27 + discharge_disposition_id28'"
      ]
     },
     "execution_count": 243,
     "metadata": {},
     "output_type": "execute_result"
    }
   ],
   "source": [
    "form = 'readmitted ~ ' + ' + '.join(vars[3][2:])\n",
    "form"
   ]
  },
  {
   "cell_type": "code",
   "execution_count": 244,
   "metadata": {},
   "outputs": [
    {
     "name": "stdout",
     "output_type": "stream",
     "text": [
      "Warning: Maximum number of iterations has been exceeded.\n",
      "         Current function value: 0.684906\n",
      "         Iterations: 35\n"
     ]
    },
    {
     "name": "stderr",
     "output_type": "stream",
     "text": [
      "/Users/amywang/opt/anaconda3/lib/python3.9/site-packages/statsmodels/discrete/discrete_model.py:1819: RuntimeWarning: overflow encountered in exp\n",
      "  return 1/(1+np.exp(-X))\n"
     ]
    },
    {
     "ename": "LinAlgError",
     "evalue": "Singular matrix",
     "output_type": "error",
     "traceback": [
      "\u001b[0;31m---------------------------------------------------------------------------\u001b[0m",
      "\u001b[0;31mLinAlgError\u001b[0m                               Traceback (most recent call last)",
      "\u001b[1;32m/Users/amywang/Northwestern/2023Winter/STAT 303-2/Saturn/Amy.ipynb Cell 80\u001b[0m in \u001b[0;36m<cell line: 1>\u001b[0;34m()\u001b[0m\n\u001b[0;32m----> <a href='vscode-notebook-cell:/Users/amywang/Northwestern/2023Winter/STAT%20303-2/Saturn/Amy.ipynb#Y461sZmlsZQ%3D%3D?line=0'>1</a>\u001b[0m discharge_model \u001b[39m=\u001b[39m sm\u001b[39m.\u001b[39;49mlogit(formula \u001b[39m=\u001b[39;49m form, data \u001b[39m=\u001b[39;49m train1_dummy)\u001b[39m.\u001b[39;49mfit() \n\u001b[1;32m      <a href='vscode-notebook-cell:/Users/amywang/Northwestern/2023Winter/STAT%20303-2/Saturn/Amy.ipynb#Y461sZmlsZQ%3D%3D?line=1'>2</a>\u001b[0m discharge_model\u001b[39m.\u001b[39msummary()\n",
      "File \u001b[0;32m~/opt/anaconda3/lib/python3.9/site-packages/statsmodels/discrete/discrete_model.py:1983\u001b[0m, in \u001b[0;36mLogit.fit\u001b[0;34m(self, start_params, method, maxiter, full_output, disp, callback, **kwargs)\u001b[0m\n\u001b[1;32m   1980\u001b[0m \u001b[39m@Appender\u001b[39m(DiscreteModel\u001b[39m.\u001b[39mfit\u001b[39m.\u001b[39m\u001b[39m__doc__\u001b[39m)\n\u001b[1;32m   1981\u001b[0m \u001b[39mdef\u001b[39;00m \u001b[39mfit\u001b[39m(\u001b[39mself\u001b[39m, start_params\u001b[39m=\u001b[39m\u001b[39mNone\u001b[39;00m, method\u001b[39m=\u001b[39m\u001b[39m'\u001b[39m\u001b[39mnewton\u001b[39m\u001b[39m'\u001b[39m, maxiter\u001b[39m=\u001b[39m\u001b[39m35\u001b[39m,\n\u001b[1;32m   1982\u001b[0m         full_output\u001b[39m=\u001b[39m\u001b[39m1\u001b[39m, disp\u001b[39m=\u001b[39m\u001b[39m1\u001b[39m, callback\u001b[39m=\u001b[39m\u001b[39mNone\u001b[39;00m, \u001b[39m*\u001b[39m\u001b[39m*\u001b[39mkwargs):\n\u001b[0;32m-> 1983\u001b[0m     bnryfit \u001b[39m=\u001b[39m \u001b[39msuper\u001b[39;49m()\u001b[39m.\u001b[39;49mfit(start_params\u001b[39m=\u001b[39;49mstart_params,\n\u001b[1;32m   1984\u001b[0m                           method\u001b[39m=\u001b[39;49mmethod,\n\u001b[1;32m   1985\u001b[0m                           maxiter\u001b[39m=\u001b[39;49mmaxiter,\n\u001b[1;32m   1986\u001b[0m                           full_output\u001b[39m=\u001b[39;49mfull_output,\n\u001b[1;32m   1987\u001b[0m                           disp\u001b[39m=\u001b[39;49mdisp,\n\u001b[1;32m   1988\u001b[0m                           callback\u001b[39m=\u001b[39;49mcallback,\n\u001b[1;32m   1989\u001b[0m                           \u001b[39m*\u001b[39;49m\u001b[39m*\u001b[39;49mkwargs)\n\u001b[1;32m   1991\u001b[0m     discretefit \u001b[39m=\u001b[39m LogitResults(\u001b[39mself\u001b[39m, bnryfit)\n\u001b[1;32m   1992\u001b[0m     \u001b[39mreturn\u001b[39;00m BinaryResultsWrapper(discretefit)\n",
      "File \u001b[0;32m~/opt/anaconda3/lib/python3.9/site-packages/statsmodels/discrete/discrete_model.py:230\u001b[0m, in \u001b[0;36mDiscreteModel.fit\u001b[0;34m(self, start_params, method, maxiter, full_output, disp, callback, **kwargs)\u001b[0m\n\u001b[1;32m    227\u001b[0m \u001b[39melse\u001b[39;00m:\n\u001b[1;32m    228\u001b[0m     \u001b[39mpass\u001b[39;00m  \u001b[39m# TODO: make a function factory to have multiple call-backs\u001b[39;00m\n\u001b[0;32m--> 230\u001b[0m mlefit \u001b[39m=\u001b[39m \u001b[39msuper\u001b[39;49m()\u001b[39m.\u001b[39;49mfit(start_params\u001b[39m=\u001b[39;49mstart_params,\n\u001b[1;32m    231\u001b[0m                      method\u001b[39m=\u001b[39;49mmethod,\n\u001b[1;32m    232\u001b[0m                      maxiter\u001b[39m=\u001b[39;49mmaxiter,\n\u001b[1;32m    233\u001b[0m                      full_output\u001b[39m=\u001b[39;49mfull_output,\n\u001b[1;32m    234\u001b[0m                      disp\u001b[39m=\u001b[39;49mdisp,\n\u001b[1;32m    235\u001b[0m                      callback\u001b[39m=\u001b[39;49mcallback,\n\u001b[1;32m    236\u001b[0m                      \u001b[39m*\u001b[39;49m\u001b[39m*\u001b[39;49mkwargs)\n\u001b[1;32m    238\u001b[0m \u001b[39mreturn\u001b[39;00m mlefit\n",
      "File \u001b[0;32m~/opt/anaconda3/lib/python3.9/site-packages/statsmodels/base/model.py:579\u001b[0m, in \u001b[0;36mLikelihoodModel.fit\u001b[0;34m(self, start_params, method, maxiter, full_output, disp, fargs, callback, retall, skip_hessian, **kwargs)\u001b[0m\n\u001b[1;32m    577\u001b[0m     Hinv \u001b[39m=\u001b[39m cov_params_func(\u001b[39mself\u001b[39m, xopt, retvals)\n\u001b[1;32m    578\u001b[0m \u001b[39melif\u001b[39;00m method \u001b[39m==\u001b[39m \u001b[39m'\u001b[39m\u001b[39mnewton\u001b[39m\u001b[39m'\u001b[39m \u001b[39mand\u001b[39;00m full_output:\n\u001b[0;32m--> 579\u001b[0m     Hinv \u001b[39m=\u001b[39m np\u001b[39m.\u001b[39;49mlinalg\u001b[39m.\u001b[39;49minv(\u001b[39m-\u001b[39;49mretvals[\u001b[39m'\u001b[39;49m\u001b[39mHessian\u001b[39;49m\u001b[39m'\u001b[39;49m]) \u001b[39m/\u001b[39m nobs\n\u001b[1;32m    580\u001b[0m \u001b[39melif\u001b[39;00m \u001b[39mnot\u001b[39;00m skip_hessian:\n\u001b[1;32m    581\u001b[0m     H \u001b[39m=\u001b[39m \u001b[39m-\u001b[39m\u001b[39m1\u001b[39m \u001b[39m*\u001b[39m \u001b[39mself\u001b[39m\u001b[39m.\u001b[39mhessian(xopt)\n",
      "File \u001b[0;32m<__array_function__ internals>:5\u001b[0m, in \u001b[0;36minv\u001b[0;34m(*args, **kwargs)\u001b[0m\n",
      "File \u001b[0;32m~/opt/anaconda3/lib/python3.9/site-packages/numpy/linalg/linalg.py:545\u001b[0m, in \u001b[0;36minv\u001b[0;34m(a)\u001b[0m\n\u001b[1;32m    543\u001b[0m signature \u001b[39m=\u001b[39m \u001b[39m'\u001b[39m\u001b[39mD->D\u001b[39m\u001b[39m'\u001b[39m \u001b[39mif\u001b[39;00m isComplexType(t) \u001b[39melse\u001b[39;00m \u001b[39m'\u001b[39m\u001b[39md->d\u001b[39m\u001b[39m'\u001b[39m\n\u001b[1;32m    544\u001b[0m extobj \u001b[39m=\u001b[39m get_linalg_error_extobj(_raise_linalgerror_singular)\n\u001b[0;32m--> 545\u001b[0m ainv \u001b[39m=\u001b[39m _umath_linalg\u001b[39m.\u001b[39;49minv(a, signature\u001b[39m=\u001b[39;49msignature, extobj\u001b[39m=\u001b[39;49mextobj)\n\u001b[1;32m    546\u001b[0m \u001b[39mreturn\u001b[39;00m wrap(ainv\u001b[39m.\u001b[39mastype(result_t, copy\u001b[39m=\u001b[39m\u001b[39mFalse\u001b[39;00m))\n",
      "File \u001b[0;32m~/opt/anaconda3/lib/python3.9/site-packages/numpy/linalg/linalg.py:88\u001b[0m, in \u001b[0;36m_raise_linalgerror_singular\u001b[0;34m(err, flag)\u001b[0m\n\u001b[1;32m     87\u001b[0m \u001b[39mdef\u001b[39;00m \u001b[39m_raise_linalgerror_singular\u001b[39m(err, flag):\n\u001b[0;32m---> 88\u001b[0m     \u001b[39mraise\u001b[39;00m LinAlgError(\u001b[39m\"\u001b[39m\u001b[39mSingular matrix\u001b[39m\u001b[39m\"\u001b[39m)\n",
      "\u001b[0;31mLinAlgError\u001b[0m: Singular matrix"
     ]
    }
   ],
   "source": [
    "discharge_model = sm.logit(formula = form, data = train1_dummy).fit() \n",
    "discharge_model.summary()"
   ]
  },
  {
   "cell_type": "code",
   "execution_count": 200,
   "metadata": {},
   "outputs": [
    {
     "name": "stdout",
     "output_type": "stream",
     "text": [
      "Classification accuracy = 57.7%\n",
      "Precision = 65.0%\n",
      "TPR or Recall = 33.6%\n",
      "FNR = 66.4%\n",
      "FPR = 18.1%\n",
      "ROC-AUC = 58.8%\n"
     ]
    },
    {
     "data": {
      "image/png": "[encoded data removed]",
      "text/plain": [
       "<Figure size 432x288 with 2 Axes>"
      ]
     },
     "metadata": {
      "needs_background": "light"
     },
     "output_type": "display_data"
    }
   ],
   "source": [
    "confusion_matrix_data(train1_dummy, train1_dummy.readmitted, discharge_model, cutoff=0.5)"
   ]
  },
  {
   "cell_type": "code",
   "execution_count": 201,
   "metadata": {},
   "outputs": [
    {
     "ename": "PatsyError",
     "evalue": "predict requires that you use a DataFrame when predicting from a model\nthat was created using the formula api.\n\nThe original error message returned by patsy is:\nError evaluating factor: NameError: name 'discharge_disposition_id27' is not defined\n    readmitted ~ discharge_disposition_id1 + discharge_disposition_id2 + discharge_disposition_id7 + discharge_disposition_id10 + discharge_disposition_id11 + discharge_disposition_id18 + discharge_disposition_id27 + discharge_disposition_id28\n                                                                                                                                                                                            ^^^^^^^^^^^^^^^^^^^^^^^^^^",
     "output_type": "error",
     "traceback": [
      "\u001b[0;31m---------------------------------------------------------------------------\u001b[0m",
      "\u001b[0;31mNameError\u001b[0m                                 Traceback (most recent call last)",
      "File \u001b[0;32m~/opt/anaconda3/lib/python3.9/site-packages/patsy/compat.py:36\u001b[0m, in \u001b[0;36mcall_and_wrap_exc\u001b[0;34m(msg, origin, f, *args, **kwargs)\u001b[0m\n\u001b[1;32m     35\u001b[0m \u001b[39mtry\u001b[39;00m:\n\u001b[0;32m---> 36\u001b[0m     \u001b[39mreturn\u001b[39;00m f(\u001b[39m*\u001b[39;49margs, \u001b[39m*\u001b[39;49m\u001b[39m*\u001b[39;49mkwargs)\n\u001b[1;32m     37\u001b[0m \u001b[39mexcept\u001b[39;00m \u001b[39mException\u001b[39;00m \u001b[39mas\u001b[39;00m e:\n",
      "File \u001b[0;32m~/opt/anaconda3/lib/python3.9/site-packages/patsy/eval.py:165\u001b[0m, in \u001b[0;36mEvalEnvironment.eval\u001b[0;34m(self, expr, source_name, inner_namespace)\u001b[0m\n\u001b[1;32m    164\u001b[0m code \u001b[39m=\u001b[39m \u001b[39mcompile\u001b[39m(expr, source_name, \u001b[39m\"\u001b[39m\u001b[39meval\u001b[39m\u001b[39m\"\u001b[39m, \u001b[39mself\u001b[39m\u001b[39m.\u001b[39mflags, \u001b[39mFalse\u001b[39;00m)\n\u001b[0;32m--> 165\u001b[0m \u001b[39mreturn\u001b[39;00m \u001b[39meval\u001b[39;49m(code, {}, VarLookupDict([inner_namespace]\n\u001b[1;32m    166\u001b[0m                                     \u001b[39m+\u001b[39;49m \u001b[39mself\u001b[39;49m\u001b[39m.\u001b[39;49m_namespaces))\n",
      "File \u001b[0;32m<string>:1\u001b[0m, in \u001b[0;36m<module>\u001b[0;34m\u001b[0m\n",
      "\u001b[0;31mNameError\u001b[0m: name 'discharge_disposition_id27' is not defined",
      "\nThe above exception was the direct cause of the following exception:\n",
      "\u001b[0;31mPatsyError\u001b[0m                                Traceback (most recent call last)",
      "File \u001b[0;32m~/opt/anaconda3/lib/python3.9/site-packages/statsmodels/base/model.py:1137\u001b[0m, in \u001b[0;36mResults.predict\u001b[0;34m(self, exog, transform, *args, **kwargs)\u001b[0m\n\u001b[1;32m   1136\u001b[0m \u001b[39mtry\u001b[39;00m:\n\u001b[0;32m-> 1137\u001b[0m     exog \u001b[39m=\u001b[39m dmatrix(design_info, exog, return_type\u001b[39m=\u001b[39;49m\u001b[39m\"\u001b[39;49m\u001b[39mdataframe\u001b[39;49m\u001b[39m\"\u001b[39;49m)\n\u001b[1;32m   1138\u001b[0m \u001b[39mexcept\u001b[39;00m \u001b[39mException\u001b[39;00m \u001b[39mas\u001b[39;00m exc:\n",
      "File \u001b[0;32m~/opt/anaconda3/lib/python3.9/site-packages/patsy/highlevel.py:290\u001b[0m, in \u001b[0;36mdmatrix\u001b[0;34m(formula_like, data, eval_env, NA_action, return_type)\u001b[0m\n\u001b[1;32m    289\u001b[0m eval_env \u001b[39m=\u001b[39m EvalEnvironment\u001b[39m.\u001b[39mcapture(eval_env, reference\u001b[39m=\u001b[39m\u001b[39m1\u001b[39m)\n\u001b[0;32m--> 290\u001b[0m (lhs, rhs) \u001b[39m=\u001b[39m _do_highlevel_design(formula_like, data, eval_env,\n\u001b[1;32m    291\u001b[0m                                   NA_action, return_type)\n\u001b[1;32m    292\u001b[0m \u001b[39mif\u001b[39;00m lhs\u001b[39m.\u001b[39mshape[\u001b[39m1\u001b[39m] \u001b[39m!=\u001b[39m \u001b[39m0\u001b[39m:\n",
      "File \u001b[0;32m~/opt/anaconda3/lib/python3.9/site-packages/patsy/highlevel.py:167\u001b[0m, in \u001b[0;36m_do_highlevel_design\u001b[0;34m(formula_like, data, eval_env, NA_action, return_type)\u001b[0m\n\u001b[1;32m    166\u001b[0m \u001b[39mif\u001b[39;00m design_infos \u001b[39mis\u001b[39;00m \u001b[39mnot\u001b[39;00m \u001b[39mNone\u001b[39;00m:\n\u001b[0;32m--> 167\u001b[0m     \u001b[39mreturn\u001b[39;00m build_design_matrices(design_infos, data,\n\u001b[1;32m    168\u001b[0m                                  NA_action\u001b[39m=\u001b[39;49mNA_action,\n\u001b[1;32m    169\u001b[0m                                  return_type\u001b[39m=\u001b[39;49mreturn_type)\n\u001b[1;32m    170\u001b[0m \u001b[39melse\u001b[39;00m:\n\u001b[1;32m    171\u001b[0m     \u001b[39m# No builders, but maybe we can still get matrices\u001b[39;00m\n",
      "File \u001b[0;32m~/opt/anaconda3/lib/python3.9/site-packages/patsy/build.py:888\u001b[0m, in \u001b[0;36mbuild_design_matrices\u001b[0;34m(design_infos, data, NA_action, return_type, dtype)\u001b[0m\n\u001b[1;32m    887\u001b[0m \u001b[39mif\u001b[39;00m factor_info \u001b[39mnot\u001b[39;00m \u001b[39min\u001b[39;00m factor_info_to_values:\n\u001b[0;32m--> 888\u001b[0m     value, is_NA \u001b[39m=\u001b[39m _eval_factor(factor_info, data, NA_action)\n\u001b[1;32m    889\u001b[0m     factor_info_to_isNAs[factor_info] \u001b[39m=\u001b[39m is_NA\n",
      "File \u001b[0;32m~/opt/anaconda3/lib/python3.9/site-packages/patsy/build.py:63\u001b[0m, in \u001b[0;36m_eval_factor\u001b[0;34m(factor_info, data, NA_action)\u001b[0m\n\u001b[1;32m     62\u001b[0m factor \u001b[39m=\u001b[39m factor_info\u001b[39m.\u001b[39mfactor\n\u001b[0;32m---> 63\u001b[0m result \u001b[39m=\u001b[39m factor\u001b[39m.\u001b[39;49meval(factor_info\u001b[39m.\u001b[39;49mstate, data)\n\u001b[1;32m     64\u001b[0m \u001b[39m# Returns either a 2d ndarray, or a DataFrame, plus is_NA mask\u001b[39;00m\n",
      "File \u001b[0;32m~/opt/anaconda3/lib/python3.9/site-packages/patsy/eval.py:564\u001b[0m, in \u001b[0;36mEvalFactor.eval\u001b[0;34m(self, memorize_state, data)\u001b[0m\n\u001b[1;32m    563\u001b[0m \u001b[39mdef\u001b[39;00m \u001b[39meval\u001b[39m(\u001b[39mself\u001b[39m, memorize_state, data):\n\u001b[0;32m--> 564\u001b[0m     \u001b[39mreturn\u001b[39;00m \u001b[39mself\u001b[39;49m\u001b[39m.\u001b[39;49m_eval(memorize_state[\u001b[39m\"\u001b[39;49m\u001b[39meval_code\u001b[39;49m\u001b[39m\"\u001b[39;49m],\n\u001b[1;32m    565\u001b[0m                       memorize_state,\n\u001b[1;32m    566\u001b[0m                       data)\n",
      "File \u001b[0;32m~/opt/anaconda3/lib/python3.9/site-packages/patsy/eval.py:547\u001b[0m, in \u001b[0;36mEvalFactor._eval\u001b[0;34m(self, code, memorize_state, data)\u001b[0m\n\u001b[1;32m    546\u001b[0m inner_namespace \u001b[39m=\u001b[39m VarLookupDict([data, memorize_state[\u001b[39m\"\u001b[39m\u001b[39mtransforms\u001b[39m\u001b[39m\"\u001b[39m]])\n\u001b[0;32m--> 547\u001b[0m \u001b[39mreturn\u001b[39;00m call_and_wrap_exc(\u001b[39m\"\u001b[39;49m\u001b[39mError evaluating factor\u001b[39;49m\u001b[39m\"\u001b[39;49m,\n\u001b[1;32m    548\u001b[0m                          \u001b[39mself\u001b[39;49m,\n\u001b[1;32m    549\u001b[0m                          memorize_state[\u001b[39m\"\u001b[39;49m\u001b[39meval_env\u001b[39;49m\u001b[39m\"\u001b[39;49m]\u001b[39m.\u001b[39;49meval,\n\u001b[1;32m    550\u001b[0m                          code,\n\u001b[1;32m    551\u001b[0m                          inner_namespace\u001b[39m=\u001b[39;49minner_namespace)\n",
      "File \u001b[0;32m~/opt/anaconda3/lib/python3.9/site-packages/patsy/compat.py:43\u001b[0m, in \u001b[0;36mcall_and_wrap_exc\u001b[0;34m(msg, origin, f, *args, **kwargs)\u001b[0m\n\u001b[1;32m     42\u001b[0m     \u001b[39m# Use 'exec' to hide this syntax from the Python 2 parser:\u001b[39;00m\n\u001b[0;32m---> 43\u001b[0m     exec(\u001b[39m\"\u001b[39;49m\u001b[39mraise new_exc from e\u001b[39;49m\u001b[39m\"\u001b[39;49m)\n\u001b[1;32m     44\u001b[0m \u001b[39melse\u001b[39;00m:\n\u001b[1;32m     45\u001b[0m     \u001b[39m# In python 2, we just let the original exception escape -- better\u001b[39;00m\n\u001b[1;32m     46\u001b[0m     \u001b[39m# than destroying the traceback. But if it's a PatsyError, we can\u001b[39;00m\n\u001b[1;32m     47\u001b[0m     \u001b[39m# at least set the origin properly.\u001b[39;00m\n",
      "File \u001b[0;32m<string>:1\u001b[0m, in \u001b[0;36m<module>\u001b[0;34m\u001b[0m\n",
      "\u001b[0;31mPatsyError\u001b[0m: Error evaluating factor: NameError: name 'discharge_disposition_id27' is not defined\n    readmitted ~ discharge_disposition_id1 + discharge_disposition_id2 + discharge_disposition_id7 + discharge_disposition_id10 + discharge_disposition_id11 + discharge_disposition_id18 + discharge_disposition_id27 + discharge_disposition_id28\n                                                                                                                                                                                            ^^^^^^^^^^^^^^^^^^^^^^^^^^",
      "\nDuring handling of the above exception, another exception occurred:\n",
      "\u001b[0;31mPatsyError\u001b[0m                                Traceback (most recent call last)",
      "\u001b[1;32m/Users/amywang/Northwestern/2023Winter/STAT 303-2/Saturn/Amy.ipynb Cell 78\u001b[0m in \u001b[0;36m<cell line: 1>\u001b[0;34m()\u001b[0m\n\u001b[0;32m----> <a href='vscode-notebook-cell:/Users/amywang/Northwestern/2023Winter/STAT%20303-2/Saturn/Amy.ipynb#Y440sZmlsZQ%3D%3D?line=0'>1</a>\u001b[0m confusion_matrix_data(test_dummy, test_dummy\u001b[39m.\u001b[39;49mreadmitted, discharge_model, cutoff\u001b[39m=\u001b[39;49m\u001b[39m0.5\u001b[39;49m)\n",
      "\u001b[1;32m/Users/amywang/Northwestern/2023Winter/STAT 303-2/Saturn/Amy.ipynb Cell 78\u001b[0m in \u001b[0;36mconfusion_matrix_data\u001b[0;34m(data, actual_values, model, cutoff)\u001b[0m\n\u001b[1;32m      <a href='vscode-notebook-cell:/Users/amywang/Northwestern/2023Winter/STAT%20303-2/Saturn/Amy.ipynb#Y440sZmlsZQ%3D%3D?line=3'>4</a>\u001b[0m \u001b[39mdef\u001b[39;00m \u001b[39mconfusion_matrix_data\u001b[39m(data,actual_values,model,cutoff\u001b[39m=\u001b[39m\u001b[39m0.5\u001b[39m):\n\u001b[1;32m      <a href='vscode-notebook-cell:/Users/amywang/Northwestern/2023Winter/STAT%20303-2/Saturn/Amy.ipynb#Y440sZmlsZQ%3D%3D?line=4'>5</a>\u001b[0m \u001b[39m#Predict the values using the Logit model\u001b[39;00m\n\u001b[0;32m----> <a href='vscode-notebook-cell:/Users/amywang/Northwestern/2023Winter/STAT%20303-2/Saturn/Amy.ipynb#Y440sZmlsZQ%3D%3D?line=5'>6</a>\u001b[0m     pred_values \u001b[39m=\u001b[39m model\u001b[39m.\u001b[39;49mpredict(data)\n\u001b[1;32m      <a href='vscode-notebook-cell:/Users/amywang/Northwestern/2023Winter/STAT%20303-2/Saturn/Amy.ipynb#Y440sZmlsZQ%3D%3D?line=6'>7</a>\u001b[0m \u001b[39m# Specify the bins\u001b[39;00m\n\u001b[1;32m      <a href='vscode-notebook-cell:/Users/amywang/Northwestern/2023Winter/STAT%20303-2/Saturn/Amy.ipynb#Y440sZmlsZQ%3D%3D?line=7'>8</a>\u001b[0m     bins\u001b[39m=\u001b[39mnp\u001b[39m.\u001b[39marray([\u001b[39m0\u001b[39m,cutoff,\u001b[39m1\u001b[39m])\n",
      "File \u001b[0;32m~/opt/anaconda3/lib/python3.9/site-packages/statsmodels/base/model.py:1144\u001b[0m, in \u001b[0;36mResults.predict\u001b[0;34m(self, exog, transform, *args, **kwargs)\u001b[0m\n\u001b[1;32m   1138\u001b[0m \u001b[39mexcept\u001b[39;00m \u001b[39mException\u001b[39;00m \u001b[39mas\u001b[39;00m exc:\n\u001b[1;32m   1139\u001b[0m     msg \u001b[39m=\u001b[39m (\u001b[39m'\u001b[39m\u001b[39mpredict requires that you use a DataFrame when \u001b[39m\u001b[39m'\u001b[39m\n\u001b[1;32m   1140\u001b[0m            \u001b[39m'\u001b[39m\u001b[39mpredicting from a model\u001b[39m\u001b[39m\\n\u001b[39;00m\u001b[39mthat was created using the \u001b[39m\u001b[39m'\u001b[39m\n\u001b[1;32m   1141\u001b[0m            \u001b[39m'\u001b[39m\u001b[39mformula api.\u001b[39m\u001b[39m'\u001b[39m\n\u001b[1;32m   1142\u001b[0m            \u001b[39m'\u001b[39m\u001b[39m\\n\u001b[39;00m\u001b[39m\\n\u001b[39;00m\u001b[39mThe original error message returned by patsy is:\u001b[39m\u001b[39m\\n\u001b[39;00m\u001b[39m'\u001b[39m\n\u001b[1;32m   1143\u001b[0m            \u001b[39m'\u001b[39m\u001b[39m{0}\u001b[39;00m\u001b[39m'\u001b[39m\u001b[39m.\u001b[39mformat(\u001b[39mstr\u001b[39m(\u001b[39mstr\u001b[39m(exc))))\n\u001b[0;32m-> 1144\u001b[0m     \u001b[39mraise\u001b[39;00m exc\u001b[39m.\u001b[39m\u001b[39m__class__\u001b[39m(msg)\n\u001b[1;32m   1145\u001b[0m \u001b[39mif\u001b[39;00m orig_exog_len \u001b[39m>\u001b[39m \u001b[39mlen\u001b[39m(exog) \u001b[39mand\u001b[39;00m \u001b[39mnot\u001b[39;00m is_dict:\n\u001b[1;32m   1146\u001b[0m     \u001b[39mif\u001b[39;00m exog_index \u001b[39mis\u001b[39;00m \u001b[39mNone\u001b[39;00m:\n",
      "\u001b[0;31mPatsyError\u001b[0m: predict requires that you use a DataFrame when predicting from a model\nthat was created using the formula api.\n\nThe original error message returned by patsy is:\nError evaluating factor: NameError: name 'discharge_disposition_id27' is not defined\n    readmitted ~ discharge_disposition_id1 + discharge_disposition_id2 + discharge_disposition_id7 + discharge_disposition_id10 + discharge_disposition_id11 + discharge_disposition_id18 + discharge_disposition_id27 + discharge_disposition_id28\n                                                                                                                                                                                            ^^^^^^^^^^^^^^^^^^^^^^^^^^"
     ]
    }
   ],
   "source": [
    "confusion_matrix_data(test_dummy, test_dummy.readmitted, discharge_model, cutoff=0.5)"
   ]
  },
  {
   "attachments": {},
   "cell_type": "markdown",
   "metadata": {},
   "source": [
    "Model 4.1: making `admission_source_id` its own predictor"
   ]
  },
  {
   "cell_type": "code",
   "execution_count": 202,
   "metadata": {},
   "outputs": [
    {
     "data": {
      "text/plain": [
       "'readmitted ~ admission_source_id1 + admission_source_id4 + admission_source_id7 + admission_source_id8 + admission_source_id9'"
      ]
     },
     "execution_count": 202,
     "metadata": {},
     "output_type": "execute_result"
    }
   ],
   "source": [
    "form = 'readmitted ~ ' + ' + '.join(vars[4])\n",
    "form"
   ]
  },
  {
   "cell_type": "code",
   "execution_count": 204,
   "metadata": {},
   "outputs": [
    {
     "name": "stdout",
     "output_type": "stream",
     "text": [
      "Warning: Maximum number of iterations has been exceeded.\n",
      "         Current function value: 0.692905\n",
      "         Iterations: 35\n"
     ]
    },
    {
     "name": "stderr",
     "output_type": "stream",
     "text": [
      "/Users/amywang/opt/anaconda3/lib/python3.9/site-packages/statsmodels/base/model.py:604: ConvergenceWarning: Maximum Likelihood optimization failed to converge. Check mle_retvals\n",
      "  warnings.warn(\"Maximum Likelihood optimization failed to \"\n"
     ]
    },
    {
     "data": {
      "text/html": [
       "<table class=\"simpletable\">\n",
       "<caption>Logit Regression Results</caption>\n",
       "<tr>\n",
       "  <th>Dep. Variable:</th>      <td>readmitted</td>    <th>  No. Observations:  </th>  <td> 12586</td>  \n",
       "</tr>\n",
       "<tr>\n",
       "  <th>Model:</th>                 <td>Logit</td>      <th>  Df Residuals:      </th>  <td> 12580</td>  \n",
       "</tr>\n",
       "<tr>\n",
       "  <th>Method:</th>                 <td>MLE</td>       <th>  Df Model:          </th>  <td>     5</td>  \n",
       "</tr>\n",
       "<tr>\n",
       "  <th>Date:</th>            <td>Fri, 24 Feb 2023</td> <th>  Pseudo R-squ.:     </th> <td>0.0003498</td>\n",
       "</tr>\n",
       "<tr>\n",
       "  <th>Time:</th>                <td>02:12:20</td>     <th>  Log-Likelihood:    </th> <td> -8720.9</td> \n",
       "</tr>\n",
       "<tr>\n",
       "  <th>converged:</th>             <td>False</td>      <th>  LL-Null:           </th> <td> -8724.0</td> \n",
       "</tr>\n",
       "<tr>\n",
       "  <th>Covariance Type:</th>     <td>nonrobust</td>    <th>  LLR p-value:       </th>  <td>0.2963</td>  \n",
       "</tr>\n",
       "</table>\n",
       "<table class=\"simpletable\">\n",
       "<tr>\n",
       "            <td></td>              <th>coef</th>     <th>std err</th>      <th>z</th>      <th>P>|z|</th>  <th>[0.025</th>    <th>0.975]</th>  \n",
       "</tr>\n",
       "<tr>\n",
       "  <th>Intercept</th>            <td>    3.7665</td> <td> 8.36e+05</td> <td> 4.51e-06</td> <td> 1.000</td> <td>-1.64e+06</td> <td> 1.64e+06</td>\n",
       "</tr>\n",
       "<tr>\n",
       "  <th>admission_source_id1</th> <td>   -3.7790</td> <td> 8.36e+05</td> <td>-4.52e-06</td> <td> 1.000</td> <td>-1.64e+06</td> <td> 1.64e+06</td>\n",
       "</tr>\n",
       "<tr>\n",
       "  <th>admission_source_id4</th> <td>   -3.8951</td> <td> 8.36e+05</td> <td>-4.66e-06</td> <td> 1.000</td> <td>-1.64e+06</td> <td> 1.64e+06</td>\n",
       "</tr>\n",
       "<tr>\n",
       "  <th>admission_source_id7</th> <td>   -3.7428</td> <td> 8.36e+05</td> <td>-4.48e-06</td> <td> 1.000</td> <td>-1.64e+06</td> <td> 1.64e+06</td>\n",
       "</tr>\n",
       "<tr>\n",
       "  <th>admission_source_id8</th> <td>   18.9520</td> <td>  8.4e+05</td> <td> 2.26e-05</td> <td> 1.000</td> <td>-1.65e+06</td> <td> 1.65e+06</td>\n",
       "</tr>\n",
       "<tr>\n",
       "  <th>admission_source_id9</th> <td>   -3.7687</td> <td> 8.36e+05</td> <td>-4.51e-06</td> <td> 1.000</td> <td>-1.64e+06</td> <td> 1.64e+06</td>\n",
       "</tr>\n",
       "</table>"
      ],
      "text/plain": [
       "<class 'statsmodels.iolib.summary.Summary'>\n",
       "\"\"\"\n",
       "                           Logit Regression Results                           \n",
       "==============================================================================\n",
       "Dep. Variable:             readmitted   No. Observations:                12586\n",
       "Model:                          Logit   Df Residuals:                    12580\n",
       "Method:                           MLE   Df Model:                            5\n",
       "Date:                Fri, 24 Feb 2023   Pseudo R-squ.:               0.0003498\n",
       "Time:                        02:12:20   Log-Likelihood:                -8720.9\n",
       "converged:                      False   LL-Null:                       -8724.0\n",
       "Covariance Type:            nonrobust   LLR p-value:                    0.2963\n",
       "========================================================================================\n",
       "                           coef    std err          z      P>|z|      [0.025      0.975]\n",
       "----------------------------------------------------------------------------------------\n",
       "Intercept                3.7665   8.36e+05   4.51e-06      1.000   -1.64e+06    1.64e+06\n",
       "admission_source_id1    -3.7790   8.36e+05  -4.52e-06      1.000   -1.64e+06    1.64e+06\n",
       "admission_source_id4    -3.8951   8.36e+05  -4.66e-06      1.000   -1.64e+06    1.64e+06\n",
       "admission_source_id7    -3.7428   8.36e+05  -4.48e-06      1.000   -1.64e+06    1.64e+06\n",
       "admission_source_id8    18.9520    8.4e+05   2.26e-05      1.000   -1.65e+06    1.65e+06\n",
       "admission_source_id9    -3.7687   8.36e+05  -4.51e-06      1.000   -1.64e+06    1.64e+06\n",
       "========================================================================================\n",
       "\"\"\""
      ]
     },
     "execution_count": 204,
     "metadata": {},
     "output_type": "execute_result"
    }
   ],
   "source": [
    "admission_model = sm.logit(formula = form, data = train1_dummy).fit() \n",
    "admission_model.summary()"
   ]
  },
  {
   "cell_type": "code",
   "execution_count": 205,
   "metadata": {},
   "outputs": [
    {
     "name": "stdout",
     "output_type": "stream",
     "text": [
      "Classification accuracy = 50.7%\n",
      "Precision = 50.6%\n",
      "TPR or Recall = 54.9%\n",
      "FNR = 45.1%\n",
      "FPR = 53.6%\n",
      "ROC-AUC = 50.8%\n"
     ]
    },
    {
     "data": {
      "image/png": "[encoded data removed]",
      "text/plain": [
       "<Figure size 432x288 with 2 Axes>"
      ]
     },
     "metadata": {
      "needs_background": "light"
     },
     "output_type": "display_data"
    }
   ],
   "source": [
    "confusion_matrix_data(train1_dummy, train1_dummy.readmitted, admission_model, cutoff=0.5)"
   ]
  },
  {
   "cell_type": "code",
   "execution_count": 206,
   "metadata": {},
   "outputs": [
    {
     "name": "stdout",
     "output_type": "stream",
     "text": [
      "Classification accuracy = 47.1%\n",
      "Precision = 9.1%\n",
      "TPR or Recall = 53.3%\n",
      "FNR = 46.7%\n",
      "FPR = 53.5%\n",
      "ROC-AUC = 49.8%\n"
     ]
    },
    {
     "data": {
      "image/png": "[encoded data removed]",
      "text/plain": [
       "<Figure size 432x288 with 2 Axes>"
      ]
     },
     "metadata": {
      "needs_background": "light"
     },
     "output_type": "display_data"
    }
   ],
   "source": [
    "confusion_matrix_data(test_dummy, test_dummy.readmitted, admission_model, cutoff=0.5)"
   ]
  },
  {
   "attachments": {},
   "cell_type": "markdown",
   "metadata": {},
   "source": [
    "Model 4.3: making `admission_type` its own predictor"
   ]
  },
  {
   "cell_type": "code",
   "execution_count": 212,
   "metadata": {},
   "outputs": [
    {
     "data": {
      "text/plain": [
       "'readmitted ~ admission_type_id1 + admission_type_id3 + admission_type_id4 + admission_type_id5'"
      ]
     },
     "execution_count": 212,
     "metadata": {},
     "output_type": "execute_result"
    }
   ],
   "source": [
    "form = 'readmitted ~ ' + ' + '.join(vars[2])\n",
    "form"
   ]
  },
  {
   "cell_type": "code",
   "execution_count": 213,
   "metadata": {},
   "outputs": [
    {
     "name": "stdout",
     "output_type": "stream",
     "text": [
      "Warning: Maximum number of iterations has been exceeded.\n",
      "         Current function value: 0.692940\n",
      "         Iterations: 35\n"
     ]
    },
    {
     "name": "stderr",
     "output_type": "stream",
     "text": [
      "/Users/amywang/opt/anaconda3/lib/python3.9/site-packages/statsmodels/base/model.py:604: ConvergenceWarning: Maximum Likelihood optimization failed to converge. Check mle_retvals\n",
      "  warnings.warn(\"Maximum Likelihood optimization failed to \"\n"
     ]
    },
    {
     "data": {
      "text/html": [
       "<table class=\"simpletable\">\n",
       "<caption>Logit Regression Results</caption>\n",
       "<tr>\n",
       "  <th>Dep. Variable:</th>      <td>readmitted</td>    <th>  No. Observations:  </th>  <td> 12586</td>  \n",
       "</tr>\n",
       "<tr>\n",
       "  <th>Model:</th>                 <td>Logit</td>      <th>  Df Residuals:      </th>  <td> 12581</td>  \n",
       "</tr>\n",
       "<tr>\n",
       "  <th>Method:</th>                 <td>MLE</td>       <th>  Df Model:          </th>  <td>     4</td>  \n",
       "</tr>\n",
       "<tr>\n",
       "  <th>Date:</th>            <td>Fri, 24 Feb 2023</td> <th>  Pseudo R-squ.:     </th> <td>0.0002986</td>\n",
       "</tr>\n",
       "<tr>\n",
       "  <th>Time:</th>                <td>02:13:45</td>     <th>  Log-Likelihood:    </th> <td> -8721.3</td> \n",
       "</tr>\n",
       "<tr>\n",
       "  <th>converged:</th>             <td>False</td>      <th>  LL-Null:           </th> <td> -8724.0</td> \n",
       "</tr>\n",
       "<tr>\n",
       "  <th>Covariance Type:</th>     <td>nonrobust</td>    <th>  LLR p-value:       </th>  <td>0.2665</td>  \n",
       "</tr>\n",
       "</table>\n",
       "<table class=\"simpletable\">\n",
       "<tr>\n",
       "           <td></td>             <th>coef</th>     <th>std err</th>      <th>z</th>      <th>P>|z|</th>  <th>[0.025</th>    <th>0.975]</th>  \n",
       "</tr>\n",
       "<tr>\n",
       "  <th>Intercept</th>          <td>    3.9104</td> <td>      nan</td> <td>      nan</td> <td>   nan</td> <td>      nan</td> <td>      nan</td>\n",
       "</tr>\n",
       "<tr>\n",
       "  <th>admission_type_id1</th> <td>   -3.8993</td> <td>      nan</td> <td>      nan</td> <td>   nan</td> <td>      nan</td> <td>      nan</td>\n",
       "</tr>\n",
       "<tr>\n",
       "  <th>admission_type_id3</th> <td>   -3.9797</td> <td>      nan</td> <td>      nan</td> <td>   nan</td> <td>      nan</td> <td>      nan</td>\n",
       "</tr>\n",
       "<tr>\n",
       "  <th>admission_type_id4</th> <td>   15.6555</td> <td>      nan</td> <td>      nan</td> <td>   nan</td> <td>      nan</td> <td>      nan</td>\n",
       "</tr>\n",
       "<tr>\n",
       "  <th>admission_type_id5</th> <td>   -3.8661</td> <td>      nan</td> <td>      nan</td> <td>   nan</td> <td>      nan</td> <td>      nan</td>\n",
       "</tr>\n",
       "</table>"
      ],
      "text/plain": [
       "<class 'statsmodels.iolib.summary.Summary'>\n",
       "\"\"\"\n",
       "                           Logit Regression Results                           \n",
       "==============================================================================\n",
       "Dep. Variable:             readmitted   No. Observations:                12586\n",
       "Model:                          Logit   Df Residuals:                    12581\n",
       "Method:                           MLE   Df Model:                            4\n",
       "Date:                Fri, 24 Feb 2023   Pseudo R-squ.:               0.0002986\n",
       "Time:                        02:13:45   Log-Likelihood:                -8721.3\n",
       "converged:                      False   LL-Null:                       -8724.0\n",
       "Covariance Type:            nonrobust   LLR p-value:                    0.2665\n",
       "======================================================================================\n",
       "                         coef    std err          z      P>|z|      [0.025      0.975]\n",
       "--------------------------------------------------------------------------------------\n",
       "Intercept              3.9104        nan        nan        nan         nan         nan\n",
       "admission_type_id1    -3.8993        nan        nan        nan         nan         nan\n",
       "admission_type_id3    -3.9797        nan        nan        nan         nan         nan\n",
       "admission_type_id4    15.6555        nan        nan        nan         nan         nan\n",
       "admission_type_id5    -3.8661        nan        nan        nan         nan         nan\n",
       "======================================================================================\n",
       "\"\"\""
      ]
     },
     "execution_count": 213,
     "metadata": {},
     "output_type": "execute_result"
    }
   ],
   "source": [
    "admission_type_model = sm.logit(formula = form, data = train1_dummy).fit() \n",
    "admission_type_model.summary()"
   ]
  },
  {
   "cell_type": "code",
   "execution_count": 214,
   "metadata": {},
   "outputs": [
    {
     "name": "stdout",
     "output_type": "stream",
     "text": [
      "Classification accuracy = 50.7%\n",
      "Precision = 50.4%\n",
      "TPR or Recall = 81.8%\n",
      "FNR = 18.2%\n",
      "FPR = 80.5%\n",
      "ROC-AUC = 50.8%\n"
     ]
    },
    {
     "data": {
      "image/png": "[encoded data removed]",
      "text/plain": [
       "<Figure size 432x288 with 2 Axes>"
      ]
     },
     "metadata": {
      "needs_background": "light"
     },
     "output_type": "display_data"
    }
   ],
   "source": [
    "confusion_matrix_data(train1_dummy, train1_dummy.readmitted, admission_type_model, cutoff=0.5)"
   ]
  },
  {
   "cell_type": "code",
   "execution_count": 215,
   "metadata": {},
   "outputs": [
    {
     "name": "stdout",
     "output_type": "stream",
     "text": [
      "Classification accuracy = 25.5%\n",
      "Precision = 9.2%\n",
      "TPR or Recall = 80.5%\n",
      "FNR = 19.5%\n",
      "FPR = 80.0%\n",
      "ROC-AUC = 50.0%\n"
     ]
    },
    {
     "data": {
      "image/png": "[encoded data removed]",
      "text/plain": [
       "<Figure size 432x288 with 2 Axes>"
      ]
     },
     "metadata": {
      "needs_background": "light"
     },
     "output_type": "display_data"
    }
   ],
   "source": [
    "confusion_matrix_data(test_dummy, test_dummy.readmitted, admission_type_model, cutoff=0.5)"
   ]
  },
  {
   "attachments": {},
   "cell_type": "markdown",
   "metadata": {},
   "source": [
    "### Combine promising predictors from all above models"
   ]
  },
  {
   "attachments": {},
   "cell_type": "markdown",
   "metadata": {},
   "source": [
    "\n",
    "diag_1[T.digestive], diag_1[T.pregnecy], diag_1[T.respiratory]\n",
    "diag_1[T.neoplasms], diag_2[T.neoplasms]\n",
    "\n",
    "all the values of age\n",
    "\n"
   ]
  },
  {
   "cell_type": "code",
   "execution_count": 217,
   "metadata": {},
   "outputs": [],
   "source": [
    "signif_diag = [\"diag_1[T.digestive]\", \"diag_1[T.pregnecy]\", \"diag_1[T.respiratory]\", \"diag_1[T.neoplasms]\", \"diag_2[T.neoplasms]\"]"
   ]
  },
  {
   "cell_type": "code",
   "execution_count": 220,
   "metadata": {},
   "outputs": [
    {
     "data": {
      "text/plain": [
       "'readmitted ~ age5 + age15 + age25 + age35 + age45 + age55 + age65 + age75 + age85 + age95diag_1[T.digestive] + diag_1[T.pregnecy] + diag_1[T.respiratory] + diag_1[T.neoplasms] + diag_2[T.neoplasms]'"
      ]
     },
     "execution_count": 220,
     "metadata": {},
     "output_type": "execute_result"
    }
   ],
   "source": [
    "form = 'readmitted ~ ' + ' + '.join(vars[0]) + ' + '.join(signif_diag)\n",
    "form"
   ]
  },
  {
   "cell_type": "markdown",
   "metadata": {},
   "source": []
  },
  {
   "cell_type": "code",
   "execution_count": null,
   "metadata": {},
   "outputs": [
    {
     "name": "stdout",
     "output_type": "stream",
     "text": [
      "Warning: Maximum number of iterations has been exceeded.\n",
      "         Current function value: 0.692940\n",
      "         Iterations: 35\n"
     ]
    },
    {
     "name": "stderr",
     "output_type": "stream",
     "text": [
      "/Users/amywang/opt/anaconda3/lib/python3.9/site-packages/statsmodels/base/model.py:604: ConvergenceWarning: Maximum Likelihood optimization failed to converge. Check mle_retvals\n",
      "  warnings.warn(\"Maximum Likelihood optimization failed to \"\n"
     ]
    },
    {
     "data": {
      "text/html": [
       "<table class=\"simpletable\">\n",
       "<caption>Logit Regression Results</caption>\n",
       "<tr>\n",
       "  <th>Dep. Variable:</th>      <td>readmitted</td>    <th>  No. Observations:  </th>  <td> 12586</td>  \n",
       "</tr>\n",
       "<tr>\n",
       "  <th>Model:</th>                 <td>Logit</td>      <th>  Df Residuals:      </th>  <td> 12581</td>  \n",
       "</tr>\n",
       "<tr>\n",
       "  <th>Method:</th>                 <td>MLE</td>       <th>  Df Model:          </th>  <td>     4</td>  \n",
       "</tr>\n",
       "<tr>\n",
       "  <th>Date:</th>            <td>Fri, 24 Feb 2023</td> <th>  Pseudo R-squ.:     </th> <td>0.0002986</td>\n",
       "</tr>\n",
       "<tr>\n",
       "  <th>Time:</th>                <td>02:13:45</td>     <th>  Log-Likelihood:    </th> <td> -8721.3</td> \n",
       "</tr>\n",
       "<tr>\n",
       "  <th>converged:</th>             <td>False</td>      <th>  LL-Null:           </th> <td> -8724.0</td> \n",
       "</tr>\n",
       "<tr>\n",
       "  <th>Covariance Type:</th>     <td>nonrobust</td>    <th>  LLR p-value:       </th>  <td>0.2665</td>  \n",
       "</tr>\n",
       "</table>\n",
       "<table class=\"simpletable\">\n",
       "<tr>\n",
       "           <td></td>             <th>coef</th>     <th>std err</th>      <th>z</th>      <th>P>|z|</th>  <th>[0.025</th>    <th>0.975]</th>  \n",
       "</tr>\n",
       "<tr>\n",
       "  <th>Intercept</th>          <td>    3.9104</td> <td>      nan</td> <td>      nan</td> <td>   nan</td> <td>      nan</td> <td>      nan</td>\n",
       "</tr>\n",
       "<tr>\n",
       "  <th>admission_type_id1</th> <td>   -3.8993</td> <td>      nan</td> <td>      nan</td> <td>   nan</td> <td>      nan</td> <td>      nan</td>\n",
       "</tr>\n",
       "<tr>\n",
       "  <th>admission_type_id3</th> <td>   -3.9797</td> <td>      nan</td> <td>      nan</td> <td>   nan</td> <td>      nan</td> <td>      nan</td>\n",
       "</tr>\n",
       "<tr>\n",
       "  <th>admission_type_id4</th> <td>   15.6555</td> <td>      nan</td> <td>      nan</td> <td>   nan</td> <td>      nan</td> <td>      nan</td>\n",
       "</tr>\n",
       "<tr>\n",
       "  <th>admission_type_id5</th> <td>   -3.8661</td> <td>      nan</td> <td>      nan</td> <td>   nan</td> <td>      nan</td> <td>      nan</td>\n",
       "</tr>\n",
       "</table>"
      ],
      "text/plain": [
       "<class 'statsmodels.iolib.summary.Summary'>\n",
       "\"\"\"\n",
       "                           Logit Regression Results                           \n",
       "==============================================================================\n",
       "Dep. Variable:             readmitted   No. Observations:                12586\n",
       "Model:                          Logit   Df Residuals:                    12581\n",
       "Method:                           MLE   Df Model:                            4\n",
       "Date:                Fri, 24 Feb 2023   Pseudo R-squ.:               0.0002986\n",
       "Time:                        02:13:45   Log-Likelihood:                -8721.3\n",
       "converged:                      False   LL-Null:                       -8724.0\n",
       "Covariance Type:            nonrobust   LLR p-value:                    0.2665\n",
       "======================================================================================\n",
       "                         coef    std err          z      P>|z|      [0.025      0.975]\n",
       "--------------------------------------------------------------------------------------\n",
       "Intercept              3.9104        nan        nan        nan         nan         nan\n",
       "admission_type_id1    -3.8993        nan        nan        nan         nan         nan\n",
       "admission_type_id3    -3.9797        nan        nan        nan         nan         nan\n",
       "admission_type_id4    15.6555        nan        nan        nan         nan         nan\n",
       "admission_type_id5    -3.8661        nan        nan        nan         nan         nan\n",
       "======================================================================================\n",
       "\"\"\""
      ]
     },
     "metadata": {},
     "output_type": "display_data"
    }
   ],
   "source": [
    "_model = sm.logit(formula = form, data = train1_dummy).fit() \n",
    "admission_type_model.summary()"
   ]
  },
  {
   "cell_type": "code",
   "execution_count": null,
   "metadata": {},
   "outputs": [
    {
     "name": "stdout",
     "output_type": "stream",
     "text": [
      "Classification accuracy = 50.7%\n",
      "Precision = 50.4%\n",
      "TPR or Recall = 81.8%\n",
      "FNR = 18.2%\n",
      "FPR = 80.5%\n",
      "ROC-AUC = 50.8%\n"
     ]
    },
    {
     "data": {
      "image/png": "[encoded data removed]",
      "text/plain": [
       "<Figure size 432x288 with 2 Axes>"
      ]
     },
     "metadata": {},
     "output_type": "display_data"
    }
   ],
   "source": [
    "confusion_matrix_data(train1_dummy, train1_dummy.readmitted, admission_type_model, cutoff=0.5)"
   ]
  },
  {
   "cell_type": "code",
   "execution_count": null,
   "metadata": {},
   "outputs": [
    {
     "name": "stdout",
     "output_type": "stream",
     "text": [
      "Classification accuracy = 25.5%\n",
      "Precision = 9.2%\n",
      "TPR or Recall = 80.5%\n",
      "FNR = 19.5%\n",
      "FPR = 80.0%\n",
      "ROC-AUC = 50.0%\n"
     ]
    },
    {
     "data": {
      "image/png": "[encoded data removed]",
      "text/plain": [
       "<Figure size 432x288 with 2 Axes>"
      ]
     },
     "metadata": {},
     "output_type": "display_data"
    }
   ],
   "source": [
    "confusion_matrix_data(test_dummy, test_dummy.readmitted, admission_type_model, cutoff=0.5)"
   ]
  },
  {
   "cell_type": "code",
   "execution_count": null,
   "metadata": {},
   "outputs": [],
   "source": []
  }
 ],
 "metadata": {
  "kernelspec": {
   "display_name": "base",
   "language": "python",
   "name": "python3"
  },
  "language_info": {
   "codemirror_mode": {
    "name": "ipython",
    "version": 3
   },
   "file_extension": ".py",
   "mimetype": "text/x-python",
   "name": "python",
   "nbconvert_exporter": "python",
   "pygments_lexer": "ipython3",
   "version": "3.9.12"
  },
  "orig_nbformat": 4,
  "vscode": {
   "interpreter": {
    "hash": "44200ac29b99d68672da01cb17c5cd5c87da5f7d45953e51b866c7f246bda33e"
   }
  }
 },
 "nbformat": 4,
 "nbformat_minor": 2
}
